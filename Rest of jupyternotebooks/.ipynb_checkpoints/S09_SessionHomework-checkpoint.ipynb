{
 "cells": [
  {
   "cell_type": "markdown",
   "id": "864e3c9e",
   "metadata": {},
   "source": [
    "<table border=\"0\" style=\"width:100%\">\n",
    " <tr>\n",
    "    <td>\n",
    "        <img src=\"https://static-frm.ie.edu/university/wp-content/uploads/sites/6/2022/06/IE-University-logo.png\" width=150>\n",
    "     </td>\n",
    "    <td><div style=\"font-family:'Courier New'\">\n",
    "            <div style=\"font-size:25px\">\n",
    "                <div style=\"text-align: right\"> \n",
    "                    <b> MASTER IN BIG DATA</b>\n",
    "                    <br>\n",
    "                    Python for Data Analysis II\n",
    "                    <br><br>\n",
    "                    <em> Daniel Sierra Ramos </em>\n",
    "                </div>\n",
    "            </div>\n",
    "        </div>\n",
    "    </td>\n",
    " </tr>\n",
    "</table>"
   ]
  },
  {
   "attachments": {},
   "cell_type": "markdown",
   "id": "cfa2643d",
   "metadata": {},
   "source": [
    "# **S09: EXERCISES**"
   ]
  },
  {
   "attachments": {},
   "cell_type": "markdown",
   "id": "368e9e9f-ceba-496d-9bb8-e3022c88435a",
   "metadata": {
    "tags": []
   },
   "source": [
    "## Exercise 01\n",
    "\n",
    "Recover the Exercise 01 from Session 07\n",
    "1. Build the model again but now include cross validation in the training process using `KFold` cross validation\n",
    "1. Calculate the precision, recall and f1 for each fold and represent the results in a chart. Use 5 folds.\n",
    "1. Is your model robust? How can you improve it?\n",
    "1. Now train your model with the entire training set and evaluate it with the test set. How does it perform?"
   ]
  }
 ],
 "metadata": {
  "kernelspec": {
   "display_name": "DATASCIENCE (Python 3.8)",
   "language": "python",
   "name": "datascience"
  },
  "orig_nbformat": 4
 },
 "nbformat": 4,
 "nbformat_minor": 2
}
