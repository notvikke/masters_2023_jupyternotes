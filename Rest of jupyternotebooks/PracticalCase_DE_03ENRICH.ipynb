{
 "cells": [
  {
   "cell_type": "code",
   "execution_count": 1,
   "id": "0415cc56-035e-4517-a132-c95feeff8ddf",
   "metadata": {},
   "outputs": [],
   "source": [
    "import os\n",
    "\n",
    "import pandas as pd"
   ]
  },
  {
   "cell_type": "code",
   "execution_count": 2,
   "id": "55a12162-2c6e-46be-9c28-0eb32ecc8198",
   "metadata": {},
   "outputs": [],
   "source": [
    "INPUT_FOLDER = \"preproc\"\n",
    "OUTPUT_FOLDER = \"enrich\""
   ]
  },
  {
   "cell_type": "code",
   "execution_count": 3,
   "id": "b0847d94-6a68-4ed6-bd6b-2f91dcd83815",
   "metadata": {},
   "outputs": [],
   "source": [
    "os.makedirs(\"../data/enrich\", exist_ok=True)"
   ]
  },
  {
   "cell_type": "code",
   "execution_count": 4,
   "id": "f8cc02c4-e145-42a7-9409-019d09454112",
   "metadata": {},
   "outputs": [
    {
     "data": {
      "text/plain": [
       "{'demographics': 'demographics.zip',\n",
       " 'epidemiology': 'epidemiology.zip',\n",
       " 'health': 'health.zip',\n",
       " 'hospitalizations': 'hospitalizations.zip',\n",
       " 'index': 'index.zip',\n",
       " 'vaccinations': 'vaccinations.zip'}"
      ]
     },
     "execution_count": 4,
     "metadata": {},
     "output_type": "execute_result"
    }
   ],
   "source": [
    "datasources = {source.replace(\".zip\",\"\"):source for source in os.listdir(f\"../data/{INPUT_FOLDER}\") if source.endswith(\".zip\")}\n",
    "datasources"
   ]
  },
  {
   "cell_type": "markdown",
   "id": "8a484e8c-134d-4c40-8e7a-92f42e1c2807",
   "metadata": {},
   "source": [
    "## ENRICH\n",
    "\n",
    "This is the most optional part of the whole process. The main goal of this stage is to enrich current data tables from the previous `preproc` stage with any other variable present in other tables that are necessary for the aggregation process in the next satage.\n",
    "\n",
    "In this case, we're going to do just one thing:\n",
    " - **Append the column `Country` to all tables** - Remember that we need to build a predictor per country, so we need that column in order to make later aggregations (in the next step) by country.\n",
    " - **Impute missing values in the demographics using the recetly new acquired `Country` column** - We have a lot of missing values here, so we'll take advantage of the recent `Country` column to apply a smart missing value imputation strategy."
   ]
  },
  {
   "cell_type": "markdown",
   "id": "f327fcbc-bac8-4cad-a478-fc1267acf38d",
   "metadata": {},
   "source": [
    "### Join: Include `country_name` from `index` table in the rest of tables\n",
    "\n",
    "We skip `index` because is the table from which we have to extract the `Country`, and also the `demographics` table, because we're going to apply a special treatment for it"
   ]
  },
  {
   "cell_type": "code",
   "execution_count": 5,
   "id": "d4dee4c2-f073-4cc5-9d04-740ea83f1abd",
   "metadata": {},
   "outputs": [],
   "source": [
    "index = pd.read_csv(f\"../data/{INPUT_FOLDER}/index.zip\")"
   ]
  },
  {
   "cell_type": "code",
   "execution_count": 6,
   "id": "96fa01b8-acb9-472d-aa11-7c6c8869c3d1",
   "metadata": {},
   "outputs": [
    {
     "name": "stdout",
     "output_type": "stream",
     "text": [
      "Table epidemiology processed!\n",
      "Table health processed!\n",
      "Table hospitalizations processed!\n",
      "Table vaccinations processed!\n"
     ]
    }
   ],
   "source": [
    "for key,value in datasources.items():\n",
    "    data = pd.read_csv(f\"../data/{INPUT_FOLDER}/{key}.zip\")\n",
    "    if key not in [\"index\",\"demographics\"]:\n",
    "        data = data.merge(index, on=\"location_key\")\n",
    "        print(f\"Table {key} processed!\")\n",
    "        \n",
    "    data.to_csv(f\"../data/{OUTPUT_FOLDER}/{key}.zip\", index=False)"
   ]
  },
  {
   "cell_type": "markdown",
   "id": "fc559785-fb81-4990-a898-c3909fdaca32",
   "metadata": {},
   "source": [
    "### Missing values: `demographics`\n",
    "\n",
    "We have a lot of missing values here, so we'll take advantage of the recent `Country` column to apply a smart missing value imputation strategy.\n",
    "\n",
    "The imputation strategy will consist on\n",
    " 1. For all regions without missing values, *calculate the proportion of population for every age range, per country*.\n",
    " 2. For all regions with missing values, *extract the total population and append the proportions from the previous step*\n",
    " 3. Impute missing values for each age range by multiplying population in each region by the proportion from step 1."
   ]
  },
  {
   "cell_type": "code",
   "execution_count": 7,
   "id": "29c1a2e2-193c-4b97-9182-409218ea0544",
   "metadata": {},
   "outputs": [
    {
     "name": "stdout",
     "output_type": "stream",
     "text": [
      "<class 'pandas.core.frame.DataFrame'>\n",
      "Int64Index: 5097 entries, 0 to 5096\n",
      "Data columns (total 12 columns):\n",
      " #   Column                       Non-Null Count  Dtype  \n",
      "---  ------                       --------------  -----  \n",
      " 0   location_key                 5097 non-null   object \n",
      " 1   population                   5097 non-null   float64\n",
      " 2   population_age_00_09         3743 non-null   float64\n",
      " 3   population_age_10_19         3743 non-null   float64\n",
      " 4   population_age_20_29         3743 non-null   float64\n",
      " 5   population_age_30_39         3743 non-null   float64\n",
      " 6   population_age_40_49         3743 non-null   float64\n",
      " 7   population_age_50_59         3743 non-null   float64\n",
      " 8   population_age_60_69         3743 non-null   float64\n",
      " 9   population_age_70_79         3743 non-null   float64\n",
      " 10  population_age_80_and_older  3743 non-null   float64\n",
      " 11  country_name                 5097 non-null   object \n",
      "dtypes: float64(10), object(2)\n",
      "memory usage: 517.7+ KB\n"
     ]
    }
   ],
   "source": [
    "data = pd.read_csv(f\"../data/{INPUT_FOLDER}/demographics.zip\")\n",
    "data = data.merge(index, on=\"location_key\")\n",
    "data.info()"
   ]
  },
  {
   "cell_type": "markdown",
   "id": "8da3015f-1718-4bdf-b8c4-a60547d02a10",
   "metadata": {},
   "source": [
    "**1. For non missing records: calculate the proportion of population per age range, per each country**"
   ]
  },
  {
   "cell_type": "code",
   "execution_count": 8,
   "id": "1b5976a3-0953-4f93-807c-198f78ebe134",
   "metadata": {},
   "outputs": [],
   "source": [
    "whole_population = data[~data.population_age_00_09.isna()].groupby(\"country_name\").sum()\n",
    "nonmissing_population = whole_population[\"population\"]\n",
    "nonmissing_population_age = whole_population.filter(regex=r\"population_age\")\n",
    "proportion = nonmissing_population_age.div(nonmissing_population, axis=0)"
   ]
  },
  {
   "cell_type": "code",
   "execution_count": null,
   "id": "8bb34aff-a0c7-43c1-a8c6-583f5b2848a9",
   "metadata": {},
   "outputs": [],
   "source": [
    "proportion"
   ]
  },
  {
   "cell_type": "markdown",
   "id": "fc1e4893-1895-41b9-b075-e11cbd0ea278",
   "metadata": {},
   "source": [
    "**2. For missing records: get the population and append proportion of population per age range, per each country**"
   ]
  },
  {
   "cell_type": "code",
   "execution_count": null,
   "id": "343f698d-ca64-4fde-b77d-545617f6b3e5",
   "metadata": {},
   "outputs": [],
   "source": [
    "missings = data[data.population_age_00_09.isna()]\n",
    "missings = missings[[\"location_key\", \"population\", \"country_name\"]]"
   ]
  },
  {
   "cell_type": "code",
   "execution_count": null,
   "id": "e53939d0-2757-42d2-ab6e-970cc07841ab",
   "metadata": {},
   "outputs": [],
   "source": [
    "missings.head()"
   ]
  },
  {
   "cell_type": "code",
   "execution_count": null,
   "id": "886322f7-44da-4298-9f5b-1854028e051a",
   "metadata": {},
   "outputs": [],
   "source": [
    "missings = missings.merge(proportion.reset_index(), on=\"country_name\")\n",
    "missings = missings.set_index([\"location_key\"])"
   ]
  },
  {
   "cell_type": "code",
   "execution_count": null,
   "id": "64806c9c-3c69-428b-93f4-d38b12564a1d",
   "metadata": {},
   "outputs": [],
   "source": [
    "missings.head()"
   ]
  },
  {
   "cell_type": "markdown",
   "id": "ae24e43f-359c-4e23-ae82-fe1bdf7e9a86",
   "metadata": {},
   "source": [
    "**3. Calculate the estimated population per region from the proportions**"
   ]
  },
  {
   "cell_type": "code",
   "execution_count": null,
   "id": "456114d1-743a-4720-9096-e7a93779d520",
   "metadata": {},
   "outputs": [],
   "source": [
    "missings_population = missings.population\n",
    "missings_population_ages = missings.filter(regex=r\"population_age\")\n",
    "result = missings_population_ages.mul(missings_population, axis=0)"
   ]
  },
  {
   "cell_type": "code",
   "execution_count": null,
   "id": "0286bd51-587f-4d3a-a392-e1ba7b6d2f7e",
   "metadata": {},
   "outputs": [],
   "source": [
    "result.head()"
   ]
  },
  {
   "cell_type": "markdown",
   "id": "9877d042-fbb1-458c-82b4-7148a2f7126b",
   "metadata": {},
   "source": [
    "Impute missing values in original dataset from the previously calculated result"
   ]
  },
  {
   "cell_type": "code",
   "execution_count": null,
   "id": "9f8c2336-27fb-4bb6-b428-2b653a34ab66",
   "metadata": {},
   "outputs": [],
   "source": [
    "data = data.set_index(\"location_key\")"
   ]
  },
  {
   "cell_type": "code",
   "execution_count": null,
   "id": "931a5018-2d3f-4baf-abb7-275ecae3039b",
   "metadata": {},
   "outputs": [],
   "source": [
    "data = data.fillna(result)"
   ]
  },
  {
   "cell_type": "code",
   "execution_count": null,
   "id": "923c0942-9f61-4e40-835a-0e55ea8d88f3",
   "metadata": {},
   "outputs": [],
   "source": [
    "data.info()"
   ]
  },
  {
   "cell_type": "markdown",
   "id": "d7c6662d-e375-4890-8bd1-8e1845cca843",
   "metadata": {},
   "source": [
    "Save resulting table"
   ]
  },
  {
   "cell_type": "code",
   "execution_count": null,
   "id": "69501d4c-cc8b-4bba-8a99-f91ef4b7493f",
   "metadata": {},
   "outputs": [],
   "source": [
    "data.reset_index().to_csv(f\"../data/{OUTPUT_FOLDER}/demographics.zip\", index=False)"
   ]
  }
 ],
 "metadata": {
  "kernelspec": {
   "display_name": "Python 3 (ipykernel)",
   "language": "python",
   "name": "python3"
  },
  "language_info": {
   "codemirror_mode": {
    "name": "ipython",
    "version": 3
   },
   "file_extension": ".py",
   "mimetype": "text/x-python",
   "name": "python",
   "nbconvert_exporter": "python",
   "pygments_lexer": "ipython3",
   "version": "3.9.12"
  },
  "toc-autonumbering": true
 },
 "nbformat": 4,
 "nbformat_minor": 5
}
