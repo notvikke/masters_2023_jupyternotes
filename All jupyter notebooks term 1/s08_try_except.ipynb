{
 "cells": [
  {
   "cell_type": "markdown",
   "metadata": {},
   "source": [
    "## Session 8: Try-except\n",
    "\n",
    "Try-except is a very useful tool to handle errors in your code. It allows you to catch errors and do something when an error happens instead of crashing your program. \n",
    "\n",
    "This comes handy when you are writing code that will be used by other people (always). You can't always be sure that the user will enter the correct input. Try-except allows you to handle these errors and give the user a chance to correct their input.\n",
    "\n",
    "The general structure of `try-except` is as follows:\n",
    "\n",
    "```python\n",
    "try:\n",
    "    # task_1\n",
    "except:\n",
    "    # do something if task_1 fails\n",
    "else: # optional\n",
    "    # do something if task_1 succeeds\n",
    "finally: # optional\n",
    "    # do something always\n",
    "```"
   ]
  },
  {
   "cell_type": "code",
   "execution_count": 1,
   "metadata": {},
   "outputs": [
    {
     "ename": "AttributeError",
     "evalue": "'set' object has no attribute 'append'",
     "output_type": "error",
     "traceback": [
      "\u001b[1;31m---------------------------------------------------------------------------\u001b[0m",
      "\u001b[1;31mAttributeError\u001b[0m                            Traceback (most recent call last)",
      "Input \u001b[1;32mIn [1]\u001b[0m, in \u001b[0;36m<cell line: 4>\u001b[1;34m()\u001b[0m\n\u001b[0;32m      1\u001b[0m my_list \u001b[38;5;241m=\u001b[39m {\u001b[38;5;241m1\u001b[39m, \u001b[38;5;241m2\u001b[39m, \u001b[38;5;241m3\u001b[39m}\n\u001b[0;32m      2\u001b[0m obj \u001b[38;5;241m=\u001b[39m \u001b[38;5;241m4\u001b[39m\n\u001b[1;32m----> 4\u001b[0m \u001b[43mmy_list\u001b[49m\u001b[38;5;241;43m.\u001b[39;49m\u001b[43mappend\u001b[49m(obj)\n\u001b[0;32m      6\u001b[0m my_list\n",
      "\u001b[1;31mAttributeError\u001b[0m: 'set' object has no attribute 'append'"
     ]
    }
   ],
   "source": [
    "my_list = {1, 2, 3}\n",
    "obj = 4\n",
    "\n",
    "my_list.append(obj)\n",
    "\n",
    "my_list\n",
    "\n",
    "\n"
   ]
  },
  {
   "cell_type": "code",
   "execution_count": 10,
   "metadata": {},
   "outputs": [],
   "source": [
    "def add_to_list(my_list, obj):\n",
    "    try:\n",
    "        my_list.append(obj)\n",
    "    except AttributeError as e:\n",
    "        print(f\"The object is not a list. {e}\")\n",
    "    else:\n",
    "        print(\"No error\")\n",
    "        print(my_list)\n",
    "    finally:\n",
    "        print(\"The code is finished\")"
   ]
  },
  {
   "cell_type": "code",
   "execution_count": 7,
   "metadata": {},
   "outputs": [
    {
     "name": "stdout",
     "output_type": "stream",
     "text": [
      "No error\n",
      "[1, 2, 3, 'lucasnoob']\n",
      "The code is finished\n"
     ]
    }
   ],
   "source": [
    "add_to_list([1, 2, 3], 'lucasnoob')"
   ]
  },
  {
   "cell_type": "code",
   "execution_count": 11,
   "metadata": {},
   "outputs": [
    {
     "name": "stdout",
     "output_type": "stream",
     "text": [
      "The object is not a list. 'set' object has no attribute 'append'\n",
      "The code is finished\n"
     ]
    }
   ],
   "source": [
    "add_to_list({1, 2, 3}, 4)"
   ]
  },
  {
   "cell_type": "markdown",
   "metadata": {},
   "source": [
    "### Driving the loop\n",
    "\n",
    "So far we´ve seen that we can direct the flow of code with conditionals, and then we can repeat a certain task with `for`/`while` loops.\n",
    "\n",
    "We can also skip a task with `continue` and stop the loop with `break`."
   ]
  },
  {
   "cell_type": "code",
   "execution_count": 12,
   "metadata": {},
   "outputs": [
    {
     "name": "stdout",
     "output_type": "stream",
     "text": [
      "1\n",
      "3\n",
      "5\n",
      "7\n",
      "9\n"
     ]
    }
   ],
   "source": [
    "# example of continue: printing only odd numbers\n",
    "for i in range(10):\n",
    "    if i % 2 == 0:\n",
    "        continue # go to the next iteration\n",
    "    print(i)\n"
   ]
  },
  {
   "cell_type": "code",
   "execution_count": 13,
   "metadata": {},
   "outputs": [
    {
     "name": "stdout",
     "output_type": "stream",
     "text": [
      "Hello\n",
      "This is an infinite loop\n",
      "But I will break it\n"
     ]
    }
   ],
   "source": [
    "# example of break: \n",
    "while True: # infinite loop, take care!\n",
    "    print(\"Hello\")\n",
    "    print(\"This is an infinite loop\")\n",
    "    print(\"But I will break it\")\n",
    "    break"
   ]
  },
  {
   "cell_type": "markdown",
   "metadata": {},
   "source": [
    "### Final example: \n",
    "\n",
    "Using try except, we can write a function that asks the user for a number and returns the square of that number. If the user enters a string, the function will ask the user to enter a number again."
   ]
  },
  {
   "cell_type": "code",
   "execution_count": 15,
   "metadata": {},
   "outputs": [],
   "source": [
    "def ask():\n",
    "    while True:\n",
    "        try:\n",
    "            n = int(input(\"Input an integer: \"))\n",
    "        except (ValueError, TypeError) as e:\n",
    "            print(f\"Not valid input: {e}\")\n",
    "            continue # continue the loop\n",
    "        else:\n",
    "            break # break the loop\n",
    "        finally:\n",
    "            print(\"The code is finished\")\n",
    "    print(f\"Your number squared is: {n**2}\")"
   ]
  },
  {
   "cell_type": "code",
   "execution_count": 18,
   "metadata": {},
   "outputs": [
    {
     "name": "stdout",
     "output_type": "stream",
     "text": [
      "Input an integer: 5\n",
      "The code is finished\n",
      "Your number squared is: 25\n"
     ]
    }
   ],
   "source": [
    "ask()"
   ]
  }
 ],
 "metadata": {
  "kernelspec": {
   "display_name": "Python 3 (ipykernel)",
   "language": "python",
   "name": "python3"
  },
  "language_info": {
   "codemirror_mode": {
    "name": "ipython",
    "version": 3
   },
   "file_extension": ".py",
   "mimetype": "text/x-python",
   "name": "python",
   "nbconvert_exporter": "python",
   "pygments_lexer": "ipython3",
   "version": "3.9.12"
  },
  "vscode": {
   "interpreter": {
    "hash": "a9f295c814a5ce7ff0b0a20f2b13117bfaf008fc7980e281f2c2bfa8e9ec0fbf"
   }
  }
 },
 "nbformat": 4,
 "nbformat_minor": 2
}
