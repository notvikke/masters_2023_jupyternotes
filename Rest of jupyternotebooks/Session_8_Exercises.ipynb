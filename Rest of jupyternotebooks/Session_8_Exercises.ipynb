{
 "cells": [
  {
   "cell_type": "markdown",
   "id": "4dc1ee26-4bdb-4153-a2c4-ee57c087db9e",
   "metadata": {},
   "source": [
    "### Feature Engineering\n",
    "- Often, we need to use existing columns to create new ones to give additional insight to the relationships we have in data.\n",
    "- A common use-case is when working with strings that we have to encode to numerical features. "
   ]
  },
  {
   "cell_type": "markdown",
   "id": "e42549ff-9fb4-47cf-afb8-afee22a5af60",
   "metadata": {},
   "source": [
    "### 1. Feature Engineering"
   ]
  },
  {
   "cell_type": "markdown",
   "id": "88b60614-f25f-4fe1-b487-6484f8fae12d",
   "metadata": {},
   "source": [
    "#### 1.1 - Encoding binary variables.\n",
    "- Use pandas, numpy and scikit learn. "
   ]
  },
  {
   "cell_type": "code",
   "execution_count": 2,
   "id": "b96ed262-06c2-4d8d-aced-4a46d36e3aa8",
   "metadata": {},
   "outputs": [],
   "source": [
    "import pandas as pd\n",
    "df = pd.DataFrame([\"Yes\", \"No\", \"No\", \"Yes\"], columns=['Churn'])"
   ]
  },
  {
   "cell_type": "markdown",
   "id": "49848f2b-60a3-4632-a23a-815c6cf966ad",
   "metadata": {},
   "source": [
    "### Exercise 1.2 - Get the proportion of visitors on Sundays in the following dataset.\n",
    "- What are the datatypes?\n",
    "- Transform the date into datetime type. \n",
    "- Create a new column \"weekday\" from date that indicates the day number or day name. Hint: Datetime has weekday method, that returns a weekday. "
   ]
  },
  {
   "cell_type": "code",
   "execution_count": 3,
   "id": "62218316-7568-40ac-b7d6-35dd967dd84c",
   "metadata": {},
   "outputs": [
    {
     "data": {
      "text/html": [
       "<div>\n",
       "<style scoped>\n",
       "    .dataframe tbody tr th:only-of-type {\n",
       "        vertical-align: middle;\n",
       "    }\n",
       "\n",
       "    .dataframe tbody tr th {\n",
       "        vertical-align: top;\n",
       "    }\n",
       "\n",
       "    .dataframe thead th {\n",
       "        text-align: right;\n",
       "    }\n",
       "</style>\n",
       "<table border=\"1\" class=\"dataframe\">\n",
       "  <thead>\n",
       "    <tr style=\"text-align: right;\">\n",
       "      <th></th>\n",
       "      <th>date</th>\n",
       "      <th>visitors</th>\n",
       "    </tr>\n",
       "  </thead>\n",
       "  <tbody>\n",
       "    <tr>\n",
       "      <th>0</th>\n",
       "      <td>2023-01-01</td>\n",
       "      <td>270</td>\n",
       "    </tr>\n",
       "    <tr>\n",
       "      <th>1</th>\n",
       "      <td>2023-01-02</td>\n",
       "      <td>470</td>\n",
       "    </tr>\n",
       "    <tr>\n",
       "      <th>2</th>\n",
       "      <td>2023-01-03</td>\n",
       "      <td>300</td>\n",
       "    </tr>\n",
       "    <tr>\n",
       "      <th>3</th>\n",
       "      <td>2023-01-04</td>\n",
       "      <td>420</td>\n",
       "    </tr>\n",
       "    <tr>\n",
       "      <th>4</th>\n",
       "      <td>2023-01-05</td>\n",
       "      <td>390</td>\n",
       "    </tr>\n",
       "  </tbody>\n",
       "</table>\n",
       "</div>"
      ],
      "text/plain": [
       "         date  visitors\n",
       "0  2023-01-01       270\n",
       "1  2023-01-02       470\n",
       "2  2023-01-03       300\n",
       "3  2023-01-04       420\n",
       "4  2023-01-05       390"
      ]
     },
     "execution_count": 3,
     "metadata": {},
     "output_type": "execute_result"
    }
   ],
   "source": [
    "# Let's create our dataframe for the exercise:\n",
    "from datetime import datetime\n",
    "\n",
    "dates = [f\"2023-01-{day:02d}\" for day in range(1, 32)]\n",
    "visitors = [270, 470, 300, 420, 390, 360, 330, 300, 420, 490, 480, 410, 460, 480, 220, 450, 390, 430, 400, 350, 380, 290, 330, 490, 420, 470, 340, 500, 260, 420, 400]\n",
    "\n",
    "df_visitations = pd.DataFrame({'date': dates, 'visitors': visitors})\n",
    "df_visitations.head()"
   ]
  },
  {
   "cell_type": "code",
   "execution_count": 10,
   "id": "22fdaefd-660e-4704-9623-3fb073cebaab",
   "metadata": {},
   "outputs": [
    {
     "data": {
      "text/html": [
       "<div>\n",
       "<style scoped>\n",
       "    .dataframe tbody tr th:only-of-type {\n",
       "        vertical-align: middle;\n",
       "    }\n",
       "\n",
       "    .dataframe tbody tr th {\n",
       "        vertical-align: top;\n",
       "    }\n",
       "\n",
       "    .dataframe thead th {\n",
       "        text-align: right;\n",
       "    }\n",
       "</style>\n",
       "<table border=\"1\" class=\"dataframe\">\n",
       "  <thead>\n",
       "    <tr style=\"text-align: right;\">\n",
       "      <th></th>\n",
       "      <th>date</th>\n",
       "      <th>visitors</th>\n",
       "    </tr>\n",
       "  </thead>\n",
       "  <tbody>\n",
       "    <tr>\n",
       "      <th>0</th>\n",
       "      <td>2023-01-01</td>\n",
       "      <td>270</td>\n",
       "    </tr>\n",
       "    <tr>\n",
       "      <th>1</th>\n",
       "      <td>2023-01-02</td>\n",
       "      <td>470</td>\n",
       "    </tr>\n",
       "    <tr>\n",
       "      <th>2</th>\n",
       "      <td>2023-01-03</td>\n",
       "      <td>300</td>\n",
       "    </tr>\n",
       "    <tr>\n",
       "      <th>3</th>\n",
       "      <td>2023-01-04</td>\n",
       "      <td>420</td>\n",
       "    </tr>\n",
       "    <tr>\n",
       "      <th>4</th>\n",
       "      <td>2023-01-05</td>\n",
       "      <td>390</td>\n",
       "    </tr>\n",
       "  </tbody>\n",
       "</table>\n",
       "</div>"
      ],
      "text/plain": [
       "        date  visitors\n",
       "0 2023-01-01       270\n",
       "1 2023-01-02       470\n",
       "2 2023-01-03       300\n",
       "3 2023-01-04       420\n",
       "4 2023-01-05       390"
      ]
     },
     "execution_count": 10,
     "metadata": {},
     "output_type": "execute_result"
    }
   ],
   "source": [
    "df_visitations['date'] = pd.to_datetime(df_visitations['date'])\n",
    "df_visitations.head()\n",
    "\n",
    "\n",
    "\n"
   ]
  },
  {
   "cell_type": "code",
   "execution_count": 11,
   "id": "801ec294-dd1e-4480-ba68-a04b17573dcb",
   "metadata": {},
   "outputs": [
    {
     "data": {
      "text/html": [
       "<div>\n",
       "<style scoped>\n",
       "    .dataframe tbody tr th:only-of-type {\n",
       "        vertical-align: middle;\n",
       "    }\n",
       "\n",
       "    .dataframe tbody tr th {\n",
       "        vertical-align: top;\n",
       "    }\n",
       "\n",
       "    .dataframe thead th {\n",
       "        text-align: right;\n",
       "    }\n",
       "</style>\n",
       "<table border=\"1\" class=\"dataframe\">\n",
       "  <thead>\n",
       "    <tr style=\"text-align: right;\">\n",
       "      <th></th>\n",
       "      <th>date</th>\n",
       "      <th>visitors</th>\n",
       "      <th>weekday</th>\n",
       "    </tr>\n",
       "  </thead>\n",
       "  <tbody>\n",
       "    <tr>\n",
       "      <th>0</th>\n",
       "      <td>2023-01-01</td>\n",
       "      <td>270</td>\n",
       "      <td>Sunday</td>\n",
       "    </tr>\n",
       "    <tr>\n",
       "      <th>1</th>\n",
       "      <td>2023-01-02</td>\n",
       "      <td>470</td>\n",
       "      <td>Monday</td>\n",
       "    </tr>\n",
       "    <tr>\n",
       "      <th>2</th>\n",
       "      <td>2023-01-03</td>\n",
       "      <td>300</td>\n",
       "      <td>Tuesday</td>\n",
       "    </tr>\n",
       "    <tr>\n",
       "      <th>3</th>\n",
       "      <td>2023-01-04</td>\n",
       "      <td>420</td>\n",
       "      <td>Wednesday</td>\n",
       "    </tr>\n",
       "    <tr>\n",
       "      <th>4</th>\n",
       "      <td>2023-01-05</td>\n",
       "      <td>390</td>\n",
       "      <td>Thursday</td>\n",
       "    </tr>\n",
       "  </tbody>\n",
       "</table>\n",
       "</div>"
      ],
      "text/plain": [
       "        date  visitors    weekday\n",
       "0 2023-01-01       270     Sunday\n",
       "1 2023-01-02       470     Monday\n",
       "2 2023-01-03       300    Tuesday\n",
       "3 2023-01-04       420  Wednesday\n",
       "4 2023-01-05       390   Thursday"
      ]
     },
     "execution_count": 11,
     "metadata": {},
     "output_type": "execute_result"
    }
   ],
   "source": [
    "# extract the weekday and add it as a new column\n",
    "df_visitations['weekday'] = df_visitations['date'].dt.day_name()\n",
    "df_visitations.head()"
   ]
  },
  {
   "cell_type": "code",
   "execution_count": 5,
   "id": "0f243fea-df14-4c51-bc41-897ea1b22ce7",
   "metadata": {},
   "outputs": [
    {
     "name": "stdout",
     "output_type": "stream",
     "text": [
      "<class 'pandas.core.frame.DataFrame'>\n",
      "RangeIndex: 31 entries, 0 to 30\n",
      "Data columns (total 2 columns):\n",
      " #   Column    Non-Null Count  Dtype         \n",
      "---  ------    --------------  -----         \n",
      " 0   date      31 non-null     datetime64[ns]\n",
      " 1   visitors  31 non-null     int64         \n",
      "dtypes: datetime64[ns](1), int64(1)\n",
      "memory usage: 624.0 bytes\n"
     ]
    }
   ],
   "source": [
    "df_visitations.info()"
   ]
  },
  {
   "cell_type": "markdown",
   "id": "82075f52-ea42-4021-bfad-a55d6f4eca09",
   "metadata": {},
   "source": [
    "### Exercise 1.3 - Calculate the `weekly_average` of each shop. Transform it into a seperate column."
   ]
  },
  {
   "cell_type": "code",
   "execution_count": null,
   "id": "89f1bb40-72f2-40ea-8d3a-048db0c03a6c",
   "metadata": {},
   "outputs": [],
   "source": []
  },
  {
   "cell_type": "code",
   "execution_count": 13,
   "id": "61b83961-b56a-4aa7-b725-b841cd74b64b",
   "metadata": {},
   "outputs": [
    {
     "data": {
      "text/html": [
       "<div>\n",
       "<style scoped>\n",
       "    .dataframe tbody tr th:only-of-type {\n",
       "        vertical-align: middle;\n",
       "    }\n",
       "\n",
       "    .dataframe tbody tr th {\n",
       "        vertical-align: top;\n",
       "    }\n",
       "\n",
       "    .dataframe thead th {\n",
       "        text-align: right;\n",
       "    }\n",
       "</style>\n",
       "<table border=\"1\" class=\"dataframe\">\n",
       "  <thead>\n",
       "    <tr style=\"text-align: right;\">\n",
       "      <th></th>\n",
       "      <th>Shop Name</th>\n",
       "      <th>Monday</th>\n",
       "      <th>Tuesday</th>\n",
       "      <th>Wednesday</th>\n",
       "      <th>Thursday</th>\n",
       "      <th>Friday</th>\n",
       "    </tr>\n",
       "  </thead>\n",
       "  <tbody>\n",
       "    <tr>\n",
       "      <th>0</th>\n",
       "      <td>Madrid</td>\n",
       "      <td>100€</td>\n",
       "      <td>90€</td>\n",
       "      <td>120€</td>\n",
       "      <td>100€</td>\n",
       "      <td>70€</td>\n",
       "    </tr>\n",
       "    <tr>\n",
       "      <th>1</th>\n",
       "      <td>Barcelona</td>\n",
       "      <td>200€</td>\n",
       "      <td>80€</td>\n",
       "      <td>150€</td>\n",
       "      <td>90€</td>\n",
       "      <td>110€</td>\n",
       "    </tr>\n",
       "    <tr>\n",
       "      <th>2</th>\n",
       "      <td>Sevilla</td>\n",
       "      <td>150€</td>\n",
       "      <td>70€</td>\n",
       "      <td>110€</td>\n",
       "      <td>120€</td>\n",
       "      <td>130€</td>\n",
       "    </tr>\n",
       "  </tbody>\n",
       "</table>\n",
       "</div>"
      ],
      "text/plain": [
       "   Shop Name Monday Tuesday Wednesday Thursday Friday\n",
       "0     Madrid   100€     90€      120€     100€    70€\n",
       "1  Barcelona   200€     80€      150€      90€   110€\n",
       "2    Sevilla   150€     70€      110€     120€   130€"
      ]
     },
     "execution_count": 13,
     "metadata": {},
     "output_type": "execute_result"
    }
   ],
   "source": [
    "df_exp = pd.DataFrame({\n",
    "    'Shop Name': ['Madrid', 'Barcelona', 'Sevilla'],\n",
    "    'Monday': [\"100€\", \"200€\", \"150€\"],\n",
    "    'Tuesday': [\"90€\", \"80€\", \"70€\"],\n",
    "    'Wednesday': [\"120€\", \"150€\", \"110€\"],\n",
    "    'Thursday': [\"100€\", \"90€\", \"120€\"],\n",
    "    'Friday': [\"70€\", \"110€\", \"130€\"]\n",
    "})\n",
    "\n",
    "df_exp"
   ]
  },
  {
   "cell_type": "code",
   "execution_count": 14,
   "id": "bd8b988c-ae41-4df4-be8d-853485572c0e",
   "metadata": {},
   "outputs": [
    {
     "data": {
      "text/html": [
       "<div>\n",
       "<style scoped>\n",
       "    .dataframe tbody tr th:only-of-type {\n",
       "        vertical-align: middle;\n",
       "    }\n",
       "\n",
       "    .dataframe tbody tr th {\n",
       "        vertical-align: top;\n",
       "    }\n",
       "\n",
       "    .dataframe thead th {\n",
       "        text-align: right;\n",
       "    }\n",
       "</style>\n",
       "<table border=\"1\" class=\"dataframe\">\n",
       "  <thead>\n",
       "    <tr style=\"text-align: right;\">\n",
       "      <th></th>\n",
       "      <th>Shop Name</th>\n",
       "      <th>Monday</th>\n",
       "      <th>Tuesday</th>\n",
       "      <th>Wednesday</th>\n",
       "      <th>Thursday</th>\n",
       "      <th>Friday</th>\n",
       "      <th>avg</th>\n",
       "    </tr>\n",
       "  </thead>\n",
       "  <tbody>\n",
       "    <tr>\n",
       "      <th>0</th>\n",
       "      <td>Madrid</td>\n",
       "      <td>100</td>\n",
       "      <td>90</td>\n",
       "      <td>120</td>\n",
       "      <td>100</td>\n",
       "      <td>70</td>\n",
       "      <td>96.0</td>\n",
       "    </tr>\n",
       "    <tr>\n",
       "      <th>1</th>\n",
       "      <td>Barcelona</td>\n",
       "      <td>200</td>\n",
       "      <td>80</td>\n",
       "      <td>150</td>\n",
       "      <td>90</td>\n",
       "      <td>110</td>\n",
       "      <td>126.0</td>\n",
       "    </tr>\n",
       "    <tr>\n",
       "      <th>2</th>\n",
       "      <td>Sevilla</td>\n",
       "      <td>150</td>\n",
       "      <td>70</td>\n",
       "      <td>110</td>\n",
       "      <td>120</td>\n",
       "      <td>130</td>\n",
       "      <td>116.0</td>\n",
       "    </tr>\n",
       "  </tbody>\n",
       "</table>\n",
       "</div>"
      ],
      "text/plain": [
       "   Shop Name  Monday  Tuesday  Wednesday  Thursday  Friday    avg\n",
       "0     Madrid     100       90        120       100      70   96.0\n",
       "1  Barcelona     200       80        150        90     110  126.0\n",
       "2    Sevilla     150       70        110       120     130  116.0"
      ]
     },
     "execution_count": 14,
     "metadata": {},
     "output_type": "execute_result"
    }
   ],
   "source": [
    "columns = ['Monday', 'Tuesday', 'Wednesday', 'Thursday', 'Friday']\n",
    "df_exp[columns] = df_exp[columns].replace('[^0-9]', '', regex=True).astype(int)\n",
    "df_exp['avg'] = df_exp[columns].mean(axis=1)\n",
    "df_exp"
   ]
  },
  {
   "cell_type": "markdown",
   "id": "a3a40201-d255-4e5e-aa21-d4ea68435319",
   "metadata": {},
   "source": [
    "### Exercise 1.4 - Feature Engineering with Regex, String Operators, Numpy.  \n",
    "Here is some help if you need: [Regex w3](https://www.w3schools.com/python/python_regex.asp)\n",
    "- Distance with kilometers and miles with text. \n",
    "- Specify the `distance_value` and `distance_unit` in seperate columns. Map the units kilometer and mile so that they are simply identifiable. (i.e. km, mi or kilometer, mile)\n",
    "- Now create a new column `distance_km` that consists only of the distances in kilometres. FYI 1 mile is 1.61 kilometers. \n",
    "\n",
    "You might need to use str.extract(), str.lower(), astype(), map(), np.where() methods. "
   ]
  },
  {
   "cell_type": "code",
   "execution_count": 15,
   "id": "b3f02947-298a-498b-8399-31ea96ab580e",
   "metadata": {},
   "outputs": [],
   "source": [
    "df_distances = pd.DataFrame({\n",
    "    \"city1\": [\"Madrid\", \"Madrid\", \"Madrid\", \"London\", \"London\", \"London\"],\n",
    "    \"city2\": [\"Barcelona\", \"Valencia\", \"Sevilla\", \"Manchester\", \"Liverpool\", \"Birmingham\"],\n",
    "    \"distance\": [\"505 kilometres\", \"303KM\", \"390.5 km\", \"163 miles\", \"220 mi.\", \"miles: 120\"]\n",
    "})"
   ]
  },
  {
   "cell_type": "code",
   "execution_count": 16,
   "id": "4a50f9fd-7829-4506-9d99-297c0dc25f23",
   "metadata": {},
   "outputs": [
    {
     "data": {
      "text/html": [
       "<div>\n",
       "<style scoped>\n",
       "    .dataframe tbody tr th:only-of-type {\n",
       "        vertical-align: middle;\n",
       "    }\n",
       "\n",
       "    .dataframe tbody tr th {\n",
       "        vertical-align: top;\n",
       "    }\n",
       "\n",
       "    .dataframe thead th {\n",
       "        text-align: right;\n",
       "    }\n",
       "</style>\n",
       "<table border=\"1\" class=\"dataframe\">\n",
       "  <thead>\n",
       "    <tr style=\"text-align: right;\">\n",
       "      <th></th>\n",
       "      <th>city1</th>\n",
       "      <th>city2</th>\n",
       "      <th>distance</th>\n",
       "    </tr>\n",
       "  </thead>\n",
       "  <tbody>\n",
       "    <tr>\n",
       "      <th>0</th>\n",
       "      <td>Madrid</td>\n",
       "      <td>Barcelona</td>\n",
       "      <td>505 kilometres</td>\n",
       "    </tr>\n",
       "    <tr>\n",
       "      <th>1</th>\n",
       "      <td>Madrid</td>\n",
       "      <td>Valencia</td>\n",
       "      <td>303KM</td>\n",
       "    </tr>\n",
       "    <tr>\n",
       "      <th>2</th>\n",
       "      <td>Madrid</td>\n",
       "      <td>Sevilla</td>\n",
       "      <td>390.5 km</td>\n",
       "    </tr>\n",
       "    <tr>\n",
       "      <th>3</th>\n",
       "      <td>London</td>\n",
       "      <td>Manchester</td>\n",
       "      <td>163 miles</td>\n",
       "    </tr>\n",
       "    <tr>\n",
       "      <th>4</th>\n",
       "      <td>London</td>\n",
       "      <td>Liverpool</td>\n",
       "      <td>220 mi.</td>\n",
       "    </tr>\n",
       "    <tr>\n",
       "      <th>5</th>\n",
       "      <td>London</td>\n",
       "      <td>Birmingham</td>\n",
       "      <td>miles: 120</td>\n",
       "    </tr>\n",
       "  </tbody>\n",
       "</table>\n",
       "</div>"
      ],
      "text/plain": [
       "    city1       city2        distance\n",
       "0  Madrid   Barcelona  505 kilometres\n",
       "1  Madrid    Valencia           303KM\n",
       "2  Madrid     Sevilla        390.5 km\n",
       "3  London  Manchester       163 miles\n",
       "4  London   Liverpool         220 mi.\n",
       "5  London  Birmingham      miles: 120"
      ]
     },
     "execution_count": 16,
     "metadata": {},
     "output_type": "execute_result"
    }
   ],
   "source": [
    "df_distances"
   ]
  },
  {
   "cell_type": "code",
   "execution_count": 17,
   "id": "fa80a318-3ea6-4134-bfa8-fa0d91d67d19",
   "metadata": {},
   "outputs": [],
   "source": [
    "import re\n",
    "\n",
    "pattern = r'(?P<value>[\\d\\.]+)(?P<unit>[^\\d]+)'\n",
    "\n",
    "df_distances[['value', 'unit']] = df_distances['distance'].str.extract(pattern, expand=True)"
   ]
  },
  {
   "cell_type": "code",
   "execution_count": 20,
   "id": "9efd0fc0-09c3-4f41-abec-3184507bb733",
   "metadata": {},
   "outputs": [
    {
     "data": {
      "text/html": [
       "<div>\n",
       "<style scoped>\n",
       "    .dataframe tbody tr th:only-of-type {\n",
       "        vertical-align: middle;\n",
       "    }\n",
       "\n",
       "    .dataframe tbody tr th {\n",
       "        vertical-align: top;\n",
       "    }\n",
       "\n",
       "    .dataframe thead th {\n",
       "        text-align: right;\n",
       "    }\n",
       "</style>\n",
       "<table border=\"1\" class=\"dataframe\">\n",
       "  <thead>\n",
       "    <tr style=\"text-align: right;\">\n",
       "      <th></th>\n",
       "      <th>city1</th>\n",
       "      <th>city2</th>\n",
       "      <th>distance</th>\n",
       "      <th>value</th>\n",
       "      <th>unit</th>\n",
       "    </tr>\n",
       "  </thead>\n",
       "  <tbody>\n",
       "    <tr>\n",
       "      <th>0</th>\n",
       "      <td>Madrid</td>\n",
       "      <td>Barcelona</td>\n",
       "      <td>505 kilometres</td>\n",
       "      <td>505</td>\n",
       "      <td>kilometres</td>\n",
       "    </tr>\n",
       "    <tr>\n",
       "      <th>1</th>\n",
       "      <td>Madrid</td>\n",
       "      <td>Valencia</td>\n",
       "      <td>303KM</td>\n",
       "      <td>303</td>\n",
       "      <td>KM</td>\n",
       "    </tr>\n",
       "    <tr>\n",
       "      <th>2</th>\n",
       "      <td>Madrid</td>\n",
       "      <td>Sevilla</td>\n",
       "      <td>390.5 km</td>\n",
       "      <td>390.5</td>\n",
       "      <td>km</td>\n",
       "    </tr>\n",
       "    <tr>\n",
       "      <th>3</th>\n",
       "      <td>London</td>\n",
       "      <td>Manchester</td>\n",
       "      <td>163 miles</td>\n",
       "      <td>163</td>\n",
       "      <td>miles</td>\n",
       "    </tr>\n",
       "    <tr>\n",
       "      <th>4</th>\n",
       "      <td>London</td>\n",
       "      <td>Liverpool</td>\n",
       "      <td>220 mi.</td>\n",
       "      <td>220</td>\n",
       "      <td>mi.</td>\n",
       "    </tr>\n",
       "    <tr>\n",
       "      <th>5</th>\n",
       "      <td>London</td>\n",
       "      <td>Birmingham</td>\n",
       "      <td>miles: 120</td>\n",
       "      <td>NaN</td>\n",
       "      <td>NaN</td>\n",
       "    </tr>\n",
       "  </tbody>\n",
       "</table>\n",
       "</div>"
      ],
      "text/plain": [
       "    city1       city2        distance  value         unit\n",
       "0  Madrid   Barcelona  505 kilometres    505   kilometres\n",
       "1  Madrid    Valencia           303KM    303           KM\n",
       "2  Madrid     Sevilla        390.5 km  390.5           km\n",
       "3  London  Manchester       163 miles    163        miles\n",
       "4  London   Liverpool         220 mi.    220          mi.\n",
       "5  London  Birmingham      miles: 120    NaN          NaN"
      ]
     },
     "execution_count": 20,
     "metadata": {},
     "output_type": "execute_result"
    }
   ],
   "source": [
    "df_distances"
   ]
  },
  {
   "cell_type": "code",
   "execution_count": null,
   "id": "d9099ba6-a0a4-4104-83c5-8939e52a6dcb",
   "metadata": {},
   "outputs": [],
   "source": []
  },
  {
   "cell_type": "markdown",
   "id": "fb2c286b-a69e-4e63-a143-77b260f8c127",
   "metadata": {},
   "source": [
    "# Dimensionality Reduction\n",
    "- From feature selection to feature extraction. But what is the difference?\n"
   ]
  },
  {
   "cell_type": "markdown",
   "id": "05e1929b-022b-45a2-85b6-69bf57629303",
   "metadata": {},
   "source": [
    "### 2.1 - Remove all the redundant features from the `df_exp` and `df_distances` datasets. \n",
    "- What makes a feature redundant?"
   ]
  },
  {
   "cell_type": "markdown",
   "id": "e7ac7415-bd9e-4e27-8ec0-33c5787c7e82",
   "metadata": {},
   "source": [
    "### 2.2 - Feature Selection - What can you say about the relationship of these columns? What columns explain each other?\n",
    "\n",
    "- Duration: Exercise duration\n",
    "- Pulse: Average pulse rate during exercise\n",
    "- Maxpulse: Maximum pulse\n",
    "- Calories: Calories burned during the session. \n",
    "- Kilojoules: Kilojoules burned during the session. (Calories * 4.18)\n",
    "- Pulse_proportion: Average pulse of the max pulse.\n",
    "- Weekday: Day of the week (0-6) \n",
    "- Session count: Each session is attributed by default count 1. "
   ]
  },
  {
   "cell_type": "markdown",
   "id": "1c3f8ade-358a-4704-932e-dcb89afea0aa",
   "metadata": {},
   "source": [
    "As you are all aware, linear models assumes feature independece (Naive Bayes etc.)\n",
    "Thus strongly correlated features can introduce bias into our models (not good). \n",
    "Features that have a low correlation on the other hand do not explain a lot the targets variance. \n",
    "\n",
    "- What columns would you select and why?"
   ]
  },
  {
   "cell_type": "code",
   "execution_count": 6,
   "id": "aa29ea11-30b0-4953-b1c8-fdcfeaf13779",
   "metadata": {},
   "outputs": [
    {
     "data": {
      "text/html": [
       "<div>\n",
       "<style scoped>\n",
       "    .dataframe tbody tr th:only-of-type {\n",
       "        vertical-align: middle;\n",
       "    }\n",
       "\n",
       "    .dataframe tbody tr th {\n",
       "        vertical-align: top;\n",
       "    }\n",
       "\n",
       "    .dataframe thead th {\n",
       "        text-align: right;\n",
       "    }\n",
       "</style>\n",
       "<table border=\"1\" class=\"dataframe\">\n",
       "  <thead>\n",
       "    <tr style=\"text-align: right;\">\n",
       "      <th></th>\n",
       "      <th>Duration</th>\n",
       "      <th>Pulse</th>\n",
       "      <th>Maxpulse</th>\n",
       "      <th>Calories</th>\n",
       "      <th>Kilojoules</th>\n",
       "      <th>Pulse_proportion</th>\n",
       "      <th>Weekday</th>\n",
       "      <th>Session count</th>\n",
       "    </tr>\n",
       "  </thead>\n",
       "  <tbody>\n",
       "    <tr>\n",
       "      <th>0</th>\n",
       "      <td>60</td>\n",
       "      <td>110</td>\n",
       "      <td>130</td>\n",
       "      <td>409.1</td>\n",
       "      <td>1714.13</td>\n",
       "      <td>0.85</td>\n",
       "      <td>6</td>\n",
       "      <td>1</td>\n",
       "    </tr>\n",
       "    <tr>\n",
       "      <th>1</th>\n",
       "      <td>60</td>\n",
       "      <td>117</td>\n",
       "      <td>145</td>\n",
       "      <td>479.0</td>\n",
       "      <td>2007.01</td>\n",
       "      <td>0.81</td>\n",
       "      <td>1</td>\n",
       "      <td>1</td>\n",
       "    </tr>\n",
       "    <tr>\n",
       "      <th>2</th>\n",
       "      <td>60</td>\n",
       "      <td>103</td>\n",
       "      <td>135</td>\n",
       "      <td>340.0</td>\n",
       "      <td>1424.60</td>\n",
       "      <td>0.76</td>\n",
       "      <td>2</td>\n",
       "      <td>1</td>\n",
       "    </tr>\n",
       "    <tr>\n",
       "      <th>3</th>\n",
       "      <td>45</td>\n",
       "      <td>109</td>\n",
       "      <td>175</td>\n",
       "      <td>282.4</td>\n",
       "      <td>1183.26</td>\n",
       "      <td>0.62</td>\n",
       "      <td>1</td>\n",
       "      <td>1</td>\n",
       "    </tr>\n",
       "    <tr>\n",
       "      <th>4</th>\n",
       "      <td>45</td>\n",
       "      <td>117</td>\n",
       "      <td>148</td>\n",
       "      <td>406.0</td>\n",
       "      <td>1701.14</td>\n",
       "      <td>0.79</td>\n",
       "      <td>4</td>\n",
       "      <td>1</td>\n",
       "    </tr>\n",
       "  </tbody>\n",
       "</table>\n",
       "</div>"
      ],
      "text/plain": [
       "   Duration  Pulse  Maxpulse  Calories  Kilojoules  Pulse_proportion  Weekday  \\\n",
       "0        60    110       130     409.1     1714.13              0.85        6   \n",
       "1        60    117       145     479.0     2007.01              0.81        1   \n",
       "2        60    103       135     340.0     1424.60              0.76        2   \n",
       "3        45    109       175     282.4     1183.26              0.62        1   \n",
       "4        45    117       148     406.0     1701.14              0.79        4   \n",
       "\n",
       "   Session count  \n",
       "0              1  \n",
       "1              1  \n",
       "2              1  \n",
       "3              1  \n",
       "4              1  "
      ]
     },
     "execution_count": 6,
     "metadata": {},
     "output_type": "execute_result"
    }
   ],
   "source": [
    "df_exercise = pd.read_csv(\"https://docs.google.com/spreadsheets/d/e/2PACX-1vQRm5unwrfItPTzB8MHvrD2IbCQzyUX5nJxLOXAV8wU7vDnhuWS1SY_zmNkvuaSTkpIcsbd0_yIMN5F/pub?gid=1979654030&single=true&output=csv\")\n",
    "df_exercise.head()"
   ]
  },
  {
   "cell_type": "markdown",
   "id": "50f78903-5243-4ddd-a7d8-023ebf8e8da5",
   "metadata": {},
   "source": [
    "#### 2.2.1 Show the correlation grid with 2 decimal points and visualise the correlation plot using seaborn heatmap (doc: [sns.heatmap](https://seaborn.pydata.org/generated/seaborn.heatmap.html))"
   ]
  },
  {
   "cell_type": "markdown",
   "id": "409ca2cd-9d51-4a9e-9ff0-4394cd2b76f8",
   "metadata": {},
   "source": [
    "#### 2.2.2 - Select the features that are explaining the variance the most. "
   ]
  },
  {
   "cell_type": "markdown",
   "id": "9db39f7d-1067-488a-ae23-d4fe75d0d4fc",
   "metadata": {},
   "source": [
    "### 2.3 - Feature Selection and Extraction\n",
    "- Let's use our dataset from previous week about churn.\n",
    "- You can get more info about the attributes from here [link to data](https://archive.ics.uci.edu/ml/datasets/Iranian+Churn+Dataset)\n",
    "- Drop already columns FN&FP as they are irrelevant for us. "
   ]
  },
  {
   "cell_type": "markdown",
   "id": "6391a739-d1b1-4fc0-a159-54d875262407",
   "metadata": {},
   "source": [
    "#### 2.3.1 - Import the dataset and drop columns `FN` & `FP`. "
   ]
  },
  {
   "cell_type": "code",
   "execution_count": 7,
   "id": "5d73b59d-a3fc-4ea8-b3f4-7c4e26670dc0",
   "metadata": {},
   "outputs": [
    {
     "data": {
      "text/html": [
       "<div>\n",
       "<style scoped>\n",
       "    .dataframe tbody tr th:only-of-type {\n",
       "        vertical-align: middle;\n",
       "    }\n",
       "\n",
       "    .dataframe tbody tr th {\n",
       "        vertical-align: top;\n",
       "    }\n",
       "\n",
       "    .dataframe thead th {\n",
       "        text-align: right;\n",
       "    }\n",
       "</style>\n",
       "<table border=\"1\" class=\"dataframe\">\n",
       "  <thead>\n",
       "    <tr style=\"text-align: right;\">\n",
       "      <th></th>\n",
       "      <th>Call  Failure</th>\n",
       "      <th>Complains</th>\n",
       "      <th>Subscription  Length</th>\n",
       "      <th>Charge  Amount</th>\n",
       "      <th>Seconds of Use</th>\n",
       "      <th>Frequency of use</th>\n",
       "      <th>Frequency of SMS</th>\n",
       "      <th>Distinct Called Numbers</th>\n",
       "      <th>Age Group</th>\n",
       "      <th>Tariff Plan</th>\n",
       "      <th>Status</th>\n",
       "      <th>Age</th>\n",
       "      <th>Customer Value</th>\n",
       "      <th>Churn</th>\n",
       "    </tr>\n",
       "  </thead>\n",
       "  <tbody>\n",
       "    <tr>\n",
       "      <th>0</th>\n",
       "      <td>8</td>\n",
       "      <td>0</td>\n",
       "      <td>38</td>\n",
       "      <td>0</td>\n",
       "      <td>4370</td>\n",
       "      <td>71</td>\n",
       "      <td>5</td>\n",
       "      <td>17</td>\n",
       "      <td>3</td>\n",
       "      <td>1</td>\n",
       "      <td>1</td>\n",
       "      <td>30</td>\n",
       "      <td>197.640</td>\n",
       "      <td>0</td>\n",
       "    </tr>\n",
       "    <tr>\n",
       "      <th>1</th>\n",
       "      <td>0</td>\n",
       "      <td>0</td>\n",
       "      <td>39</td>\n",
       "      <td>0</td>\n",
       "      <td>318</td>\n",
       "      <td>5</td>\n",
       "      <td>7</td>\n",
       "      <td>4</td>\n",
       "      <td>2</td>\n",
       "      <td>1</td>\n",
       "      <td>2</td>\n",
       "      <td>25</td>\n",
       "      <td>46.035</td>\n",
       "      <td>0</td>\n",
       "    </tr>\n",
       "    <tr>\n",
       "      <th>2</th>\n",
       "      <td>10</td>\n",
       "      <td>0</td>\n",
       "      <td>37</td>\n",
       "      <td>0</td>\n",
       "      <td>2453</td>\n",
       "      <td>60</td>\n",
       "      <td>359</td>\n",
       "      <td>24</td>\n",
       "      <td>3</td>\n",
       "      <td>1</td>\n",
       "      <td>1</td>\n",
       "      <td>30</td>\n",
       "      <td>1536.520</td>\n",
       "      <td>0</td>\n",
       "    </tr>\n",
       "    <tr>\n",
       "      <th>3</th>\n",
       "      <td>10</td>\n",
       "      <td>0</td>\n",
       "      <td>38</td>\n",
       "      <td>0</td>\n",
       "      <td>4198</td>\n",
       "      <td>66</td>\n",
       "      <td>1</td>\n",
       "      <td>35</td>\n",
       "      <td>1</td>\n",
       "      <td>1</td>\n",
       "      <td>1</td>\n",
       "      <td>15</td>\n",
       "      <td>240.020</td>\n",
       "      <td>0</td>\n",
       "    </tr>\n",
       "    <tr>\n",
       "      <th>4</th>\n",
       "      <td>3</td>\n",
       "      <td>0</td>\n",
       "      <td>38</td>\n",
       "      <td>0</td>\n",
       "      <td>2393</td>\n",
       "      <td>58</td>\n",
       "      <td>2</td>\n",
       "      <td>33</td>\n",
       "      <td>1</td>\n",
       "      <td>1</td>\n",
       "      <td>1</td>\n",
       "      <td>15</td>\n",
       "      <td>145.805</td>\n",
       "      <td>0</td>\n",
       "    </tr>\n",
       "  </tbody>\n",
       "</table>\n",
       "</div>"
      ],
      "text/plain": [
       "   Call  Failure  Complains  Subscription  Length  Charge  Amount  \\\n",
       "0              8          0                    38               0   \n",
       "1              0          0                    39               0   \n",
       "2             10          0                    37               0   \n",
       "3             10          0                    38               0   \n",
       "4              3          0                    38               0   \n",
       "\n",
       "   Seconds of Use  Frequency of use  Frequency of SMS  \\\n",
       "0            4370                71                 5   \n",
       "1             318                 5                 7   \n",
       "2            2453                60               359   \n",
       "3            4198                66                 1   \n",
       "4            2393                58                 2   \n",
       "\n",
       "   Distinct Called Numbers  Age Group  Tariff Plan  Status  Age  \\\n",
       "0                       17          3            1       1   30   \n",
       "1                        4          2            1       2   25   \n",
       "2                       24          3            1       1   30   \n",
       "3                       35          1            1       1   15   \n",
       "4                       33          1            1       1   15   \n",
       "\n",
       "   Customer Value  Churn  \n",
       "0         197.640      0  \n",
       "1          46.035      0  \n",
       "2        1536.520      0  \n",
       "3         240.020      0  \n",
       "4         145.805      0  "
      ]
     },
     "execution_count": 7,
     "metadata": {},
     "output_type": "execute_result"
    }
   ],
   "source": [
    "df_churn = pd.read_csv(\"data/customer_churn.csv\")\n",
    "df_churn = df_churn.drop([\"FN\", \"FP\"], axis=1)\n",
    "df_churn.head()"
   ]
  },
  {
   "cell_type": "markdown",
   "id": "c37f8c8f-34e5-486c-ae86-9397362c9802",
   "metadata": {},
   "source": [
    "#### 2.3.2 - Define target and features."
   ]
  },
  {
   "cell_type": "markdown",
   "id": "06a68996-02d0-492a-a1c3-22aa264aa067",
   "metadata": {},
   "source": [
    "#### 2.3.3 - Analyse the correlation between the features."
   ]
  },
  {
   "cell_type": "markdown",
   "id": "233e92cb-5944-44f9-aa05-a0b14f700312",
   "metadata": {},
   "source": [
    "#### 2.3.4 - Divide the data into training and test sets \n",
    "- Keep the test size at 80/20 split. \n",
    "- Bear in mind that there is imbalance in our target variable and stratification is needed."
   ]
  },
  {
   "cell_type": "markdown",
   "id": "3565bc69-2302-467c-bde4-18bab45a2c08",
   "metadata": {},
   "source": [
    "#### 2.3.5 - Standardise the data."
   ]
  },
  {
   "cell_type": "markdown",
   "id": "574460a4-3b04-4584-a2f9-c4eb35bf6075",
   "metadata": {},
   "source": [
    "#### 2.3.6 - Instantiate the PCA and transform the scaled features. \n",
    "- Make sure that the at least 80% of the variance is preserved set."
   ]
  },
  {
   "cell_type": "markdown",
   "id": "4e4e6cbf-00ce-4d60-a1c2-3174b56ba0c2",
   "metadata": {},
   "source": [
    "#### 2.3.7 - How many principal components explain the variance 80%? How much does the large principal component explain the variance?"
   ]
  },
  {
   "cell_type": "markdown",
   "id": "f5cda08a-185b-450d-8740-373d91012f35",
   "metadata": {},
   "source": [
    "#### 2.3.8 - Draw the elbow plot and elaborate on how many components you would choose given the elbow plot."
   ]
  },
  {
   "cell_type": "markdown",
   "id": "63867e05-bc16-4c38-bb86-780ffb3a7188",
   "metadata": {},
   "source": [
    "#### 2.3.9 - Instatiate the [Random Forest Classifier](https://scikit-learn.org/stable/modules/generated/sklearn.ensemble.RandomForestClassifier.html) and fit the model."
   ]
  },
  {
   "cell_type": "markdown",
   "id": "24acb7f7-9e19-426b-9b4b-e4e992ac55a4",
   "metadata": {},
   "source": [
    "#### 2.3.10 - Use the PCA model to make predicitions. \n",
    "- Get the accuracy score and create confusion matrix. "
   ]
  }
 ],
 "metadata": {
  "kernelspec": {
   "display_name": "Python 3 (ipykernel)",
   "language": "python",
   "name": "python3"
  },
  "language_info": {
   "codemirror_mode": {
    "name": "ipython",
    "version": 3
   },
   "file_extension": ".py",
   "mimetype": "text/x-python",
   "name": "python",
   "nbconvert_exporter": "python",
   "pygments_lexer": "ipython3",
   "version": "3.9.12"
  }
 },
 "nbformat": 4,
 "nbformat_minor": 5
}
