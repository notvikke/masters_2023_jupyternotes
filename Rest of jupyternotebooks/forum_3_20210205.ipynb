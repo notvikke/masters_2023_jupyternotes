{
 "cells": [
  {
   "cell_type": "markdown",
   "metadata": {},
   "source": [
    "# 0. Import (and install) libraries"
   ]
  },
  {
   "cell_type": "code",
   "execution_count": 3,
   "metadata": {},
   "outputs": [
    {
     "name": "stdout",
     "output_type": "stream",
     "text": [
      "Collecting xgboost\n",
      "  Downloading xgboost-1.7.3-py3-none-win_amd64.whl (89.1 MB)\n",
      "Requirement already satisfied: scipy in c:\\users\\vignesh nambiar\\anaconda3\\lib\\site-packages (from xgboost) (1.7.3)\n",
      "Requirement already satisfied: numpy in c:\\users\\vignesh nambiar\\anaconda3\\lib\\site-packages (from xgboost) (1.21.5)\n",
      "Installing collected packages: xgboost\n",
      "Successfully installed xgboost-1.7.3\n"
     ]
    }
   ],
   "source": [
    "#!pip install graphviz\n",
    "#!pip install xgboost"
   ]
  },
  {
   "cell_type": "code",
   "execution_count": 6,
   "metadata": {},
   "outputs": [],
   "source": [
    "import time\n",
    "from datetime import datetime\n",
    "\n",
    "import pandas as pd\n",
    "import numpy as np\n",
    "import seaborn as sns\n",
    "import matplotlib.pyplot as plt\n",
    "%matplotlib inline\n",
    "from graphviz import Source\n",
    "\n",
    "from sklearn import tree, ensemble\n",
    "from sklearn.metrics import (\n",
    "    accuracy_score, \n",
    "    precision_score, \n",
    "    recall_score, \n",
    "    confusion_matrix,\n",
    "    roc_curve,\n",
    "    auc\n",
    ")\n",
    "from xgboost import XGBClassifier"
   ]
  },
  {
   "cell_type": "markdown",
   "metadata": {},
   "source": [
    "### 0.1. Setting random seed\n",
    "\n",
    "Since we will be dealing with random processes, and we want them to be random but always the same, we should define the seed Python will use when going random."
   ]
  },
  {
   "cell_type": "code",
   "execution_count": 7,
   "metadata": {},
   "outputs": [],
   "source": [
    "random_state = 42"
   ]
  },
  {
   "cell_type": "markdown",
   "metadata": {},
   "source": [
    "# 1. Import data"
   ]
  },
  {
   "cell_type": "markdown",
   "metadata": {},
   "source": [
    "The dataset contains several timeseries extracted from the Iberian Power Market API: [esios](https://www.esios.ree.es/en)\n",
    "* datetime: Timestamp in ISO format\n",
    "* nuclear: nuclear power production\n",
    "* ccgt: combined cycle power production (gas)\n",
    "* demand: power demand\n",
    "* hydro: hydro power production\n",
    "* wind: wind power production\n",
    "* solar: solar power production\n",
    "* imbalance: whether the system needed to produce more energy to cover the the demand (1) or needed to produce less (-1)\n",
    "\n",
    "In power systems, when demand is different than generation then the frequency goes crazy and affects every electric appliance. With that purpose in mind, when you are not producing/consuming what you settled on in the power market, you'll be penalized!\n",
    "\n",
    "That's why we want to predict the sign: if we are able to predict whether the system will need more or less energy, we will not be penalized :)"
   ]
  },
  {
   "cell_type": "code",
   "execution_count": 8,
   "metadata": {},
   "outputs": [
    {
     "data": {
      "text/html": [
       "<div>\n",
       "<style scoped>\n",
       "    .dataframe tbody tr th:only-of-type {\n",
       "        vertical-align: middle;\n",
       "    }\n",
       "\n",
       "    .dataframe tbody tr th {\n",
       "        vertical-align: top;\n",
       "    }\n",
       "\n",
       "    .dataframe thead th {\n",
       "        text-align: right;\n",
       "    }\n",
       "</style>\n",
       "<table border=\"1\" class=\"dataframe\">\n",
       "  <thead>\n",
       "    <tr style=\"text-align: right;\">\n",
       "      <th></th>\n",
       "      <th>datetime</th>\n",
       "      <th>nuclear</th>\n",
       "      <th>ccgt</th>\n",
       "      <th>demand</th>\n",
       "      <th>hydro</th>\n",
       "      <th>coal</th>\n",
       "      <th>wind</th>\n",
       "      <th>solar</th>\n",
       "      <th>imbalance_sign</th>\n",
       "    </tr>\n",
       "  </thead>\n",
       "  <tbody>\n",
       "    <tr>\n",
       "      <th>0</th>\n",
       "      <td>2019-01-01T00:00:00.000+01:00</td>\n",
       "      <td>6047.360</td>\n",
       "      <td>3137.598</td>\n",
       "      <td>23459.000000</td>\n",
       "      <td>2581.529</td>\n",
       "      <td>1849.879</td>\n",
       "      <td>3794.191</td>\n",
       "      <td>15.986</td>\n",
       "      <td>1.0</td>\n",
       "    </tr>\n",
       "    <tr>\n",
       "      <th>1</th>\n",
       "      <td>2019-01-01T01:00:00.000+01:00</td>\n",
       "      <td>6045.900</td>\n",
       "      <td>3121.557</td>\n",
       "      <td>22781.000000</td>\n",
       "      <td>2556.662</td>\n",
       "      <td>1631.424</td>\n",
       "      <td>3767.804</td>\n",
       "      <td>15.921</td>\n",
       "      <td>1.0</td>\n",
       "    </tr>\n",
       "    <tr>\n",
       "      <th>2</th>\n",
       "      <td>2019-01-01T02:00:00.000+01:00</td>\n",
       "      <td>6046.754</td>\n",
       "      <td>3121.121</td>\n",
       "      <td>21448.500000</td>\n",
       "      <td>1840.314</td>\n",
       "      <td>1573.326</td>\n",
       "      <td>3757.543</td>\n",
       "      <td>8.272</td>\n",
       "      <td>-1.0</td>\n",
       "    </tr>\n",
       "    <tr>\n",
       "      <th>3</th>\n",
       "      <td>2019-01-01T03:00:00.000+01:00</td>\n",
       "      <td>6044.538</td>\n",
       "      <td>3609.398</td>\n",
       "      <td>20262.166667</td>\n",
       "      <td>1414.429</td>\n",
       "      <td>1441.022</td>\n",
       "      <td>3716.763</td>\n",
       "      <td>0.139</td>\n",
       "      <td>-1.0</td>\n",
       "    </tr>\n",
       "    <tr>\n",
       "      <th>4</th>\n",
       "      <td>2019-01-01T04:00:00.000+01:00</td>\n",
       "      <td>6045.747</td>\n",
       "      <td>3566.925</td>\n",
       "      <td>19463.500000</td>\n",
       "      <td>1535.409</td>\n",
       "      <td>1416.226</td>\n",
       "      <td>3532.569</td>\n",
       "      <td>0.233</td>\n",
       "      <td>-1.0</td>\n",
       "    </tr>\n",
       "  </tbody>\n",
       "</table>\n",
       "</div>"
      ],
      "text/plain": [
       "                        datetime   nuclear      ccgt        demand     hydro  \\\n",
       "0  2019-01-01T00:00:00.000+01:00  6047.360  3137.598  23459.000000  2581.529   \n",
       "1  2019-01-01T01:00:00.000+01:00  6045.900  3121.557  22781.000000  2556.662   \n",
       "2  2019-01-01T02:00:00.000+01:00  6046.754  3121.121  21448.500000  1840.314   \n",
       "3  2019-01-01T03:00:00.000+01:00  6044.538  3609.398  20262.166667  1414.429   \n",
       "4  2019-01-01T04:00:00.000+01:00  6045.747  3566.925  19463.500000  1535.409   \n",
       "\n",
       "       coal      wind   solar  imbalance_sign  \n",
       "0  1849.879  3794.191  15.986             1.0  \n",
       "1  1631.424  3767.804  15.921             1.0  \n",
       "2  1573.326  3757.543   8.272            -1.0  \n",
       "3  1441.022  3716.763   0.139            -1.0  \n",
       "4  1416.226  3532.569   0.233            -1.0  "
      ]
     },
     "execution_count": 8,
     "metadata": {},
     "output_type": "execute_result"
    }
   ],
   "source": [
    "data = pd.read_csv(\"power_market.csv\")\n",
    "data.head()"
   ]
  },
  {
   "cell_type": "markdown",
   "metadata": {},
   "source": [
    "The goal for this forum is to train a model that predicts the sign of `imbalance` of the power system given the production of electricity per type and the demand of the system.\n",
    "\n",
    "The imbalance is the amount of power that the country needs to increase/decrease in order to keep the power system stable and at the designed frequency of 50 Hz.\n",
    "\n",
    "All the data displayed is in MWh (Mega Watt-hour)."
   ]
  },
  {
   "cell_type": "markdown",
   "metadata": {},
   "source": [
    "# 2. Data analysis"
   ]
  },
  {
   "cell_type": "code",
   "execution_count": 9,
   "metadata": {},
   "outputs": [
    {
     "data": {
      "text/plain": [
       "datetime           object\n",
       "nuclear           float64\n",
       "ccgt              float64\n",
       "demand            float64\n",
       "hydro             float64\n",
       "coal              float64\n",
       "wind              float64\n",
       "solar             float64\n",
       "imbalance_sign    float64\n",
       "dtype: object"
      ]
     },
     "execution_count": 9,
     "metadata": {},
     "output_type": "execute_result"
    }
   ],
   "source": [
    "data.dtypes"
   ]
  },
  {
   "cell_type": "code",
   "execution_count": 10,
   "metadata": {},
   "outputs": [
    {
     "data": {
      "text/plain": [
       "(17544, 9)"
      ]
     },
     "execution_count": 10,
     "metadata": {},
     "output_type": "execute_result"
    }
   ],
   "source": [
    "data.shape"
   ]
  },
  {
   "cell_type": "code",
   "execution_count": 11,
   "metadata": {},
   "outputs": [
    {
     "data": {
      "text/html": [
       "<div>\n",
       "<style scoped>\n",
       "    .dataframe tbody tr th:only-of-type {\n",
       "        vertical-align: middle;\n",
       "    }\n",
       "\n",
       "    .dataframe tbody tr th {\n",
       "        vertical-align: top;\n",
       "    }\n",
       "\n",
       "    .dataframe thead th {\n",
       "        text-align: right;\n",
       "    }\n",
       "</style>\n",
       "<table border=\"1\" class=\"dataframe\">\n",
       "  <thead>\n",
       "    <tr style=\"text-align: right;\">\n",
       "      <th></th>\n",
       "      <th>nuclear</th>\n",
       "      <th>ccgt</th>\n",
       "      <th>demand</th>\n",
       "      <th>hydro</th>\n",
       "      <th>coal</th>\n",
       "      <th>wind</th>\n",
       "      <th>solar</th>\n",
       "      <th>imbalance_sign</th>\n",
       "    </tr>\n",
       "  </thead>\n",
       "  <tbody>\n",
       "    <tr>\n",
       "      <th>count</th>\n",
       "      <td>17544.000000</td>\n",
       "      <td>17544.000000</td>\n",
       "      <td>17544.000000</td>\n",
       "      <td>17544.00000</td>\n",
       "      <td>17544.000000</td>\n",
       "      <td>17544.000000</td>\n",
       "      <td>17544.000000</td>\n",
       "      <td>17544.000000</td>\n",
       "    </tr>\n",
       "    <tr>\n",
       "      <th>mean</th>\n",
       "      <td>6360.067396</td>\n",
       "      <td>5101.496615</td>\n",
       "      <td>27801.836506</td>\n",
       "      <td>3149.83397</td>\n",
       "      <td>881.841676</td>\n",
       "      <td>6091.862648</td>\n",
       "      <td>1905.609216</td>\n",
       "      <td>0.192202</td>\n",
       "    </tr>\n",
       "    <tr>\n",
       "      <th>std</th>\n",
       "      <td>913.782971</td>\n",
       "      <td>2906.496174</td>\n",
       "      <td>4656.921491</td>\n",
       "      <td>1641.10060</td>\n",
       "      <td>1016.261134</td>\n",
       "      <td>3599.947399</td>\n",
       "      <td>2384.556487</td>\n",
       "      <td>0.981383</td>\n",
       "    </tr>\n",
       "    <tr>\n",
       "      <th>min</th>\n",
       "      <td>3587.589000</td>\n",
       "      <td>324.927000</td>\n",
       "      <td>16542.500000</td>\n",
       "      <td>179.73200</td>\n",
       "      <td>-62.132000</td>\n",
       "      <td>127.783000</td>\n",
       "      <td>-0.600000</td>\n",
       "      <td>-1.000000</td>\n",
       "    </tr>\n",
       "    <tr>\n",
       "      <th>25%</th>\n",
       "      <td>5957.993500</td>\n",
       "      <td>2652.272750</td>\n",
       "      <td>24016.000000</td>\n",
       "      <td>1882.96975</td>\n",
       "      <td>396.630500</td>\n",
       "      <td>3272.826500</td>\n",
       "      <td>21.721250</td>\n",
       "      <td>-1.000000</td>\n",
       "    </tr>\n",
       "    <tr>\n",
       "      <th>50%</th>\n",
       "      <td>6920.351000</td>\n",
       "      <td>4621.532500</td>\n",
       "      <td>27683.416667</td>\n",
       "      <td>2835.76300</td>\n",
       "      <td>559.758000</td>\n",
       "      <td>5365.216000</td>\n",
       "      <td>601.510000</td>\n",
       "      <td>1.000000</td>\n",
       "    </tr>\n",
       "    <tr>\n",
       "      <th>75%</th>\n",
       "      <td>7084.553750</td>\n",
       "      <td>7154.293500</td>\n",
       "      <td>31414.416667</td>\n",
       "      <td>4115.68075</td>\n",
       "      <td>949.930500</td>\n",
       "      <td>8310.093250</td>\n",
       "      <td>3523.731500</td>\n",
       "      <td>1.000000</td>\n",
       "    </tr>\n",
       "    <tr>\n",
       "      <th>max</th>\n",
       "      <td>7129.239000</td>\n",
       "      <td>15059.735000</td>\n",
       "      <td>40149.666667</td>\n",
       "      <td>8665.56400</td>\n",
       "      <td>6375.439000</td>\n",
       "      <td>19354.967000</td>\n",
       "      <td>9101.684000</td>\n",
       "      <td>1.000000</td>\n",
       "    </tr>\n",
       "  </tbody>\n",
       "</table>\n",
       "</div>"
      ],
      "text/plain": [
       "            nuclear          ccgt        demand        hydro          coal  \\\n",
       "count  17544.000000  17544.000000  17544.000000  17544.00000  17544.000000   \n",
       "mean    6360.067396   5101.496615  27801.836506   3149.83397    881.841676   \n",
       "std      913.782971   2906.496174   4656.921491   1641.10060   1016.261134   \n",
       "min     3587.589000    324.927000  16542.500000    179.73200    -62.132000   \n",
       "25%     5957.993500   2652.272750  24016.000000   1882.96975    396.630500   \n",
       "50%     6920.351000   4621.532500  27683.416667   2835.76300    559.758000   \n",
       "75%     7084.553750   7154.293500  31414.416667   4115.68075    949.930500   \n",
       "max     7129.239000  15059.735000  40149.666667   8665.56400   6375.439000   \n",
       "\n",
       "               wind         solar  imbalance_sign  \n",
       "count  17544.000000  17544.000000    17544.000000  \n",
       "mean    6091.862648   1905.609216        0.192202  \n",
       "std     3599.947399   2384.556487        0.981383  \n",
       "min      127.783000     -0.600000       -1.000000  \n",
       "25%     3272.826500     21.721250       -1.000000  \n",
       "50%     5365.216000    601.510000        1.000000  \n",
       "75%     8310.093250   3523.731500        1.000000  \n",
       "max    19354.967000   9101.684000        1.000000  "
      ]
     },
     "execution_count": 11,
     "metadata": {},
     "output_type": "execute_result"
    }
   ],
   "source": [
    "data.describe()"
   ]
  },
  {
   "cell_type": "markdown",
   "metadata": {},
   "source": [
    "Let's convert our target (`imbalance_sign`) into integer"
   ]
  },
  {
   "cell_type": "code",
   "execution_count": 12,
   "metadata": {},
   "outputs": [],
   "source": [
    "# can you do this using other methods?\n",
    "data[\"imbalance_sign\"] = data[\"imbalance_sign\"].apply(lambda x: int(x))"
   ]
  },
  {
   "cell_type": "markdown",
   "metadata": {},
   "source": [
    "### 2.1. Training and test\n",
    "\n",
    "Since we have timeseries, we can't split training and test using random sampling, so let's split according to dates.\n",
    "\n",
    "Our `datetime` column is type `str` so let's convert it into a format understandable as a date. It also contains the timezone (`+01:00`, `+02:00`), so we can use the `datetime` native library to deal with this."
   ]
  },
  {
   "cell_type": "code",
   "execution_count": 13,
   "metadata": {},
   "outputs": [
    {
     "data": {
      "text/html": [
       "<div>\n",
       "<style scoped>\n",
       "    .dataframe tbody tr th:only-of-type {\n",
       "        vertical-align: middle;\n",
       "    }\n",
       "\n",
       "    .dataframe tbody tr th {\n",
       "        vertical-align: top;\n",
       "    }\n",
       "\n",
       "    .dataframe thead th {\n",
       "        text-align: right;\n",
       "    }\n",
       "</style>\n",
       "<table border=\"1\" class=\"dataframe\">\n",
       "  <thead>\n",
       "    <tr style=\"text-align: right;\">\n",
       "      <th></th>\n",
       "      <th>datetime</th>\n",
       "      <th>nuclear</th>\n",
       "      <th>ccgt</th>\n",
       "      <th>demand</th>\n",
       "      <th>hydro</th>\n",
       "      <th>coal</th>\n",
       "      <th>wind</th>\n",
       "      <th>solar</th>\n",
       "      <th>imbalance_sign</th>\n",
       "    </tr>\n",
       "  </thead>\n",
       "  <tbody>\n",
       "    <tr>\n",
       "      <th>0</th>\n",
       "      <td>2019-01-01 00:00:00+01:00</td>\n",
       "      <td>6047.360</td>\n",
       "      <td>3137.598</td>\n",
       "      <td>23459.000000</td>\n",
       "      <td>2581.529</td>\n",
       "      <td>1849.879</td>\n",
       "      <td>3794.191</td>\n",
       "      <td>15.986</td>\n",
       "      <td>1</td>\n",
       "    </tr>\n",
       "    <tr>\n",
       "      <th>1</th>\n",
       "      <td>2019-01-01 01:00:00+01:00</td>\n",
       "      <td>6045.900</td>\n",
       "      <td>3121.557</td>\n",
       "      <td>22781.000000</td>\n",
       "      <td>2556.662</td>\n",
       "      <td>1631.424</td>\n",
       "      <td>3767.804</td>\n",
       "      <td>15.921</td>\n",
       "      <td>1</td>\n",
       "    </tr>\n",
       "    <tr>\n",
       "      <th>2</th>\n",
       "      <td>2019-01-01 02:00:00+01:00</td>\n",
       "      <td>6046.754</td>\n",
       "      <td>3121.121</td>\n",
       "      <td>21448.500000</td>\n",
       "      <td>1840.314</td>\n",
       "      <td>1573.326</td>\n",
       "      <td>3757.543</td>\n",
       "      <td>8.272</td>\n",
       "      <td>-1</td>\n",
       "    </tr>\n",
       "    <tr>\n",
       "      <th>3</th>\n",
       "      <td>2019-01-01 03:00:00+01:00</td>\n",
       "      <td>6044.538</td>\n",
       "      <td>3609.398</td>\n",
       "      <td>20262.166667</td>\n",
       "      <td>1414.429</td>\n",
       "      <td>1441.022</td>\n",
       "      <td>3716.763</td>\n",
       "      <td>0.139</td>\n",
       "      <td>-1</td>\n",
       "    </tr>\n",
       "    <tr>\n",
       "      <th>4</th>\n",
       "      <td>2019-01-01 04:00:00+01:00</td>\n",
       "      <td>6045.747</td>\n",
       "      <td>3566.925</td>\n",
       "      <td>19463.500000</td>\n",
       "      <td>1535.409</td>\n",
       "      <td>1416.226</td>\n",
       "      <td>3532.569</td>\n",
       "      <td>0.233</td>\n",
       "      <td>-1</td>\n",
       "    </tr>\n",
       "  </tbody>\n",
       "</table>\n",
       "</div>"
      ],
      "text/plain": [
       "                    datetime   nuclear      ccgt        demand     hydro  \\\n",
       "0  2019-01-01 00:00:00+01:00  6047.360  3137.598  23459.000000  2581.529   \n",
       "1  2019-01-01 01:00:00+01:00  6045.900  3121.557  22781.000000  2556.662   \n",
       "2  2019-01-01 02:00:00+01:00  6046.754  3121.121  21448.500000  1840.314   \n",
       "3  2019-01-01 03:00:00+01:00  6044.538  3609.398  20262.166667  1414.429   \n",
       "4  2019-01-01 04:00:00+01:00  6045.747  3566.925  19463.500000  1535.409   \n",
       "\n",
       "       coal      wind   solar  imbalance_sign  \n",
       "0  1849.879  3794.191  15.986               1  \n",
       "1  1631.424  3767.804  15.921               1  \n",
       "2  1573.326  3757.543   8.272              -1  \n",
       "3  1441.022  3716.763   0.139              -1  \n",
       "4  1416.226  3532.569   0.233              -1  "
      ]
     },
     "execution_count": 13,
     "metadata": {},
     "output_type": "execute_result"
    }
   ],
   "source": [
    "data[\"datetime\"] = data[\"datetime\"].apply(lambda x: datetime.fromisoformat(str(x))) \n",
    "data.head()"
   ]
  },
  {
   "cell_type": "markdown",
   "metadata": {},
   "source": [
    "Now that we have our timestamp as a `datetime` object, let's extract some info from it: date, hour, weekend, etc"
   ]
  },
  {
   "cell_type": "code",
   "execution_count": 14,
   "metadata": {},
   "outputs": [],
   "source": [
    "data[\"date\"] = data[\"datetime\"].apply(datetime.date)\n",
    "data[\"hour\"] = data[\"datetime\"].apply(lambda x: int(x.strftime('%H')))\n",
    "data[\"weekday\"] = data[\"datetime\"].apply(datetime.weekday)\n",
    "data[\"weekend\"] = np.where(\n",
    "    data[\"weekday\"] > 4,\n",
    "    1, \n",
    "    0\n",
    ")"
   ]
  },
  {
   "cell_type": "markdown",
   "metadata": {},
   "source": [
    "Now it's converted we can split our data. How much data do we have?"
   ]
  },
  {
   "cell_type": "code",
   "execution_count": 15,
   "metadata": {},
   "outputs": [
    {
     "data": {
      "text/plain": [
       "min   2019-01-01 00:00:00+01:00\n",
       "max   2020-12-31 23:00:00+01:00\n",
       "Name: datetime, dtype: datetime64[ns, UTC+01:00]"
      ]
     },
     "execution_count": 15,
     "metadata": {},
     "output_type": "execute_result"
    }
   ],
   "source": [
    "data.datetime.apply([\"min\", \"max\"])"
   ]
  },
  {
   "cell_type": "markdown",
   "metadata": {},
   "source": [
    "We have 2 years worth of data! Let's train with 75% of the data (approx until Aug2020) and predict on the 25% remaining \n",
    "\n",
    "Since we will be using this split later on, we should create a function to re-use"
   ]
  },
  {
   "cell_type": "code",
   "execution_count": 16,
   "metadata": {},
   "outputs": [
    {
     "name": "stdout",
     "output_type": "stream",
     "text": [
      "x_train: (13127, 10)\n",
      "x_test: (4417, 10)\n",
      "y_train: (13127,)\n",
      "y_test: (4417,)\n"
     ]
    },
    {
     "name": "stderr",
     "output_type": "stream",
     "text": [
      "C:\\Users\\Vignesh Nambiar\\anaconda3\\lib\\site-packages\\pandas\\core\\ops\\array_ops.py:73: FutureWarning: Comparison of Timestamp with datetime.date is deprecated in order to match the standard library behavior. In a future version these will be considered non-comparable. Use 'ts == pd.Timestamp(date)' or 'ts.date() == date' instead.\n",
      "  result = libops.scalar_compare(x.ravel(), y, op)\n",
      "C:\\Users\\Vignesh Nambiar\\anaconda3\\lib\\site-packages\\pandas\\core\\ops\\array_ops.py:73: FutureWarning: Comparison of Timestamp with datetime.date is deprecated in order to match the standard library behavior. In a future version these will be considered non-comparable. Use 'ts == pd.Timestamp(date)' or 'ts.date() == date' instead.\n",
      "  result = libops.scalar_compare(x.ravel(), y, op)\n",
      "C:\\Users\\Vignesh Nambiar\\anaconda3\\lib\\site-packages\\pandas\\core\\ops\\array_ops.py:73: FutureWarning: Comparison of Timestamp with datetime.date is deprecated in order to match the standard library behavior. In a future version these will be considered non-comparable. Use 'ts == pd.Timestamp(date)' or 'ts.date() == date' instead.\n",
      "  result = libops.scalar_compare(x.ravel(), y, op)\n",
      "C:\\Users\\Vignesh Nambiar\\anaconda3\\lib\\site-packages\\pandas\\core\\ops\\array_ops.py:73: FutureWarning: Comparison of Timestamp with datetime.date is deprecated in order to match the standard library behavior. In a future version these will be considered non-comparable. Use 'ts == pd.Timestamp(date)' or 'ts.date() == date' instead.\n",
      "  result = libops.scalar_compare(x.ravel(), y, op)\n"
     ]
    }
   ],
   "source": [
    "def train_test_split(data, date_split):\n",
    "\n",
    "    # training vs target\n",
    "    x = data.drop([\"datetime\", \"imbalance_sign\"], axis=1)\n",
    "    y = data[[\"date\", \"imbalance_sign\"]]\n",
    "\n",
    "    # splitting data\n",
    "    x_train = x[x[\"date\"] < date_split].drop(\"date\", axis=1)\n",
    "    x_test = x[x[\"date\"] >= date_split].drop(\"date\", axis=1)\n",
    "    y_train = y[y[\"date\"] < date_split].drop(\"date\", axis=1).values.ravel()\n",
    "    y_test = y[y[\"date\"] >= date_split].drop(\"date\", axis=1).values.ravel()\n",
    "\n",
    "    print(f\"x_train: {x_train.shape}\")\n",
    "    print(f\"x_test: {x_test.shape}\")\n",
    "    print(f\"y_train: {y_train.shape}\")\n",
    "    print(f\"y_test: {y_test.shape}\")\n",
    "    \n",
    "    return x_train, x_test, y_train, y_test\n",
    "\n",
    "date_split = pd.to_datetime(\"2020-07-01\")\n",
    "x_train, x_test, y_train, y_test = train_test_split(data, date_split)"
   ]
  },
  {
   "cell_type": "code",
   "execution_count": 17,
   "metadata": {},
   "outputs": [
    {
     "data": {
      "text/plain": [
       "0.6848928250545501"
      ]
     },
     "execution_count": 17,
     "metadata": {},
     "output_type": "execute_result"
    }
   ],
   "source": [
    "# checking how balanced is our train data\n",
    "train_classes, train_counts = np.unique(y_train, return_counts=True)\n",
    "train_counts[0]/train_counts[1]"
   ]
  },
  {
   "cell_type": "code",
   "execution_count": 18,
   "metadata": {},
   "outputs": [
    {
     "data": {
      "text/plain": [
       "0.6561679790026247"
      ]
     },
     "execution_count": 18,
     "metadata": {},
     "output_type": "execute_result"
    }
   ],
   "source": [
    "# checking how balanced is our test data\n",
    "test_classes, test_counts = np.unique(y_test, return_counts=True)\n",
    "test_counts[0]/test_counts[1]"
   ]
  },
  {
   "cell_type": "markdown",
   "metadata": {},
   "source": [
    "The data is a bit unbalanced (class1/class2 = 0.65-0.68) but the distribution is more or less constant between train and test subsets"
   ]
  },
  {
   "cell_type": "markdown",
   "metadata": {},
   "source": [
    "We're ready to go!"
   ]
  },
  {
   "cell_type": "markdown",
   "metadata": {},
   "source": [
    "Before training, let's create a function that will plot several metrics, so we can compare methods:"
   ]
  },
  {
   "cell_type": "code",
   "execution_count": 19,
   "metadata": {},
   "outputs": [],
   "source": [
    "def plot_roc(fpr, tpr, title=\"ROC Curve\", note=\"\"):\n",
    "    plt.figure(1)\n",
    "    plt.plot([0, 1], [0, 1], 'k--')\n",
    "    plt.plot(fpr, tpr)\n",
    "    plt.xlabel(\"False positive rate\")\n",
    "    plt.ylabel(\"True positive rate\")\n",
    "    plt.title(title)\n",
    "    if note: \n",
    "        plt.text(0.6, 0.2, note)\n",
    "    plt.show()\n",
    "    \n",
    "    \n",
    "def evaluation(y_test, y_hat):\n",
    "    \n",
    "    # metrics from sklearn\n",
    "    fpr, tpr, thresholds = roc_curve(y_test, y_hat)\n",
    "    auc_score = auc(fpr, tpr)\n",
    "    confusion_mtx = confusion_matrix(y_test, y_hat, labels=np.unique(y_train))\n",
    "    accuracy = accuracy_score(y_test, y_hat)\n",
    "    precision = precision_score(y_test, y_hat)\n",
    "    recall = recall_score(y_test, y_hat)\n",
    "    \n",
    "    # print metrics\n",
    "    print(f\"Accuracy: {accuracy:.3f}\")\n",
    "    print(f\"Precision: {precision:.3f}\")\n",
    "    print(f\"Recall: {recall:.3f}\")\n",
    "    print(f\"Confusion matrix:\") \n",
    "    print(confusion_mtx)\n",
    "\n",
    "    # roc and auc\n",
    "    title = \"ROC\"\n",
    "    note = f\"AUC = {auc_score:.3f}\"\n",
    "    plot_roc(fpr, tpr, title, note)"
   ]
  },
  {
   "cell_type": "markdown",
   "metadata": {},
   "source": [
    "# 3. Decision tree"
   ]
  },
  {
   "cell_type": "markdown",
   "metadata": {},
   "source": [
    "Let's train a simple tree: [DecisionTreeClassifier](https://scikit-learn.org/stable/modules/generated/sklearn.tree.DecisionTreeClassifier.html)\n",
    "\n",
    "The tree will grow until all leaves are pure or until they have 2 or less observations! "
   ]
  },
  {
   "cell_type": "code",
   "execution_count": 20,
   "metadata": {},
   "outputs": [
    {
     "data": {
      "text/plain": [
       "DecisionTreeClassifier(random_state=42)"
      ]
     },
     "execution_count": 20,
     "metadata": {},
     "output_type": "execute_result"
    }
   ],
   "source": [
    "dt = tree.DecisionTreeClassifier(random_state=random_state)  # without parameter turning\n",
    "dt.fit(x_train, y_train)"
   ]
  },
  {
   "cell_type": "markdown",
   "metadata": {},
   "source": [
    "Evaluation metrics of our simple decision tree:"
   ]
  },
  {
   "cell_type": "code",
   "execution_count": 21,
   "metadata": {},
   "outputs": [
    {
     "name": "stdout",
     "output_type": "stream",
     "text": [
      "Accuracy: 0.553\n",
      "Precision: 0.629\n",
      "Recall: 0.632\n",
      "Confusion matrix:\n",
      "[[ 756  994]\n",
      " [ 982 1685]]\n"
     ]
    },
    {
     "data": {
      "image/png": "[encoded data removed]",
      "text/plain": [
       "<Figure size 432x288 with 1 Axes>"
      ]
     },
     "metadata": {
      "needs_background": "light"
     },
     "output_type": "display_data"
    }
   ],
   "source": [
    "y_hat_1 = dt.predict(x_test)\n",
    "evaluation(y_test, y_hat_1)  # using the function we created!"
   ]
  },
  {
   "cell_type": "markdown",
   "metadata": {},
   "source": [
    "Slightly better than a coin flip... Let's see the importance our tree is assigning to each feature!"
   ]
  },
  {
   "cell_type": "code",
   "execution_count": 22,
   "metadata": {},
   "outputs": [
    {
     "data": {
      "text/html": [
       "<div>\n",
       "<style scoped>\n",
       "    .dataframe tbody tr th:only-of-type {\n",
       "        vertical-align: middle;\n",
       "    }\n",
       "\n",
       "    .dataframe tbody tr th {\n",
       "        vertical-align: top;\n",
       "    }\n",
       "\n",
       "    .dataframe thead th {\n",
       "        text-align: right;\n",
       "    }\n",
       "</style>\n",
       "<table border=\"1\" class=\"dataframe\">\n",
       "  <thead>\n",
       "    <tr style=\"text-align: right;\">\n",
       "      <th></th>\n",
       "      <th>feature</th>\n",
       "      <th>importance</th>\n",
       "    </tr>\n",
       "  </thead>\n",
       "  <tbody>\n",
       "    <tr>\n",
       "      <th>0</th>\n",
       "      <td>nuclear</td>\n",
       "      <td>0.169669</td>\n",
       "    </tr>\n",
       "    <tr>\n",
       "      <th>1</th>\n",
       "      <td>wind</td>\n",
       "      <td>0.136487</td>\n",
       "    </tr>\n",
       "    <tr>\n",
       "      <th>2</th>\n",
       "      <td>coal</td>\n",
       "      <td>0.130452</td>\n",
       "    </tr>\n",
       "    <tr>\n",
       "      <th>3</th>\n",
       "      <td>hydro</td>\n",
       "      <td>0.123198</td>\n",
       "    </tr>\n",
       "    <tr>\n",
       "      <th>4</th>\n",
       "      <td>ccgt</td>\n",
       "      <td>0.117990</td>\n",
       "    </tr>\n",
       "    <tr>\n",
       "      <th>5</th>\n",
       "      <td>solar</td>\n",
       "      <td>0.099259</td>\n",
       "    </tr>\n",
       "    <tr>\n",
       "      <th>6</th>\n",
       "      <td>demand</td>\n",
       "      <td>0.091186</td>\n",
       "    </tr>\n",
       "    <tr>\n",
       "      <th>7</th>\n",
       "      <td>hour</td>\n",
       "      <td>0.067037</td>\n",
       "    </tr>\n",
       "    <tr>\n",
       "      <th>8</th>\n",
       "      <td>weekday</td>\n",
       "      <td>0.052242</td>\n",
       "    </tr>\n",
       "    <tr>\n",
       "      <th>9</th>\n",
       "      <td>weekend</td>\n",
       "      <td>0.012481</td>\n",
       "    </tr>\n",
       "  </tbody>\n",
       "</table>\n",
       "</div>"
      ],
      "text/plain": [
       "   feature  importance\n",
       "0  nuclear    0.169669\n",
       "1     wind    0.136487\n",
       "2     coal    0.130452\n",
       "3    hydro    0.123198\n",
       "4     ccgt    0.117990\n",
       "5    solar    0.099259\n",
       "6   demand    0.091186\n",
       "7     hour    0.067037\n",
       "8  weekday    0.052242\n",
       "9  weekend    0.012481"
      ]
     },
     "execution_count": 22,
     "metadata": {},
     "output_type": "execute_result"
    }
   ],
   "source": [
    "feat_imp = dt.feature_importances_\n",
    "features = x_train.columns\n",
    "feat_imp_dt = pd.DataFrame({\n",
    "    \"feature\": features, \n",
    "    \"importance\": feat_imp\n",
    "}).sort_values(by=\"importance\", ascending=False).reset_index(drop=True)\n",
    "feat_imp_dt"
   ]
  },
  {
   "cell_type": "markdown",
   "metadata": {},
   "source": [
    "Nuclear power production seems to be the feature that's been used in more splits, therefore the one that better reduces the impurity!"
   ]
  },
  {
   "cell_type": "markdown",
   "metadata": {},
   "source": [
    "### 3.1. Tuning parameters"
   ]
  },
  {
   "cell_type": "markdown",
   "metadata": {},
   "source": [
    "The model is overfitting like hell, because it's trained to learn the training data by heart, but will not generalize enough to predict December2020 correctly.\n",
    "\n",
    "In a tree-based algo, we can control several parameters, but two of them are quite important for handling overfitting:\n",
    "* `max_depth`: the number of levels the tree will grow to"
   ]
  },
  {
   "cell_type": "code",
   "execution_count": 23,
   "metadata": {},
   "outputs": [],
   "source": [
    "parameters = {\n",
    "    \"max_depth\": 10,  # grow the tree until the 10th level\n",
    "    \"random_state\": random_state\n",
    "}"
   ]
  },
  {
   "cell_type": "code",
   "execution_count": 24,
   "metadata": {},
   "outputs": [
    {
     "name": "stdout",
     "output_type": "stream",
     "text": [
      "Accuracy: 0.579\n",
      "Precision: 0.635\n",
      "Recall: 0.712\n",
      "Confusion matrix:\n",
      "[[ 660 1090]\n",
      " [ 769 1898]]\n"
     ]
    },
    {
     "data": {
      "image/png": "[encoded data removed]",
      "text/plain": [
       "<Figure size 432x288 with 1 Axes>"
      ]
     },
     "metadata": {
      "needs_background": "light"
     },
     "output_type": "display_data"
    }
   ],
   "source": [
    "dt_tuning = tree.DecisionTreeClassifier(**parameters)  # we can pass a dictionary of parameters using ** (kwargs)\n",
    "dt_tuning.fit(x_train, y_train)\n",
    "y_hat_2 = dt_tuning.predict(x_test)\n",
    "evaluation(y_test, y_hat_2)"
   ]
  },
  {
   "cell_type": "markdown",
   "metadata": {},
   "source": [
    "It gets better! Seems like tuning these parameters was a good idea!"
   ]
  },
  {
   "cell_type": "markdown",
   "metadata": {},
   "source": [
    "### 3.2. Check error in training vs test "
   ]
  },
  {
   "cell_type": "markdown",
   "metadata": {},
   "source": [
    "Changing `max_depth` was a good idea, since the tree didn't grow to the max. How can we know which is the best value?\n",
    "\n",
    "Let's loop through several values of `max_depth` and see how the error in training vs test evolve!"
   ]
  },
  {
   "cell_type": "code",
   "execution_count": 25,
   "metadata": {},
   "outputs": [
    {
     "name": "stdout",
     "output_type": "stream",
     "text": [
      "max_depth: 1, acc_train: 0.594, acc_test=0.604\n",
      "max_depth: 2, acc_train: 0.607, acc_test=0.581\n",
      "max_depth: 3, acc_train: 0.618, acc_test=0.590\n",
      "max_depth: 4, acc_train: 0.643, acc_test=0.596\n",
      "max_depth: 5, acc_train: 0.658, acc_test=0.574\n",
      "max_depth: 6, acc_train: 0.677, acc_test=0.597\n",
      "max_depth: 7, acc_train: 0.698, acc_test=0.588\n",
      "max_depth: 8, acc_train: 0.719, acc_test=0.594\n",
      "max_depth: 9, acc_train: 0.748, acc_test=0.582\n",
      "max_depth: 10, acc_train: 0.779, acc_test=0.579\n",
      "max_depth: 11, acc_train: 0.808, acc_test=0.566\n",
      "max_depth: 12, acc_train: 0.836, acc_test=0.573\n",
      "max_depth: 13, acc_train: 0.868, acc_test=0.557\n",
      "max_depth: 14, acc_train: 0.895, acc_test=0.561\n",
      "max_depth: 15, acc_train: 0.918, acc_test=0.570\n",
      "max_depth: 16, acc_train: 0.938, acc_test=0.544\n",
      "max_depth: 17, acc_train: 0.955, acc_test=0.550\n",
      "max_depth: 18, acc_train: 0.969, acc_test=0.547\n",
      "max_depth: 19, acc_train: 0.982, acc_test=0.539\n",
      "max_depth: 20, acc_train: 0.990, acc_test=0.552\n",
      "max_depth: 21, acc_train: 0.995, acc_test=0.550\n",
      "max_depth: 22, acc_train: 0.997, acc_test=0.548\n",
      "max_depth: 23, acc_train: 0.999, acc_test=0.545\n",
      "max_depth: 24, acc_train: 1.000, acc_test=0.545\n",
      "max_depth: 25, acc_train: 1.000, acc_test=0.553\n",
      "max_depth: 26, acc_train: 1.000, acc_test=0.553\n",
      "max_depth: 27, acc_train: 1.000, acc_test=0.553\n",
      "max_depth: 28, acc_train: 1.000, acc_test=0.553\n",
      "max_depth: 29, acc_train: 1.000, acc_test=0.553\n",
      "max_depth: 30, acc_train: 1.000, acc_test=0.553\n",
      "max_depth: 31, acc_train: 1.000, acc_test=0.553\n",
      "max_depth: 32, acc_train: 1.000, acc_test=0.553\n",
      "max_depth: 33, acc_train: 1.000, acc_test=0.553\n",
      "max_depth: 34, acc_train: 1.000, acc_test=0.553\n",
      "max_depth: 35, acc_train: 1.000, acc_test=0.553\n",
      "max_depth: 36, acc_train: 1.000, acc_test=0.553\n",
      "max_depth: 37, acc_train: 1.000, acc_test=0.553\n",
      "max_depth: 38, acc_train: 1.000, acc_test=0.553\n",
      "max_depth: 39, acc_train: 1.000, acc_test=0.553\n",
      "max_depth: 40, acc_train: 1.000, acc_test=0.553\n",
      "max_depth: 41, acc_train: 1.000, acc_test=0.553\n",
      "max_depth: 42, acc_train: 1.000, acc_test=0.553\n",
      "max_depth: 43, acc_train: 1.000, acc_test=0.553\n",
      "max_depth: 44, acc_train: 1.000, acc_test=0.553\n",
      "max_depth: 45, acc_train: 1.000, acc_test=0.553\n",
      "max_depth: 46, acc_train: 1.000, acc_test=0.553\n",
      "max_depth: 47, acc_train: 1.000, acc_test=0.553\n",
      "max_depth: 48, acc_train: 1.000, acc_test=0.553\n",
      "max_depth: 49, acc_train: 1.000, acc_test=0.553\n"
     ]
    },
    {
     "data": {
      "image/png": "[encoded data removed]",
      "text/plain": [
       "<Figure size 1080x432 with 1 Axes>"
      ]
     },
     "metadata": {
      "needs_background": "light"
     },
     "output_type": "display_data"
    }
   ],
   "source": [
    "max_depth_range = range(1, 50)\n",
    "\n",
    "error_results = []\n",
    "\n",
    "# looping through values of max_depth\n",
    "for max_depth in max_depth_range:\n",
    "    \n",
    "    # parameters\n",
    "    parameters = {\n",
    "        \"max_depth\": max_depth,\n",
    "        \"random_state\": random_state\n",
    "    }\n",
    "\n",
    "    # train\n",
    "    dt_2 = tree.DecisionTreeClassifier(**parameters)\n",
    "    dt_2.fit(x_train, y_train)\n",
    "    \n",
    "    # predict\n",
    "    y_hat_train = dt_2.predict(x_train)  # prediction on the training set\n",
    "    y_hat_test = dt_2.predict(x_test)  # prediction on the test set\n",
    "    \n",
    "    # evaluate\n",
    "    acc_train = accuracy_score(y_train, y_hat_train)  # accuracy achieved on the training data\n",
    "    acc_test = accuracy_score(y_test, y_hat_test)  # accuracy achieved on the test data\n",
    "    \n",
    "    # store results\n",
    "    error_results.append({\n",
    "        \"max_depth\": max_depth, \n",
    "        \"acc_train\": acc_train,\n",
    "        \"acc_test\": acc_test\n",
    "    })\n",
    "    \n",
    "    # print evolution of loop:\n",
    "    print(f\"max_depth: {max_depth}, acc_train: {acc_train:.3f}, acc_test={acc_test:.3f}\")\n",
    "    \n",
    "# saving results as dataframe\n",
    "results = pd.DataFrame(error_results)\n",
    "\n",
    "# plotting\n",
    "fig, ax = plt.subplots(figsize=(15, 6))\n",
    "\n",
    "ax.plot(results[\"max_depth\"], results[\"acc_train\"], label=\"training acc\", color=\"blue\")\n",
    "ax.plot(results[\"max_depth\"], results[\"acc_test\"], label=\"test acc\", color=\"orange\")\n",
    "ax.legend(fontsize=12)\n",
    "\n",
    "plt.show()"
   ]
  },
  {
   "cell_type": "markdown",
   "metadata": {},
   "source": [
    "### 3.3. Maybe we need some feature engineering?"
   ]
  },
  {
   "cell_type": "code",
   "execution_count": 26,
   "metadata": {},
   "outputs": [
    {
     "data": {
      "text/html": [
       "<div>\n",
       "<style scoped>\n",
       "    .dataframe tbody tr th:only-of-type {\n",
       "        vertical-align: middle;\n",
       "    }\n",
       "\n",
       "    .dataframe tbody tr th {\n",
       "        vertical-align: top;\n",
       "    }\n",
       "\n",
       "    .dataframe thead th {\n",
       "        text-align: right;\n",
       "    }\n",
       "</style>\n",
       "<table border=\"1\" class=\"dataframe\">\n",
       "  <thead>\n",
       "    <tr style=\"text-align: right;\">\n",
       "      <th></th>\n",
       "      <th>datetime</th>\n",
       "      <th>nuclear</th>\n",
       "      <th>ccgt</th>\n",
       "      <th>demand</th>\n",
       "      <th>hydro</th>\n",
       "      <th>coal</th>\n",
       "      <th>wind</th>\n",
       "      <th>solar</th>\n",
       "      <th>imbalance_sign</th>\n",
       "      <th>date</th>\n",
       "      <th>hour</th>\n",
       "      <th>weekday</th>\n",
       "      <th>weekend</th>\n",
       "    </tr>\n",
       "  </thead>\n",
       "  <tbody>\n",
       "    <tr>\n",
       "      <th>0</th>\n",
       "      <td>2019-01-01 00:00:00+01:00</td>\n",
       "      <td>6047.360</td>\n",
       "      <td>3137.598</td>\n",
       "      <td>23459.000000</td>\n",
       "      <td>2581.529</td>\n",
       "      <td>1849.879</td>\n",
       "      <td>3794.191</td>\n",
       "      <td>15.986</td>\n",
       "      <td>1</td>\n",
       "      <td>2019-01-01</td>\n",
       "      <td>0</td>\n",
       "      <td>1</td>\n",
       "      <td>0</td>\n",
       "    </tr>\n",
       "    <tr>\n",
       "      <th>1</th>\n",
       "      <td>2019-01-01 01:00:00+01:00</td>\n",
       "      <td>6045.900</td>\n",
       "      <td>3121.557</td>\n",
       "      <td>22781.000000</td>\n",
       "      <td>2556.662</td>\n",
       "      <td>1631.424</td>\n",
       "      <td>3767.804</td>\n",
       "      <td>15.921</td>\n",
       "      <td>1</td>\n",
       "      <td>2019-01-01</td>\n",
       "      <td>1</td>\n",
       "      <td>1</td>\n",
       "      <td>0</td>\n",
       "    </tr>\n",
       "    <tr>\n",
       "      <th>2</th>\n",
       "      <td>2019-01-01 02:00:00+01:00</td>\n",
       "      <td>6046.754</td>\n",
       "      <td>3121.121</td>\n",
       "      <td>21448.500000</td>\n",
       "      <td>1840.314</td>\n",
       "      <td>1573.326</td>\n",
       "      <td>3757.543</td>\n",
       "      <td>8.272</td>\n",
       "      <td>-1</td>\n",
       "      <td>2019-01-01</td>\n",
       "      <td>2</td>\n",
       "      <td>1</td>\n",
       "      <td>0</td>\n",
       "    </tr>\n",
       "    <tr>\n",
       "      <th>3</th>\n",
       "      <td>2019-01-01 03:00:00+01:00</td>\n",
       "      <td>6044.538</td>\n",
       "      <td>3609.398</td>\n",
       "      <td>20262.166667</td>\n",
       "      <td>1414.429</td>\n",
       "      <td>1441.022</td>\n",
       "      <td>3716.763</td>\n",
       "      <td>0.139</td>\n",
       "      <td>-1</td>\n",
       "      <td>2019-01-01</td>\n",
       "      <td>3</td>\n",
       "      <td>1</td>\n",
       "      <td>0</td>\n",
       "    </tr>\n",
       "    <tr>\n",
       "      <th>4</th>\n",
       "      <td>2019-01-01 04:00:00+01:00</td>\n",
       "      <td>6045.747</td>\n",
       "      <td>3566.925</td>\n",
       "      <td>19463.500000</td>\n",
       "      <td>1535.409</td>\n",
       "      <td>1416.226</td>\n",
       "      <td>3532.569</td>\n",
       "      <td>0.233</td>\n",
       "      <td>-1</td>\n",
       "      <td>2019-01-01</td>\n",
       "      <td>4</td>\n",
       "      <td>1</td>\n",
       "      <td>0</td>\n",
       "    </tr>\n",
       "  </tbody>\n",
       "</table>\n",
       "</div>"
      ],
      "text/plain": [
       "                    datetime   nuclear      ccgt        demand     hydro  \\\n",
       "0  2019-01-01 00:00:00+01:00  6047.360  3137.598  23459.000000  2581.529   \n",
       "1  2019-01-01 01:00:00+01:00  6045.900  3121.557  22781.000000  2556.662   \n",
       "2  2019-01-01 02:00:00+01:00  6046.754  3121.121  21448.500000  1840.314   \n",
       "3  2019-01-01 03:00:00+01:00  6044.538  3609.398  20262.166667  1414.429   \n",
       "4  2019-01-01 04:00:00+01:00  6045.747  3566.925  19463.500000  1535.409   \n",
       "\n",
       "       coal      wind   solar  imbalance_sign        date  hour  weekday  \\\n",
       "0  1849.879  3794.191  15.986               1  2019-01-01     0        1   \n",
       "1  1631.424  3767.804  15.921               1  2019-01-01     1        1   \n",
       "2  1573.326  3757.543   8.272              -1  2019-01-01     2        1   \n",
       "3  1441.022  3716.763   0.139              -1  2019-01-01     3        1   \n",
       "4  1416.226  3532.569   0.233              -1  2019-01-01     4        1   \n",
       "\n",
       "   weekend  \n",
       "0        0  \n",
       "1        0  \n",
       "2        0  \n",
       "3        0  \n",
       "4        0  "
      ]
     },
     "execution_count": 26,
     "metadata": {},
     "output_type": "execute_result"
    }
   ],
   "source": [
    "data.head()"
   ]
  },
  {
   "cell_type": "markdown",
   "metadata": {},
   "source": [
    "Somebody asked our colleagues in Portfolio Management, and they gave us some tips: \n",
    "* the difference between demand and total power production usually is important\n",
    "* the ratios between each production and the demand (how much demand is covered by each type of production) are usually important\n",
    "* total effect of renewable in the system (ratio renewable / demand)"
   ]
  },
  {
   "cell_type": "code",
   "execution_count": 27,
   "metadata": {},
   "outputs": [
    {
     "data": {
      "text/html": [
       "<div>\n",
       "<style scoped>\n",
       "    .dataframe tbody tr th:only-of-type {\n",
       "        vertical-align: middle;\n",
       "    }\n",
       "\n",
       "    .dataframe tbody tr th {\n",
       "        vertical-align: top;\n",
       "    }\n",
       "\n",
       "    .dataframe thead th {\n",
       "        text-align: right;\n",
       "    }\n",
       "</style>\n",
       "<table border=\"1\" class=\"dataframe\">\n",
       "  <thead>\n",
       "    <tr style=\"text-align: right;\">\n",
       "      <th></th>\n",
       "      <th>datetime</th>\n",
       "      <th>nuclear</th>\n",
       "      <th>ccgt</th>\n",
       "      <th>demand</th>\n",
       "      <th>hydro</th>\n",
       "      <th>coal</th>\n",
       "      <th>wind</th>\n",
       "      <th>solar</th>\n",
       "      <th>imbalance_sign</th>\n",
       "      <th>date</th>\n",
       "      <th>...</th>\n",
       "      <th>delta</th>\n",
       "      <th>ratio_nuclear_demand</th>\n",
       "      <th>ratio_ccgt_demand</th>\n",
       "      <th>ratio_hydro_demand</th>\n",
       "      <th>ratio_coal_demand</th>\n",
       "      <th>ratio_wind_demand</th>\n",
       "      <th>ratio_solar_demand</th>\n",
       "      <th>ratio_production_demand</th>\n",
       "      <th>ratio_renewables</th>\n",
       "      <th>thermal_gap</th>\n",
       "    </tr>\n",
       "  </thead>\n",
       "  <tbody>\n",
       "    <tr>\n",
       "      <th>0</th>\n",
       "      <td>2019-01-01 00:00:00+01:00</td>\n",
       "      <td>6047.360</td>\n",
       "      <td>3137.598</td>\n",
       "      <td>23459.000000</td>\n",
       "      <td>2581.529</td>\n",
       "      <td>1849.879</td>\n",
       "      <td>3794.191</td>\n",
       "      <td>15.986</td>\n",
       "      <td>1</td>\n",
       "      <td>2019-01-01</td>\n",
       "      <td>...</td>\n",
       "      <td>6032.457000</td>\n",
       "      <td>0.257784</td>\n",
       "      <td>0.133748</td>\n",
       "      <td>0.110044</td>\n",
       "      <td>0.078856</td>\n",
       "      <td>0.161737</td>\n",
       "      <td>0.000681</td>\n",
       "      <td>0.742851</td>\n",
       "      <td>0.162419</td>\n",
       "      <td>13601.463000</td>\n",
       "    </tr>\n",
       "    <tr>\n",
       "      <th>1</th>\n",
       "      <td>2019-01-01 01:00:00+01:00</td>\n",
       "      <td>6045.900</td>\n",
       "      <td>3121.557</td>\n",
       "      <td>22781.000000</td>\n",
       "      <td>2556.662</td>\n",
       "      <td>1631.424</td>\n",
       "      <td>3767.804</td>\n",
       "      <td>15.921</td>\n",
       "      <td>1</td>\n",
       "      <td>2019-01-01</td>\n",
       "      <td>...</td>\n",
       "      <td>5641.732000</td>\n",
       "      <td>0.265392</td>\n",
       "      <td>0.137025</td>\n",
       "      <td>0.112228</td>\n",
       "      <td>0.071613</td>\n",
       "      <td>0.165392</td>\n",
       "      <td>0.000699</td>\n",
       "      <td>0.752349</td>\n",
       "      <td>0.166091</td>\n",
       "      <td>12951.375000</td>\n",
       "    </tr>\n",
       "    <tr>\n",
       "      <th>2</th>\n",
       "      <td>2019-01-01 02:00:00+01:00</td>\n",
       "      <td>6046.754</td>\n",
       "      <td>3121.121</td>\n",
       "      <td>21448.500000</td>\n",
       "      <td>1840.314</td>\n",
       "      <td>1573.326</td>\n",
       "      <td>3757.543</td>\n",
       "      <td>8.272</td>\n",
       "      <td>-1</td>\n",
       "      <td>2019-01-01</td>\n",
       "      <td>...</td>\n",
       "      <td>5101.170000</td>\n",
       "      <td>0.281920</td>\n",
       "      <td>0.145517</td>\n",
       "      <td>0.085802</td>\n",
       "      <td>0.073354</td>\n",
       "      <td>0.175189</td>\n",
       "      <td>0.000386</td>\n",
       "      <td>0.762167</td>\n",
       "      <td>0.175575</td>\n",
       "      <td>11635.931000</td>\n",
       "    </tr>\n",
       "    <tr>\n",
       "      <th>3</th>\n",
       "      <td>2019-01-01 03:00:00+01:00</td>\n",
       "      <td>6044.538</td>\n",
       "      <td>3609.398</td>\n",
       "      <td>20262.166667</td>\n",
       "      <td>1414.429</td>\n",
       "      <td>1441.022</td>\n",
       "      <td>3716.763</td>\n",
       "      <td>0.139</td>\n",
       "      <td>-1</td>\n",
       "      <td>2019-01-01</td>\n",
       "      <td>...</td>\n",
       "      <td>4035.877667</td>\n",
       "      <td>0.298316</td>\n",
       "      <td>0.178135</td>\n",
       "      <td>0.069806</td>\n",
       "      <td>0.071119</td>\n",
       "      <td>0.183434</td>\n",
       "      <td>0.000007</td>\n",
       "      <td>0.800817</td>\n",
       "      <td>0.183441</td>\n",
       "      <td>10500.726667</td>\n",
       "    </tr>\n",
       "    <tr>\n",
       "      <th>4</th>\n",
       "      <td>2019-01-01 04:00:00+01:00</td>\n",
       "      <td>6045.747</td>\n",
       "      <td>3566.925</td>\n",
       "      <td>19463.500000</td>\n",
       "      <td>1535.409</td>\n",
       "      <td>1416.226</td>\n",
       "      <td>3532.569</td>\n",
       "      <td>0.233</td>\n",
       "      <td>-1</td>\n",
       "      <td>2019-01-01</td>\n",
       "      <td>...</td>\n",
       "      <td>3366.391000</td>\n",
       "      <td>0.310620</td>\n",
       "      <td>0.183262</td>\n",
       "      <td>0.078887</td>\n",
       "      <td>0.072763</td>\n",
       "      <td>0.181497</td>\n",
       "      <td>0.000012</td>\n",
       "      <td>0.827041</td>\n",
       "      <td>0.181509</td>\n",
       "      <td>9884.951000</td>\n",
       "    </tr>\n",
       "  </tbody>\n",
       "</table>\n",
       "<p>5 rows × 24 columns</p>\n",
       "</div>"
      ],
      "text/plain": [
       "                    datetime   nuclear      ccgt        demand     hydro  \\\n",
       "0  2019-01-01 00:00:00+01:00  6047.360  3137.598  23459.000000  2581.529   \n",
       "1  2019-01-01 01:00:00+01:00  6045.900  3121.557  22781.000000  2556.662   \n",
       "2  2019-01-01 02:00:00+01:00  6046.754  3121.121  21448.500000  1840.314   \n",
       "3  2019-01-01 03:00:00+01:00  6044.538  3609.398  20262.166667  1414.429   \n",
       "4  2019-01-01 04:00:00+01:00  6045.747  3566.925  19463.500000  1535.409   \n",
       "\n",
       "       coal      wind   solar  imbalance_sign        date  ...        delta  \\\n",
       "0  1849.879  3794.191  15.986               1  2019-01-01  ...  6032.457000   \n",
       "1  1631.424  3767.804  15.921               1  2019-01-01  ...  5641.732000   \n",
       "2  1573.326  3757.543   8.272              -1  2019-01-01  ...  5101.170000   \n",
       "3  1441.022  3716.763   0.139              -1  2019-01-01  ...  4035.877667   \n",
       "4  1416.226  3532.569   0.233              -1  2019-01-01  ...  3366.391000   \n",
       "\n",
       "   ratio_nuclear_demand  ratio_ccgt_demand  ratio_hydro_demand  \\\n",
       "0              0.257784           0.133748            0.110044   \n",
       "1              0.265392           0.137025            0.112228   \n",
       "2              0.281920           0.145517            0.085802   \n",
       "3              0.298316           0.178135            0.069806   \n",
       "4              0.310620           0.183262            0.078887   \n",
       "\n",
       "   ratio_coal_demand  ratio_wind_demand  ratio_solar_demand  \\\n",
       "0           0.078856           0.161737            0.000681   \n",
       "1           0.071613           0.165392            0.000699   \n",
       "2           0.073354           0.175189            0.000386   \n",
       "3           0.071119           0.183434            0.000007   \n",
       "4           0.072763           0.181497            0.000012   \n",
       "\n",
       "   ratio_production_demand  ratio_renewables   thermal_gap  \n",
       "0                 0.742851          0.162419  13601.463000  \n",
       "1                 0.752349          0.166091  12951.375000  \n",
       "2                 0.762167          0.175575  11635.931000  \n",
       "3                 0.800817          0.183441  10500.726667  \n",
       "4                 0.827041          0.181509   9884.951000  \n",
       "\n",
       "[5 rows x 24 columns]"
      ]
     },
     "execution_count": 27,
     "metadata": {},
     "output_type": "execute_result"
    }
   ],
   "source": [
    "data_feat_eng = data.copy()\n",
    "\n",
    "# First set of new features: differences\n",
    "production_features = [\"nuclear\", \"ccgt\", \"hydro\", \"coal\", \"wind\", \"solar\"]\n",
    "data_feat_eng[\"production\"] = data_feat_eng[production_features].sum(axis=1)\n",
    "data_feat_eng[\"delta\"] = data_feat_eng[\"demand\"] - data_feat_eng[\"production\"]\n",
    "\n",
    "# Second set of features: ratios\n",
    "for prod_type in production_features:\n",
    "    data_feat_eng[f\"ratio_{prod_type}_demand\"] = data_feat_eng[prod_type] / data_feat_eng[\"demand\"]\n",
    "    \n",
    "# bonus: total ratio of production / demand\n",
    "data_feat_eng[\"ratio_production_demand\"] = data_feat_eng[\"production\"] / data_feat_eng[\"demand\"]\n",
    "\n",
    "# Third set of features: effect of renewables\n",
    "data_feat_eng[\"ratio_renewables\"] = (data_feat_eng[\"wind\"] + data_feat_eng[\"solar\"]) / data_feat_eng[\"demand\"] \n",
    "\n",
    "# Bonus tip: thermal gap.\n",
    "# This is the amount of demand that must be covered with fossil fuel technology\n",
    "data_feat_eng[\"thermal_gap\"] = (\n",
    "    data_feat_eng[\"demand\"] \n",
    "    - data_feat_eng[\"wind\"] \n",
    "    - data_feat_eng[\"solar\"] \n",
    "    - data_feat_eng[\"nuclear\"]\n",
    ")\n",
    "data_feat_eng.head()"
   ]
  },
  {
   "cell_type": "markdown",
   "metadata": {},
   "source": [
    "Let's see now the training vs test error!"
   ]
  },
  {
   "cell_type": "code",
   "execution_count": 28,
   "metadata": {},
   "outputs": [
    {
     "name": "stdout",
     "output_type": "stream",
     "text": [
      "x_train: (13127, 21)\n",
      "x_test: (4417, 21)\n",
      "y_train: (13127,)\n",
      "y_test: (4417,)\n"
     ]
    },
    {
     "name": "stderr",
     "output_type": "stream",
     "text": [
      "C:\\Users\\Vignesh Nambiar\\anaconda3\\lib\\site-packages\\pandas\\core\\ops\\array_ops.py:73: FutureWarning: Comparison of Timestamp with datetime.date is deprecated in order to match the standard library behavior. In a future version these will be considered non-comparable. Use 'ts == pd.Timestamp(date)' or 'ts.date() == date' instead.\n",
      "  result = libops.scalar_compare(x.ravel(), y, op)\n",
      "C:\\Users\\Vignesh Nambiar\\anaconda3\\lib\\site-packages\\pandas\\core\\ops\\array_ops.py:73: FutureWarning: Comparison of Timestamp with datetime.date is deprecated in order to match the standard library behavior. In a future version these will be considered non-comparable. Use 'ts == pd.Timestamp(date)' or 'ts.date() == date' instead.\n",
      "  result = libops.scalar_compare(x.ravel(), y, op)\n",
      "C:\\Users\\Vignesh Nambiar\\anaconda3\\lib\\site-packages\\pandas\\core\\ops\\array_ops.py:73: FutureWarning: Comparison of Timestamp with datetime.date is deprecated in order to match the standard library behavior. In a future version these will be considered non-comparable. Use 'ts == pd.Timestamp(date)' or 'ts.date() == date' instead.\n",
      "  result = libops.scalar_compare(x.ravel(), y, op)\n",
      "C:\\Users\\Vignesh Nambiar\\anaconda3\\lib\\site-packages\\pandas\\core\\ops\\array_ops.py:73: FutureWarning: Comparison of Timestamp with datetime.date is deprecated in order to match the standard library behavior. In a future version these will be considered non-comparable. Use 'ts == pd.Timestamp(date)' or 'ts.date() == date' instead.\n",
      "  result = libops.scalar_compare(x.ravel(), y, op)\n"
     ]
    }
   ],
   "source": [
    "# recalculate training and test subsets with all the new features\n",
    "x_train, x_test, y_train, y_test = train_test_split(data_feat_eng, date_split)"
   ]
  },
  {
   "cell_type": "code",
   "execution_count": 29,
   "metadata": {},
   "outputs": [
    {
     "name": "stdout",
     "output_type": "stream",
     "text": [
      "max_depth: 1, acc_train: 0.594, acc_test=0.604\n",
      "max_depth: 2, acc_train: 0.614, acc_test=0.576\n",
      "max_depth: 3, acc_train: 0.635, acc_test=0.587\n",
      "max_depth: 4, acc_train: 0.649, acc_test=0.579\n",
      "max_depth: 5, acc_train: 0.660, acc_test=0.575\n",
      "max_depth: 6, acc_train: 0.678, acc_test=0.557\n",
      "max_depth: 7, acc_train: 0.704, acc_test=0.553\n",
      "max_depth: 8, acc_train: 0.730, acc_test=0.575\n",
      "max_depth: 9, acc_train: 0.757, acc_test=0.564\n",
      "max_depth: 10, acc_train: 0.784, acc_test=0.560\n",
      "max_depth: 11, acc_train: 0.809, acc_test=0.555\n",
      "max_depth: 12, acc_train: 0.840, acc_test=0.555\n",
      "max_depth: 13, acc_train: 0.867, acc_test=0.556\n",
      "max_depth: 14, acc_train: 0.896, acc_test=0.561\n",
      "max_depth: 15, acc_train: 0.921, acc_test=0.558\n",
      "max_depth: 16, acc_train: 0.939, acc_test=0.544\n",
      "max_depth: 17, acc_train: 0.955, acc_test=0.549\n",
      "max_depth: 18, acc_train: 0.967, acc_test=0.547\n",
      "max_depth: 19, acc_train: 0.979, acc_test=0.542\n",
      "max_depth: 20, acc_train: 0.985, acc_test=0.549\n",
      "max_depth: 21, acc_train: 0.990, acc_test=0.554\n",
      "max_depth: 22, acc_train: 0.993, acc_test=0.540\n",
      "max_depth: 23, acc_train: 0.995, acc_test=0.541\n",
      "max_depth: 24, acc_train: 0.997, acc_test=0.534\n",
      "max_depth: 25, acc_train: 0.998, acc_test=0.538\n",
      "max_depth: 26, acc_train: 0.998, acc_test=0.529\n",
      "max_depth: 27, acc_train: 0.999, acc_test=0.539\n",
      "max_depth: 28, acc_train: 0.999, acc_test=0.532\n",
      "max_depth: 29, acc_train: 1.000, acc_test=0.538\n",
      "max_depth: 30, acc_train: 1.000, acc_test=0.535\n",
      "max_depth: 31, acc_train: 1.000, acc_test=0.544\n",
      "max_depth: 32, acc_train: 1.000, acc_test=0.528\n",
      "max_depth: 33, acc_train: 1.000, acc_test=0.528\n",
      "max_depth: 34, acc_train: 1.000, acc_test=0.528\n",
      "max_depth: 35, acc_train: 1.000, acc_test=0.528\n",
      "max_depth: 36, acc_train: 1.000, acc_test=0.528\n",
      "max_depth: 37, acc_train: 1.000, acc_test=0.528\n",
      "max_depth: 38, acc_train: 1.000, acc_test=0.528\n",
      "max_depth: 39, acc_train: 1.000, acc_test=0.528\n",
      "max_depth: 40, acc_train: 1.000, acc_test=0.528\n",
      "max_depth: 41, acc_train: 1.000, acc_test=0.528\n",
      "max_depth: 42, acc_train: 1.000, acc_test=0.528\n",
      "max_depth: 43, acc_train: 1.000, acc_test=0.528\n",
      "max_depth: 44, acc_train: 1.000, acc_test=0.528\n",
      "max_depth: 45, acc_train: 1.000, acc_test=0.528\n",
      "max_depth: 46, acc_train: 1.000, acc_test=0.528\n",
      "max_depth: 47, acc_train: 1.000, acc_test=0.528\n",
      "max_depth: 48, acc_train: 1.000, acc_test=0.528\n",
      "max_depth: 49, acc_train: 1.000, acc_test=0.528\n"
     ]
    },
    {
     "data": {
      "image/png": "[encoded data removed]",
      "text/plain": [
       "<Figure size 1080x432 with 1 Axes>"
      ]
     },
     "metadata": {
      "needs_background": "light"
     },
     "output_type": "display_data"
    }
   ],
   "source": [
    "max_depth_range = range(1, 50)\n",
    "\n",
    "error_results = []\n",
    "\n",
    "# looping through values of max_depth\n",
    "for max_depth in max_depth_range:\n",
    "    \n",
    "    # parameters\n",
    "    parameters = {\n",
    "        \"max_depth\": max_depth,\n",
    "        \"random_state\": random_state\n",
    "    }\n",
    "\n",
    "    # train\n",
    "    dt_2 = tree.DecisionTreeClassifier(**parameters)\n",
    "    dt_2.fit(x_train, y_train)\n",
    "    \n",
    "    # predict\n",
    "    y_hat_train = dt_2.predict(x_train)\n",
    "    y_hat_test = dt_2.predict(x_test)\n",
    "    \n",
    "    # evaluate\n",
    "    acc_train = accuracy_score(y_train, y_hat_train)\n",
    "    acc_test = accuracy_score(y_test, y_hat_test)\n",
    "    \n",
    "    # store results\n",
    "    error_results.append({\n",
    "        \"max_depth\": max_depth, \n",
    "        \"acc_train\": acc_train,\n",
    "        \"acc_test\": acc_test\n",
    "    })\n",
    "    \n",
    "    # print evolution of loop:\n",
    "    print(f\"max_depth: {max_depth}, acc_train: {acc_train:.3f}, acc_test={acc_test:.3f}\")\n",
    "    \n",
    "# saving results as dataframe\n",
    "results = pd.DataFrame(error_results)\n",
    "\n",
    "# plotting\n",
    "fig, ax = plt.subplots(figsize=(15, 6))\n",
    "\n",
    "ax.plot(results[\"max_depth\"], results[\"acc_train\"], label=\"training acc\", color=\"blue\")\n",
    "ax.plot(results[\"max_depth\"], results[\"acc_test\"], label=\"test acc\", color=\"orange\")\n",
    "ax.legend(fontsize=12)\n",
    "\n",
    "plt.show()"
   ]
  },
  {
   "cell_type": "markdown",
   "metadata": {},
   "source": [
    "### Exercise 1:\n",
    "Higher complexity (represented by `max_depth`) not always is equal to higher performance!\n",
    "* What's the best value of `max_depth`? Train a Decision Tree with that value, and calculate the Feature Importance"
   ]
  },
  {
   "cell_type": "code",
   "execution_count": 30,
   "metadata": {},
   "outputs": [
    {
     "name": "stdout",
     "output_type": "stream",
     "text": [
      "Accuracy: 0.604\n",
      "Precision: 0.604\n",
      "Recall: 1.000\n",
      "Confusion matrix:\n",
      "[[   0 1750]\n",
      " [   0 2667]]\n"
     ]
    },
    {
     "data": {
      "image/png": "[encoded data removed]",
      "text/plain": [
       "<Figure size 432x288 with 1 Axes>"
      ]
     },
     "metadata": {
      "needs_background": "light"
     },
     "output_type": "display_data"
    },
    {
     "data": {
      "text/html": [
       "<div>\n",
       "<style scoped>\n",
       "    .dataframe tbody tr th:only-of-type {\n",
       "        vertical-align: middle;\n",
       "    }\n",
       "\n",
       "    .dataframe tbody tr th {\n",
       "        vertical-align: top;\n",
       "    }\n",
       "\n",
       "    .dataframe thead th {\n",
       "        text-align: right;\n",
       "    }\n",
       "</style>\n",
       "<table border=\"1\" class=\"dataframe\">\n",
       "  <thead>\n",
       "    <tr style=\"text-align: right;\">\n",
       "      <th></th>\n",
       "      <th>feature</th>\n",
       "      <th>importance</th>\n",
       "    </tr>\n",
       "  </thead>\n",
       "  <tbody>\n",
       "    <tr>\n",
       "      <th>0</th>\n",
       "      <td>ratio_ccgt_demand</td>\n",
       "      <td>1.0</td>\n",
       "    </tr>\n",
       "    <tr>\n",
       "      <th>1</th>\n",
       "      <td>nuclear</td>\n",
       "      <td>0.0</td>\n",
       "    </tr>\n",
       "    <tr>\n",
       "      <th>2</th>\n",
       "      <td>delta</td>\n",
       "      <td>0.0</td>\n",
       "    </tr>\n",
       "    <tr>\n",
       "      <th>3</th>\n",
       "      <td>ratio_renewables</td>\n",
       "      <td>0.0</td>\n",
       "    </tr>\n",
       "    <tr>\n",
       "      <th>4</th>\n",
       "      <td>ratio_production_demand</td>\n",
       "      <td>0.0</td>\n",
       "    </tr>\n",
       "    <tr>\n",
       "      <th>5</th>\n",
       "      <td>ratio_solar_demand</td>\n",
       "      <td>0.0</td>\n",
       "    </tr>\n",
       "    <tr>\n",
       "      <th>6</th>\n",
       "      <td>ratio_wind_demand</td>\n",
       "      <td>0.0</td>\n",
       "    </tr>\n",
       "    <tr>\n",
       "      <th>7</th>\n",
       "      <td>ratio_coal_demand</td>\n",
       "      <td>0.0</td>\n",
       "    </tr>\n",
       "    <tr>\n",
       "      <th>8</th>\n",
       "      <td>ratio_hydro_demand</td>\n",
       "      <td>0.0</td>\n",
       "    </tr>\n",
       "    <tr>\n",
       "      <th>9</th>\n",
       "      <td>ratio_nuclear_demand</td>\n",
       "      <td>0.0</td>\n",
       "    </tr>\n",
       "    <tr>\n",
       "      <th>10</th>\n",
       "      <td>production</td>\n",
       "      <td>0.0</td>\n",
       "    </tr>\n",
       "    <tr>\n",
       "      <th>11</th>\n",
       "      <td>ccgt</td>\n",
       "      <td>0.0</td>\n",
       "    </tr>\n",
       "    <tr>\n",
       "      <th>12</th>\n",
       "      <td>weekend</td>\n",
       "      <td>0.0</td>\n",
       "    </tr>\n",
       "    <tr>\n",
       "      <th>13</th>\n",
       "      <td>weekday</td>\n",
       "      <td>0.0</td>\n",
       "    </tr>\n",
       "    <tr>\n",
       "      <th>14</th>\n",
       "      <td>hour</td>\n",
       "      <td>0.0</td>\n",
       "    </tr>\n",
       "    <tr>\n",
       "      <th>15</th>\n",
       "      <td>solar</td>\n",
       "      <td>0.0</td>\n",
       "    </tr>\n",
       "    <tr>\n",
       "      <th>16</th>\n",
       "      <td>wind</td>\n",
       "      <td>0.0</td>\n",
       "    </tr>\n",
       "    <tr>\n",
       "      <th>17</th>\n",
       "      <td>coal</td>\n",
       "      <td>0.0</td>\n",
       "    </tr>\n",
       "    <tr>\n",
       "      <th>18</th>\n",
       "      <td>hydro</td>\n",
       "      <td>0.0</td>\n",
       "    </tr>\n",
       "    <tr>\n",
       "      <th>19</th>\n",
       "      <td>demand</td>\n",
       "      <td>0.0</td>\n",
       "    </tr>\n",
       "    <tr>\n",
       "      <th>20</th>\n",
       "      <td>thermal_gap</td>\n",
       "      <td>0.0</td>\n",
       "    </tr>\n",
       "  </tbody>\n",
       "</table>\n",
       "</div>"
      ],
      "text/plain": [
       "                    feature  importance\n",
       "0         ratio_ccgt_demand         1.0\n",
       "1                   nuclear         0.0\n",
       "2                     delta         0.0\n",
       "3          ratio_renewables         0.0\n",
       "4   ratio_production_demand         0.0\n",
       "5        ratio_solar_demand         0.0\n",
       "6         ratio_wind_demand         0.0\n",
       "7         ratio_coal_demand         0.0\n",
       "8        ratio_hydro_demand         0.0\n",
       "9      ratio_nuclear_demand         0.0\n",
       "10               production         0.0\n",
       "11                     ccgt         0.0\n",
       "12                  weekend         0.0\n",
       "13                  weekday         0.0\n",
       "14                     hour         0.0\n",
       "15                    solar         0.0\n",
       "16                     wind         0.0\n",
       "17                     coal         0.0\n",
       "18                    hydro         0.0\n",
       "19                   demand         0.0\n",
       "20              thermal_gap         0.0"
      ]
     },
     "execution_count": 30,
     "metadata": {},
     "output_type": "execute_result"
    }
   ],
   "source": [
    "\n",
    "dt = tree.DecisionTreeClassifier(random_state=random_state, max_depth=1)  # without parameter turning\n",
    "dt.fit(x_train, y_train)\n",
    "\n",
    "y_hat_1 = dt.predict(x_test)\n",
    "evaluation(y_test, y_hat_1)  # using the function we created!\n",
    "\n",
    "feat_imp = dt.feature_importances_\n",
    "features = x_train.columns\n",
    "feat_imp_dt = pd.DataFrame({\n",
    "    \"feature\": features, \n",
    "    \"importance\": feat_imp\n",
    "}).sort_values(by=\"importance\", ascending=False).reset_index(drop=True)\n",
    "feat_imp_dt\n"
   ]
  },
  {
   "cell_type": "markdown",
   "metadata": {},
   "source": [
    "### Exercise 2:\n",
    "Why do you think the best estimators are the ones with the lowest values for `max_depth`?"
   ]
  },
  {
   "cell_type": "code",
   "execution_count": 31,
   "metadata": {},
   "outputs": [
    {
     "ename": "SyntaxError",
     "evalue": "invalid syntax (2924017051.py, line 1)",
     "output_type": "error",
     "traceback": [
      "\u001b[1;36m  Input \u001b[1;32mIn [31]\u001b[1;36m\u001b[0m\n\u001b[1;33m    In this case the best estimators are the ones with the lowers values for max depth (1), because the Data we have might be limited, or the complex models are overfitting the train data.\u001b[0m\n\u001b[1;37m       ^\u001b[0m\n\u001b[1;31mSyntaxError\u001b[0m\u001b[1;31m:\u001b[0m invalid syntax\n"
     ]
    }
   ],
   "source": [
    "In this case the best estimators are the ones with the lowers values for max depth (1), because the Data we have might be limited, or the complex models are overfitting the train data."
   ]
  },
  {
   "cell_type": "markdown",
   "metadata": {},
   "source": [
    "### Exercise 3:\n",
    "Repeat what we just did with `max_depth` but this time with the parameter `min_sample_leaf`. Include in the parameters dictionary the best value of `max_depth` you decided on exercise 1!\n",
    "\n",
    "Read about it on the documentation: [DecisionTreeClassifier](https://scikit-learn.org/stable/modules/generated/sklearn.tree.DecisionTreeClassifier.html)"
   ]
  },
  {
   "cell_type": "code",
   "execution_count": 34,
   "metadata": {},
   "outputs": [
    {
     "name": "stdout",
     "output_type": "stream",
     "text": [
      "min_samples_leaf: 49, acc_train: 0.594, acc_test=0.604\n"
     ]
    },
    {
     "data": {
      "text/html": [
       "<div>\n",
       "<style scoped>\n",
       "    .dataframe tbody tr th:only-of-type {\n",
       "        vertical-align: middle;\n",
       "    }\n",
       "\n",
       "    .dataframe tbody tr th {\n",
       "        vertical-align: top;\n",
       "    }\n",
       "\n",
       "    .dataframe thead th {\n",
       "        text-align: right;\n",
       "    }\n",
       "</style>\n",
       "<table border=\"1\" class=\"dataframe\">\n",
       "  <thead>\n",
       "    <tr style=\"text-align: right;\">\n",
       "      <th></th>\n",
       "      <th>min_samples_leaf</th>\n",
       "      <th>acc_train</th>\n",
       "      <th>acc_test</th>\n",
       "      <th>max_depth</th>\n",
       "    </tr>\n",
       "  </thead>\n",
       "  <tbody>\n",
       "    <tr>\n",
       "      <th>0</th>\n",
       "      <td>49</td>\n",
       "      <td>0.59351</td>\n",
       "      <td>0.603803</td>\n",
       "      <td>1</td>\n",
       "    </tr>\n",
       "  </tbody>\n",
       "</table>\n",
       "</div>"
      ],
      "text/plain": [
       "   min_samples_leaf  acc_train  acc_test  max_depth\n",
       "0                49    0.59351  0.603803          1"
      ]
     },
     "execution_count": 34,
     "metadata": {},
     "output_type": "execute_result"
    }
   ],
   "source": [
    "error_results = []\n",
    "\n",
    "parameters = {\n",
    "    \"min_samples_leaf\":min_samples_leaf,\n",
    "    \"max_depth\": 1\n",
    "}\n",
    "\n",
    "# train\n",
    "dt_2 = tree.DecisionTreeClassifier(**parameters)\n",
    "dt_2.fit(x_train, y_train)\n",
    "\n",
    "# predict\n",
    "y_hat_train = dt_2.predict(x_train)\n",
    "y_hat_test = dt_2.predict(x_test)\n",
    "\n",
    "# evaluate\n",
    "acc_train = accuracy_score(y_train, y_hat_train)\n",
    "acc_test = accuracy_score(y_test, y_hat_test)\n",
    "\n",
    "# store results\n",
    "error_results.append({\n",
    "    \"min_samples_leaf\": min_samples_leaf, \n",
    "    \"acc_train\": acc_train,\n",
    "    \"acc_test\": acc_test,\n",
    "    \"max_depth\": 1\n",
    "})\n",
    "    \n",
    "print(f\"min_samples_leaf: {min_samples_leaf}, acc_train: {acc_train:.3f}, acc_test={acc_test:.3f}\")\n",
    "    \n",
    "# saving results as dataframe\n",
    "results = pd.DataFrame(error_results)\n",
    "\n",
    "results\n",
    "\n"
   ]
  },
  {
   "cell_type": "markdown",
   "metadata": {},
   "source": [
    "# 4. Random Forest"
   ]
  },
  {
   "cell_type": "markdown",
   "metadata": {},
   "source": [
    "Let's call the cavalry. By adding more trees to train on different samples of the same data, and averaging their outputs, we will gain robustness against overfitting."
   ]
  },
  {
   "cell_type": "code",
   "execution_count": 26,
   "metadata": {},
   "outputs": [
    {
     "name": "stdout",
     "output_type": "stream",
     "text": [
      "Accuracy: 0.594\n",
      "Precision: 0.655\n",
      "Recall: 0.693\n",
      "Confusion matrix:\n",
      "[[ 775  975]\n",
      " [ 819 1848]]\n"
     ]
    },
    {
     "data": {
      "image/png": "[encoded data removed]",
      "text/plain": [
       "<Figure size 432x288 with 1 Axes>"
      ]
     },
     "metadata": {
      "needs_background": "light"
     },
     "output_type": "display_data"
    }
   ],
   "source": [
    "rf = ensemble.RandomForestClassifier(random_state=random_state)  # without parameter turning\n",
    "rf.fit(x_train, y_train)\n",
    "y_hat_3 = rf.predict(x_test)\n",
    "evaluation(y_test, y_hat_3)"
   ]
  },
  {
   "cell_type": "markdown",
   "metadata": {},
   "source": [
    "Better than the out-of-the-box DecisionTreeClassifier, but still not great...\n",
    "\n",
    "Let's tune some parameters!"
   ]
  },
  {
   "cell_type": "code",
   "execution_count": 27,
   "metadata": {},
   "outputs": [
    {
     "name": "stdout",
     "output_type": "stream",
     "text": [
      "Accuracy: 0.602\n",
      "Precision: 0.652\n",
      "Recall: 0.733\n",
      "Confusion matrix:\n",
      "[[ 704 1046]\n",
      " [ 711 1956]]\n"
     ]
    },
    {
     "data": {
      "image/png": "[encoded data removed]",
      "text/plain": [
       "<Figure size 432x288 with 1 Axes>"
      ]
     },
     "metadata": {
      "needs_background": "light"
     },
     "output_type": "display_data"
    }
   ],
   "source": [
    "parameters = {\n",
    "    \"n_estimators\": 30,  # 30 trees in total\n",
    "    \"max_depth\": 15,  # each tree is limited to grow to the 15th lvel\n",
    "    \"max_features\": 0.7,  # each tree will be trained only with a random sample of 70% of the features \n",
    "    \"random_state\": random_state \n",
    "}\n",
    "\n",
    "rf = ensemble.RandomForestClassifier(**parameters) \n",
    "rf.fit(x_train, y_train)\n",
    "y_hat_4 = rf.predict(x_test)\n",
    "evaluation(y_test, y_hat_4)"
   ]
  },
  {
   "cell_type": "code",
   "execution_count": 18,
   "metadata": {},
   "outputs": [
    {
     "name": "stdout",
     "output_type": "stream",
     "text": [
      "N_trees: 1, acc_train: 0.888, acc_test=0.551\n",
      "N_trees: 6, acc_train: 0.979, acc_test=0.553\n",
      "N_trees: 11, acc_train: 0.995, acc_test=0.584\n",
      "N_trees: 16, acc_train: 0.997, acc_test=0.577\n",
      "N_trees: 21, acc_train: 0.998, acc_test=0.603\n"
     ]
    },
    {
     "data": {
      "image/png": "[encoded data removed]",
      "text/plain": [
       "<Figure size 1080x432 with 1 Axes>"
      ]
     },
     "metadata": {
      "needs_background": "light"
     },
     "output_type": "display_data"
    }
   ],
   "source": [
    "trees_range = range(1, 25, 5)\n",
    "\n",
    "error_results = []\n",
    "\n",
    "# looping through values of max_depth\n",
    "for i, trees in enumerate(trees_range):\n",
    "    \n",
    "    # train\n",
    "    rf = ensemble.RandomForestClassifier(n_estimators=trees, random_state=random_state)\n",
    "    rf.fit(x_train, y_train)\n",
    "    \n",
    "    # predict\n",
    "    y_hat_train = rf.predict(x_train)\n",
    "    y_hat_test = rf.predict(x_test)\n",
    "    \n",
    "    # evaluate\n",
    "    acc_train = accuracy_score(y_train, y_hat_train)\n",
    "    acc_test = accuracy_score(y_test, y_hat_test)\n",
    "    \n",
    "    # store results\n",
    "    error_results.append({\n",
    "        \"n_trees\": trees, \n",
    "        \"acc_train\": acc_train,\n",
    "        \"acc_test\": acc_test\n",
    "    })\n",
    "    \n",
    "    # print evolution of loop:\n",
    "    print(f\"N_trees: {trees}, acc_train: {acc_train:.3f}, acc_test={acc_test:.3f}\")\n",
    "    \n",
    "# saving results as dataframe\n",
    "results = pd.DataFrame(error_results)\n",
    "\n",
    "# plotting\n",
    "fig, ax = plt.subplots(figsize=(15, 6))\n",
    "\n",
    "ax.plot(results[\"n_trees\"], results[\"acc_train\"], label=\"training acc\", color=\"blue\")\n",
    "ax.plot(results[\"n_trees\"], results[\"acc_test\"], label=\"test acc\", color=\"orange\")\n",
    "ax.legend(fontsize=12)\n",
    "\n",
    "plt.show()"
   ]
  },
  {
   "cell_type": "markdown",
   "metadata": {},
   "source": [
    "Our RandomForest seems to have learned everything about the training data with ~30 trees, after that both `train`and `test` accuracy stay flat.\n",
    "\n",
    "In this case, 20 trees seem to be the optimal complexity, since the peak in test accuracy happens around 20. We can increase the number of trees but we should make each tree to `learn` less by reducing for example the amount of data (`max_features`) each tree is fed or by reducing the `max_depth` of each tree.\n",
    "\n",
    "Let's repeat the exercise with 20 trees but now changing the `max_feature` and `max_depth` parameters!\n",
    "\n",
    "This we're doing can be done automatically with `sklearn`'s [GridSearchCV](https://scikit-learn.org/stable/modules/generated/sklearn.model_selection.GridSearchCV.html)"
   ]
  },
  {
   "cell_type": "code",
   "execution_count": 19,
   "metadata": {},
   "outputs": [
    {
     "name": "stdout",
     "output_type": "stream",
     "text": [
      "Max_features: 0.1, max_depth: 1, acc_train: 0.594, acc_test=0.604\n",
      "Max_features: 0.2, max_depth: 1, acc_train: 0.594, acc_test=0.604\n",
      "Max_features: 0.3, max_depth: 1, acc_train: 0.594, acc_test=0.604\n",
      "Max_features: 0.4, max_depth: 1, acc_train: 0.594, acc_test=0.604\n",
      "Max_features: 0.5, max_depth: 1, acc_train: 0.594, acc_test=0.604\n",
      "Max_features: 0.6, max_depth: 1, acc_train: 0.594, acc_test=0.604\n",
      "Max_features: 0.7, max_depth: 1, acc_train: 0.594, acc_test=0.604\n",
      "Max_features: 0.8, max_depth: 1, acc_train: 0.594, acc_test=0.604\n",
      "Max_features: 0.9, max_depth: 1, acc_train: 0.594, acc_test=0.604\n",
      "Max_features: 0.1, max_depth: 2, acc_train: 0.596, acc_test=0.600\n",
      "Max_features: 0.2, max_depth: 2, acc_train: 0.599, acc_test=0.598\n",
      "Max_features: 0.3, max_depth: 2, acc_train: 0.609, acc_test=0.599\n",
      "Max_features: 0.4, max_depth: 2, acc_train: 0.603, acc_test=0.592\n",
      "Max_features: 0.5, max_depth: 2, acc_train: 0.605, acc_test=0.602\n",
      "Max_features: 0.6, max_depth: 2, acc_train: 0.604, acc_test=0.599\n",
      "Max_features: 0.7, max_depth: 2, acc_train: 0.606, acc_test=0.602\n",
      "Max_features: 0.8, max_depth: 2, acc_train: 0.602, acc_test=0.600\n",
      "Max_features: 0.9, max_depth: 2, acc_train: 0.606, acc_test=0.604\n",
      "Max_features: 0.1, max_depth: 3, acc_train: 0.603, acc_test=0.599\n",
      "Max_features: 0.2, max_depth: 3, acc_train: 0.619, acc_test=0.599\n",
      "Max_features: 0.3, max_depth: 3, acc_train: 0.644, acc_test=0.602\n",
      "Max_features: 0.4, max_depth: 3, acc_train: 0.628, acc_test=0.600\n",
      "Max_features: 0.5, max_depth: 3, acc_train: 0.643, acc_test=0.609\n",
      "Max_features: 0.6, max_depth: 3, acc_train: 0.646, acc_test=0.602\n",
      "Max_features: 0.7, max_depth: 3, acc_train: 0.646, acc_test=0.605\n",
      "Max_features: 0.8, max_depth: 3, acc_train: 0.642, acc_test=0.603\n",
      "Max_features: 0.9, max_depth: 3, acc_train: 0.642, acc_test=0.604\n",
      "Max_features: 0.1, max_depth: 4, acc_train: 0.627, acc_test=0.600\n",
      "Max_features: 0.2, max_depth: 4, acc_train: 0.649, acc_test=0.603\n",
      "Max_features: 0.3, max_depth: 4, acc_train: 0.665, acc_test=0.599\n",
      "Max_features: 0.4, max_depth: 4, acc_train: 0.661, acc_test=0.605\n",
      "Max_features: 0.5, max_depth: 4, acc_train: 0.666, acc_test=0.607\n",
      "Max_features: 0.6, max_depth: 4, acc_train: 0.669, acc_test=0.597\n",
      "Max_features: 0.7, max_depth: 4, acc_train: 0.675, acc_test=0.602\n",
      "Max_features: 0.8, max_depth: 4, acc_train: 0.673, acc_test=0.592\n",
      "Max_features: 0.9, max_depth: 4, acc_train: 0.672, acc_test=0.594\n",
      "Max_features: 0.1, max_depth: 5, acc_train: 0.648, acc_test=0.608\n",
      "Max_features: 0.2, max_depth: 5, acc_train: 0.674, acc_test=0.601\n",
      "Max_features: 0.3, max_depth: 5, acc_train: 0.685, acc_test=0.603\n",
      "Max_features: 0.4, max_depth: 5, acc_train: 0.692, acc_test=0.604\n",
      "Max_features: 0.5, max_depth: 5, acc_train: 0.699, acc_test=0.594\n",
      "Max_features: 0.6, max_depth: 5, acc_train: 0.693, acc_test=0.602\n",
      "Max_features: 0.7, max_depth: 5, acc_train: 0.689, acc_test=0.601\n",
      "Max_features: 0.8, max_depth: 5, acc_train: 0.697, acc_test=0.601\n",
      "Max_features: 0.9, max_depth: 5, acc_train: 0.694, acc_test=0.598\n",
      "Max_features: 0.1, max_depth: 10, acc_train: 0.803, acc_test=0.602\n",
      "Max_features: 0.2, max_depth: 10, acc_train: 0.827, acc_test=0.617\n",
      "Max_features: 0.3, max_depth: 10, acc_train: 0.831, acc_test=0.602\n",
      "Max_features: 0.4, max_depth: 10, acc_train: 0.836, acc_test=0.600\n",
      "Max_features: 0.5, max_depth: 10, acc_train: 0.844, acc_test=0.609\n",
      "Max_features: 0.6, max_depth: 10, acc_train: 0.844, acc_test=0.612\n",
      "Max_features: 0.7, max_depth: 10, acc_train: 0.847, acc_test=0.607\n",
      "Max_features: 0.8, max_depth: 10, acc_train: 0.849, acc_test=0.612\n",
      "Max_features: 0.9, max_depth: 10, acc_train: 0.851, acc_test=0.616\n",
      "Max_features: 0.1, max_depth: 15, acc_train: 0.958, acc_test=0.610\n",
      "Max_features: 0.2, max_depth: 15, acc_train: 0.965, acc_test=0.604\n",
      "Max_features: 0.3, max_depth: 15, acc_train: 0.966, acc_test=0.602\n",
      "Max_features: 0.4, max_depth: 15, acc_train: 0.970, acc_test=0.610\n",
      "Max_features: 0.5, max_depth: 15, acc_train: 0.974, acc_test=0.592\n",
      "Max_features: 0.6, max_depth: 15, acc_train: 0.975, acc_test=0.601\n",
      "Max_features: 0.7, max_depth: 15, acc_train: 0.973, acc_test=0.607\n",
      "Max_features: 0.8, max_depth: 15, acc_train: 0.975, acc_test=0.611\n",
      "Max_features: 0.9, max_depth: 15, acc_train: 0.974, acc_test=0.609\n",
      "Max_features: 0.1, max_depth: 20, acc_train: 0.995, acc_test=0.586\n",
      "Max_features: 0.2, max_depth: 20, acc_train: 0.995, acc_test=0.602\n",
      "Max_features: 0.3, max_depth: 20, acc_train: 0.996, acc_test=0.594\n",
      "Max_features: 0.4, max_depth: 20, acc_train: 0.996, acc_test=0.592\n",
      "Max_features: 0.5, max_depth: 20, acc_train: 0.997, acc_test=0.591\n",
      "Max_features: 0.6, max_depth: 20, acc_train: 0.996, acc_test=0.598\n",
      "Max_features: 0.7, max_depth: 20, acc_train: 0.997, acc_test=0.597\n",
      "Max_features: 0.8, max_depth: 20, acc_train: 0.996, acc_test=0.593\n",
      "Max_features: 0.9, max_depth: 20, acc_train: 0.996, acc_test=0.597\n"
     ]
    }
   ],
   "source": [
    "pct_features = [0.1, 0.2, 0.3, 0.4, 0.5, 0.6, 0.7, 0.8, 0.9]\n",
    "max_depths = [1, 2, 3, 4, 5, 10, 15, 20]\n",
    "n_trees = 20\n",
    "error_results = []\n",
    "results_mtx = np.zeros((len(max_depths), len(pct_features)))\n",
    "\n",
    "# looping through values of max_depth\n",
    "for i, max_depth in enumerate(max_depths):\n",
    "    for j, pct in enumerate(pct_features):\n",
    "    \n",
    "        # train\n",
    "        rf = ensemble.RandomForestClassifier(\n",
    "            n_estimators=n_trees, \n",
    "            random_state=random_state,\n",
    "            max_depth=max_depth,\n",
    "            max_features=pct\n",
    "        )\n",
    "        rf.fit(x_train, y_train)\n",
    "\n",
    "        # predict\n",
    "        y_hat_train = rf.predict(x_train)\n",
    "        y_hat_test = rf.predict(x_test)\n",
    "\n",
    "        # evaluate\n",
    "        acc_train = accuracy_score(y_train, y_hat_train)\n",
    "        acc_test = accuracy_score(y_test, y_hat_test)\n",
    "        results_mtx[i, j] = acc_test\n",
    "\n",
    "        # store results\n",
    "        error_results.append({\n",
    "            \"pct_features\": pct, \n",
    "            \"max_depth\": max_depth,\n",
    "            \"acc_train\": acc_train,\n",
    "            \"acc_test\": acc_test\n",
    "        })\n",
    "\n",
    "        # print evolution of loop:\n",
    "        print(f\"Max_features: {pct}, max_depth: {max_depth}, acc_train: {acc_train:.3f}, acc_test={acc_test:.3f}\")\n",
    "    \n",
    "# saving results as dataframe\n",
    "results = pd.DataFrame(error_results)"
   ]
  },
  {
   "cell_type": "code",
   "execution_count": 30,
   "metadata": {},
   "outputs": [
    {
     "data": {
      "image/png": "[encoded data removed]",
      "text/plain": [
       "<Figure size 504x504 with 2 Axes>"
      ]
     },
     "metadata": {
      "needs_background": "light"
     },
     "output_type": "display_data"
    }
   ],
   "source": [
    "# plotting\n",
    "fig, ax = plt.subplots(figsize=(7, 7))\n",
    "\n",
    "sns.heatmap(\n",
    "    results_mtx, \n",
    "    ax=ax, \n",
    "    xticklabels=np.round(pct_features, 2), \n",
    "    yticklabels=np.round(max_depths, 2),\n",
    "    annot=True,\n",
    "    fmt=\".2f\",\n",
    "    cmap=\"Greens\"\n",
    ")\n",
    "ax.set_title(\"Test accuracy heatmap\")\n",
    "ax.set_xlabel(\"Feature percentage\")\n",
    "ax.set_ylabel(\"Max depth\")\n",
    "\n",
    "plt.show()"
   ]
  },
  {
   "cell_type": "markdown",
   "metadata": {},
   "source": [
    "It looks like the sweet spot revolves around 4-5 levels of depth, while using 10-20 % of the features for each tree.\n",
    "\n",
    "Accuracy test is 61 % in the sweet spot!"
   ]
  },
  {
   "cell_type": "markdown",
   "metadata": {},
   "source": [
    "# 5. XGBoost"
   ]
  },
  {
   "cell_type": "markdown",
   "metadata": {},
   "source": [
    "And finally: [XGBoost](https://xgboost.readthedocs.io/en/latest/parameter.html). \n",
    "\n",
    "Will use xgb first out of the box, and then will tune it a bit.\n",
    "\n",
    "Xgb needs the classes to be [0, 1, 2, etc] so let's convert our `y` subsets:"
   ]
  },
  {
   "cell_type": "code",
   "execution_count": 21,
   "metadata": {},
   "outputs": [],
   "source": [
    "y_train = np.where(y_train==1, 1, 0)\n",
    "y_test = np.where(y_test==1, 1, 0)"
   ]
  },
  {
   "cell_type": "markdown",
   "metadata": {},
   "source": [
    "`XGBoost` uses the same syntax as `scikit-learn` for training and predicting, which is quite useful."
   ]
  },
  {
   "cell_type": "code",
   "execution_count": 22,
   "metadata": {},
   "outputs": [
    {
     "name": "stdout",
     "output_type": "stream",
     "text": [
      "Accuracy: 0.624\n",
      "Precision: 0.666\n",
      "Recall: 0.756\n",
      "Confusion matrix:\n",
      "[[ 738 1012]\n",
      " [ 651 2016]]\n"
     ]
    },
    {
     "data": {
      "image/png": "[encoded data removed]",
      "text/plain": [
       "<Figure size 432x288 with 1 Axes>"
      ]
     },
     "metadata": {
      "needs_background": "light"
     },
     "output_type": "display_data"
    }
   ],
   "source": [
    "xgb = XGBClassifier(use_label_encoder=False, objective='binary:logistic')\n",
    "xgb.fit(x_train, y_train)\n",
    "y_hat_xgb = xgb.predict(x_test)\n",
    "evaluation(y_test, y_hat_xgb)"
   ]
  },
  {
   "cell_type": "markdown",
   "metadata": {},
   "source": [
    "Almost as good as the tuned Random Forest! Let's pull more levers by tuning some parameters of the estimator."
   ]
  },
  {
   "cell_type": "code",
   "execution_count": 23,
   "metadata": {},
   "outputs": [
    {
     "name": "stderr",
     "output_type": "stream",
     "text": [
      "C:\\Users\\Vignesh Nambiar\\anaconda3\\lib\\site-packages\\xgboost\\sklearn.py:1395: UserWarning: `use_label_encoder` is deprecated in 1.7.0.\n",
      "  warnings.warn(\"`use_label_encoder` is deprecated in 1.7.0.\")\n"
     ]
    }
   ],
   "source": [
    "xgb_tuned = XGBClassifier(\n",
    "    use_label_encoder=False, # labels are already encoded as [0, 1]\n",
    "    objective='binary:logistic', # for binary classification\n",
    "    max_depth=5,  # depth of each tree\n",
    "    subsample=0.3,  # sample of training data each tree will use: 30 %\n",
    "    n_estimators=500,  # total number of trees that will be created\n",
    "    learning_rate=0.01,  # how much each tree will learn \n",
    "    verbose=True\n",
    ")"
   ]
  },
  {
   "cell_type": "markdown",
   "metadata": {},
   "source": [
    "There's a tradeoff between `n_estimators` and `learning_rate`: the more trees you add, the less they should learn!\n",
    "\n",
    "We can make each tree to learn less by reducing the `learning_rate` parameter."
   ]
  },
  {
   "cell_type": "code",
   "execution_count": 26,
   "metadata": {},
   "outputs": [
    {
     "name": "stdout",
     "output_type": "stream",
     "text": [
      "[13:41:52] WARNING: C:/buildkite-agent/builds/buildkite-windows-cpu-autoscaling-group-i-08de971ced8a8cdc6-1/xgboost/xgboost-ci-windows/src/learner.cc:767: \n",
      "Parameters: { \"verbose\" } are not used.\n",
      "\n",
      "Accuracy: 0.614\n",
      "Precision: 0.648\n",
      "Recall: 0.789\n",
      "Confusion matrix:\n",
      "[[ 608 1142]\n",
      " [ 562 2105]]\n"
     ]
    },
    {
     "data": {
      "image/png": "[encoded data removed]",
      "text/plain": [
       "<Figure size 432x288 with 1 Axes>"
      ]
     },
     "metadata": {
      "needs_background": "light"
     },
     "output_type": "display_data"
    }
   ],
   "source": [
    "xgb_tuned.fit(x_train, y_train)\n",
    "y_hat_xgb_tuned = xgb_tuned.predict(x_test)\n",
    "evaluation(y_test, y_hat_xgb_tuned)"
   ]
  },
  {
   "cell_type": "markdown",
   "metadata": {},
   "source": [
    "Let's use one of the coolest features of XGBoost: validation. We can track automatically the training and test error for each added tree (training round, epoch). Also, we can choose how many rounds without improvement on the metrics we can to keep, so that we avoid overfitting after many rounds of no improvement: `early_stopping_rounds`"
   ]
  },
  {
   "cell_type": "code",
   "execution_count": 28,
   "metadata": {},
   "outputs": [
    {
     "name": "stdout",
     "output_type": "stream",
     "text": [
      "[13:47:42] WARNING: C:/buildkite-agent/builds/buildkite-windows-cpu-autoscaling-group-i-08de971ced8a8cdc6-1/xgboost/xgboost-ci-windows/src/learner.cc:767: \n",
      "Parameters: { \"verbose\" } are not used.\n",
      "\n",
      "[0]\tvalidation_0-error:0.37335\tvalidation_0-auc:0.64676\tvalidation_1-error:0.42155\tvalidation_1-auc:0.53449\n",
      "[1]\tvalidation_0-error:0.33961\tvalidation_0-auc:0.69171\tvalidation_1-error:0.40186\tvalidation_1-auc:0.57234\n",
      "[2]\tvalidation_0-error:0.33443\tvalidation_0-auc:0.70593\tvalidation_1-error:0.39529\tvalidation_1-auc:0.57670\n",
      "[3]\tvalidation_0-error:0.32681\tvalidation_0-auc:0.71153\tvalidation_1-error:0.38918\tvalidation_1-auc:0.58312\n",
      "[4]\tvalidation_0-error:0.32178\tvalidation_0-auc:0.72326\tvalidation_1-error:0.40435\tvalidation_1-auc:0.57906\n",
      "[5]\tvalidation_0-error:0.31348\tvalidation_0-auc:0.73416\tvalidation_1-error:0.40910\tvalidation_1-auc:0.57318\n",
      "[6]\tvalidation_0-error:0.31325\tvalidation_0-auc:0.73840\tvalidation_1-error:0.40367\tvalidation_1-auc:0.57548\n",
      "[7]\tvalidation_0-error:0.30929\tvalidation_0-auc:0.74279\tvalidation_1-error:0.39416\tvalidation_1-auc:0.57452\n",
      "[8]\tvalidation_0-error:0.31028\tvalidation_0-auc:0.74563\tvalidation_1-error:0.39122\tvalidation_1-auc:0.58333\n",
      "[9]\tvalidation_0-error:0.30906\tvalidation_0-auc:0.74685\tvalidation_1-error:0.39665\tvalidation_1-auc:0.58219\n",
      "[10]\tvalidation_0-error:0.30830\tvalidation_0-auc:0.74799\tvalidation_1-error:0.39371\tvalidation_1-auc:0.58530\n",
      "[11]\tvalidation_0-error:0.30670\tvalidation_0-auc:0.74780\tvalidation_1-error:0.39416\tvalidation_1-auc:0.58677\n",
      "[12]\tvalidation_0-error:0.30532\tvalidation_0-auc:0.74965\tvalidation_1-error:0.39303\tvalidation_1-auc:0.58165\n",
      "[13]\tvalidation_0-error:0.30403\tvalidation_0-auc:0.75192\tvalidation_1-error:0.39122\tvalidation_1-auc:0.58472\n",
      "[14]\tvalidation_0-error:0.30388\tvalidation_0-auc:0.75316\tvalidation_1-error:0.39008\tvalidation_1-auc:0.57931\n",
      "[15]\tvalidation_0-error:0.30327\tvalidation_0-auc:0.75267\tvalidation_1-error:0.38963\tvalidation_1-auc:0.57603\n",
      "[16]\tvalidation_0-error:0.30281\tvalidation_0-auc:0.75309\tvalidation_1-error:0.39461\tvalidation_1-auc:0.57533\n",
      "[17]\tvalidation_0-error:0.30357\tvalidation_0-auc:0.75428\tvalidation_1-error:0.39597\tvalidation_1-auc:0.57365\n",
      "[18]\tvalidation_0-error:0.30205\tvalidation_0-auc:0.75508\tvalidation_1-error:0.39167\tvalidation_1-auc:0.57470\n",
      "[19]\tvalidation_0-error:0.30373\tvalidation_0-auc:0.75524\tvalidation_1-error:0.39348\tvalidation_1-auc:0.57483\n",
      "[20]\tvalidation_0-error:0.30266\tvalidation_0-auc:0.75620\tvalidation_1-error:0.39280\tvalidation_1-auc:0.57750\n",
      "[21]\tvalidation_0-error:0.30190\tvalidation_0-auc:0.75606\tvalidation_1-error:0.39303\tvalidation_1-auc:0.57825\n",
      "[22]\tvalidation_0-error:0.29908\tvalidation_0-auc:0.75629\tvalidation_1-error:0.38986\tvalidation_1-auc:0.57755\n",
      "[23]\tvalidation_0-error:0.29999\tvalidation_0-auc:0.75731\tvalidation_1-error:0.39257\tvalidation_1-auc:0.57788\n",
      "[24]\tvalidation_0-error:0.29992\tvalidation_0-auc:0.75740\tvalidation_1-error:0.39303\tvalidation_1-auc:0.57666\n",
      "[25]\tvalidation_0-error:0.30007\tvalidation_0-auc:0.75785\tvalidation_1-error:0.39031\tvalidation_1-auc:0.57641\n"
     ]
    }
   ],
   "source": [
    "eval_set = [(x_train, y_train), (x_test, y_test)]\n",
    "xgb_tuned.fit(\n",
    "    x_train, \n",
    "    y_train, \n",
    "    early_stopping_rounds=15, # How many rounds without improvement in our metric (error, auc) before we stop training\n",
    "    eval_metric=[\"error\", \"auc\"], # will check the error and the auc on each training round\n",
    "    eval_set=eval_set, \n",
    "    verbose=1 # print each iteration\n",
    ")\n",
    "\n",
    "# retrieve performance metrics\n",
    "results = xgb_tuned.evals_result()\n",
    "epochs = len(results['validation_0']['error'])\n",
    "x_axis = range(0, epochs)"
   ]
  },
  {
   "cell_type": "code",
   "execution_count": 29,
   "metadata": {},
   "outputs": [
    {
     "data": {
      "image/png": "[encoded data removed]",
      "text/plain": [
       "<Figure size 432x288 with 1 Axes>"
      ]
     },
     "metadata": {
      "needs_background": "light"
     },
     "output_type": "display_data"
    },
    {
     "data": {
      "image/png": "[encoded data removed]",
      "text/plain": [
       "<Figure size 432x288 with 1 Axes>"
      ]
     },
     "metadata": {
      "needs_background": "light"
     },
     "output_type": "display_data"
    }
   ],
   "source": [
    "# plot auc\n",
    "fig, ax = plt.subplots()\n",
    "ax.plot(x_axis, results['validation_0']['auc'], label='Train')\n",
    "ax.plot(x_axis, results['validation_1']['auc'], label='Test')\n",
    "ax.legend()\n",
    "plt.ylabel('AUC-ROC')\n",
    "plt.title('XGBoost AUC-ROC')\n",
    "plt.show()\n",
    "\n",
    "# plot classification error\n",
    "fig, ax = plt.subplots()\n",
    "ax.plot(x_axis, results['validation_0']['error'], label='Train')\n",
    "ax.plot(x_axis, results['validation_1']['error'], label='Test')\n",
    "ax.legend()\n",
    "plt.ylabel('Classification Error')\n",
    "plt.title('XGBoost Classification Error')\n",
    "plt.show()"
   ]
  },
  {
   "cell_type": "markdown",
   "metadata": {},
   "source": [
    "It seems like it's already flat for AUC after the first 15 rounds, and since it's not improving, our `early_stopping` parameters has stopped the whole training. But what if we let the model train and then we decide the `early_stopping`?"
   ]
  },
  {
   "cell_type": "code",
   "execution_count": 36,
   "metadata": {},
   "outputs": [
    {
     "name": "stderr",
     "output_type": "stream",
     "text": [
      "C:\\Users\\Vignesh Nambiar\\anaconda3\\lib\\site-packages\\xgboost\\sklearn.py:835: UserWarning: `eval_metric` in `fit` method is deprecated for better compatibility with scikit-learn, use `eval_metric` in constructor or`set_params` instead.\n",
      "  warnings.warn(\n",
      "C:\\Users\\Vignesh Nambiar\\anaconda3\\lib\\site-packages\\xgboost\\sklearn.py:835: UserWarning: `early_stopping_rounds` in `fit` method is deprecated for better compatibility with scikit-learn, use `early_stopping_rounds` in constructor or`set_params` instead.\n",
      "  warnings.warn(\n"
     ]
    },
    {
     "name": "stdout",
     "output_type": "stream",
     "text": [
      "[13:51:21] WARNING: C:/buildkite-agent/builds/buildkite-windows-cpu-autoscaling-group-i-08de971ced8a8cdc6-1/xgboost/xgboost-ci-windows/src/learner.cc:767: \n",
      "Parameters: { \"verbose\" } are not used.\n",
      "\n"
     ]
    }
   ],
   "source": [
    "eval_set = [(x_train, y_train), (x_test, y_test)]\n",
    "xgb_tuned.fit(\n",
    "    x_train, \n",
    "    y_train, \n",
    "    early_stopping_rounds=2000, # How many rounds without improvement in our metric (error, auc) before we stop training\n",
    "    eval_metric=[\"error\", \"auc\"], # will check the error and the auc on each training round\n",
    "    eval_set=eval_set, \n",
    "    verbose=0 # print each iteration\n",
    ")\n",
    "\n",
    "# retrieve performance metrics\n",
    "results = xgb_tuned.evals_result()\n",
    "epochs = len(results['validation_0']['error'])\n",
    "x_axis = range(0, epochs)"
   ]
  },
  {
   "cell_type": "code",
   "execution_count": 37,
   "metadata": {},
   "outputs": [
    {
     "data": {
      "image/png": "[encoded data removed]",
      "text/plain": [
       "<Figure size 432x288 with 1 Axes>"
      ]
     },
     "metadata": {
      "needs_background": "light"
     },
     "output_type": "display_data"
    },
    {
     "data": {
      "image/png": "[encoded data removed]",
      "text/plain": [
       "<Figure size 432x288 with 1 Axes>"
      ]
     },
     "metadata": {
      "needs_background": "light"
     },
     "output_type": "display_data"
    }
   ],
   "source": [
    "# plot auc\n",
    "fig, ax = plt.subplots()\n",
    "ax.plot(x_axis, results['validation_0']['auc'], label='Train')\n",
    "ax.plot(x_axis, results['validation_1']['auc'], label='Test')\n",
    "ax.legend()\n",
    "plt.ylabel('AUC-ROC')\n",
    "plt.title('XGBoost AUC-ROC')\n",
    "plt.show()\n",
    "\n",
    "# plot classification error\n",
    "fig, ax = plt.subplots()\n",
    "ax.plot(x_axis, results['validation_0']['error'], label='Train')\n",
    "ax.plot(x_axis, results['validation_1']['error'], label='Test')\n",
    "ax.legend()\n",
    "plt.ylabel('Classification Error')\n",
    "plt.title('XGBoost Classification Error')\n",
    "plt.show()"
   ]
  },
  {
   "cell_type": "code",
   "execution_count": 35,
   "metadata": {},
   "outputs": [
    {
     "name": "stdout",
     "output_type": "stream",
     "text": [
      "Accuracy: 0.614\n",
      "Precision: 0.648\n",
      "Recall: 0.789\n",
      "Confusion matrix:\n",
      "[[ 608 1142]\n",
      " [ 562 2105]]\n"
     ]
    },
    {
     "data": {
      "image/png": "[encoded data removed]",
      "text/plain": [
       "<Figure size 432x288 with 1 Axes>"
      ]
     },
     "metadata": {
      "needs_background": "light"
     },
     "output_type": "display_data"
    }
   ],
   "source": [
    "y_hat_xgb_tuned = xgb_tuned.predict(x_test)\n",
    "evaluation(y_test, y_hat_xgb_tuned)"
   ]
  },
  {
   "cell_type": "markdown",
   "metadata": {},
   "source": [
    "Sometimes, there's some noise in the first rounds and a smaller early stopping can make you miss the actual improvement of the training"
   ]
  },
  {
   "cell_type": "markdown",
   "metadata": {},
   "source": [
    "It seems that the `AUC` still has a positive slope, we should add more trees and train for more rounds!\n",
    "\n",
    "Now we'll try with 2000 trees"
   ]
  },
  {
   "cell_type": "code",
   "execution_count": 40,
   "metadata": {},
   "outputs": [],
   "source": [
    "xgb_tuned = XGBClassifier(\n",
    "    use_label_encoder=False, # labels are already encoded as [0, 1]\n",
    "    objective='binary:logistic', # logistic regression for binary classification\n",
    "    max_depth=5,  # depth of each tree\n",
    "    subsample=0.3,  # sample of training data each tree will use\n",
    "    n_estimators=2000,  # total number of trees that will be created\n",
    "    learning_rate=0.01  # how much each tree will learn \n",
    ")\n",
    "\n",
    "eval_set = [(x_train, y_train), (x_test, y_test)]\n",
    "xgb_tuned.fit(\n",
    "    x_train, \n",
    "    y_train, \n",
    "    early_stopping_rounds=500, # How many rounds without improvement in our metric (error, auc) before we stop training\n",
    "    eval_metric=[\"error\", \"auc\"], # will check the error and the auc on each training round\n",
    "    eval_set=eval_set, \n",
    "    verbose=0 # print each iteration\n",
    ")\n",
    "\n",
    "# retrieve performance metrics\n",
    "results = xgb_tuned.evals_result()\n",
    "epochs = len(results['validation_0']['error'])\n",
    "x_axis = range(0, epochs)"
   ]
  },
  {
   "cell_type": "code",
   "execution_count": 41,
   "metadata": {},
   "outputs": [
    {
     "name": "stdout",
     "output_type": "stream",
     "text": [
      "Accuracy: 0.611\n",
      "Precision: 0.657\n",
      "Recall: 0.744\n",
      "Confusion matrix:\n",
      "[[ 714 1036]\n",
      " [ 684 1983]]\n"
     ]
    },
    {
     "data": {
      "image/png": "[encoded data removed]",
      "text/plain": [
       "<Figure size 432x288 with 1 Axes>"
      ]
     },
     "metadata": {
      "needs_background": "light"
     },
     "output_type": "display_data"
    }
   ],
   "source": [
    "y_hat_xgb_tuned = xgb_tuned.predict(x_test)\n",
    "evaluation(y_test, y_hat_xgb_tuned)"
   ]
  },
  {
   "cell_type": "markdown",
   "metadata": {},
   "source": [
    "By using early stopping, the best model according to the test metrics is the one that will be saved after the training.\n",
    "\n",
    "61.1 % Accuracy!"
   ]
  },
  {
   "cell_type": "code",
   "execution_count": 42,
   "metadata": {},
   "outputs": [
    {
     "data": {
      "image/png": "[encoded data removed]",
      "text/plain": [
       "<Figure size 432x288 with 1 Axes>"
      ]
     },
     "metadata": {
      "needs_background": "light"
     },
     "output_type": "display_data"
    },
    {
     "data": {
      "image/png": "[encoded data removed]",
      "text/plain": [
       "<Figure size 432x288 with 1 Axes>"
      ]
     },
     "metadata": {
      "needs_background": "light"
     },
     "output_type": "display_data"
    }
   ],
   "source": [
    "# plot auc\n",
    "fig, ax = plt.subplots()\n",
    "ax.plot(x_axis, results['validation_0']['auc'], label='Train')\n",
    "ax.plot(x_axis, results['validation_1']['auc'], label='Test')\n",
    "ax.legend()\n",
    "plt.ylabel('AUC-ROC')\n",
    "plt.title('XGBoost AUC-ROC')\n",
    "plt.show()\n",
    "\n",
    "# plot classification error\n",
    "fig, ax = plt.subplots()\n",
    "ax.plot(x_axis, results['validation_0']['error'], label='Train')\n",
    "ax.plot(x_axis, results['validation_1']['error'], label='Test')\n",
    "ax.legend()\n",
    "plt.ylabel('Classification Error')\n",
    "plt.title('XGBoost Classification Error')\n",
    "plt.show()"
   ]
  },
  {
   "cell_type": "markdown",
   "metadata": {},
   "source": [
    "In the end, we had `regularized` a lot by using a low`learning_rate`, and each tree only being allowed to grow to `max_depth`=5 while training with only a random sample of 30% of the training data, so adding more trees is a great idea in this case."
   ]
  },
  {
   "cell_type": "markdown",
   "metadata": {},
   "source": [
    "# Summary \n",
    "\n",
    "## Decision trees:\n",
    "* Very prone to overfitting: control `max_depth`!\n",
    "* Understandable results \n",
    "* Very good explainability (feature importance)\n",
    "\n",
    "## Random Forest:\n",
    "* Robust to overfitting if tuning the correct parameters (`n_estimators` and `max_features`)\n",
    "* Less understandable results at first\n",
    "* Good explainability (feature importance)\n",
    "\n",
    "## XGBooooooooooost!\n",
    "* Robust to overfitting if you use `early_stopping` to limit the learning rounds\n",
    "* Needs longer training time but generally has better performance\n",
    "* Good-ish explainability"
   ]
  },
  {
   "cell_type": "code",
   "execution_count": null,
   "metadata": {},
   "outputs": [],
   "source": []
  }
 ],
 "metadata": {
  "kernelspec": {
   "display_name": "Python 3 (ipykernel)",
   "language": "python",
   "name": "python3"
  },
  "language_info": {
   "codemirror_mode": {
    "name": "ipython",
    "version": 3
   },
   "file_extension": ".py",
   "mimetype": "text/x-python",
   "name": "python",
   "nbconvert_exporter": "python",
   "pygments_lexer": "ipython3",
   "version": "3.9.12"
  }
 },
 "nbformat": 4,
 "nbformat_minor": 4
}
