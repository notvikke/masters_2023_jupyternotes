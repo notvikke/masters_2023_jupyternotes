{
 "cells": [
  {
   "cell_type": "markdown",
   "id": "272ba6d4-8c7f-41ac-b7eb-8d2e59dddbc2",
   "metadata": {},
   "source": [
    "# Session 12: Reading files into dataframes. Operations on data. Aggregating and grouping."
   ]
  },
  {
   "cell_type": "markdown",
   "id": "363954cd-3009-4528-aebe-3094fa98388d",
   "metadata": {},
   "source": [
    "## Reading files into DataFrames:\n",
    "\n",
    "`pandas` is a module really versatile when converting data in different files into DataFrames.\n",
    "\n",
    "We have several functions from `pandas` to read files into DataFrames:\n",
    "* `pd.read_csv` converts CSV files into a `pd.DataFrame`\n",
    "* `pd.read_json` converts JSON files into a `pd.DataFrame`\n",
    "* `pd.read_html` converts HTML files into a `pd.DataFrame`\n",
    "* `pd.read_clipboard` converts the data in your clipboard into a `pd.DataFrame`\n",
    "* and many more... https://pandas.pydata.org/pandas-docs/stable/user_guide/io.html\n",
    "\n",
    "In general, `pandas` will read the file just ok, but there are sometimes in which we need to specify some arguments within `read_csv()`:\n",
    "* separator: `sep` can be semicolon (;), comma (,), tab (\\t), etc\n",
    "* encoding: `encoding` can be `utf-8`, `latin1`, ..."
   ]
  },
  {
   "cell_type": "code",
   "execution_count": 1,
   "id": "81919502-586c-41a4-a4a9-3ee3323ca537",
   "metadata": {},
   "outputs": [
    {
     "data": {
      "text/html": [
       "<div>\n",
       "<style scoped>\n",
       "    .dataframe tbody tr th:only-of-type {\n",
       "        vertical-align: middle;\n",
       "    }\n",
       "\n",
       "    .dataframe tbody tr th {\n",
       "        vertical-align: top;\n",
       "    }\n",
       "\n",
       "    .dataframe thead th {\n",
       "        text-align: right;\n",
       "    }\n",
       "</style>\n",
       "<table border=\"1\" class=\"dataframe\">\n",
       "  <thead>\n",
       "    <tr style=\"text-align: right;\">\n",
       "      <th></th>\n",
       "      <th>marketplace</th>\n",
       "    </tr>\n",
       "  </thead>\n",
       "  <tbody>\n",
       "  </tbody>\n",
       "</table>\n",
       "</div>"
      ],
      "text/plain": [
       "Empty DataFrame\n",
       "Columns: [marketplace]\n",
       "Index: []"
      ]
     },
     "execution_count": 1,
     "metadata": {},
     "output_type": "execute_result"
    }
   ],
   "source": [
    "import pandas as pd\n",
    "pd.read_clipboard()"
   ]
  },
  {
   "cell_type": "code",
   "execution_count": 1,
   "id": "ac106566-cef5-4fd9-80d4-5421e5445f60",
   "metadata": {},
   "outputs": [
    {
     "ename": "FileNotFoundError",
     "evalue": "[Errno 2] No such file or directory: '../files/animals.csv'",
     "output_type": "error",
     "traceback": [
      "\u001b[1;31m---------------------------------------------------------------------------\u001b[0m",
      "\u001b[1;31mFileNotFoundError\u001b[0m                         Traceback (most recent call last)",
      "Input \u001b[1;32mIn [1]\u001b[0m, in \u001b[0;36m<cell line: 5>\u001b[1;34m()\u001b[0m\n\u001b[0;32m      1\u001b[0m \u001b[38;5;66;03m# lets read animals.csv\u001b[39;00m\n\u001b[0;32m      3\u001b[0m \u001b[38;5;28;01mimport\u001b[39;00m \u001b[38;5;21;01mpandas\u001b[39;00m \u001b[38;5;28;01mas\u001b[39;00m \u001b[38;5;21;01mpd\u001b[39;00m\n\u001b[1;32m----> 5\u001b[0m animals \u001b[38;5;241m=\u001b[39m \u001b[43mpd\u001b[49m\u001b[38;5;241;43m.\u001b[39;49m\u001b[43mread_csv\u001b[49m\u001b[43m(\u001b[49m\u001b[38;5;124;43m\"\u001b[39;49m\u001b[38;5;124;43m../files/animals.csv\u001b[39;49m\u001b[38;5;124;43m\"\u001b[39;49m\u001b[43m,\u001b[49m\u001b[43m \u001b[49m\u001b[43msep\u001b[49m\u001b[38;5;241;43m=\u001b[39;49m\u001b[38;5;124;43m\"\u001b[39;49m\u001b[38;5;124;43m,\u001b[39;49m\u001b[38;5;124;43m\"\u001b[39;49m\u001b[43m)\u001b[49m\n\u001b[0;32m      7\u001b[0m animals\u001b[38;5;241m.\u001b[39mhead()\n",
      "File \u001b[1;32m~\\anaconda3\\lib\\site-packages\\pandas\\util\\_decorators.py:311\u001b[0m, in \u001b[0;36mdeprecate_nonkeyword_arguments.<locals>.decorate.<locals>.wrapper\u001b[1;34m(*args, **kwargs)\u001b[0m\n\u001b[0;32m    305\u001b[0m \u001b[38;5;28;01mif\u001b[39;00m \u001b[38;5;28mlen\u001b[39m(args) \u001b[38;5;241m>\u001b[39m num_allow_args:\n\u001b[0;32m    306\u001b[0m     warnings\u001b[38;5;241m.\u001b[39mwarn(\n\u001b[0;32m    307\u001b[0m         msg\u001b[38;5;241m.\u001b[39mformat(arguments\u001b[38;5;241m=\u001b[39marguments),\n\u001b[0;32m    308\u001b[0m         \u001b[38;5;167;01mFutureWarning\u001b[39;00m,\n\u001b[0;32m    309\u001b[0m         stacklevel\u001b[38;5;241m=\u001b[39mstacklevel,\n\u001b[0;32m    310\u001b[0m     )\n\u001b[1;32m--> 311\u001b[0m \u001b[38;5;28;01mreturn\u001b[39;00m func(\u001b[38;5;241m*\u001b[39margs, \u001b[38;5;241m*\u001b[39m\u001b[38;5;241m*\u001b[39mkwargs)\n",
      "File \u001b[1;32m~\\anaconda3\\lib\\site-packages\\pandas\\io\\parsers\\readers.py:680\u001b[0m, in \u001b[0;36mread_csv\u001b[1;34m(filepath_or_buffer, sep, delimiter, header, names, index_col, usecols, squeeze, prefix, mangle_dupe_cols, dtype, engine, converters, true_values, false_values, skipinitialspace, skiprows, skipfooter, nrows, na_values, keep_default_na, na_filter, verbose, skip_blank_lines, parse_dates, infer_datetime_format, keep_date_col, date_parser, dayfirst, cache_dates, iterator, chunksize, compression, thousands, decimal, lineterminator, quotechar, quoting, doublequote, escapechar, comment, encoding, encoding_errors, dialect, error_bad_lines, warn_bad_lines, on_bad_lines, delim_whitespace, low_memory, memory_map, float_precision, storage_options)\u001b[0m\n\u001b[0;32m    665\u001b[0m kwds_defaults \u001b[38;5;241m=\u001b[39m _refine_defaults_read(\n\u001b[0;32m    666\u001b[0m     dialect,\n\u001b[0;32m    667\u001b[0m     delimiter,\n\u001b[1;32m   (...)\u001b[0m\n\u001b[0;32m    676\u001b[0m     defaults\u001b[38;5;241m=\u001b[39m{\u001b[38;5;124m\"\u001b[39m\u001b[38;5;124mdelimiter\u001b[39m\u001b[38;5;124m\"\u001b[39m: \u001b[38;5;124m\"\u001b[39m\u001b[38;5;124m,\u001b[39m\u001b[38;5;124m\"\u001b[39m},\n\u001b[0;32m    677\u001b[0m )\n\u001b[0;32m    678\u001b[0m kwds\u001b[38;5;241m.\u001b[39mupdate(kwds_defaults)\n\u001b[1;32m--> 680\u001b[0m \u001b[38;5;28;01mreturn\u001b[39;00m \u001b[43m_read\u001b[49m\u001b[43m(\u001b[49m\u001b[43mfilepath_or_buffer\u001b[49m\u001b[43m,\u001b[49m\u001b[43m \u001b[49m\u001b[43mkwds\u001b[49m\u001b[43m)\u001b[49m\n",
      "File \u001b[1;32m~\\anaconda3\\lib\\site-packages\\pandas\\io\\parsers\\readers.py:575\u001b[0m, in \u001b[0;36m_read\u001b[1;34m(filepath_or_buffer, kwds)\u001b[0m\n\u001b[0;32m    572\u001b[0m _validate_names(kwds\u001b[38;5;241m.\u001b[39mget(\u001b[38;5;124m\"\u001b[39m\u001b[38;5;124mnames\u001b[39m\u001b[38;5;124m\"\u001b[39m, \u001b[38;5;28;01mNone\u001b[39;00m))\n\u001b[0;32m    574\u001b[0m \u001b[38;5;66;03m# Create the parser.\u001b[39;00m\n\u001b[1;32m--> 575\u001b[0m parser \u001b[38;5;241m=\u001b[39m TextFileReader(filepath_or_buffer, \u001b[38;5;241m*\u001b[39m\u001b[38;5;241m*\u001b[39mkwds)\n\u001b[0;32m    577\u001b[0m \u001b[38;5;28;01mif\u001b[39;00m chunksize \u001b[38;5;129;01mor\u001b[39;00m iterator:\n\u001b[0;32m    578\u001b[0m     \u001b[38;5;28;01mreturn\u001b[39;00m parser\n",
      "File \u001b[1;32m~\\anaconda3\\lib\\site-packages\\pandas\\io\\parsers\\readers.py:933\u001b[0m, in \u001b[0;36mTextFileReader.__init__\u001b[1;34m(self, f, engine, **kwds)\u001b[0m\n\u001b[0;32m    930\u001b[0m     \u001b[38;5;28mself\u001b[39m\u001b[38;5;241m.\u001b[39moptions[\u001b[38;5;124m\"\u001b[39m\u001b[38;5;124mhas_index_names\u001b[39m\u001b[38;5;124m\"\u001b[39m] \u001b[38;5;241m=\u001b[39m kwds[\u001b[38;5;124m\"\u001b[39m\u001b[38;5;124mhas_index_names\u001b[39m\u001b[38;5;124m\"\u001b[39m]\n\u001b[0;32m    932\u001b[0m \u001b[38;5;28mself\u001b[39m\u001b[38;5;241m.\u001b[39mhandles: IOHandles \u001b[38;5;241m|\u001b[39m \u001b[38;5;28;01mNone\u001b[39;00m \u001b[38;5;241m=\u001b[39m \u001b[38;5;28;01mNone\u001b[39;00m\n\u001b[1;32m--> 933\u001b[0m \u001b[38;5;28mself\u001b[39m\u001b[38;5;241m.\u001b[39m_engine \u001b[38;5;241m=\u001b[39m \u001b[38;5;28;43mself\u001b[39;49m\u001b[38;5;241;43m.\u001b[39;49m\u001b[43m_make_engine\u001b[49m\u001b[43m(\u001b[49m\u001b[43mf\u001b[49m\u001b[43m,\u001b[49m\u001b[43m \u001b[49m\u001b[38;5;28;43mself\u001b[39;49m\u001b[38;5;241;43m.\u001b[39;49m\u001b[43mengine\u001b[49m\u001b[43m)\u001b[49m\n",
      "File \u001b[1;32m~\\anaconda3\\lib\\site-packages\\pandas\\io\\parsers\\readers.py:1217\u001b[0m, in \u001b[0;36mTextFileReader._make_engine\u001b[1;34m(self, f, engine)\u001b[0m\n\u001b[0;32m   1213\u001b[0m     mode \u001b[38;5;241m=\u001b[39m \u001b[38;5;124m\"\u001b[39m\u001b[38;5;124mrb\u001b[39m\u001b[38;5;124m\"\u001b[39m\n\u001b[0;32m   1214\u001b[0m \u001b[38;5;66;03m# error: No overload variant of \"get_handle\" matches argument types\u001b[39;00m\n\u001b[0;32m   1215\u001b[0m \u001b[38;5;66;03m# \"Union[str, PathLike[str], ReadCsvBuffer[bytes], ReadCsvBuffer[str]]\"\u001b[39;00m\n\u001b[0;32m   1216\u001b[0m \u001b[38;5;66;03m# , \"str\", \"bool\", \"Any\", \"Any\", \"Any\", \"Any\", \"Any\"\u001b[39;00m\n\u001b[1;32m-> 1217\u001b[0m \u001b[38;5;28mself\u001b[39m\u001b[38;5;241m.\u001b[39mhandles \u001b[38;5;241m=\u001b[39m \u001b[43mget_handle\u001b[49m\u001b[43m(\u001b[49m\u001b[43m  \u001b[49m\u001b[38;5;66;43;03m# type: ignore[call-overload]\u001b[39;49;00m\n\u001b[0;32m   1218\u001b[0m \u001b[43m    \u001b[49m\u001b[43mf\u001b[49m\u001b[43m,\u001b[49m\n\u001b[0;32m   1219\u001b[0m \u001b[43m    \u001b[49m\u001b[43mmode\u001b[49m\u001b[43m,\u001b[49m\n\u001b[0;32m   1220\u001b[0m \u001b[43m    \u001b[49m\u001b[43mencoding\u001b[49m\u001b[38;5;241;43m=\u001b[39;49m\u001b[38;5;28;43mself\u001b[39;49m\u001b[38;5;241;43m.\u001b[39;49m\u001b[43moptions\u001b[49m\u001b[38;5;241;43m.\u001b[39;49m\u001b[43mget\u001b[49m\u001b[43m(\u001b[49m\u001b[38;5;124;43m\"\u001b[39;49m\u001b[38;5;124;43mencoding\u001b[39;49m\u001b[38;5;124;43m\"\u001b[39;49m\u001b[43m,\u001b[49m\u001b[43m \u001b[49m\u001b[38;5;28;43;01mNone\u001b[39;49;00m\u001b[43m)\u001b[49m\u001b[43m,\u001b[49m\n\u001b[0;32m   1221\u001b[0m \u001b[43m    \u001b[49m\u001b[43mcompression\u001b[49m\u001b[38;5;241;43m=\u001b[39;49m\u001b[38;5;28;43mself\u001b[39;49m\u001b[38;5;241;43m.\u001b[39;49m\u001b[43moptions\u001b[49m\u001b[38;5;241;43m.\u001b[39;49m\u001b[43mget\u001b[49m\u001b[43m(\u001b[49m\u001b[38;5;124;43m\"\u001b[39;49m\u001b[38;5;124;43mcompression\u001b[39;49m\u001b[38;5;124;43m\"\u001b[39;49m\u001b[43m,\u001b[49m\u001b[43m \u001b[49m\u001b[38;5;28;43;01mNone\u001b[39;49;00m\u001b[43m)\u001b[49m\u001b[43m,\u001b[49m\n\u001b[0;32m   1222\u001b[0m \u001b[43m    \u001b[49m\u001b[43mmemory_map\u001b[49m\u001b[38;5;241;43m=\u001b[39;49m\u001b[38;5;28;43mself\u001b[39;49m\u001b[38;5;241;43m.\u001b[39;49m\u001b[43moptions\u001b[49m\u001b[38;5;241;43m.\u001b[39;49m\u001b[43mget\u001b[49m\u001b[43m(\u001b[49m\u001b[38;5;124;43m\"\u001b[39;49m\u001b[38;5;124;43mmemory_map\u001b[39;49m\u001b[38;5;124;43m\"\u001b[39;49m\u001b[43m,\u001b[49m\u001b[43m \u001b[49m\u001b[38;5;28;43;01mFalse\u001b[39;49;00m\u001b[43m)\u001b[49m\u001b[43m,\u001b[49m\n\u001b[0;32m   1223\u001b[0m \u001b[43m    \u001b[49m\u001b[43mis_text\u001b[49m\u001b[38;5;241;43m=\u001b[39;49m\u001b[43mis_text\u001b[49m\u001b[43m,\u001b[49m\n\u001b[0;32m   1224\u001b[0m \u001b[43m    \u001b[49m\u001b[43merrors\u001b[49m\u001b[38;5;241;43m=\u001b[39;49m\u001b[38;5;28;43mself\u001b[39;49m\u001b[38;5;241;43m.\u001b[39;49m\u001b[43moptions\u001b[49m\u001b[38;5;241;43m.\u001b[39;49m\u001b[43mget\u001b[49m\u001b[43m(\u001b[49m\u001b[38;5;124;43m\"\u001b[39;49m\u001b[38;5;124;43mencoding_errors\u001b[39;49m\u001b[38;5;124;43m\"\u001b[39;49m\u001b[43m,\u001b[49m\u001b[43m \u001b[49m\u001b[38;5;124;43m\"\u001b[39;49m\u001b[38;5;124;43mstrict\u001b[39;49m\u001b[38;5;124;43m\"\u001b[39;49m\u001b[43m)\u001b[49m\u001b[43m,\u001b[49m\n\u001b[0;32m   1225\u001b[0m \u001b[43m    \u001b[49m\u001b[43mstorage_options\u001b[49m\u001b[38;5;241;43m=\u001b[39;49m\u001b[38;5;28;43mself\u001b[39;49m\u001b[38;5;241;43m.\u001b[39;49m\u001b[43moptions\u001b[49m\u001b[38;5;241;43m.\u001b[39;49m\u001b[43mget\u001b[49m\u001b[43m(\u001b[49m\u001b[38;5;124;43m\"\u001b[39;49m\u001b[38;5;124;43mstorage_options\u001b[39;49m\u001b[38;5;124;43m\"\u001b[39;49m\u001b[43m,\u001b[49m\u001b[43m \u001b[49m\u001b[38;5;28;43;01mNone\u001b[39;49;00m\u001b[43m)\u001b[49m\u001b[43m,\u001b[49m\n\u001b[0;32m   1226\u001b[0m \u001b[43m\u001b[49m\u001b[43m)\u001b[49m\n\u001b[0;32m   1227\u001b[0m \u001b[38;5;28;01massert\u001b[39;00m \u001b[38;5;28mself\u001b[39m\u001b[38;5;241m.\u001b[39mhandles \u001b[38;5;129;01mis\u001b[39;00m \u001b[38;5;129;01mnot\u001b[39;00m \u001b[38;5;28;01mNone\u001b[39;00m\n\u001b[0;32m   1228\u001b[0m f \u001b[38;5;241m=\u001b[39m \u001b[38;5;28mself\u001b[39m\u001b[38;5;241m.\u001b[39mhandles\u001b[38;5;241m.\u001b[39mhandle\n",
      "File \u001b[1;32m~\\anaconda3\\lib\\site-packages\\pandas\\io\\common.py:789\u001b[0m, in \u001b[0;36mget_handle\u001b[1;34m(path_or_buf, mode, encoding, compression, memory_map, is_text, errors, storage_options)\u001b[0m\n\u001b[0;32m    784\u001b[0m \u001b[38;5;28;01melif\u001b[39;00m \u001b[38;5;28misinstance\u001b[39m(handle, \u001b[38;5;28mstr\u001b[39m):\n\u001b[0;32m    785\u001b[0m     \u001b[38;5;66;03m# Check whether the filename is to be opened in binary mode.\u001b[39;00m\n\u001b[0;32m    786\u001b[0m     \u001b[38;5;66;03m# Binary mode does not support 'encoding' and 'newline'.\u001b[39;00m\n\u001b[0;32m    787\u001b[0m     \u001b[38;5;28;01mif\u001b[39;00m ioargs\u001b[38;5;241m.\u001b[39mencoding \u001b[38;5;129;01mand\u001b[39;00m \u001b[38;5;124m\"\u001b[39m\u001b[38;5;124mb\u001b[39m\u001b[38;5;124m\"\u001b[39m \u001b[38;5;129;01mnot\u001b[39;00m \u001b[38;5;129;01min\u001b[39;00m ioargs\u001b[38;5;241m.\u001b[39mmode:\n\u001b[0;32m    788\u001b[0m         \u001b[38;5;66;03m# Encoding\u001b[39;00m\n\u001b[1;32m--> 789\u001b[0m         handle \u001b[38;5;241m=\u001b[39m \u001b[38;5;28;43mopen\u001b[39;49m\u001b[43m(\u001b[49m\n\u001b[0;32m    790\u001b[0m \u001b[43m            \u001b[49m\u001b[43mhandle\u001b[49m\u001b[43m,\u001b[49m\n\u001b[0;32m    791\u001b[0m \u001b[43m            \u001b[49m\u001b[43mioargs\u001b[49m\u001b[38;5;241;43m.\u001b[39;49m\u001b[43mmode\u001b[49m\u001b[43m,\u001b[49m\n\u001b[0;32m    792\u001b[0m \u001b[43m            \u001b[49m\u001b[43mencoding\u001b[49m\u001b[38;5;241;43m=\u001b[39;49m\u001b[43mioargs\u001b[49m\u001b[38;5;241;43m.\u001b[39;49m\u001b[43mencoding\u001b[49m\u001b[43m,\u001b[49m\n\u001b[0;32m    793\u001b[0m \u001b[43m            \u001b[49m\u001b[43merrors\u001b[49m\u001b[38;5;241;43m=\u001b[39;49m\u001b[43merrors\u001b[49m\u001b[43m,\u001b[49m\n\u001b[0;32m    794\u001b[0m \u001b[43m            \u001b[49m\u001b[43mnewline\u001b[49m\u001b[38;5;241;43m=\u001b[39;49m\u001b[38;5;124;43m\"\u001b[39;49m\u001b[38;5;124;43m\"\u001b[39;49m\u001b[43m,\u001b[49m\n\u001b[0;32m    795\u001b[0m \u001b[43m        \u001b[49m\u001b[43m)\u001b[49m\n\u001b[0;32m    796\u001b[0m     \u001b[38;5;28;01melse\u001b[39;00m:\n\u001b[0;32m    797\u001b[0m         \u001b[38;5;66;03m# Binary mode\u001b[39;00m\n\u001b[0;32m    798\u001b[0m         handle \u001b[38;5;241m=\u001b[39m \u001b[38;5;28mopen\u001b[39m(handle, ioargs\u001b[38;5;241m.\u001b[39mmode)\n",
      "\u001b[1;31mFileNotFoundError\u001b[0m: [Errno 2] No such file or directory: '../files/animals.csv'"
     ]
    }
   ],
   "source": [
    "# lets read animals.csv\n",
    "\n",
    "import pandas as pd\n",
    "\n",
    "animals = pd.read_csv(\"../files/animals.csv\", sep=\",\")\n",
    "\n",
    "animals.head()"
   ]
  },
  {
   "cell_type": "markdown",
   "id": "99acf930-0a34-4c79-8863-87a46a463ac9",
   "metadata": {},
   "source": [
    "### pandas: `head`, `tail`, `sample`\n",
    "\n",
    "* `df.head(n)` will display the first n rows of a dataframe. By default, n=5.\n",
    "* `df.tail(n)` will display the last n rows of a dataframe. By default, n=5.\n",
    "* `df.sample(n)` will display a random sample of n rows of a dataframe. By default, n=1."
   ]
  },
  {
   "cell_type": "code",
   "execution_count": 3,
   "id": "ec826ac9-979c-4808-b201-6bfbb6ab0b5c",
   "metadata": {},
   "outputs": [
    {
     "data": {
      "text/html": [
       "<div>\n",
       "<style scoped>\n",
       "    .dataframe tbody tr th:only-of-type {\n",
       "        vertical-align: middle;\n",
       "    }\n",
       "\n",
       "    .dataframe tbody tr th {\n",
       "        vertical-align: top;\n",
       "    }\n",
       "\n",
       "    .dataframe thead th {\n",
       "        text-align: right;\n",
       "    }\n",
       "</style>\n",
       "<table border=\"1\" class=\"dataframe\">\n",
       "  <thead>\n",
       "    <tr style=\"text-align: right;\">\n",
       "      <th></th>\n",
       "      <th>year</th>\n",
       "      <th>district</th>\n",
       "      <th>dogs</th>\n",
       "      <th>cats</th>\n",
       "    </tr>\n",
       "  </thead>\n",
       "  <tbody>\n",
       "    <tr>\n",
       "      <th>0</th>\n",
       "      <td>2019</td>\n",
       "      <td>ARGANZUELA</td>\n",
       "      <td>10556</td>\n",
       "      <td>5074</td>\n",
       "    </tr>\n",
       "    <tr>\n",
       "      <th>1</th>\n",
       "      <td>2019</td>\n",
       "      <td>BARAJAS</td>\n",
       "      <td>5086</td>\n",
       "      <td>1515</td>\n",
       "    </tr>\n",
       "    <tr>\n",
       "      <th>2</th>\n",
       "      <td>2019</td>\n",
       "      <td>CARABANCHEL</td>\n",
       "      <td>20258</td>\n",
       "      <td>6387</td>\n",
       "    </tr>\n",
       "    <tr>\n",
       "      <th>3</th>\n",
       "      <td>2019</td>\n",
       "      <td>CENTRO</td>\n",
       "      <td>16010</td>\n",
       "      <td>9248</td>\n",
       "    </tr>\n",
       "    <tr>\n",
       "      <th>4</th>\n",
       "      <td>2019</td>\n",
       "      <td>CHAMARTÍN</td>\n",
       "      <td>11098</td>\n",
       "      <td>3922</td>\n",
       "    </tr>\n",
       "  </tbody>\n",
       "</table>\n",
       "</div>"
      ],
      "text/plain": [
       "   year     district   dogs  cats\n",
       "0  2019   ARGANZUELA  10556  5074\n",
       "1  2019      BARAJAS   5086  1515\n",
       "2  2019  CARABANCHEL  20258  6387\n",
       "3  2019       CENTRO  16010  9248\n",
       "4  2019    CHAMARTÍN  11098  3922"
      ]
     },
     "execution_count": 3,
     "metadata": {},
     "output_type": "execute_result"
    }
   ],
   "source": [
    "animals.head()"
   ]
  },
  {
   "cell_type": "code",
   "execution_count": 4,
   "id": "9e319a36-64bc-42f7-b15e-21ad4e5a067d",
   "metadata": {},
   "outputs": [
    {
     "data": {
      "text/html": [
       "<div>\n",
       "<style scoped>\n",
       "    .dataframe tbody tr th:only-of-type {\n",
       "        vertical-align: middle;\n",
       "    }\n",
       "\n",
       "    .dataframe tbody tr th {\n",
       "        vertical-align: top;\n",
       "    }\n",
       "\n",
       "    .dataframe thead th {\n",
       "        text-align: right;\n",
       "    }\n",
       "</style>\n",
       "<table border=\"1\" class=\"dataframe\">\n",
       "  <thead>\n",
       "    <tr style=\"text-align: right;\">\n",
       "      <th></th>\n",
       "      <th>year</th>\n",
       "      <th>district</th>\n",
       "      <th>dogs</th>\n",
       "      <th>cats</th>\n",
       "    </tr>\n",
       "  </thead>\n",
       "  <tbody>\n",
       "    <tr>\n",
       "      <th>123</th>\n",
       "      <td>2014</td>\n",
       "      <td>VICÁLVARO</td>\n",
       "      <td>4584</td>\n",
       "      <td>505</td>\n",
       "    </tr>\n",
       "    <tr>\n",
       "      <th>124</th>\n",
       "      <td>2014</td>\n",
       "      <td>VILLA DE VALLECAS</td>\n",
       "      <td>7107</td>\n",
       "      <td>940</td>\n",
       "    </tr>\n",
       "    <tr>\n",
       "      <th>125</th>\n",
       "      <td>2014</td>\n",
       "      <td>VILLAVERDE</td>\n",
       "      <td>10467</td>\n",
       "      <td>851</td>\n",
       "    </tr>\n",
       "  </tbody>\n",
       "</table>\n",
       "</div>"
      ],
      "text/plain": [
       "     year           district   dogs  cats\n",
       "123  2014          VICÁLVARO   4584   505\n",
       "124  2014  VILLA DE VALLECAS   7107   940\n",
       "125  2014         VILLAVERDE  10467   851"
      ]
     },
     "execution_count": 4,
     "metadata": {},
     "output_type": "execute_result"
    }
   ],
   "source": [
    "animals.tail(3)"
   ]
  },
  {
   "cell_type": "code",
   "execution_count": 5,
   "id": "c068aa3a-a4dd-43d2-9380-5c5289de4c23",
   "metadata": {},
   "outputs": [
    {
     "data": {
      "text/html": [
       "<div>\n",
       "<style scoped>\n",
       "    .dataframe tbody tr th:only-of-type {\n",
       "        vertical-align: middle;\n",
       "    }\n",
       "\n",
       "    .dataframe tbody tr th {\n",
       "        vertical-align: top;\n",
       "    }\n",
       "\n",
       "    .dataframe thead th {\n",
       "        text-align: right;\n",
       "    }\n",
       "</style>\n",
       "<table border=\"1\" class=\"dataframe\">\n",
       "  <thead>\n",
       "    <tr style=\"text-align: right;\">\n",
       "      <th></th>\n",
       "      <th>year</th>\n",
       "      <th>district</th>\n",
       "      <th>dogs</th>\n",
       "      <th>cats</th>\n",
       "    </tr>\n",
       "  </thead>\n",
       "  <tbody>\n",
       "    <tr>\n",
       "      <th>31</th>\n",
       "      <td>2018</td>\n",
       "      <td>MONCLOA-ARAVACA</td>\n",
       "      <td>12462</td>\n",
       "      <td>3453</td>\n",
       "    </tr>\n",
       "    <tr>\n",
       "      <th>111</th>\n",
       "      <td>2014</td>\n",
       "      <td>CIUDAD LINEAL</td>\n",
       "      <td>17604</td>\n",
       "      <td>3042</td>\n",
       "    </tr>\n",
       "    <tr>\n",
       "      <th>59</th>\n",
       "      <td>2017</td>\n",
       "      <td>USERA</td>\n",
       "      <td>12623</td>\n",
       "      <td>1847</td>\n",
       "    </tr>\n",
       "    <tr>\n",
       "      <th>124</th>\n",
       "      <td>2014</td>\n",
       "      <td>VILLA DE VALLECAS</td>\n",
       "      <td>7107</td>\n",
       "      <td>940</td>\n",
       "    </tr>\n",
       "    <tr>\n",
       "      <th>10</th>\n",
       "      <td>2019</td>\n",
       "      <td>MONCLOA-ARAVACA</td>\n",
       "      <td>12367</td>\n",
       "      <td>3931</td>\n",
       "    </tr>\n",
       "  </tbody>\n",
       "</table>\n",
       "</div>"
      ],
      "text/plain": [
       "     year           district   dogs  cats\n",
       "31   2018    MONCLOA-ARAVACA  12462  3453\n",
       "111  2014      CIUDAD LINEAL  17604  3042\n",
       "59   2017              USERA  12623  1847\n",
       "124  2014  VILLA DE VALLECAS   7107   940\n",
       "10   2019    MONCLOA-ARAVACA  12367  3931"
      ]
     },
     "execution_count": 5,
     "metadata": {},
     "output_type": "execute_result"
    }
   ],
   "source": [
    "animals.sample(5)"
   ]
  },
  {
   "cell_type": "markdown",
   "id": "b6d08794-1bd5-4d41-9dc4-f94e4c54c7cb",
   "metadata": {},
   "source": [
    "## Operations with the data in the columns\n",
    "\n",
    "With pandas we can not only store tabular-like data, but also perform different operations with it"
   ]
  },
  {
   "cell_type": "markdown",
   "id": "db01d92f-3f6f-45a8-a23e-cc1a3d899295",
   "metadata": {},
   "source": [
    "### Using `pandas` methods and attributes \n",
    "\n",
    "Since our columns are nothing `pd.Series` objects, we can use all the attributes and methods that apply to them:\n",
    "* https://pandas.pydata.org/docs/reference/api/pandas.Series.html\n",
    "\n",
    "Just a sample of what we can do:\n",
    "* Attributes:\n",
    "    * `.index`, `.shape`, `.size`, `.values`, `.T`, \n",
    "* Methods:\n",
    "    * `.abs()`, `.min()`, `.max()`, `.count()`, `.value_counts()`\n",
    "    * `.sum()`, `.cumsum()`, `.mean()`, `.std()`\n",
    "    * `.isna()`, `.isnull()`, `.idxmin()`, `.idxmax()`\n",
    "    * `.unique()`, `.nunique()`, `.drop_duplicates()`"
   ]
  },
  {
   "cell_type": "code",
   "execution_count": 6,
   "id": "c6367776-58cc-4add-9b1b-442cf1a4c167",
   "metadata": {
    "tags": []
   },
   "outputs": [
    {
     "data": {
      "text/plain": [
       "[0, 1, 2, 3, 4]"
      ]
     },
     "execution_count": 6,
     "metadata": {},
     "output_type": "execute_result"
    }
   ],
   "source": [
    "list(animals.index)[:5]"
   ]
  },
  {
   "cell_type": "code",
   "execution_count": 7,
   "id": "60f759b0-5166-43a3-a44c-b7b4d71c4850",
   "metadata": {},
   "outputs": [
    {
     "data": {
      "text/plain": [
       "(126, 4)"
      ]
     },
     "execution_count": 7,
     "metadata": {},
     "output_type": "execute_result"
    }
   ],
   "source": [
    "animals.shape"
   ]
  },
  {
   "cell_type": "code",
   "execution_count": 8,
   "id": "3491a555-562d-4092-a4cf-30eae6264bbb",
   "metadata": {},
   "outputs": [
    {
     "data": {
      "text/plain": [
       "504"
      ]
     },
     "execution_count": 8,
     "metadata": {},
     "output_type": "execute_result"
    }
   ],
   "source": [
    "animals.size"
   ]
  },
  {
   "cell_type": "code",
   "execution_count": 9,
   "id": "e9be00a4-9cfe-4bdb-8c6b-ab1519693df4",
   "metadata": {
    "tags": []
   },
   "outputs": [
    {
     "data": {
      "text/plain": [
       "array([[2019, 'ARGANZUELA', 10556, 5074],\n",
       "       [2019, 'BARAJAS', 5086, 1515],\n",
       "       [2019, 'CARABANCHEL', 20258, 6387],\n",
       "       [2019, 'CENTRO', 16010, 9248],\n",
       "       [2019, 'CHAMARTÍN', 11098, 3922],\n",
       "       [2019, 'CHAMBERÍ', 13359, 4692],\n",
       "       [2019, 'CIUDAD LINEAL', 17286, 8183],\n",
       "       [2019, 'FUENCARRAL-EL PARDO', 17375, 6121],\n",
       "       [2019, 'HORTALEZA', 15836, 8556],\n",
       "       [2019, 'LATINA', 19049, 10564],\n",
       "       [2019, 'MONCLOA-ARAVACA', 12367, 3931],\n",
       "       [2019, 'MORATALAZ', 6724, 2502],\n",
       "       [2019, 'PUENTE DE VALLECAS', 23437, 6208],\n",
       "       [2019, 'RETIRO', 7786, 3105],\n",
       "       [2019, 'SALAMANCA', 13471, 5033],\n",
       "       [2019, 'SAN BLAS', 14228, 5064],\n",
       "       [2019, 'TETUÁN', 12470, 5535],\n",
       "       [2019, 'USERA', 12393, 2898],\n",
       "       [2019, 'VICÁLVARO', 5244, 1505],\n",
       "       [2019, 'VILLA DE VALLECAS', 9923, 2946],\n",
       "       [2019, 'VILLAVERDE', 12917, 2694],\n",
       "       [2018, 'ARGANZUELA', 10622, 4458],\n",
       "       [2018, 'BARAJAS', 5203, 1300],\n",
       "       [2018, 'CARABANCHEL', 20265, 5524],\n",
       "       [2018, 'CENTRO', 15881, 8186],\n",
       "       [2018, 'CHAMARTÍN', 11417, 3601],\n",
       "       [2018, 'CHAMBERÍ', 13615, 4087],\n",
       "       [2018, 'CIUDAD LINEAL', 17375, 7226],\n",
       "       [2018, 'FUENCARRAL-EL PARDO', 17645, 5558],\n",
       "       [2018, 'HORTALEZA', 15965, 7797],\n",
       "       [2018, 'LATINA', 19282, 7990],\n",
       "       [2018, 'MONCLOA-ARAVACA', 12462, 3453],\n",
       "       [2018, 'MORATALAZ', 6831, 2279],\n",
       "       [2018, 'PUENTE DE VALLECAS', 23526, 5138],\n",
       "       [2018, 'RETIRO', 7955, 2773],\n",
       "       [2018, 'SALAMANCA', 13312, 4520],\n",
       "       [2018, 'SAN BLAS', 14202, 4433],\n",
       "       [2018, 'TETUÁN', 12478, 4763],\n",
       "       [2018, 'USERA', 12475, 2419],\n",
       "       [2018, 'VICÁLVARO', 5393, 1279],\n",
       "       [2018, 'VILLA DE VALLECAS', 9857, 2467],\n",
       "       [2018, 'VILLAVERDE', 12699, 2307],\n",
       "       [2017, 'ARGANZUELA', 10808, 3668],\n",
       "       [2017, 'BARAJAS', 5270, 1064],\n",
       "       [2017, 'CARABANCHEL', 19964, 4263],\n",
       "       [2017, 'CENTRO', 15775, 6752],\n",
       "       [2017, 'CHAMARTÍN', 11894, 3123],\n",
       "       [2017, 'CHAMBERÍ', 13804, 3424],\n",
       "       [2017, 'CIUDAD LINEAL', 17799, 6273],\n",
       "       [2017, 'FUENCARRAL-EL PARDO', 18302, 4760],\n",
       "       [2017, 'HORTALEZA', 16558, 6748],\n",
       "       [2017, 'LATINA', 18898, 4708],\n",
       "       [2017, 'MONCLOA-ARAVACA', 12738, 2776],\n",
       "       [2017, 'MORATALAZ', 6985, 1909],\n",
       "       [2017, 'PUENTE DE VALLECAS', 23860, 3961],\n",
       "       [2017, 'RETIRO', 8309, 2313],\n",
       "       [2017, 'SALAMANCA', 13205, 3797],\n",
       "       [2017, 'SAN BLAS', 14206, 3572],\n",
       "       [2017, 'TETUÁN', 12583, 3851],\n",
       "       [2017, 'USERA', 12623, 1847],\n",
       "       [2017, 'VICÁLVARO', 5559, 1009],\n",
       "       [2017, 'VILLA DE VALLECAS', 9646, 1875],\n",
       "       [2017, 'VILLAVERDE', 12553, 1737],\n",
       "       [2016, 'ARGANZUELA', 10591, 3202],\n",
       "       [2016, 'BARAJAS', 5173, 981],\n",
       "       [2016, 'CARABANCHEL', 19275, 3728],\n",
       "       [2016, 'CENTRO', 15470, 6164],\n",
       "       [2016, 'CHAMARTÍN', 11759, 2809],\n",
       "       [2016, 'CHAMBERÍ', 13461, 2979],\n",
       "       [2016, 'CIUDAD LINEAL', 17558, 5774],\n",
       "       [2016, 'FUENCARRAL-EL PARDO', 17975, 4284],\n",
       "       [2016, 'HORTALEZA', 16451, 6200],\n",
       "       [2016, 'LATINA', 18434, 3863],\n",
       "       [2016, 'MONCLOA-ARAVACA', 12600, 2368],\n",
       "       [2016, 'MORATALAZ', 6822, 1756],\n",
       "       [2016, 'PUENTE DE VALLECAS', 23507, 3455],\n",
       "       [2016, 'RETIRO', 8183, 2061],\n",
       "       [2016, 'SALAMANCA', 12709, 3424],\n",
       "       [2016, 'SAN BLAS', 13508, 3170],\n",
       "       [2016, 'TETUÁN', 12427, 3424],\n",
       "       [2016, 'USERA', 12430, 1607],\n",
       "       [2016, 'VICÁLVARO', 5344, 890],\n",
       "       [2016, 'VILLA DE VALLECAS', 9124, 1575],\n",
       "       [2016, 'VILLAVERDE', 11969, 1446],\n",
       "       [2015, 'ARGANZUELA', 9789, 1939],\n",
       "       [2015, 'BARAJAS', 5217, 663],\n",
       "       [2015, 'CARABANCHEL', 18031, 2397],\n",
       "       [2015, 'CENTRO', 13505, 3540],\n",
       "       [2015, 'CHAMARTÍN', 13159, 1860],\n",
       "       [2015, 'CHAMBERÍ', 14176, 1939],\n",
       "       [2015, 'CIUDAD LINEAL', 17882, 4192],\n",
       "       [2015, 'FUENCARRAL-EL PARDO', 18305, 2819],\n",
       "       [2015, 'HORTALEZA', 16888, 4927],\n",
       "       [2015, 'LATINA', 18529, 2595],\n",
       "       [2015, 'MONCLOA-ARAVACA', 12692, 1578],\n",
       "       [2015, 'MORATALAZ', 6881, 1173],\n",
       "       [2015, 'PUENTE DE VALLECAS', 22765, 2117],\n",
       "       [2015, 'RETIRO', 8883, 1391],\n",
       "       [2015, 'SALAMANCA', 13159, 1860],\n",
       "       [2015, 'SAN BLAS', 13067, 2188],\n",
       "       [2015, 'TETUÁN', 12502, 2204],\n",
       "       [2015, 'USERA', 11641, 992],\n",
       "       [2015, 'VICÁLVARO', 4702, 545],\n",
       "       [2015, 'VILLA DE VALLECAS', 7416, 975],\n",
       "       [2015, 'VILLAVERDE', 11092, 897],\n",
       "       [2014, 'ARGANZUELA', 9595, 1853],\n",
       "       [2014, 'BARAJAS', 5233, 659],\n",
       "       [2014, 'CARABANCHEL', 17525, 2360],\n",
       "       [2014, 'CENTRO', 13285, 3460],\n",
       "       [2014, 'CHAMARTÍN', 12942, 1793],\n",
       "       [2014, 'CHAMBERÍ', 13869, 1902],\n",
       "       [2014, 'CIUDAD LINEAL', 17604, 3042],\n",
       "       [2014, 'FUENCARRAL EL PARDO', 18033, 2790],\n",
       "       [2014, 'HORTALEZA', 16476, 4761],\n",
       "       [2014, 'LATINA', 18106, 2533],\n",
       "       [2014, 'MONCLOA-ARAVACA', 12398, 1548],\n",
       "       [2014, 'MORATALAZ', 6706, 1153],\n",
       "       [2014, 'PUENTE DE VALLECAS', 22072, 2065],\n",
       "       [2014, 'RETIRO', 8774, 1344],\n",
       "       [2014, 'SALAMANCA', 12942, 1793],\n",
       "       [2014, 'SAN BLAS', 12786, 2043],\n",
       "       [2014, 'TETUÁN', 12301, 2178],\n",
       "       [2014, 'USERA', 11310, 978],\n",
       "       [2014, 'VICÁLVARO', 4584, 505],\n",
       "       [2014, 'VILLA DE VALLECAS', 7107, 940],\n",
       "       [2014, 'VILLAVERDE', 10467, 851]], dtype=object)"
      ]
     },
     "execution_count": 9,
     "metadata": {},
     "output_type": "execute_result"
    }
   ],
   "source": [
    "animals.values"
   ]
  },
  {
   "cell_type": "code",
   "execution_count": 10,
   "id": "e23b30f5-fb46-4266-947e-c9ac3dd4ba71",
   "metadata": {},
   "outputs": [
    {
     "data": {
      "text/html": [
       "<div>\n",
       "<style scoped>\n",
       "    .dataframe tbody tr th:only-of-type {\n",
       "        vertical-align: middle;\n",
       "    }\n",
       "\n",
       "    .dataframe tbody tr th {\n",
       "        vertical-align: top;\n",
       "    }\n",
       "\n",
       "    .dataframe thead th {\n",
       "        text-align: right;\n",
       "    }\n",
       "</style>\n",
       "<table border=\"1\" class=\"dataframe\">\n",
       "  <thead>\n",
       "    <tr style=\"text-align: right;\">\n",
       "      <th></th>\n",
       "      <th>0</th>\n",
       "      <th>1</th>\n",
       "      <th>2</th>\n",
       "      <th>3</th>\n",
       "      <th>4</th>\n",
       "      <th>5</th>\n",
       "      <th>6</th>\n",
       "      <th>7</th>\n",
       "      <th>8</th>\n",
       "      <th>9</th>\n",
       "      <th>...</th>\n",
       "      <th>116</th>\n",
       "      <th>117</th>\n",
       "      <th>118</th>\n",
       "      <th>119</th>\n",
       "      <th>120</th>\n",
       "      <th>121</th>\n",
       "      <th>122</th>\n",
       "      <th>123</th>\n",
       "      <th>124</th>\n",
       "      <th>125</th>\n",
       "    </tr>\n",
       "  </thead>\n",
       "  <tbody>\n",
       "    <tr>\n",
       "      <th>year</th>\n",
       "      <td>2019</td>\n",
       "      <td>2019</td>\n",
       "      <td>2019</td>\n",
       "      <td>2019</td>\n",
       "      <td>2019</td>\n",
       "      <td>2019</td>\n",
       "      <td>2019</td>\n",
       "      <td>2019</td>\n",
       "      <td>2019</td>\n",
       "      <td>2019</td>\n",
       "      <td>...</td>\n",
       "      <td>2014</td>\n",
       "      <td>2014</td>\n",
       "      <td>2014</td>\n",
       "      <td>2014</td>\n",
       "      <td>2014</td>\n",
       "      <td>2014</td>\n",
       "      <td>2014</td>\n",
       "      <td>2014</td>\n",
       "      <td>2014</td>\n",
       "      <td>2014</td>\n",
       "    </tr>\n",
       "    <tr>\n",
       "      <th>district</th>\n",
       "      <td>ARGANZUELA</td>\n",
       "      <td>BARAJAS</td>\n",
       "      <td>CARABANCHEL</td>\n",
       "      <td>CENTRO</td>\n",
       "      <td>CHAMARTÍN</td>\n",
       "      <td>CHAMBERÍ</td>\n",
       "      <td>CIUDAD LINEAL</td>\n",
       "      <td>FUENCARRAL-EL PARDO</td>\n",
       "      <td>HORTALEZA</td>\n",
       "      <td>LATINA</td>\n",
       "      <td>...</td>\n",
       "      <td>MORATALAZ</td>\n",
       "      <td>PUENTE DE VALLECAS</td>\n",
       "      <td>RETIRO</td>\n",
       "      <td>SALAMANCA</td>\n",
       "      <td>SAN BLAS</td>\n",
       "      <td>TETUÁN</td>\n",
       "      <td>USERA</td>\n",
       "      <td>VICÁLVARO</td>\n",
       "      <td>VILLA DE VALLECAS</td>\n",
       "      <td>VILLAVERDE</td>\n",
       "    </tr>\n",
       "    <tr>\n",
       "      <th>dogs</th>\n",
       "      <td>10556</td>\n",
       "      <td>5086</td>\n",
       "      <td>20258</td>\n",
       "      <td>16010</td>\n",
       "      <td>11098</td>\n",
       "      <td>13359</td>\n",
       "      <td>17286</td>\n",
       "      <td>17375</td>\n",
       "      <td>15836</td>\n",
       "      <td>19049</td>\n",
       "      <td>...</td>\n",
       "      <td>6706</td>\n",
       "      <td>22072</td>\n",
       "      <td>8774</td>\n",
       "      <td>12942</td>\n",
       "      <td>12786</td>\n",
       "      <td>12301</td>\n",
       "      <td>11310</td>\n",
       "      <td>4584</td>\n",
       "      <td>7107</td>\n",
       "      <td>10467</td>\n",
       "    </tr>\n",
       "    <tr>\n",
       "      <th>cats</th>\n",
       "      <td>5074</td>\n",
       "      <td>1515</td>\n",
       "      <td>6387</td>\n",
       "      <td>9248</td>\n",
       "      <td>3922</td>\n",
       "      <td>4692</td>\n",
       "      <td>8183</td>\n",
       "      <td>6121</td>\n",
       "      <td>8556</td>\n",
       "      <td>10564</td>\n",
       "      <td>...</td>\n",
       "      <td>1153</td>\n",
       "      <td>2065</td>\n",
       "      <td>1344</td>\n",
       "      <td>1793</td>\n",
       "      <td>2043</td>\n",
       "      <td>2178</td>\n",
       "      <td>978</td>\n",
       "      <td>505</td>\n",
       "      <td>940</td>\n",
       "      <td>851</td>\n",
       "    </tr>\n",
       "  </tbody>\n",
       "</table>\n",
       "<p>4 rows × 126 columns</p>\n",
       "</div>"
      ],
      "text/plain": [
       "                 0        1            2       3          4         5    \\\n",
       "year            2019     2019         2019    2019       2019      2019   \n",
       "district  ARGANZUELA  BARAJAS  CARABANCHEL  CENTRO  CHAMARTÍN  CHAMBERÍ   \n",
       "dogs           10556     5086        20258   16010      11098     13359   \n",
       "cats            5074     1515         6387    9248       3922      4692   \n",
       "\n",
       "                    6                    7          8       9    ...  \\\n",
       "year               2019                 2019       2019    2019  ...   \n",
       "district  CIUDAD LINEAL  FUENCARRAL-EL PARDO  HORTALEZA  LATINA  ...   \n",
       "dogs              17286                17375      15836   19049  ...   \n",
       "cats               8183                 6121       8556   10564  ...   \n",
       "\n",
       "                116                 117     118        119       120     121  \\\n",
       "year           2014                2014    2014       2014      2014    2014   \n",
       "district  MORATALAZ  PUENTE DE VALLECAS  RETIRO  SALAMANCA  SAN BLAS  TETUÁN   \n",
       "dogs           6706               22072    8774      12942     12786   12301   \n",
       "cats           1153                2065    1344       1793      2043    2178   \n",
       "\n",
       "            122        123                124         125  \n",
       "year       2014       2014               2014        2014  \n",
       "district  USERA  VICÁLVARO  VILLA DE VALLECAS  VILLAVERDE  \n",
       "dogs      11310       4584               7107       10467  \n",
       "cats        978        505                940         851  \n",
       "\n",
       "[4 rows x 126 columns]"
      ]
     },
     "execution_count": 10,
     "metadata": {},
     "output_type": "execute_result"
    }
   ],
   "source": [
    "animals.T"
   ]
  },
  {
   "cell_type": "markdown",
   "id": "9d79c98b-2f67-4d70-83fe-6f5d745fb877",
   "metadata": {
    "tags": []
   },
   "source": [
    "#### abs"
   ]
  },
  {
   "cell_type": "code",
   "execution_count": 11,
   "id": "fb9cef95-3504-46a6-afad-8a3ce2ed658b",
   "metadata": {},
   "outputs": [
    {
     "data": {
      "text/plain": [
       "0      10556\n",
       "1       5086\n",
       "2      20258\n",
       "3      16010\n",
       "4      11098\n",
       "       ...  \n",
       "121    12301\n",
       "122    11310\n",
       "123     4584\n",
       "124     7107\n",
       "125    10467\n",
       "Name: dogs, Length: 126, dtype: int64"
      ]
     },
     "execution_count": 11,
     "metadata": {},
     "output_type": "execute_result"
    }
   ],
   "source": [
    "animals[\"dogs\"].abs()"
   ]
  },
  {
   "cell_type": "markdown",
   "id": "c06b2665-b63f-4797-b644-2713bc738eaf",
   "metadata": {
    "tags": []
   },
   "source": [
    "#### max, min, count, value_counts"
   ]
  },
  {
   "cell_type": "code",
   "execution_count": 12,
   "id": "6a1bfa8c-5abe-4881-bda4-9dd40468f423",
   "metadata": {},
   "outputs": [
    {
     "data": {
      "text/plain": [
       "23860"
      ]
     },
     "execution_count": 12,
     "metadata": {},
     "output_type": "execute_result"
    }
   ],
   "source": [
    "# max value in series\n",
    "animals[\"dogs\"].max()"
   ]
  },
  {
   "cell_type": "code",
   "execution_count": 13,
   "id": "18e2df2b-a0a6-42c9-bdde-7b2b6de5cd4f",
   "metadata": {},
   "outputs": [
    {
     "data": {
      "text/plain": [
       "4584"
      ]
     },
     "execution_count": 13,
     "metadata": {},
     "output_type": "execute_result"
    }
   ],
   "source": [
    "# min value in series\n",
    "animals[\"dogs\"].min()"
   ]
  },
  {
   "cell_type": "code",
   "execution_count": 14,
   "id": "8adf15e1-7db8-4407-951f-798441947cef",
   "metadata": {},
   "outputs": [
    {
     "data": {
      "text/plain": [
       "126"
      ]
     },
     "execution_count": 14,
     "metadata": {},
     "output_type": "execute_result"
    }
   ],
   "source": [
    "# number of elements in series\n",
    "animals[\"district\"].count()"
   ]
  },
  {
   "cell_type": "code",
   "execution_count": 15,
   "id": "68f64659-d4e6-4341-9475-ad690d0c8205",
   "metadata": {},
   "outputs": [
    {
     "data": {
      "text/plain": [
       "126"
      ]
     },
     "execution_count": 15,
     "metadata": {},
     "output_type": "execute_result"
    }
   ],
   "source": [
    "animals[\"district\"].size"
   ]
  },
  {
   "cell_type": "code",
   "execution_count": 16,
   "id": "98b8c495-910c-4cdb-aa3a-ffe47d2c7786",
   "metadata": {},
   "outputs": [
    {
     "data": {
      "text/plain": [
       "(126,)"
      ]
     },
     "execution_count": 16,
     "metadata": {},
     "output_type": "execute_result"
    }
   ],
   "source": [
    "animals[\"district\"].shape"
   ]
  },
  {
   "cell_type": "code",
   "execution_count": 17,
   "id": "2b2ac15f-082e-4ae6-9011-f8717837fd6e",
   "metadata": {},
   "outputs": [
    {
     "data": {
      "text/plain": [
       "2019    21\n",
       "2018    21\n",
       "2017    21\n",
       "2016    21\n",
       "2015    21\n",
       "2014    21\n",
       "Name: year, dtype: int64"
      ]
     },
     "execution_count": 17,
     "metadata": {},
     "output_type": "execute_result"
    }
   ],
   "source": [
    "# counts items per category\n",
    "animals[\"year\"].value_counts()"
   ]
  },
  {
   "cell_type": "code",
   "execution_count": 18,
   "id": "207e1a4e-4f84-42df-8d41-7adeae0237ea",
   "metadata": {},
   "outputs": [
    {
     "data": {
      "text/plain": [
       "2019    0.166667\n",
       "2018    0.166667\n",
       "2017    0.166667\n",
       "2016    0.166667\n",
       "2015    0.166667\n",
       "2014    0.166667\n",
       "Name: year, dtype: float64"
      ]
     },
     "execution_count": 18,
     "metadata": {},
     "output_type": "execute_result"
    }
   ],
   "source": [
    "# if we pass normalize=True to `value_counts` we will get the proportions instead of the totals\n",
    "animals[\"year\"].value_counts(normalize=True)"
   ]
  },
  {
   "cell_type": "markdown",
   "id": "7d3a1f60-2c53-4ddb-a539-3556369cb1cc",
   "metadata": {},
   "source": [
    "#### sum, cumsum, mean, std"
   ]
  },
  {
   "cell_type": "code",
   "execution_count": 19,
   "id": "e3d76c16-e197-4d76-834c-6a569b5986f2",
   "metadata": {},
   "outputs": [
    {
     "data": {
      "text/plain": [
       "419173"
      ]
     },
     "execution_count": 19,
     "metadata": {},
     "output_type": "execute_result"
    }
   ],
   "source": [
    "# sum of all elements\n",
    "animals[\"cats\"].sum()"
   ]
  },
  {
   "cell_type": "code",
   "execution_count": 20,
   "id": "48ea1ad5-8612-406a-8413-31fd2a2a62dd",
   "metadata": {},
   "outputs": [
    {
     "data": {
      "text/plain": [
       "0        5074\n",
       "1        6589\n",
       "2       12976\n",
       "3       22224\n",
       "4       26146\n",
       "        ...  \n",
       "121    415899\n",
       "122    416877\n",
       "123    417382\n",
       "124    418322\n",
       "125    419173\n",
       "Name: cats, Length: 126, dtype: int64"
      ]
     },
     "execution_count": 20,
     "metadata": {},
     "output_type": "execute_result"
    }
   ],
   "source": [
    "# cummulative sum \n",
    "# item1, item1+item2, item1+item2+item3, ...\n",
    "animals[\"cats\"].cumsum()"
   ]
  },
  {
   "cell_type": "code",
   "execution_count": 21,
   "id": "0b2fb32e-d612-47cf-91c2-1e26b5586a0a",
   "metadata": {},
   "outputs": [
    {
     "data": {
      "text/plain": [
       "3326.7698412698414"
      ]
     },
     "execution_count": 21,
     "metadata": {},
     "output_type": "execute_result"
    }
   ],
   "source": [
    "# mean value of series\n",
    "animals[\"cats\"].mean()"
   ]
  },
  {
   "cell_type": "code",
   "execution_count": 22,
   "id": "cf9d7857-bd9a-4ee7-99ac-a5571e98577b",
   "metadata": {},
   "outputs": [
    {
     "data": {
      "text/plain": [
       "2062.750967665068"
      ]
     },
     "execution_count": 22,
     "metadata": {},
     "output_type": "execute_result"
    }
   ],
   "source": [
    "# standard deviation of series\n",
    "animals[\"cats\"].std()"
   ]
  },
  {
   "cell_type": "markdown",
   "id": "a0d764f6-ebe4-47ef-99bc-4f64fe423824",
   "metadata": {
    "tags": []
   },
   "source": [
    "#### isna/isnull, idxmin/idxmax"
   ]
  },
  {
   "cell_type": "code",
   "execution_count": 23,
   "id": "aae3222f-c013-4234-92c0-805365a3684b",
   "metadata": {},
   "outputs": [],
   "source": [
    "import numpy as np"
   ]
  },
  {
   "cell_type": "code",
   "execution_count": 24,
   "id": "bcac49e6-5b2b-4773-a22c-fd126642cc05",
   "metadata": {},
   "outputs": [],
   "source": [
    "# missing values in pandas areindicated as NaN\n",
    "# with isna we can check how many \n",
    "\n",
    "s = pd.Series([1, None, \"a\", True, np.nan]).isna()\n",
    "\n"
   ]
  },
  {
   "cell_type": "code",
   "execution_count": 25,
   "id": "3ff474a2-6075-40da-83ee-a59505fadbf4",
   "metadata": {},
   "outputs": [
    {
     "data": {
      "text/plain": [
       "0      False\n",
       "1      False\n",
       "2      False\n",
       "3      False\n",
       "4      False\n",
       "       ...  \n",
       "121    False\n",
       "122    False\n",
       "123    False\n",
       "124    False\n",
       "125    False\n",
       "Name: dogs, Length: 126, dtype: bool"
      ]
     },
     "execution_count": 25,
     "metadata": {},
     "output_type": "execute_result"
    }
   ],
   "source": [
    "# isna: returns array with same shape with True/False to mask NaN\n",
    "animals[\"dogs\"].isna()"
   ]
  },
  {
   "cell_type": "code",
   "execution_count": 35,
   "id": "011bae46-a8d3-4fe5-8b3b-38abdf7eb0a1",
   "metadata": {},
   "outputs": [
    {
     "data": {
      "text/plain": [
       "0       1\n",
       "2       a\n",
       "3    True\n",
       "dtype: object"
      ]
     },
     "execution_count": 35,
     "metadata": {},
     "output_type": "execute_result"
    }
   ],
   "source": [
    "# with dropna we can drop rows with NaN\n",
    "pd.Series([1, None, \"a\", True, np.nan]).dropna()"
   ]
  },
  {
   "cell_type": "code",
   "execution_count": 27,
   "id": "a3f6a066-ca1c-4143-b346-91689072545e",
   "metadata": {},
   "outputs": [
    {
     "data": {
      "text/plain": [
       "54"
      ]
     },
     "execution_count": 27,
     "metadata": {},
     "output_type": "execute_result"
    }
   ],
   "source": [
    "# idxmax() returns the row label (index) of the highest value in series\n",
    "animals[\"dogs\"].idxmax()"
   ]
  },
  {
   "cell_type": "code",
   "execution_count": 28,
   "id": "d234e80d-2cd3-46e2-a990-cdf5dfefefcc",
   "metadata": {},
   "outputs": [
    {
     "data": {
      "text/plain": [
       "True"
      ]
     },
     "execution_count": 28,
     "metadata": {},
     "output_type": "execute_result"
    }
   ],
   "source": [
    "animals[\"dogs\"][animals[\"dogs\"].idxmax()] == animals[\"dogs\"].max()"
   ]
  },
  {
   "cell_type": "code",
   "execution_count": 29,
   "id": "134e8758-4d46-4d8f-8b53-31590d1ac3dd",
   "metadata": {},
   "outputs": [
    {
     "data": {
      "text/plain": [
       "123"
      ]
     },
     "execution_count": 29,
     "metadata": {},
     "output_type": "execute_result"
    }
   ],
   "source": [
    "# idxmin() returns the row label (index) of the lowest value in series\n",
    "animals[\"dogs\"].idxmin()"
   ]
  },
  {
   "cell_type": "markdown",
   "id": "c2e1313f-e4fe-4c60-b592-442a15a04f40",
   "metadata": {},
   "source": [
    "#### unique, nunique, drop_duplicates"
   ]
  },
  {
   "cell_type": "code",
   "execution_count": 30,
   "id": "03982007-ce15-48a1-9bc4-9591abdd280b",
   "metadata": {},
   "outputs": [
    {
     "data": {
      "text/plain": [
       "array(['ARGANZUELA', 'BARAJAS', 'CARABANCHEL', 'CENTRO', 'CHAMARTÍN',\n",
       "       'CHAMBERÍ', 'CIUDAD LINEAL', 'FUENCARRAL-EL PARDO', 'HORTALEZA',\n",
       "       'LATINA', 'MONCLOA-ARAVACA', 'MORATALAZ', 'PUENTE DE VALLECAS',\n",
       "       'RETIRO', 'SALAMANCA', 'SAN BLAS', 'TETUÁN', 'USERA', 'VICÁLVARO',\n",
       "       'VILLA DE VALLECAS', 'VILLAVERDE', 'FUENCARRAL EL PARDO'],\n",
       "      dtype=object)"
      ]
     },
     "execution_count": 30,
     "metadata": {},
     "output_type": "execute_result"
    }
   ],
   "source": [
    "# returns an array with the unique values, like doing set(series)\n",
    "animals[\"district\"].unique()"
   ]
  },
  {
   "cell_type": "code",
   "execution_count": 31,
   "id": "7956a5d2-ee39-4433-b95a-3b7cc265b24e",
   "metadata": {},
   "outputs": [
    {
     "data": {
      "text/plain": [
       "22"
      ]
     },
     "execution_count": 31,
     "metadata": {},
     "output_type": "execute_result"
    }
   ],
   "source": [
    "# nunique returns how many unique elements there are in the series, like doing len(set(series))\n",
    "animals[\"district\"].nunique()"
   ]
  },
  {
   "cell_type": "code",
   "execution_count": 32,
   "id": "7d72e65a-b9e7-41f7-8896-c0813fb25aae",
   "metadata": {},
   "outputs": [
    {
     "data": {
      "text/plain": [
       "0               ARGANZUELA\n",
       "1                  BARAJAS\n",
       "2              CARABANCHEL\n",
       "3                   CENTRO\n",
       "4                CHAMARTÍN\n",
       "5                 CHAMBERÍ\n",
       "6            CIUDAD LINEAL\n",
       "7      FUENCARRAL-EL PARDO\n",
       "8                HORTALEZA\n",
       "9                   LATINA\n",
       "10         MONCLOA-ARAVACA\n",
       "11               MORATALAZ\n",
       "12      PUENTE DE VALLECAS\n",
       "13                  RETIRO\n",
       "14               SALAMANCA\n",
       "15                SAN BLAS\n",
       "16                  TETUÁN\n",
       "17                   USERA\n",
       "18               VICÁLVARO\n",
       "19       VILLA DE VALLECAS\n",
       "20              VILLAVERDE\n",
       "112    FUENCARRAL EL PARDO\n",
       "Name: district, dtype: object"
      ]
     },
     "execution_count": 32,
     "metadata": {},
     "output_type": "execute_result"
    }
   ],
   "source": [
    "# drop_duplicates returns a series with only the unique values and the index at which they are\n",
    "animals[\"district\"].drop_duplicates()"
   ]
  },
  {
   "cell_type": "markdown",
   "id": "432eed23-89b9-4ce0-9926-f473c05bcea8",
   "metadata": {
    "tags": []
   },
   "source": [
    "### Create new columns out of existing columns\n",
    "\n",
    "* We can operate 2 or more columns with arithmetic operators\n",
    "* We can perform logical operations in columns using np.where\n",
    "    * ```Python\n",
    "    np.where(condition_on_column, result_if_true, result_if_false)\n",
    "    ```\n"
   ]
  },
  {
   "cell_type": "code",
   "execution_count": 33,
   "id": "dc4a72cc-4316-4ec8-a568-83372ea725a4",
   "metadata": {},
   "outputs": [
    {
     "data": {
      "text/html": [
       "<div>\n",
       "<style scoped>\n",
       "    .dataframe tbody tr th:only-of-type {\n",
       "        vertical-align: middle;\n",
       "    }\n",
       "\n",
       "    .dataframe tbody tr th {\n",
       "        vertical-align: top;\n",
       "    }\n",
       "\n",
       "    .dataframe thead th {\n",
       "        text-align: right;\n",
       "    }\n",
       "</style>\n",
       "<table border=\"1\" class=\"dataframe\">\n",
       "  <thead>\n",
       "    <tr style=\"text-align: right;\">\n",
       "      <th></th>\n",
       "      <th>year</th>\n",
       "      <th>district</th>\n",
       "      <th>dogs</th>\n",
       "      <th>cats</th>\n",
       "      <th>total_animals</th>\n",
       "    </tr>\n",
       "  </thead>\n",
       "  <tbody>\n",
       "    <tr>\n",
       "      <th>0</th>\n",
       "      <td>2019</td>\n",
       "      <td>ARGANZUELA</td>\n",
       "      <td>10556</td>\n",
       "      <td>5074</td>\n",
       "      <td>15630</td>\n",
       "    </tr>\n",
       "    <tr>\n",
       "      <th>1</th>\n",
       "      <td>2019</td>\n",
       "      <td>BARAJAS</td>\n",
       "      <td>5086</td>\n",
       "      <td>1515</td>\n",
       "      <td>6601</td>\n",
       "    </tr>\n",
       "    <tr>\n",
       "      <th>2</th>\n",
       "      <td>2019</td>\n",
       "      <td>CARABANCHEL</td>\n",
       "      <td>20258</td>\n",
       "      <td>6387</td>\n",
       "      <td>26645</td>\n",
       "    </tr>\n",
       "    <tr>\n",
       "      <th>3</th>\n",
       "      <td>2019</td>\n",
       "      <td>CENTRO</td>\n",
       "      <td>16010</td>\n",
       "      <td>9248</td>\n",
       "      <td>25258</td>\n",
       "    </tr>\n",
       "    <tr>\n",
       "      <th>4</th>\n",
       "      <td>2019</td>\n",
       "      <td>CHAMARTÍN</td>\n",
       "      <td>11098</td>\n",
       "      <td>3922</td>\n",
       "      <td>15020</td>\n",
       "    </tr>\n",
       "  </tbody>\n",
       "</table>\n",
       "</div>"
      ],
      "text/plain": [
       "   year     district   dogs  cats  total_animals\n",
       "0  2019   ARGANZUELA  10556  5074          15630\n",
       "1  2019      BARAJAS   5086  1515           6601\n",
       "2  2019  CARABANCHEL  20258  6387          26645\n",
       "3  2019       CENTRO  16010  9248          25258\n",
       "4  2019    CHAMARTÍN  11098  3922          15020"
      ]
     },
     "execution_count": 33,
     "metadata": {},
     "output_type": "execute_result"
    }
   ],
   "source": [
    "# sum two columns\n",
    "\n",
    "animals[\"total_animals\"] = animals[\"cats\"] + animals[\"dogs\"]\n",
    "\n",
    "animals.head()"
   ]
  },
  {
   "cell_type": "markdown",
   "id": "184088b5-7baa-40a0-a166-2d9cfbe762d9",
   "metadata": {},
   "source": [
    "### np.where\n",
    "\n",
    "```Python\n",
    "np.where(\n",
    "    condition_to_check,\n",
    "    value_if_condition_is_true,\n",
    "    value_if_condition_is_false\n",
    ")\n",
    "```"
   ]
  },
  {
   "cell_type": "code",
   "execution_count": 34,
   "id": "f4c5ec73-99ac-44d6-a995-923f01d10007",
   "metadata": {},
   "outputs": [
    {
     "ename": "NameError",
     "evalue": "name 'condition' is not defined",
     "output_type": "error",
     "traceback": [
      "\u001b[0;31m---------------------------------------------------------------------------\u001b[0m",
      "\u001b[0;31mNameError\u001b[0m                                 Traceback (most recent call last)",
      "\u001b[0;32m/var/folders/kn/gt9ggj051wdfjnfqv8xjl8qh0000gn/T/ipykernel_18478/4258555756.py\u001b[0m in \u001b[0;36m<module>\u001b[0;34m\u001b[0m\n\u001b[0;32m----> 1\u001b[0;31m \u001b[0;32mif\u001b[0m \u001b[0mcondition\u001b[0m\u001b[0;34m:\u001b[0m\u001b[0;34m\u001b[0m\u001b[0;34m\u001b[0m\u001b[0m\n\u001b[0m\u001b[1;32m      2\u001b[0m     \u001b[0mvalue_if_condition_is_true\u001b[0m\u001b[0;34m\u001b[0m\u001b[0;34m\u001b[0m\u001b[0m\n\u001b[1;32m      3\u001b[0m \u001b[0;32melse\u001b[0m\u001b[0;34m:\u001b[0m\u001b[0;34m\u001b[0m\u001b[0;34m\u001b[0m\u001b[0m\n\u001b[1;32m      4\u001b[0m     \u001b[0mvalue_if_condition_is_false\u001b[0m\u001b[0;34m\u001b[0m\u001b[0;34m\u001b[0m\u001b[0m\n",
      "\u001b[0;31mNameError\u001b[0m: name 'condition' is not defined"
     ]
    }
   ],
   "source": [
    "if condition:\n",
    "    value_if_condition_is_true\n",
    "else:\n",
    "    value_if_condition_is_false"
   ]
  },
  {
   "cell_type": "code",
   "execution_count": 36,
   "id": "6efc5c87-f2d2-4f93-9df9-df53e2325d14",
   "metadata": {},
   "outputs": [
    {
     "name": "stdout",
     "output_type": "stream",
     "text": [
      "16388.97619047619\n"
     ]
    },
    {
     "data": {
      "text/html": [
       "<div>\n",
       "<style scoped>\n",
       "    .dataframe tbody tr th:only-of-type {\n",
       "        vertical-align: middle;\n",
       "    }\n",
       "\n",
       "    .dataframe tbody tr th {\n",
       "        vertical-align: top;\n",
       "    }\n",
       "\n",
       "    .dataframe thead th {\n",
       "        text-align: right;\n",
       "    }\n",
       "</style>\n",
       "<table border=\"1\" class=\"dataframe\">\n",
       "  <thead>\n",
       "    <tr style=\"text-align: right;\">\n",
       "      <th></th>\n",
       "      <th>year</th>\n",
       "      <th>district</th>\n",
       "      <th>dogs</th>\n",
       "      <th>cats</th>\n",
       "      <th>total_animals</th>\n",
       "      <th>total_animals_cat</th>\n",
       "    </tr>\n",
       "  </thead>\n",
       "  <tbody>\n",
       "    <tr>\n",
       "      <th>98</th>\n",
       "      <td>2015</td>\n",
       "      <td>SALAMANCA</td>\n",
       "      <td>13159</td>\n",
       "      <td>1860</td>\n",
       "      <td>15019</td>\n",
       "      <td>below_mean</td>\n",
       "    </tr>\n",
       "    <tr>\n",
       "      <th>102</th>\n",
       "      <td>2015</td>\n",
       "      <td>VICÁLVARO</td>\n",
       "      <td>4702</td>\n",
       "      <td>545</td>\n",
       "      <td>5247</td>\n",
       "      <td>below_mean</td>\n",
       "    </tr>\n",
       "    <tr>\n",
       "      <th>26</th>\n",
       "      <td>2018</td>\n",
       "      <td>CHAMBERÍ</td>\n",
       "      <td>13615</td>\n",
       "      <td>4087</td>\n",
       "      <td>17702</td>\n",
       "      <td>above_mean</td>\n",
       "    </tr>\n",
       "    <tr>\n",
       "      <th>99</th>\n",
       "      <td>2015</td>\n",
       "      <td>SAN BLAS</td>\n",
       "      <td>13067</td>\n",
       "      <td>2188</td>\n",
       "      <td>15255</td>\n",
       "      <td>below_mean</td>\n",
       "    </tr>\n",
       "    <tr>\n",
       "      <th>77</th>\n",
       "      <td>2016</td>\n",
       "      <td>SALAMANCA</td>\n",
       "      <td>12709</td>\n",
       "      <td>3424</td>\n",
       "      <td>16133</td>\n",
       "      <td>below_mean</td>\n",
       "    </tr>\n",
       "  </tbody>\n",
       "</table>\n",
       "</div>"
      ],
      "text/plain": [
       "     year   district   dogs  cats  total_animals total_animals_cat\n",
       "98   2015  SALAMANCA  13159  1860          15019        below_mean\n",
       "102  2015  VICÁLVARO   4702   545           5247        below_mean\n",
       "26   2018   CHAMBERÍ  13615  4087          17702        above_mean\n",
       "99   2015   SAN BLAS  13067  2188          15255        below_mean\n",
       "77   2016  SALAMANCA  12709  3424          16133        below_mean"
      ]
     },
     "execution_count": 36,
     "metadata": {},
     "output_type": "execute_result"
    }
   ],
   "source": [
    "# create a new column based on a logical condition on an existing column: `np.where`\n",
    "\n",
    "import numpy as np\n",
    "\n",
    "mean_animals = animals[\"total_animals\"].mean()\n",
    "print(mean_animals)\n",
    "\n",
    "animals[\"total_animals_cat\"] = np.where(\n",
    "    animals[\"total_animals\"] > mean_animals, #if animals above mean\n",
    "    \"above_mean\", # save \"above_mean\"\n",
    "    \"below_mean\" # save \"below_mean\"\n",
    ")\n",
    "\n",
    "animals.sample(5)"
   ]
  },
  {
   "cell_type": "code",
   "execution_count": 37,
   "id": "96f9db57-4bd8-4182-b288-403e6950173d",
   "metadata": {},
   "outputs": [
    {
     "data": {
      "text/plain": [
       "year                  int64\n",
       "district             object\n",
       "dogs                  int64\n",
       "cats                  int64\n",
       "total_animals         int64\n",
       "total_animals_cat    object\n",
       "concat_string        object\n",
       "dtype: object"
      ]
     },
     "execution_count": 37,
     "metadata": {},
     "output_type": "execute_result"
    }
   ],
   "source": [
    "# concatenating strings and converting\n",
    "animals[\"concat_string\"] = animals[\"year\"].astype(str) + animals[\"district\"]\n",
    "\n",
    "animals[\"concat_string\"] = animals[\"concat_string\"].str[-3:]\n",
    "\n",
    "animals.dtypes"
   ]
  },
  {
   "cell_type": "code",
   "execution_count": null,
   "id": "2f1bba96-0436-4885-81f3-7474cda3779a",
   "metadata": {},
   "outputs": [],
   "source": [
    "# create a new column called \"cats_per_dog\" that contains the ratio cats/dogs\n",
    "animals[\"cats_per_dog\"] = animals[\"cats\"] / animals[\"dogs\"]\n",
    "\n",
    "animals.head()"
   ]
  },
  {
   "cell_type": "code",
   "execution_count": null,
   "id": "0264a2f7-70a5-4f89-95c2-399373a2d027",
   "metadata": {},
   "outputs": [],
   "source": [
    "# create a new column called \"cum_sum_animals\" that contains \n",
    "# the cummulative sum of the total animals \n",
    "animals[\"cum_sum_animals\"] = animals[\"total_animals\"].cumsum().\n",
    "\n",
    "animals.head()"
   ]
  },
  {
   "cell_type": "markdown",
   "id": "42d1edee-d562-4aad-9620-728ed133bbca",
   "metadata": {
    "tags": []
   },
   "source": [
    "### Sorting columns using `.sort_values()`\n",
    "\n",
    "We can sort our dataframes this way:\n",
    "\n",
    "```Python\n",
    "df.sort_values(by=[columns_to_order_with], ascending=True)\n",
    "```"
   ]
  },
  {
   "cell_type": "code",
   "execution_count": null,
   "id": "8491d91e-4868-4d27-8bee-e95c1f3fe882",
   "metadata": {},
   "outputs": [],
   "source": [
    "animals.sort_values(by=[\"cats\", \"dogs\"], ascending=[True, False])"
   ]
  },
  {
   "cell_type": "code",
   "execution_count": null,
   "id": "b72de6ce-32c7-4067-8724-2cd851d94d1b",
   "metadata": {},
   "outputs": [],
   "source": [
    "animals.sort_values(by=[\"cats\", \"dogs\"], ascending=[False, True])"
   ]
  },
  {
   "cell_type": "markdown",
   "id": "7670e3c9-ca64-4f3d-90ff-1034d4965357",
   "metadata": {},
   "source": [
    "## Practice"
   ]
  },
  {
   "cell_type": "markdown",
   "id": "4b72f59d-bd0f-4ec7-91d4-192d8a63bbf5",
   "metadata": {},
   "source": [
    "### Exercise 1:\n",
    "Whats the percentage that represents the dogs in \"LATINA\" in 2018 compared to the whole city in 2018 "
   ]
  },
  {
   "cell_type": "code",
   "execution_count": null,
   "id": "2ee61d2e-3408-4ae2-969a-380e7de1546c",
   "metadata": {},
   "outputs": [],
   "source": [
    "dogs_latina_2018 = animals[\n",
    "    (animals[\"district\"]==\"LATINA\")&\n",
    "    (animals[\"year\"]==2018)\n",
    "][\"dogs\"].values[0]\n",
    "\n",
    "dogs_2018 = animals[\n",
    "    (animals[\"year\"]==2018)\n",
    "][\"dogs\"].sum()\n",
    "\n",
    "ratio = round(dogs_latina_2018 * 100 / dogs_2018, 1)\n",
    "\n",
    "f\"{ratio} % of the dogs in Madrid in 2018 are in Latina\""
   ]
  },
  {
   "cell_type": "markdown",
   "id": "e5cf7e45-2840-45dd-861f-0f327382e212",
   "metadata": {},
   "source": [
    "### Exercise 2:\n",
    "How many districts had an \"above_mean\" rating in 2016?"
   ]
  },
  {
   "cell_type": "code",
   "execution_count": null,
   "id": "091a60bc-2f4a-4534-ba44-c5084f7d39d7",
   "metadata": {},
   "outputs": [],
   "source": [
    "animals[\n",
    "    (animals[\"year\"]==2016)&\n",
    "    (animals[\"total_animals_cat\"]==\"above_mean\")\n",
    "][\"district\"].nunique()"
   ]
  },
  {
   "cell_type": "markdown",
   "id": "22bc33fc-b569-45aa-9fda-1e71f1779328",
   "metadata": {},
   "source": [
    "### Exercise 3:\n",
    "Has the \"Hortaleza\" district increased or decreased its dog population in the analyzed period? By how much?"
   ]
  },
  {
   "cell_type": "code",
   "execution_count": null,
   "id": "f9a70f42-e00d-4040-9ba2-9a182b9942b0",
   "metadata": {},
   "outputs": [],
   "source": [
    "dogs_hortaleza_2019 = animals[\n",
    "    (animals[\"district\"]==\"HORTALEZA\")\n",
    "][[\"year\", \"dogs\"]].sort_values(by=\"year\", ascending=False)[\"dogs\"].values[0]\n",
    "\n",
    "dogs_hortaleza_2014 = animals[\n",
    "    (animals[\"district\"]==\"HORTALEZA\")\n",
    "][[\"year\", \"dogs\"]].sort_values(by=\"year\", ascending=False)[\"dogs\"].values[-1]\n",
    "\n",
    "# to calculate the evolution we substract the number of dogs in Hortaleza in 2014 from 2019\n",
    "evolution = dogs_hortaleza_2019 - dogs_hortaleza_2014\n",
    "\n",
    "# results\n",
    "result = \"increased\" if evolution > 0 else \"decreased\"\n",
    "\n",
    "print(f\"The number of dogs in Hortaleza has {result} by {abs(evolution)} dogs from 2014 to 2019\")"
   ]
  },
  {
   "cell_type": "markdown",
   "id": "ee857c45-aacd-45fd-bfad-d267f740b436",
   "metadata": {},
   "source": [
    "## Groupby and aggregations"
   ]
  },
  {
   "cell_type": "markdown",
   "id": "b9eb7ce8-e166-4bb3-8726-6cd48fd296ee",
   "metadata": {},
   "source": [
    "### `groupby`\n",
    "\n",
    "Just like in SQL, we can use `groupby` to perform operations to whole groups on our DataFrames.\n",
    "\n",
    "```Python\n",
    "df.groupby([columns_to_group]).function_to_apply_to_each_group\n",
    "```"
   ]
  },
  {
   "cell_type": "code",
   "execution_count": null,
   "id": "3e7a68b4-1564-4115-833e-ec8bb5faa57a",
   "metadata": {},
   "outputs": [],
   "source": [
    "# read energy data\n",
    "from datetime import datetime\n",
    "\n",
    "energy = pd.read_csv(\"../files/energy.csv\")\n",
    "\n",
    "energy.head()"
   ]
  },
  {
   "cell_type": "code",
   "execution_count": null,
   "id": "d2409984-4464-48ea-8ba2-86d46d530d0c",
   "metadata": {},
   "outputs": [],
   "source": [
    "energy[[\"power_demand\"]].head()"
   ]
  },
  {
   "cell_type": "code",
   "execution_count": null,
   "id": "179f31f1-e929-419a-8b7d-c2778fc84042",
   "metadata": {},
   "outputs": [],
   "source": [
    "# mean spot_price per month \n",
    "energy.groupby([\"month\"])[[\"spot_price\"]].mean()"
   ]
  },
  {
   "cell_type": "code",
   "execution_count": null,
   "id": "f43b3b66-d61c-47c8-bd19-4a0fd834a47b",
   "metadata": {},
   "outputs": [],
   "source": [
    "# max power_demand per hour\n",
    "energy.groupby([\"hour\"])[[\"power_demand\"]].max()"
   ]
  },
  {
   "cell_type": "code",
   "execution_count": null,
   "id": "67981b80-f13a-4ff2-911f-980ef8a663f4",
   "metadata": {},
   "outputs": [],
   "source": [
    "# day of week with lowest average consumption of fossil fuels \n",
    "\n",
    "energy[\"fossil_fuel_consumption\"] = energy[\"gas\"] + energy[\"coal\"]\n",
    "\n",
    "energy.groupby([\"weekday\"])[[\"fossil_fuel_consumption\"]].mean().idxmin()  # Sunday"
   ]
  },
  {
   "cell_type": "markdown",
   "id": "7595dd2c-4284-46d2-8721-4552c70a9dfd",
   "metadata": {},
   "source": [
    "### Inside a `groupby` object\n",
    "\n",
    "`groupby` creates a tuple per `category` in the `column`(s) we're grouping by:\n",
    "* The first element of the tuple is each one of the `category` in `column`\n",
    "* The second element is the data associated to that category:\n",
    "    * ```Python\n",
    "    df[df[col_groupby]==category]\n",
    "    ```"
   ]
  },
  {
   "cell_type": "code",
   "execution_count": null,
   "id": "579446d3-53e9-4b29-b473-baa1057e49fc",
   "metadata": {},
   "outputs": [],
   "source": [
    "# what's inside a groupby object?\n",
    "groupby_object = energy.groupby(\"month\")"
   ]
  },
  {
   "cell_type": "code",
   "execution_count": null,
   "id": "c18cc190-667d-4c27-b113-f5756773f0ab",
   "metadata": {},
   "outputs": [],
   "source": [
    "# first element\n",
    "list(groupby_object)[0][1][\"month\"].unique()"
   ]
  },
  {
   "cell_type": "code",
   "execution_count": null,
   "id": "1192913a-c1d2-4a14-80f9-6f0a0f3c67aa",
   "metadata": {},
   "outputs": [],
   "source": [
    "# category\n",
    "list(groupby_object)[0][0]"
   ]
  },
  {
   "cell_type": "code",
   "execution_count": null,
   "id": "2e3cf525-1b19-45c2-9d92-7bd3705bdac1",
   "metadata": {},
   "outputs": [],
   "source": [
    "# data associated with category\n",
    "list(groupby_object)[0][1]"
   ]
  },
  {
   "cell_type": "markdown",
   "id": "a29af71a-89ed-4c69-a058-9b59985fd340",
   "metadata": {},
   "source": [
    "Now we understand the `groupby` object, we can dig a bit deeper into the syntax\n",
    "\n",
    "If we want to groupby several columns, we can pass a list of columns to `groupby` and perform the operation we need.\n",
    "\n",
    "If we don't want the columns to become the index of the resulting DF, we can pass `as_index=False` to `groupby`"
   ]
  },
  {
   "cell_type": "code",
   "execution_count": null,
   "id": "d9dc1016-288f-4dfa-9cf3-3dc07d6831f0",
   "metadata": {},
   "outputs": [],
   "source": [
    "# groupby with several columns\n",
    "\n",
    "# mean  power_demand and spot_price per month and weekday\n",
    "df = energy.groupby([\"month\", \"weekday\"])[[\"power_demand\", \"spot_price\"]].mean()\n",
    "\n",
    "df.columns = [f\"mean_{col}\" for col in df.columns]\n",
    "\n",
    "df"
   ]
  },
  {
   "cell_type": "code",
   "execution_count": null,
   "id": "a12a7309-aea0-4943-9985-56f8ea953c60",
   "metadata": {},
   "outputs": [],
   "source": [
    "# with `as_index=False` we can keep the index\n",
    "energy.groupby([\"month\", \"weekday\"], as_index=False)[[\"power_demand\", \"spot_price\"]].mean()"
   ]
  },
  {
   "cell_type": "markdown",
   "id": "5e618311-04b0-4290-a53d-c34f301cd88f",
   "metadata": {},
   "source": [
    "### `groupby` and `agg`\n",
    "\n",
    "If we want to perform different operations after `groupby` we can mix `groupby` and `agg`."
   ]
  },
  {
   "cell_type": "code",
   "execution_count": null,
   "id": "5aba14f9-b836-4aa2-8c51-6c984738c644",
   "metadata": {},
   "outputs": [],
   "source": [
    "# groupby on several columns and perform mean and sum on coal and wind\n",
    "\n",
    "energy.groupby([\"month\", \"weekday\"]).agg({\n",
    "    \"coal\": [\"sum\", \"mean\"],\n",
    "    \"wind\": [\"sum\", \"mean\"]\n",
    "})"
   ]
  },
  {
   "cell_type": "code",
   "execution_count": null,
   "id": "2623b34a-4741-4d38-a9e0-68a706571b86",
   "metadata": {},
   "outputs": [],
   "source": [
    "# We can handle a multiindex like the one resulting from a groupby with several columns \n",
    "# and several operations in the following way:\n",
    "\n",
    "df = energy.groupby([\"month\", \"weekday\"]).agg({\n",
    "    \"coal\": [\"sum\", \"mean\"],\n",
    "    \"wind\": [\"sum\", \"mean\"]\n",
    "})\n",
    "\n",
    "# mean coal generation on Tuesdays in January\n",
    "df.loc[(1, 1), (\"coal\", \"mean\")]"
   ]
  },
  {
   "cell_type": "markdown",
   "id": "e4cfbe6f-2f20-4244-8dbf-b928c3dff50c",
   "metadata": {},
   "source": [
    "When we have a DataFrame with several indices, we can use `unstack()` and `stack()`:"
   ]
  },
  {
   "cell_type": "markdown",
   "id": "8dc5ba6e-9334-408d-8bed-8ba74563ba5f",
   "metadata": {
    "tags": []
   },
   "source": [
    "### `stack` and `unstack`\n",
    "\n",
    "These methods allow us to \"move\" labels from rows to columns and viceversa\n",
    "* `unstack` moves row labels to column labels\n",
    "* `stack` moves column labels to row labels\n",
    "\n",
    "By default, the level at which these function operates is on the -1th level."
   ]
  },
  {
   "cell_type": "code",
   "execution_count": null,
   "id": "72f9c7d3-5dc5-461c-9d77-cf78d4ca158b",
   "metadata": {},
   "outputs": [],
   "source": [
    "# create DF with 2 indices\n",
    "energy.groupby([\"month\", \"weekday\"]).agg({\n",
    "    \"coal\": [\"sum\", \"mean\"],\n",
    "    \"wind\": [\"sum\", \"mean\"]\n",
    "})"
   ]
  },
  {
   "cell_type": "code",
   "execution_count": null,
   "id": "90fec44e-24c3-4b0c-9b84-2389b5647938",
   "metadata": {},
   "outputs": [],
   "source": [
    "# move `weekday` from rows to columns: unstack weekday\n",
    "energy.groupby([\"month\", \"weekday\"]).agg({\n",
    "    \"coal\": [\"sum\", \"mean\"],\n",
    "    \"wind\": [\"sum\", \"mean\"]\n",
    "}).unstack(level=\"weekday\")"
   ]
  },
  {
   "cell_type": "code",
   "execution_count": null,
   "id": "833f918c-c92c-4166-865c-f6cb70888f2f",
   "metadata": {},
   "outputs": [],
   "source": [
    "# move (\"coal\", \"wind\") from columns labels to rows: stack 0\n",
    "energy.groupby([\"month\", \"weekday\"]).agg({\n",
    "    \"coal\": [\"sum\", \"mean\"],\n",
    "    \"wind\": [\"sum\", \"mean\"]\n",
    "}).stack()"
   ]
  },
  {
   "cell_type": "markdown",
   "id": "85d2e5ac-79f1-4db8-a097-f69fd8731499",
   "metadata": {},
   "source": [
    "## Practice"
   ]
  },
  {
   "cell_type": "markdown",
   "id": "d6b40fc2-4c7d-4000-ab7a-1224e3776eac",
   "metadata": {},
   "source": [
    "### Exercise 1: `energy` dataset\n",
    "What's the maximum solar power generation happened in August?"
   ]
  },
  {
   "cell_type": "code",
   "execution_count": null,
   "id": "36778a5c-96a7-44a0-924d-a390bcc27057",
   "metadata": {},
   "outputs": [],
   "source": [
    "# let's see the maximum solar generation in each month\n",
    "energy.groupby([\"month\"]).agg({\"solar\": [\"max\"]})"
   ]
  },
  {
   "cell_type": "code",
   "execution_count": null,
   "id": "442bab99",
   "metadata": {},
   "outputs": [],
   "source": [
    "# only getting the value for August (month 8)\n",
    "energy.groupby([\"month\"]).agg({\"solar\": [\"max\"]}).loc[8]"
   ]
  },
  {
   "cell_type": "markdown",
   "id": "3e657ac7-7176-4d0c-ae91-de1e6c636123",
   "metadata": {},
   "source": [
    "### Exercise 2: `energy` dataset\n",
    "What's the average production of each of the following technologies on Hour 5\n",
    "\n",
    "```Python\n",
    "tech = [\"nuclear\", \"solar\", \"hydro\"]\n",
    "```"
   ]
  },
  {
   "cell_type": "code",
   "execution_count": null,
   "id": "ae137862-3dc9-40bf-94e1-5318b8185b4b",
   "metadata": {},
   "outputs": [],
   "source": [
    "tech = [\"nuclear\", \"solar\", \"hydro\"]\n",
    "\n",
    "energy.groupby(\"hour\")[tech].mean().loc[5]"
   ]
  },
  {
   "cell_type": "markdown",
   "id": "d3a28019-2217-4f3e-88f1-7836ef04a4d0",
   "metadata": {},
   "source": [
    "### Exercise 3:\n",
    "Create a new column called `stop_wind` with value 1 if `spot_price` is below 20, and 0 otherwise."
   ]
  },
  {
   "cell_type": "code",
   "execution_count": null,
   "id": "7ae751ca-37ae-4fee-b82d-2f2c354f6048",
   "metadata": {},
   "outputs": [],
   "source": [
    "energy[\"stop_wind\"] = np.where(\n",
    "    energy[\"spot_price\"] < 20, \n",
    "    1,\n",
    "    0\n",
    ")\n",
    "\n",
    "energy.head(1)"
   ]
  },
  {
   "cell_type": "markdown",
   "id": "b2f7f0b2-a813-4696-a511-8017fe238b0a",
   "metadata": {
    "tags": []
   },
   "source": [
    "### Exercise 4:\n",
    "Create a new column called weekend with 0 if weekday=0,1,2,3,4 and 1 otherwise"
   ]
  },
  {
   "cell_type": "code",
   "execution_count": null,
   "id": "e4a6c8d0-4434-4bdf-80ae-f8ab1e0ab3d2",
   "metadata": {},
   "outputs": [],
   "source": [
    "energy[\"weekend\"] = np.where(\n",
    "    energy[\"weekday\"] > 4,\n",
    "    1,\n",
    "    0\n",
    ")\n",
    "\n",
    "energy.head(1)"
   ]
  }
 ],
 "metadata": {
  "interpreter": {
   "hash": "a9f295c814a5ce7ff0b0a20f2b13117bfaf008fc7980e281f2c2bfa8e9ec0fbf"
  },
  "kernelspec": {
   "display_name": "Python 3 (ipykernel)",
   "language": "python",
   "name": "python3"
  },
  "language_info": {
   "codemirror_mode": {
    "name": "ipython",
    "version": 3
   },
   "file_extension": ".py",
   "mimetype": "text/x-python",
   "name": "python",
   "nbconvert_exporter": "python",
   "pygments_lexer": "ipython3",
   "version": "3.9.12"
  }
 },
 "nbformat": 4,
 "nbformat_minor": 5
}
