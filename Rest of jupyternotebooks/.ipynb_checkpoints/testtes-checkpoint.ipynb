{
 "cells": [
  {
   "cell_type": "code",
   "execution_count": 1,
   "metadata": {},
   "outputs": [
    {
     "name": "stderr",
     "output_type": "stream",
     "text": [
      "C:\\Users\\Vignesh Nambiar\\AppData\\Local\\Temp\\ipykernel_7588\\356209003.py:1: DeprecationWarning: Importing display from IPython.core.display is deprecated since IPython 7.14, please import from IPython display\n",
      "  from IPython.core.display import display, HTML\n"
     ]
    },
    {
     "data": {
      "text/html": [
       "<style>.container { width:100% !important; }</style>"
      ],
      "text/plain": [
       "<IPython.core.display.HTML object>"
      ]
     },
     "metadata": {},
     "output_type": "display_data"
    },
    {
     "data": {
      "text/html": [
       "<style>.rendered_html { font-size: 16px; }</style>"
      ],
      "text/plain": [
       "<IPython.core.display.HTML object>"
      ]
     },
     "metadata": {},
     "output_type": "display_data"
    }
   ],
   "source": [
    "from IPython.core.display import display, HTML\n",
    "\n",
    "display(HTML(\"<style>.container { width:100% !important; }</style>\")) # Increase cell width\n",
    "display(HTML(\"<style>.rendered_html { font-size: 16px; }</style>\")) # Increase font size\n",
    "\n",
    "# Larger figures\n",
    "\n",
    "import matplotlib\n",
    "import matplotlib.pyplot as plt\n",
    "%matplotlib inline  "
   ]
  },
  {
   "cell_type": "code",
   "execution_count": 2,
   "metadata": {},
   "outputs": [],
   "source": [
    "import pandas as pd\n",
    "import math"
   ]
  },
  {
   "cell_type": "markdown",
   "metadata": {},
   "source": [
    "# Introduction\n",
    "Welcome to the first application of Probabilistic classification with Naïve Bayes!\n",
    "\n",
    "<html>\n",
    "<img src=\"https://www.sketchappsources.com/resources/source-image/twitterlogo_1x.png\" width=\"20%\">\n",
    "</html>\n"
   ]
  },
  {
   "cell_type": "markdown",
   "metadata": {},
   "source": [
    "# Exercise #1\n",
    "In this example we will use **Twitter** as our data source to filter those tweets that are talking about a given application. This is a typical problem in probabilistic classification, where I'll use a large sample of texts corresponding to the category that I want to recognize, and another large sample of texts unrelated to that category. That way, by exploring the different word frequencies and probabilities, we'll determine if a new text belongs to one or another category, by simply looking at the existing evidence.\n",
    "\n",
    "## Problem Statement\n",
    "\n",
    "There is a real app called \"Mandrill\"\n",
    "\n",
    "<html>\n",
    "<img src=\"https://pbs.twimg.com/profile_images/604326524976680960/V0gyyhdH.png\" width=\"15%\"><P>\n",
    "</html>\n",
    "\n",
    "And I want to scan twitter to capture only those tweets that mention my APP. But I don't want to read tweets talking about the animal (the actual mandrill), so I need a classifier for the tweets, that will **filter** only those which are relevant.\n",
    "\n",
    "For this part of the problem part of the data preparation job is already done, so you start with a few hundreds tweets captured using Twitter API, with the word **Mandrill** in them. The file with tweets (`appWords.txt`) referring to the app looks like this:\n",
    "\n",
    "    @ericcandino they're unfortunately not for sale but drop us a line via http://help.mandrill.com  a\n",
    "    @gidogeek you can see what we've been working on and get a general idea of our plans at http://blo\n",
    "    @guillaumepotier there are several reasons emails go to spam mind submitting a request at http://h\n",
    "    @icntmx yep  we'd be glad to would you mind submitting a request at http://help.mandrill.com\n",
    "    @jeremyweir if you submit a request at http://help.mandrill.com   we'll get back to you with some\n",
    "    @josscrowcroft mind submitting a request via http://help.mandrill.com  with some additional detail\n",
    "\n",
    "And the file with tweets (`otherWords.txt`) not talking about the app look like this:\n",
    "\n",
    "    anyway  yeah  that's a thing that's going on  reincarnated mandrill-men\n",
    "    arin did the spark mandrill trick i was wondering if he would :')\n",
    "    audio mandrill - happy beat this is a funk song by a band who liked to w\n",
    "    cannot believe i am the only one in a @mandrill 2012 #tweetfleet t-shirt\n",
    "    chill penguin and spark mandrill down #megamanx\n",
    "    cuando pase el bafici y se hayan perdido mandrill  mirageman  mujer metr\n",
    "    de los creadores de #kiltro #mirageman y #mandrill ahora atacan con #trá\n",
    "\n",
    "I trimmed lines for better representation, but they're arbitrarily long (within twitter limits).\n",
    "\n",
    "As you might probably have realized, this is a **supervised problem**, and the _labeling_ of the training data has been already done, by manually separating the tweets among the two possible sets. That is the most boring part, and you always need to do so to train any classifier."
   ]
  },
  {
   "cell_type": "markdown",
   "metadata": {},
   "source": [
    "## Data Preparation\n",
    "\n",
    "What I did to prepare the problem is to process the tweets to convert _raw_ two data files with the frequency count for each individual word on them. So, from `appWords.txt`, I generated `appFreqs.csv`, which summary is like:"
   ]
  },
  {
   "cell_type": "code",
   "execution_count": 3,
   "metadata": {},
   "outputs": [],
   "source": [
    "appFile = pd.read_csv(\"data/appFreqs.csv\", header=None, names=[\"word\", \"frequency\"])\n",
    "otherFile = pd.read_csv(\"data/otherFreqs.csv\", header=None, names=[\"word\", \"frequency\"])"
   ]
  },
  {
   "cell_type": "code",
   "execution_count": 4,
   "metadata": {},
   "outputs": [
    {
     "data": {
      "text/html": [
       "<div>\n",
       "<style scoped>\n",
       "    .dataframe tbody tr th:only-of-type {\n",
       "        vertical-align: middle;\n",
       "    }\n",
       "\n",
       "    .dataframe tbody tr th {\n",
       "        vertical-align: top;\n",
       "    }\n",
       "\n",
       "    .dataframe thead th {\n",
       "        text-align: right;\n",
       "    }\n",
       "</style>\n",
       "<table border=\"1\" class=\"dataframe\">\n",
       "  <thead>\n",
       "    <tr style=\"text-align: right;\">\n",
       "      <th></th>\n",
       "      <th>word</th>\n",
       "      <th>frequency</th>\n",
       "    </tr>\n",
       "  </thead>\n",
       "  <tbody>\n",
       "    <tr>\n",
       "      <th>0</th>\n",
       "      <td>#atl</td>\n",
       "      <td>30</td>\n",
       "    </tr>\n",
       "    <tr>\n",
       "      <th>1</th>\n",
       "      <td>#atlanta</td>\n",
       "      <td>30</td>\n",
       "    </tr>\n",
       "    <tr>\n",
       "      <th>2</th>\n",
       "      <td>#bjcbranding</td>\n",
       "      <td>30</td>\n",
       "    </tr>\n",
       "    <tr>\n",
       "      <th>3</th>\n",
       "      <td>#buddypress</td>\n",
       "      <td>30</td>\n",
       "    </tr>\n",
       "    <tr>\n",
       "      <th>4</th>\n",
       "      <td>#career</td>\n",
       "      <td>30</td>\n",
       "    </tr>\n",
       "    <tr>\n",
       "      <th>...</th>\n",
       "      <td>...</td>\n",
       "      <td>...</td>\n",
       "    </tr>\n",
       "    <tr>\n",
       "      <th>852</th>\n",
       "      <td>–</td>\n",
       "      <td>90</td>\n",
       "    </tr>\n",
       "    <tr>\n",
       "      <th>853</th>\n",
       "      <td>‘migrate’</td>\n",
       "      <td>30</td>\n",
       "    </tr>\n",
       "    <tr>\n",
       "      <th>854</th>\n",
       "      <td>“mandrill”</td>\n",
       "      <td>30</td>\n",
       "    </tr>\n",
       "    <tr>\n",
       "      <th>855</th>\n",
       "      <td>…</td>\n",
       "      <td>540</td>\n",
       "    </tr>\n",
       "    <tr>\n",
       "      <th>856</th>\n",
       "      <td>🌿</td>\n",
       "      <td>30</td>\n",
       "    </tr>\n",
       "  </tbody>\n",
       "</table>\n",
       "<p>857 rows × 2 columns</p>\n",
       "</div>"
      ],
      "text/plain": [
       "             word  frequency\n",
       "0            #atl         30\n",
       "1        #atlanta         30\n",
       "2    #bjcbranding         30\n",
       "3     #buddypress         30\n",
       "4         #career         30\n",
       "..            ...        ...\n",
       "852             –         90\n",
       "853     ‘migrate’         30\n",
       "854    “mandrill”         30\n",
       "855             …        540\n",
       "856             🌿         30\n",
       "\n",
       "[857 rows x 2 columns]"
      ]
     },
     "execution_count": 4,
     "metadata": {},
     "output_type": "execute_result"
    }
   ],
   "source": [
    "appFile"
   ]
  },
  {
   "cell_type": "code",
   "execution_count": null,
   "metadata": {},
   "outputs": [],
   "source": []
  },
  {
   "cell_type": "markdown",
   "metadata": {},
   "source": [
    "These files contains a list of words and their frequency. We need to compute the probabilities from these frequencies (i.e., number of times a word appears w.r.t. the total count of words).\n",
    "\n",
    "To that end, I did simply count the number of occurrences of each word (`frequency`), divided by the sum of occurrences of all the words, and put that in the column variable `probability`, but I also computed the $log$ of the probability. Remember the we can use the actual probability as:\n",
    "\n",
    "$$ P(word) = \\frac{count(word)}{\\sum_{i=1}^{N}count(word_{i})} $$\n",
    "\n",
    "or the $log(P)$, as it is more convenient to use those values than the tiny ones that the probability produces. Remember that when using $logs$ we must sum them, instead of multiplying them. So, what we have in the variable `probability` is:\n",
    "\n",
    "$$ logP(word) = log \\left( \\frac{count(word)}{\\sum_{i=1}^{N}count(word_{i})} \\right)  $$"
   ]
  },
  {
   "cell_type": "code",
   "execution_count": 5,
   "metadata": {},
   "outputs": [],
   "source": [
    "appTotal = sum(appFile.frequency)\n",
    "otherTotal = sum(otherFile.frequency)\n",
    "\n",
    "appFile['probability'] = appFile.frequency.apply(lambda x: math.log(x/appTotal))\n",
    "otherFile['probability'] = otherFile.frequency.apply(lambda x: math.log(x/otherTotal))"
   ]
  },
  {
   "cell_type": "code",
   "execution_count": 6,
   "metadata": {},
   "outputs": [
    {
     "data": {
      "text/html": [
       "<div>\n",
       "<style scoped>\n",
       "    .dataframe tbody tr th:only-of-type {\n",
       "        vertical-align: middle;\n",
       "    }\n",
       "\n",
       "    .dataframe tbody tr th {\n",
       "        vertical-align: top;\n",
       "    }\n",
       "\n",
       "    .dataframe thead th {\n",
       "        text-align: right;\n",
       "    }\n",
       "</style>\n",
       "<table border=\"1\" class=\"dataframe\">\n",
       "  <thead>\n",
       "    <tr style=\"text-align: right;\">\n",
       "      <th></th>\n",
       "      <th>word</th>\n",
       "      <th>frequency</th>\n",
       "      <th>probability</th>\n",
       "    </tr>\n",
       "  </thead>\n",
       "  <tbody>\n",
       "    <tr>\n",
       "      <th>0</th>\n",
       "      <td>#atl</td>\n",
       "      <td>30</td>\n",
       "      <td>-7.705262</td>\n",
       "    </tr>\n",
       "    <tr>\n",
       "      <th>1</th>\n",
       "      <td>#atlanta</td>\n",
       "      <td>30</td>\n",
       "      <td>-7.705262</td>\n",
       "    </tr>\n",
       "    <tr>\n",
       "      <th>2</th>\n",
       "      <td>#bjcbranding</td>\n",
       "      <td>30</td>\n",
       "      <td>-7.705262</td>\n",
       "    </tr>\n",
       "    <tr>\n",
       "      <th>3</th>\n",
       "      <td>#buddypress</td>\n",
       "      <td>30</td>\n",
       "      <td>-7.705262</td>\n",
       "    </tr>\n",
       "    <tr>\n",
       "      <th>4</th>\n",
       "      <td>#career</td>\n",
       "      <td>30</td>\n",
       "      <td>-7.705262</td>\n",
       "    </tr>\n",
       "  </tbody>\n",
       "</table>\n",
       "</div>"
      ],
      "text/plain": [
       "           word  frequency  probability\n",
       "0          #atl         30    -7.705262\n",
       "1      #atlanta         30    -7.705262\n",
       "2  #bjcbranding         30    -7.705262\n",
       "3   #buddypress         30    -7.705262\n",
       "4       #career         30    -7.705262"
      ]
     },
     "execution_count": 6,
     "metadata": {},
     "output_type": "execute_result"
    }
   ],
   "source": [
    "appFile.head()"
   ]
  },
  {
   "cell_type": "markdown",
   "metadata": {},
   "source": [
    "## Helper functions\n"
   ]
  },
  {
   "cell_type": "markdown",
   "metadata": {},
   "source": [
    "I need a function gives me a word probability in any of the data frames that I used for the two classes."
   ]
  },
  {
   "cell_type": "code",
   "execution_count": 7,
   "metadata": {},
   "outputs": [
    {
     "data": {
      "text/plain": [
       "-2.40752690809659"
      ]
     },
     "execution_count": 7,
     "metadata": {},
     "output_type": "execute_result"
    }
   ],
   "source": [
    "def get_w_prob(word, dataframe):\n",
    "    prob = dataframe[dataframe.word == word].probability\n",
    "    if len(prob) > 0:\n",
    "        return prob.values[0]\n",
    "    else:\n",
    "        return math.log(1/math.log(sum(dataframe.frequency)))\n",
    "    \n",
    "get_w_prob(\"#al\", appFile)"
   ]
  },
  {
   "cell_type": "markdown",
   "metadata": {},
   "source": [
    "I also need to compute the prior probability of each class"
   ]
  },
  {
   "cell_type": "code",
   "execution_count": 8,
   "metadata": {},
   "outputs": [
    {
     "name": "stdout",
     "output_type": "stream",
     "text": [
      "The prior of tweets belonging to the app is =0.48\n",
      "\n",
      "\n",
      "The prior of tweets NOT belonging to the app is =0.52\n"
     ]
    }
   ],
   "source": [
    "appPrior = math.log(len(appFile) / (len(appFile) + len(otherFile))) # Number of Tweets in app File / Total number of Tweets (sum of the number of tweets in both files)\n",
    "print(\"The prior of tweets belonging to the app is ={0:.2f}\\n\\n\".format(math.exp(appPrior)))\n",
    "\n",
    "otherPrior = math.log(len(otherFile) / (len(appFile) + len(otherFile))) # Number of Tweets in other File / Total number of Tweets (sum of the number of tweets in both files)\n",
    "print(\"The prior of tweets NOT belonging to the app is ={0:.2f}\".format(math.exp(otherPrior)))\n"
   ]
  },
  {
   "cell_type": "markdown",
   "metadata": {},
   "source": [
    "### The Bayesian classifier. \n",
    "\n",
    "Let's build the classifier. I'm using a test set with a few tweets (`test.csv`), and the goal is to read them and say if they are about the APP or not. The test set is already labeled with the class each belongs to in the first column. We will loose that information to check if our prediction is OK.\n",
    "\n",
    "Read a test file, with the category label in V1 and the tweet contents in V2.\n"
   ]
  },
  {
   "cell_type": "code",
   "execution_count": 9,
   "metadata": {},
   "outputs": [],
   "source": [
    "test = pd.read_csv(\"data/test.csv\", header = None, names=[\"label\", \"content\"])"
   ]
  },
  {
   "cell_type": "markdown",
   "metadata": {},
   "source": [
    "Now, let's loop through the file to compute the MAP (maximum A Posterior Probability) and thus, determine which class the tweet belongs to:"
   ]
  },
  {
   "cell_type": "code",
   "execution_count": 10,
   "metadata": {},
   "outputs": [
    {
     "name": "stdout",
     "output_type": "stream",
     "text": [
      "Processing tweet:  just love @mandrillapp transactional email service - http://mandrill.com sorry @sendgrid and @mailjet #timetomoveon\n",
      "Prediction = APP | Actual Label= APP\n",
      "\n",
      "Processing tweet:  @rossdeane mind submitting a request at http://help.mandrill.com with account details if you haven't already  glad to take a look \n",
      "Prediction = APP | Actual Label= APP\n",
      "\n",
      "Processing tweet:  @veroapp any chance you'll be adding mandrill support to vero \n",
      "Prediction = APP | Actual Label= APP\n",
      "\n",
      "Processing tweet:  @elie__ @camj59 jparle de relai smtp 1 million de mail chez mandrill / mois comparé à 1 million sur lite sendgrid y a pas photo avec mailjet\n",
      "Prediction = APP | Actual Label= APP\n",
      "\n",
      "Processing tweet:  would like to send emails for welcome  password resets  payment notifications  etc what should i use  was looking at mailgun/mandrill\n",
      "Prediction = APP | Actual Label= APP\n",
      "\n",
      "Processing tweet:  from coworker about using mandrill  \"i would entrust email handling to a pokemon\".\n",
      "Prediction = APP | Actual Label= APP\n",
      "\n",
      "Processing tweet:  @mandrill realised i did that about 5 seconds after hitting send \n",
      "Prediction = APP | Actual Label= APP\n",
      "\n",
      "Processing tweet:  holy shit it’s here http://www.mandrill.com/ \n",
      "Prediction = APP | Actual Label= APP\n",
      "\n",
      "Processing tweet:  our new subscriber profile page activity timeline  aggregate engagement stats  and mandrill integratio #bjcbranding http://bit.ly/13wau5c \n",
      "Prediction = APP | Actual Label= APP\n",
      "\n",
      "Processing tweet:  @mandrillapp increases scalability ( http://bit.ly/14myvuh  ) then decreases pricing ( http://bit.ly/13uja7s  ) #selfinducedcannibalization\n",
      "Prediction = APP | Actual Label= APP\n",
      "\n",
      "Processing tweet:  the beets  rt @missmya #nameanamazingband mandrill \n",
      "Prediction = OTHER | Actual Label= OTHER\n",
      "\n",
      "Processing tweet:  rt @luissand0val fernando vargas mandrill mexican pride mma\n",
      "Prediction = OTHER | Actual Label= OTHER\n",
      "\n",
      "Processing tweet:  photo oculi-ds mandrill by natalie manuel http://tmblr.co/zjqanxhdswlr \n",
      "Prediction = APP | Actual Label= OTHER\n",
      "\n",
      "Processing tweet:  @mandrill me neither    we can be :sadpanda together :(\n",
      "Prediction = APP | Actual Label= OTHER\n",
      "\n",
      "Processing tweet:  @mandrill n  / ( k  * ( n  - k  ) ) where n = 5 and k = 4  it has been a long time but i think that is it\n",
      "Prediction = OTHER | Actual Label= OTHER\n",
      "\n",
      "Processing tweet:  megaman x - spark mandrill acapella http://youtu.be/hyx9-kwyjdi  @youtubeさんから\n",
      "Prediction = OTHER | Actual Label= OTHER\n",
      "\n",
      "Processing tweet:  @angeluserrare1 storm eagle ftw     nomás no dejes que se le acerque spark mandrill xd\n",
      "Prediction = OTHER | Actual Label= OTHER\n",
      "\n",
      "Processing tweet:  gostei de um vídeo @youtube http://youtu.be/xzny7zimtni aspark … mandrill's stage on guitar (mega man x)\n",
      "Prediction = APP | Actual Label= OTHER\n",
      "\n",
      "Processing tweet:  what is 2-year-old mandrill  jj  thinking in this pic  http://ow.ly/jfrqf  re-tweet with your caption.\n",
      "Prediction = APP | Actual Label= OTHER\n",
      "\n",
      "Processing tweet:  120 years of moscow zoo - mandrill - поста ссср  #postage #stamp 3347 from soviet union in 1984 #philately http://tinyurl.com/cguyvzb \n",
      "Prediction = OTHER | Actual Label= OTHER\n",
      "\n"
     ]
    }
   ],
   "source": [
    "pred = []\n",
    "\n",
    "for j in range(0,len(test)):\n",
    "    tweet = test.iloc[j].content # Extract the content of the tweet\n",
    "    print(\"Processing tweet:\",tweet)\n",
    "    wordsInThisTweet = ' '.join(tweet.split()).strip().split(\" \") # Extract the words into a list\n",
    "    appProb = 0.0\n",
    "    otherProb = 0.0\n",
    "    \n",
    "    # For every word in this tweet, sum its frequency value.\n",
    "    for word in wordsInThisTweet:\n",
    "        appProb = appProb + get_w_prob(word, appFile)\n",
    "        otherProb = otherProb + get_w_prob(word, otherFile)\n",
    "  \n",
    "    posteriorAppPob = appProb * appPrior\n",
    "    posteriorOtherPob = otherProb * otherPrior\n",
    "    \n",
    "    # Categorize according to the score obtained from every subset (App tweets, and Other tweets)\n",
    "    if posteriorAppPob > posteriorOtherPob:\n",
    "        print(\"Prediction = {} | Actual Label= {}\".format(\"APP\", test.iloc[j].label))\n",
    "        print()\n",
    "        pred.append(\"APP\")\n",
    "    else:\n",
    "        print(\"Prediction = {} | Actual Label= {}\".format(\"OTHER\", test.iloc[j].label))\n",
    "        print()\n",
    "        pred.append(\"OTHER\")"
   ]
  },
  {
   "cell_type": "markdown",
   "metadata": {},
   "source": [
    "Let's now print the confusion matrix"
   ]
  },
  {
   "cell_type": "code",
   "execution_count": 11,
   "metadata": {},
   "outputs": [
    {
     "name": "stdout",
     "output_type": "stream",
     "text": [
      "Accuracy = 0.8\n",
      "\n",
      "Confusion Matrix\n"
     ]
    },
    {
     "data": {
      "image/png": "[encoded data removed]",
      "text/plain": [
       "<Figure size 432x288 with 2 Axes>"
      ]
     },
     "metadata": {
      "needs_background": "light"
     },
     "output_type": "display_data"
    }
   ],
   "source": [
    "from sklearn.metrics import confusion_matrix, accuracy_score\n",
    "import seaborn as sn\n",
    "print(\"Accuracy = {}\".format(accuracy_score(test.label, pred)))\n",
    "print()\n",
    "\n",
    "print(\"Confusion Matrix\")\n",
    "cm = confusion_matrix(test.label, pred)\n",
    "sn.heatmap(cm, annot=True, cmap=plt.cm.Blues);\n"
   ]
  },
  {
   "cell_type": "markdown",
   "metadata": {},
   "source": [
    "An amazing 85% of Accuracy with this simple implementation"
   ]
  },
  {
   "cell_type": "markdown",
   "metadata": {},
   "source": [
    "# Exercise #2\n",
    "We are going to play now with another application of Naive Bayes: positive/negative prediction.\n",
    "\n",
    "## Problem Statement\n",
    "\n",
    "We will apply Naive Bayes to classify movie reviews according to their overall sentiment (positive/negative). In particular, we will use the Pang and Lee’s IMDB movie reviews data which contains 2000 reviews, each with a positive or negative sentiment label.\n",
    "\n",
    "I recommend you to take a look to the entry in the sklearn documentation devoted to working with textual representations: https://scikit-learn.org/stable/tutorial/text_analytics/working_with_text_data.html\n"
   ]
  },
  {
   "cell_type": "markdown",
   "metadata": {},
   "source": [
    "## Data Preparation\n",
    "\n",
    "Read the IMDB dataset from the data folder"
   ]
  },
  {
   "cell_type": "code",
   "execution_count": 12,
   "metadata": {},
   "outputs": [
    {
     "data": {
      "text/html": [
       "<div>\n",
       "<style scoped>\n",
       "    .dataframe tbody tr th:only-of-type {\n",
       "        vertical-align: middle;\n",
       "    }\n",
       "\n",
       "    .dataframe tbody tr th {\n",
       "        vertical-align: top;\n",
       "    }\n",
       "\n",
       "    .dataframe thead th {\n",
       "        text-align: right;\n",
       "    }\n",
       "</style>\n",
       "<table border=\"1\" class=\"dataframe\">\n",
       "  <thead>\n",
       "    <tr style=\"text-align: right;\">\n",
       "      <th></th>\n",
       "      <th>class</th>\n",
       "      <th>text</th>\n",
       "    </tr>\n",
       "  </thead>\n",
       "  <tbody>\n",
       "    <tr>\n",
       "      <th>0</th>\n",
       "      <td>Pos</td>\n",
       "      <td>films adapted from comic books have had plent...</td>\n",
       "    </tr>\n",
       "    <tr>\n",
       "      <th>1</th>\n",
       "      <td>Pos</td>\n",
       "      <td>every now and then a movie comes along from a...</td>\n",
       "    </tr>\n",
       "    <tr>\n",
       "      <th>2</th>\n",
       "      <td>Pos</td>\n",
       "      <td>you ve got mail works alot better than it des...</td>\n",
       "    </tr>\n",
       "    <tr>\n",
       "      <th>3</th>\n",
       "      <td>Pos</td>\n",
       "      <td>jaws   is a rare film that grabs your atte...</td>\n",
       "    </tr>\n",
       "    <tr>\n",
       "      <th>4</th>\n",
       "      <td>Pos</td>\n",
       "      <td>moviemaking is a lot like being the general m...</td>\n",
       "    </tr>\n",
       "    <tr>\n",
       "      <th>...</th>\n",
       "      <td>...</td>\n",
       "      <td>...</td>\n",
       "    </tr>\n",
       "    <tr>\n",
       "      <th>1995</th>\n",
       "      <td>Neg</td>\n",
       "      <td>if anything     stigmata   should be taken as...</td>\n",
       "    </tr>\n",
       "    <tr>\n",
       "      <th>1996</th>\n",
       "      <td>Neg</td>\n",
       "      <td>john boorman s   zardoz   is a goofy cinemati...</td>\n",
       "    </tr>\n",
       "    <tr>\n",
       "      <th>1997</th>\n",
       "      <td>Neg</td>\n",
       "      <td>the kids in the hall are an acquired taste   ...</td>\n",
       "    </tr>\n",
       "    <tr>\n",
       "      <th>1998</th>\n",
       "      <td>Neg</td>\n",
       "      <td>there was a time when john carpenter was a gr...</td>\n",
       "    </tr>\n",
       "    <tr>\n",
       "      <th>1999</th>\n",
       "      <td>Neg</td>\n",
       "      <td>two party guys bob their heads to haddaway s ...</td>\n",
       "    </tr>\n",
       "  </tbody>\n",
       "</table>\n",
       "<p>2000 rows × 2 columns</p>\n",
       "</div>"
      ],
      "text/plain": [
       "     class                                               text\n",
       "0      Pos   films adapted from comic books have had plent...\n",
       "1      Pos   every now and then a movie comes along from a...\n",
       "2      Pos   you ve got mail works alot better than it des...\n",
       "3      Pos      jaws   is a rare film that grabs your atte...\n",
       "4      Pos   moviemaking is a lot like being the general m...\n",
       "...    ...                                                ...\n",
       "1995   Neg   if anything     stigmata   should be taken as...\n",
       "1996   Neg   john boorman s   zardoz   is a goofy cinemati...\n",
       "1997   Neg   the kids in the hall are an acquired taste   ...\n",
       "1998   Neg   there was a time when john carpenter was a gr...\n",
       "1999   Neg   two party guys bob their heads to haddaway s ...\n",
       "\n",
       "[2000 rows x 2 columns]"
      ]
     },
     "execution_count": 12,
     "metadata": {},
     "output_type": "execute_result"
    }
   ],
   "source": [
    "imdb_data = pd.read_csv(\"data/movie-pang02.csv\")\n",
    "imdb_data"
   ]
  },
  {
   "cell_type": "markdown",
   "metadata": {},
   "source": [
    "In order to be able to manage the text documents, we first need to transform the text content into numerical feature vectors (i.e., vectorize).\n",
    "\n"
   ]
  },
  {
   "cell_type": "code",
   "execution_count": 16,
   "metadata": {},
   "outputs": [
    {
     "data": {
      "text/plain": [
       "array([[1, 0, 0, ..., 0, 0, 0],\n",
       "       [0, 0, 0, ..., 0, 0, 0],\n",
       "       [0, 0, 0, ..., 0, 0, 0],\n",
       "       ...,\n",
       "       [0, 0, 0, ..., 0, 0, 0],\n",
       "       [0, 0, 0, ..., 0, 0, 0],\n",
       "       [0, 0, 0, ..., 0, 0, 0]], dtype=int64)"
      ]
     },
     "execution_count": 16,
     "metadata": {},
     "output_type": "execute_result"
    }
   ],
   "source": [
    "from sklearn.feature_extraction.text import CountVectorizer\n",
    "\n",
    "data = imdb_data[\"text\"]\n",
    "\n",
    "vectorizer = CountVectorizer()\n",
    "X = vectorizer.fit_transform(data\n",
    "X = X.toarray()\n",
    "X"
   ]
  },
  {
   "cell_type": "markdown",
   "metadata": {},
   "source": [
    "## Training and Test data sets.\n",
    "\n",
    "Separate data into training and test sets (80% for training and 20% for test)."
   ]
  },
  {
   "cell_type": "code",
   "execution_count": 17,
   "metadata": {},
   "outputs": [],
   "source": [
    "from sklearn.model_selection import train_test_split\n",
    "import numpy as np\n",
    "\n",
    "y = np.array(imdb_data[\"class\"])\n",
    "\n",
    "\n",
    "X_train, X_test, y_train, y_test = train_test_split(X, y, test_size=0.2, random_state=42)\n",
    "\n"
   ]
  },
  {
   "cell_type": "markdown",
   "metadata": {},
   "source": [
    "## Naïve Bayes Model\n",
    "\n",
    "Making use of the `naive_bayes` package (https://scikit-learn.org/stable/modules/classes.html#module-sklearn.naive_bayes), predict the polarity of the reviews in the test set and Calculate the confusion matrix and the accuracy of the model."
   ]
  },
  {
   "cell_type": "code",
   "execution_count": 23,
   "metadata": {},
   "outputs": [],
   "source": [
    "from sklearn.naive_bayes import GaussianNB"
   ]
  },
  {
   "cell_type": "code",
   "execution_count": 31,
   "metadata": {},
   "outputs": [
    {
     "name": "stdout",
     "output_type": "stream",
     "text": [
      "Accuracy:  0.6275\n"
     ]
    }
   ],
   "source": [
    "clf = GaussianNB()\n",
    "\n",
    "clf.fit(X_train, y_train)\n",
    "\n",
    "y_pred = clf.predict(X_test)\n",
    "\n",
    "accuracy = clf.score(X_test, y_test)\n",
    "\n",
    "print(\"Accuracy: \", accuracy)"
   ]
  },
  {
   "cell_type": "code",
   "execution_count": null,
   "metadata": {},
   "outputs": [],
   "source": []
  },
  {
   "cell_type": "code",
   "execution_count": 36,
   "metadata": {},
   "outputs": [
    {
     "data": {
      "text/html": [
       "<div>\n",
       "<style scoped>\n",
       "    .dataframe tbody tr th:only-of-type {\n",
       "        vertical-align: middle;\n",
       "    }\n",
       "\n",
       "    .dataframe tbody tr th {\n",
       "        vertical-align: top;\n",
       "    }\n",
       "\n",
       "    .dataframe thead th {\n",
       "        text-align: right;\n",
       "    }\n",
       "</style>\n",
       "<table border=\"1\" class=\"dataframe\">\n",
       "  <thead>\n",
       "    <tr style=\"text-align: right;\">\n",
       "      <th></th>\n",
       "      <th>0</th>\n",
       "    </tr>\n",
       "  </thead>\n",
       "  <tbody>\n",
       "    <tr>\n",
       "      <th>0</th>\n",
       "      <td>Neg</td>\n",
       "    </tr>\n",
       "    <tr>\n",
       "      <th>1</th>\n",
       "      <td>Pos</td>\n",
       "    </tr>\n",
       "    <tr>\n",
       "      <th>2</th>\n",
       "      <td>Neg</td>\n",
       "    </tr>\n",
       "    <tr>\n",
       "      <th>3</th>\n",
       "      <td>Pos</td>\n",
       "    </tr>\n",
       "    <tr>\n",
       "      <th>4</th>\n",
       "      <td>Neg</td>\n",
       "    </tr>\n",
       "    <tr>\n",
       "      <th>...</th>\n",
       "      <td>...</td>\n",
       "    </tr>\n",
       "    <tr>\n",
       "      <th>395</th>\n",
       "      <td>Pos</td>\n",
       "    </tr>\n",
       "    <tr>\n",
       "      <th>396</th>\n",
       "      <td>Neg</td>\n",
       "    </tr>\n",
       "    <tr>\n",
       "      <th>397</th>\n",
       "      <td>Neg</td>\n",
       "    </tr>\n",
       "    <tr>\n",
       "      <th>398</th>\n",
       "      <td>Pos</td>\n",
       "    </tr>\n",
       "    <tr>\n",
       "      <th>399</th>\n",
       "      <td>Pos</td>\n",
       "    </tr>\n",
       "  </tbody>\n",
       "</table>\n",
       "<p>400 rows × 1 columns</p>\n",
       "</div>"
      ],
      "text/plain": [
       "       0\n",
       "0    Neg\n",
       "1    Pos\n",
       "2    Neg\n",
       "3    Pos\n",
       "4    Neg\n",
       "..   ...\n",
       "395  Pos\n",
       "396  Neg\n",
       "397  Neg\n",
       "398  Pos\n",
       "399  Pos\n",
       "\n",
       "[400 rows x 1 columns]"
      ]
     },
     "execution_count": 36,
     "metadata": {},
     "output_type": "execute_result"
    }
   ],
   "source": [
    "y_test_df = pd.DataFrame(y_test)\n",
    "y_test_df"
   ]
  },
  {
   "cell_type": "code",
   "execution_count": 33,
   "metadata": {},
   "outputs": [
    {
     "name": "stdout",
     "output_type": "stream",
     "text": [
      "Accuracy = 0.6275\n",
      "\n",
      "Confusion Matrix\n"
     ]
    },
    {
     "data": {
      "image/png": "[encoded data removed]",
      "text/plain": [
       "<Figure size 432x288 with 2 Axes>"
      ]
     },
     "metadata": {
      "needs_background": "light"
     },
     "output_type": "display_data"
    }
   ],
   "source": [
    "\n",
    "from sklearn.metrics import confusion_matrix, accuracy_score\n",
    "import seaborn as sn\n",
    "print(\"Accuracy = {}\".format(accuracy_score(y_test_df, y_pred)))\n",
    "print()\n",
    "\n",
    "print(\"Confusion Matrix\")\n",
    "cm = confusion_matrix(y_test_df , y_pred)\n",
    "sn.heatmap(cm, annot=True, cmap=plt.cm.Blues);\n"
   ]
  },
  {
   "cell_type": "code",
   "execution_count": null,
   "metadata": {},
   "outputs": [],
   "source": []
  }
 ],
 "metadata": {
  "kernelspec": {
   "display_name": "Python 3 (ipykernel)",
   "language": "python",
   "name": "python3"
  },
  "language_info": {
   "codemirror_mode": {
    "name": "ipython",
    "version": 3
   },
   "file_extension": ".py",
   "mimetype": "text/x-python",
   "name": "python",
   "nbconvert_exporter": "python",
   "pygments_lexer": "ipython3",
   "version": "3.9.12"
  }
 },
 "nbformat": 4,
 "nbformat_minor": 4
}
