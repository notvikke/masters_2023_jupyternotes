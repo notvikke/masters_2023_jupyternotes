{
 "cells": [
  {
   "cell_type": "markdown",
   "id": "b94a9a63-5405-4776-9796-9c190b503e2f",
   "metadata": {},
   "source": [
    "# **Group Assignment** - Bike Sharing"
   ]
  },
  {
   "cell_type": "markdown",
   "id": "d85ed5e5-6e8e-4848-800d-d5c9c4675fcd",
   "metadata": {},
   "source": [
    "- `instant`: record index\n",
    "- `dteday` : date\n",
    "- `season` : season (1:springer, 2:summer, 3:fall, 4:winter)\n",
    "- `yr` : year (0: 2011, 1:2012)\n",
    "- `mnth` : month ( 1 to 12)\n",
    "- `hr` : hour (0 to 23)\n",
    "- `holiday` : weather day is holiday or not (extracted from http://dchr.dc.gov/page/holiday-schedule)\n",
    "- `weekday` : day of the week\n",
    "- `workingday` : if day is neither weekend nor holiday is 1, otherwise is 0.\n",
    "+ `weathersit` : \n",
    "\t- 1: Clear, Few clouds, Partly cloudy, Partly cloudy\n",
    "\t- 2: Mist + Cloudy, Mist + Broken clouds, Mist + Few clouds, Mist\n",
    "\t- 3: Light Snow, Light Rain + Thunderstorm + Scattered clouds, Light Rain + Scattered clouds\n",
    "\t- 4: Heavy Rain + Ice Pallets + Thunderstorm + Mist, Snow + Fog\n",
    "- `temp` : Normalized temperature in Celsius. The values are divided to 41 (max)\n",
    "- `atemp`: Normalized feeling temperature in Celsius. The values are divided to 50 (max)\n",
    "- `hum`: Normalized humidity. The values are divided to 100 (max)\n",
    "- `windspeed`: Normalized wind speed. The values are divided to 67 (max)\n",
    "- `casual`: count of casual users\n",
    "- `registered`: count of registered users\n",
    "- `cnt`: count of total rental bikes including both casual and registered"
   ]
  },
  {
   "cell_type": "markdown",
   "id": "98fd15ee-3dab-4626-a3fe-f3dea434b71c",
   "metadata": {},
   "source": [
    "## PART I: Exploratory Data Analysis"
   ]
  },
  {
   "cell_type": "code",
   "execution_count": null,
   "id": "f456cffd-2d57-41ab-9809-b6da5f579bd1",
   "metadata": {},
   "outputs": [],
   "source": []
  },
  {
   "cell_type": "markdown",
   "id": "4bbab68f-8197-4ea0-a8cd-56773e5772a7",
   "metadata": {},
   "source": [
    "## PART II: Prediction Model"
   ]
  },
  {
   "cell_type": "code",
   "execution_count": null,
   "id": "0e28f056-2c4d-4281-b6da-db24627d46e8",
   "metadata": {},
   "outputs": [],
   "source": []
  },
  {
   "cell_type": "markdown",
   "id": "e69e4af7-0cc1-4488-83ad-33662479edad",
   "metadata": {},
   "source": [
    "## PART III: Streamlit dashboard"
   ]
  },
  {
   "cell_type": "code",
   "execution_count": 5,
   "id": "08ea8b51-cd49-40d5-8946-f567aaf68de2",
   "metadata": {},
   "outputs": [],
   "source": [
    "### This part goes in a separate script ###"
   ]
  }
 ],
 "metadata": {
  "kernelspec": {
   "display_name": "DATASCIENCE (Python 3.8)",
   "language": "python",
   "name": "datascience"
  },
  "language_info": {
   "codemirror_mode": {
    "name": "ipython",
    "version": 3
   },
   "file_extension": ".py",
   "mimetype": "text/x-python",
   "name": "python",
   "nbconvert_exporter": "python",
   "pygments_lexer": "ipython3",
   "version": "3.8.13"
  }
 },
 "nbformat": 4,
 "nbformat_minor": 5
}
