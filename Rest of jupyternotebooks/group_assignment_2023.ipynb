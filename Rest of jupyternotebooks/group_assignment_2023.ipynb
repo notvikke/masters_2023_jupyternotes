{
 "cells": [
  {
   "cell_type": "markdown",
   "metadata": {},
   "source": [
    "## Group Assignment: Machine Learning 2\n",
    "\n",
    "This year's Group Assignment will verse on predicting employee attrition. The dataset is available on Kaggle: [Employee Attrition competition](https://www.kaggle.com/competitions/playground-series-s3e3/data)\n",
    "\n",
    "* The goal is to predict whether an employee will leave the company or not (`Attrition` column, binary classification).\n",
    "* The dataset is artificially generated, but it is based on real data: [original data](https://www.kaggle.com/datasets/pavansubhasht/ibm-hr-analytics-attrition-dataset)\n",
    "    * Here you can find what each feature represents and their possible values.\n",
    "* You're given a training set and a test set. \n",
    "    * Perform your analysis, experiments and model selection on the training set, and don't touch the test set until you're ready to submit your predictions.\n",
    "    * You can save some data from the training set to use as a validation set, but you should not use the test set for this purpose.\n",
    "    * Once you're comfortable with the performance of your model on the training set, you can use the test set to get a final estimate of the performance of your model.\n",
    "    * The CSV file that you will submit, should contain the predictions of your model on the test set. This means that the CSV should contain as many rows as the test set, and a single column with the predictions (0 or 1)."
   ]
  },
  {
   "cell_type": "markdown",
   "metadata": {},
   "source": [
    "### 1. Rules\n",
    "\n",
    "* You should work within your team. If I see any signs of cheating between teams, that's and immediate fail for both groups.\n",
    "  * If you have any question, post it on Slack and I will answer it as soon as possible.\n",
    "* The grade will be the same for all the members of the team.\n",
    "* Everyone within the team should contribute and all of you will have to either present or answer questions during the presentation.\n",
    "  * If somebody in the team is not collaborating, let me know as soon as possible since I will not accept any excuses at the end of the term\n",
    "  * Help the others in the team to understand the code and the results, because they might be asked to explain it during the presentation\n",
    "* It's fine to explore and learn from out there. \n",
    "  * I want to see that you are learning and that you are trying to improve your skills. However, you should not just copy-paste code from other sources -tell me where is it from and show me it's useful for your assignment-\n",
    "  * If you just copy and paste, I will know and I will ask you about it, so be prepared.\n",
    "* The final submission should use any of the algorithms that we've seen during the course, so no neural networks or similar. There's will be a time for that, but not now.\n"
   ]
  },
  {
   "cell_type": "markdown",
   "metadata": {},
   "source": [
    "### 2. Submission\n",
    "\n",
    "**1 ZIP file per group, named `submission_group_X.zip`, containing:**\n",
    "  * A Jupyter Notebook with the code and the results, mandatory to include the names of the members of the team.\n",
    "  * A PDF file with the presentation.\n",
    "  * A CSV file with the predictions for the test set.\n",
    "  * Failing to submit any of the above in the required conditions will result in a 0 for the Group Assignment."
   ]
  },
  {
   "cell_type": "markdown",
   "metadata": {},
   "source": [
    "### 3. Grade\n",
    "\n",
    "The Group Assignment will weight 40% of the final grade. The grade will be based on the following criteria:\n",
    "* **40%: PDF report and presentation**\n",
    "    * The report should be done for an executive audience, so don't go too much into the technical details underneath the algorithms. \n",
    "    * It should cover a brief exploration of the data, the experiments done regarding feature engineering and the algorithms used, the results and the conclusions.\n",
    "    * For the presentation, I will choose somebody from the team to present.\n",
    "* **30%: Code in Jupyter notebook**\n",
    "    * Comment why you're doing what you're doing.\n",
    "    * Document your experiments and the results in the notebook.\n",
    "    * Make sure that you do all your `import`s at the beginning of the notebook, so that I know what packages you're using. If your code doesn't run, I will not grade it fully.\n",
    "* **30%: Answers to my questions during the presentation**\n",
    "    * There will be questions about the data and its exploration, the experiments done with the features and with the algorithms, and obviously about the performance and results."
   ]
  },
  {
   "cell_type": "code",
   "execution_count": null,
   "metadata": {},
   "outputs": [],
   "source": []
  }
 ],
 "metadata": {
  "kernelspec": {
   "display_name": "Python 3 (ipykernel)",
   "language": "python",
   "name": "python3"
  },
  "language_info": {
   "codemirror_mode": {
    "name": "ipython",
    "version": 3
   },
   "file_extension": ".py",
   "mimetype": "text/x-python",
   "name": "python",
   "nbconvert_exporter": "python",
   "pygments_lexer": "ipython3",
   "version": "3.9.12"
  }
 },
 "nbformat": 4,
 "nbformat_minor": 4
}
