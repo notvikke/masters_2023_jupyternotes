{
 "cells": [
  {
   "cell_type": "code",
   "execution_count": 81,
   "id": "0415cc56-035e-4517-a132-c95feeff8ddf",
   "metadata": {},
   "outputs": [],
   "source": [
    "import os\n",
    "\n",
    "import numpy as np\n",
    "import pandas as pd\n",
    "\n",
    "from pandas_profiling import ProfileReport"
   ]
  },
  {
   "cell_type": "code",
   "execution_count": 82,
   "id": "55a12162-2c6e-46be-9c28-0eb32ecc8198",
   "metadata": {},
   "outputs": [],
   "source": [
    "INPUT_FOLDER = \"enrich\"\n",
    "OUTPUT_FOLDER = \"aggregate\""
   ]
  },
  {
   "cell_type": "code",
   "execution_count": 83,
   "id": "27f4f1cf-9804-4cf5-b38e-795515a842bd",
   "metadata": {},
   "outputs": [],
   "source": [
    "os.makedirs(\"../data/aggregate\", exist_ok=True)"
   ]
  },
  {
   "cell_type": "code",
   "execution_count": 84,
   "id": "270c373b-1324-4b04-9df6-b4e17867673b",
   "metadata": {},
   "outputs": [],
   "source": [
    "datasources = {source.replace(\".zip\",\"\"):source for source in os.listdir(f\"../data/{INPUT_FOLDER}\") if source.endswith(\".zip\")}\n",
    "datasets = {}"
   ]
  },
  {
   "cell_type": "markdown",
   "id": "8a484e8c-134d-4c40-8e7a-92f42e1c2807",
   "metadata": {},
   "source": [
    "## AGGREGATE"
   ]
  },
  {
   "cell_type": "markdown",
   "id": "a53a84b0-e501-43ea-b75f-b23760702e2a",
   "metadata": {},
   "source": [
    "### Create BASE TABLE\n",
    "\n",
    "The base table is just a table with all the primary keys we want to maintain in the macro table. In this case we want to build a table indexed by `week` and `country_name`.\n",
    " - `week` - We will take the `epidemiology` table to get the start and end dates.\n",
    " - `country_name` - We get the `country_name` from the `index` table.\n",
    " \n",
    "So, in this case, we have to build an index with all dates and all country names."
   ]
  },
  {
   "cell_type": "markdown",
   "id": "5a42c2f7-520f-401b-babc-a11cd3633690",
   "metadata": {},
   "source": [
    "<div class=\"alert alert-warning\">\n",
    "    <b>Special mention to datetime indexes</b>: Be careful when building detetime indexes from some of the provided data tables, they may contain gaps in the timestamps. So my recommendation here is that you build the date ranges by yourself. Then, you will have time to spot missing dates and fix them\n",
    "</div>"
   ]
  },
  {
   "cell_type": "markdown",
   "id": "cc45ad0c-dae7-4791-aa59-a34808b8e379",
   "metadata": {},
   "source": [
    "#### Get date ranges"
   ]
  },
  {
   "cell_type": "code",
   "execution_count": null,
   "id": "d0f61526-2215-4585-bc36-3e68f9095c3a",
   "metadata": {},
   "outputs": [],
   "source": [
    "key = \"epidemiology\"\n",
    "data = pd.read_csv(f\"../data/{INPUT_FOLDER}/{key}.zip\", parse_dates=[\"date\"])\n",
    "\n",
    "start_date = data.date.min()\n",
    "end_date = data.date.max()\n",
    "print(f\"Start Date: {start_date}\")\n",
    "print(f\"End Date: {end_date}\")"
   ]
  },
  {
   "cell_type": "code",
   "execution_count": null,
   "id": "df0d985d-24c5-495e-a040-2eac7fdf2491",
   "metadata": {},
   "outputs": [],
   "source": [
    "dates = pd.date_range(start=start_date, end=end_date, freq=\"W\")\n",
    "dates = dates.to_period(\"W\").astype(str)\n",
    "dates = pd.DataFrame(dates)"
   ]
  },
  {
   "cell_type": "markdown",
   "id": "e1f37bbb-46ce-41c8-a937-f341baadc682",
   "metadata": {},
   "source": [
    "#### Get country names"
   ]
  },
  {
   "cell_type": "code",
   "execution_count": null,
   "id": "4c2d6014-b58d-4693-aac9-a926ee73fcfe",
   "metadata": {},
   "outputs": [],
   "source": [
    "key = \"index\"\n",
    "data = pd.read_csv(f\"../data/{INPUT_FOLDER}/{key}.zip\")"
   ]
  },
  {
   "cell_type": "code",
   "execution_count": null,
   "id": "3d19bbbd-21eb-4527-9152-ecdc6b5d010f",
   "metadata": {},
   "outputs": [],
   "source": [
    "countries = pd.DataFrame(data.country_name.unique())"
   ]
  },
  {
   "cell_type": "code",
   "execution_count": null,
   "id": "5c2c661c-208a-49a8-b16d-9d3fa7129311",
   "metadata": {},
   "outputs": [],
   "source": [
    "dates"
   ]
  },
  {
   "cell_type": "markdown",
   "id": "73e97896-a65b-4499-8164-c0f87e80ffb6",
   "metadata": {},
   "source": [
    "#### Build the index"
   ]
  },
  {
   "cell_type": "code",
   "execution_count": null,
   "id": "4e1e1d24-dbac-4d4e-a8ac-63e2f5f45d8e",
   "metadata": {},
   "outputs": [],
   "source": [
    "base = dates.merge(countries, how=\"cross\")\n",
    "base.columns = [\"week\", \"country_name\"]\n",
    "base = base.set_index([\"week\", \"country_name\"])"
   ]
  },
  {
   "cell_type": "code",
   "execution_count": null,
   "id": "aee7046c-ff52-402f-a02e-dc6112c8c4b1",
   "metadata": {},
   "outputs": [],
   "source": [
    "base.head()"
   ]
  },
  {
   "cell_type": "code",
   "execution_count": null,
   "id": "4fe35761-0299-47e3-800a-a1508d5a5a42",
   "metadata": {},
   "outputs": [],
   "source": [
    "base.shape"
   ]
  },
  {
   "cell_type": "code",
   "execution_count": null,
   "id": "3ba5fb17-fd96-4c43-8dc9-22d6dd2a6268",
   "metadata": {},
   "outputs": [],
   "source": [
    "macro = base.copy()"
   ]
  },
  {
   "cell_type": "markdown",
   "id": "6f9ea65f-a2f8-463c-8ad8-68177a2929e2",
   "metadata": {},
   "source": [
    "### Create MACRO TABLE"
   ]
  },
  {
   "cell_type": "markdown",
   "id": "f327fcbc-bac8-4cad-a478-fc1267acf38d",
   "metadata": {},
   "source": [
    "#### Incorporate `epidemiology`"
   ]
  },
  {
   "cell_type": "code",
   "execution_count": null,
   "id": "79dcd251-4820-4cc3-b790-765c91bac962",
   "metadata": {},
   "outputs": [],
   "source": [
    "key = \"epidemiology\"\n",
    "data = pd.read_csv(f\"../data/{INPUT_FOLDER}/{key}.zip\")\n",
    "data.info(show_counts=True)"
   ]
  },
  {
   "cell_type": "markdown",
   "id": "c5a14144-9797-445b-91f1-e0435938ff7f",
   "metadata": {},
   "source": [
    "##### _Aggregate_: (sum) `new_confirmed`, `new_deceased`, `new_recovered`"
   ]
  },
  {
   "cell_type": "code",
   "execution_count": null,
   "id": "a227f263-e74e-477f-85d0-57d8d874bb90",
   "metadata": {},
   "outputs": [],
   "source": [
    "aux = data.groupby([\"week\",\"country_name\"]).agg({\n",
    "    \"new_confirmed\": \"sum\",\n",
    "    \"new_deceased\": \"sum\",\n",
    "    \"new_deceased_confirmed_ratio\": \"mean\",\n",
    "})"
   ]
  },
  {
   "cell_type": "markdown",
   "id": "5bb24bb1-9fd6-4fce-a275-aeb94b35231d",
   "metadata": {},
   "source": [
    "##### _Include in the base table_"
   ]
  },
  {
   "cell_type": "code",
   "execution_count": null,
   "id": "1e0d8e62-ed4d-47ca-95e7-221d9dca1892",
   "metadata": {},
   "outputs": [],
   "source": [
    "macro = macro.join(aux)"
   ]
  },
  {
   "cell_type": "code",
   "execution_count": null,
   "id": "43f6938a-4cbd-4674-a705-b9e6c0393f28",
   "metadata": {},
   "outputs": [],
   "source": [
    "macro.info()"
   ]
  },
  {
   "cell_type": "markdown",
   "id": "62d11dc3-b0ab-4a22-a5c2-45bd0caeabe2",
   "metadata": {},
   "source": [
    "#### `demographics`"
   ]
  },
  {
   "cell_type": "code",
   "execution_count": null,
   "id": "c8122ed8-545f-4a4c-9981-30b115492fae",
   "metadata": {},
   "outputs": [],
   "source": [
    "key = \"demographics\"\n",
    "data = pd.read_csv(f\"../data/{INPUT_FOLDER}/{key}.zip\")\n",
    "data.info()"
   ]
  },
  {
   "cell_type": "markdown",
   "id": "4fe53bd2-decf-419e-a619-b69fb2ef75c6",
   "metadata": {},
   "source": [
    "##### _Aggregate_: (sum)"
   ]
  },
  {
   "cell_type": "code",
   "execution_count": null,
   "id": "5672c4cd-a8de-4b79-b803-46b45febcb1b",
   "metadata": {},
   "outputs": [],
   "source": [
    "aux = data.groupby(\"country_name\").sum()"
   ]
  },
  {
   "cell_type": "code",
   "execution_count": null,
   "id": "1aba2eef-84a6-47e5-bf36-3353597a03a7",
   "metadata": {},
   "outputs": [],
   "source": [
    "macro = macro.join(aux, on=\"country_name\")"
   ]
  },
  {
   "cell_type": "code",
   "execution_count": null,
   "id": "10e636e3-1f87-4fa2-81d0-24eed21fe035",
   "metadata": {},
   "outputs": [],
   "source": [
    "macro.info()"
   ]
  },
  {
   "cell_type": "markdown",
   "id": "d124274f-78a4-4a03-afe9-0173f0a650e7",
   "metadata": {},
   "source": [
    "#### `health`"
   ]
  },
  {
   "cell_type": "code",
   "execution_count": null,
   "id": "f9cf7f07-cc9a-4143-a3d1-68217f8dd9d1",
   "metadata": {},
   "outputs": [],
   "source": [
    "key = \"health\"\n",
    "data = pd.read_csv(f\"../data/{INPUT_FOLDER}/{key}.zip\")\n",
    "data.info()"
   ]
  },
  {
   "cell_type": "markdown",
   "id": "1329ec57-b3b6-4a99-a478-6f9fc038c4aa",
   "metadata": {},
   "source": [
    "##### _Aggregate_: (mean)"
   ]
  },
  {
   "cell_type": "code",
   "execution_count": null,
   "id": "923d88d1-1ac5-48de-b0a8-099e01e0969f",
   "metadata": {},
   "outputs": [],
   "source": [
    "aux = data.groupby([\"country_name\"]).agg({\n",
    "    \"life_expectancy\": \"mean\",\n",
    "})"
   ]
  },
  {
   "cell_type": "markdown",
   "id": "baf3acda-8dec-4ff1-a87e-bd23e0b94ede",
   "metadata": {},
   "source": [
    "##### _Include in the base table_"
   ]
  },
  {
   "cell_type": "code",
   "execution_count": null,
   "id": "e018224a-c117-4045-85b0-32b75aed1351",
   "metadata": {},
   "outputs": [],
   "source": [
    "macro = macro.join(aux, on=\"country_name\")"
   ]
  },
  {
   "cell_type": "code",
   "execution_count": null,
   "id": "09249845-298c-4ea3-845a-f11eaa6b9a7c",
   "metadata": {},
   "outputs": [],
   "source": [
    "macro.info()"
   ]
  },
  {
   "cell_type": "markdown",
   "id": "5a1a97af-7bcd-4155-8c06-630c6cbe88df",
   "metadata": {},
   "source": [
    "#### `hospitalizations`"
   ]
  },
  {
   "cell_type": "code",
   "execution_count": null,
   "id": "3adb8a8a-b1d4-4038-ac48-283f70e36fe0",
   "metadata": {},
   "outputs": [],
   "source": [
    "key = \"hospitalizations\"\n",
    "data = pd.read_csv(f\"../data/{INPUT_FOLDER}/{key}.zip\")\n",
    "data.info(show_counts=True)"
   ]
  },
  {
   "cell_type": "markdown",
   "id": "dac62f45-d340-4c49-8bec-5ad43e59e8d4",
   "metadata": {},
   "source": [
    "##### _Aggregate_: (sum)"
   ]
  },
  {
   "cell_type": "code",
   "execution_count": null,
   "id": "bae0bf50-fc51-4968-949c-15e64dfd6789",
   "metadata": {},
   "outputs": [],
   "source": [
    "aux = data.groupby([\"week\",\"country_name\"]).sum()"
   ]
  },
  {
   "cell_type": "code",
   "execution_count": null,
   "id": "a88ae1b5-3a9d-468d-8729-5ae6cfb88bab",
   "metadata": {},
   "outputs": [],
   "source": [
    "macro = macro.join(aux)"
   ]
  },
  {
   "cell_type": "code",
   "execution_count": null,
   "id": "ac7b95b3-ed34-40c6-9ea6-f8d3899d2f16",
   "metadata": {},
   "outputs": [],
   "source": [
    "macro.info()"
   ]
  },
  {
   "cell_type": "markdown",
   "id": "4649e117-9544-426f-894c-88203cb3ba25",
   "metadata": {},
   "source": [
    "#### `vaccinations`"
   ]
  },
  {
   "cell_type": "code",
   "execution_count": null,
   "id": "8c4962eb-3583-4731-8e7e-ddb9f3986d8f",
   "metadata": {},
   "outputs": [],
   "source": [
    "key = \"vaccinations\"\n",
    "data = pd.read_csv(f\"../data/{INPUT_FOLDER}/{key}.zip\")\n",
    "data.info(show_counts=True)"
   ]
  },
  {
   "cell_type": "markdown",
   "id": "5002ff37-056f-4c2f-8e5c-2eac36ac095e",
   "metadata": {},
   "source": [
    "##### _Aggregate_: (sum)"
   ]
  },
  {
   "cell_type": "code",
   "execution_count": null,
   "id": "d1615c60-0899-461f-b67f-c636d1f16beb",
   "metadata": {},
   "outputs": [],
   "source": [
    "data = data.sort_index(level=\"date\")\n",
    "aux = data.groupby([\"week\",\"country_name\"]).agg({\n",
    "    \"new_persons_fully_vaccinated\": sum\n",
    "})"
   ]
  },
  {
   "cell_type": "code",
   "execution_count": null,
   "id": "653f4586-a6bf-44f5-b94e-f4b1f33d7203",
   "metadata": {},
   "outputs": [],
   "source": [
    "macro = macro.join(aux)"
   ]
  },
  {
   "cell_type": "code",
   "execution_count": null,
   "id": "7788b875-2258-49fe-a015-af10ba5de43b",
   "metadata": {},
   "outputs": [],
   "source": [
    "macro.info()"
   ]
  },
  {
   "cell_type": "markdown",
   "id": "a456db18-9653-40a2-a747-c8569b6a581e",
   "metadata": {},
   "source": [
    "### Save `macrotable`"
   ]
  },
  {
   "cell_type": "code",
   "execution_count": null,
   "id": "8377d51e-86e0-47d7-aabc-a51c7ed13f42",
   "metadata": {},
   "outputs": [],
   "source": [
    "macro.to_csv(f\"../data/{OUTPUT_FOLDER}/macrotable.zip\", index=True)"
   ]
  },
  {
   "cell_type": "code",
   "execution_count": null,
   "id": "e88856b5-5178-415b-9148-9fd2fbbb4edd",
   "metadata": {},
   "outputs": [],
   "source": [
    "profile = ProfileReport(macro, minimal=True)\n",
    "profile.to_file(\"../profiling/macro.html\")"
   ]
  },
  {
   "cell_type": "code",
   "execution_count": null,
   "id": "8d329023-62da-440c-b559-e6d16cf51d83",
   "metadata": {},
   "outputs": [],
   "source": [
    "macro.info()"
   ]
  },
  {
   "cell_type": "markdown",
   "id": "f34ca01b-49b2-4e1f-9363-2e409df0db92",
   "metadata": {},
   "source": [
    "### Final missing values review\n",
    "\n",
    "At this moment, some missing values can arise from the resulting aggregations. This is the time to decide what to do with them to buil a clean table for EDA.\n",
    "\n",
    "In this case:\n",
    " - `new_confirmed` and `new_deceased`: These missings are because some countries doesn't have the starting date at the same time as the country with the earliest record.\n",
    "    - **Action: Remove all missing rows**\n",
    " - `new_deceased_confirmed_ratio`: This value doesn't have missing values, but infinite values due to dividing by 0.\n",
    "    - **Action: Impute the value as 0**\n",
    " - `life_expectancy`: These missings are because this variable just applies to the United States. For those missings related to the United States, impute values to the mean\n",
    "    - **Action: Impute values to the mean, but just for the United States**\n",
    " - `new_hospitalized_patients`: These missings are because this variable just applies to the United States. For those missings related to the United States, impute values to the mean\n",
    "    - **Action: Impute values to the mean, but just for the United States**\n",
    " - `new_persons_fully_vaccinated`: These missings are because this variable just applies to the United States. For those missings related to the United States, impute values to 0 (there was no vaccination.) \n",
    "    - **Action: Impute values to 0, but just for the United States**"
   ]
  },
  {
   "cell_type": "code",
   "execution_count": null,
   "id": "3348b145-9a50-43f3-b20a-7cafb6ee3fcd",
   "metadata": {},
   "outputs": [],
   "source": [
    "clean_macro = macro.copy()"
   ]
  },
  {
   "cell_type": "markdown",
   "id": "c72110da-4601-4e4a-af77-3b4a7b075b72",
   "metadata": {},
   "source": [
    "Imputing `new_confirmed`"
   ]
  },
  {
   "cell_type": "code",
   "execution_count": null,
   "id": "ab1bc85f-0a88-4f0b-83b7-dc6ad4726a95",
   "metadata": {},
   "outputs": [],
   "source": [
    "clean_macro = clean_macro.dropna(subset=[\"new_confirmed\"])"
   ]
  },
  {
   "cell_type": "markdown",
   "id": "a2eaa9b8-161c-411a-807e-92ea1b9e8032",
   "metadata": {},
   "source": [
    "Imputing `new_deceased_confirmed_ratio`"
   ]
  },
  {
   "cell_type": "code",
   "execution_count": null,
   "id": "6585663e-a0b0-4db9-a364-4beb16d6a5cc",
   "metadata": {},
   "outputs": [],
   "source": [
    "clean_macro = clean_macro.fillna({\n",
    "    \"new_deceased_confirmed_ratio\": 0\n",
    "})"
   ]
  },
  {
   "cell_type": "markdown",
   "id": "0a9bcf0f-c20a-4dfb-b2c9-a006f74cb760",
   "metadata": {},
   "source": [
    "Imputing `life_expectancy` and `new_hospitalized_patients`"
   ]
  },
  {
   "cell_type": "code",
   "execution_count": null,
   "id": "83f1aede-36b1-4e8d-8696-45d7d0c96b1a",
   "metadata": {},
   "outputs": [],
   "source": [
    "us_missings = clean_macro.query(\"country_name == 'United States of America'\")[[\"life_expectancy\",\"new_hospitalized_patients\"]]\n",
    "us_missings.head()"
   ]
  },
  {
   "cell_type": "code",
   "execution_count": null,
   "id": "995310e0-33cb-4d02-841c-e80a5f16811c",
   "metadata": {},
   "outputs": [],
   "source": [
    "us_missings = us_missings.groupby(level=\"country_name\").mean()\n",
    "us_missings"
   ]
  },
  {
   "cell_type": "code",
   "execution_count": null,
   "id": "fb0337ae-a6df-456e-99f6-0631151d5103",
   "metadata": {},
   "outputs": [],
   "source": [
    "clean_macro = clean_macro.fillna(us_missings)"
   ]
  },
  {
   "cell_type": "markdown",
   "id": "6a66c797-2553-47b6-9ed6-7e8afc27c526",
   "metadata": {},
   "source": [
    "Imputing `new_persons_fully_vaccinated`"
   ]
  },
  {
   "cell_type": "code",
   "execution_count": null,
   "id": "b95407cb-cef7-470d-ae2c-4a9f10993b83",
   "metadata": {},
   "outputs": [],
   "source": [
    "clean_macro.loc[\n",
    "    (clean_macro.index.get_level_values(\"country_name\")==\"United States of America\") & (clean_macro.new_persons_fully_vaccinated.isna()),\n",
    "    \"new_persons_fully_vaccinated\"\n",
    "] = 0"
   ]
  },
  {
   "cell_type": "code",
   "execution_count": null,
   "id": "7ffea961-99bb-4708-b7d1-a9c4db9445f6",
   "metadata": {},
   "outputs": [],
   "source": [
    "clean_macro.info()"
   ]
  },
  {
   "cell_type": "markdown",
   "id": "2bbe02e1-8e8c-4b02-b958-58f99fb68a00",
   "metadata": {},
   "source": [
    "### Save cleaned macrotable"
   ]
  },
  {
   "cell_type": "code",
   "execution_count": null,
   "id": "e7d55740-acd0-4ba2-97ec-3ac6c866237f",
   "metadata": {},
   "outputs": [],
   "source": [
    "clean_macro.to_csv(f\"../data/{OUTPUT_FOLDER}/macrotable_c.zip\", index=True)"
   ]
  }
 ],
 "metadata": {
  "kernelspec": {
   "display_name": "Python 3 (ipykernel)",
   "language": "python",
   "name": "python3"
  },
  "language_info": {
   "codemirror_mode": {
    "name": "ipython",
    "version": 3
   },
   "file_extension": ".py",
   "mimetype": "text/x-python",
   "name": "python",
   "nbconvert_exporter": "python",
   "pygments_lexer": "ipython3",
   "version": "3.9.12"
  }
 },
 "nbformat": 4,
 "nbformat_minor": 5
}
