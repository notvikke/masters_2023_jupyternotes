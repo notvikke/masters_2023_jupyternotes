{
 "cells": [
  {
   "cell_type": "code",
   "execution_count": 45,
   "id": "0415cc56-035e-4517-a132-c95feeff8ddf",
   "metadata": {},
   "outputs": [],
   "source": [
    "import os\n",
    "\n",
    "import pandas as pd"
   ]
  },
  {
   "cell_type": "code",
   "execution_count": 46,
   "id": "55a12162-2c6e-46be-9c28-0eb32ecc8198",
   "metadata": {},
   "outputs": [],
   "source": [
    "INPUT_FOLDER = \"raw\"\n",
    "OUTPUT_FOLDER = \"preproc\""
   ]
  },
  {
   "cell_type": "code",
   "execution_count": 49,
   "id": "b85800a7-782c-47ea-9d7e-1c675b185fe9",
   "metadata": {},
   "outputs": [],
   "source": [
    "os.makedirs(\"../data/preproc\", exist_ok=True)"
   ]
  },
  {
   "cell_type": "code",
   "execution_count": 50,
   "id": "f8cc02c4-e145-42a7-9409-019d09454112",
   "metadata": {},
   "outputs": [
    {
     "data": {
      "text/plain": [
       "{'demographics': 'demographics.zip',\n",
       " 'epidemiology': 'epidemiology.zip',\n",
       " 'health': 'health.zip',\n",
       " 'hospitalizations': 'hospitalizations.zip',\n",
       " 'index': 'index.zip',\n",
       " 'vaccinations': 'vaccinations.zip'}"
      ]
     },
     "execution_count": 50,
     "metadata": {},
     "output_type": "execute_result"
    }
   ],
   "source": [
    "datasources = {source.replace(\".zip\",\"\"):source for source in os.listdir(f\"../data/{INPUT_FOLDER}\") if source.endswith(\".zip\")}\n",
    "datasources"
   ]
  },
  {
   "cell_type": "markdown",
   "id": "8a484e8c-134d-4c40-8e7a-92f42e1c2807",
   "metadata": {
    "tags": []
   },
   "source": [
    "## PREPROC\n",
    "\n",
    "This part is a very important step in the process. In the preprocessing we're filtering tables individually, cretaing direct derived variables, remove bad rows, remove usudes columns and changing bad values, among others.\n",
    "\n",
    "In this case, we're going to perform all of this operations\n",
    " - **epidemiology**\n",
    "    - _Impute missing values_: Impute `new_confirmed` and `new_deceased`. Assume that these missings are 0.\n",
    "    - _New derived variables_: Calculate `week` and `new_deceased_confirmed_ratio`\n",
    "    - _Pick desired columns_: `date`, `location_key`, `new_confirmed`, `new_deceased`, `new_deceased_confirmed_ratio`\n",
    " - **demographics**\n",
    "    - _Pick desired columns_: `location_key`, `population`, `population_age_*`\n",
    " - **health**\n",
    "    - _Pick desired columns_: `location_key`, `life_expectancy`\n",
    " - **hospitalizations**\n",
    "    - _New derived variables_: Calculate `week`\n",
    "    - _Pick desired columns_: `date`, `week`, `location_key`, `new_hospitalized_patients`, `new_intensive_care_patients`, `new_ventilator_patients`, `current_hospitalized_patients`,`current_intensive_care_patients`, `current_ventilator_patients`\n",
    " - **vaccinations**\n",
    "    - _New derived variables_: Calculate `week`\n",
    "    - _Pick desired columns_: `date`, `week`, `location_key`, `new_persons_vaccinated`, `cumulative_persons_vaccinated`\n",
    " - **index**\n",
    "    - _Pick desired columns_: `location_key`, `country_name`"
   ]
  },
  {
   "cell_type": "markdown",
   "id": "f327fcbc-bac8-4cad-a478-fc1267acf38d",
   "metadata": {
    "toc-hr-collapsed": true
   },
   "source": [
    "#### Table: `epidemiology`"
   ]
  },
  {
   "cell_type": "code",
   "execution_count": 51,
   "id": "906bf411-dbdd-493d-83b6-417cf8a88e3c",
   "metadata": {},
   "outputs": [
    {
     "name": "stdout",
     "output_type": "stream",
     "text": [
      "<class 'pandas.core.frame.DataFrame'>\n",
      "RangeIndex: 3161033 entries, 0 to 3161032\n",
      "Data columns (total 10 columns):\n",
      " #   Column                Non-Null Count    Dtype         \n",
      "---  ------                --------------    -----         \n",
      " 0   date                  3161033 non-null  datetime64[ns]\n",
      " 1   location_key          3161033 non-null  object        \n",
      " 2   new_confirmed         3157609 non-null  float64       \n",
      " 3   new_deceased          2730137 non-null  float64       \n",
      " 4   new_recovered         298634 non-null   float64       \n",
      " 5   new_tested            54782 non-null    float64       \n",
      " 6   cumulative_confirmed  3161033 non-null  float64       \n",
      " 7   cumulative_deceased   2733220 non-null  float64       \n",
      " 8   cumulative_recovered  298634 non-null   float64       \n",
      " 9   cumulative_tested     54840 non-null    float64       \n",
      "dtypes: datetime64[ns](1), float64(8), object(1)\n",
      "memory usage: 241.2+ MB\n"
     ]
    }
   ],
   "source": [
    "key = \"epidemiology\"\n",
    "data = pd.read_csv(f\"../data/{INPUT_FOLDER}/{key}.zip\", parse_dates=[\"date\"])\n",
    "data.info(show_counts=True)"
   ]
  },
  {
   "cell_type": "code",
   "execution_count": 52,
   "id": "f2d38eda-08fd-4af3-8fde-cf8eef59719f",
   "metadata": {},
   "outputs": [
    {
     "data": {
      "text/html": [
       "<div>\n",
       "<style scoped>\n",
       "    .dataframe tbody tr th:only-of-type {\n",
       "        vertical-align: middle;\n",
       "    }\n",
       "\n",
       "    .dataframe tbody tr th {\n",
       "        vertical-align: top;\n",
       "    }\n",
       "\n",
       "    .dataframe thead th {\n",
       "        text-align: right;\n",
       "    }\n",
       "</style>\n",
       "<table border=\"1\" class=\"dataframe\">\n",
       "  <thead>\n",
       "    <tr style=\"text-align: right;\">\n",
       "      <th></th>\n",
       "      <th>date</th>\n",
       "      <th>location_key</th>\n",
       "      <th>new_confirmed</th>\n",
       "      <th>new_deceased</th>\n",
       "      <th>new_recovered</th>\n",
       "      <th>new_tested</th>\n",
       "      <th>cumulative_confirmed</th>\n",
       "      <th>cumulative_deceased</th>\n",
       "      <th>cumulative_recovered</th>\n",
       "      <th>cumulative_tested</th>\n",
       "    </tr>\n",
       "  </thead>\n",
       "  <tbody>\n",
       "    <tr>\n",
       "      <th>0</th>\n",
       "      <td>2020-03-15</td>\n",
       "      <td>DE_BB_12051</td>\n",
       "      <td>2.0</td>\n",
       "      <td>0.0</td>\n",
       "      <td>2.0</td>\n",
       "      <td>NaN</td>\n",
       "      <td>2.0</td>\n",
       "      <td>0.0</td>\n",
       "      <td>2.0</td>\n",
       "      <td>NaN</td>\n",
       "    </tr>\n",
       "    <tr>\n",
       "      <th>1</th>\n",
       "      <td>2020-03-17</td>\n",
       "      <td>DE_BB_12051</td>\n",
       "      <td>1.0</td>\n",
       "      <td>0.0</td>\n",
       "      <td>1.0</td>\n",
       "      <td>NaN</td>\n",
       "      <td>3.0</td>\n",
       "      <td>0.0</td>\n",
       "      <td>3.0</td>\n",
       "      <td>NaN</td>\n",
       "    </tr>\n",
       "    <tr>\n",
       "      <th>2</th>\n",
       "      <td>2020-03-19</td>\n",
       "      <td>DE_BB_12051</td>\n",
       "      <td>2.0</td>\n",
       "      <td>0.0</td>\n",
       "      <td>2.0</td>\n",
       "      <td>NaN</td>\n",
       "      <td>5.0</td>\n",
       "      <td>0.0</td>\n",
       "      <td>5.0</td>\n",
       "      <td>NaN</td>\n",
       "    </tr>\n",
       "    <tr>\n",
       "      <th>3</th>\n",
       "      <td>2020-03-20</td>\n",
       "      <td>DE_BB_12051</td>\n",
       "      <td>1.0</td>\n",
       "      <td>0.0</td>\n",
       "      <td>1.0</td>\n",
       "      <td>NaN</td>\n",
       "      <td>6.0</td>\n",
       "      <td>0.0</td>\n",
       "      <td>6.0</td>\n",
       "      <td>NaN</td>\n",
       "    </tr>\n",
       "    <tr>\n",
       "      <th>4</th>\n",
       "      <td>2020-03-22</td>\n",
       "      <td>DE_BB_12051</td>\n",
       "      <td>2.0</td>\n",
       "      <td>0.0</td>\n",
       "      <td>2.0</td>\n",
       "      <td>NaN</td>\n",
       "      <td>8.0</td>\n",
       "      <td>0.0</td>\n",
       "      <td>8.0</td>\n",
       "      <td>NaN</td>\n",
       "    </tr>\n",
       "  </tbody>\n",
       "</table>\n",
       "</div>"
      ],
      "text/plain": [
       "        date location_key  new_confirmed  new_deceased  new_recovered  \\\n",
       "0 2020-03-15  DE_BB_12051            2.0           0.0            2.0   \n",
       "1 2020-03-17  DE_BB_12051            1.0           0.0            1.0   \n",
       "2 2020-03-19  DE_BB_12051            2.0           0.0            2.0   \n",
       "3 2020-03-20  DE_BB_12051            1.0           0.0            1.0   \n",
       "4 2020-03-22  DE_BB_12051            2.0           0.0            2.0   \n",
       "\n",
       "   new_tested  cumulative_confirmed  cumulative_deceased  \\\n",
       "0         NaN                   2.0                  0.0   \n",
       "1         NaN                   3.0                  0.0   \n",
       "2         NaN                   5.0                  0.0   \n",
       "3         NaN                   6.0                  0.0   \n",
       "4         NaN                   8.0                  0.0   \n",
       "\n",
       "   cumulative_recovered  cumulative_tested  \n",
       "0                   2.0                NaN  \n",
       "1                   3.0                NaN  \n",
       "2                   5.0                NaN  \n",
       "3                   6.0                NaN  \n",
       "4                   8.0                NaN  "
      ]
     },
     "execution_count": 52,
     "metadata": {},
     "output_type": "execute_result"
    }
   ],
   "source": [
    "data.head()"
   ]
  },
  {
   "cell_type": "markdown",
   "id": "5b521c14-a9b3-4599-bd70-207a9ca90316",
   "metadata": {},
   "source": [
    "##### _Impute missing values_: Impute `new_confirmed` and `new_deceased`"
   ]
  },
  {
   "cell_type": "code",
   "execution_count": 53,
   "id": "b1f4262b-ecb0-4cf3-b7e7-b1b38e13b12f",
   "metadata": {
    "tags": []
   },
   "outputs": [],
   "source": [
    "data = data.fillna({\n",
    "    \"new_confirmed\": 0,\n",
    "    \"new_deceased\": 0\n",
    "})"
   ]
  },
  {
   "cell_type": "markdown",
   "id": "37c1a9f3-5d3f-45c4-9fc1-0efdd982b020",
   "metadata": {
    "tags": []
   },
   "source": [
    "##### _New derived variables_: Calculate `week`, `new_deceased_confirmed_ratio`"
   ]
  },
  {
   "cell_type": "code",
   "execution_count": 54,
   "id": "64520829-5f1b-45fa-904c-34f175842080",
   "metadata": {},
   "outputs": [],
   "source": [
    "data[\"week\"] = pd.DatetimeIndex(data.date).to_period(\"W\")\n",
    "data[\"new_deceased_confirmed_ratio\"] = data[\"new_deceased\"] / data[\"new_confirmed\"]"
   ]
  },
  {
   "cell_type": "markdown",
   "id": "7cc40560-ee91-46df-a060-f12ec1d9ab56",
   "metadata": {},
   "source": [
    "##### _Pick desired columns_: `date`, `week`, `location_key`, `new_confirmed`, `new_deceased`, `new_deceased_confirmed_ratio`"
   ]
  },
  {
   "cell_type": "code",
   "execution_count": 55,
   "id": "e583f403-8349-42db-bce0-cba99b539bff",
   "metadata": {},
   "outputs": [],
   "source": [
    "data = data[[\"date\", \"week\", \"location_key\", \"new_confirmed\", \"new_deceased\", \"new_deceased_confirmed_ratio\"]]"
   ]
  },
  {
   "cell_type": "markdown",
   "id": "7338b39c-aa89-4237-91c6-a1bdb2852d49",
   "metadata": {},
   "source": [
    "##### _Check data and save_"
   ]
  },
  {
   "cell_type": "code",
   "execution_count": 56,
   "id": "b3dec9c2-b958-4a1c-81ef-ac339c99226d",
   "metadata": {},
   "outputs": [
    {
     "name": "stdout",
     "output_type": "stream",
     "text": [
      "<class 'pandas.core.frame.DataFrame'>\n",
      "RangeIndex: 3161033 entries, 0 to 3161032\n",
      "Data columns (total 6 columns):\n",
      " #   Column                        Non-Null Count    Dtype         \n",
      "---  ------                        --------------    -----         \n",
      " 0   date                          3161033 non-null  datetime64[ns]\n",
      " 1   week                          3161033 non-null  period[W-SUN] \n",
      " 2   location_key                  3161033 non-null  object        \n",
      " 3   new_confirmed                 3161033 non-null  float64       \n",
      " 4   new_deceased                  3161033 non-null  float64       \n",
      " 5   new_deceased_confirmed_ratio  2197437 non-null  float64       \n",
      "dtypes: datetime64[ns](1), float64(3), object(1), period[W-SUN](1)\n",
      "memory usage: 144.7+ MB\n"
     ]
    }
   ],
   "source": [
    "data.info(show_counts=True)"
   ]
  },
  {
   "cell_type": "code",
   "execution_count": 57,
   "id": "1e0d8e62-ed4d-47ca-95e7-221d9dca1892",
   "metadata": {},
   "outputs": [],
   "source": [
    "data.to_csv(f\"../data/{OUTPUT_FOLDER}/{key}.zip\", index=False)"
   ]
  },
  {
   "cell_type": "markdown",
   "id": "62d11dc3-b0ab-4a22-a5c2-45bd0caeabe2",
   "metadata": {
    "toc-hr-collapsed": true
   },
   "source": [
    "#### Table: `demographics`"
   ]
  },
  {
   "cell_type": "code",
   "execution_count": null,
   "id": "c8122ed8-545f-4a4c-9981-30b115492fae",
   "metadata": {},
   "outputs": [],
   "source": [
    "key = \"demographics\"\n",
    "data = pd.read_csv(f\"../data/{INPUT_FOLDER}/{key}.zip\")\n",
    "data.info(show_counts=True)"
   ]
  },
  {
   "cell_type": "markdown",
   "id": "f25dd65a-022c-4927-8af7-5730b30da031",
   "metadata": {},
   "source": [
    "##### _Pick desired columns_: `location_key`, `population`, `population_age_*`"
   ]
  },
  {
   "cell_type": "code",
   "execution_count": null,
   "id": "4606edbe-bd1c-4b8c-a86b-868b737b3c8a",
   "metadata": {},
   "outputs": [],
   "source": [
    "data = data.filter(regex=r\"(location_key|population$|population_age)\")"
   ]
  },
  {
   "cell_type": "markdown",
   "id": "022da5e4-3563-44dd-a6d5-bd31e467e3ed",
   "metadata": {},
   "source": [
    "##### _Check table and save_"
   ]
  },
  {
   "cell_type": "code",
   "execution_count": null,
   "id": "251a2844-6ba5-4c5a-8217-a91a4ce453d7",
   "metadata": {},
   "outputs": [],
   "source": [
    "data.info(show_counts=True)"
   ]
  },
  {
   "cell_type": "code",
   "execution_count": null,
   "id": "205fb159-1ad4-4403-b585-4edf3dcc575c",
   "metadata": {},
   "outputs": [],
   "source": [
    "data.to_csv(f\"../data/{OUTPUT_FOLDER}/{key}.zip\", index=False)"
   ]
  },
  {
   "cell_type": "markdown",
   "id": "d124274f-78a4-4a03-afe9-0173f0a650e7",
   "metadata": {
    "toc-hr-collapsed": true
   },
   "source": [
    "#### Table: `health`"
   ]
  },
  {
   "cell_type": "code",
   "execution_count": null,
   "id": "f9cf7f07-cc9a-4143-a3d1-68217f8dd9d1",
   "metadata": {},
   "outputs": [],
   "source": [
    "key = \"health\"\n",
    "data = pd.read_csv(f\"../data/{INPUT_FOLDER}/{key}.zip\")\n",
    "data.info(show_counts=True)"
   ]
  },
  {
   "cell_type": "markdown",
   "id": "90e7a1e5-de23-493c-9c1b-4fa9cc92a379",
   "metadata": {},
   "source": [
    "##### _Pick desired columns_: `location_key`, `life_expectancy`"
   ]
  },
  {
   "cell_type": "code",
   "execution_count": null,
   "id": "d39bf819-a9c6-4773-acea-a72f10cfff35",
   "metadata": {},
   "outputs": [],
   "source": [
    "data = data[[\"location_key\",\"life_expectancy\"]]"
   ]
  },
  {
   "cell_type": "markdown",
   "id": "975992b8-f72c-418f-8fb7-44c2a27c9684",
   "metadata": {},
   "source": [
    "##### _Check table and save_"
   ]
  },
  {
   "cell_type": "code",
   "execution_count": null,
   "id": "a70ebdc7-85e9-4aae-ba5a-a385a55c7c9c",
   "metadata": {},
   "outputs": [],
   "source": [
    "data.info(show_counts=True)"
   ]
  },
  {
   "cell_type": "code",
   "execution_count": null,
   "id": "93358132-2ed5-42bf-9240-1ac6c93bfce8",
   "metadata": {},
   "outputs": [],
   "source": [
    "data.to_csv(f\"../data/{OUTPUT_FOLDER}/{key}.zip\", index=False)"
   ]
  },
  {
   "cell_type": "markdown",
   "id": "5a1a97af-7bcd-4155-8c06-630c6cbe88df",
   "metadata": {
    "toc-hr-collapsed": true
   },
   "source": [
    "#### `hospitalizations`"
   ]
  },
  {
   "cell_type": "code",
   "execution_count": null,
   "id": "3adb8a8a-b1d4-4038-ac48-283f70e36fe0",
   "metadata": {},
   "outputs": [],
   "source": [
    "key = \"hospitalizations\"\n",
    "data = pd.read_csv(f\"../data/{INPUT_FOLDER}/{key}.zip\", parse_dates=[\"date\"])\n",
    "data.info(show_counts=True)"
   ]
  },
  {
   "cell_type": "markdown",
   "id": "59493a0d-2cd8-4f7d-bf01-2c81dae09ee6",
   "metadata": {},
   "source": [
    "##### _Impute missing values_: Impute `new_confirmed` and `new_deceased`"
   ]
  },
  {
   "cell_type": "code",
   "execution_count": null,
   "id": "46599139-fdb7-4c90-b834-b6cfe877a381",
   "metadata": {},
   "outputs": [],
   "source": [
    "data = data.fillna({\n",
    "    \"new_hospitalized_patients\": 0\n",
    "})"
   ]
  },
  {
   "cell_type": "markdown",
   "id": "590c8a7d-679c-4099-93be-c0e5920e932c",
   "metadata": {},
   "source": [
    "##### _New derived variables_: Calculate `week`"
   ]
  },
  {
   "cell_type": "code",
   "execution_count": null,
   "id": "57bf63f0-49d1-41fc-bb20-ebdd534fc9dc",
   "metadata": {},
   "outputs": [],
   "source": [
    "data[\"week\"] = pd.DatetimeIndex(data.date).to_period(\"W\")"
   ]
  },
  {
   "cell_type": "markdown",
   "id": "a0a09048-df98-4fb4-a681-44e66ae95bab",
   "metadata": {},
   "source": [
    "##### _Pick desired columns_: `date`, `week`, `location_key`, `new_hospitalized_patients`"
   ]
  },
  {
   "cell_type": "code",
   "execution_count": null,
   "id": "325c016c-caea-42a5-a13f-a5d8f6dcf79a",
   "metadata": {},
   "outputs": [],
   "source": [
    "data = data[[\"date\", \"week\", \"location_key\", \"new_hospitalized_patients\"]]"
   ]
  },
  {
   "cell_type": "markdown",
   "id": "c71f293c-acbc-4902-b502-32b547ea6bec",
   "metadata": {
    "tags": []
   },
   "source": [
    "##### _Check table and save_"
   ]
  },
  {
   "cell_type": "code",
   "execution_count": null,
   "id": "88e556e0-524b-47f0-b9c1-a35fb0110827",
   "metadata": {},
   "outputs": [],
   "source": [
    "data.info(show_counts=True)"
   ]
  },
  {
   "cell_type": "code",
   "execution_count": null,
   "id": "018473cd-248f-49f3-85da-99576e785c6a",
   "metadata": {},
   "outputs": [],
   "source": [
    "data.to_csv(f\"../data/{OUTPUT_FOLDER}/{key}.zip\", index=False)"
   ]
  },
  {
   "cell_type": "markdown",
   "id": "4649e117-9544-426f-894c-88203cb3ba25",
   "metadata": {},
   "source": [
    "#### `vaccinations`"
   ]
  },
  {
   "cell_type": "code",
   "execution_count": null,
   "id": "8c4962eb-3583-4731-8e7e-ddb9f3986d8f",
   "metadata": {},
   "outputs": [],
   "source": [
    "key = \"vaccinations\"\n",
    "data = pd.read_csv(f\"../data/{INPUT_FOLDER}/{key}.zip\", parse_dates=[\"date\"])\n",
    "data.info(show_counts=True)"
   ]
  },
  {
   "cell_type": "markdown",
   "id": "3ec778cc-2a66-4a53-b2fc-03c86e3262a6",
   "metadata": {},
   "source": [
    "##### _Impute missing values_: Impute `new_persons_fully_vaccinated`"
   ]
  },
  {
   "cell_type": "code",
   "execution_count": null,
   "id": "b88307b5-00a0-491b-9c1e-3bd07923a085",
   "metadata": {},
   "outputs": [],
   "source": [
    "data = data.fillna({\n",
    "    \"new_persons_fully_vaccinated\": 0,\n",
    "})"
   ]
  },
  {
   "cell_type": "markdown",
   "id": "96cc8bd1-010c-45bd-a1e6-8adb2ee932d0",
   "metadata": {},
   "source": [
    "##### _New derived variables_: Calculate `week`"
   ]
  },
  {
   "cell_type": "code",
   "execution_count": null,
   "id": "f3f13057-bc9b-4dee-8459-9942cc8855a1",
   "metadata": {},
   "outputs": [],
   "source": [
    "data[\"week\"] = pd.DatetimeIndex(data.date).to_period(\"W\")"
   ]
  },
  {
   "cell_type": "markdown",
   "id": "19ebf75b-2362-4e94-985f-7e422da3e44c",
   "metadata": {},
   "source": [
    "##### _Pick desired columns_: `date`, `week`, `location_key`, `new_persons_fully_vaccinated`"
   ]
  },
  {
   "cell_type": "code",
   "execution_count": null,
   "id": "17582004-a93b-4f4b-8d30-c9ae8fa3b4dd",
   "metadata": {},
   "outputs": [],
   "source": [
    "data = data[[\"date\", \"week\", \"location_key\", \"new_persons_fully_vaccinated\"]]"
   ]
  },
  {
   "cell_type": "markdown",
   "id": "f07c3fa9-8942-4860-9557-52203118d40d",
   "metadata": {},
   "source": [
    "##### _Check table and save_"
   ]
  },
  {
   "cell_type": "code",
   "execution_count": null,
   "id": "6146b068-9448-4493-aecd-d7e0e8c5d7d6",
   "metadata": {},
   "outputs": [],
   "source": [
    "data.info()"
   ]
  },
  {
   "cell_type": "code",
   "execution_count": null,
   "id": "d1a82547-0237-4f60-8457-3d9d0d96b22e",
   "metadata": {},
   "outputs": [],
   "source": [
    "data.to_csv(f\"../data/{OUTPUT_FOLDER}/{key}.zip\", index=False)"
   ]
  },
  {
   "cell_type": "markdown",
   "id": "4459210c-666c-4c75-9bab-05c1f7e94b72",
   "metadata": {},
   "source": [
    "#### `index`"
   ]
  },
  {
   "cell_type": "code",
   "execution_count": null,
   "id": "ff2a4943-d464-410a-a3ac-a80b35a264a1",
   "metadata": {},
   "outputs": [],
   "source": [
    "key = \"index\"\n",
    "data = pd.read_csv(f\"../data/{INPUT_FOLDER}/{key}.zip\")\n",
    "data.info(show_counts=True)"
   ]
  },
  {
   "cell_type": "markdown",
   "id": "ca8f544f-8ca7-4cec-b0d4-253984534043",
   "metadata": {},
   "source": [
    "##### Pick just the country name"
   ]
  },
  {
   "cell_type": "code",
   "execution_count": null,
   "id": "38af329a-1e83-462c-9f12-87b13de42393",
   "metadata": {},
   "outputs": [],
   "source": [
    "data = data[[\"location_key\",\"country_name\"]]"
   ]
  },
  {
   "cell_type": "markdown",
   "id": "27821935-a9fd-4634-a1d2-a17e25f06af2",
   "metadata": {},
   "source": [
    "##### _Check table and save_"
   ]
  },
  {
   "cell_type": "code",
   "execution_count": null,
   "id": "2024ade1-0a14-46f5-a2f3-10cccec49d92",
   "metadata": {},
   "outputs": [],
   "source": [
    "data.info()"
   ]
  },
  {
   "cell_type": "code",
   "execution_count": null,
   "id": "b426dc74-1016-44ec-8237-1dff208caa16",
   "metadata": {},
   "outputs": [],
   "source": [
    "data.to_csv(f\"../data/{OUTPUT_FOLDER}/{key}.zip\", index=False)"
   ]
  }
 ],
 "metadata": {
  "kernelspec": {
   "display_name": "DATASCIENCE (Python 3.10)",
   "language": "python",
   "name": "base"
  },
  "language_info": {
   "codemirror_mode": {
    "name": "ipython",
    "version": 3
   },
   "file_extension": ".py",
   "mimetype": "text/x-python",
   "name": "python",
   "nbconvert_exporter": "python",
   "pygments_lexer": "ipython3",
   "version": "3.10.8"
  },
  "toc-autonumbering": true
 },
 "nbformat": 4,
 "nbformat_minor": 5
}
