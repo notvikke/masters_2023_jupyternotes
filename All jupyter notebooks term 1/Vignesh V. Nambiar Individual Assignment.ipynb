{
 "cells": [
  {
   "cell_type": "markdown",
   "metadata": {},
   "source": [
    "## Individual assignment\n",
    "\n",
    "**Humanity has finally reached Mars. There are 4 colonies, and the humans are more or less adapting to life there**\n",
    "\n",
    "The 4 cities are called `Yharnam`, `Marsdrid`, `Ironforge` and `Churroland`. Each city has its own `population`.\n",
    "```python\n",
    "population = {\n",
    "    'Yharnam': 1000,\n",
    "    'Marsdrid': 2000,\n",
    "    'Ironforge': 3000,\n",
    "    'Churroland': 4000,\n",
    "}\n",
    "``` \n",
    "\n",
    "The cities are all connected to each other, with different `distances` between them (see attached PDF). There are also important points for life, like the three water sources, or wells. There's also a volcano that the Mars Geological Survey is monitoring. All these landmarks are defined by their coordinates, which are given in the `landmarks` dictionary. \n",
    "    \n",
    "```python\n",
    "# coordinates in kilometers\n",
    "landmarks = {\n",
    "    'Yharnam': (0, 0),\n",
    "    'Marsdrid': (0, 150),\n",
    "    'Ironforge': (100, 50),\n",
    "    'Churroland': (150, 100),\n",
    "    'Well 1': (0, 50),\n",
    "    'Well 2': (0, 100),\n",
    "    'Well 3': (100, 100),\n",
    "    'Volcano': (50, 100),\n",
    "}\n",
    "```\n",
    "\n",
    "Rules:\n",
    "* You can use any of the tools we have seen in class, nothing else.\n",
    "* You can't share your code with anyone else.\n",
    "* 1 point per correctly solved exercise.\n",
    "* No points deducted from incorrect answers.\n",
    "* **SUBMISSION:**\n",
    "  * ONE (1) JUPYTER NOTEBOOK, based on this one, with your name as the filename:\n",
    "    * `individual_assignment_daniel_garcia_hernandez.ipynb`\n",
    "  * No submission will be accepted after the deadline.\n",
    "  * No submission will be accepted if the description of the exercises is changed\n",
    "  * No submission will be accepted if the order of the exervises is changed"
   ]
  },
  {
   "cell_type": "code",
   "execution_count": 3,
   "metadata": {},
   "outputs": [],
   "source": [
    "population = {\n",
    "    'Yharnam': 1000,\n",
    "    'Marsdrid': 2000,\n",
    "    'Ironforge': 3000,\n",
    "    'Churroland': 4000,\n",
    "}\n",
    "\n",
    "landmarks = {\n",
    "    'Yharnam': (0, 0),\n",
    "    'Marsdrid': (0, 150),\n",
    "    'Ironforge': (100, 50),\n",
    "    'Churroland': (150, 100),\n",
    "    'Well 1': (0, 50),\n",
    "    'Well 2': (0, 100),\n",
    "    'Well 3': (100, 100),\n",
    "    'Volcano': (50, 100),\n",
    "}"
   ]
  },
  {
   "cell_type": "markdown",
   "metadata": {},
   "source": [
    "### Exercise 1\n",
    "\n",
    "Knowing that we can calculate the distance between two points in 2-dimensional space using the formula:\n",
    "$$d = \\sqrt{(x_2 - x_1)^2 + (y_2 - y_1)^2}$$\n",
    "write a function that takes two points as input and returns the distance between them.\n",
    "\n",
    "Each point should be a tuple of two numbers `(x, y)` representing the two coordinates --horizontal and vertical-- of the point.\n",
    "\n",
    "```python\n",
    "def distance(point1, point2):\n",
    "    # Your code here\n",
    "    return distance\n",
    "```"
   ]
  },
  {
   "cell_type": "code",
   "execution_count": 4,
   "metadata": {},
   "outputs": [],
   "source": [
    "import math\n",
    "def distance(point1, point2):\n",
    "    distance=math.sqrt((point2[0]-point1[0])**2+(point2[1]-point1[1])**2)\n",
    "    return distance\n",
    "\n"
   ]
  },
  {
   "cell_type": "markdown",
   "metadata": {},
   "source": [
    "### Exercise 2\n",
    "\n",
    "Now that we know how to calculate the distance between two points, we can calculate the distance between two landmarks. \n",
    "\n",
    "Write a function that takes the followning arguments:\n",
    "* `landmarks`: a dictionary with the coordinates of the landmarks\n",
    "* `landmarks_list`: a list of the landmarks we want to calculate the distance between. It should be a list of 2 strings, where each string is the name of a landmark.\n",
    "\n",
    "and returns the distance between them, using the function you wrote in the previous exercise.\n",
    "\n",
    "```python\n",
    "def distance_between_landmarks(landmarks, landmarks_list):\n",
    "    # Your code here using the distance function from exercise 1\n",
    "    return distance\n",
    "```"
   ]
  },
  {
   "cell_type": "code",
   "execution_count": 5,
   "metadata": {},
   "outputs": [],
   "source": [
    "\n",
    "\n",
    "def distance_between_landmarks(landmarks, landmarks_list):\n",
    "    distance_L=distance(landmarks[landmarks_list[0]],landmarks[landmarks_list[1]])\n",
    "    return distance_L\n"
   ]
  },
  {
   "cell_type": "code",
   "execution_count": 9,
   "metadata": {},
   "outputs": [
    {
     "data": {
      "text/plain": [
       "141.4213562373095"
      ]
     },
     "execution_count": 9,
     "metadata": {},
     "output_type": "execute_result"
    }
   ],
   "source": [
    "distance_between_landmarks(landmarks,['Yharnam','Well 3'])"
   ]
  },
  {
   "cell_type": "markdown",
   "metadata": {},
   "source": [
    "### Exercise 3\n",
    "\n",
    "Let's analyze which city has a better access to water. To do so, we need to calculate the distance between each city and each well, and then average the distances.\n",
    "\n",
    "We can do this by using a double `for` loop:\n",
    "\n",
    "```python\n",
    "dict_of_avg_distances = {}\n",
    "\n",
    "for city in cities:\n",
    "\n",
    "    distances_to_wells = []\n",
    "\n",
    "    for well in wells:\n",
    "        \n",
    "        # Calculate distance between city and well\n",
    "        # save the distance in a list with append\n",
    "\n",
    "    # sum the 3 distances in the list and divide by 3 to calculate the average\n",
    "    # add the average distance to a dictionary where the key is the city and the value is the average distance to water.\n",
    "```\n"
   ]
  },
  {
   "cell_type": "code",
   "execution_count": 6,
   "metadata": {},
   "outputs": [
    {
     "data": {
      "text/plain": [
       "{'Yharnam': 97.14045207910317,\n",
       " 'Marsdrid': 87.2677996249965,\n",
       " 'Ironforge': 87.2677996249965,\n",
       " 'Churroland': 119.37129433613966}"
      ]
     },
     "execution_count": 6,
     "metadata": {},
     "output_type": "execute_result"
    }
   ],
   "source": [
    "#method 1 i came up with, better method is below\n",
    "cities = ['Yharnam','Marsdrid','Ironforge','Churroland']\n",
    "wells = ['Well 1','Well 2', 'Well 3']\n",
    "\n",
    "Yharnam_dist=[]\n",
    "Marsdrid_dist=[]\n",
    "Ironforge_dist=[]\n",
    "Churroland_dist=[]\n",
    "avg_list=[]\n",
    "avg_city_list=[]\n",
    "\n",
    "for city in cities:\n",
    "        for well in wells:\n",
    "            if city == 'Yharnam':\n",
    "                Yharnam_dist.append(distance_between_landmarks(landmarks,[city,well]))\n",
    "            elif city == 'Marsdrid':\n",
    "                Marsdrid_dist.append(distance_between_landmarks(landmarks,[city,well]))\n",
    "            elif city == 'Ironforge':\n",
    "                Ironforge_dist.append(distance_between_landmarks(landmarks,[city,well]))\n",
    "            elif city == 'Churroland':\n",
    "                Churroland_dist.append(distance_between_landmarks(landmarks,[city,well]))\n",
    "            else:\n",
    "                print(\"Not in list\")\n",
    "\n",
    "avg_list.append(sum(Yharnam_dist)/3)  \n",
    "avg_list.append(sum(Marsdrid_dist)/3)\n",
    "avg_list.append(sum(Ironforge_dist)/3)\n",
    "avg_list.append(sum(Churroland_dist)/3)\n",
    "\n",
    "avg_city_list=dict(zip(cities,avg_list))\n",
    "\n",
    "\n",
    "\n",
    "avg_city_list"
   ]
  },
  {
   "cell_type": "code",
   "execution_count": 7,
   "metadata": {},
   "outputs": [
    {
     "data": {
      "text/plain": [
       "{'Yharnam': 97.14045207910317,\n",
       " 'Marsdrid': 87.2677996249965,\n",
       " 'Ironforge': 87.2677996249965,\n",
       " 'Churroland': 119.37129433613966}"
      ]
     },
     "execution_count": 7,
     "metadata": {},
     "output_type": "execute_result"
    }
   ],
   "source": [
    "cities = ['Yharnam','Marsdrid','Ironforge','Churroland']\n",
    "wells = ['Well 1','Well 2', 'Well 3']\n",
    "\n",
    "\n",
    "avg_city_list={}\n",
    "\n",
    "for city in cities:\n",
    "    distances_to_wells=[]\n",
    "    for well in wells:\n",
    "        distances_to_wells.append(distance_between_landmarks(landmarks,[city,well]))\n",
    "        avg_city_list[city]=sum(distances_to_wells)/3\n",
    "\n",
    "\n",
    "avg_city_list"
   ]
  },
  {
   "cell_type": "markdown",
   "metadata": {},
   "source": [
    "### Exercise 4\n",
    "\n",
    "Which city or cities have the best access to water? Which city or cities has the worst access to water?\n",
    "\n",
    "Hint: you can use the `min` and `max` functions to find the minimum and maximum values in a dictionary, passing the dictionary as an argument, and using the `key` argument to specify which value to use to find the minimum or maximum.\n",
    "\n",
    "```python\n",
    "dummy_dict = {\n",
    "    'city1': 10,\n",
    "    'city2': 20,\n",
    "    'city3': 30,\n",
    "}\n",
    "\n",
    "min_value = min(dummy_dict, key=dummy_dict.get)\n",
    "max_value = max(dummy_dict, key=dummy_dict.get)\n",
    "```\n",
    "Keep in mind that these functions will return the first key found with the minimum or maximum value, so if there are repeated values, it might not be the one you want."
   ]
  },
  {
   "cell_type": "code",
   "execution_count": 17,
   "metadata": {},
   "outputs": [
    {
     "name": "stdout",
     "output_type": "stream",
     "text": [
      "['Churroland']\n",
      "['Marsdrid', 'Ironforge']\n"
     ]
    }
   ],
   "source": [
    "Best_city= []\n",
    "Worst_city= []\n",
    "for key,value in avg_city_list.items():\n",
    "    if(value==min(avg_city_list.values())):\n",
    "            Best_city.append(key)\n",
    "    elif(value==max(avg_city_list.values())):\n",
    "            Worst_city.append(key)\n",
    "   \n",
    "print(Worst_city)\n",
    "print(Best_city)\n",
    "\n"
   ]
  },
  {
   "cell_type": "code",
   "execution_count": 14,
   "metadata": {},
   "outputs": [
    {
     "data": {
      "text/plain": [
       "'Marsdrid'"
      ]
     },
     "execution_count": 14,
     "metadata": {},
     "output_type": "execute_result"
    }
   ],
   "source": [
    "min_value = min(avg_city_list, key=avg_city_list.get)\n",
    "min_value"
   ]
  },
  {
   "cell_type": "markdown",
   "metadata": {},
   "source": [
    "### Exercise 5\n",
    "\n",
    "Now that we know which city has the best access to water, create a dictionary with the cities as keys and their distance to the volcano as values"
   ]
  },
  {
   "cell_type": "code",
   "execution_count": 46,
   "metadata": {},
   "outputs": [
    {
     "data": {
      "text/plain": [
       "{'Yharnam': 111.80339887498948,\n",
       " 'Marsdrid': 70.71067811865476,\n",
       " 'Ironforge': 70.71067811865476,\n",
       " 'Churroland': 100.0}"
      ]
     },
     "execution_count": 46,
     "metadata": {},
     "output_type": "execute_result"
    }
   ],
   "source": [
    "dist_to_volcano=[]\n",
    "city_to_volcano={}\n",
    "\n",
    "for city in cities:\n",
    "    dist_to_volcano.append(distance_between_landmarks(landmarks,[city,'Volcano']))\n",
    "\n",
    "city_to_volcano=dict(zip(cities,dist_to_volcano))\n",
    "\n",
    "city_to_volcano\n"
   ]
  },
  {
   "cell_type": "markdown",
   "metadata": {},
   "source": [
    "### Exercise 6\n",
    "\n",
    "The Geological Survey found that in case of an eruption, the explosion will have a radius between 75 and 110 km.\n",
    "* In the best case scenario, the explosion will be 75 km away from the volcano.\n",
    "* In the worst case scenario, the explosion will be 110 km away from the volcano.\n",
    "\n",
    "Knowing this, which city or cities are at risk of being destroyed by the volcano in the best case scenario? Which city or cities are at risk of being destroyed by the volcano in the worst case scenario?\n",
    "\n",
    "Write a function that takes in the `landmarks` and the explosion radii in each scenario, and returns which cities are at rist of being destroyed.\n",
    "\n",
    "```python\n",
    "def cities_at_risk(landmarks, [best_case_radius, worst_case_radius]):\n",
    "    # Your code here\n",
    "    return cities_at_risk_best_case, cities_at_risk_worst_case\n",
    "```"
   ]
  },
  {
   "cell_type": "code",
   "execution_count": 47,
   "metadata": {},
   "outputs": [
    {
     "data": {
      "text/plain": [
       "(['Marsdrid', 'Ironforge'], ['Marsdrid', 'Ironforge', 'Churroland'])"
      ]
     },
     "execution_count": 47,
     "metadata": {},
     "output_type": "execute_result"
    }
   ],
   "source": [
    "def cities_at_risk(landmarks, radius):\n",
    "    \n",
    "    cities_at_risk_best_case=[]\n",
    "    cities_at_risk_worst_case=[]\n",
    "    \n",
    "    sorted_city_to_volcano = dict(sorted(city_to_volcano.items(), key=lambda item: item[1]))\n",
    "    for key,value in sorted_city_to_volcano.items():\n",
    "        if(value<=radius[0]):\n",
    "            cities_at_risk_best_case.append(key)\n",
    "        if(value<=radius[1]):\n",
    "            cities_at_risk_worst_case.append(key)\n",
    "        \n",
    "    return cities_at_risk_best_case, cities_at_risk_worst_case\n",
    "\n",
    "cities_at_risk(landmarks, [75,110])"
   ]
  },
  {
   "cell_type": "markdown",
   "metadata": {},
   "source": [
    "### Exercise 7\n",
    "\n",
    "Our worst fears have come true. The volcano has increased its activity and our geologist have estimated the radius of explosion: 90 km.\n",
    "\n",
    "We need to evacuate the cities at risk. How many people will we have to evacuate?\n",
    "\n",
    "Adapt the previous function to return the number of people at risk, passing the `population` dictionary as an argument, as well as `landmarks` and the explosion radius.\n",
    "\n",
    "```python\n",
    "def population_to_evacuate(landmarks, population, explosion_radius):\n",
    "    # Your code here\n",
    "    return people_at_risk\n",
    "```"
   ]
  },
  {
   "cell_type": "code",
   "execution_count": 48,
   "metadata": {},
   "outputs": [
    {
     "data": {
      "text/plain": [
       "5000"
      ]
     },
     "execution_count": 48,
     "metadata": {},
     "output_type": "execute_result"
    }
   ],
   "source": [
    "def population_to_evacuate(landmarks, population, explosion_radius):\n",
    "    \n",
    "    cities_at_risk=[]\n",
    "    people_at_risk=0\n",
    "    \n",
    "    for key,value in city_to_volcano.items():\n",
    "        if(value<=explosion_radius):\n",
    "            cities_at_risk.append(key)\n",
    "    for city in cities_at_risk:\n",
    "        people_at_risk= people_at_risk + population[city]\n",
    "    return people_at_risk\n",
    "\n",
    "population_to_evacuate(landmarks,population, 90)"
   ]
  },
  {
   "cell_type": "markdown",
   "metadata": {},
   "source": [
    "### Exercise 8\n",
    "\n",
    "Which cities are the ones we need to evacuate? Which cities are the ones we can keep?\n",
    "\n",
    "Reuse the previous function to return a dictionary with `keep` and `evacuate` as keys, and the cities as values.\n",
    "\n",
    "```python\n",
    "dict_status = {\n",
    "    'keep': [city1, city2, city3],\n",
    "    'evacuate': [city4, city5, city6],\n",
    "}\n",
    "```\n",
    "\n",
    "```python\n",
    "def status_of_cities(landmarks, explosion_radius):\n",
    "    # Your code here\n",
    "    return dict_status\n",
    "```"
   ]
  },
  {
   "cell_type": "code",
   "execution_count": 49,
   "metadata": {},
   "outputs": [
    {
     "data": {
      "text/plain": [
       "{'keep': [['Yharnam', 'Churroland']], 'evacuate': [['Marsdrid', 'Ironforge']]}"
      ]
     },
     "execution_count": 49,
     "metadata": {},
     "output_type": "execute_result"
    }
   ],
   "source": [
    "def status_of_cities(landmarks, explosion_radius):\n",
    "    cities_to_keep=[]\n",
    "    cities_to_evacuate=[]\n",
    "    \n",
    "    for key,value in city_to_volcano.items():\n",
    "        if(value<=explosion_radius):\n",
    "            cities_to_evacuate.append(key)\n",
    "        else:\n",
    "            cities_to_keep.append(key)\n",
    "            \n",
    "    dict_status = {'keep':[] ,'evacuate':[]}\n",
    "    dict_status[\"keep\"].append(cities_to_keep)\n",
    "    dict_status[\"evacuate\"].append(cities_to_evacuate)\n",
    "    \n",
    "    return dict_status\n",
    "\n",
    "status_of_cities(landmarks, 90)"
   ]
  },
  {
   "cell_type": "markdown",
   "metadata": {},
   "source": [
    "### Exercise 9: open-ended\n",
    "\n",
    "What's the best way to evacuate the cities? Let's think of the difficulty for the evacuation as the product of the population to be evacuated and the distance to which they're being evacuated.\n",
    "\n",
    "```python\n",
    "difficulty = population_to_evacuate * distance_to_safety\n",
    "```\n",
    "\n",
    "We can evacuate all the population to the same city, or we can split the population between the cities, according to the distance between their original city and the city they're being evacuated to.\n",
    "\n",
    "Use code to back your decision."
   ]
  },
  {
   "cell_type": "code",
   "execution_count": 50,
   "metadata": {},
   "outputs": [
    {
     "name": "stdout",
     "output_type": "stream",
     "text": [
      "Distance from Marsdrid to Yharnam = 150.0\n",
      "Distance from Marsdrid to Churroland =  158.11388300841898\n",
      "Evacuating Marsdrid to Yharnam with difficulty =  300000.0\n",
      "\n",
      "\n",
      "Distance from Ironforge to Yharnam = 111.80339887498948\n",
      "Distance from Ironforge to Churroland =  70.71067811865476\n",
      "Evacuating Ironforge to Churroland with difficulty =  212132.03435596428\n",
      "\n",
      "\n",
      "Total Difficulty for best Evacuation =  512132.0343559643\n"
     ]
    }
   ],
   "source": [
    "#cities to be evacuated are 'Marsdrid', 'Ironforge' so we calculate distance between both of them to the safe cities\n",
    "\n",
    "\n",
    "print(\"Distance from Marsdrid to Yharnam =\", distance_between_landmarks(landmarks,['Yharnam','Marsdrid']))\n",
    "print(\"Distance from Marsdrid to Churroland = \",distance_between_landmarks(landmarks,['Churroland','Marsdrid']))\n",
    "\n",
    "print(\"Evacuating Marsdrid to Yharnam with difficulty = \",\n",
    "population['Marsdrid']*distance_between_landmarks(landmarks,['Yharnam','Marsdrid']))\n",
    "print('\\n')\n",
    "\n",
    "print(\"Distance from Ironforge to Yharnam =\", distance_between_landmarks(landmarks,['Yharnam','Ironforge']))\n",
    "print(\"Distance from Ironforge to Churroland = \",distance_between_landmarks(landmarks,['Churroland','Ironforge']))\n",
    "\n",
    "print(\"Evacuating Ironforge to Churroland with difficulty = \",\n",
    "population['Ironforge']*distance_between_landmarks(landmarks,['Churroland','Ironforge']))\n",
    "print('\\n')\n",
    "\n",
    "print(\"Total Difficulty for best Evacuation = \",300000.0+212132.03435596428)\n",
    "\n"
   ]
  }
 ],
 "metadata": {
  "kernelspec": {
   "display_name": "Python 3 (ipykernel)",
   "language": "python",
   "name": "python3"
  },
  "language_info": {
   "codemirror_mode": {
    "name": "ipython",
    "version": 3
   },
   "file_extension": ".py",
   "mimetype": "text/x-python",
   "name": "python",
   "nbconvert_exporter": "python",
   "pygments_lexer": "ipython3",
   "version": "3.9.12"
  },
  "vscode": {
   "interpreter": {
    "hash": "a9f295c814a5ce7ff0b0a20f2b13117bfaf008fc7980e281f2c2bfa8e9ec0fbf"
   }
  }
 },
 "nbformat": 4,
 "nbformat_minor": 2
}
