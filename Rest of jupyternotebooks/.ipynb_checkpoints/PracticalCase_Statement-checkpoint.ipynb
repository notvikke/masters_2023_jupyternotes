{
 "cells": [
  {
   "cell_type": "markdown",
   "id": "cfae5ee7-da38-49ba-a59a-4b846063519b",
   "metadata": {},
   "source": [
    "# PRACTICAL CASE: COVID-19 Data\n",
    "\n",
    "In the `data/in` folder there is a set of files related with COVID-19. The files are:\n",
    " - `epidemiology` - COVID-19 cases, deaths, recoveries and tests\n",
    " - `demographics.csv` - Various population statistics. The indicator are the most recent.\n",
    " - `health.csv` - Health indicators for the region\n",
    " - `hospitalizations.csv` - Information related to patients of COVID-19 and hospitals\n",
    " - `vaccinations.csv` - Trends in persons vaccinated and population vaccination rate regarding various Covid-19 vaccines.\n",
    " - `index.csv` - Various names and codes, useful for joining with other datasets\n",
    " \n",
    "The ultimate goal is to build a **weekly covid-19 death predictor per country**. That is, with all provided information we should give a prediction about the number of deaths the next week, per country.\n",
    "\n",
    "In this practice we're not focused on the prediction model but on the previous **data engineering process**, essential to uncover the particulaties of this data and essential to obtain an aggregated table of data that comprises all relevant information and provides the analytics team with a realiable starting point to the analytics part.\n",
    "\n",
    "So, this practical case will be divided in two parts:\n",
    "\n",
    "\n",
    "Data extracted from https://github.com/GoogleCloudPlatform/covid-19-open-data"
   ]
  },
  {
   "attachments": {},
   "cell_type": "markdown",
   "id": "4326cda2-1cec-4f9c-903c-bda934c4e3ae",
   "metadata": {},
   "source": [
    "## PART I: The ETL Process\n",
    "\n",
    " 1. Build an **aggregated table** (let's call it the `macrotable`) with all relevant information you consider to acomplish the ultimate goal of the project. According to the instructions, this table should be indexed by _week_ and _country_name_.\n",
    " 1. Execute a profile report on resulting table\n",
    " 1. Fix all missings in data\n",
    " 1. (Optional) Prepare an ETL process with an executable Python script from the terminal. Consider to include these four arguments:\n",
    "    - _--name_ - The name of the file in which store the `macrotable` (mandatory)\n",
    "    - _--start_ - The starting date to consider to build the `macrotable` (mandatory)\n",
    "    - _--end_ - The ending date to consider to build the `macrotable` (mandatory)\n",
    "    - _--countries_ - The list of countries to include in the `macrotable` (optional)"
   ]
  },
  {
   "attachments": {},
   "cell_type": "markdown",
   "id": "cd1ec92c-c9f9-4501-9f55-35af9c1de3d7",
   "metadata": {},
   "source": [
    "## PART II: Exploratory Data Analysis\n",
    "\n",
    "Explore data through an Exploratory Data Analysis process. Try to practice a little bit more with `plotly` package.\n",
    "\n",
    "Some suggestions:\n",
    " 1. Plot the series of new COVID-19 confirmed cases and deaths. Comment the results.\n",
    " 1. Plot the cumulative series of new COVID-19 confirmed cases and deaths"
   ]
  }
 ],
 "metadata": {
  "kernelspec": {
   "display_name": "DATASCIENCE (Python 3.8)",
   "language": "python",
   "name": "datascience"
  },
  "language_info": {
   "codemirror_mode": {
    "name": "ipython",
    "version": 3
   },
   "file_extension": ".py",
   "mimetype": "text/x-python",
   "name": "python",
   "nbconvert_exporter": "python",
   "pygments_lexer": "ipython3",
   "version": "3.8.15 | packaged by conda-forge | (default, Nov 22 2022, 08:49:35) \n[GCC 10.4.0]"
  }
 },
 "nbformat": 4,
 "nbformat_minor": 5
}
