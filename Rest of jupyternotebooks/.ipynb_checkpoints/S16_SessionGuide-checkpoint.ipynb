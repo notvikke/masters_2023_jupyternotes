{
 "cells": [
  {
   "cell_type": "markdown",
   "metadata": {},
   "source": [
    "<table border=\"0\" style=\"width:100%\">\n",
    " <tr>\n",
    "    <td>\n",
    "        <img src=\"https://static-frm.ie.edu/university/wp-content/uploads/sites/6/2022/06/IE-University-logo.png\" width=150>\n",
    "     </td>\n",
    "    <td><div style=\"font-family:'Courier New'\">\n",
    "            <div style=\"font-size:25px\">\n",
    "                <div style=\"text-align: right\"> \n",
    "                    <b> MASTER IN BIG DATA</b>\n",
    "                    <br>\n",
    "                    Python for Data Analysis II\n",
    "                    <br><br>\n",
    "                    <em> Daniel Sierra Ramos </em>\n",
    "                </div>\n",
    "            </div>\n",
    "        </div>\n",
    "    </td>\n",
    " </tr>\n",
    "</table>"
   ]
  },
  {
   "cell_type": "markdown",
   "metadata": {
    "colab_type": "text",
    "id": "tuhTO0jP4EeE"
   },
   "source": [
    "# **S16: PyCaret - Automated Machine Learning in Python**"
   ]
  },
  {
   "cell_type": "markdown",
   "metadata": {
    "colab_type": "text",
    "id": "fGHO07ET4EfB"
   },
   "source": [
    "## Data"
   ]
  },
  {
   "cell_type": "markdown",
   "metadata": {
    "colab_type": "text",
    "id": "yeUS_YV24EfG"
   },
   "source": [
    "You can download the data from the original source __[found here](https://archive.ics.uci.edu/ml/datasets/default+of+credit+card+clients)__ and load it using the pandas read_csv function or you can use PyCaret's data respository to load the data using the get_data function (This will require an internet connection)."
   ]
  },
  {
   "cell_type": "code",
   "execution_count": 49,
   "metadata": {
    "vscode": {
     "languageId": "python"
    }
   },
   "outputs": [],
   "source": [
    "%matplotlib inline"
   ]
  },
  {
   "cell_type": "code",
   "execution_count": 50,
   "metadata": {
    "vscode": {
     "languageId": "python"
    }
   },
   "outputs": [],
   "source": [
    "import pandas as pd\n",
    "from imblearn.under_sampling import RandomUnderSampler"
   ]
  },
  {
   "cell_type": "code",
   "execution_count": 51,
   "metadata": {
    "colab": {},
    "colab_type": "code",
    "id": "SwAC9YKj4EgZ",
    "outputId": "aac7ee4c-f6bb-421a-cecc-ac72ae86b81f",
    "vscode": {
     "languageId": "python"
    }
   },
   "outputs": [
    {
     "data": {
      "text/html": [
       "<div>\n",
       "<style scoped>\n",
       "    .dataframe tbody tr th:only-of-type {\n",
       "        vertical-align: middle;\n",
       "    }\n",
       "\n",
       "    .dataframe tbody tr th {\n",
       "        vertical-align: top;\n",
       "    }\n",
       "\n",
       "    .dataframe thead th {\n",
       "        text-align: right;\n",
       "    }\n",
       "</style>\n",
       "<table border=\"1\" class=\"dataframe\">\n",
       "  <thead>\n",
       "    <tr style=\"text-align: right;\">\n",
       "      <th></th>\n",
       "      <th>LIMIT_BAL</th>\n",
       "      <th>SEX</th>\n",
       "      <th>EDUCATION</th>\n",
       "      <th>MARRIAGE</th>\n",
       "      <th>AGE</th>\n",
       "      <th>PAY_1</th>\n",
       "      <th>PAY_2</th>\n",
       "      <th>PAY_3</th>\n",
       "      <th>PAY_4</th>\n",
       "      <th>PAY_5</th>\n",
       "      <th>...</th>\n",
       "      <th>BILL_AMT4</th>\n",
       "      <th>BILL_AMT5</th>\n",
       "      <th>BILL_AMT6</th>\n",
       "      <th>PAY_AMT1</th>\n",
       "      <th>PAY_AMT2</th>\n",
       "      <th>PAY_AMT3</th>\n",
       "      <th>PAY_AMT4</th>\n",
       "      <th>PAY_AMT5</th>\n",
       "      <th>PAY_AMT6</th>\n",
       "      <th>default</th>\n",
       "    </tr>\n",
       "  </thead>\n",
       "  <tbody>\n",
       "    <tr>\n",
       "      <th>0</th>\n",
       "      <td>20000</td>\n",
       "      <td>2</td>\n",
       "      <td>2</td>\n",
       "      <td>1</td>\n",
       "      <td>24</td>\n",
       "      <td>2</td>\n",
       "      <td>2</td>\n",
       "      <td>-1</td>\n",
       "      <td>-1</td>\n",
       "      <td>-2</td>\n",
       "      <td>...</td>\n",
       "      <td>0.0</td>\n",
       "      <td>0.0</td>\n",
       "      <td>0.0</td>\n",
       "      <td>0.0</td>\n",
       "      <td>689.0</td>\n",
       "      <td>0.0</td>\n",
       "      <td>0.0</td>\n",
       "      <td>0.0</td>\n",
       "      <td>0.0</td>\n",
       "      <td>1</td>\n",
       "    </tr>\n",
       "    <tr>\n",
       "      <th>1</th>\n",
       "      <td>90000</td>\n",
       "      <td>2</td>\n",
       "      <td>2</td>\n",
       "      <td>2</td>\n",
       "      <td>34</td>\n",
       "      <td>0</td>\n",
       "      <td>0</td>\n",
       "      <td>0</td>\n",
       "      <td>0</td>\n",
       "      <td>0</td>\n",
       "      <td>...</td>\n",
       "      <td>14331.0</td>\n",
       "      <td>14948.0</td>\n",
       "      <td>15549.0</td>\n",
       "      <td>1518.0</td>\n",
       "      <td>1500.0</td>\n",
       "      <td>1000.0</td>\n",
       "      <td>1000.0</td>\n",
       "      <td>1000.0</td>\n",
       "      <td>5000.0</td>\n",
       "      <td>0</td>\n",
       "    </tr>\n",
       "    <tr>\n",
       "      <th>2</th>\n",
       "      <td>50000</td>\n",
       "      <td>2</td>\n",
       "      <td>2</td>\n",
       "      <td>1</td>\n",
       "      <td>37</td>\n",
       "      <td>0</td>\n",
       "      <td>0</td>\n",
       "      <td>0</td>\n",
       "      <td>0</td>\n",
       "      <td>0</td>\n",
       "      <td>...</td>\n",
       "      <td>28314.0</td>\n",
       "      <td>28959.0</td>\n",
       "      <td>29547.0</td>\n",
       "      <td>2000.0</td>\n",
       "      <td>2019.0</td>\n",
       "      <td>1200.0</td>\n",
       "      <td>1100.0</td>\n",
       "      <td>1069.0</td>\n",
       "      <td>1000.0</td>\n",
       "      <td>0</td>\n",
       "    </tr>\n",
       "    <tr>\n",
       "      <th>3</th>\n",
       "      <td>50000</td>\n",
       "      <td>1</td>\n",
       "      <td>2</td>\n",
       "      <td>1</td>\n",
       "      <td>57</td>\n",
       "      <td>-1</td>\n",
       "      <td>0</td>\n",
       "      <td>-1</td>\n",
       "      <td>0</td>\n",
       "      <td>0</td>\n",
       "      <td>...</td>\n",
       "      <td>20940.0</td>\n",
       "      <td>19146.0</td>\n",
       "      <td>19131.0</td>\n",
       "      <td>2000.0</td>\n",
       "      <td>36681.0</td>\n",
       "      <td>10000.0</td>\n",
       "      <td>9000.0</td>\n",
       "      <td>689.0</td>\n",
       "      <td>679.0</td>\n",
       "      <td>0</td>\n",
       "    </tr>\n",
       "    <tr>\n",
       "      <th>4</th>\n",
       "      <td>50000</td>\n",
       "      <td>1</td>\n",
       "      <td>1</td>\n",
       "      <td>2</td>\n",
       "      <td>37</td>\n",
       "      <td>0</td>\n",
       "      <td>0</td>\n",
       "      <td>0</td>\n",
       "      <td>0</td>\n",
       "      <td>0</td>\n",
       "      <td>...</td>\n",
       "      <td>19394.0</td>\n",
       "      <td>19619.0</td>\n",
       "      <td>20024.0</td>\n",
       "      <td>2500.0</td>\n",
       "      <td>1815.0</td>\n",
       "      <td>657.0</td>\n",
       "      <td>1000.0</td>\n",
       "      <td>1000.0</td>\n",
       "      <td>800.0</td>\n",
       "      <td>0</td>\n",
       "    </tr>\n",
       "  </tbody>\n",
       "</table>\n",
       "<p>5 rows × 24 columns</p>\n",
       "</div>"
      ],
      "text/plain": [
       "   LIMIT_BAL  SEX  EDUCATION  MARRIAGE  AGE  PAY_1  PAY_2  PAY_3  PAY_4  \\\n",
       "0      20000    2          2         1   24      2      2     -1     -1   \n",
       "1      90000    2          2         2   34      0      0      0      0   \n",
       "2      50000    2          2         1   37      0      0      0      0   \n",
       "3      50000    1          2         1   57     -1      0     -1      0   \n",
       "4      50000    1          1         2   37      0      0      0      0   \n",
       "\n",
       "   PAY_5  ...  BILL_AMT4  BILL_AMT5  BILL_AMT6  PAY_AMT1  PAY_AMT2  PAY_AMT3  \\\n",
       "0     -2  ...        0.0        0.0        0.0       0.0     689.0       0.0   \n",
       "1      0  ...    14331.0    14948.0    15549.0    1518.0    1500.0    1000.0   \n",
       "2      0  ...    28314.0    28959.0    29547.0    2000.0    2019.0    1200.0   \n",
       "3      0  ...    20940.0    19146.0    19131.0    2000.0   36681.0   10000.0   \n",
       "4      0  ...    19394.0    19619.0    20024.0    2500.0    1815.0     657.0   \n",
       "\n",
       "   PAY_AMT4  PAY_AMT5  PAY_AMT6  default  \n",
       "0       0.0       0.0       0.0        1  \n",
       "1    1000.0    1000.0    5000.0        0  \n",
       "2    1100.0    1069.0    1000.0        0  \n",
       "3    9000.0     689.0     679.0        0  \n",
       "4    1000.0    1000.0     800.0        0  \n",
       "\n",
       "[5 rows x 24 columns]"
      ]
     },
     "metadata": {},
     "output_type": "display_data"
    }
   ],
   "source": [
    "from pycaret.datasets import get_data\n",
    "dataset = get_data('credit', profile=False)"
   ]
  },
  {
   "cell_type": "code",
   "execution_count": 52,
   "metadata": {},
   "outputs": [
    {
     "data": {
      "text/plain": [
       "0    18694\n",
       "1     5306\n",
       "Name: default, dtype: int64"
      ]
     },
     "execution_count": 52,
     "metadata": {},
     "output_type": "execute_result"
    }
   ],
   "source": [
    "dataset.default.value_counts()"
   ]
  },
  {
   "cell_type": "markdown",
   "metadata": {
    "colab_type": "text",
    "id": "NBjUo6XM4EhH"
   },
   "source": [
    "Notice that when the `profile` parameter is to `True`, it displays a data profile for exploratory data analysis. Several pre-processing steps as discussed in section 2 above will be performed in this experiment based on this analysis. Let's summarize how the profile has helped make critical pre-processing choices with the data.\n",
    "\n",
    "- **Missing Values:** There are no missing values in the data. However, we still need imputers in our pipeline just in case the new unseen data has missing values (not applicable in this case). When you execute the `setup()` function, imputers are created and stored in the pipeline automatically. By default, it uses a mean imputer for numeric values and a constant imputer for categorical. This can be changed using the `numeric_imputation` and `categorical_imputation` parameters in `setup()`. <br/>\n",
    "<br/>\n",
    "- **Multicollinearity:** There are high correlations between `BILL_AMT1 ... BIL_AMT6` which introduces multicollinearity into the data. We will remove multi-collinearity by using the `remove_multicollinearity` and `multicollinearity_threshold` parameters in setup. <br/>\n",
    "<br/>\n",
    "- **Data Scale / Range:** Notice how the scale / range of numeric features are different. For example the `AGE` feature ranges from between 21 to 79 and `BILL_AMT1` ranges from -165,580 to 964,511. This may cause problems for algorithms that assume all features have variance within the same order. In this case, the order of magnitude for `BILL_AMT1` is widely different than `AGE`. We will deal with this problem by using the `normalize` parameter in setup. <br/>\n",
    "<br/>\n",
    "- **Distribution of Feature Space:** Numeric features are not normally distributed. Look at the distributions of `LIMIT_BAL`, `BILL_AMT1` and `PAY_AMT1 ... PAY_AMT6`. A few features are also highly skewed such as `PAY_AMT1`. This may cause problems for algorithms that assume normal or approximate normal distributions of the data. Examples include Logistic Regression, Linear Discriminant Analysis (LDA) and Naive Bayes.  We will deal with this problem by using the `transformation` parameter in setup. <br/>\n",
    "<br/>\n",
    "- **Group Features:** From the data description we know that certain features are related with each other such as `BILL_AMT1 ... BILL_AMT6` and `PAY_AMT1 ... PAY_AMT6`. We will use the `group_features` parameter in setup to extract statistical information from these features.  <br/>\n",
    "<br/>\n",
    "- **Bin Numeric Features:** When looking at the correlations between the numeric features and the target variable, we that `AGE` and `LIMIT_BAL` are weak. We will use the `bin_numeric_features` parameter to remove the noise from these variables which may help linear algorithms. <br/>"
   ]
  },
  {
   "cell_type": "code",
   "execution_count": 53,
   "metadata": {
    "colab": {},
    "colab_type": "code",
    "id": "HuMuCeN44EhL",
    "outputId": "9d6210f4-d8e2-45ac-d92a-1b939220c02a",
    "vscode": {
     "languageId": "python"
    }
   },
   "outputs": [
    {
     "data": {
      "text/plain": [
       "(24000, 24)"
      ]
     },
     "execution_count": 53,
     "metadata": {},
     "output_type": "execute_result"
    }
   ],
   "source": [
    "#check the shape of data\n",
    "dataset.shape"
   ]
  },
  {
   "cell_type": "markdown",
   "metadata": {
    "colab_type": "text",
    "id": "WHyZrNCX4EhZ"
   },
   "source": [
    "In order to demonstrate the `predict_model()` function on unseen data, a sample of 1200 rows has been withheld from the original dataset to be used for predictions. This should not be confused with a train/test split as this particular split is performed to simulate a real life scenario. Another way to think about this is that these 1200 records were not available at the time when the machine learning experiment was performed."
   ]
  },
  {
   "cell_type": "code",
   "execution_count": 54,
   "metadata": {
    "colab": {},
    "colab_type": "code",
    "id": "yYoi1mdi4Ehk",
    "outputId": "bd125cbe-1ea7-4f25-af39-e4d10e53e8ac",
    "vscode": {
     "languageId": "python"
    }
   },
   "outputs": [
    {
     "name": "stdout",
     "output_type": "stream",
     "text": [
      "Data for Modeling: (22800, 24)\n",
      "Unseen Data For Predictions (1200, 24)\n"
     ]
    }
   ],
   "source": [
    "data = dataset.sample(frac=0.95, random_state=786)\n",
    "data_unseen = dataset.drop(data.index)\n",
    "\n",
    "data.reset_index(inplace=True, drop=True)\n",
    "data_unseen.reset_index(inplace=True, drop=True)\n",
    "\n",
    "print('Data for Modeling: ' + str(data.shape))\n",
    "print('Unseen Data For Predictions ' + str(data_unseen.shape))"
   ]
  },
  {
   "cell_type": "raw",
   "metadata": {
    "vscode": {
     "languageId": "python"
    }
   },
   "source": [
    "zeros = data[data.default==0].sample(frac=0.3)\n",
    "data = data[data.default==1]\n",
    "data = pd.concat([data,zeros])"
   ]
  },
  {
   "cell_type": "code",
   "execution_count": 55,
   "metadata": {
    "vscode": {
     "languageId": "python"
    }
   },
   "outputs": [],
   "source": [
    "from pycaret.classification import *"
   ]
  },
  {
   "cell_type": "markdown",
   "metadata": {
    "colab_type": "text",
    "id": "GlddJmh74Eh4"
   },
   "source": [
    "## Problem Definition"
   ]
  },
  {
   "cell_type": "markdown",
   "metadata": {},
   "source": [
    "```python\n",
    "setup(\n",
    "    \n",
    "    # Basic options\n",
    "    data = None,\n",
    "    target = None,\n",
    "    train_size = 0.7,\n",
    "    test_data = None,\n",
    "    \n",
    "    preprocess = True,\n",
    "    \n",
    "    # Variable type definition\n",
    "    categorical_features = None,\n",
    "    numeric_features = None,\n",
    "    date_features = None,\n",
    "    ignore_features = None,\n",
    "    \n",
    "    # Dealing with missing values\n",
    "    imputation_type = 'simple',\n",
    "    iterative_imputation_iters = 5,\n",
    "    categorical_imputation = 'constant',\n",
    "    categorical_iterative_imputer = 'lightgbm',\n",
    "    ordinal_features = None,\n",
    "    high_cardinality_features = None,\n",
    "    high_cardinality_method = 'frequency',\n",
    "    numeric_imputation = 'mean',\n",
    "    numeric_iterative_imputer = 'lightgbm',\n",
    "    \n",
    "    # Feature normalization\n",
    "    normalize = False,\n",
    "    normalize_method = 'zscore',\n",
    "    \n",
    "    # Apply transformations to variables\n",
    "    transformation = False,\n",
    "    transformation_method = 'yeo-johnson',\n",
    "    handle_unknown_categorical = True,\n",
    "    unknown_categorical_method = 'least_frequent',\n",
    "    \n",
    "    # Dimensioanlity reduction\n",
    "    pca = False,\n",
    "    pca_method = 'linear',\n",
    "    pca_components = None,\n",
    "    ignore_low_variance = False,\n",
    "    combine_rare_levels = False,\n",
    "    rare_level_threshold = 0.1,\n",
    "    bin_numeric_features = ['LIMIT_BAL', 'AGE'],\n",
    "    \n",
    "    # Outlier removal\n",
    "    remove_outliers = False,\n",
    "    outliers_threshold = 0.05,\n",
    "    \n",
    "    # Dealing with collinearity \n",
    "    remove_multicollinearity = False,\n",
    "    multicollinearity_threshold = 0.9,\n",
    "    remove_perfect_collinearity = True,\n",
    "    create_clusters = False,\n",
    "    cluster_iter = 20,\n",
    "    \n",
    "    # Derived features generation\n",
    "    polynomial_features = False,\n",
    "    polynomial_degree = 2,\n",
    "    trigonometry_features = False,\n",
    "    polynomial_threshold = 0.1,\n",
    "    group_features = None,\n",
    "    group_names = None,\n",
    "    \n",
    "    # Feature selection\n",
    "    feature_selection = False,\n",
    "    feature_selection_threshold = 0.8,\n",
    "    feature_selection_method = 'classic',\n",
    "    feature_interaction = False,\n",
    "    feature_ratio = False,\n",
    "    interaction_threshold = 0.01,\n",
    "    \n",
    "    # Class unbalance\n",
    "    fix_imbalance = False,\n",
    "    fix_imbalance_method = None,\n",
    "    \n",
    "    # Cross-validation settings\n",
    "    data_split_shuffle = True,\n",
    "    data_split_stratify = False,\n",
    "    fold_strategy = 'stratifiedkfold',\n",
    "    fold = 10,\n",
    "    fold_shuffle = False,\n",
    "    fold_groups = None,\n",
    "    \n",
    "    # Paralellization options\n",
    "    n_jobs = - 1,\n",
    "    use_gpu = False,\n",
    "    \n",
    "    # Here you can include your custom sklearn Pipeline\n",
    "    custom_pipeline = None,\n",
    "    \n",
    "    # MLFlow experiments registry\n",
    "    log_experiment = False,\n",
    "    experiment_name = None,\n",
    "    log_plots = False,\n",
    "    log_profile = False,\n",
    "    log_data = False,\n",
    "    \n",
    "    # Logging options\n",
    "    silent = False,\n",
    "    verbose = True,\n",
    "    \n",
    "    # Do a profiling with Pandas Profiling\n",
    "    profile = False,\n",
    "    profile_kwargs = None,\n",
    "    \n",
    "    html = True,\n",
    "    session_id = None\n",
    ")\n",
    "```"
   ]
  },
  {
   "cell_type": "code",
   "execution_count": 56,
   "metadata": {
    "vscode": {
     "languageId": "python"
    }
   },
   "outputs": [
    {
     "data": {
      "text/html": [
       "<style type=\"text/css\">\n",
       "#T_f96cc_row19_col1, #T_f96cc_row29_col1, #T_f96cc_row37_col1, #T_f96cc_row39_col1, #T_f96cc_row42_col1, #T_f96cc_row44_col1, #T_f96cc_row51_col1, #T_f96cc_row52_col1 {\n",
       "  background-color: lightgreen;\n",
       "}\n",
       "</style>\n",
       "<table id=\"T_f96cc\">\n",
       "  <thead>\n",
       "    <tr>\n",
       "      <th class=\"blank level0\" >&nbsp;</th>\n",
       "      <th id=\"T_f96cc_level0_col0\" class=\"col_heading level0 col0\" >Description</th>\n",
       "      <th id=\"T_f96cc_level0_col1\" class=\"col_heading level0 col1\" >Value</th>\n",
       "    </tr>\n",
       "  </thead>\n",
       "  <tbody>\n",
       "    <tr>\n",
       "      <th id=\"T_f96cc_level0_row0\" class=\"row_heading level0 row0\" >0</th>\n",
       "      <td id=\"T_f96cc_row0_col0\" class=\"data row0 col0\" >session_id</td>\n",
       "      <td id=\"T_f96cc_row0_col1\" class=\"data row0 col1\" >1633</td>\n",
       "    </tr>\n",
       "    <tr>\n",
       "      <th id=\"T_f96cc_level0_row1\" class=\"row_heading level0 row1\" >1</th>\n",
       "      <td id=\"T_f96cc_row1_col0\" class=\"data row1 col0\" >Target</td>\n",
       "      <td id=\"T_f96cc_row1_col1\" class=\"data row1 col1\" >default</td>\n",
       "    </tr>\n",
       "    <tr>\n",
       "      <th id=\"T_f96cc_level0_row2\" class=\"row_heading level0 row2\" >2</th>\n",
       "      <td id=\"T_f96cc_row2_col0\" class=\"data row2 col0\" >Target Type</td>\n",
       "      <td id=\"T_f96cc_row2_col1\" class=\"data row2 col1\" >Binary</td>\n",
       "    </tr>\n",
       "    <tr>\n",
       "      <th id=\"T_f96cc_level0_row3\" class=\"row_heading level0 row3\" >3</th>\n",
       "      <td id=\"T_f96cc_row3_col0\" class=\"data row3 col0\" >Label Encoded</td>\n",
       "      <td id=\"T_f96cc_row3_col1\" class=\"data row3 col1\" >None</td>\n",
       "    </tr>\n",
       "    <tr>\n",
       "      <th id=\"T_f96cc_level0_row4\" class=\"row_heading level0 row4\" >4</th>\n",
       "      <td id=\"T_f96cc_row4_col0\" class=\"data row4 col0\" >Original Data</td>\n",
       "      <td id=\"T_f96cc_row4_col1\" class=\"data row4 col1\" >(22800, 24)</td>\n",
       "    </tr>\n",
       "    <tr>\n",
       "      <th id=\"T_f96cc_level0_row5\" class=\"row_heading level0 row5\" >5</th>\n",
       "      <td id=\"T_f96cc_row5_col0\" class=\"data row5 col0\" >Missing Values</td>\n",
       "      <td id=\"T_f96cc_row5_col1\" class=\"data row5 col1\" >False</td>\n",
       "    </tr>\n",
       "    <tr>\n",
       "      <th id=\"T_f96cc_level0_row6\" class=\"row_heading level0 row6\" >6</th>\n",
       "      <td id=\"T_f96cc_row6_col0\" class=\"data row6 col0\" >Numeric Features</td>\n",
       "      <td id=\"T_f96cc_row6_col1\" class=\"data row6 col1\" >14</td>\n",
       "    </tr>\n",
       "    <tr>\n",
       "      <th id=\"T_f96cc_level0_row7\" class=\"row_heading level0 row7\" >7</th>\n",
       "      <td id=\"T_f96cc_row7_col0\" class=\"data row7 col0\" >Categorical Features</td>\n",
       "      <td id=\"T_f96cc_row7_col1\" class=\"data row7 col1\" >9</td>\n",
       "    </tr>\n",
       "    <tr>\n",
       "      <th id=\"T_f96cc_level0_row8\" class=\"row_heading level0 row8\" >8</th>\n",
       "      <td id=\"T_f96cc_row8_col0\" class=\"data row8 col0\" >Ordinal Features</td>\n",
       "      <td id=\"T_f96cc_row8_col1\" class=\"data row8 col1\" >False</td>\n",
       "    </tr>\n",
       "    <tr>\n",
       "      <th id=\"T_f96cc_level0_row9\" class=\"row_heading level0 row9\" >9</th>\n",
       "      <td id=\"T_f96cc_row9_col0\" class=\"data row9 col0\" >High Cardinality Features</td>\n",
       "      <td id=\"T_f96cc_row9_col1\" class=\"data row9 col1\" >False</td>\n",
       "    </tr>\n",
       "    <tr>\n",
       "      <th id=\"T_f96cc_level0_row10\" class=\"row_heading level0 row10\" >10</th>\n",
       "      <td id=\"T_f96cc_row10_col0\" class=\"data row10 col0\" >High Cardinality Method</td>\n",
       "      <td id=\"T_f96cc_row10_col1\" class=\"data row10 col1\" >None</td>\n",
       "    </tr>\n",
       "    <tr>\n",
       "      <th id=\"T_f96cc_level0_row11\" class=\"row_heading level0 row11\" >11</th>\n",
       "      <td id=\"T_f96cc_row11_col0\" class=\"data row11 col0\" >Transformed Train Set</td>\n",
       "      <td id=\"T_f96cc_row11_col1\" class=\"data row11 col1\" >(15959, 76)</td>\n",
       "    </tr>\n",
       "    <tr>\n",
       "      <th id=\"T_f96cc_level0_row12\" class=\"row_heading level0 row12\" >12</th>\n",
       "      <td id=\"T_f96cc_row12_col0\" class=\"data row12 col0\" >Transformed Test Set</td>\n",
       "      <td id=\"T_f96cc_row12_col1\" class=\"data row12 col1\" >(6841, 76)</td>\n",
       "    </tr>\n",
       "    <tr>\n",
       "      <th id=\"T_f96cc_level0_row13\" class=\"row_heading level0 row13\" >13</th>\n",
       "      <td id=\"T_f96cc_row13_col0\" class=\"data row13 col0\" >Shuffle Train-Test</td>\n",
       "      <td id=\"T_f96cc_row13_col1\" class=\"data row13 col1\" >True</td>\n",
       "    </tr>\n",
       "    <tr>\n",
       "      <th id=\"T_f96cc_level0_row14\" class=\"row_heading level0 row14\" >14</th>\n",
       "      <td id=\"T_f96cc_row14_col0\" class=\"data row14 col0\" >Stratify Train-Test</td>\n",
       "      <td id=\"T_f96cc_row14_col1\" class=\"data row14 col1\" >False</td>\n",
       "    </tr>\n",
       "    <tr>\n",
       "      <th id=\"T_f96cc_level0_row15\" class=\"row_heading level0 row15\" >15</th>\n",
       "      <td id=\"T_f96cc_row15_col0\" class=\"data row15 col0\" >Fold Generator</td>\n",
       "      <td id=\"T_f96cc_row15_col1\" class=\"data row15 col1\" >StratifiedKFold</td>\n",
       "    </tr>\n",
       "    <tr>\n",
       "      <th id=\"T_f96cc_level0_row16\" class=\"row_heading level0 row16\" >16</th>\n",
       "      <td id=\"T_f96cc_row16_col0\" class=\"data row16 col0\" >Fold Number</td>\n",
       "      <td id=\"T_f96cc_row16_col1\" class=\"data row16 col1\" >10</td>\n",
       "    </tr>\n",
       "    <tr>\n",
       "      <th id=\"T_f96cc_level0_row17\" class=\"row_heading level0 row17\" >17</th>\n",
       "      <td id=\"T_f96cc_row17_col0\" class=\"data row17 col0\" >CPU Jobs</td>\n",
       "      <td id=\"T_f96cc_row17_col1\" class=\"data row17 col1\" >-1</td>\n",
       "    </tr>\n",
       "    <tr>\n",
       "      <th id=\"T_f96cc_level0_row18\" class=\"row_heading level0 row18\" >18</th>\n",
       "      <td id=\"T_f96cc_row18_col0\" class=\"data row18 col0\" >Use GPU</td>\n",
       "      <td id=\"T_f96cc_row18_col1\" class=\"data row18 col1\" >False</td>\n",
       "    </tr>\n",
       "    <tr>\n",
       "      <th id=\"T_f96cc_level0_row19\" class=\"row_heading level0 row19\" >19</th>\n",
       "      <td id=\"T_f96cc_row19_col0\" class=\"data row19 col0\" >Log Experiment</td>\n",
       "      <td id=\"T_f96cc_row19_col1\" class=\"data row19 col1\" >True</td>\n",
       "    </tr>\n",
       "    <tr>\n",
       "      <th id=\"T_f96cc_level0_row20\" class=\"row_heading level0 row20\" >20</th>\n",
       "      <td id=\"T_f96cc_row20_col0\" class=\"data row20 col0\" >Experiment Name</td>\n",
       "      <td id=\"T_f96cc_row20_col1\" class=\"data row20 col1\" >credit1</td>\n",
       "    </tr>\n",
       "    <tr>\n",
       "      <th id=\"T_f96cc_level0_row21\" class=\"row_heading level0 row21\" >21</th>\n",
       "      <td id=\"T_f96cc_row21_col0\" class=\"data row21 col0\" >USI</td>\n",
       "      <td id=\"T_f96cc_row21_col1\" class=\"data row21 col1\" >b049</td>\n",
       "    </tr>\n",
       "    <tr>\n",
       "      <th id=\"T_f96cc_level0_row22\" class=\"row_heading level0 row22\" >22</th>\n",
       "      <td id=\"T_f96cc_row22_col0\" class=\"data row22 col0\" >Imputation Type</td>\n",
       "      <td id=\"T_f96cc_row22_col1\" class=\"data row22 col1\" >simple</td>\n",
       "    </tr>\n",
       "    <tr>\n",
       "      <th id=\"T_f96cc_level0_row23\" class=\"row_heading level0 row23\" >23</th>\n",
       "      <td id=\"T_f96cc_row23_col0\" class=\"data row23 col0\" >Iterative Imputation Iteration</td>\n",
       "      <td id=\"T_f96cc_row23_col1\" class=\"data row23 col1\" >None</td>\n",
       "    </tr>\n",
       "    <tr>\n",
       "      <th id=\"T_f96cc_level0_row24\" class=\"row_heading level0 row24\" >24</th>\n",
       "      <td id=\"T_f96cc_row24_col0\" class=\"data row24 col0\" >Numeric Imputer</td>\n",
       "      <td id=\"T_f96cc_row24_col1\" class=\"data row24 col1\" >mean</td>\n",
       "    </tr>\n",
       "    <tr>\n",
       "      <th id=\"T_f96cc_level0_row25\" class=\"row_heading level0 row25\" >25</th>\n",
       "      <td id=\"T_f96cc_row25_col0\" class=\"data row25 col0\" >Iterative Imputation Numeric Model</td>\n",
       "      <td id=\"T_f96cc_row25_col1\" class=\"data row25 col1\" >None</td>\n",
       "    </tr>\n",
       "    <tr>\n",
       "      <th id=\"T_f96cc_level0_row26\" class=\"row_heading level0 row26\" >26</th>\n",
       "      <td id=\"T_f96cc_row26_col0\" class=\"data row26 col0\" >Categorical Imputer</td>\n",
       "      <td id=\"T_f96cc_row26_col1\" class=\"data row26 col1\" >constant</td>\n",
       "    </tr>\n",
       "    <tr>\n",
       "      <th id=\"T_f96cc_level0_row27\" class=\"row_heading level0 row27\" >27</th>\n",
       "      <td id=\"T_f96cc_row27_col0\" class=\"data row27 col0\" >Iterative Imputation Categorical Model</td>\n",
       "      <td id=\"T_f96cc_row27_col1\" class=\"data row27 col1\" >None</td>\n",
       "    </tr>\n",
       "    <tr>\n",
       "      <th id=\"T_f96cc_level0_row28\" class=\"row_heading level0 row28\" >28</th>\n",
       "      <td id=\"T_f96cc_row28_col0\" class=\"data row28 col0\" >Unknown Categoricals Handling</td>\n",
       "      <td id=\"T_f96cc_row28_col1\" class=\"data row28 col1\" >least_frequent</td>\n",
       "    </tr>\n",
       "    <tr>\n",
       "      <th id=\"T_f96cc_level0_row29\" class=\"row_heading level0 row29\" >29</th>\n",
       "      <td id=\"T_f96cc_row29_col0\" class=\"data row29 col0\" >Normalize</td>\n",
       "      <td id=\"T_f96cc_row29_col1\" class=\"data row29 col1\" >True</td>\n",
       "    </tr>\n",
       "    <tr>\n",
       "      <th id=\"T_f96cc_level0_row30\" class=\"row_heading level0 row30\" >30</th>\n",
       "      <td id=\"T_f96cc_row30_col0\" class=\"data row30 col0\" >Normalize Method</td>\n",
       "      <td id=\"T_f96cc_row30_col1\" class=\"data row30 col1\" >zscore</td>\n",
       "    </tr>\n",
       "    <tr>\n",
       "      <th id=\"T_f96cc_level0_row31\" class=\"row_heading level0 row31\" >31</th>\n",
       "      <td id=\"T_f96cc_row31_col0\" class=\"data row31 col0\" >Transformation</td>\n",
       "      <td id=\"T_f96cc_row31_col1\" class=\"data row31 col1\" >False</td>\n",
       "    </tr>\n",
       "    <tr>\n",
       "      <th id=\"T_f96cc_level0_row32\" class=\"row_heading level0 row32\" >32</th>\n",
       "      <td id=\"T_f96cc_row32_col0\" class=\"data row32 col0\" >Transformation Method</td>\n",
       "      <td id=\"T_f96cc_row32_col1\" class=\"data row32 col1\" >None</td>\n",
       "    </tr>\n",
       "    <tr>\n",
       "      <th id=\"T_f96cc_level0_row33\" class=\"row_heading level0 row33\" >33</th>\n",
       "      <td id=\"T_f96cc_row33_col0\" class=\"data row33 col0\" >PCA</td>\n",
       "      <td id=\"T_f96cc_row33_col1\" class=\"data row33 col1\" >False</td>\n",
       "    </tr>\n",
       "    <tr>\n",
       "      <th id=\"T_f96cc_level0_row34\" class=\"row_heading level0 row34\" >34</th>\n",
       "      <td id=\"T_f96cc_row34_col0\" class=\"data row34 col0\" >PCA Method</td>\n",
       "      <td id=\"T_f96cc_row34_col1\" class=\"data row34 col1\" >None</td>\n",
       "    </tr>\n",
       "    <tr>\n",
       "      <th id=\"T_f96cc_level0_row35\" class=\"row_heading level0 row35\" >35</th>\n",
       "      <td id=\"T_f96cc_row35_col0\" class=\"data row35 col0\" >PCA Components</td>\n",
       "      <td id=\"T_f96cc_row35_col1\" class=\"data row35 col1\" >None</td>\n",
       "    </tr>\n",
       "    <tr>\n",
       "      <th id=\"T_f96cc_level0_row36\" class=\"row_heading level0 row36\" >36</th>\n",
       "      <td id=\"T_f96cc_row36_col0\" class=\"data row36 col0\" >Ignore Low Variance</td>\n",
       "      <td id=\"T_f96cc_row36_col1\" class=\"data row36 col1\" >False</td>\n",
       "    </tr>\n",
       "    <tr>\n",
       "      <th id=\"T_f96cc_level0_row37\" class=\"row_heading level0 row37\" >37</th>\n",
       "      <td id=\"T_f96cc_row37_col0\" class=\"data row37 col0\" >Combine Rare Levels</td>\n",
       "      <td id=\"T_f96cc_row37_col1\" class=\"data row37 col1\" >True</td>\n",
       "    </tr>\n",
       "    <tr>\n",
       "      <th id=\"T_f96cc_level0_row38\" class=\"row_heading level0 row38\" >38</th>\n",
       "      <td id=\"T_f96cc_row38_col0\" class=\"data row38 col0\" >Rare Level Threshold</td>\n",
       "      <td id=\"T_f96cc_row38_col1\" class=\"data row38 col1\" >0.100000</td>\n",
       "    </tr>\n",
       "    <tr>\n",
       "      <th id=\"T_f96cc_level0_row39\" class=\"row_heading level0 row39\" >39</th>\n",
       "      <td id=\"T_f96cc_row39_col0\" class=\"data row39 col0\" >Numeric Binning</td>\n",
       "      <td id=\"T_f96cc_row39_col1\" class=\"data row39 col1\" >True</td>\n",
       "    </tr>\n",
       "    <tr>\n",
       "      <th id=\"T_f96cc_level0_row40\" class=\"row_heading level0 row40\" >40</th>\n",
       "      <td id=\"T_f96cc_row40_col0\" class=\"data row40 col0\" >Remove Outliers</td>\n",
       "      <td id=\"T_f96cc_row40_col1\" class=\"data row40 col1\" >False</td>\n",
       "    </tr>\n",
       "    <tr>\n",
       "      <th id=\"T_f96cc_level0_row41\" class=\"row_heading level0 row41\" >41</th>\n",
       "      <td id=\"T_f96cc_row41_col0\" class=\"data row41 col0\" >Outliers Threshold</td>\n",
       "      <td id=\"T_f96cc_row41_col1\" class=\"data row41 col1\" >None</td>\n",
       "    </tr>\n",
       "    <tr>\n",
       "      <th id=\"T_f96cc_level0_row42\" class=\"row_heading level0 row42\" >42</th>\n",
       "      <td id=\"T_f96cc_row42_col0\" class=\"data row42 col0\" >Remove Multicollinearity</td>\n",
       "      <td id=\"T_f96cc_row42_col1\" class=\"data row42 col1\" >True</td>\n",
       "    </tr>\n",
       "    <tr>\n",
       "      <th id=\"T_f96cc_level0_row43\" class=\"row_heading level0 row43\" >43</th>\n",
       "      <td id=\"T_f96cc_row43_col0\" class=\"data row43 col0\" >Multicollinearity Threshold</td>\n",
       "      <td id=\"T_f96cc_row43_col1\" class=\"data row43 col1\" >0.700000</td>\n",
       "    </tr>\n",
       "    <tr>\n",
       "      <th id=\"T_f96cc_level0_row44\" class=\"row_heading level0 row44\" >44</th>\n",
       "      <td id=\"T_f96cc_row44_col0\" class=\"data row44 col0\" >Remove Perfect Collinearity</td>\n",
       "      <td id=\"T_f96cc_row44_col1\" class=\"data row44 col1\" >True</td>\n",
       "    </tr>\n",
       "    <tr>\n",
       "      <th id=\"T_f96cc_level0_row45\" class=\"row_heading level0 row45\" >45</th>\n",
       "      <td id=\"T_f96cc_row45_col0\" class=\"data row45 col0\" >Clustering</td>\n",
       "      <td id=\"T_f96cc_row45_col1\" class=\"data row45 col1\" >False</td>\n",
       "    </tr>\n",
       "    <tr>\n",
       "      <th id=\"T_f96cc_level0_row46\" class=\"row_heading level0 row46\" >46</th>\n",
       "      <td id=\"T_f96cc_row46_col0\" class=\"data row46 col0\" >Clustering Iteration</td>\n",
       "      <td id=\"T_f96cc_row46_col1\" class=\"data row46 col1\" >None</td>\n",
       "    </tr>\n",
       "    <tr>\n",
       "      <th id=\"T_f96cc_level0_row47\" class=\"row_heading level0 row47\" >47</th>\n",
       "      <td id=\"T_f96cc_row47_col0\" class=\"data row47 col0\" >Polynomial Features</td>\n",
       "      <td id=\"T_f96cc_row47_col1\" class=\"data row47 col1\" >False</td>\n",
       "    </tr>\n",
       "    <tr>\n",
       "      <th id=\"T_f96cc_level0_row48\" class=\"row_heading level0 row48\" >48</th>\n",
       "      <td id=\"T_f96cc_row48_col0\" class=\"data row48 col0\" >Polynomial Degree</td>\n",
       "      <td id=\"T_f96cc_row48_col1\" class=\"data row48 col1\" >None</td>\n",
       "    </tr>\n",
       "    <tr>\n",
       "      <th id=\"T_f96cc_level0_row49\" class=\"row_heading level0 row49\" >49</th>\n",
       "      <td id=\"T_f96cc_row49_col0\" class=\"data row49 col0\" >Trignometry Features</td>\n",
       "      <td id=\"T_f96cc_row49_col1\" class=\"data row49 col1\" >False</td>\n",
       "    </tr>\n",
       "    <tr>\n",
       "      <th id=\"T_f96cc_level0_row50\" class=\"row_heading level0 row50\" >50</th>\n",
       "      <td id=\"T_f96cc_row50_col0\" class=\"data row50 col0\" >Polynomial Threshold</td>\n",
       "      <td id=\"T_f96cc_row50_col1\" class=\"data row50 col1\" >None</td>\n",
       "    </tr>\n",
       "    <tr>\n",
       "      <th id=\"T_f96cc_level0_row51\" class=\"row_heading level0 row51\" >51</th>\n",
       "      <td id=\"T_f96cc_row51_col0\" class=\"data row51 col0\" >Group Features</td>\n",
       "      <td id=\"T_f96cc_row51_col1\" class=\"data row51 col1\" >True</td>\n",
       "    </tr>\n",
       "    <tr>\n",
       "      <th id=\"T_f96cc_level0_row52\" class=\"row_heading level0 row52\" >52</th>\n",
       "      <td id=\"T_f96cc_row52_col0\" class=\"data row52 col0\" >Feature Selection</td>\n",
       "      <td id=\"T_f96cc_row52_col1\" class=\"data row52 col1\" >True</td>\n",
       "    </tr>\n",
       "    <tr>\n",
       "      <th id=\"T_f96cc_level0_row53\" class=\"row_heading level0 row53\" >53</th>\n",
       "      <td id=\"T_f96cc_row53_col0\" class=\"data row53 col0\" >Feature Selection Method</td>\n",
       "      <td id=\"T_f96cc_row53_col1\" class=\"data row53 col1\" >classic</td>\n",
       "    </tr>\n",
       "    <tr>\n",
       "      <th id=\"T_f96cc_level0_row54\" class=\"row_heading level0 row54\" >54</th>\n",
       "      <td id=\"T_f96cc_row54_col0\" class=\"data row54 col0\" >Features Selection Threshold</td>\n",
       "      <td id=\"T_f96cc_row54_col1\" class=\"data row54 col1\" >0.800000</td>\n",
       "    </tr>\n",
       "    <tr>\n",
       "      <th id=\"T_f96cc_level0_row55\" class=\"row_heading level0 row55\" >55</th>\n",
       "      <td id=\"T_f96cc_row55_col0\" class=\"data row55 col0\" >Feature Interaction</td>\n",
       "      <td id=\"T_f96cc_row55_col1\" class=\"data row55 col1\" >False</td>\n",
       "    </tr>\n",
       "    <tr>\n",
       "      <th id=\"T_f96cc_level0_row56\" class=\"row_heading level0 row56\" >56</th>\n",
       "      <td id=\"T_f96cc_row56_col0\" class=\"data row56 col0\" >Feature Ratio</td>\n",
       "      <td id=\"T_f96cc_row56_col1\" class=\"data row56 col1\" >False</td>\n",
       "    </tr>\n",
       "    <tr>\n",
       "      <th id=\"T_f96cc_level0_row57\" class=\"row_heading level0 row57\" >57</th>\n",
       "      <td id=\"T_f96cc_row57_col0\" class=\"data row57 col0\" >Interaction Threshold</td>\n",
       "      <td id=\"T_f96cc_row57_col1\" class=\"data row57 col1\" >None</td>\n",
       "    </tr>\n",
       "    <tr>\n",
       "      <th id=\"T_f96cc_level0_row58\" class=\"row_heading level0 row58\" >58</th>\n",
       "      <td id=\"T_f96cc_row58_col0\" class=\"data row58 col0\" >Fix Imbalance</td>\n",
       "      <td id=\"T_f96cc_row58_col1\" class=\"data row58 col1\" >False</td>\n",
       "    </tr>\n",
       "    <tr>\n",
       "      <th id=\"T_f96cc_level0_row59\" class=\"row_heading level0 row59\" >59</th>\n",
       "      <td id=\"T_f96cc_row59_col0\" class=\"data row59 col0\" >Fix Imbalance Method</td>\n",
       "      <td id=\"T_f96cc_row59_col1\" class=\"data row59 col1\" >SMOTE</td>\n",
       "    </tr>\n",
       "  </tbody>\n",
       "</table>\n"
      ],
      "text/plain": [
       "<pandas.io.formats.style.Styler at 0x7fd3d04f2f10>"
      ]
     },
     "metadata": {},
     "output_type": "display_data"
    }
   ],
   "source": [
    "model = setup(\n",
    "    \n",
    "    # Basic options\n",
    "    data = data,\n",
    "    target = \"default\",\n",
    "    train_size = 0.7,\n",
    "    \n",
    "    preprocess = True,\n",
    "\n",
    "    # Feature normalization\n",
    "    normalize = True,\n",
    "    normalize_method = 'zscore',\n",
    "    \n",
    "    # Dealing with collinearity\n",
    "    remove_multicollinearity = True,\n",
    "    multicollinearity_threshold = 0.7,\n",
    "    remove_perfect_collinearity = True,\n",
    "    \n",
    "    # Feature engineering\n",
    "    group_features = [\n",
    "        ['BILL_AMT1', 'BILL_AMT2','BILL_AMT3', 'BILL_AMT4', 'BILL_AMT5', 'BILL_AMT6'],\n",
    "        ['PAY_AMT1','PAY_AMT2', 'PAY_AMT3', 'PAY_AMT4', 'PAY_AMT5', 'PAY_AMT6']\n",
    "    ],\n",
    "    \n",
    "    bin_numeric_features = [\"AGE\"],\n",
    "    combine_rare_levels = True,\n",
    "    \n",
    "    # Feature selection\n",
    "    feature_selection = True,\n",
    "    \n",
    "    # Paralellization options\n",
    "    n_jobs = - 1,\n",
    "    use_gpu = False,\n",
    "\n",
    "    # MLFlow experiments registry\n",
    "    log_experiment = True,\n",
    "    experiment_name = \"credit1\",\n",
    ")"
   ]
  },
  {
   "cell_type": "markdown",
   "metadata": {
    "colab_type": "text",
    "id": "B4o2brP84Eih"
   },
   "source": [
    "## Compare models"
   ]
  },
  {
   "cell_type": "markdown",
   "metadata": {},
   "source": [
    "```python\n",
    "compare_models(\n",
    "    include = None,\n",
    "    exclude = None,\n",
    "    fold = None,\n",
    "    round = 4,\n",
    "    cross_validation = True,\n",
    "    sort = 'Accuracy',\n",
    "    n_select = 1,\n",
    "    budget_time = None,\n",
    "    turbo = True,\n",
    "    errors = 'ignore',\n",
    "    fit_kwargs = None,\n",
    "    groups = None,\n",
    "    probability_threshold = None,\n",
    "    verbose = True\n",
    ")\n",
    "```"
   ]
  },
  {
   "cell_type": "code",
   "execution_count": 57,
   "metadata": {
    "colab": {},
    "colab_type": "code",
    "id": "ARFsODlw4Eiq",
    "outputId": "09c08c76-9099-425b-97eb-9bf5044805da",
    "tags": [],
    "vscode": {
     "languageId": "python"
    }
   },
   "outputs": [
    {
     "data": {
      "text/html": [
       "<style type=\"text/css\">\n",
       "#T_5e43f th {\n",
       "  text-align: left;\n",
       "}\n",
       "#T_5e43f_row0_col0, #T_5e43f_row0_col1, #T_5e43f_row0_col3, #T_5e43f_row0_col4, #T_5e43f_row0_col5, #T_5e43f_row0_col6, #T_5e43f_row0_col7, #T_5e43f_row1_col0, #T_5e43f_row1_col1, #T_5e43f_row1_col2, #T_5e43f_row1_col3, #T_5e43f_row1_col4, #T_5e43f_row1_col5, #T_5e43f_row1_col6, #T_5e43f_row1_col7, #T_5e43f_row2_col0, #T_5e43f_row2_col2, #T_5e43f_row2_col3, #T_5e43f_row2_col5, #T_5e43f_row2_col6, #T_5e43f_row2_col7, #T_5e43f_row3_col0, #T_5e43f_row3_col1, #T_5e43f_row3_col2, #T_5e43f_row3_col4, #T_5e43f_row4_col0, #T_5e43f_row4_col1, #T_5e43f_row4_col2, #T_5e43f_row4_col3, #T_5e43f_row4_col4, #T_5e43f_row4_col5, #T_5e43f_row4_col6, #T_5e43f_row4_col7 {\n",
       "  text-align: left;\n",
       "}\n",
       "#T_5e43f_row0_col2, #T_5e43f_row2_col1, #T_5e43f_row2_col4, #T_5e43f_row3_col3, #T_5e43f_row3_col5, #T_5e43f_row3_col6, #T_5e43f_row3_col7 {\n",
       "  text-align: left;\n",
       "  background-color: yellow;\n",
       "}\n",
       "#T_5e43f_row0_col8, #T_5e43f_row1_col8, #T_5e43f_row3_col8, #T_5e43f_row4_col8 {\n",
       "  text-align: left;\n",
       "  background-color: lightgrey;\n",
       "}\n",
       "#T_5e43f_row2_col8 {\n",
       "  text-align: left;\n",
       "  background-color: yellow;\n",
       "  background-color: lightgrey;\n",
       "}\n",
       "</style>\n",
       "<table id=\"T_5e43f\">\n",
       "  <thead>\n",
       "    <tr>\n",
       "      <th class=\"blank level0\" >&nbsp;</th>\n",
       "      <th id=\"T_5e43f_level0_col0\" class=\"col_heading level0 col0\" >Model</th>\n",
       "      <th id=\"T_5e43f_level0_col1\" class=\"col_heading level0 col1\" >Accuracy</th>\n",
       "      <th id=\"T_5e43f_level0_col2\" class=\"col_heading level0 col2\" >AUC</th>\n",
       "      <th id=\"T_5e43f_level0_col3\" class=\"col_heading level0 col3\" >Recall</th>\n",
       "      <th id=\"T_5e43f_level0_col4\" class=\"col_heading level0 col4\" >Prec.</th>\n",
       "      <th id=\"T_5e43f_level0_col5\" class=\"col_heading level0 col5\" >F1</th>\n",
       "      <th id=\"T_5e43f_level0_col6\" class=\"col_heading level0 col6\" >Kappa</th>\n",
       "      <th id=\"T_5e43f_level0_col7\" class=\"col_heading level0 col7\" >MCC</th>\n",
       "      <th id=\"T_5e43f_level0_col8\" class=\"col_heading level0 col8\" >TT (Sec)</th>\n",
       "    </tr>\n",
       "  </thead>\n",
       "  <tbody>\n",
       "    <tr>\n",
       "      <th id=\"T_5e43f_level0_row0\" class=\"row_heading level0 row0\" >catboost</th>\n",
       "      <td id=\"T_5e43f_row0_col0\" class=\"data row0 col0\" >CatBoost Classifier</td>\n",
       "      <td id=\"T_5e43f_row0_col1\" class=\"data row0 col1\" >0.8167</td>\n",
       "      <td id=\"T_5e43f_row0_col2\" class=\"data row0 col2\" >0.7751</td>\n",
       "      <td id=\"T_5e43f_row0_col3\" class=\"data row0 col3\" >0.3625</td>\n",
       "      <td id=\"T_5e43f_row0_col4\" class=\"data row0 col4\" >0.6591</td>\n",
       "      <td id=\"T_5e43f_row0_col5\" class=\"data row0 col5\" >0.4673</td>\n",
       "      <td id=\"T_5e43f_row0_col6\" class=\"data row0 col6\" >0.3677</td>\n",
       "      <td id=\"T_5e43f_row0_col7\" class=\"data row0 col7\" >0.3919</td>\n",
       "      <td id=\"T_5e43f_row0_col8\" class=\"data row0 col8\" >8.9100</td>\n",
       "    </tr>\n",
       "    <tr>\n",
       "      <th id=\"T_5e43f_level0_row1\" class=\"row_heading level0 row1\" >lightgbm</th>\n",
       "      <td id=\"T_5e43f_row1_col0\" class=\"data row1 col0\" >Light Gradient Boosting Machine</td>\n",
       "      <td id=\"T_5e43f_row1_col1\" class=\"data row1 col1\" >0.8144</td>\n",
       "      <td id=\"T_5e43f_row1_col2\" class=\"data row1 col2\" >0.7716</td>\n",
       "      <td id=\"T_5e43f_row1_col3\" class=\"data row1 col3\" >0.3577</td>\n",
       "      <td id=\"T_5e43f_row1_col4\" class=\"data row1 col4\" >0.6499</td>\n",
       "      <td id=\"T_5e43f_row1_col5\" class=\"data row1 col5\" >0.4604</td>\n",
       "      <td id=\"T_5e43f_row1_col6\" class=\"data row1 col6\" >0.3597</td>\n",
       "      <td id=\"T_5e43f_row1_col7\" class=\"data row1 col7\" >0.3836</td>\n",
       "      <td id=\"T_5e43f_row1_col8\" class=\"data row1 col8\" >0.1360</td>\n",
       "    </tr>\n",
       "    <tr>\n",
       "      <th id=\"T_5e43f_level0_row2\" class=\"row_heading level0 row2\" >lr</th>\n",
       "      <td id=\"T_5e43f_row2_col0\" class=\"data row2 col0\" >Logistic Regression</td>\n",
       "      <td id=\"T_5e43f_row2_col1\" class=\"data row2 col1\" >0.8175</td>\n",
       "      <td id=\"T_5e43f_row2_col2\" class=\"data row2 col2\" >0.7649</td>\n",
       "      <td id=\"T_5e43f_row2_col3\" class=\"data row2 col3\" >0.3458</td>\n",
       "      <td id=\"T_5e43f_row2_col4\" class=\"data row2 col4\" >0.6738</td>\n",
       "      <td id=\"T_5e43f_row2_col5\" class=\"data row2 col5\" >0.4567</td>\n",
       "      <td id=\"T_5e43f_row2_col6\" class=\"data row2 col6\" >0.3604</td>\n",
       "      <td id=\"T_5e43f_row2_col7\" class=\"data row2 col7\" >0.3896</td>\n",
       "      <td id=\"T_5e43f_row2_col8\" class=\"data row2 col8\" >0.1220</td>\n",
       "    </tr>\n",
       "    <tr>\n",
       "      <th id=\"T_5e43f_level0_row3\" class=\"row_heading level0 row3\" >rf</th>\n",
       "      <td id=\"T_5e43f_row3_col0\" class=\"data row3 col0\" >Random Forest Classifier</td>\n",
       "      <td id=\"T_5e43f_row3_col1\" class=\"data row3 col1\" >0.8165</td>\n",
       "      <td id=\"T_5e43f_row3_col2\" class=\"data row3 col2\" >0.7607</td>\n",
       "      <td id=\"T_5e43f_row3_col3\" class=\"data row3 col3\" >0.3659</td>\n",
       "      <td id=\"T_5e43f_row3_col4\" class=\"data row3 col4\" >0.6560</td>\n",
       "      <td id=\"T_5e43f_row3_col5\" class=\"data row3 col5\" >0.4693</td>\n",
       "      <td id=\"T_5e43f_row3_col6\" class=\"data row3 col6\" >0.3691</td>\n",
       "      <td id=\"T_5e43f_row3_col7\" class=\"data row3 col7\" >0.3923</td>\n",
       "      <td id=\"T_5e43f_row3_col8\" class=\"data row3 col8\" >0.6020</td>\n",
       "    </tr>\n",
       "    <tr>\n",
       "      <th id=\"T_5e43f_level0_row4\" class=\"row_heading level0 row4\" >xgboost</th>\n",
       "      <td id=\"T_5e43f_row4_col0\" class=\"data row4 col0\" >Extreme Gradient Boosting</td>\n",
       "      <td id=\"T_5e43f_row4_col1\" class=\"data row4 col1\" >0.8105</td>\n",
       "      <td id=\"T_5e43f_row4_col2\" class=\"data row4 col2\" >0.7545</td>\n",
       "      <td id=\"T_5e43f_row4_col3\" class=\"data row4 col3\" >0.3605</td>\n",
       "      <td id=\"T_5e43f_row4_col4\" class=\"data row4 col4\" >0.6274</td>\n",
       "      <td id=\"T_5e43f_row4_col5\" class=\"data row4 col5\" >0.4576</td>\n",
       "      <td id=\"T_5e43f_row4_col6\" class=\"data row4 col6\" >0.3528</td>\n",
       "      <td id=\"T_5e43f_row4_col7\" class=\"data row4 col7\" >0.3729</td>\n",
       "      <td id=\"T_5e43f_row4_col8\" class=\"data row4 col8\" >1.3000</td>\n",
       "    </tr>\n",
       "  </tbody>\n",
       "</table>\n"
      ],
      "text/plain": [
       "<pandas.io.formats.style.Styler at 0x7fd44b538580>"
      ]
     },
     "metadata": {},
     "output_type": "display_data"
    }
   ],
   "source": [
    "models = compare_models(sort=\"AUC\", include=[\"xgboost\",\"lightgbm\",\"lr\", \"rf\",\"catboost\"], fold=5)"
   ]
  },
  {
   "cell_type": "markdown",
   "metadata": {},
   "source": [
    "## Add custom metrics\n",
    "\n",
    "Imagine that we want to add a new metric called `Profit` given this definition\n",
    " - Every `false_negative` costs \\$4000\n",
    " - Every `true_negative` makes a profit of \\$1000"
   ]
  },
  {
   "cell_type": "code",
   "execution_count": 68,
   "metadata": {},
   "outputs": [],
   "source": [
    "def calculate_profit(y, y_pred):\n",
    "    fn = ((y==1) & (y_pred==0)) * -5000\n",
    "    tn = ((y==0) & (y_pred==0)) * 1000\n",
    "    return fn.sum() + tn.sum()"
   ]
  },
  {
   "cell_type": "code",
   "execution_count": 71,
   "metadata": {},
   "outputs": [
    {
     "data": {
      "text/plain": [
       "Name                                                        Profit\n",
       "Display Name                                                Profit\n",
       "Score Function       <function calculate_profit at 0x7fd3fdb01b80>\n",
       "Scorer                               make_scorer(calculate_profit)\n",
       "Target                                                        pred\n",
       "Args                                                            {}\n",
       "Greater is Better                                             True\n",
       "Multiclass                                                   False\n",
       "Custom                                                        True\n",
       "Name: profit, dtype: object"
      ]
     },
     "execution_count": 71,
     "metadata": {},
     "output_type": "execute_result"
    }
   ],
   "source": [
    "add_metric(\n",
    "    id=\"profit\",\n",
    "    name=\"Profit\",\n",
    "    score_func=calculate_profit,\n",
    "    greater_is_better=True,\n",
    "    multiclass=False\n",
    ")"
   ]
  },
  {
   "cell_type": "code",
   "execution_count": 60,
   "metadata": {},
   "outputs": [
    {
     "data": {
      "text/html": [
       "<style type=\"text/css\">\n",
       "#T_b2d60 th {\n",
       "  text-align: left;\n",
       "}\n",
       "#T_b2d60_row0_col0, #T_b2d60_row0_col1, #T_b2d60_row0_col3, #T_b2d60_row0_col4, #T_b2d60_row0_col5, #T_b2d60_row0_col6, #T_b2d60_row0_col7, #T_b2d60_row0_col8, #T_b2d60_row1_col0, #T_b2d60_row1_col2, #T_b2d60_row1_col3, #T_b2d60_row1_col5, #T_b2d60_row1_col6, #T_b2d60_row1_col7, #T_b2d60_row1_col8, #T_b2d60_row2_col0, #T_b2d60_row2_col1, #T_b2d60_row2_col2, #T_b2d60_row2_col4, #T_b2d60_row3_col0, #T_b2d60_row3_col1, #T_b2d60_row3_col2, #T_b2d60_row3_col3, #T_b2d60_row3_col4, #T_b2d60_row3_col5, #T_b2d60_row3_col6, #T_b2d60_row3_col7, #T_b2d60_row3_col8 {\n",
       "  text-align: left;\n",
       "}\n",
       "#T_b2d60_row0_col2, #T_b2d60_row1_col1, #T_b2d60_row1_col4, #T_b2d60_row2_col3, #T_b2d60_row2_col5, #T_b2d60_row2_col6, #T_b2d60_row2_col7, #T_b2d60_row2_col8 {\n",
       "  text-align: left;\n",
       "  background-color: yellow;\n",
       "}\n",
       "#T_b2d60_row0_col9 {\n",
       "  text-align: left;\n",
       "  background-color: yellow;\n",
       "  background-color: lightgrey;\n",
       "}\n",
       "#T_b2d60_row1_col9, #T_b2d60_row2_col9, #T_b2d60_row3_col9 {\n",
       "  text-align: left;\n",
       "  background-color: lightgrey;\n",
       "}\n",
       "</style>\n",
       "<table id=\"T_b2d60\">\n",
       "  <thead>\n",
       "    <tr>\n",
       "      <th class=\"blank level0\" >&nbsp;</th>\n",
       "      <th id=\"T_b2d60_level0_col0\" class=\"col_heading level0 col0\" >Model</th>\n",
       "      <th id=\"T_b2d60_level0_col1\" class=\"col_heading level0 col1\" >Accuracy</th>\n",
       "      <th id=\"T_b2d60_level0_col2\" class=\"col_heading level0 col2\" >AUC</th>\n",
       "      <th id=\"T_b2d60_level0_col3\" class=\"col_heading level0 col3\" >Recall</th>\n",
       "      <th id=\"T_b2d60_level0_col4\" class=\"col_heading level0 col4\" >Prec.</th>\n",
       "      <th id=\"T_b2d60_level0_col5\" class=\"col_heading level0 col5\" >F1</th>\n",
       "      <th id=\"T_b2d60_level0_col6\" class=\"col_heading level0 col6\" >Kappa</th>\n",
       "      <th id=\"T_b2d60_level0_col7\" class=\"col_heading level0 col7\" >MCC</th>\n",
       "      <th id=\"T_b2d60_level0_col8\" class=\"col_heading level0 col8\" >Profit</th>\n",
       "      <th id=\"T_b2d60_level0_col9\" class=\"col_heading level0 col9\" >TT (Sec)</th>\n",
       "    </tr>\n",
       "  </thead>\n",
       "  <tbody>\n",
       "    <tr>\n",
       "      <th id=\"T_b2d60_level0_row0\" class=\"row_heading level0 row0\" >lightgbm</th>\n",
       "      <td id=\"T_b2d60_row0_col0\" class=\"data row0 col0\" >Light Gradient Boosting Machine</td>\n",
       "      <td id=\"T_b2d60_row0_col1\" class=\"data row0 col1\" >0.8144</td>\n",
       "      <td id=\"T_b2d60_row0_col2\" class=\"data row0 col2\" >0.7716</td>\n",
       "      <td id=\"T_b2d60_row0_col3\" class=\"data row0 col3\" >0.3577</td>\n",
       "      <td id=\"T_b2d60_row0_col4\" class=\"data row0 col4\" >0.6499</td>\n",
       "      <td id=\"T_b2d60_row0_col5\" class=\"data row0 col5\" >0.4604</td>\n",
       "      <td id=\"T_b2d60_row0_col6\" class=\"data row0 col6\" >0.3597</td>\n",
       "      <td id=\"T_b2d60_row0_col7\" class=\"data row0 col7\" >0.3836</td>\n",
       "      <td id=\"T_b2d60_row0_col8\" class=\"data row0 col8\" >526000.0000</td>\n",
       "      <td id=\"T_b2d60_row0_col9\" class=\"data row0 col9\" >0.1100</td>\n",
       "    </tr>\n",
       "    <tr>\n",
       "      <th id=\"T_b2d60_level0_row1\" class=\"row_heading level0 row1\" >lr</th>\n",
       "      <td id=\"T_b2d60_row1_col0\" class=\"data row1 col0\" >Logistic Regression</td>\n",
       "      <td id=\"T_b2d60_row1_col1\" class=\"data row1 col1\" >0.8175</td>\n",
       "      <td id=\"T_b2d60_row1_col2\" class=\"data row1 col2\" >0.7649</td>\n",
       "      <td id=\"T_b2d60_row1_col3\" class=\"data row1 col3\" >0.3458</td>\n",
       "      <td id=\"T_b2d60_row1_col4\" class=\"data row1 col4\" >0.6738</td>\n",
       "      <td id=\"T_b2d60_row1_col5\" class=\"data row1 col5\" >0.4567</td>\n",
       "      <td id=\"T_b2d60_row1_col6\" class=\"data row1 col6\" >0.3604</td>\n",
       "      <td id=\"T_b2d60_row1_col7\" class=\"data row1 col7\" >0.3896</td>\n",
       "      <td id=\"T_b2d60_row1_col8\" class=\"data row1 col8\" >510800.0000</td>\n",
       "      <td id=\"T_b2d60_row1_col9\" class=\"data row1 col9\" >0.1220</td>\n",
       "    </tr>\n",
       "    <tr>\n",
       "      <th id=\"T_b2d60_level0_row2\" class=\"row_heading level0 row2\" >rf</th>\n",
       "      <td id=\"T_b2d60_row2_col0\" class=\"data row2 col0\" >Random Forest Classifier</td>\n",
       "      <td id=\"T_b2d60_row2_col1\" class=\"data row2 col1\" >0.8165</td>\n",
       "      <td id=\"T_b2d60_row2_col2\" class=\"data row2 col2\" >0.7607</td>\n",
       "      <td id=\"T_b2d60_row2_col3\" class=\"data row2 col3\" >0.3659</td>\n",
       "      <td id=\"T_b2d60_row2_col4\" class=\"data row2 col4\" >0.6560</td>\n",
       "      <td id=\"T_b2d60_row2_col5\" class=\"data row2 col5\" >0.4693</td>\n",
       "      <td id=\"T_b2d60_row2_col6\" class=\"data row2 col6\" >0.3691</td>\n",
       "      <td id=\"T_b2d60_row2_col7\" class=\"data row2 col7\" >0.3923</td>\n",
       "      <td id=\"T_b2d60_row2_col8\" class=\"data row2 col8\" >550200.0000</td>\n",
       "      <td id=\"T_b2d60_row2_col9\" class=\"data row2 col9\" >0.4700</td>\n",
       "    </tr>\n",
       "    <tr>\n",
       "      <th id=\"T_b2d60_level0_row3\" class=\"row_heading level0 row3\" >xgboost</th>\n",
       "      <td id=\"T_b2d60_row3_col0\" class=\"data row3 col0\" >Extreme Gradient Boosting</td>\n",
       "      <td id=\"T_b2d60_row3_col1\" class=\"data row3 col1\" >0.8105</td>\n",
       "      <td id=\"T_b2d60_row3_col2\" class=\"data row3 col2\" >0.7545</td>\n",
       "      <td id=\"T_b2d60_row3_col3\" class=\"data row3 col3\" >0.3605</td>\n",
       "      <td id=\"T_b2d60_row3_col4\" class=\"data row3 col4\" >0.6274</td>\n",
       "      <td id=\"T_b2d60_row3_col5\" class=\"data row3 col5\" >0.4576</td>\n",
       "      <td id=\"T_b2d60_row3_col6\" class=\"data row3 col6\" >0.3528</td>\n",
       "      <td id=\"T_b2d60_row3_col7\" class=\"data row3 col7\" >0.3729</td>\n",
       "      <td id=\"T_b2d60_row3_col8\" class=\"data row3 col8\" >519400.0000</td>\n",
       "      <td id=\"T_b2d60_row3_col9\" class=\"data row3 col9\" >1.0320</td>\n",
       "    </tr>\n",
       "  </tbody>\n",
       "</table>\n"
      ],
      "text/plain": [
       "<pandas.io.formats.style.Styler at 0x7fd3fd0c8610>"
      ]
     },
     "metadata": {},
     "output_type": "display_data"
    }
   ],
   "source": [
    "models = compare_models(sort=\"AUC\", include=[\"xgboost\",\"lightgbm\",\"lr\", \"rf\"], fold=5)"
   ]
  },
  {
   "cell_type": "markdown",
   "metadata": {
    "colab_type": "text",
    "id": "QxHq04mC4EjB"
   },
   "source": [
    "## Create a model"
   ]
  },
  {
   "cell_type": "markdown",
   "metadata": {},
   "source": [
    "```python\n",
    "create_model(\n",
    "    estimator = \"gbc\",\n",
    "    fold = None,\n",
    "    round = 4,\n",
    "    cross_validation = True,\n",
    "    fit_kwargs = None,\n",
    "    groups = None,\n",
    "    probability_threshold = None,\n",
    "    verbose True\n",
    ")\n",
    "```"
   ]
  },
  {
   "cell_type": "code",
   "execution_count": 61,
   "metadata": {
    "colab": {},
    "colab_type": "code",
    "id": "Mt7h_Ds24EjN",
    "outputId": "79a6681f-53b0-4446-a8d5-b57d725b0bbc",
    "tags": [],
    "vscode": {
     "languageId": "python"
    }
   },
   "outputs": [
    {
     "data": {
      "text/html": [
       "<style type=\"text/css\">\n",
       "#T_adaff_row5_col0, #T_adaff_row5_col1, #T_adaff_row5_col2, #T_adaff_row5_col3, #T_adaff_row5_col4, #T_adaff_row5_col5, #T_adaff_row5_col6, #T_adaff_row5_col7 {\n",
       "  background: yellow;\n",
       "}\n",
       "</style>\n",
       "<table id=\"T_adaff\">\n",
       "  <thead>\n",
       "    <tr>\n",
       "      <th class=\"blank level0\" >&nbsp;</th>\n",
       "      <th id=\"T_adaff_level0_col0\" class=\"col_heading level0 col0\" >Accuracy</th>\n",
       "      <th id=\"T_adaff_level0_col1\" class=\"col_heading level0 col1\" >AUC</th>\n",
       "      <th id=\"T_adaff_level0_col2\" class=\"col_heading level0 col2\" >Recall</th>\n",
       "      <th id=\"T_adaff_level0_col3\" class=\"col_heading level0 col3\" >Prec.</th>\n",
       "      <th id=\"T_adaff_level0_col4\" class=\"col_heading level0 col4\" >F1</th>\n",
       "      <th id=\"T_adaff_level0_col5\" class=\"col_heading level0 col5\" >Kappa</th>\n",
       "      <th id=\"T_adaff_level0_col6\" class=\"col_heading level0 col6\" >MCC</th>\n",
       "      <th id=\"T_adaff_level0_col7\" class=\"col_heading level0 col7\" >Profit</th>\n",
       "    </tr>\n",
       "    <tr>\n",
       "      <th class=\"index_name level0\" >Fold</th>\n",
       "      <th class=\"blank col0\" >&nbsp;</th>\n",
       "      <th class=\"blank col1\" >&nbsp;</th>\n",
       "      <th class=\"blank col2\" >&nbsp;</th>\n",
       "      <th class=\"blank col3\" >&nbsp;</th>\n",
       "      <th class=\"blank col4\" >&nbsp;</th>\n",
       "      <th class=\"blank col5\" >&nbsp;</th>\n",
       "      <th class=\"blank col6\" >&nbsp;</th>\n",
       "      <th class=\"blank col7\" >&nbsp;</th>\n",
       "    </tr>\n",
       "  </thead>\n",
       "  <tbody>\n",
       "    <tr>\n",
       "      <th id=\"T_adaff_level0_row0\" class=\"row_heading level0 row0\" >0</th>\n",
       "      <td id=\"T_adaff_row0_col0\" class=\"data row0 col0\" >0.81</td>\n",
       "      <td id=\"T_adaff_row0_col1\" class=\"data row0 col1\" >0.76</td>\n",
       "      <td id=\"T_adaff_row0_col2\" class=\"data row0 col2\" >0.34</td>\n",
       "      <td id=\"T_adaff_row0_col3\" class=\"data row0 col3\" >0.66</td>\n",
       "      <td id=\"T_adaff_row0_col4\" class=\"data row0 col4\" >0.45</td>\n",
       "      <td id=\"T_adaff_row0_col5\" class=\"data row0 col5\" >0.35</td>\n",
       "      <td id=\"T_adaff_row0_col6\" class=\"data row0 col6\" >0.38</td>\n",
       "      <td id=\"T_adaff_row0_col7\" class=\"data row0 col7\" >495000.00</td>\n",
       "    </tr>\n",
       "    <tr>\n",
       "      <th id=\"T_adaff_level0_row1\" class=\"row_heading level0 row1\" >1</th>\n",
       "      <td id=\"T_adaff_row1_col0\" class=\"data row1 col0\" >0.81</td>\n",
       "      <td id=\"T_adaff_row1_col1\" class=\"data row1 col1\" >0.76</td>\n",
       "      <td id=\"T_adaff_row1_col2\" class=\"data row1 col2\" >0.32</td>\n",
       "      <td id=\"T_adaff_row1_col3\" class=\"data row1 col3\" >0.64</td>\n",
       "      <td id=\"T_adaff_row1_col4\" class=\"data row1 col4\" >0.43</td>\n",
       "      <td id=\"T_adaff_row1_col5\" class=\"data row1 col5\" >0.33</td>\n",
       "      <td id=\"T_adaff_row1_col6\" class=\"data row1 col6\" >0.36</td>\n",
       "      <td id=\"T_adaff_row1_col7\" class=\"data row1 col7\" >435000.00</td>\n",
       "    </tr>\n",
       "    <tr>\n",
       "      <th id=\"T_adaff_level0_row2\" class=\"row_heading level0 row2\" >2</th>\n",
       "      <td id=\"T_adaff_row2_col0\" class=\"data row2 col0\" >0.82</td>\n",
       "      <td id=\"T_adaff_row2_col1\" class=\"data row2 col1\" >0.76</td>\n",
       "      <td id=\"T_adaff_row2_col2\" class=\"data row2 col2\" >0.37</td>\n",
       "      <td id=\"T_adaff_row2_col3\" class=\"data row2 col3\" >0.66</td>\n",
       "      <td id=\"T_adaff_row2_col4\" class=\"data row2 col4\" >0.48</td>\n",
       "      <td id=\"T_adaff_row2_col5\" class=\"data row2 col5\" >0.38</td>\n",
       "      <td id=\"T_adaff_row2_col6\" class=\"data row2 col6\" >0.40</td>\n",
       "      <td id=\"T_adaff_row2_col7\" class=\"data row2 col7\" >564000.00</td>\n",
       "    </tr>\n",
       "    <tr>\n",
       "      <th id=\"T_adaff_level0_row3\" class=\"row_heading level0 row3\" >3</th>\n",
       "      <td id=\"T_adaff_row3_col0\" class=\"data row3 col0\" >0.82</td>\n",
       "      <td id=\"T_adaff_row3_col1\" class=\"data row3 col1\" >0.78</td>\n",
       "      <td id=\"T_adaff_row3_col2\" class=\"data row3 col2\" >0.33</td>\n",
       "      <td id=\"T_adaff_row3_col3\" class=\"data row3 col3\" >0.71</td>\n",
       "      <td id=\"T_adaff_row3_col4\" class=\"data row3 col4\" >0.45</td>\n",
       "      <td id=\"T_adaff_row3_col5\" class=\"data row3 col5\" >0.36</td>\n",
       "      <td id=\"T_adaff_row3_col6\" class=\"data row3 col6\" >0.40</td>\n",
       "      <td id=\"T_adaff_row3_col7\" class=\"data row3 col7\" >489000.00</td>\n",
       "    </tr>\n",
       "    <tr>\n",
       "      <th id=\"T_adaff_level0_row4\" class=\"row_heading level0 row4\" >4</th>\n",
       "      <td id=\"T_adaff_row4_col0\" class=\"data row4 col0\" >0.82</td>\n",
       "      <td id=\"T_adaff_row4_col1\" class=\"data row4 col1\" >0.76</td>\n",
       "      <td id=\"T_adaff_row4_col2\" class=\"data row4 col2\" >0.37</td>\n",
       "      <td id=\"T_adaff_row4_col3\" class=\"data row4 col3\" >0.69</td>\n",
       "      <td id=\"T_adaff_row4_col4\" class=\"data row4 col4\" >0.48</td>\n",
       "      <td id=\"T_adaff_row4_col5\" class=\"data row4 col5\" >0.38</td>\n",
       "      <td id=\"T_adaff_row4_col6\" class=\"data row4 col6\" >0.41</td>\n",
       "      <td id=\"T_adaff_row4_col7\" class=\"data row4 col7\" >571000.00</td>\n",
       "    </tr>\n",
       "    <tr>\n",
       "      <th id=\"T_adaff_level0_row5\" class=\"row_heading level0 row5\" >Mean</th>\n",
       "      <td id=\"T_adaff_row5_col0\" class=\"data row5 col0\" >0.82</td>\n",
       "      <td id=\"T_adaff_row5_col1\" class=\"data row5 col1\" >0.76</td>\n",
       "      <td id=\"T_adaff_row5_col2\" class=\"data row5 col2\" >0.35</td>\n",
       "      <td id=\"T_adaff_row5_col3\" class=\"data row5 col3\" >0.67</td>\n",
       "      <td id=\"T_adaff_row5_col4\" class=\"data row5 col4\" >0.46</td>\n",
       "      <td id=\"T_adaff_row5_col5\" class=\"data row5 col5\" >0.36</td>\n",
       "      <td id=\"T_adaff_row5_col6\" class=\"data row5 col6\" >0.39</td>\n",
       "      <td id=\"T_adaff_row5_col7\" class=\"data row5 col7\" >510800.00</td>\n",
       "    </tr>\n",
       "    <tr>\n",
       "      <th id=\"T_adaff_level0_row6\" class=\"row_heading level0 row6\" >Std</th>\n",
       "      <td id=\"T_adaff_row6_col0\" class=\"data row6 col0\" >0.00</td>\n",
       "      <td id=\"T_adaff_row6_col1\" class=\"data row6 col1\" >0.01</td>\n",
       "      <td id=\"T_adaff_row6_col2\" class=\"data row6 col2\" >0.02</td>\n",
       "      <td id=\"T_adaff_row6_col3\" class=\"data row6 col3\" >0.02</td>\n",
       "      <td id=\"T_adaff_row6_col4\" class=\"data row6 col4\" >0.02</td>\n",
       "      <td id=\"T_adaff_row6_col5\" class=\"data row6 col5\" >0.02</td>\n",
       "      <td id=\"T_adaff_row6_col6\" class=\"data row6 col6\" >0.02</td>\n",
       "      <td id=\"T_adaff_row6_col7\" class=\"data row6 col7\" >50842.50</td>\n",
       "    </tr>\n",
       "  </tbody>\n",
       "</table>\n"
      ],
      "text/plain": [
       "<pandas.io.formats.style.Styler at 0x7fd3fc5c9490>"
      ]
     },
     "metadata": {},
     "output_type": "display_data"
    }
   ],
   "source": [
    "clf = create_model('lr', fold = 5, round = 2)"
   ]
  },
  {
   "cell_type": "markdown",
   "metadata": {
    "colab_type": "text",
    "id": "n_Hp176K4Ejw"
   },
   "source": [
    "## Tune a model"
   ]
  },
  {
   "cell_type": "markdown",
   "metadata": {},
   "source": [
    "```python\n",
    "tune_model(\n",
    "    estimator,\n",
    "    fold = None,\n",
    "    round = 4,\n",
    "    n_iter = 10,\n",
    "    custom_grid = None,\n",
    "    optimize = 'Accuracy',\n",
    "    custom_scorer = None,\n",
    "    search_library 'scikit-learn',\n",
    "    search_algorithm = None,\n",
    "    early_stopping False,\n",
    "    early_stopping_max_iters = 10,\n",
    "    choose_better = False,\n",
    "    fit_kwargs = None,\n",
    "    groups = None,\n",
    "    return_tuner = False,\n",
    "    verbose = True,\n",
    "    tuner_verbose = True\n",
    ")\n",
    "```"
   ]
  },
  {
   "cell_type": "code",
   "execution_count": 62,
   "metadata": {
    "colab": {},
    "colab_type": "code",
    "id": "PYn9xux-4Ej7",
    "outputId": "19de0001-2b95-42c5-bc5c-517e3ed909ac",
    "tags": [],
    "vscode": {
     "languageId": "python"
    }
   },
   "outputs": [
    {
     "data": {
      "text/html": [
       "<style type=\"text/css\">\n",
       "#T_69f5c_row10_col0, #T_69f5c_row10_col1, #T_69f5c_row10_col2, #T_69f5c_row10_col3, #T_69f5c_row10_col4, #T_69f5c_row10_col5, #T_69f5c_row10_col6, #T_69f5c_row10_col7 {\n",
       "  background: yellow;\n",
       "}\n",
       "</style>\n",
       "<table id=\"T_69f5c\">\n",
       "  <thead>\n",
       "    <tr>\n",
       "      <th class=\"blank level0\" >&nbsp;</th>\n",
       "      <th id=\"T_69f5c_level0_col0\" class=\"col_heading level0 col0\" >Accuracy</th>\n",
       "      <th id=\"T_69f5c_level0_col1\" class=\"col_heading level0 col1\" >AUC</th>\n",
       "      <th id=\"T_69f5c_level0_col2\" class=\"col_heading level0 col2\" >Recall</th>\n",
       "      <th id=\"T_69f5c_level0_col3\" class=\"col_heading level0 col3\" >Prec.</th>\n",
       "      <th id=\"T_69f5c_level0_col4\" class=\"col_heading level0 col4\" >F1</th>\n",
       "      <th id=\"T_69f5c_level0_col5\" class=\"col_heading level0 col5\" >Kappa</th>\n",
       "      <th id=\"T_69f5c_level0_col6\" class=\"col_heading level0 col6\" >MCC</th>\n",
       "      <th id=\"T_69f5c_level0_col7\" class=\"col_heading level0 col7\" >Profit</th>\n",
       "    </tr>\n",
       "    <tr>\n",
       "      <th class=\"index_name level0\" >Fold</th>\n",
       "      <th class=\"blank col0\" >&nbsp;</th>\n",
       "      <th class=\"blank col1\" >&nbsp;</th>\n",
       "      <th class=\"blank col2\" >&nbsp;</th>\n",
       "      <th class=\"blank col3\" >&nbsp;</th>\n",
       "      <th class=\"blank col4\" >&nbsp;</th>\n",
       "      <th class=\"blank col5\" >&nbsp;</th>\n",
       "      <th class=\"blank col6\" >&nbsp;</th>\n",
       "      <th class=\"blank col7\" >&nbsp;</th>\n",
       "    </tr>\n",
       "  </thead>\n",
       "  <tbody>\n",
       "    <tr>\n",
       "      <th id=\"T_69f5c_level0_row0\" class=\"row_heading level0 row0\" >0</th>\n",
       "      <td id=\"T_69f5c_row0_col0\" class=\"data row0 col0\" >0.7613</td>\n",
       "      <td id=\"T_69f5c_row0_col1\" class=\"data row0 col1\" >0.7715</td>\n",
       "      <td id=\"T_69f5c_row0_col2\" class=\"data row0 col2\" >0.5989</td>\n",
       "      <td id=\"T_69f5c_row0_col3\" class=\"data row0 col3\" >0.4701</td>\n",
       "      <td id=\"T_69f5c_row0_col4\" class=\"data row0 col4\" >0.5267</td>\n",
       "      <td id=\"T_69f5c_row0_col5\" class=\"data row0 col5\" >0.3702</td>\n",
       "      <td id=\"T_69f5c_row0_col6\" class=\"data row0 col6\" >0.3750</td>\n",
       "      <td id=\"T_69f5c_row0_col7\" class=\"data row0 col7\" >435000.0000</td>\n",
       "    </tr>\n",
       "    <tr>\n",
       "      <th id=\"T_69f5c_level0_row1\" class=\"row_heading level0 row1\" >1</th>\n",
       "      <td id=\"T_69f5c_row1_col0\" class=\"data row1 col0\" >0.7701</td>\n",
       "      <td id=\"T_69f5c_row1_col1\" class=\"data row1 col1\" >0.7564</td>\n",
       "      <td id=\"T_69f5c_row1_col2\" class=\"data row1 col2\" >0.5904</td>\n",
       "      <td id=\"T_69f5c_row1_col3\" class=\"data row1 col3\" >0.4849</td>\n",
       "      <td id=\"T_69f5c_row1_col4\" class=\"data row1 col4\" >0.5325</td>\n",
       "      <td id=\"T_69f5c_row1_col5\" class=\"data row1 col5\" >0.3820</td>\n",
       "      <td id=\"T_69f5c_row1_col6\" class=\"data row1 col6\" >0.3852</td>\n",
       "      <td id=\"T_69f5c_row1_col7\" class=\"data row1 col7\" >440000.0000</td>\n",
       "    </tr>\n",
       "    <tr>\n",
       "      <th id=\"T_69f5c_level0_row2\" class=\"row_heading level0 row2\" >2</th>\n",
       "      <td id=\"T_69f5c_row2_col0\" class=\"data row2 col0\" >0.7701</td>\n",
       "      <td id=\"T_69f5c_row2_col1\" class=\"data row2 col1\" >0.7602</td>\n",
       "      <td id=\"T_69f5c_row2_col2\" class=\"data row2 col2\" >0.5452</td>\n",
       "      <td id=\"T_69f5c_row2_col3\" class=\"data row2 col3\" >0.4837</td>\n",
       "      <td id=\"T_69f5c_row2_col4\" class=\"data row2 col4\" >0.5126</td>\n",
       "      <td id=\"T_69f5c_row2_col5\" class=\"data row2 col5\" >0.3628</td>\n",
       "      <td id=\"T_69f5c_row2_col6\" class=\"data row2 col6\" >0.3640</td>\n",
       "      <td id=\"T_69f5c_row2_col7\" class=\"data row2 col7\" >392000.0000</td>\n",
       "    </tr>\n",
       "    <tr>\n",
       "      <th id=\"T_69f5c_level0_row3\" class=\"row_heading level0 row3\" >3</th>\n",
       "      <td id=\"T_69f5c_row3_col0\" class=\"data row3 col0\" >0.7632</td>\n",
       "      <td id=\"T_69f5c_row3_col1\" class=\"data row3 col1\" >0.7539</td>\n",
       "      <td id=\"T_69f5c_row3_col2\" class=\"data row3 col2\" >0.5678</td>\n",
       "      <td id=\"T_69f5c_row3_col3\" class=\"data row3 col3\" >0.4718</td>\n",
       "      <td id=\"T_69f5c_row3_col4\" class=\"data row3 col4\" >0.5154</td>\n",
       "      <td id=\"T_69f5c_row3_col5\" class=\"data row3 col5\" >0.3604</td>\n",
       "      <td id=\"T_69f5c_row3_col6\" class=\"data row3 col6\" >0.3631</td>\n",
       "      <td id=\"T_69f5c_row3_col7\" class=\"data row3 col7\" >405000.0000</td>\n",
       "    </tr>\n",
       "    <tr>\n",
       "      <th id=\"T_69f5c_level0_row4\" class=\"row_heading level0 row4\" >4</th>\n",
       "      <td id=\"T_69f5c_row4_col0\" class=\"data row4 col0\" >0.7657</td>\n",
       "      <td id=\"T_69f5c_row4_col1\" class=\"data row4 col1\" >0.7680</td>\n",
       "      <td id=\"T_69f5c_row4_col2\" class=\"data row4 col2\" >0.5791</td>\n",
       "      <td id=\"T_69f5c_row4_col3\" class=\"data row4 col3\" >0.4767</td>\n",
       "      <td id=\"T_69f5c_row4_col4\" class=\"data row4 col4\" >0.5230</td>\n",
       "      <td id=\"T_69f5c_row4_col5\" class=\"data row4 col5\" >0.3696</td>\n",
       "      <td id=\"T_69f5c_row4_col6\" class=\"data row4 col6\" >0.3726</td>\n",
       "      <td id=\"T_69f5c_row4_col7\" class=\"data row4 col7\" >421000.0000</td>\n",
       "    </tr>\n",
       "    <tr>\n",
       "      <th id=\"T_69f5c_level0_row5\" class=\"row_heading level0 row5\" >5</th>\n",
       "      <td id=\"T_69f5c_row5_col0\" class=\"data row5 col0\" >0.7619</td>\n",
       "      <td id=\"T_69f5c_row5_col1\" class=\"data row5 col1\" >0.7506</td>\n",
       "      <td id=\"T_69f5c_row5_col2\" class=\"data row5 col2\" >0.5706</td>\n",
       "      <td id=\"T_69f5c_row5_col3\" class=\"data row5 col3\" >0.4698</td>\n",
       "      <td id=\"T_69f5c_row5_col4\" class=\"data row5 col4\" >0.5153</td>\n",
       "      <td id=\"T_69f5c_row5_col5\" class=\"data row5 col5\" >0.3595</td>\n",
       "      <td id=\"T_69f5c_row5_col6\" class=\"data row5 col6\" >0.3624</td>\n",
       "      <td id=\"T_69f5c_row5_col7\" class=\"data row5 col7\" >406000.0000</td>\n",
       "    </tr>\n",
       "    <tr>\n",
       "      <th id=\"T_69f5c_level0_row6\" class=\"row_heading level0 row6\" >6</th>\n",
       "      <td id=\"T_69f5c_row6_col0\" class=\"data row6 col0\" >0.7857</td>\n",
       "      <td id=\"T_69f5c_row6_col1\" class=\"data row6 col1\" >0.7876</td>\n",
       "      <td id=\"T_69f5c_row6_col2\" class=\"data row6 col2\" >0.6045</td>\n",
       "      <td id=\"T_69f5c_row6_col3\" class=\"data row6 col3\" >0.5144</td>\n",
       "      <td id=\"T_69f5c_row6_col4\" class=\"data row6 col4\" >0.5558</td>\n",
       "      <td id=\"T_69f5c_row6_col5\" class=\"data row6 col5\" >0.4158</td>\n",
       "      <td id=\"T_69f5c_row6_col6\" class=\"data row6 col6\" >0.4182</td>\n",
       "      <td id=\"T_69f5c_row6_col7\" class=\"data row6 col7\" >480000.0000</td>\n",
       "    </tr>\n",
       "    <tr>\n",
       "      <th id=\"T_69f5c_level0_row7\" class=\"row_heading level0 row7\" >7</th>\n",
       "      <td id=\"T_69f5c_row7_col0\" class=\"data row7 col0\" >0.7807</td>\n",
       "      <td id=\"T_69f5c_row7_col1\" class=\"data row7 col1\" >0.7726</td>\n",
       "      <td id=\"T_69f5c_row7_col2\" class=\"data row7 col2\" >0.5859</td>\n",
       "      <td id=\"T_69f5c_row7_col3\" class=\"data row7 col3\" >0.5061</td>\n",
       "      <td id=\"T_69f5c_row7_col4\" class=\"data row7 col4\" >0.5431</td>\n",
       "      <td id=\"T_69f5c_row7_col5\" class=\"data row7 col5\" >0.3998</td>\n",
       "      <td id=\"T_69f5c_row7_col6\" class=\"data row7 col6\" >0.4017</td>\n",
       "      <td id=\"T_69f5c_row7_col7\" class=\"data row7 col7\" >450000.0000</td>\n",
       "    </tr>\n",
       "    <tr>\n",
       "      <th id=\"T_69f5c_level0_row8\" class=\"row_heading level0 row8\" >8</th>\n",
       "      <td id=\"T_69f5c_row8_col0\" class=\"data row8 col0\" >0.7782</td>\n",
       "      <td id=\"T_69f5c_row8_col1\" class=\"data row8 col1\" >0.7742</td>\n",
       "      <td id=\"T_69f5c_row8_col2\" class=\"data row8 col2\" >0.6085</td>\n",
       "      <td id=\"T_69f5c_row8_col3\" class=\"data row8 col3\" >0.5012</td>\n",
       "      <td id=\"T_69f5c_row8_col4\" class=\"data row8 col4\" >0.5496</td>\n",
       "      <td id=\"T_69f5c_row8_col5\" class=\"data row8 col5\" >0.4043</td>\n",
       "      <td id=\"T_69f5c_row8_col6\" class=\"data row8 col6\" >0.4077</td>\n",
       "      <td id=\"T_69f5c_row8_col7\" class=\"data row8 col7\" >470000.0000</td>\n",
       "    </tr>\n",
       "    <tr>\n",
       "      <th id=\"T_69f5c_level0_row9\" class=\"row_heading level0 row9\" >9</th>\n",
       "      <td id=\"T_69f5c_row9_col0\" class=\"data row9 col0\" >0.7586</td>\n",
       "      <td id=\"T_69f5c_row9_col1\" class=\"data row9 col1\" >0.7632</td>\n",
       "      <td id=\"T_69f5c_row9_col2\" class=\"data row9 col2\" >0.5989</td>\n",
       "      <td id=\"T_69f5c_row9_col3\" class=\"data row9 col3\" >0.4659</td>\n",
       "      <td id=\"T_69f5c_row9_col4\" class=\"data row9 col4\" >0.5241</td>\n",
       "      <td id=\"T_69f5c_row9_col5\" class=\"data row9 col5\" >0.3658</td>\n",
       "      <td id=\"T_69f5c_row9_col6\" class=\"data row9 col6\" >0.3709</td>\n",
       "      <td id=\"T_69f5c_row9_col7\" class=\"data row9 col7\" >430000.0000</td>\n",
       "    </tr>\n",
       "    <tr>\n",
       "      <th id=\"T_69f5c_level0_row10\" class=\"row_heading level0 row10\" >Mean</th>\n",
       "      <td id=\"T_69f5c_row10_col0\" class=\"data row10 col0\" >0.7695</td>\n",
       "      <td id=\"T_69f5c_row10_col1\" class=\"data row10 col1\" >0.7658</td>\n",
       "      <td id=\"T_69f5c_row10_col2\" class=\"data row10 col2\" >0.5850</td>\n",
       "      <td id=\"T_69f5c_row10_col3\" class=\"data row10 col3\" >0.4845</td>\n",
       "      <td id=\"T_69f5c_row10_col4\" class=\"data row10 col4\" >0.5298</td>\n",
       "      <td id=\"T_69f5c_row10_col5\" class=\"data row10 col5\" >0.3790</td>\n",
       "      <td id=\"T_69f5c_row10_col6\" class=\"data row10 col6\" >0.3821</td>\n",
       "      <td id=\"T_69f5c_row10_col7\" class=\"data row10 col7\" >432900.0000</td>\n",
       "    </tr>\n",
       "    <tr>\n",
       "      <th id=\"T_69f5c_level0_row11\" class=\"row_heading level0 row11\" >Std</th>\n",
       "      <td id=\"T_69f5c_row11_col0\" class=\"data row11 col0\" >0.0087</td>\n",
       "      <td id=\"T_69f5c_row11_col1\" class=\"data row11 col1\" >0.0106</td>\n",
       "      <td id=\"T_69f5c_row11_col2\" class=\"data row11 col2\" >0.0186</td>\n",
       "      <td id=\"T_69f5c_row11_col3\" class=\"data row11 col3\" >0.0162</td>\n",
       "      <td id=\"T_69f5c_row11_col4\" class=\"data row11 col4\" >0.0143</td>\n",
       "      <td id=\"T_69f5c_row11_col5\" class=\"data row11 col5\" >0.0194</td>\n",
       "      <td id=\"T_69f5c_row11_col6\" class=\"data row11 col6\" >0.0192</td>\n",
       "      <td id=\"T_69f5c_row11_col7\" class=\"data row11 col7\" >26957.1883</td>\n",
       "    </tr>\n",
       "  </tbody>\n",
       "</table>\n"
      ],
      "text/plain": [
       "<pandas.io.formats.style.Styler at 0x7fd3fc5c7040>"
      ]
     },
     "metadata": {},
     "output_type": "display_data"
    }
   ],
   "source": [
    "tuned_clf = tune_model(clf, optimize = 'AUC')"
   ]
  },
  {
   "cell_type": "markdown",
   "metadata": {},
   "source": [
    "## Analyze the model"
   ]
  },
  {
   "cell_type": "markdown",
   "metadata": {},
   "source": [
    "```python\n",
    "plot_model(\n",
    "    estimator,\n",
    "    plot: str = 'auc',\n",
    "    scale: float = 1,\n",
    "    save: bool = False,\n",
    "    fold: Optional[Union[int, Any]] = None,\n",
    "    fit_kwargs: Optional[dict] = None,\n",
    "    groups: Optional[Union[str, Any]] = None,\n",
    "    use_train_data: bool = False,\n",
    "    verbose: bool = True,\n",
    "    display_format: Optional[str] = None\n",
    ")\n",
    "```"
   ]
  },
  {
   "cell_type": "markdown",
   "metadata": {},
   "source": [
    "Opciones del parámetro `plot`:\n",
    "\n",
    "`auc` - Area Under the Curve\n",
    "\n",
    "`threshold` - Discrimination Threshold\n",
    "\n",
    "`pr` - Precision Recall Curve\n",
    "\n",
    "`confusion_matrix` - Confusion Matrix\n",
    "\n",
    "`error` - Class Prediction Error\n",
    "\n",
    "`class_report` - Classification Report\n",
    "\n",
    "`boundary` - Decision Boundary\n",
    "\n",
    "`rfe` - Recursive Feature Selection\n",
    "\n",
    "`learning` - Learning Curve\n",
    "\n",
    "`manifold` - Manifold Learning\n",
    "\n",
    "`calibration` - Calibration Curve\n",
    "\n",
    "`vc` - Validation Curve\n",
    "\n",
    "`dimension` - Dimension Learning\n",
    "\n",
    "`feature` - Feature Importance\n",
    "\n",
    "`feature_all` - Feature Importance (All)\n",
    "\n",
    "`parameter` - Model Hyperparameter\n",
    "\n",
    "`lift` - Lift Curve\n",
    "\n",
    "`gain` - Gain Chart\n",
    "\n",
    "`tree` - Decision Tree\n",
    "\n",
    "`ks` - KS Statistic Plot\n"
   ]
  },
  {
   "cell_type": "code",
   "execution_count": 63,
   "metadata": {
    "colab": {},
    "colab_type": "code",
    "id": "R0V597844EkX",
    "tags": [],
    "vscode": {
     "languageId": "python"
    }
   },
   "outputs": [
    {
     "data": {
      "image/png": "[encoded data removed]",
      "text/plain": [
       "<Figure size 800x550 with 1 Axes>"
      ]
     },
     "metadata": {},
     "output_type": "display_data"
    }
   ],
   "source": [
    "plot_model(tuned_clf, plot = 'auc')"
   ]
  },
  {
   "cell_type": "code",
   "execution_count": 64,
   "metadata": {
    "tags": [],
    "vscode": {
     "languageId": "python"
    }
   },
   "outputs": [
    {
     "data": {
      "image/png": "[encoded data removed]",
      "text/plain": [
       "<Figure size 800x550 with 1 Axes>"
      ]
     },
     "metadata": {},
     "output_type": "display_data"
    }
   ],
   "source": [
    "plot_model(tuned_clf, plot = 'pr')"
   ]
  },
  {
   "cell_type": "code",
   "execution_count": 65,
   "metadata": {
    "tags": [],
    "vscode": {
     "languageId": "python"
    }
   },
   "outputs": [
    {
     "data": {
      "image/png": "[encoded data removed]",
      "text/plain": [
       "<Figure size 1000x600 with 1 Axes>"
      ]
     },
     "metadata": {},
     "output_type": "display_data"
    }
   ],
   "source": [
    "plot_model(tuned_clf, plot = 'lift')"
   ]
  },
  {
   "cell_type": "code",
   "execution_count": 66,
   "metadata": {},
   "outputs": [
    {
     "data": {
      "image/png": "[encoded data removed]",
      "text/plain": [
       "<Figure size 800x500 with 1 Axes>"
      ]
     },
     "metadata": {},
     "output_type": "display_data"
    }
   ],
   "source": [
    "plot_model(tuned_clf, plot = 'feature')"
   ]
  },
  {
   "cell_type": "code",
   "execution_count": 28,
   "metadata": {
    "tags": [],
    "vscode": {
     "languageId": "python"
    }
   },
   "outputs": [
    {
     "data": {
      "image/png": "[encoded data removed]",
      "text/plain": [
       "<Figure size 800x550 with 1 Axes>"
      ]
     },
     "metadata": {},
     "output_type": "display_data"
    }
   ],
   "source": [
    "plot_model(tuned_clf, plot = 'threshold')"
   ]
  },
  {
   "cell_type": "markdown",
   "metadata": {},
   "source": [
    "## Optimize the threshold"
   ]
  },
  {
   "cell_type": "code",
   "execution_count": 73,
   "metadata": {},
   "outputs": [
    {
     "data": {
      "application/vnd.plotly.v1+json": {
       "config": {
        "plotlyServerURL": "https://plot.ly"
       },
       "data": [
        {
         "hovertemplate": "variable=Accuracy<br>probability_threshold=%{x}<br>value=%{y}<extra></extra>",
         "legendgroup": "Accuracy",
         "line": {
          "color": "#636efa",
          "dash": "solid"
         },
         "marker": {
          "symbol": "circle"
         },
         "mode": "lines",
         "name": "Accuracy",
         "orientation": "v",
         "showlegend": true,
         "type": "scatter",
         "x": [
          0,
          0.01,
          0.02,
          0.03,
          0.04,
          0.05,
          0.06,
          0.07,
          0.08,
          0.09,
          0.1,
          0.11,
          0.12,
          0.13,
          0.14,
          0.15,
          0.16,
          0.17,
          0.18,
          0.19,
          0.2,
          0.21,
          0.22,
          0.23,
          0.24,
          0.25,
          0.26,
          0.27,
          0.28,
          0.29,
          0.3,
          0.31,
          0.32,
          0.33,
          0.34,
          0.35000000000000003,
          0.36,
          0.37,
          0.38,
          0.39,
          0.4,
          0.41000000000000003,
          0.42,
          0.43,
          0.44,
          0.45,
          0.46,
          0.47000000000000003,
          0.48,
          0.49,
          0.5,
          0.51,
          0.52,
          0.53,
          0.54,
          0.55,
          0.56,
          0.5700000000000001,
          0.58,
          0.59,
          0.6,
          0.61,
          0.62,
          0.63,
          0.64,
          0.65,
          0.66,
          0.67,
          0.68,
          0.6900000000000001,
          0.7000000000000001,
          0.71,
          0.72,
          0.73,
          0.74,
          0.75,
          0.76,
          0.77,
          0.78,
          0.79,
          0.8,
          0.81,
          0.8200000000000001,
          0.8300000000000001,
          0.84,
          0.85,
          0.86,
          0.87,
          0.88,
          0.89,
          0.9,
          0.91,
          0.92,
          0.93,
          0.9400000000000001,
          0.9500000000000001,
          0.96,
          0.97,
          0.98,
          0.99,
          1
         ],
         "xaxis": "x",
         "y": [
          0.7695,
          0.2226,
          0.2233,
          0.2236,
          0.2249,
          0.2258,
          0.2268,
          0.2278,
          0.2287,
          0.2308,
          0.2328,
          0.2361,
          0.2382,
          0.2418,
          0.2451,
          0.2495,
          0.2546,
          0.2588,
          0.2643,
          0.2709,
          0.2793,
          0.2888,
          0.2972,
          0.3084,
          0.3212,
          0.3371,
          0.3527,
          0.3699,
          0.3883,
          0.4096,
          0.4312,
          0.4545,
          0.4786,
          0.5057,
          0.5297,
          0.5522,
          0.576,
          0.6003,
          0.6238,
          0.645,
          0.6641,
          0.6809,
          0.6973,
          0.7123,
          0.722,
          0.7315,
          0.7418,
          0.75,
          0.7571,
          0.7629,
          0.7695,
          0.774,
          0.7787,
          0.7833,
          0.7871,
          0.7908,
          0.7937,
          0.7968,
          0.7987,
          0.8014,
          0.8042,
          0.8063,
          0.8081,
          0.8099,
          0.8115,
          0.8133,
          0.8141,
          0.8155,
          0.8174,
          0.8178,
          0.8182,
          0.8188,
          0.8188,
          0.819,
          0.8187,
          0.8185,
          0.8183,
          0.8179,
          0.8178,
          0.8176,
          0.817,
          0.8166,
          0.8161,
          0.816,
          0.8152,
          0.8131,
          0.8105,
          0.8087,
          0.8067,
          0.8044,
          0.8022,
          0.7997,
          0.797,
          0.7938,
          0.7898,
          0.7846,
          0.7794,
          0.778,
          0.7781,
          0.7781,
          0.7781
         ],
         "yaxis": "y"
        },
        {
         "hovertemplate": "variable=AUC<br>probability_threshold=%{x}<br>value=%{y}<extra></extra>",
         "legendgroup": "AUC",
         "line": {
          "color": "#EF553B",
          "dash": "solid"
         },
         "marker": {
          "symbol": "circle"
         },
         "mode": "lines",
         "name": "AUC",
         "orientation": "v",
         "showlegend": true,
         "type": "scatter",
         "x": [
          0,
          0.01,
          0.02,
          0.03,
          0.04,
          0.05,
          0.06,
          0.07,
          0.08,
          0.09,
          0.1,
          0.11,
          0.12,
          0.13,
          0.14,
          0.15,
          0.16,
          0.17,
          0.18,
          0.19,
          0.2,
          0.21,
          0.22,
          0.23,
          0.24,
          0.25,
          0.26,
          0.27,
          0.28,
          0.29,
          0.3,
          0.31,
          0.32,
          0.33,
          0.34,
          0.35000000000000003,
          0.36,
          0.37,
          0.38,
          0.39,
          0.4,
          0.41000000000000003,
          0.42,
          0.43,
          0.44,
          0.45,
          0.46,
          0.47000000000000003,
          0.48,
          0.49,
          0.5,
          0.51,
          0.52,
          0.53,
          0.54,
          0.55,
          0.56,
          0.5700000000000001,
          0.58,
          0.59,
          0.6,
          0.61,
          0.62,
          0.63,
          0.64,
          0.65,
          0.66,
          0.67,
          0.68,
          0.6900000000000001,
          0.7000000000000001,
          0.71,
          0.72,
          0.73,
          0.74,
          0.75,
          0.76,
          0.77,
          0.78,
          0.79,
          0.8,
          0.81,
          0.8200000000000001,
          0.8300000000000001,
          0.84,
          0.85,
          0.86,
          0.87,
          0.88,
          0.89,
          0.9,
          0.91,
          0.92,
          0.93,
          0.9400000000000001,
          0.9500000000000001,
          0.96,
          0.97,
          0.98,
          0.99,
          1
         ],
         "xaxis": "x",
         "y": [
          0.7658,
          0.7658,
          0.7658,
          0.7658,
          0.7658,
          0.7658,
          0.7658,
          0.7658,
          0.7658,
          0.7658,
          0.7658,
          0.7658,
          0.7658,
          0.7658,
          0.7658,
          0.7658,
          0.7658,
          0.7658,
          0.7658,
          0.7658,
          0.7658,
          0.7658,
          0.7658,
          0.7658,
          0.7658,
          0.7658,
          0.7658,
          0.7658,
          0.7658,
          0.7658,
          0.7658,
          0.7658,
          0.7658,
          0.7658,
          0.7658,
          0.7658,
          0.7658,
          0.7658,
          0.7658,
          0.7658,
          0.7658,
          0.7658,
          0.7658,
          0.7658,
          0.7658,
          0.7658,
          0.7658,
          0.7658,
          0.7658,
          0.7658,
          0.7658,
          0.7658,
          0.7658,
          0.7658,
          0.7658,
          0.7658,
          0.7658,
          0.7658,
          0.7658,
          0.7658,
          0.7658,
          0.7658,
          0.7658,
          0.7658,
          0.7658,
          0.7658,
          0.7658,
          0.7658,
          0.7658,
          0.7658,
          0.7658,
          0.7658,
          0.7658,
          0.7658,
          0.7658,
          0.7658,
          0.7658,
          0.7658,
          0.7658,
          0.7658,
          0.7658,
          0.7658,
          0.7658,
          0.7658,
          0.7658,
          0.7658,
          0.7658,
          0.7658,
          0.7658,
          0.7658,
          0.7658,
          0.7658,
          0.7658,
          0.7658,
          0.7658,
          0.7658,
          0.7658,
          0.7658,
          0.7658,
          0.7658,
          0.7658
         ],
         "yaxis": "y"
        },
        {
         "hovertemplate": "variable=Recall<br>probability_threshold=%{x}<br>value=%{y}<extra></extra>",
         "legendgroup": "Recall",
         "line": {
          "color": "#00cc96",
          "dash": "solid"
         },
         "marker": {
          "symbol": "circle"
         },
         "mode": "lines",
         "name": "Recall",
         "orientation": "v",
         "showlegend": true,
         "type": "scatter",
         "x": [
          0,
          0.01,
          0.02,
          0.03,
          0.04,
          0.05,
          0.06,
          0.07,
          0.08,
          0.09,
          0.1,
          0.11,
          0.12,
          0.13,
          0.14,
          0.15,
          0.16,
          0.17,
          0.18,
          0.19,
          0.2,
          0.21,
          0.22,
          0.23,
          0.24,
          0.25,
          0.26,
          0.27,
          0.28,
          0.29,
          0.3,
          0.31,
          0.32,
          0.33,
          0.34,
          0.35000000000000003,
          0.36,
          0.37,
          0.38,
          0.39,
          0.4,
          0.41000000000000003,
          0.42,
          0.43,
          0.44,
          0.45,
          0.46,
          0.47000000000000003,
          0.48,
          0.49,
          0.5,
          0.51,
          0.52,
          0.53,
          0.54,
          0.55,
          0.56,
          0.5700000000000001,
          0.58,
          0.59,
          0.6,
          0.61,
          0.62,
          0.63,
          0.64,
          0.65,
          0.66,
          0.67,
          0.68,
          0.6900000000000001,
          0.7000000000000001,
          0.71,
          0.72,
          0.73,
          0.74,
          0.75,
          0.76,
          0.77,
          0.78,
          0.79,
          0.8,
          0.81,
          0.8200000000000001,
          0.8300000000000001,
          0.84,
          0.85,
          0.86,
          0.87,
          0.88,
          0.89,
          0.9,
          0.91,
          0.92,
          0.93,
          0.9400000000000001,
          0.9500000000000001,
          0.96,
          0.97,
          0.98,
          0.99,
          1
         ],
         "xaxis": "x",
         "y": [
          0.585,
          1,
          1,
          1,
          1,
          0.9997,
          0.9992,
          0.9989,
          0.998,
          0.9975,
          0.9963,
          0.996,
          0.9941,
          0.9938,
          0.9927,
          0.9915,
          0.9893,
          0.9879,
          0.9865,
          0.9845,
          0.9825,
          0.9808,
          0.9769,
          0.9729,
          0.9695,
          0.9644,
          0.954,
          0.9481,
          0.941,
          0.9331,
          0.9224,
          0.9111,
          0.8921,
          0.8789,
          0.8586,
          0.8323,
          0.81,
          0.7871,
          0.7643,
          0.7408,
          0.7196,
          0.7021,
          0.6852,
          0.6694,
          0.6505,
          0.6366,
          0.6253,
          0.6152,
          0.6036,
          0.5937,
          0.585,
          0.5725,
          0.5644,
          0.557,
          0.5505,
          0.5398,
          0.5285,
          0.5172,
          0.5045,
          0.4949,
          0.489,
          0.4805,
          0.4709,
          0.4619,
          0.454,
          0.4461,
          0.4359,
          0.4283,
          0.4232,
          0.4161,
          0.4099,
          0.4029,
          0.3964,
          0.3896,
          0.3809,
          0.3735,
          0.3648,
          0.3569,
          0.3484,
          0.3416,
          0.3329,
          0.3238,
          0.3131,
          0.3015,
          0.2863,
          0.2651,
          0.2417,
          0.2219,
          0.2019,
          0.1813,
          0.1618,
          0.142,
          0.1231,
          0.1016,
          0.0754,
          0.0421,
          0.0102,
          0.0006,
          0,
          0,
          0
         ],
         "yaxis": "y"
        },
        {
         "hovertemplate": "variable=Prec.<br>probability_threshold=%{x}<br>value=%{y}<extra></extra>",
         "legendgroup": "Prec.",
         "line": {
          "color": "#ab63fa",
          "dash": "solid"
         },
         "marker": {
          "symbol": "circle"
         },
         "mode": "lines",
         "name": "Prec.",
         "orientation": "v",
         "showlegend": true,
         "type": "scatter",
         "x": [
          0,
          0.01,
          0.02,
          0.03,
          0.04,
          0.05,
          0.06,
          0.07,
          0.08,
          0.09,
          0.1,
          0.11,
          0.12,
          0.13,
          0.14,
          0.15,
          0.16,
          0.17,
          0.18,
          0.19,
          0.2,
          0.21,
          0.22,
          0.23,
          0.24,
          0.25,
          0.26,
          0.27,
          0.28,
          0.29,
          0.3,
          0.31,
          0.32,
          0.33,
          0.34,
          0.35000000000000003,
          0.36,
          0.37,
          0.38,
          0.39,
          0.4,
          0.41000000000000003,
          0.42,
          0.43,
          0.44,
          0.45,
          0.46,
          0.47000000000000003,
          0.48,
          0.49,
          0.5,
          0.51,
          0.52,
          0.53,
          0.54,
          0.55,
          0.56,
          0.5700000000000001,
          0.58,
          0.59,
          0.6,
          0.61,
          0.62,
          0.63,
          0.64,
          0.65,
          0.66,
          0.67,
          0.68,
          0.6900000000000001,
          0.7000000000000001,
          0.71,
          0.72,
          0.73,
          0.74,
          0.75,
          0.76,
          0.77,
          0.78,
          0.79,
          0.8,
          0.81,
          0.8200000000000001,
          0.8300000000000001,
          0.84,
          0.85,
          0.86,
          0.87,
          0.88,
          0.89,
          0.9,
          0.91,
          0.92,
          0.93,
          0.9400000000000001,
          0.9500000000000001,
          0.96,
          0.97,
          0.98,
          0.99,
          1
         ],
         "xaxis": "x",
         "y": [
          0.4845,
          0.2221,
          0.2222,
          0.2223,
          0.2226,
          0.2228,
          0.2229,
          0.2231,
          0.2232,
          0.2236,
          0.2239,
          0.2246,
          0.2249,
          0.2257,
          0.2263,
          0.2272,
          0.2281,
          0.2289,
          0.2301,
          0.2314,
          0.2333,
          0.2354,
          0.2371,
          0.2395,
          0.2425,
          0.2463,
          0.2494,
          0.2539,
          0.2587,
          0.2646,
          0.2707,
          0.2778,
          0.2847,
          0.2945,
          0.3027,
          0.3103,
          0.3202,
          0.3314,
          0.3438,
          0.3561,
          0.3687,
          0.3812,
          0.3953,
          0.4095,
          0.4189,
          0.4295,
          0.4424,
          0.4535,
          0.4638,
          0.473,
          0.4845,
          0.4926,
          0.5015,
          0.5112,
          0.5196,
          0.5283,
          0.5359,
          0.5449,
          0.5514,
          0.5598,
          0.5692,
          0.5768,
          0.5845,
          0.5923,
          0.5999,
          0.6087,
          0.6153,
          0.6231,
          0.6332,
          0.6379,
          0.6422,
          0.6487,
          0.6517,
          0.6558,
          0.6588,
          0.6618,
          0.666,
          0.6686,
          0.674,
          0.6769,
          0.6796,
          0.6841,
          0.6895,
          0.6992,
          0.7084,
          0.7144,
          0.7194,
          0.7283,
          0.7369,
          0.7466,
          0.7563,
          0.7615,
          0.7643,
          0.7756,
          0.7763,
          0.7849,
          0.8103,
          0.2,
          0,
          0,
          0
         ],
         "yaxis": "y"
        },
        {
         "hovertemplate": "variable=F1<br>probability_threshold=%{x}<br>value=%{y}<extra></extra>",
         "legendgroup": "F1",
         "line": {
          "color": "#FFA15A",
          "dash": "solid"
         },
         "marker": {
          "symbol": "circle"
         },
         "mode": "lines",
         "name": "F1",
         "orientation": "v",
         "showlegend": true,
         "type": "scatter",
         "x": [
          0,
          0.01,
          0.02,
          0.03,
          0.04,
          0.05,
          0.06,
          0.07,
          0.08,
          0.09,
          0.1,
          0.11,
          0.12,
          0.13,
          0.14,
          0.15,
          0.16,
          0.17,
          0.18,
          0.19,
          0.2,
          0.21,
          0.22,
          0.23,
          0.24,
          0.25,
          0.26,
          0.27,
          0.28,
          0.29,
          0.3,
          0.31,
          0.32,
          0.33,
          0.34,
          0.35000000000000003,
          0.36,
          0.37,
          0.38,
          0.39,
          0.4,
          0.41000000000000003,
          0.42,
          0.43,
          0.44,
          0.45,
          0.46,
          0.47000000000000003,
          0.48,
          0.49,
          0.5,
          0.51,
          0.52,
          0.53,
          0.54,
          0.55,
          0.56,
          0.5700000000000001,
          0.58,
          0.59,
          0.6,
          0.61,
          0.62,
          0.63,
          0.64,
          0.65,
          0.66,
          0.67,
          0.68,
          0.6900000000000001,
          0.7000000000000001,
          0.71,
          0.72,
          0.73,
          0.74,
          0.75,
          0.76,
          0.77,
          0.78,
          0.79,
          0.8,
          0.81,
          0.8200000000000001,
          0.8300000000000001,
          0.84,
          0.85,
          0.86,
          0.87,
          0.88,
          0.89,
          0.9,
          0.91,
          0.92,
          0.93,
          0.9400000000000001,
          0.9500000000000001,
          0.96,
          0.97,
          0.98,
          0.99,
          1
         ],
         "xaxis": "x",
         "y": [
          0.5298,
          0.3635,
          0.3637,
          0.3637,
          0.3641,
          0.3643,
          0.3645,
          0.3648,
          0.3648,
          0.3653,
          0.3657,
          0.3666,
          0.3668,
          0.3678,
          0.3686,
          0.3696,
          0.3707,
          0.3717,
          0.3731,
          0.3748,
          0.377,
          0.3797,
          0.3816,
          0.3844,
          0.388,
          0.3924,
          0.3955,
          0.4005,
          0.4058,
          0.4123,
          0.4186,
          0.4258,
          0.4317,
          0.4411,
          0.4476,
          0.4521,
          0.4589,
          0.4664,
          0.4742,
          0.4809,
          0.4875,
          0.4941,
          0.5013,
          0.508,
          0.5095,
          0.5128,
          0.518,
          0.522,
          0.5244,
          0.5264,
          0.5298,
          0.5294,
          0.5309,
          0.5329,
          0.5344,
          0.5338,
          0.5319,
          0.5304,
          0.5266,
          0.5251,
          0.5257,
          0.524,
          0.5213,
          0.5187,
          0.5165,
          0.5145,
          0.51,
          0.5074,
          0.5071,
          0.5035,
          0.5002,
          0.4967,
          0.4927,
          0.4885,
          0.4824,
          0.4772,
          0.471,
          0.4649,
          0.4589,
          0.4537,
          0.4465,
          0.4391,
          0.4301,
          0.4208,
          0.4071,
          0.3861,
          0.361,
          0.3393,
          0.3162,
          0.291,
          0.2658,
          0.2388,
          0.2114,
          0.1789,
          0.1368,
          0.0796,
          0.0199,
          0.0011,
          0,
          0,
          0
         ],
         "yaxis": "y"
        },
        {
         "hovertemplate": "variable=Kappa<br>probability_threshold=%{x}<br>value=%{y}<extra></extra>",
         "legendgroup": "Kappa",
         "line": {
          "color": "#19d3f3",
          "dash": "solid"
         },
         "marker": {
          "symbol": "circle"
         },
         "mode": "lines",
         "name": "Kappa",
         "orientation": "v",
         "showlegend": true,
         "type": "scatter",
         "x": [
          0,
          0.01,
          0.02,
          0.03,
          0.04,
          0.05,
          0.06,
          0.07,
          0.08,
          0.09,
          0.1,
          0.11,
          0.12,
          0.13,
          0.14,
          0.15,
          0.16,
          0.17,
          0.18,
          0.19,
          0.2,
          0.21,
          0.22,
          0.23,
          0.24,
          0.25,
          0.26,
          0.27,
          0.28,
          0.29,
          0.3,
          0.31,
          0.32,
          0.33,
          0.34,
          0.35000000000000003,
          0.36,
          0.37,
          0.38,
          0.39,
          0.4,
          0.41000000000000003,
          0.42,
          0.43,
          0.44,
          0.45,
          0.46,
          0.47000000000000003,
          0.48,
          0.49,
          0.5,
          0.51,
          0.52,
          0.53,
          0.54,
          0.55,
          0.56,
          0.5700000000000001,
          0.58,
          0.59,
          0.6,
          0.61,
          0.62,
          0.63,
          0.64,
          0.65,
          0.66,
          0.67,
          0.68,
          0.6900000000000001,
          0.7000000000000001,
          0.71,
          0.72,
          0.73,
          0.74,
          0.75,
          0.76,
          0.77,
          0.78,
          0.79,
          0.8,
          0.81,
          0.8200000000000001,
          0.8300000000000001,
          0.84,
          0.85,
          0.86,
          0.87,
          0.88,
          0.89,
          0.9,
          0.91,
          0.92,
          0.93,
          0.9400000000000001,
          0.9500000000000001,
          0.96,
          0.97,
          0.98,
          0.99,
          1
         ],
         "xaxis": "x",
         "y": [
          0.379,
          0.0004,
          0.0008,
          0.0009,
          0.0017,
          0.0021,
          0.0025,
          0.003,
          0.0033,
          0.0043,
          0.0051,
          0.0069,
          0.0075,
          0.0095,
          0.0111,
          0.0133,
          0.0156,
          0.0177,
          0.0206,
          0.024,
          0.0285,
          0.0339,
          0.0379,
          0.0438,
          0.0511,
          0.06,
          0.0673,
          0.0775,
          0.0884,
          0.1016,
          0.1148,
          0.1297,
          0.1434,
          0.1627,
          0.1778,
          0.1902,
          0.2064,
          0.2241,
          0.2422,
          0.2587,
          0.2746,
          0.2898,
          0.3059,
          0.321,
          0.328,
          0.3371,
          0.3487,
          0.358,
          0.3651,
          0.371,
          0.379,
          0.3819,
          0.3868,
          0.3922,
          0.3966,
          0.399,
          0.3997,
          0.4009,
          0.3992,
          0.4002,
          0.4034,
          0.4037,
          0.4031,
          0.4026,
          0.4022,
          0.4024,
          0.3995,
          0.3987,
          0.4004,
          0.3979,
          0.3956,
          0.3936,
          0.3903,
          0.3871,
          0.3819,
          0.3776,
          0.3725,
          0.3673,
          0.3625,
          0.3582,
          0.352,
          0.3459,
          0.3385,
          0.3315,
          0.3203,
          0.3022,
          0.2808,
          0.263,
          0.2442,
          0.2238,
          0.2037,
          0.1821,
          0.1602,
          0.1345,
          0.1015,
          0.058,
          0.0138,
          0.0005,
          0,
          0,
          0
         ],
         "yaxis": "y"
        },
        {
         "hovertemplate": "variable=MCC<br>probability_threshold=%{x}<br>value=%{y}<extra></extra>",
         "legendgroup": "MCC",
         "line": {
          "color": "#FF6692",
          "dash": "solid"
         },
         "marker": {
          "symbol": "circle"
         },
         "mode": "lines",
         "name": "MCC",
         "orientation": "v",
         "showlegend": true,
         "type": "scatter",
         "x": [
          0,
          0.01,
          0.02,
          0.03,
          0.04,
          0.05,
          0.06,
          0.07,
          0.08,
          0.09,
          0.1,
          0.11,
          0.12,
          0.13,
          0.14,
          0.15,
          0.16,
          0.17,
          0.18,
          0.19,
          0.2,
          0.21,
          0.22,
          0.23,
          0.24,
          0.25,
          0.26,
          0.27,
          0.28,
          0.29,
          0.3,
          0.31,
          0.32,
          0.33,
          0.34,
          0.35000000000000003,
          0.36,
          0.37,
          0.38,
          0.39,
          0.4,
          0.41000000000000003,
          0.42,
          0.43,
          0.44,
          0.45,
          0.46,
          0.47000000000000003,
          0.48,
          0.49,
          0.5,
          0.51,
          0.52,
          0.53,
          0.54,
          0.55,
          0.56,
          0.5700000000000001,
          0.58,
          0.59,
          0.6,
          0.61,
          0.62,
          0.63,
          0.64,
          0.65,
          0.66,
          0.67,
          0.68,
          0.6900000000000001,
          0.7000000000000001,
          0.71,
          0.72,
          0.73,
          0.74,
          0.75,
          0.76,
          0.77,
          0.78,
          0.79,
          0.8,
          0.81,
          0.8200000000000001,
          0.8300000000000001,
          0.84,
          0.85,
          0.86,
          0.87,
          0.88,
          0.89,
          0.9,
          0.91,
          0.92,
          0.93,
          0.9400000000000001,
          0.9500000000000001,
          0.96,
          0.97,
          0.98,
          0.99,
          1
         ],
         "xaxis": "x",
         "y": [
          0.3821,
          0.0124,
          0.0169,
          0.021,
          0.0286,
          0.0305,
          0.0323,
          0.0347,
          0.035,
          0.0406,
          0.0426,
          0.0512,
          0.0511,
          0.0591,
          0.0635,
          0.0699,
          0.0752,
          0.0801,
          0.0869,
          0.094,
          0.1032,
          0.1137,
          0.1192,
          0.1279,
          0.1391,
          0.151,
          0.1567,
          0.1689,
          0.1809,
          0.1949,
          0.2066,
          0.2198,
          0.2283,
          0.2444,
          0.2533,
          0.2579,
          0.2674,
          0.2781,
          0.2893,
          0.2989,
          0.3087,
          0.3187,
          0.3298,
          0.3405,
          0.3436,
          0.3496,
          0.3586,
          0.3657,
          0.3709,
          0.3753,
          0.3821,
          0.3839,
          0.3881,
          0.393,
          0.397,
          0.3991,
          0.3998,
          0.4013,
          0.4,
          0.4015,
          0.4054,
          0.4065,
          0.4069,
          0.4076,
          0.4084,
          0.41,
          0.4087,
          0.4094,
          0.4128,
          0.4117,
          0.4106,
          0.4103,
          0.4083,
          0.4066,
          0.4031,
          0.4003,
          0.3973,
          0.3938,
          0.3913,
          0.3886,
          0.3844,
          0.3807,
          0.3763,
          0.3733,
          0.3669,
          0.3544,
          0.3391,
          0.3274,
          0.3147,
          0.3006,
          0.2862,
          0.2693,
          0.2507,
          0.2289,
          0.1962,
          0.1465,
          0.0663,
          0.0054,
          0,
          0,
          0
         ],
         "yaxis": "y"
        },
        {
         "hovertemplate": "variable=Profit<br>probability_threshold=%{x}<br>value=%{y}<extra></extra>",
         "legendgroup": "Profit",
         "line": {
          "color": "#B6E880",
          "dash": "solid"
         },
         "marker": {
          "symbol": "circle"
         },
         "mode": "lines",
         "name": "Profit",
         "orientation": "v",
         "showlegend": true,
         "type": "scatter",
         "x": [
          0,
          0.01,
          0.02,
          0.03,
          0.04,
          0.05,
          0.06,
          0.07,
          0.08,
          0.09,
          0.1,
          0.11,
          0.12,
          0.13,
          0.14,
          0.15,
          0.16,
          0.17,
          0.18,
          0.19,
          0.2,
          0.21,
          0.22,
          0.23,
          0.24,
          0.25,
          0.26,
          0.27,
          0.28,
          0.29,
          0.3,
          0.31,
          0.32,
          0.33,
          0.34,
          0.35000000000000003,
          0.36,
          0.37,
          0.38,
          0.39,
          0.4,
          0.41000000000000003,
          0.42,
          0.43,
          0.44,
          0.45,
          0.46,
          0.47000000000000003,
          0.48,
          0.49,
          0.5,
          0.51,
          0.52,
          0.53,
          0.54,
          0.55,
          0.56,
          0.5700000000000001,
          0.58,
          0.59,
          0.6,
          0.61,
          0.62,
          0.63,
          0.64,
          0.65,
          0.66,
          0.67,
          0.68,
          0.6900000000000001,
          0.7000000000000001,
          0.71,
          0.72,
          0.73,
          0.74,
          0.75,
          0.76,
          0.77,
          0.78,
          0.79,
          0.8,
          0.81,
          0.8200000000000001,
          0.8300000000000001,
          0.84,
          0.85,
          0.86,
          0.87,
          0.88,
          0.89,
          0.9,
          0.91,
          0.92,
          0.93,
          0.9400000000000001,
          0.9500000000000001,
          0.96,
          0.97,
          0.98,
          0.99,
          1
         ],
         "xaxis": "x",
         "y": [
          285900,
          1100,
          2100,
          2600,
          4700,
          5700,
          6600,
          7800,
          8000,
          10600,
          12100,
          17000,
          17500,
          22900,
          26500,
          31900,
          36900,
          41600,
          48400,
          56200,
          66800,
          79500,
          87300,
          99500,
          115200,
          133300,
          143400,
          162600,
          181900,
          204700,
          224000,
          245200,
          256800,
          281200,
          290700,
          289400,
          295900,
          302200,
          307400,
          308000,
          308500,
          310400,
          312700,
          314100,
          302800,
          298400,
          298800,
          297500,
          292400,
          287700,
          285900,
          275500,
          271300,
          268300,
          265200,
          255800,
          244400,
          233400,
          218500,
          209100,
          205300,
          196600,
          185900,
          175900,
          167200,
          158900,
          145900,
          137200,
          133100,
          123800,
          115500,
          106600,
          97400,
          88000,
          75100,
          64400,
          51700,
          39900,
          27800,
          17800,
          4500,
          -9000,
          -25000,
          -41500,
          -64400,
          -97800,
          -135100,
          -166000,
          -197600,
          -230400,
          -261500,
          -293500,
          -324600,
          -360100,
          -403800,
          -459300,
          -512800,
          -528600,
          -529300,
          -529300,
          -529300
         ],
         "yaxis": "y"
        }
       ],
       "layout": {
        "autosize": true,
        "legend": {
         "title": {
          "text": "variable"
         },
         "tracegroupgap": 0
        },
        "template": {
         "data": {
          "bar": [
           {
            "error_x": {
             "color": "#2a3f5f"
            },
            "error_y": {
             "color": "#2a3f5f"
            },
            "marker": {
             "line": {
              "color": "#E5ECF6",
              "width": 0.5
             },
             "pattern": {
              "fillmode": "overlay",
              "size": 10,
              "solidity": 0.2
             }
            },
            "type": "bar"
           }
          ],
          "barpolar": [
           {
            "marker": {
             "line": {
              "color": "#E5ECF6",
              "width": 0.5
             },
             "pattern": {
              "fillmode": "overlay",
              "size": 10,
              "solidity": 0.2
             }
            },
            "type": "barpolar"
           }
          ],
          "carpet": [
           {
            "aaxis": {
             "endlinecolor": "#2a3f5f",
             "gridcolor": "white",
             "linecolor": "white",
             "minorgridcolor": "white",
             "startlinecolor": "#2a3f5f"
            },
            "baxis": {
             "endlinecolor": "#2a3f5f",
             "gridcolor": "white",
             "linecolor": "white",
             "minorgridcolor": "white",
             "startlinecolor": "#2a3f5f"
            },
            "type": "carpet"
           }
          ],
          "choropleth": [
           {
            "colorbar": {
             "outlinewidth": 0,
             "ticks": ""
            },
            "type": "choropleth"
           }
          ],
          "contour": [
           {
            "colorbar": {
             "outlinewidth": 0,
             "ticks": ""
            },
            "colorscale": [
             [
              0,
              "#0d0887"
             ],
             [
              0.1111111111111111,
              "#46039f"
             ],
             [
              0.2222222222222222,
              "#7201a8"
             ],
             [
              0.3333333333333333,
              "#9c179e"
             ],
             [
              0.4444444444444444,
              "#bd3786"
             ],
             [
              0.5555555555555556,
              "#d8576b"
             ],
             [
              0.6666666666666666,
              "#ed7953"
             ],
             [
              0.7777777777777778,
              "#fb9f3a"
             ],
             [
              0.8888888888888888,
              "#fdca26"
             ],
             [
              1,
              "#f0f921"
             ]
            ],
            "type": "contour"
           }
          ],
          "contourcarpet": [
           {
            "colorbar": {
             "outlinewidth": 0,
             "ticks": ""
            },
            "type": "contourcarpet"
           }
          ],
          "heatmap": [
           {
            "colorbar": {
             "outlinewidth": 0,
             "ticks": ""
            },
            "colorscale": [
             [
              0,
              "#0d0887"
             ],
             [
              0.1111111111111111,
              "#46039f"
             ],
             [
              0.2222222222222222,
              "#7201a8"
             ],
             [
              0.3333333333333333,
              "#9c179e"
             ],
             [
              0.4444444444444444,
              "#bd3786"
             ],
             [
              0.5555555555555556,
              "#d8576b"
             ],
             [
              0.6666666666666666,
              "#ed7953"
             ],
             [
              0.7777777777777778,
              "#fb9f3a"
             ],
             [
              0.8888888888888888,
              "#fdca26"
             ],
             [
              1,
              "#f0f921"
             ]
            ],
            "type": "heatmap"
           }
          ],
          "heatmapgl": [
           {
            "colorbar": {
             "outlinewidth": 0,
             "ticks": ""
            },
            "colorscale": [
             [
              0,
              "#0d0887"
             ],
             [
              0.1111111111111111,
              "#46039f"
             ],
             [
              0.2222222222222222,
              "#7201a8"
             ],
             [
              0.3333333333333333,
              "#9c179e"
             ],
             [
              0.4444444444444444,
              "#bd3786"
             ],
             [
              0.5555555555555556,
              "#d8576b"
             ],
             [
              0.6666666666666666,
              "#ed7953"
             ],
             [
              0.7777777777777778,
              "#fb9f3a"
             ],
             [
              0.8888888888888888,
              "#fdca26"
             ],
             [
              1,
              "#f0f921"
             ]
            ],
            "type": "heatmapgl"
           }
          ],
          "histogram": [
           {
            "marker": {
             "pattern": {
              "fillmode": "overlay",
              "size": 10,
              "solidity": 0.2
             }
            },
            "type": "histogram"
           }
          ],
          "histogram2d": [
           {
            "colorbar": {
             "outlinewidth": 0,
             "ticks": ""
            },
            "colorscale": [
             [
              0,
              "#0d0887"
             ],
             [
              0.1111111111111111,
              "#46039f"
             ],
             [
              0.2222222222222222,
              "#7201a8"
             ],
             [
              0.3333333333333333,
              "#9c179e"
             ],
             [
              0.4444444444444444,
              "#bd3786"
             ],
             [
              0.5555555555555556,
              "#d8576b"
             ],
             [
              0.6666666666666666,
              "#ed7953"
             ],
             [
              0.7777777777777778,
              "#fb9f3a"
             ],
             [
              0.8888888888888888,
              "#fdca26"
             ],
             [
              1,
              "#f0f921"
             ]
            ],
            "type": "histogram2d"
           }
          ],
          "histogram2dcontour": [
           {
            "colorbar": {
             "outlinewidth": 0,
             "ticks": ""
            },
            "colorscale": [
             [
              0,
              "#0d0887"
             ],
             [
              0.1111111111111111,
              "#46039f"
             ],
             [
              0.2222222222222222,
              "#7201a8"
             ],
             [
              0.3333333333333333,
              "#9c179e"
             ],
             [
              0.4444444444444444,
              "#bd3786"
             ],
             [
              0.5555555555555556,
              "#d8576b"
             ],
             [
              0.6666666666666666,
              "#ed7953"
             ],
             [
              0.7777777777777778,
              "#fb9f3a"
             ],
             [
              0.8888888888888888,
              "#fdca26"
             ],
             [
              1,
              "#f0f921"
             ]
            ],
            "type": "histogram2dcontour"
           }
          ],
          "mesh3d": [
           {
            "colorbar": {
             "outlinewidth": 0,
             "ticks": ""
            },
            "type": "mesh3d"
           }
          ],
          "parcoords": [
           {
            "line": {
             "colorbar": {
              "outlinewidth": 0,
              "ticks": ""
             }
            },
            "type": "parcoords"
           }
          ],
          "pie": [
           {
            "automargin": true,
            "type": "pie"
           }
          ],
          "scatter": [
           {
            "fillpattern": {
             "fillmode": "overlay",
             "size": 10,
             "solidity": 0.2
            },
            "type": "scatter"
           }
          ],
          "scatter3d": [
           {
            "line": {
             "colorbar": {
              "outlinewidth": 0,
              "ticks": ""
             }
            },
            "marker": {
             "colorbar": {
              "outlinewidth": 0,
              "ticks": ""
             }
            },
            "type": "scatter3d"
           }
          ],
          "scattercarpet": [
           {
            "marker": {
             "colorbar": {
              "outlinewidth": 0,
              "ticks": ""
             }
            },
            "type": "scattercarpet"
           }
          ],
          "scattergeo": [
           {
            "marker": {
             "colorbar": {
              "outlinewidth": 0,
              "ticks": ""
             }
            },
            "type": "scattergeo"
           }
          ],
          "scattergl": [
           {
            "marker": {
             "colorbar": {
              "outlinewidth": 0,
              "ticks": ""
             }
            },
            "type": "scattergl"
           }
          ],
          "scattermapbox": [
           {
            "marker": {
             "colorbar": {
              "outlinewidth": 0,
              "ticks": ""
             }
            },
            "type": "scattermapbox"
           }
          ],
          "scatterpolar": [
           {
            "marker": {
             "colorbar": {
              "outlinewidth": 0,
              "ticks": ""
             }
            },
            "type": "scatterpolar"
           }
          ],
          "scatterpolargl": [
           {
            "marker": {
             "colorbar": {
              "outlinewidth": 0,
              "ticks": ""
             }
            },
            "type": "scatterpolargl"
           }
          ],
          "scatterternary": [
           {
            "marker": {
             "colorbar": {
              "outlinewidth": 0,
              "ticks": ""
             }
            },
            "type": "scatterternary"
           }
          ],
          "surface": [
           {
            "colorbar": {
             "outlinewidth": 0,
             "ticks": ""
            },
            "colorscale": [
             [
              0,
              "#0d0887"
             ],
             [
              0.1111111111111111,
              "#46039f"
             ],
             [
              0.2222222222222222,
              "#7201a8"
             ],
             [
              0.3333333333333333,
              "#9c179e"
             ],
             [
              0.4444444444444444,
              "#bd3786"
             ],
             [
              0.5555555555555556,
              "#d8576b"
             ],
             [
              0.6666666666666666,
              "#ed7953"
             ],
             [
              0.7777777777777778,
              "#fb9f3a"
             ],
             [
              0.8888888888888888,
              "#fdca26"
             ],
             [
              1,
              "#f0f921"
             ]
            ],
            "type": "surface"
           }
          ],
          "table": [
           {
            "cells": {
             "fill": {
              "color": "#EBF0F8"
             },
             "line": {
              "color": "white"
             }
            },
            "header": {
             "fill": {
              "color": "#C8D4E3"
             },
             "line": {
              "color": "white"
             }
            },
            "type": "table"
           }
          ]
         },
         "layout": {
          "annotationdefaults": {
           "arrowcolor": "#2a3f5f",
           "arrowhead": 0,
           "arrowwidth": 1
          },
          "autotypenumbers": "strict",
          "coloraxis": {
           "colorbar": {
            "outlinewidth": 0,
            "ticks": ""
           }
          },
          "colorscale": {
           "diverging": [
            [
             0,
             "#8e0152"
            ],
            [
             0.1,
             "#c51b7d"
            ],
            [
             0.2,
             "#de77ae"
            ],
            [
             0.3,
             "#f1b6da"
            ],
            [
             0.4,
             "#fde0ef"
            ],
            [
             0.5,
             "#f7f7f7"
            ],
            [
             0.6,
             "#e6f5d0"
            ],
            [
             0.7,
             "#b8e186"
            ],
            [
             0.8,
             "#7fbc41"
            ],
            [
             0.9,
             "#4d9221"
            ],
            [
             1,
             "#276419"
            ]
           ],
           "sequential": [
            [
             0,
             "#0d0887"
            ],
            [
             0.1111111111111111,
             "#46039f"
            ],
            [
             0.2222222222222222,
             "#7201a8"
            ],
            [
             0.3333333333333333,
             "#9c179e"
            ],
            [
             0.4444444444444444,
             "#bd3786"
            ],
            [
             0.5555555555555556,
             "#d8576b"
            ],
            [
             0.6666666666666666,
             "#ed7953"
            ],
            [
             0.7777777777777778,
             "#fb9f3a"
            ],
            [
             0.8888888888888888,
             "#fdca26"
            ],
            [
             1,
             "#f0f921"
            ]
           ],
           "sequentialminus": [
            [
             0,
             "#0d0887"
            ],
            [
             0.1111111111111111,
             "#46039f"
            ],
            [
             0.2222222222222222,
             "#7201a8"
            ],
            [
             0.3333333333333333,
             "#9c179e"
            ],
            [
             0.4444444444444444,
             "#bd3786"
            ],
            [
             0.5555555555555556,
             "#d8576b"
            ],
            [
             0.6666666666666666,
             "#ed7953"
            ],
            [
             0.7777777777777778,
             "#fb9f3a"
            ],
            [
             0.8888888888888888,
             "#fdca26"
            ],
            [
             1,
             "#f0f921"
            ]
           ]
          },
          "colorway": [
           "#636efa",
           "#EF553B",
           "#00cc96",
           "#ab63fa",
           "#FFA15A",
           "#19d3f3",
           "#FF6692",
           "#B6E880",
           "#FF97FF",
           "#FECB52"
          ],
          "font": {
           "color": "#2a3f5f"
          },
          "geo": {
           "bgcolor": "white",
           "lakecolor": "white",
           "landcolor": "#E5ECF6",
           "showlakes": true,
           "showland": true,
           "subunitcolor": "white"
          },
          "hoverlabel": {
           "align": "left"
          },
          "hovermode": "closest",
          "mapbox": {
           "style": "light"
          },
          "paper_bgcolor": "white",
          "plot_bgcolor": "#E5ECF6",
          "polar": {
           "angularaxis": {
            "gridcolor": "white",
            "linecolor": "white",
            "ticks": ""
           },
           "bgcolor": "#E5ECF6",
           "radialaxis": {
            "gridcolor": "white",
            "linecolor": "white",
            "ticks": ""
           }
          },
          "scene": {
           "xaxis": {
            "backgroundcolor": "#E5ECF6",
            "gridcolor": "white",
            "gridwidth": 2,
            "linecolor": "white",
            "showbackground": true,
            "ticks": "",
            "zerolinecolor": "white"
           },
           "yaxis": {
            "backgroundcolor": "#E5ECF6",
            "gridcolor": "white",
            "gridwidth": 2,
            "linecolor": "white",
            "showbackground": true,
            "ticks": "",
            "zerolinecolor": "white"
           },
           "zaxis": {
            "backgroundcolor": "#E5ECF6",
            "gridcolor": "white",
            "gridwidth": 2,
            "linecolor": "white",
            "showbackground": true,
            "ticks": "",
            "zerolinecolor": "white"
           }
          },
          "shapedefaults": {
           "line": {
            "color": "#2a3f5f"
           }
          },
          "ternary": {
           "aaxis": {
            "gridcolor": "white",
            "linecolor": "white",
            "ticks": ""
           },
           "baxis": {
            "gridcolor": "white",
            "linecolor": "white",
            "ticks": ""
           },
           "bgcolor": "#E5ECF6",
           "caxis": {
            "gridcolor": "white",
            "linecolor": "white",
            "ticks": ""
           }
          },
          "title": {
           "x": 0.05
          },
          "xaxis": {
           "automargin": true,
           "gridcolor": "white",
           "linecolor": "white",
           "ticks": "",
           "title": {
            "standoff": 15
           },
           "zerolinecolor": "white",
           "zerolinewidth": 2
          },
          "yaxis": {
           "automargin": true,
           "gridcolor": "white",
           "linecolor": "white",
           "ticks": "",
           "title": {
            "standoff": 15
           },
           "zerolinecolor": "white",
           "zerolinewidth": 2
          }
         }
        },
        "title": {
         "text": "Logistic Regression Probability Threshold Optimization (default = 0.5)"
        },
        "xaxis": {
         "anchor": "y",
         "autorange": true,
         "domain": [
          0,
          1
         ],
         "range": [
          0,
          1
         ],
         "title": {
          "text": "probability_threshold"
         },
         "type": "linear"
        },
        "yaxis": {
         "anchor": "x",
         "autorange": true,
         "domain": [
          0,
          1
         ],
         "range": [
          -576155.5555555555,
          360955.55555555556
         ],
         "title": {
          "text": "value"
         },
         "type": "linear"
        }
       }
      },
      "image/png": "[encoded data removed]",
      "text/html": [
       "<div>                            <div id=\"dde679a0-5c5e-4b74-a902-776f1f82d5ac\" class=\"plotly-graph-div\" style=\"height:525px; width:100%;\"></div>            <script type=\"text/javascript\">                require([\"plotly\"], function(Plotly) {                    window.PLOTLYENV=window.PLOTLYENV || {};                                    if (document.getElementById(\"dde679a0-5c5e-4b74-a902-776f1f82d5ac\")) {                    Plotly.newPlot(                        \"dde679a0-5c5e-4b74-a902-776f1f82d5ac\",                        [{\"hovertemplate\":\"variable=Accuracy<br>probability_threshold=%{x}<br>value=%{y}<extra></extra>\",\"legendgroup\":\"Accuracy\",\"line\":{\"color\":\"#636efa\",\"dash\":\"solid\"},\"marker\":{\"symbol\":\"circle\"},\"mode\":\"lines\",\"name\":\"Accuracy\",\"orientation\":\"v\",\"showlegend\":true,\"x\":[0.0,0.01,0.02,0.03,0.04,0.05,0.06,0.07,0.08,0.09,0.1,0.11,0.12,0.13,0.14,0.15,0.16,0.17,0.18,0.19,0.2,0.21,0.22,0.23,0.24,0.25,0.26,0.27,0.28,0.29,0.3,0.31,0.32,0.33,0.34,0.35000000000000003,0.36,0.37,0.38,0.39,0.4,0.41000000000000003,0.42,0.43,0.44,0.45,0.46,0.47000000000000003,0.48,0.49,0.5,0.51,0.52,0.53,0.54,0.55,0.56,0.5700000000000001,0.58,0.59,0.6,0.61,0.62,0.63,0.64,0.65,0.66,0.67,0.68,0.6900000000000001,0.7000000000000001,0.71,0.72,0.73,0.74,0.75,0.76,0.77,0.78,0.79,0.8,0.81,0.8200000000000001,0.8300000000000001,0.84,0.85,0.86,0.87,0.88,0.89,0.9,0.91,0.92,0.93,0.9400000000000001,0.9500000000000001,0.96,0.97,0.98,0.99,1.0],\"xaxis\":\"x\",\"y\":[0.7695,0.2226,0.2233,0.2236,0.2249,0.2258,0.2268,0.2278,0.2287,0.2308,0.2328,0.2361,0.2382,0.2418,0.2451,0.2495,0.2546,0.2588,0.2643,0.2709,0.2793,0.2888,0.2972,0.3084,0.3212,0.3371,0.3527,0.3699,0.3883,0.4096,0.4312,0.4545,0.4786,0.5057,0.5297,0.5522,0.576,0.6003,0.6238,0.645,0.6641,0.6809,0.6973,0.7123,0.722,0.7315,0.7418,0.75,0.7571,0.7629,0.7695,0.774,0.7787,0.7833,0.7871,0.7908,0.7937,0.7968,0.7987,0.8014,0.8042,0.8063,0.8081,0.8099,0.8115,0.8133,0.8141,0.8155,0.8174,0.8178,0.8182,0.8188,0.8188,0.819,0.8187,0.8185,0.8183,0.8179,0.8178,0.8176,0.817,0.8166,0.8161,0.816,0.8152,0.8131,0.8105,0.8087,0.8067,0.8044,0.8022,0.7997,0.797,0.7938,0.7898,0.7846,0.7794,0.778,0.7781,0.7781,0.7781],\"yaxis\":\"y\",\"type\":\"scatter\"},{\"hovertemplate\":\"variable=AUC<br>probability_threshold=%{x}<br>value=%{y}<extra></extra>\",\"legendgroup\":\"AUC\",\"line\":{\"color\":\"#EF553B\",\"dash\":\"solid\"},\"marker\":{\"symbol\":\"circle\"},\"mode\":\"lines\",\"name\":\"AUC\",\"orientation\":\"v\",\"showlegend\":true,\"x\":[0.0,0.01,0.02,0.03,0.04,0.05,0.06,0.07,0.08,0.09,0.1,0.11,0.12,0.13,0.14,0.15,0.16,0.17,0.18,0.19,0.2,0.21,0.22,0.23,0.24,0.25,0.26,0.27,0.28,0.29,0.3,0.31,0.32,0.33,0.34,0.35000000000000003,0.36,0.37,0.38,0.39,0.4,0.41000000000000003,0.42,0.43,0.44,0.45,0.46,0.47000000000000003,0.48,0.49,0.5,0.51,0.52,0.53,0.54,0.55,0.56,0.5700000000000001,0.58,0.59,0.6,0.61,0.62,0.63,0.64,0.65,0.66,0.67,0.68,0.6900000000000001,0.7000000000000001,0.71,0.72,0.73,0.74,0.75,0.76,0.77,0.78,0.79,0.8,0.81,0.8200000000000001,0.8300000000000001,0.84,0.85,0.86,0.87,0.88,0.89,0.9,0.91,0.92,0.93,0.9400000000000001,0.9500000000000001,0.96,0.97,0.98,0.99,1.0],\"xaxis\":\"x\",\"y\":[0.7658,0.7658,0.7658,0.7658,0.7658,0.7658,0.7658,0.7658,0.7658,0.7658,0.7658,0.7658,0.7658,0.7658,0.7658,0.7658,0.7658,0.7658,0.7658,0.7658,0.7658,0.7658,0.7658,0.7658,0.7658,0.7658,0.7658,0.7658,0.7658,0.7658,0.7658,0.7658,0.7658,0.7658,0.7658,0.7658,0.7658,0.7658,0.7658,0.7658,0.7658,0.7658,0.7658,0.7658,0.7658,0.7658,0.7658,0.7658,0.7658,0.7658,0.7658,0.7658,0.7658,0.7658,0.7658,0.7658,0.7658,0.7658,0.7658,0.7658,0.7658,0.7658,0.7658,0.7658,0.7658,0.7658,0.7658,0.7658,0.7658,0.7658,0.7658,0.7658,0.7658,0.7658,0.7658,0.7658,0.7658,0.7658,0.7658,0.7658,0.7658,0.7658,0.7658,0.7658,0.7658,0.7658,0.7658,0.7658,0.7658,0.7658,0.7658,0.7658,0.7658,0.7658,0.7658,0.7658,0.7658,0.7658,0.7658,0.7658,0.7658],\"yaxis\":\"y\",\"type\":\"scatter\"},{\"hovertemplate\":\"variable=Recall<br>probability_threshold=%{x}<br>value=%{y}<extra></extra>\",\"legendgroup\":\"Recall\",\"line\":{\"color\":\"#00cc96\",\"dash\":\"solid\"},\"marker\":{\"symbol\":\"circle\"},\"mode\":\"lines\",\"name\":\"Recall\",\"orientation\":\"v\",\"showlegend\":true,\"x\":[0.0,0.01,0.02,0.03,0.04,0.05,0.06,0.07,0.08,0.09,0.1,0.11,0.12,0.13,0.14,0.15,0.16,0.17,0.18,0.19,0.2,0.21,0.22,0.23,0.24,0.25,0.26,0.27,0.28,0.29,0.3,0.31,0.32,0.33,0.34,0.35000000000000003,0.36,0.37,0.38,0.39,0.4,0.41000000000000003,0.42,0.43,0.44,0.45,0.46,0.47000000000000003,0.48,0.49,0.5,0.51,0.52,0.53,0.54,0.55,0.56,0.5700000000000001,0.58,0.59,0.6,0.61,0.62,0.63,0.64,0.65,0.66,0.67,0.68,0.6900000000000001,0.7000000000000001,0.71,0.72,0.73,0.74,0.75,0.76,0.77,0.78,0.79,0.8,0.81,0.8200000000000001,0.8300000000000001,0.84,0.85,0.86,0.87,0.88,0.89,0.9,0.91,0.92,0.93,0.9400000000000001,0.9500000000000001,0.96,0.97,0.98,0.99,1.0],\"xaxis\":\"x\",\"y\":[0.585,1.0,1.0,1.0,1.0,0.9997,0.9992,0.9989,0.998,0.9975,0.9963,0.996,0.9941,0.9938,0.9927,0.9915,0.9893,0.9879,0.9865,0.9845,0.9825,0.9808,0.9769,0.9729,0.9695,0.9644,0.954,0.9481,0.941,0.9331,0.9224,0.9111,0.8921,0.8789,0.8586,0.8323,0.81,0.7871,0.7643,0.7408,0.7196,0.7021,0.6852,0.6694,0.6505,0.6366,0.6253,0.6152,0.6036,0.5937,0.585,0.5725,0.5644,0.557,0.5505,0.5398,0.5285,0.5172,0.5045,0.4949,0.489,0.4805,0.4709,0.4619,0.454,0.4461,0.4359,0.4283,0.4232,0.4161,0.4099,0.4029,0.3964,0.3896,0.3809,0.3735,0.3648,0.3569,0.3484,0.3416,0.3329,0.3238,0.3131,0.3015,0.2863,0.2651,0.2417,0.2219,0.2019,0.1813,0.1618,0.142,0.1231,0.1016,0.0754,0.0421,0.0102,0.0006,0.0,0.0,0.0],\"yaxis\":\"y\",\"type\":\"scatter\"},{\"hovertemplate\":\"variable=Prec.<br>probability_threshold=%{x}<br>value=%{y}<extra></extra>\",\"legendgroup\":\"Prec.\",\"line\":{\"color\":\"#ab63fa\",\"dash\":\"solid\"},\"marker\":{\"symbol\":\"circle\"},\"mode\":\"lines\",\"name\":\"Prec.\",\"orientation\":\"v\",\"showlegend\":true,\"x\":[0.0,0.01,0.02,0.03,0.04,0.05,0.06,0.07,0.08,0.09,0.1,0.11,0.12,0.13,0.14,0.15,0.16,0.17,0.18,0.19,0.2,0.21,0.22,0.23,0.24,0.25,0.26,0.27,0.28,0.29,0.3,0.31,0.32,0.33,0.34,0.35000000000000003,0.36,0.37,0.38,0.39,0.4,0.41000000000000003,0.42,0.43,0.44,0.45,0.46,0.47000000000000003,0.48,0.49,0.5,0.51,0.52,0.53,0.54,0.55,0.56,0.5700000000000001,0.58,0.59,0.6,0.61,0.62,0.63,0.64,0.65,0.66,0.67,0.68,0.6900000000000001,0.7000000000000001,0.71,0.72,0.73,0.74,0.75,0.76,0.77,0.78,0.79,0.8,0.81,0.8200000000000001,0.8300000000000001,0.84,0.85,0.86,0.87,0.88,0.89,0.9,0.91,0.92,0.93,0.9400000000000001,0.9500000000000001,0.96,0.97,0.98,0.99,1.0],\"xaxis\":\"x\",\"y\":[0.4845,0.2221,0.2222,0.2223,0.2226,0.2228,0.2229,0.2231,0.2232,0.2236,0.2239,0.2246,0.2249,0.2257,0.2263,0.2272,0.2281,0.2289,0.2301,0.2314,0.2333,0.2354,0.2371,0.2395,0.2425,0.2463,0.2494,0.2539,0.2587,0.2646,0.2707,0.2778,0.2847,0.2945,0.3027,0.3103,0.3202,0.3314,0.3438,0.3561,0.3687,0.3812,0.3953,0.4095,0.4189,0.4295,0.4424,0.4535,0.4638,0.473,0.4845,0.4926,0.5015,0.5112,0.5196,0.5283,0.5359,0.5449,0.5514,0.5598,0.5692,0.5768,0.5845,0.5923,0.5999,0.6087,0.6153,0.6231,0.6332,0.6379,0.6422,0.6487,0.6517,0.6558,0.6588,0.6618,0.666,0.6686,0.674,0.6769,0.6796,0.6841,0.6895,0.6992,0.7084,0.7144,0.7194,0.7283,0.7369,0.7466,0.7563,0.7615,0.7643,0.7756,0.7763,0.7849,0.8103,0.2,0.0,0.0,0.0],\"yaxis\":\"y\",\"type\":\"scatter\"},{\"hovertemplate\":\"variable=F1<br>probability_threshold=%{x}<br>value=%{y}<extra></extra>\",\"legendgroup\":\"F1\",\"line\":{\"color\":\"#FFA15A\",\"dash\":\"solid\"},\"marker\":{\"symbol\":\"circle\"},\"mode\":\"lines\",\"name\":\"F1\",\"orientation\":\"v\",\"showlegend\":true,\"x\":[0.0,0.01,0.02,0.03,0.04,0.05,0.06,0.07,0.08,0.09,0.1,0.11,0.12,0.13,0.14,0.15,0.16,0.17,0.18,0.19,0.2,0.21,0.22,0.23,0.24,0.25,0.26,0.27,0.28,0.29,0.3,0.31,0.32,0.33,0.34,0.35000000000000003,0.36,0.37,0.38,0.39,0.4,0.41000000000000003,0.42,0.43,0.44,0.45,0.46,0.47000000000000003,0.48,0.49,0.5,0.51,0.52,0.53,0.54,0.55,0.56,0.5700000000000001,0.58,0.59,0.6,0.61,0.62,0.63,0.64,0.65,0.66,0.67,0.68,0.6900000000000001,0.7000000000000001,0.71,0.72,0.73,0.74,0.75,0.76,0.77,0.78,0.79,0.8,0.81,0.8200000000000001,0.8300000000000001,0.84,0.85,0.86,0.87,0.88,0.89,0.9,0.91,0.92,0.93,0.9400000000000001,0.9500000000000001,0.96,0.97,0.98,0.99,1.0],\"xaxis\":\"x\",\"y\":[0.5298,0.3635,0.3637,0.3637,0.3641,0.3643,0.3645,0.3648,0.3648,0.3653,0.3657,0.3666,0.3668,0.3678,0.3686,0.3696,0.3707,0.3717,0.3731,0.3748,0.377,0.3797,0.3816,0.3844,0.388,0.3924,0.3955,0.4005,0.4058,0.4123,0.4186,0.4258,0.4317,0.4411,0.4476,0.4521,0.4589,0.4664,0.4742,0.4809,0.4875,0.4941,0.5013,0.508,0.5095,0.5128,0.518,0.522,0.5244,0.5264,0.5298,0.5294,0.5309,0.5329,0.5344,0.5338,0.5319,0.5304,0.5266,0.5251,0.5257,0.524,0.5213,0.5187,0.5165,0.5145,0.51,0.5074,0.5071,0.5035,0.5002,0.4967,0.4927,0.4885,0.4824,0.4772,0.471,0.4649,0.4589,0.4537,0.4465,0.4391,0.4301,0.4208,0.4071,0.3861,0.361,0.3393,0.3162,0.291,0.2658,0.2388,0.2114,0.1789,0.1368,0.0796,0.0199,0.0011,0.0,0.0,0.0],\"yaxis\":\"y\",\"type\":\"scatter\"},{\"hovertemplate\":\"variable=Kappa<br>probability_threshold=%{x}<br>value=%{y}<extra></extra>\",\"legendgroup\":\"Kappa\",\"line\":{\"color\":\"#19d3f3\",\"dash\":\"solid\"},\"marker\":{\"symbol\":\"circle\"},\"mode\":\"lines\",\"name\":\"Kappa\",\"orientation\":\"v\",\"showlegend\":true,\"x\":[0.0,0.01,0.02,0.03,0.04,0.05,0.06,0.07,0.08,0.09,0.1,0.11,0.12,0.13,0.14,0.15,0.16,0.17,0.18,0.19,0.2,0.21,0.22,0.23,0.24,0.25,0.26,0.27,0.28,0.29,0.3,0.31,0.32,0.33,0.34,0.35000000000000003,0.36,0.37,0.38,0.39,0.4,0.41000000000000003,0.42,0.43,0.44,0.45,0.46,0.47000000000000003,0.48,0.49,0.5,0.51,0.52,0.53,0.54,0.55,0.56,0.5700000000000001,0.58,0.59,0.6,0.61,0.62,0.63,0.64,0.65,0.66,0.67,0.68,0.6900000000000001,0.7000000000000001,0.71,0.72,0.73,0.74,0.75,0.76,0.77,0.78,0.79,0.8,0.81,0.8200000000000001,0.8300000000000001,0.84,0.85,0.86,0.87,0.88,0.89,0.9,0.91,0.92,0.93,0.9400000000000001,0.9500000000000001,0.96,0.97,0.98,0.99,1.0],\"xaxis\":\"x\",\"y\":[0.379,0.0004,0.0008,0.0009,0.0017,0.0021,0.0025,0.003,0.0033,0.0043,0.0051,0.0069,0.0075,0.0095,0.0111,0.0133,0.0156,0.0177,0.0206,0.024,0.0285,0.0339,0.0379,0.0438,0.0511,0.06,0.0673,0.0775,0.0884,0.1016,0.1148,0.1297,0.1434,0.1627,0.1778,0.1902,0.2064,0.2241,0.2422,0.2587,0.2746,0.2898,0.3059,0.321,0.328,0.3371,0.3487,0.358,0.3651,0.371,0.379,0.3819,0.3868,0.3922,0.3966,0.399,0.3997,0.4009,0.3992,0.4002,0.4034,0.4037,0.4031,0.4026,0.4022,0.4024,0.3995,0.3987,0.4004,0.3979,0.3956,0.3936,0.3903,0.3871,0.3819,0.3776,0.3725,0.3673,0.3625,0.3582,0.352,0.3459,0.3385,0.3315,0.3203,0.3022,0.2808,0.263,0.2442,0.2238,0.2037,0.1821,0.1602,0.1345,0.1015,0.058,0.0138,0.0005,0.0,0.0,0.0],\"yaxis\":\"y\",\"type\":\"scatter\"},{\"hovertemplate\":\"variable=MCC<br>probability_threshold=%{x}<br>value=%{y}<extra></extra>\",\"legendgroup\":\"MCC\",\"line\":{\"color\":\"#FF6692\",\"dash\":\"solid\"},\"marker\":{\"symbol\":\"circle\"},\"mode\":\"lines\",\"name\":\"MCC\",\"orientation\":\"v\",\"showlegend\":true,\"x\":[0.0,0.01,0.02,0.03,0.04,0.05,0.06,0.07,0.08,0.09,0.1,0.11,0.12,0.13,0.14,0.15,0.16,0.17,0.18,0.19,0.2,0.21,0.22,0.23,0.24,0.25,0.26,0.27,0.28,0.29,0.3,0.31,0.32,0.33,0.34,0.35000000000000003,0.36,0.37,0.38,0.39,0.4,0.41000000000000003,0.42,0.43,0.44,0.45,0.46,0.47000000000000003,0.48,0.49,0.5,0.51,0.52,0.53,0.54,0.55,0.56,0.5700000000000001,0.58,0.59,0.6,0.61,0.62,0.63,0.64,0.65,0.66,0.67,0.68,0.6900000000000001,0.7000000000000001,0.71,0.72,0.73,0.74,0.75,0.76,0.77,0.78,0.79,0.8,0.81,0.8200000000000001,0.8300000000000001,0.84,0.85,0.86,0.87,0.88,0.89,0.9,0.91,0.92,0.93,0.9400000000000001,0.9500000000000001,0.96,0.97,0.98,0.99,1.0],\"xaxis\":\"x\",\"y\":[0.3821,0.0124,0.0169,0.021,0.0286,0.0305,0.0323,0.0347,0.035,0.0406,0.0426,0.0512,0.0511,0.0591,0.0635,0.0699,0.0752,0.0801,0.0869,0.094,0.1032,0.1137,0.1192,0.1279,0.1391,0.151,0.1567,0.1689,0.1809,0.1949,0.2066,0.2198,0.2283,0.2444,0.2533,0.2579,0.2674,0.2781,0.2893,0.2989,0.3087,0.3187,0.3298,0.3405,0.3436,0.3496,0.3586,0.3657,0.3709,0.3753,0.3821,0.3839,0.3881,0.393,0.397,0.3991,0.3998,0.4013,0.4,0.4015,0.4054,0.4065,0.4069,0.4076,0.4084,0.41,0.4087,0.4094,0.4128,0.4117,0.4106,0.4103,0.4083,0.4066,0.4031,0.4003,0.3973,0.3938,0.3913,0.3886,0.3844,0.3807,0.3763,0.3733,0.3669,0.3544,0.3391,0.3274,0.3147,0.3006,0.2862,0.2693,0.2507,0.2289,0.1962,0.1465,0.0663,0.0054,0.0,0.0,0.0],\"yaxis\":\"y\",\"type\":\"scatter\"},{\"hovertemplate\":\"variable=Profit<br>probability_threshold=%{x}<br>value=%{y}<extra></extra>\",\"legendgroup\":\"Profit\",\"line\":{\"color\":\"#B6E880\",\"dash\":\"solid\"},\"marker\":{\"symbol\":\"circle\"},\"mode\":\"lines\",\"name\":\"Profit\",\"orientation\":\"v\",\"showlegend\":true,\"x\":[0.0,0.01,0.02,0.03,0.04,0.05,0.06,0.07,0.08,0.09,0.1,0.11,0.12,0.13,0.14,0.15,0.16,0.17,0.18,0.19,0.2,0.21,0.22,0.23,0.24,0.25,0.26,0.27,0.28,0.29,0.3,0.31,0.32,0.33,0.34,0.35000000000000003,0.36,0.37,0.38,0.39,0.4,0.41000000000000003,0.42,0.43,0.44,0.45,0.46,0.47000000000000003,0.48,0.49,0.5,0.51,0.52,0.53,0.54,0.55,0.56,0.5700000000000001,0.58,0.59,0.6,0.61,0.62,0.63,0.64,0.65,0.66,0.67,0.68,0.6900000000000001,0.7000000000000001,0.71,0.72,0.73,0.74,0.75,0.76,0.77,0.78,0.79,0.8,0.81,0.8200000000000001,0.8300000000000001,0.84,0.85,0.86,0.87,0.88,0.89,0.9,0.91,0.92,0.93,0.9400000000000001,0.9500000000000001,0.96,0.97,0.98,0.99,1.0],\"xaxis\":\"x\",\"y\":[285900.0,1100.0,2100.0,2600.0,4700.0,5700.0,6600.0,7800.0,8000.0,10600.0,12100.0,17000.0,17500.0,22900.0,26500.0,31900.0,36900.0,41600.0,48400.0,56200.0,66800.0,79500.0,87300.0,99500.0,115200.0,133300.0,143400.0,162600.0,181900.0,204700.0,224000.0,245200.0,256800.0,281200.0,290700.0,289400.0,295900.0,302200.0,307400.0,308000.0,308500.0,310400.0,312700.0,314100.0,302800.0,298400.0,298800.0,297500.0,292400.0,287700.0,285900.0,275500.0,271300.0,268300.0,265200.0,255800.0,244400.0,233400.0,218500.0,209100.0,205300.0,196600.0,185900.0,175900.0,167200.0,158900.0,145900.0,137200.0,133100.0,123800.0,115500.0,106600.0,97400.0,88000.0,75100.0,64400.0,51700.0,39900.0,27800.0,17800.0,4500.0,-9000.0,-25000.0,-41500.0,-64400.0,-97800.0,-135100.0,-166000.0,-197600.0,-230400.0,-261500.0,-293500.0,-324600.0,-360100.0,-403800.0,-459300.0,-512800.0,-528600.0,-529300.0,-529300.0,-529300.0],\"yaxis\":\"y\",\"type\":\"scatter\"}],                        {\"template\":{\"data\":{\"histogram2dcontour\":[{\"type\":\"histogram2dcontour\",\"colorbar\":{\"outlinewidth\":0,\"ticks\":\"\"},\"colorscale\":[[0.0,\"#0d0887\"],[0.1111111111111111,\"#46039f\"],[0.2222222222222222,\"#7201a8\"],[0.3333333333333333,\"#9c179e\"],[0.4444444444444444,\"#bd3786\"],[0.5555555555555556,\"#d8576b\"],[0.6666666666666666,\"#ed7953\"],[0.7777777777777778,\"#fb9f3a\"],[0.8888888888888888,\"#fdca26\"],[1.0,\"#f0f921\"]]}],\"choropleth\":[{\"type\":\"choropleth\",\"colorbar\":{\"outlinewidth\":0,\"ticks\":\"\"}}],\"histogram2d\":[{\"type\":\"histogram2d\",\"colorbar\":{\"outlinewidth\":0,\"ticks\":\"\"},\"colorscale\":[[0.0,\"#0d0887\"],[0.1111111111111111,\"#46039f\"],[0.2222222222222222,\"#7201a8\"],[0.3333333333333333,\"#9c179e\"],[0.4444444444444444,\"#bd3786\"],[0.5555555555555556,\"#d8576b\"],[0.6666666666666666,\"#ed7953\"],[0.7777777777777778,\"#fb9f3a\"],[0.8888888888888888,\"#fdca26\"],[1.0,\"#f0f921\"]]}],\"heatmap\":[{\"type\":\"heatmap\",\"colorbar\":{\"outlinewidth\":0,\"ticks\":\"\"},\"colorscale\":[[0.0,\"#0d0887\"],[0.1111111111111111,\"#46039f\"],[0.2222222222222222,\"#7201a8\"],[0.3333333333333333,\"#9c179e\"],[0.4444444444444444,\"#bd3786\"],[0.5555555555555556,\"#d8576b\"],[0.6666666666666666,\"#ed7953\"],[0.7777777777777778,\"#fb9f3a\"],[0.8888888888888888,\"#fdca26\"],[1.0,\"#f0f921\"]]}],\"heatmapgl\":[{\"type\":\"heatmapgl\",\"colorbar\":{\"outlinewidth\":0,\"ticks\":\"\"},\"colorscale\":[[0.0,\"#0d0887\"],[0.1111111111111111,\"#46039f\"],[0.2222222222222222,\"#7201a8\"],[0.3333333333333333,\"#9c179e\"],[0.4444444444444444,\"#bd3786\"],[0.5555555555555556,\"#d8576b\"],[0.6666666666666666,\"#ed7953\"],[0.7777777777777778,\"#fb9f3a\"],[0.8888888888888888,\"#fdca26\"],[1.0,\"#f0f921\"]]}],\"contourcarpet\":[{\"type\":\"contourcarpet\",\"colorbar\":{\"outlinewidth\":0,\"ticks\":\"\"}}],\"contour\":[{\"type\":\"contour\",\"colorbar\":{\"outlinewidth\":0,\"ticks\":\"\"},\"colorscale\":[[0.0,\"#0d0887\"],[0.1111111111111111,\"#46039f\"],[0.2222222222222222,\"#7201a8\"],[0.3333333333333333,\"#9c179e\"],[0.4444444444444444,\"#bd3786\"],[0.5555555555555556,\"#d8576b\"],[0.6666666666666666,\"#ed7953\"],[0.7777777777777778,\"#fb9f3a\"],[0.8888888888888888,\"#fdca26\"],[1.0,\"#f0f921\"]]}],\"surface\":[{\"type\":\"surface\",\"colorbar\":{\"outlinewidth\":0,\"ticks\":\"\"},\"colorscale\":[[0.0,\"#0d0887\"],[0.1111111111111111,\"#46039f\"],[0.2222222222222222,\"#7201a8\"],[0.3333333333333333,\"#9c179e\"],[0.4444444444444444,\"#bd3786\"],[0.5555555555555556,\"#d8576b\"],[0.6666666666666666,\"#ed7953\"],[0.7777777777777778,\"#fb9f3a\"],[0.8888888888888888,\"#fdca26\"],[1.0,\"#f0f921\"]]}],\"mesh3d\":[{\"type\":\"mesh3d\",\"colorbar\":{\"outlinewidth\":0,\"ticks\":\"\"}}],\"scatter\":[{\"fillpattern\":{\"fillmode\":\"overlay\",\"size\":10,\"solidity\":0.2},\"type\":\"scatter\"}],\"parcoords\":[{\"type\":\"parcoords\",\"line\":{\"colorbar\":{\"outlinewidth\":0,\"ticks\":\"\"}}}],\"scatterpolargl\":[{\"type\":\"scatterpolargl\",\"marker\":{\"colorbar\":{\"outlinewidth\":0,\"ticks\":\"\"}}}],\"bar\":[{\"error_x\":{\"color\":\"#2a3f5f\"},\"error_y\":{\"color\":\"#2a3f5f\"},\"marker\":{\"line\":{\"color\":\"#E5ECF6\",\"width\":0.5},\"pattern\":{\"fillmode\":\"overlay\",\"size\":10,\"solidity\":0.2}},\"type\":\"bar\"}],\"scattergeo\":[{\"type\":\"scattergeo\",\"marker\":{\"colorbar\":{\"outlinewidth\":0,\"ticks\":\"\"}}}],\"scatterpolar\":[{\"type\":\"scatterpolar\",\"marker\":{\"colorbar\":{\"outlinewidth\":0,\"ticks\":\"\"}}}],\"histogram\":[{\"marker\":{\"pattern\":{\"fillmode\":\"overlay\",\"size\":10,\"solidity\":0.2}},\"type\":\"histogram\"}],\"scattergl\":[{\"type\":\"scattergl\",\"marker\":{\"colorbar\":{\"outlinewidth\":0,\"ticks\":\"\"}}}],\"scatter3d\":[{\"type\":\"scatter3d\",\"line\":{\"colorbar\":{\"outlinewidth\":0,\"ticks\":\"\"}},\"marker\":{\"colorbar\":{\"outlinewidth\":0,\"ticks\":\"\"}}}],\"scattermapbox\":[{\"type\":\"scattermapbox\",\"marker\":{\"colorbar\":{\"outlinewidth\":0,\"ticks\":\"\"}}}],\"scatterternary\":[{\"type\":\"scatterternary\",\"marker\":{\"colorbar\":{\"outlinewidth\":0,\"ticks\":\"\"}}}],\"scattercarpet\":[{\"type\":\"scattercarpet\",\"marker\":{\"colorbar\":{\"outlinewidth\":0,\"ticks\":\"\"}}}],\"carpet\":[{\"aaxis\":{\"endlinecolor\":\"#2a3f5f\",\"gridcolor\":\"white\",\"linecolor\":\"white\",\"minorgridcolor\":\"white\",\"startlinecolor\":\"#2a3f5f\"},\"baxis\":{\"endlinecolor\":\"#2a3f5f\",\"gridcolor\":\"white\",\"linecolor\":\"white\",\"minorgridcolor\":\"white\",\"startlinecolor\":\"#2a3f5f\"},\"type\":\"carpet\"}],\"table\":[{\"cells\":{\"fill\":{\"color\":\"#EBF0F8\"},\"line\":{\"color\":\"white\"}},\"header\":{\"fill\":{\"color\":\"#C8D4E3\"},\"line\":{\"color\":\"white\"}},\"type\":\"table\"}],\"barpolar\":[{\"marker\":{\"line\":{\"color\":\"#E5ECF6\",\"width\":0.5},\"pattern\":{\"fillmode\":\"overlay\",\"size\":10,\"solidity\":0.2}},\"type\":\"barpolar\"}],\"pie\":[{\"automargin\":true,\"type\":\"pie\"}]},\"layout\":{\"autotypenumbers\":\"strict\",\"colorway\":[\"#636efa\",\"#EF553B\",\"#00cc96\",\"#ab63fa\",\"#FFA15A\",\"#19d3f3\",\"#FF6692\",\"#B6E880\",\"#FF97FF\",\"#FECB52\"],\"font\":{\"color\":\"#2a3f5f\"},\"hovermode\":\"closest\",\"hoverlabel\":{\"align\":\"left\"},\"paper_bgcolor\":\"white\",\"plot_bgcolor\":\"#E5ECF6\",\"polar\":{\"bgcolor\":\"#E5ECF6\",\"angularaxis\":{\"gridcolor\":\"white\",\"linecolor\":\"white\",\"ticks\":\"\"},\"radialaxis\":{\"gridcolor\":\"white\",\"linecolor\":\"white\",\"ticks\":\"\"}},\"ternary\":{\"bgcolor\":\"#E5ECF6\",\"aaxis\":{\"gridcolor\":\"white\",\"linecolor\":\"white\",\"ticks\":\"\"},\"baxis\":{\"gridcolor\":\"white\",\"linecolor\":\"white\",\"ticks\":\"\"},\"caxis\":{\"gridcolor\":\"white\",\"linecolor\":\"white\",\"ticks\":\"\"}},\"coloraxis\":{\"colorbar\":{\"outlinewidth\":0,\"ticks\":\"\"}},\"colorscale\":{\"sequential\":[[0.0,\"#0d0887\"],[0.1111111111111111,\"#46039f\"],[0.2222222222222222,\"#7201a8\"],[0.3333333333333333,\"#9c179e\"],[0.4444444444444444,\"#bd3786\"],[0.5555555555555556,\"#d8576b\"],[0.6666666666666666,\"#ed7953\"],[0.7777777777777778,\"#fb9f3a\"],[0.8888888888888888,\"#fdca26\"],[1.0,\"#f0f921\"]],\"sequentialminus\":[[0.0,\"#0d0887\"],[0.1111111111111111,\"#46039f\"],[0.2222222222222222,\"#7201a8\"],[0.3333333333333333,\"#9c179e\"],[0.4444444444444444,\"#bd3786\"],[0.5555555555555556,\"#d8576b\"],[0.6666666666666666,\"#ed7953\"],[0.7777777777777778,\"#fb9f3a\"],[0.8888888888888888,\"#fdca26\"],[1.0,\"#f0f921\"]],\"diverging\":[[0,\"#8e0152\"],[0.1,\"#c51b7d\"],[0.2,\"#de77ae\"],[0.3,\"#f1b6da\"],[0.4,\"#fde0ef\"],[0.5,\"#f7f7f7\"],[0.6,\"#e6f5d0\"],[0.7,\"#b8e186\"],[0.8,\"#7fbc41\"],[0.9,\"#4d9221\"],[1,\"#276419\"]]},\"xaxis\":{\"gridcolor\":\"white\",\"linecolor\":\"white\",\"ticks\":\"\",\"title\":{\"standoff\":15},\"zerolinecolor\":\"white\",\"automargin\":true,\"zerolinewidth\":2},\"yaxis\":{\"gridcolor\":\"white\",\"linecolor\":\"white\",\"ticks\":\"\",\"title\":{\"standoff\":15},\"zerolinecolor\":\"white\",\"automargin\":true,\"zerolinewidth\":2},\"scene\":{\"xaxis\":{\"backgroundcolor\":\"#E5ECF6\",\"gridcolor\":\"white\",\"linecolor\":\"white\",\"showbackground\":true,\"ticks\":\"\",\"zerolinecolor\":\"white\",\"gridwidth\":2},\"yaxis\":{\"backgroundcolor\":\"#E5ECF6\",\"gridcolor\":\"white\",\"linecolor\":\"white\",\"showbackground\":true,\"ticks\":\"\",\"zerolinecolor\":\"white\",\"gridwidth\":2},\"zaxis\":{\"backgroundcolor\":\"#E5ECF6\",\"gridcolor\":\"white\",\"linecolor\":\"white\",\"showbackground\":true,\"ticks\":\"\",\"zerolinecolor\":\"white\",\"gridwidth\":2}},\"shapedefaults\":{\"line\":{\"color\":\"#2a3f5f\"}},\"annotationdefaults\":{\"arrowcolor\":\"#2a3f5f\",\"arrowhead\":0,\"arrowwidth\":1},\"geo\":{\"bgcolor\":\"white\",\"landcolor\":\"#E5ECF6\",\"subunitcolor\":\"white\",\"showland\":true,\"showlakes\":true,\"lakecolor\":\"white\"},\"title\":{\"x\":0.05},\"mapbox\":{\"style\":\"light\"}}},\"xaxis\":{\"anchor\":\"y\",\"domain\":[0.0,1.0],\"title\":{\"text\":\"probability_threshold\"}},\"yaxis\":{\"anchor\":\"x\",\"domain\":[0.0,1.0],\"title\":{\"text\":\"value\"}},\"legend\":{\"title\":{\"text\":\"variable\"},\"tracegroupgap\":0},\"title\":{\"text\":\"Logistic Regression Probability Threshold Optimization (default = 0.5)\"}},                        {\"responsive\": true}                    ).then(function(){\n",
       "                            \n",
       "var gd = document.getElementById('dde679a0-5c5e-4b74-a902-776f1f82d5ac');\n",
       "var x = new MutationObserver(function (mutations, observer) {{\n",
       "        var display = window.getComputedStyle(gd).display;\n",
       "        if (!display || display === 'none') {{\n",
       "            console.log([gd, 'removed!']);\n",
       "            Plotly.purge(gd);\n",
       "            observer.disconnect();\n",
       "        }}\n",
       "}});\n",
       "\n",
       "// Listen for the removal of the full notebook cells\n",
       "var notebookContainer = gd.closest('#notebook-container');\n",
       "if (notebookContainer) {{\n",
       "    x.observe(notebookContainer, {childList: true});\n",
       "}}\n",
       "\n",
       "// Listen for the clearing of the current output cell\n",
       "var outputEl = gd.closest('.output');\n",
       "if (outputEl) {{\n",
       "    x.observe(outputEl, {childList: true});\n",
       "}}\n",
       "\n",
       "                        })                };                });            </script>        </div>"
      ]
     },
     "metadata": {},
     "output_type": "display_data"
    },
    {
     "data": {
      "text/plain": [
       "CustomProbabilityThresholdClassifier(C=0.357, class_weight='balanced',\n",
       "                                     classifier=LogisticRegression(C=0.357,\n",
       "                                                                   class_weight='balanced',\n",
       "                                                                   dual=False,\n",
       "                                                                   fit_intercept=True,\n",
       "                                                                   intercept_scaling=1,\n",
       "                                                                   l1_ratio=None,\n",
       "                                                                   max_iter=1000,\n",
       "                                                                   multi_class='auto',\n",
       "                                                                   n_jobs=None,\n",
       "                                                                   penalty='l2',\n",
       "                                                                   random_state=1633,\n",
       "                                                                   solver='lbfgs',\n",
       "                                                                   tol=0.0001,\n",
       "                                                                   verbose=0,\n",
       "                                                                   warm_start=False),\n",
       "                                     dual=False, fit_intercept=True,\n",
       "                                     intercept_scaling=1, l1_ratio=None,\n",
       "                                     max_iter=1000, multi_class='auto',\n",
       "                                     n_jobs=None, penalty='l2',\n",
       "                                     probability_threshold=0.43,\n",
       "                                     random_state=1633, solver='lbfgs',\n",
       "                                     tol=0.0001, verbose=0, warm_start=False)"
      ]
     },
     "execution_count": 73,
     "metadata": {},
     "output_type": "execute_result"
    }
   ],
   "source": [
    "optimize_threshold(tuned_clf, optimize=\"Profit\", grid_interval=0.01)"
   ]
  },
  {
   "cell_type": "markdown",
   "metadata": {},
   "source": [
    "## Save your model"
   ]
  },
  {
   "cell_type": "code",
   "execution_count": 74,
   "metadata": {
    "vscode": {
     "languageId": "python"
    }
   },
   "outputs": [],
   "source": [
    "# Finalizamos el modelo, es decir, lo entrenamos en todo el conjunto de datos\n",
    "model = finalize_model(tuned_clf)"
   ]
  },
  {
   "cell_type": "code",
   "execution_count": 75,
   "metadata": {
    "vscode": {
     "languageId": "python"
    }
   },
   "outputs": [
    {
     "name": "stdout",
     "output_type": "stream",
     "text": [
      "Transformation Pipeline and Model Successfully Saved\n"
     ]
    }
   ],
   "source": [
    "# Almacnamos el pipeline de PyCaret\n",
    "pipeline = save_model(model, 'my_credit_model')"
   ]
  },
  {
   "cell_type": "markdown",
   "metadata": {},
   "source": [
    "## Use your model in production"
   ]
  },
  {
   "cell_type": "code",
   "execution_count": 79,
   "metadata": {
    "vscode": {
     "languageId": "python"
    }
   },
   "outputs": [
    {
     "name": "stdout",
     "output_type": "stream",
     "text": [
      "Transformation Pipeline and Model Successfully Loaded\n"
     ]
    }
   ],
   "source": [
    "# Cargar pipeline almacenada\n",
    "pipeline = load_model(model_name=\"my_credit_model\")"
   ]
  },
  {
   "cell_type": "code",
   "execution_count": 80,
   "metadata": {
    "vscode": {
     "languageId": "python"
    }
   },
   "outputs": [
    {
     "data": {
      "text/html": [
       "<style type=\"text/css\">\n",
       "</style>\n",
       "<table id=\"T_4afac\">\n",
       "  <thead>\n",
       "    <tr>\n",
       "      <th class=\"blank level0\" >&nbsp;</th>\n",
       "      <th id=\"T_4afac_level0_col0\" class=\"col_heading level0 col0\" >Model</th>\n",
       "      <th id=\"T_4afac_level0_col1\" class=\"col_heading level0 col1\" >Accuracy</th>\n",
       "      <th id=\"T_4afac_level0_col2\" class=\"col_heading level0 col2\" >AUC</th>\n",
       "      <th id=\"T_4afac_level0_col3\" class=\"col_heading level0 col3\" >Recall</th>\n",
       "      <th id=\"T_4afac_level0_col4\" class=\"col_heading level0 col4\" >Prec.</th>\n",
       "      <th id=\"T_4afac_level0_col5\" class=\"col_heading level0 col5\" >F1</th>\n",
       "      <th id=\"T_4afac_level0_col6\" class=\"col_heading level0 col6\" >Kappa</th>\n",
       "      <th id=\"T_4afac_level0_col7\" class=\"col_heading level0 col7\" >MCC</th>\n",
       "      <th id=\"T_4afac_level0_col8\" class=\"col_heading level0 col8\" >Profit</th>\n",
       "    </tr>\n",
       "  </thead>\n",
       "  <tbody>\n",
       "    <tr>\n",
       "      <th id=\"T_4afac_level0_row0\" class=\"row_heading level0 row0\" >0</th>\n",
       "      <td id=\"T_4afac_row0_col0\" class=\"data row0 col0\" >Logistic Regression</td>\n",
       "      <td id=\"T_4afac_row0_col1\" class=\"data row0 col1\" >0.7667</td>\n",
       "      <td id=\"T_4afac_row0_col2\" class=\"data row0 col2\" >0.7769</td>\n",
       "      <td id=\"T_4afac_row0_col3\" class=\"data row0 col3\" >0.5894</td>\n",
       "      <td id=\"T_4afac_row0_col4\" class=\"data row0 col4\" >0.4740</td>\n",
       "      <td id=\"T_4afac_row0_col5\" class=\"data row0 col5\" >0.5254</td>\n",
       "      <td id=\"T_4afac_row0_col6\" class=\"data row0 col6\" >0.3731</td>\n",
       "      <td id=\"T_4afac_row0_col7\" class=\"data row0 col7\" >0.3770</td>\n",
       "      <td id=\"T_4afac_row0_col8\" class=\"data row0 col8\" >225000</td>\n",
       "    </tr>\n",
       "  </tbody>\n",
       "</table>\n"
      ],
      "text/plain": [
       "<pandas.io.formats.style.Styler at 0x7fd3d04f3790>"
      ]
     },
     "metadata": {},
     "output_type": "display_data"
    }
   ],
   "source": [
    "# Utilizar modelo\n",
    "prediction = predict_model(pipeline, data_unseen)"
   ]
  },
  {
   "cell_type": "code",
   "execution_count": 81,
   "metadata": {
    "tags": [],
    "vscode": {
     "languageId": "python"
    }
   },
   "outputs": [
    {
     "data": {
      "text/html": [
       "<div>\n",
       "<style scoped>\n",
       "    .dataframe tbody tr th:only-of-type {\n",
       "        vertical-align: middle;\n",
       "    }\n",
       "\n",
       "    .dataframe tbody tr th {\n",
       "        vertical-align: top;\n",
       "    }\n",
       "\n",
       "    .dataframe thead th {\n",
       "        text-align: right;\n",
       "    }\n",
       "</style>\n",
       "<table border=\"1\" class=\"dataframe\">\n",
       "  <thead>\n",
       "    <tr style=\"text-align: right;\">\n",
       "      <th></th>\n",
       "      <th>LIMIT_BAL</th>\n",
       "      <th>SEX</th>\n",
       "      <th>EDUCATION</th>\n",
       "      <th>MARRIAGE</th>\n",
       "      <th>AGE</th>\n",
       "      <th>PAY_1</th>\n",
       "      <th>PAY_2</th>\n",
       "      <th>PAY_3</th>\n",
       "      <th>PAY_4</th>\n",
       "      <th>PAY_5</th>\n",
       "      <th>...</th>\n",
       "      <th>BILL_AMT6</th>\n",
       "      <th>PAY_AMT1</th>\n",
       "      <th>PAY_AMT2</th>\n",
       "      <th>PAY_AMT3</th>\n",
       "      <th>PAY_AMT4</th>\n",
       "      <th>PAY_AMT5</th>\n",
       "      <th>PAY_AMT6</th>\n",
       "      <th>default</th>\n",
       "      <th>Label</th>\n",
       "      <th>Score</th>\n",
       "    </tr>\n",
       "  </thead>\n",
       "  <tbody>\n",
       "    <tr>\n",
       "      <th>0</th>\n",
       "      <td>100000</td>\n",
       "      <td>2</td>\n",
       "      <td>2</td>\n",
       "      <td>2</td>\n",
       "      <td>23</td>\n",
       "      <td>0</td>\n",
       "      <td>-1</td>\n",
       "      <td>-1</td>\n",
       "      <td>0</td>\n",
       "      <td>0</td>\n",
       "      <td>...</td>\n",
       "      <td>567.0</td>\n",
       "      <td>380.0</td>\n",
       "      <td>601.0</td>\n",
       "      <td>0.0</td>\n",
       "      <td>581.0</td>\n",
       "      <td>1687.0</td>\n",
       "      <td>1542.0</td>\n",
       "      <td>0</td>\n",
       "      <td>0</td>\n",
       "      <td>0.7068</td>\n",
       "    </tr>\n",
       "    <tr>\n",
       "      <th>1</th>\n",
       "      <td>380000</td>\n",
       "      <td>1</td>\n",
       "      <td>2</td>\n",
       "      <td>2</td>\n",
       "      <td>32</td>\n",
       "      <td>-1</td>\n",
       "      <td>-1</td>\n",
       "      <td>-1</td>\n",
       "      <td>-1</td>\n",
       "      <td>-1</td>\n",
       "      <td>...</td>\n",
       "      <td>11873.0</td>\n",
       "      <td>21540.0</td>\n",
       "      <td>15138.0</td>\n",
       "      <td>24677.0</td>\n",
       "      <td>11851.0</td>\n",
       "      <td>11875.0</td>\n",
       "      <td>8251.0</td>\n",
       "      <td>0</td>\n",
       "      <td>0</td>\n",
       "      <td>0.7960</td>\n",
       "    </tr>\n",
       "    <tr>\n",
       "      <th>2</th>\n",
       "      <td>200000</td>\n",
       "      <td>2</td>\n",
       "      <td>2</td>\n",
       "      <td>1</td>\n",
       "      <td>32</td>\n",
       "      <td>-1</td>\n",
       "      <td>-1</td>\n",
       "      <td>-1</td>\n",
       "      <td>-1</td>\n",
       "      <td>2</td>\n",
       "      <td>...</td>\n",
       "      <td>3151.0</td>\n",
       "      <td>5818.0</td>\n",
       "      <td>15.0</td>\n",
       "      <td>9102.0</td>\n",
       "      <td>17.0</td>\n",
       "      <td>3165.0</td>\n",
       "      <td>1395.0</td>\n",
       "      <td>0</td>\n",
       "      <td>0</td>\n",
       "      <td>0.5234</td>\n",
       "    </tr>\n",
       "    <tr>\n",
       "      <th>3</th>\n",
       "      <td>200000</td>\n",
       "      <td>1</td>\n",
       "      <td>1</td>\n",
       "      <td>1</td>\n",
       "      <td>53</td>\n",
       "      <td>2</td>\n",
       "      <td>2</td>\n",
       "      <td>2</td>\n",
       "      <td>2</td>\n",
       "      <td>2</td>\n",
       "      <td>...</td>\n",
       "      <td>149531.0</td>\n",
       "      <td>6300.0</td>\n",
       "      <td>5500.0</td>\n",
       "      <td>5500.0</td>\n",
       "      <td>5500.0</td>\n",
       "      <td>5000.0</td>\n",
       "      <td>5000.0</td>\n",
       "      <td>1</td>\n",
       "      <td>1</td>\n",
       "      <td>0.9453</td>\n",
       "    </tr>\n",
       "    <tr>\n",
       "      <th>4</th>\n",
       "      <td>240000</td>\n",
       "      <td>1</td>\n",
       "      <td>1</td>\n",
       "      <td>2</td>\n",
       "      <td>41</td>\n",
       "      <td>1</td>\n",
       "      <td>-1</td>\n",
       "      <td>-1</td>\n",
       "      <td>0</td>\n",
       "      <td>0</td>\n",
       "      <td>...</td>\n",
       "      <td>1737.0</td>\n",
       "      <td>2622.0</td>\n",
       "      <td>3301.0</td>\n",
       "      <td>0.0</td>\n",
       "      <td>360.0</td>\n",
       "      <td>1737.0</td>\n",
       "      <td>924.0</td>\n",
       "      <td>0</td>\n",
       "      <td>1</td>\n",
       "      <td>0.5117</td>\n",
       "    </tr>\n",
       "    <tr>\n",
       "      <th>...</th>\n",
       "      <td>...</td>\n",
       "      <td>...</td>\n",
       "      <td>...</td>\n",
       "      <td>...</td>\n",
       "      <td>...</td>\n",
       "      <td>...</td>\n",
       "      <td>...</td>\n",
       "      <td>...</td>\n",
       "      <td>...</td>\n",
       "      <td>...</td>\n",
       "      <td>...</td>\n",
       "      <td>...</td>\n",
       "      <td>...</td>\n",
       "      <td>...</td>\n",
       "      <td>...</td>\n",
       "      <td>...</td>\n",
       "      <td>...</td>\n",
       "      <td>...</td>\n",
       "      <td>...</td>\n",
       "      <td>...</td>\n",
       "      <td>...</td>\n",
       "    </tr>\n",
       "    <tr>\n",
       "      <th>1195</th>\n",
       "      <td>50000</td>\n",
       "      <td>1</td>\n",
       "      <td>2</td>\n",
       "      <td>1</td>\n",
       "      <td>37</td>\n",
       "      <td>1</td>\n",
       "      <td>2</td>\n",
       "      <td>2</td>\n",
       "      <td>2</td>\n",
       "      <td>0</td>\n",
       "      <td>...</td>\n",
       "      <td>1324.0</td>\n",
       "      <td>0.0</td>\n",
       "      <td>3000.0</td>\n",
       "      <td>0.0</td>\n",
       "      <td>0.0</td>\n",
       "      <td>1000.0</td>\n",
       "      <td>1000.0</td>\n",
       "      <td>1</td>\n",
       "      <td>1</td>\n",
       "      <td>0.7959</td>\n",
       "    </tr>\n",
       "    <tr>\n",
       "      <th>1196</th>\n",
       "      <td>220000</td>\n",
       "      <td>1</td>\n",
       "      <td>2</td>\n",
       "      <td>1</td>\n",
       "      <td>41</td>\n",
       "      <td>0</td>\n",
       "      <td>0</td>\n",
       "      <td>-1</td>\n",
       "      <td>-1</td>\n",
       "      <td>-2</td>\n",
       "      <td>...</td>\n",
       "      <td>1824.0</td>\n",
       "      <td>8840.0</td>\n",
       "      <td>6643.0</td>\n",
       "      <td>5924.0</td>\n",
       "      <td>1759.0</td>\n",
       "      <td>1824.0</td>\n",
       "      <td>7022.0</td>\n",
       "      <td>0</td>\n",
       "      <td>0</td>\n",
       "      <td>0.7079</td>\n",
       "    </tr>\n",
       "    <tr>\n",
       "      <th>1197</th>\n",
       "      <td>420000</td>\n",
       "      <td>1</td>\n",
       "      <td>1</td>\n",
       "      <td>2</td>\n",
       "      <td>34</td>\n",
       "      <td>0</td>\n",
       "      <td>0</td>\n",
       "      <td>0</td>\n",
       "      <td>0</td>\n",
       "      <td>0</td>\n",
       "      <td>...</td>\n",
       "      <td>147954.0</td>\n",
       "      <td>7000.0</td>\n",
       "      <td>7000.0</td>\n",
       "      <td>5500.0</td>\n",
       "      <td>5500.0</td>\n",
       "      <td>5600.0</td>\n",
       "      <td>5000.0</td>\n",
       "      <td>0</td>\n",
       "      <td>0</td>\n",
       "      <td>0.8090</td>\n",
       "    </tr>\n",
       "    <tr>\n",
       "      <th>1198</th>\n",
       "      <td>90000</td>\n",
       "      <td>1</td>\n",
       "      <td>2</td>\n",
       "      <td>1</td>\n",
       "      <td>36</td>\n",
       "      <td>0</td>\n",
       "      <td>0</td>\n",
       "      <td>0</td>\n",
       "      <td>0</td>\n",
       "      <td>0</td>\n",
       "      <td>...</td>\n",
       "      <td>14329.0</td>\n",
       "      <td>1500.0</td>\n",
       "      <td>1500.0</td>\n",
       "      <td>1500.0</td>\n",
       "      <td>1200.0</td>\n",
       "      <td>2500.0</td>\n",
       "      <td>0.0</td>\n",
       "      <td>1</td>\n",
       "      <td>0</td>\n",
       "      <td>0.6038</td>\n",
       "    </tr>\n",
       "    <tr>\n",
       "      <th>1199</th>\n",
       "      <td>50000</td>\n",
       "      <td>1</td>\n",
       "      <td>2</td>\n",
       "      <td>1</td>\n",
       "      <td>46</td>\n",
       "      <td>0</td>\n",
       "      <td>0</td>\n",
       "      <td>0</td>\n",
       "      <td>0</td>\n",
       "      <td>0</td>\n",
       "      <td>...</td>\n",
       "      <td>15313.0</td>\n",
       "      <td>2078.0</td>\n",
       "      <td>1800.0</td>\n",
       "      <td>1430.0</td>\n",
       "      <td>1000.0</td>\n",
       "      <td>1000.0</td>\n",
       "      <td>1000.0</td>\n",
       "      <td>1</td>\n",
       "      <td>0</td>\n",
       "      <td>0.5581</td>\n",
       "    </tr>\n",
       "  </tbody>\n",
       "</table>\n",
       "<p>1200 rows × 26 columns</p>\n",
       "</div>"
      ],
      "text/plain": [
       "      LIMIT_BAL  SEX  EDUCATION  MARRIAGE  AGE  PAY_1  PAY_2  PAY_3  PAY_4  \\\n",
       "0        100000    2          2         2   23      0     -1     -1      0   \n",
       "1        380000    1          2         2   32     -1     -1     -1     -1   \n",
       "2        200000    2          2         1   32     -1     -1     -1     -1   \n",
       "3        200000    1          1         1   53      2      2      2      2   \n",
       "4        240000    1          1         2   41      1     -1     -1      0   \n",
       "...         ...  ...        ...       ...  ...    ...    ...    ...    ...   \n",
       "1195      50000    1          2         1   37      1      2      2      2   \n",
       "1196     220000    1          2         1   41      0      0     -1     -1   \n",
       "1197     420000    1          1         2   34      0      0      0      0   \n",
       "1198      90000    1          2         1   36      0      0      0      0   \n",
       "1199      50000    1          2         1   46      0      0      0      0   \n",
       "\n",
       "      PAY_5  ...  BILL_AMT6  PAY_AMT1  PAY_AMT2  PAY_AMT3  PAY_AMT4  PAY_AMT5  \\\n",
       "0         0  ...      567.0     380.0     601.0       0.0     581.0    1687.0   \n",
       "1        -1  ...    11873.0   21540.0   15138.0   24677.0   11851.0   11875.0   \n",
       "2         2  ...     3151.0    5818.0      15.0    9102.0      17.0    3165.0   \n",
       "3         2  ...   149531.0    6300.0    5500.0    5500.0    5500.0    5000.0   \n",
       "4         0  ...     1737.0    2622.0    3301.0       0.0     360.0    1737.0   \n",
       "...     ...  ...        ...       ...       ...       ...       ...       ...   \n",
       "1195      0  ...     1324.0       0.0    3000.0       0.0       0.0    1000.0   \n",
       "1196     -2  ...     1824.0    8840.0    6643.0    5924.0    1759.0    1824.0   \n",
       "1197      0  ...   147954.0    7000.0    7000.0    5500.0    5500.0    5600.0   \n",
       "1198      0  ...    14329.0    1500.0    1500.0    1500.0    1200.0    2500.0   \n",
       "1199      0  ...    15313.0    2078.0    1800.0    1430.0    1000.0    1000.0   \n",
       "\n",
       "      PAY_AMT6  default  Label   Score  \n",
       "0       1542.0        0      0  0.7068  \n",
       "1       8251.0        0      0  0.7960  \n",
       "2       1395.0        0      0  0.5234  \n",
       "3       5000.0        1      1  0.9453  \n",
       "4        924.0        0      1  0.5117  \n",
       "...        ...      ...    ...     ...  \n",
       "1195    1000.0        1      1  0.7959  \n",
       "1196    7022.0        0      0  0.7079  \n",
       "1197    5000.0        0      0  0.8090  \n",
       "1198       0.0        1      0  0.6038  \n",
       "1199    1000.0        1      0  0.5581  \n",
       "\n",
       "[1200 rows x 26 columns]"
      ]
     },
     "execution_count": 81,
     "metadata": {},
     "output_type": "execute_result"
    }
   ],
   "source": [
    "prediction"
   ]
  }
 ],
 "metadata": {
  "colab": {
   "collapsed_sections": [
    "2B2swEt84Ee1",
    "fGHO07ET4EfB",
    "GlddJmh74Eh4",
    "B4o2brP84Eih",
    "QxHq04mC4EjB",
    "ft5E6kE24EjJ",
    "7EBE1vve4EjZ",
    "n_Hp176K4Ejw",
    "eXWxVxQb4Ek5",
    "7e_JvjjK4ElM",
    "oz-x8Ms84Elr",
    "pDrdubjb4Emm",
    "HZw7sl394EoG",
    "bhtJHidg4EpR",
    "dh4lFCYB4ErJ",
    "oS3ag9Qs4Ero",
    "HbU3cy1H4Er5",
    "WJd6Vk7b4EsY",
    "ZwoqVfen4Esm",
    "uWKoxcgK4EtG"
   ],
   "name": "Binary Classification Tutorial (CLF102) - Level Intermediate (ACN_EDITS 2).ipynb",
   "provenance": []
  },
  "kernelspec": {
   "display_name": "PYCARET (Python 3.8)",
   "language": "python",
   "name": "pycaret"
  },
  "language_info": {
   "codemirror_mode": {
    "name": "ipython",
    "version": 3
   },
   "file_extension": ".py",
   "mimetype": "text/x-python",
   "name": "python",
   "nbconvert_exporter": "python",
   "pygments_lexer": "ipython3",
   "version": "3.8.15"
  },
  "toc-autonumbering": true
 },
 "nbformat": 4,
 "nbformat_minor": 4
}
