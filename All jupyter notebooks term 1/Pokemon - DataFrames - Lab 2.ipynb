{
 "cells": [
  {
   "cell_type": "markdown",
   "metadata": {},
   "source": [
    "<img width=\"200\" style=\"float:left\" \n",
    "     src=\"https://upload.wikimedia.org/wikipedia/commons/f/f3/Apache_Spark_logo.svg\" />"
   ]
  },
  {
   "cell_type": "markdown",
   "metadata": {},
   "source": [
    "# Sections\n",
    "* [Description](#0)\n",
    "* [1. Setup](#1)\n",
    "  * [1.1 Start Hadoop](#1.1)  \n",
    "  * [1.2 Search for Spark Installation](#1.2)\n",
    "  * [1.3 Create SparkSession](#1.3)\n",
    "* [2. Lab](#2)\n",
    "  * [2.1 Check Files](#2.1)\n",
    "* [3. Dataset Documentation](#3)\n",
    "* [4. DataFrame Creation](#4)\n",
    "* [5. DataFrame Transformation](#5)\n",
    "  * [5.1 Column Functions](#5.1)\n",
    "  * [5.2 DataFrame Aggregations](#5.2)\n",
    "  * [5.3 DataFrame Joins](#5.3)\n",
    "* [6. TearDown](#6)\n",
    "  * [6.1 Stop Hadoop](#6.1)"
   ]
  },
  {
   "cell_type": "markdown",
   "metadata": {},
   "source": [
    "<a id='0'></a>\n",
    "## Description\n",
    "<p>\n",
    "<div>The goals for this lab are:</div>\n",
    "<ul>    \n",
    "    <li>Get familiar with Spark DataFrames API</li>\n",
    "    <li>Apply some transformations using Spark DataFrames API</li>\n",
    "</ul>    \n",
    "</p>"
   ]
  },
  {
   "cell_type": "markdown",
   "metadata": {},
   "source": [
    "<a id='1'></a>\n",
    "## 1. Setup\n",
    "\n",
    "Since we are going to process data stored from HDFS let's start the service"
   ]
  },
  {
   "cell_type": "markdown",
   "metadata": {},
   "source": [
    "<a id='1.1'></a>\n",
    "### 1.1 Start Hadoop\n",
    "\n",
    "Start Hadoop\n",
    "\n",
    "Open a terminal and execute\n",
    "```sh\n",
    "hadoop-start.sh\n",
    "```"
   ]
  },
  {
   "cell_type": "markdown",
   "metadata": {},
   "source": [
    "<a id='1.2'></a>\n",
    "### 1.2 Search for Spark Installation \n",
    "This step is required just because we are working in the course environment."
   ]
  },
  {
   "cell_type": "code",
   "execution_count": null,
   "metadata": {},
   "outputs": [],
   "source": [
    "import findspark\n",
    "findspark.init()"
   ]
  },
  {
   "cell_type": "markdown",
   "metadata": {},
   "source": [
    "I'm changing pandas max column width property to improve data displaying"
   ]
  },
  {
   "cell_type": "code",
   "execution_count": null,
   "metadata": {},
   "outputs": [],
   "source": [
    "import pandas as pd\n",
    "pd.set_option('display.max_colwidth', None)"
   ]
  },
  {
   "cell_type": "markdown",
   "metadata": {},
   "source": [
    "<a id='1.3'></a>\n",
    "### 1.3 Create SparkSession\n",
    "By setting this environment variable we can include extra libraries in our Spark cluster"
   ]
  },
  {
   "cell_type": "code",
   "execution_count": null,
   "metadata": {},
   "outputs": [],
   "source": [
    "import os\n",
    "os.environ['PYSPARK_SUBMIT_ARGS'] = ' pyspark-shell'"
   ]
  },
  {
   "cell_type": "markdown",
   "metadata": {},
   "source": [
    "The first thing always is to create the SparkSession"
   ]
  },
  {
   "cell_type": "code",
   "execution_count": null,
   "metadata": {},
   "outputs": [],
   "source": [
    "from pyspark.sql.session import SparkSession\n",
    "\n",
    "spark = (SparkSession.builder\n",
    ".appName(\"Pokemon - DataFrames - Lab 2.ipynb\")\n",
    ".config(\"spark.sql.warehouse.dir\",\"hdfs://localhost:9000/warehouse\")\n",
    ".getOrCreate())"
   ]
  },
  {
   "cell_type": "markdown",
   "metadata": {},
   "source": [
    "<a id='2'></a>\n",
    "## 2. Lab"
   ]
  },
  {
   "cell_type": "markdown",
   "metadata": {},
   "source": [
    "<a id='2.1'></a>\n",
    "### 2.1 Check  Files\n",
    "\n",
    "In order to complete this lab you need to previosly complete **'Pokemons - RAW to STD - DataFrames'**.<br/>\n",
    "Check you have the data ready in HDFS\n",
    "\n",
    "http://localhost:50070/explorer.html#/datalake/std/pokemon/\n",
    "\n",
    "In order to complete this lab you need to upload an additional pokemons datasests to HDFS.<br/>\n",
    "Unzip pokemon-sightings.zip and upload the file in the folder /datalake/raw/pokemon/pokemon-sightings"
   ]
  },
  {
   "cell_type": "markdown",
   "metadata": {},
   "source": [
    "http://localhost:50070/explorer.html#/datalake/raw/pokemon/pokemon-sightings"
   ]
  },
  {
   "cell_type": "markdown",
   "metadata": {},
   "source": [
    "<a id='2.2'></a>\n",
    "### 2.2 Install python dependencies\n",
    "To visualize the data I'm going to use a python library called folium.\n",
    "Open a terminal and execute the following commands:\n",
    "\n",
    "pip3 install requests\n",
    "\n",
    "pip3 install branca\n",
    "\n",
    "pip3 install jinja2\n",
    "\n",
    "pip3 install folium"
   ]
  },
  {
   "cell_type": "markdown",
   "metadata": {},
   "source": [
    "<a id='3'></a>\n",
    "## 3. Dataset Documentation\n",
    "\n",
    "### Metadata\n",
    "\n",
    "id: ID for each pokemon <br/>\n",
    "name: Name of each pokemon<br/>\n",
    "type_1: Each pokemon has a type, this determines weakness/resistance to attacks<br/>\n",
    "type_2: Some pokemon are dual type and have 2<br/>\n",
    "total: sum of all stats that come after this, a general guide to how strong a pokemon is<br/>\n",
    "hp: hit points, or health, defines how much damage a pokemon can withstand before fainting<br/>\n",
    "attack: the base modifier for normal attacks (eg. Scratch, Punch)<br/>\n",
    "defense: the base damage resistance against normal attacks<br/>\n",
    "sp_atk: special attack, the base modifier for special attacks (e.g. fire blast, bubble beam)<br/>\n",
    "sp_def: the base damage resistance against special attacks<br/>\n",
    "speed: determines which pokemon attacks first each round<br/>\n",
    "generation: pokemon generation<br/>\n",
    "legendary: determines if the pokemon is legendary or not<br/>"
   ]
  },
  {
   "cell_type": "markdown",
   "metadata": {},
   "source": [
    "<a id='4'></a>\n",
    "## 4. DataFrame Creation\n",
    "\n",
    "The first step is to create the DataFrames"
   ]
  },
  {
   "cell_type": "code",
   "execution_count": null,
   "metadata": {},
   "outputs": [],
   "source": [
    "pokemons = spark.read.parquet(\"hdfs://localhost:9000/datalake/std/pokemon/pokemon-data/\").cache()\n",
    "pokemons.limit(2).toPandas()"
   ]
  },
  {
   "cell_type": "code",
   "execution_count": null,
   "metadata": {},
   "outputs": [],
   "source": [
    "sightings = spark.read.parquet(\"hdfs://localhost:9000/datalake/raw/pokemon/pokemon-sightings/\").cache()\n",
    "sightings.limit(2).toPandas()"
   ]
  },
  {
   "cell_type": "code",
   "execution_count": null,
   "metadata": {},
   "outputs": [],
   "source": [
    "images = spark.read.parquet(\"hdfs://localhost:9000/datalake/std/pokemon/pokemon-images/\").cache()\n",
    "images.limit(2).toPandas()"
   ]
  },
  {
   "cell_type": "markdown",
   "metadata": {},
   "source": [
    "<a id='5'></a>\n",
    "## 5. DataFrame Transformations\n",
    "\n",
    "<a id='5.1'></a>\n",
    "### 5.1 Column Manipulation"
   ]
  },
  {
   "cell_type": "markdown",
   "metadata": {},
   "source": [
    "#### cast : Column function that changes the column type"
   ]
  },
  {
   "cell_type": "code",
   "execution_count": null,
   "metadata": {
    "scrolled": true
   },
   "outputs": [],
   "source": [
    "import pyspark.sql.functions as F\n",
    "pokemons.withColumn(\"speed\",F.col(\"speed\").cast(\"double\")).printSchema()"
   ]
  },
  {
   "cell_type": "markdown",
   "metadata": {},
   "source": [
    "#### isin : Column function that returns true if the value is in the collection\n",
    "#### SQL equivalent :  IN operator\n",
    "Find all legendary pokemons from generations 1 and 2"
   ]
  },
  {
   "cell_type": "code",
   "execution_count": null,
   "metadata": {},
   "outputs": [],
   "source": [
    "pokemons.where((F.col(\"generation\").isin(1,2)) & (pokemons.legendary)).orderBy(pokemons.total.desc()).toPandas()"
   ]
  },
  {
   "cell_type": "markdown",
   "metadata": {},
   "source": [
    "#### lit: Returns a Column from a literal\n",
    "\n",
    "#### when: Returns a column expression when the condition matches\n",
    "#### otherwise: Returns a column expression when no other condition matches\n",
    "#### SQL equivalent:  CASE clause\n",
    "\n",
    "Create a new column with emojis based on type_1"
   ]
  },
  {
   "cell_type": "code",
   "execution_count": null,
   "metadata": {},
   "outputs": [],
   "source": [
    "pokemons.withColumn(\"emoji\",\n",
    "                       F.when(pokemons.type_1==\"Water\",F.lit(\"💧\"))\\\n",
    "                      .when(pokemons.type_1==\"Fire\",F.lit(\"🔥\"))\\\n",
    "                      .when(pokemons.type_1==\"Electric\",F.lit(\"⚡️\"))\\\n",
    "                      .when(pokemons.type_1==\"Ice\",F.lit(\"❄️\"))\\\n",
    "                      .when(pokemons.type_1==\"Grass\",F.lit(\"🌿\"))\\\n",
    "                      .when(pokemons.type_1==\"Dragon\",F.lit(\"🐉\"))\\\n",
    "                      .when(pokemons.type_1==\"Psychic\",F.lit(\"🧠\"))\\\n",
    "                      .when(pokemons.type_1==\"Ghost\",F.lit(\"👻\"))\\\n",
    "                      .when(pokemons.type_1==\"Bug\",F.lit(\"🐛\"))\\\n",
    "                      .when(pokemons.type_1==\"Poison\",F.lit(\"☠️\"))\\\n",
    "                      .otherwise(F.lit(None))).toPandas()"
   ]
  },
  {
   "cell_type": "markdown",
   "metadata": {},
   "source": [
    "Practicing some math functions"
   ]
  },
  {
   "cell_type": "code",
   "execution_count": null,
   "metadata": {},
   "outputs": [],
   "source": [
    "pokemons.select(F.monotonically_increasing_id(),\n",
    "                F.abs(\"hp\"),\n",
    "                F.sqrt(\"hp\"),\n",
    "                F.pow(\"hp\",2),\n",
    "                F.cos(\"hp\"),\n",
    "                F.cosh(\"hp\"),\n",
    "                F.acos(\"hp\"),\n",
    "                F.sin(\"hp\"),\n",
    "                F.sinh(\"hp\"),\n",
    "                F.asin(\"hp\"),\n",
    "                F.tan(\"hp\"),\n",
    "                F.tanh(\"hp\"),\n",
    "                F.atan(\"hp\"),\n",
    "                F.round(F.sqrt(\"hp\"),2),\n",
    "                F.bround(F.sqrt(\"hp\"),3)).toPandas()"
   ]
  },
  {
   "cell_type": "markdown",
   "metadata": {},
   "source": [
    "#### udf: Returns a user defined function (UDF) from a python function\n",
    "We can do the same thing by creating our custom function"
   ]
  },
  {
   "cell_type": "code",
   "execution_count": null,
   "metadata": {},
   "outputs": [],
   "source": [
    "@F.udf(\"string\")\n",
    "def emoji(type_1):\n",
    "    d = {\n",
    "        \"Water\": \"💧\",\n",
    "        \"Fire\":\"🔥\",\n",
    "        \"Electric\":\"⚡️\",\n",
    "        \"Ice\":\"❄️\",\n",
    "        \"Grass\":\"🌱\",\n",
    "        \"Dragon\":\"🐲\",\n",
    "        \"Psychic\":\"🧠\",\n",
    "        \"Ghost\":\"👻\",\n",
    "        \"Bug\":\"🪲\",\n",
    "        \"Poison\":\"☠️\",\n",
    "        \"Fairy\":\"🧚\",\n",
    "        \"Dark\":\"⚫️\",\n",
    "        \"Fighting\":\"⚔️\",\n",
    "        \"Flying\":\"🦅\",\n",
    "        \"Rock\":\"🪨\",\n",
    "        \"Ground\":\"🕳\",\n",
    "        \"Steel\":\"⛓\"\n",
    "    }\n",
    "    return d.get(type_1,\"\")\n",
    "\n",
    "\n",
    "pokemons.withColumn(\"emoji\",emoji(pokemons.type_1)).toPandas()"
   ]
  },
  {
   "cell_type": "markdown",
   "metadata": {},
   "source": [
    "#### current_date: Returns a Column with current day\n",
    "#### current_timestamp: Returns a Column with current day and time\n",
    "#### date_add: Returns a Column adding days to another date column\n",
    "Add a three columns today,tomorrow and now"
   ]
  },
  {
   "cell_type": "code",
   "execution_count": null,
   "metadata": {},
   "outputs": [],
   "source": [
    "pokemons.withColumn(\"today\",F.current_date())\\\n",
    "            .withColumn(\"tomorrow\",F.date_add(F.col(\"today\"),1))\\\n",
    "            .withColumn(\"now\",F.current_timestamp())\\\n",
    "            .limit(5).toPandas()"
   ]
  },
  {
   "cell_type": "markdown",
   "metadata": {},
   "source": [
    "#### year: Returns a Column with the year value\n",
    "#### month: Returns a Column with the month value\n",
    "#### dayofmonth: Returns a Column with the day of the month value\n",
    "#### dayofweek: Returns a Column with the day of the week value\n",
    "#### dayofyear Returns a Column with the day of year value\n",
    "#### hour: Returns a Column with the hour value\n",
    "#### minute: Returns a Column with the minute value\n",
    "#### second: Returns a Column with the second value\n",
    "\n",
    "Practicing more date & time functions"
   ]
  },
  {
   "cell_type": "code",
   "execution_count": null,
   "metadata": {},
   "outputs": [],
   "source": [
    "pokemons.withColumn(\"now\",F.current_timestamp())\\\n",
    "         .select(F.col(\"now\"),\\\n",
    "                 F.year(F.col(\"now\")),\\\n",
    "                 F.month(F.col(\"now\")),\\\n",
    "                 F.dayofmonth(F.col(\"now\")),\\\n",
    "                 F.dayofweek(F.col(\"now\")),\\\n",
    "                 F.dayofyear(F.col(\"now\")),\\\n",
    "                 F.hour(F.col(\"now\")),\\\n",
    "                 F.minute(F.col(\"now\")),\\\n",
    "                 F.second(F.col(\"now\")))\\\n",
    "                .limit(5).toPandas()"
   ]
  },
  {
   "cell_type": "markdown",
   "metadata": {},
   "source": [
    "<a id='5.2'></a>\n",
    "### 5.2 DataFrame Aggregations"
   ]
  },
  {
   "cell_type": "markdown",
   "metadata": {},
   "source": [
    "#### groupBy: Returns a new GroupedDataFrame\n",
    "#### SQL equivalent: GROUP BY clause\n",
    "\n",
    "Calculate basic stats per pokemon type"
   ]
  },
  {
   "cell_type": "code",
   "execution_count": null,
   "metadata": {},
   "outputs": [],
   "source": [
    "pokemons.groupBy(\"type_1\")\\\n",
    "        .agg(\n",
    "            F.count(\"*\").alias(\"count\"),\n",
    "            F.max(\"hp\").alias(\"max_hp\"),\n",
    "            F.round(F.avg(\"hp\")).alias(\"avg_hp\"),\n",
    "            F.min(\"hp\").alias(\"min_hp\"))\\\n",
    "        .sort(F.col(\"avg_hp\").desc())\\\n",
    "        .toPandas()"
   ]
  },
  {
   "cell_type": "markdown",
   "metadata": {},
   "source": [
    "Let's find pokemons in Spain.<br/>\n",
    "I'm going to filter all pokemon sightings to keep only the ones in Spain.<br/>\n",
    "This url contains the bounding boxes for every country:<br/>\n",
    "https://gist.github.com/graydon/11198540"
   ]
  },
  {
   "cell_type": "code",
   "execution_count": null,
   "metadata": {},
   "outputs": [],
   "source": [
    "@F.udf(\"boolean\")\n",
    "def in_spain(longitude,latitude):\n",
    "    # Spain bounding box (aka bbox)\n",
    "    return (longitude > -18.3936845) & (longitude < 4.5918885) & (latitude > 27.4335426) & (latitude  < 43.9933088) \n",
    "sightings_in_spain = (sightings\n",
    "                .select(\"pokemonId\",\n",
    "                        F.col(\"location.coordinates\").getItem(0).alias(\"longitude\"),\n",
    "                        F.col(\"location.coordinates\").getItem(1).alias(\"latitude\"))\n",
    "                .where(in_spain(F.col(\"longitude\"),F.col(\"latitude\")))\n",
    "                .cache())"
   ]
  },
  {
   "cell_type": "code",
   "execution_count": null,
   "metadata": {},
   "outputs": [],
   "source": [
    "sightings_in_spain.count()"
   ]
  },
  {
   "cell_type": "markdown",
   "metadata": {},
   "source": [
    "Let's see how many different pokemons classes there are"
   ]
  },
  {
   "cell_type": "code",
   "execution_count": null,
   "metadata": {},
   "outputs": [],
   "source": [
    "pokemon_classes=sightings_in_spain.select(\"pokemonId\").distinct()\n",
    "pokemon_classes.count()"
   ]
  },
  {
   "cell_type": "code",
   "execution_count": null,
   "metadata": {},
   "outputs": [],
   "source": [
    "pokemon_classes.toPandas()"
   ]
  },
  {
   "cell_type": "markdown",
   "metadata": {},
   "source": [
    "<a id='5.3'></a>\n",
    "### 5.3 DataFrame Joins"
   ]
  },
  {
   "cell_type": "markdown",
   "metadata": {},
   "source": [
    "#### join: Returns a new DataFrame joining two DataFrames\n",
    "#### SQL equivalent: JOIN clause\n",
    "\n",
    "Join pokemon_classes with pokemons and images DataFrames"
   ]
  },
  {
   "cell_type": "code",
   "execution_count": null,
   "metadata": {},
   "outputs": [],
   "source": [
    "pokemons_in_spain = (pokemon_classes.alias(\"c\")\n",
    "                                   .join(pokemons.alias(\"p\"),F.col(\"c.pokemonId\")==F.col(\"p.id\"),\"inner\")\n",
    "                                   .join(images.alias(\"i\"),F.col(\"p.name\")==F.col(\"i.name\"),\"inner\")\n",
    "                                   .select(\"p.id\",\"p.name\",F.col(\"i.content\").alias(\"image\"))  \n",
    "                                   .cache())"
   ]
  },
  {
   "cell_type": "code",
   "execution_count": null,
   "metadata": {},
   "outputs": [],
   "source": [
    "pokemons_in_spain.limit(2).toPandas()"
   ]
  },
  {
   "cell_type": "code",
   "execution_count": null,
   "metadata": {},
   "outputs": [],
   "source": [
    "pokemons_in_spain.count()"
   ]
  },
  {
   "cell_type": "markdown",
   "metadata": {},
   "source": [
    "It's seems that there are 5 missing pokemons missing (146 - 141).<br/>\n",
    "Let's check what they are."
   ]
  },
  {
   "cell_type": "code",
   "execution_count": null,
   "metadata": {},
   "outputs": [],
   "source": [
    "pokemon_classes.exceptAll(pokemons_in_spain.select(\"id\")).toPandas()"
   ]
  },
  {
   "cell_type": "markdown",
   "metadata": {},
   "source": [
    "It seems there are sightings without a pokemon id"
   ]
  },
  {
   "cell_type": "code",
   "execution_count": null,
   "metadata": {},
   "outputs": [],
   "source": [
    "sightings_in_spain.where(F.col(\"pokemonId\").isNull()).count()"
   ]
  },
  {
   "cell_type": "markdown",
   "metadata": {},
   "source": [
    "Let's remove this wrong sightings"
   ]
  },
  {
   "cell_type": "code",
   "execution_count": null,
   "metadata": {},
   "outputs": [],
   "source": [
    "sightings_in_spain = sightings_in_spain.where(F.col(\"pokemonId\").isNotNull())"
   ]
  },
  {
   "cell_type": "markdown",
   "metadata": {},
   "source": [
    "Now let's check why those for pokemons didn't join with the images"
   ]
  },
  {
   "cell_type": "code",
   "execution_count": null,
   "metadata": {},
   "outputs": [],
   "source": [
    "pokemons.where(F.col(\"id\").isin(29,32,83,122)).toPandas()"
   ]
  },
  {
   "cell_type": "code",
   "execution_count": null,
   "metadata": {},
   "outputs": [],
   "source": [
    "images.where(F.col(\"name\").like(\"Nidoran%\") |\n",
    "             F.col(\"name\").like(\"Farfet%\") |\n",
    "             F.col(\"name\").like(\"Mr%\")).toPandas()"
   ]
  },
  {
   "cell_type": "markdown",
   "metadata": {},
   "source": [
    "The names are slightly different. Let's fix it:"
   ]
  },
  {
   "cell_type": "code",
   "execution_count": null,
   "metadata": {},
   "outputs": [],
   "source": [
    "images = images.withColumn(\"name\",F.when(F.col(\"name\")=='Nidoran M',F.lit(\"Nidoran♂\"))\n",
    "                         .when(F.col(\"name\")=='Nidoran F',F.lit(\"Nidoran♀\"))\n",
    "                         .when(F.col(\"name\")=='Mr Mime',F.lit(\"Mr. Mime\"))\n",
    "                         .when(F.col(\"name\")=='Farfetchd',F.lit(\"Farfetch'd\"))\n",
    "                         .otherwise(F.col(\"name\")))         "
   ]
  },
  {
   "cell_type": "markdown",
   "metadata": {},
   "source": [
    "Let's recreate pokemons_in_spain DataFrame"
   ]
  },
  {
   "cell_type": "code",
   "execution_count": null,
   "metadata": {},
   "outputs": [],
   "source": [
    "pokemons_in_spain = (pokemon_classes.alias(\"c\")\n",
    "                                   .join(pokemons.alias(\"p\"),F.col(\"c.pokemonId\")==F.col(\"p.id\"),\"inner\")\n",
    "                                   .join(images.alias(\"i\"),F.col(\"p.name\")==F.col(\"i.name\"),\"inner\")\n",
    "                                   .select(\"p.id\",\"p.name\",F.col(\"i.content\").alias(\"image\"))  \n",
    "                                   .cache())"
   ]
  },
  {
   "cell_type": "code",
   "execution_count": null,
   "metadata": {},
   "outputs": [],
   "source": [
    "pokemons_in_spain.count()"
   ]
  },
  {
   "cell_type": "markdown",
   "metadata": {},
   "source": [
    "I'm going to create a python dictionary with the pokemons data:"
   ]
  },
  {
   "cell_type": "code",
   "execution_count": null,
   "metadata": {},
   "outputs": [],
   "source": [
    "ps = pokemons_in_spain.select(\"id\",\"name\",\"image\").collect()\n",
    "pokemon_dict = {}\n",
    "for p in ps:\n",
    "    pokemon_dict[p.id]=[p.name,p.image]"
   ]
  },
  {
   "cell_type": "markdown",
   "metadata": {},
   "source": [
    "I'm going to plot some sightings (5000)"
   ]
  },
  {
   "cell_type": "code",
   "execution_count": null,
   "metadata": {},
   "outputs": [],
   "source": [
    "rows = sightings_in_spain.select(F.col(\"pokemonId\").alias(\"id\"),\"longitude\",\"latitude\").take(5000)"
   ]
  },
  {
   "cell_type": "markdown",
   "metadata": {},
   "source": [
    "To visualize the data I'm going to use a python library called folium.<br/>"
   ]
  },
  {
   "cell_type": "code",
   "execution_count": null,
   "metadata": {},
   "outputs": [],
   "source": [
    "import base64\n",
    "import folium\n",
    "from folium import IFrame\n",
    "\n",
    "m = folium.Map(location=[40.416775, -3.703790], zoom_start=14, tiles=\"Stamen Terrain\")\n",
    "for row in rows:\n",
    "    encoded = base64.b64encode(pokemon_dict[row.id][1]).decode('UTF-8')\n",
    "    html=f'<img src=\"data:image/png;base64,{encoded}\">'\n",
    "    icon=folium.DivIcon(html)\n",
    "    popup = pokemon_dict[row.id][0]\n",
    "    location=[row.latitude, row.longitude]\n",
    "    folium.Marker(location=location,icon=icon,popup=popup).add_to(m)\n",
    "m"
   ]
  },
  {
   "cell_type": "markdown",
   "metadata": {},
   "source": [
    "<a id='6'></a>\n",
    "## 6. Tear Down\n",
    "\n",
    "Once we complete the the lab we can stop all the services"
   ]
  },
  {
   "cell_type": "markdown",
   "metadata": {},
   "source": [
    "<a id='6.1'></a>\n",
    "### 6.1 Stop Hadoop\n",
    "\n",
    "Stops Hadoop\n",
    "Open a terminal and execute\n",
    "```sh\n",
    "hadoop-stop.sh\n",
    "```"
   ]
  }
 ],
 "metadata": {
  "kernelspec": {
   "display_name": "Python 3 (ipykernel)",
   "language": "python",
   "name": "python3"
  },
  "language_info": {
   "codemirror_mode": {
    "name": "ipython",
    "version": 3
   },
   "file_extension": ".py",
   "mimetype": "text/x-python",
   "name": "python",
   "nbconvert_exporter": "python",
   "pygments_lexer": "ipython3",
   "version": "3.9.12"
  }
 },
 "nbformat": 4,
 "nbformat_minor": 4
}
