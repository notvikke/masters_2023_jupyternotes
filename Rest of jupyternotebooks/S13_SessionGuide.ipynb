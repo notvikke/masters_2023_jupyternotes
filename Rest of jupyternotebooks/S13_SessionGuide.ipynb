{
 "cells": [
  {
   "cell_type": "markdown",
   "id": "864e3c9e",
   "metadata": {},
   "source": [
    "<table border=\"0\" style=\"width:100%\">\n",
    " <tr>\n",
    "    <td>\n",
    "        <img src=\"https://static-frm.ie.edu/university/wp-content/uploads/sites/6/2022/06/IE-University-logo.png\" width=150>\n",
    "     </td>\n",
    "    <td><div style=\"font-family:'Courier New'\">\n",
    "            <div style=\"font-size:25px\">\n",
    "                <div style=\"text-align: right\"> \n",
    "                    <b> MASTER IN BIG DATA</b>\n",
    "                    <br>\n",
    "                    Python for Data Analysis II\n",
    "                    <br><br>\n",
    "                    <em> Daniel Sierra Ramos </em>\n",
    "                </div>\n",
    "            </div>\n",
    "        </div>\n",
    "    </td>\n",
    " </tr>\n",
    "</table>"
   ]
  },
  {
   "cell_type": "markdown",
   "id": "c654d578",
   "metadata": {},
   "source": [
    "# **S13: MAKING SCRIPTS IN PYTHON**"
   ]
  },
  {
   "cell_type": "markdown",
   "id": "466129fe-f40d-4055-ae07-7562533fdb1c",
   "metadata": {},
   "source": [
    "Until now, we've seen how to write instantaneous and spontanoeus code in the Jupyter Notebook. Notebook are very good for designing and testing algorithms and coding solutions because of its flexibility, but when we have to **put some code into a production environment** that runs Python we usually have to translate our Python notebook to **a Python script.**\n",
    "\n",
    "A Python script is just a file with the `.py` extension that executes Python code"
   ]
  },
  {
   "cell_type": "markdown",
   "id": "14495218-8d2b-41cb-9354-5ba454123af1",
   "metadata": {},
   "source": [
    "> ***EXAMPLE 1***\n",
    ">\n",
    "> Create a new file called `hello_world.py` with the following code\n",
    ">\n",
    "> ```python\n",
    "> def main(rep_times):\n",
    ">    print(\"Hello World\")\n",
    ">\n",
    "> main()\n",
    ">```"
   ]
  },
  {
   "cell_type": "markdown",
   "id": "0fbec5fe-bf7c-4ac4-bf57-69ed669534cf",
   "metadata": {},
   "source": [
    "## Executing Python scripts\n",
    "To execute out Python script we need to open a terminal and execute the following command:\n",
    "\n",
    "```bash\n",
    ">>> python hello_world.py\n",
    "```"
   ]
  },
  {
   "cell_type": "markdown",
   "id": "4a213f95-d567-4059-8ef0-c14988a258bf",
   "metadata": {},
   "source": [
    "## The `__name__` variable "
   ]
  },
  {
   "cell_type": "markdown",
   "id": "f6f2c94e-4ff2-41fd-94c4-3b4c10b6bd60",
   "metadata": {},
   "source": [
    "Internal variable to differentiate how the module it's being executed\n",
    "- If `__name__ == \"__main__\"` -> The file is being executed from command line\n",
    "- If `__name__ == <filename.py>` -> The file is being imported as a module by another Python script\n",
    "  \n",
    "So, to build a new script, the very common structure is this one:\n",
    "```python\n",
    "# This is the entry point of our program\n",
    "def main():\n",
    "    print(\"Hello World\")\n",
    "\n",
    "# Only execute main() if it's being executed from command line\n",
    "if __name__ == \"__main__\":\n",
    "    main()\n",
    "```"
   ]
  },
  {
   "cell_type": "code",
   "execution_count": 19,
   "id": "79b2949d-82b8-4fba-9c81-6185fde55016",
   "metadata": {},
   "outputs": [],
   "source": [
    "import hello_world"
   ]
  },
  {
   "cell_type": "markdown",
   "id": "bfafc498-9b3b-44b5-a45e-3d8aeeaf3129",
   "metadata": {},
   "source": [
    "> ***EXAMPLE 2***\n",
    ">\n",
    "> Complete the following tasks\n",
    "> 1. Create a new file called `my_first_script.py`\n",
    "> 1. Fill the file with the previous example code and execute it from the command line\n",
    "> 2. Import the created file from the notebook\n",
    "> 3. Remove the `if` clause and import again the file from the notebook"
   ]
  },
  {
   "cell_type": "markdown",
   "id": "46616346-c607-4050-bc21-1f953b9d381a",
   "metadata": {},
   "source": [
    "## Parsing arguments from the command line"
   ]
  },
  {
   "cell_type": "markdown",
   "id": "571186af-8acb-44e8-840e-99e0a7b99a58",
   "metadata": {},
   "source": [
    "Input arguments from the command line are catched by the `sys.argv` variable. This variable contains the filename being executed and all arguments included in the execution\n",
    "\n",
    "```['myfile.py', 'arg1', 'arg2', 'arg3', ...]```\n",
    "\n",
    "So, to catch input arguments from the code...\n",
    "```python\n",
    "import sys\n",
    "\n",
    "def main(rep_times):\n",
    "    print(\"Hello World\\n\"*rep_times)\n",
    "\n",
    "# Only execute main() if it's being executed from command line\n",
    "if __name__ == \"__main__\":\n",
    "    rep_times = sys.argv[1]\n",
    "    main(rep_times)\n",
    "```"
   ]
  },
  {
   "cell_type": "markdown",
   "id": "52732b59-272e-4d65-8815-ac9e0f97a31e",
   "metadata": {},
   "source": [
    "> ***EXAMPLE 3***\n",
    ">\n",
    "> Complete the following tasks\n",
    "> 1. Include the changes above in `my_first_script.py`\n",
    "> 2. Execute the code changing the number of times \"Hello World\" is printed to 4"
   ]
  },
  {
   "cell_type": "markdown",
   "id": "b6ed6b3a-edcc-44b1-86ef-84b7be43de20",
   "metadata": {},
   "source": [
    "The above code fails because we should cast the str to int"
   ]
  },
  {
   "cell_type": "markdown",
   "id": "7bf67ad9-16d0-4a5a-9758-e85d58489366",
   "metadata": {},
   "source": [
    "### The `argparse` module "
   ]
  },
  {
   "cell_type": "markdown",
   "id": "d0ffd245-5ef9-4027-b56d-f3da8315ae71",
   "metadata": {},
   "source": [
    "The `argparse` built-in Python module is a fantastic tool for argument parsing\n",
    "\n",
    "```python\n",
    "import argparse\n",
    "\n",
    "parser = argparse.ArgumentParser()\n",
    "\n",
    "# the arguments we want to catch go here\n",
    "parser.add_argument(\"argname\", type=int, required=True, help=\"some help\", ...)\n",
    "\n",
    "args = parser.parse_args()\n",
    "```"
   ]
  },
  {
   "cell_type": "markdown",
   "id": "3916360f-5785-4218-9d1a-be99e97f6b6b",
   "metadata": {},
   "source": [
    "> ***EXAMPLE 4***\n",
    ">\n",
    "> Use `argparse` library to parse the input argument `rep_times` from the previous example"
   ]
  }
 ],
 "metadata": {
  "kernelspec": {
   "display_name": "Python 3 (ipykernel)",
   "language": "python",
   "name": "python3"
  },
  "language_info": {
   "codemirror_mode": {
    "name": "ipython",
    "version": 3
   },
   "file_extension": ".py",
   "mimetype": "text/x-python",
   "name": "python",
   "nbconvert_exporter": "python",
   "pygments_lexer": "ipython3",
   "version": "3.9.12"
  },
  "toc-autonumbering": true,
  "toc-showtags": false,
  "vscode": {
   "interpreter": {
    "hash": "916dbcbb3f70747c44a77c7bcd40155683ae19c65e1c03b4aa3499c5328201f1"
   }
  }
 },
 "nbformat": 4,
 "nbformat_minor": 5
}
