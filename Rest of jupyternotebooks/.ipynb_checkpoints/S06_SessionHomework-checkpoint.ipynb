{
 "cells": [
  {
   "cell_type": "markdown",
   "id": "864e3c9e",
   "metadata": {},
   "source": [
    "<table border=\"0\" style=\"width:100%\">\n",
    " <tr>\n",
    "    <td>\n",
    "        <img src=\"https://static-frm.ie.edu/university/wp-content/uploads/sites/6/2022/06/IE-University-logo.png\" width=150>\n",
    "     </td>\n",
    "    <td><div style=\"font-family:'Courier New'\">\n",
    "            <div style=\"font-size:25px\">\n",
    "                <div style=\"text-align: right\"> \n",
    "                    <b> MASTER IN BIG DATA</b>\n",
    "                    <br>\n",
    "                    Python for Data Analysis II\n",
    "                    <br><br>\n",
    "                    <em> Daniel Sierra Ramos </em>\n",
    "                </div>\n",
    "            </div>\n",
    "        </div>\n",
    "    </td>\n",
    " </tr>\n",
    "</table>"
   ]
  },
  {
   "cell_type": "markdown",
   "id": "cfa2643d",
   "metadata": {},
   "source": [
    "# **S06: EXERCISES**"
   ]
  },
  {
   "cell_type": "markdown",
   "id": "368e9e9f-ceba-496d-9bb8-e3022c88435a",
   "metadata": {
    "tags": []
   },
   "source": [
    "## Exercise 01\n",
    "\n",
    "Build a Linear Regression model for the `california_housing` dataset. You can load this dataset calling `datasets.fetch_california_housing()`. \n",
    "\n",
    " - **PART 1**\n",
    "    - **Question 1** - What are the $R^2$ metrics for train and test sets?\n",
    "    - **Question 2** - Imagine that me and my wife, we want to sell our house in *528-426 W Scott Ave\n",
    "Clovis, CA 93612* but we have no idea about the price. Our house is 30 years old, with 6 rooms and 3 bedrooms. In our geographic block group we are 300 people. Our income is 60K. *Hint: Build a single record with this information and get the prediction using your trained model*\n",
    "\n",
    "    - *NOTE: Don't use Latitude and Longitude for this part*\n",
    "\n",
    " - **(Optional) PART 2** - Repeat the process, but now include new three variables called `distance2SF`, `distance2SJ` and `distance2SD` containing the distance from each area to San Francisco, San Jose and San Diego, respectively, in Km.\n",
    "\n",
    "    - **Question 3** - What is the recomended for sale price of my house now? \n",
    "    - *NOTE: You can use the `geopy` library to calculate distances between locations. https://geopy.readthedocs.io/en/stable/#module-geopy.distance*\n",
    "\n",
    "**Don't forget...**\n",
    " - Split data into train and test in order to evaluate the model with unseen data\n",
    " - If you want, you can standardize (`StandardScaler`) data before fitting the model\n",
    " - Train your model and apply it to the test data.\n",
    " - Evaluate the model with the `score` function, for both train and test datasets."
   ]
  },
  {
   "cell_type": "code",
   "execution_count": null,
   "id": "faa332df-21de-4822-bfbd-f62c10a55795",
   "metadata": {},
   "outputs": [],
   "source": []
  }
 ],
 "metadata": {
  "kernelspec": {
   "display_name": "DATASCIENCE (Python 3.10)",
   "language": "python",
   "name": "base"
  },
  "language_info": {
   "codemirror_mode": {
    "name": "ipython",
    "version": 3
   },
   "file_extension": ".py",
   "mimetype": "text/x-python",
   "name": "python",
   "nbconvert_exporter": "python",
   "pygments_lexer": "ipython3",
   "version": "3.10.8"
  }
 },
 "nbformat": 4,
 "nbformat_minor": 5
}
