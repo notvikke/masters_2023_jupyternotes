{
 "cells": [
  {
   "cell_type": "markdown",
   "id": "1f9d9551-468f-48e7-a8f5-88f64f56f733",
   "metadata": {},
   "source": [
    "# Session 11: Introduction to Pandas and data manipulation"
   ]
  },
  {
   "cell_type": "markdown",
   "id": "76a8c5c7-7857-44bc-b150-73a5bda1a86e",
   "metadata": {},
   "source": [
    "`pandas` is a Python library that uses `NumPy` under the hood. `pandas` allows us to perform data analysis and manipulation for tabular data. \n",
    "\n",
    "We can use pandas by importing it\n",
    "```Python\n",
    "import pandas\n",
    "```\n",
    "Or using its well known alias `pd`\n",
    "```Python\n",
    "import pandas as pd\n",
    "```"
   ]
  },
  {
   "cell_type": "code",
   "execution_count": 1,
   "id": "bf67f509-ae09-4cc6-a0d0-6446382a7c2b",
   "metadata": {},
   "outputs": [],
   "source": [
    "# importing pandas as its shorter alias: pd\n",
    "import pandas as pd"
   ]
  },
  {
   "cell_type": "markdown",
   "id": "c9e83ff0-16ac-4604-9f51-da49e400e41b",
   "metadata": {},
   "source": [
    "Now that we have loaded `pandas` we can start using it. But first, some of its main classes and functionalities."
   ]
  },
  {
   "cell_type": "markdown",
   "id": "5be3c4f0-d1fb-4b4d-adaf-3d3a19ab1600",
   "metadata": {},
   "source": [
    "## Pandas series\n",
    "\n",
    "`pd.Series` is a pandas object that contains one dimensional data in an array-like data structure.\n",
    "\n",
    "For each element in a `pd.Series`, a label is assigned to it: the `index`.\n",
    "\n",
    "`pd.Series` can be created from lists, dictionaries, `NumPy` arrays, etc, and can contain integers, floats, strings, booleans, datetimes, ...\n",
    "\n",
    "Let's create a series that contains the following elements `[1, 2, 3]` and let's assign the following labels (`index`) to them `[\"elem1\", \"elem2\", \"elem3\"]`"
   ]
  },
  {
   "cell_type": "code",
   "execution_count": 2,
   "id": "8aeb048d-2b88-4062-9a83-c467cfd3ca36",
   "metadata": {},
   "outputs": [
    {
     "data": {
      "text/plain": [
       "elem1    1\n",
       "elem2    2\n",
       "elem3    3\n",
       "dtype: int64"
      ]
     },
     "execution_count": 2,
     "metadata": {},
     "output_type": "execute_result"
    }
   ],
   "source": [
    "# specifying the index\n",
    "\n",
    "s = pd.Series([1, 2, 3], index=[\"elem1\", \"elem2\", \"elem3\"])\n",
    "\n",
    "s"
   ]
  },
  {
   "cell_type": "code",
   "execution_count": 3,
   "id": "a62574f2-01f9-4dcf-b68b-845eba5804e2",
   "metadata": {},
   "outputs": [
    {
     "data": {
      "text/plain": [
       "0    1\n",
       "1    2\n",
       "2    3\n",
       "dtype: int64"
      ]
     },
     "execution_count": 3,
     "metadata": {},
     "output_type": "execute_result"
    }
   ],
   "source": [
    "# without specifying the index you get an index of 0, 1, 2\n",
    "\n",
    "s = pd.Series([1, 2, 3])\n",
    "\n",
    "s"
   ]
  },
  {
   "cell_type": "markdown",
   "id": "0b7bd9bb-0813-4159-a7a1-910a17ee8dd7",
   "metadata": {
    "tags": []
   },
   "source": [
    "### Series elements\n",
    "\n",
    "`pd.Series` have two main properties: `values` and `index`. \n",
    "\n",
    "We can extract the values contained in a series or the index that labels the values."
   ]
  },
  {
   "cell_type": "code",
   "execution_count": 4,
   "id": "810ce5bf-cace-4aef-9c3e-2c31283527cf",
   "metadata": {},
   "outputs": [
    {
     "name": "stdout",
     "output_type": "stream",
     "text": [
      "[1 2 3]\n",
      "<class 'numpy.ndarray'>\n"
     ]
    }
   ],
   "source": [
    "print(s.values)\n",
    "print(type(s.values))"
   ]
  },
  {
   "cell_type": "code",
   "execution_count": 5,
   "id": "c0ed3b84-69c5-472c-a6d5-07797274bffe",
   "metadata": {},
   "outputs": [
    {
     "name": "stdout",
     "output_type": "stream",
     "text": [
      "RangeIndex(start=0, stop=3, step=1)\n",
      "<class 'pandas.core.indexes.range.RangeIndex'>\n"
     ]
    }
   ],
   "source": [
    "print(s.index)\n",
    "print(type(s.index))"
   ]
  },
  {
   "cell_type": "markdown",
   "id": "5878d772-b0e9-4496-8f2e-679cace5701a",
   "metadata": {},
   "source": [
    "As we can see, the `values` are a `NumPy` array, whereas the `index` is a `pandas.Index` object"
   ]
  },
  {
   "cell_type": "markdown",
   "id": "c85ca344-d54c-4a7f-90f2-c3d6dd3cc903",
   "metadata": {},
   "source": [
    "When `index` is not specified, `pandas` will use 0, 1, ..., N as indices."
   ]
  },
  {
   "cell_type": "code",
   "execution_count": 6,
   "id": "cfffa3d2-b444-4e4d-834f-4111fa7e7c2f",
   "metadata": {},
   "outputs": [
    {
     "data": {
      "text/plain": [
       "1"
      ]
     },
     "execution_count": 6,
     "metadata": {},
     "output_type": "execute_result"
    }
   ],
   "source": [
    "s[0]"
   ]
  },
  {
   "cell_type": "markdown",
   "id": "d9abc38e-30d4-4914-8a10-03587bcf32b0",
   "metadata": {
    "tags": []
   },
   "source": [
    "### Creating `pd.Series`\n",
    "\n",
    "We can use the following objects as the argument of `pd.Series`\n",
    "\n",
    "* From `list`, `tuple`\n",
    "* From `np.array`\n",
    "* From `dict`\n",
    "* From `range()`"
   ]
  },
  {
   "cell_type": "code",
   "execution_count": 37,
   "id": "c562922d-11fa-4aa3-b851-1d3d644b3eca",
   "metadata": {},
   "outputs": [
    {
     "name": "stdout",
     "output_type": "stream",
     "text": [
      "Series from list: 0    1\n",
      "1    2\n",
      "2    3\n",
      "dtype: object\n",
      "Series from list: 0    1\n",
      "1    2\n",
      "2    3\n",
      "dtype: object\n",
      "Series from array: 0    1\n",
      "1    2\n",
      "2    3\n",
      "dtype: int32\n",
      "Series from dict: x    1\n",
      "y    2\n",
      "z    3\n",
      "dtype: int64\n",
      "Series from dict: 0    0\n",
      "1    1\n",
      "2    2\n",
      "3    3\n",
      "4    4\n",
      "dtype: int64\n"
     ]
    }
   ],
   "source": [
    "import numpy as np\n",
    "\n",
    "# from list\n",
    "s_list = pd.Series([\"1\", \"2\", \"3\"])\n",
    "\n",
    "# from tuple\n",
    "s_tuple = pd.Series((\"1\", \"2\", \"3\"))\n",
    "\n",
    "# from np.array\n",
    "s_array = pd.Series(np.array((1, 2, 3)))\n",
    "\n",
    "# from dict\n",
    "s_dict = pd.Series({\"x\": 1, \"y\": 2, \"z\": 3, })\n",
    "\n",
    "# from range\n",
    "s_range = pd.Series(range(5))\n",
    "\n",
    "print(f\"Series from list: {s_list}\")\n",
    "print(f\"Series from list: {s_tuple}\")\n",
    "print(f\"Series from array: {s_array}\")\n",
    "print(f\"Series from dict: {s_dict}\")\n",
    "print(f\"Series from dict: {s_range}\")"
   ]
  },
  {
   "cell_type": "markdown",
   "id": "660c3a39-da1a-4f7f-8503-790880949f4e",
   "metadata": {},
   "source": [
    "### `pd.Series` basic properties and methods"
   ]
  },
  {
   "cell_type": "code",
   "execution_count": 6,
   "id": "d35b077a-ac08-454e-b5c7-d522f5618216",
   "metadata": {},
   "outputs": [
    {
     "ename": "ValueError",
     "evalue": "Length of values (4) does not match length of index (5)",
     "output_type": "error",
     "traceback": [
      "\u001b[1;31m---------------------------------------------------------------------------\u001b[0m",
      "\u001b[1;31mValueError\u001b[0m                                Traceback (most recent call last)",
      "Input \u001b[1;32mIn [9]\u001b[0m, in \u001b[0;36m<cell line: 1>\u001b[1;34m()\u001b[0m\n\u001b[1;32m----> 1\u001b[0m s \u001b[38;5;241m=\u001b[39m \u001b[43mpd\u001b[49m\u001b[38;5;241;43m.\u001b[39;49m\u001b[43mSeries\u001b[49m\u001b[43m(\u001b[49m\u001b[43m[\u001b[49m\u001b[38;5;241;43m1\u001b[39;49m\u001b[43m,\u001b[49m\u001b[43m \u001b[49m\u001b[38;5;241;43m2\u001b[39;49m\u001b[43m,\u001b[49m\u001b[43m \u001b[49m\u001b[38;5;241;43m3\u001b[39;49m\u001b[43m,\u001b[49m\u001b[43m \u001b[49m\u001b[38;5;241;43m4\u001b[39;49m\u001b[43m]\u001b[49m\u001b[43m,\u001b[49m\u001b[43m[\u001b[49m\u001b[38;5;241;43m1\u001b[39;49m\u001b[43m,\u001b[49m\u001b[43m \u001b[49m\u001b[38;5;241;43m2\u001b[39;49m\u001b[43m,\u001b[49m\u001b[43m \u001b[49m\u001b[38;5;241;43m3\u001b[39;49m\u001b[43m,\u001b[49m\u001b[43m \u001b[49m\u001b[38;5;241;43m5\u001b[39;49m\u001b[43m,\u001b[49m\u001b[43m \u001b[49m\u001b[38;5;241;43m6\u001b[39;49m\u001b[43m]\u001b[49m\u001b[43m)\u001b[49m\n",
      "File \u001b[1;32m~\\anaconda3\\lib\\site-packages\\pandas\\core\\series.py:442\u001b[0m, in \u001b[0;36mSeries.__init__\u001b[1;34m(self, data, index, dtype, name, copy, fastpath)\u001b[0m\n\u001b[0;32m    440\u001b[0m     index \u001b[38;5;241m=\u001b[39m default_index(\u001b[38;5;28mlen\u001b[39m(data))\n\u001b[0;32m    441\u001b[0m \u001b[38;5;28;01melif\u001b[39;00m is_list_like(data):\n\u001b[1;32m--> 442\u001b[0m     \u001b[43mcom\u001b[49m\u001b[38;5;241;43m.\u001b[39;49m\u001b[43mrequire_length_match\u001b[49m\u001b[43m(\u001b[49m\u001b[43mdata\u001b[49m\u001b[43m,\u001b[49m\u001b[43m \u001b[49m\u001b[43mindex\u001b[49m\u001b[43m)\u001b[49m\n\u001b[0;32m    444\u001b[0m \u001b[38;5;66;03m# create/copy the manager\u001b[39;00m\n\u001b[0;32m    445\u001b[0m \u001b[38;5;28;01mif\u001b[39;00m \u001b[38;5;28misinstance\u001b[39m(data, (SingleBlockManager, SingleArrayManager)):\n",
      "File \u001b[1;32m~\\anaconda3\\lib\\site-packages\\pandas\\core\\common.py:557\u001b[0m, in \u001b[0;36mrequire_length_match\u001b[1;34m(data, index)\u001b[0m\n\u001b[0;32m    553\u001b[0m \u001b[38;5;124;03m\"\"\"\u001b[39;00m\n\u001b[0;32m    554\u001b[0m \u001b[38;5;124;03mCheck the length of data matches the length of the index.\u001b[39;00m\n\u001b[0;32m    555\u001b[0m \u001b[38;5;124;03m\"\"\"\u001b[39;00m\n\u001b[0;32m    556\u001b[0m \u001b[38;5;28;01mif\u001b[39;00m \u001b[38;5;28mlen\u001b[39m(data) \u001b[38;5;241m!=\u001b[39m \u001b[38;5;28mlen\u001b[39m(index):\n\u001b[1;32m--> 557\u001b[0m     \u001b[38;5;28;01mraise\u001b[39;00m \u001b[38;5;167;01mValueError\u001b[39;00m(\n\u001b[0;32m    558\u001b[0m         \u001b[38;5;124m\"\u001b[39m\u001b[38;5;124mLength of values \u001b[39m\u001b[38;5;124m\"\u001b[39m\n\u001b[0;32m    559\u001b[0m         \u001b[38;5;124mf\u001b[39m\u001b[38;5;124m\"\u001b[39m\u001b[38;5;124m(\u001b[39m\u001b[38;5;132;01m{\u001b[39;00m\u001b[38;5;28mlen\u001b[39m(data)\u001b[38;5;132;01m}\u001b[39;00m\u001b[38;5;124m) \u001b[39m\u001b[38;5;124m\"\u001b[39m\n\u001b[0;32m    560\u001b[0m         \u001b[38;5;124m\"\u001b[39m\u001b[38;5;124mdoes not match length of index \u001b[39m\u001b[38;5;124m\"\u001b[39m\n\u001b[0;32m    561\u001b[0m         \u001b[38;5;124mf\u001b[39m\u001b[38;5;124m\"\u001b[39m\u001b[38;5;124m(\u001b[39m\u001b[38;5;132;01m{\u001b[39;00m\u001b[38;5;28mlen\u001b[39m(index)\u001b[38;5;132;01m}\u001b[39;00m\u001b[38;5;124m)\u001b[39m\u001b[38;5;124m\"\u001b[39m\n\u001b[0;32m    562\u001b[0m     )\n",
      "\u001b[1;31mValueError\u001b[0m: Length of values (4) does not match length of index (5)"
     ]
    }
   ],
   "source": [
    "s = pd.Series([1, 2, 3, 4],[1, 2, 3, 5])"
   ]
  },
  {
   "cell_type": "code",
   "execution_count": 8,
   "id": "599703f2-0988-4302-81ee-a65894ec0d20",
   "metadata": {},
   "outputs": [
    {
     "name": "stdout",
     "output_type": "stream",
     "text": [
      "4\n"
     ]
    }
   ],
   "source": [
    "# length: `len(s)`\n",
    "\n",
    "print(len(s))"
   ]
  },
  {
   "cell_type": "code",
   "execution_count": 10,
   "id": "f261bfcd-5867-427e-b624-e0045fb94474",
   "metadata": {},
   "outputs": [
    {
     "data": {
      "text/plain": [
       "(4,)"
      ]
     },
     "execution_count": 10,
     "metadata": {},
     "output_type": "execute_result"
    }
   ],
   "source": [
    "# shape: `s.shape`\n",
    "s.shape"
   ]
  },
  {
   "cell_type": "code",
   "execution_count": 10,
   "id": "16269e99-7b3f-4778-839a-47ed105bdaae",
   "metadata": {},
   "outputs": [
    {
     "data": {
      "text/plain": [
       "dtype('int64')"
      ]
     },
     "execution_count": 10,
     "metadata": {},
     "output_type": "execute_result"
    }
   ],
   "source": [
    "# type of elements\n",
    "\n",
    "s.dtype"
   ]
  },
  {
   "cell_type": "code",
   "execution_count": 11,
   "id": "145ebab4-8554-4a1e-80c8-e8a99f256e12",
   "metadata": {},
   "outputs": [
    {
     "data": {
      "text/plain": [
       "2"
      ]
     },
     "execution_count": 11,
     "metadata": {},
     "output_type": "execute_result"
    }
   ],
   "source": [
    "# selecting a certain element according to the index: `get()`\n",
    "ser = pd.Series({\"a\": 1, \"b\": 2, \"c\": 3})\n",
    "\n",
    "ser.get(\"b\")"
   ]
  },
  {
   "cell_type": "markdown",
   "id": "059af60a-8159-4cf2-9936-b255d82af94b",
   "metadata": {
    "tags": []
   },
   "source": [
    "## Pandas DataFrames\n",
    "\n",
    "If we aggregate several series together we can build a `pd.DataFrame`. These objects are table-like structures in which each row is represented by its own `index` and each column is represented by a column name.\n",
    "\n",
    "A `pd.DataFrame` is, in the end, a `NumPy` matrix of `n` rows and `m` columns, with labels for each row and column."
   ]
  },
  {
   "cell_type": "markdown",
   "id": "82a18493-b7ec-45a0-8825-468634b6aec9",
   "metadata": {},
   "source": [
    "### How to create a `pd.DataFrame`\n",
    "\n",
    "We can use the following objects as the argument of `pd.DataFrame`\n",
    "\n",
    "* From dict of `pd.Series`: the keys will be the name of the columns\n",
    "* From list of dicts: the keys will be the name of the columns\n",
    "* From dict of lists: the keys will be the name of the columns \n",
    "..."
   ]
  },
  {
   "cell_type": "code",
   "execution_count": 12,
   "id": "54382a86-4485-47ae-a2c3-657ace7c9c99",
   "metadata": {},
   "outputs": [
    {
     "data": {
      "text/html": [
       "<div>\n",
       "<style scoped>\n",
       "    .dataframe tbody tr th:only-of-type {\n",
       "        vertical-align: middle;\n",
       "    }\n",
       "\n",
       "    .dataframe tbody tr th {\n",
       "        vertical-align: top;\n",
       "    }\n",
       "\n",
       "    .dataframe thead th {\n",
       "        text-align: right;\n",
       "    }\n",
       "</style>\n",
       "<table border=\"1\" class=\"dataframe\">\n",
       "  <thead>\n",
       "    <tr style=\"text-align: right;\">\n",
       "      <th></th>\n",
       "      <th>var1</th>\n",
       "      <th>var2</th>\n",
       "    </tr>\n",
       "  </thead>\n",
       "  <tbody>\n",
       "    <tr>\n",
       "      <th>0</th>\n",
       "      <td>1</td>\n",
       "      <td>2</td>\n",
       "    </tr>\n",
       "    <tr>\n",
       "      <th>1</th>\n",
       "      <td>2</td>\n",
       "      <td>3</td>\n",
       "    </tr>\n",
       "    <tr>\n",
       "      <th>2</th>\n",
       "      <td>3</td>\n",
       "      <td>4</td>\n",
       "    </tr>\n",
       "    <tr>\n",
       "      <th>3</th>\n",
       "      <td>4</td>\n",
       "      <td>[lucasnoob, 5, lool]</td>\n",
       "    </tr>\n",
       "  </tbody>\n",
       "</table>\n",
       "</div>"
      ],
      "text/plain": [
       "   var1                  var2\n",
       "0     1                     2\n",
       "1     2                     3\n",
       "2     3                     4\n",
       "3     4  [lucasnoob, 5, lool]"
      ]
     },
     "execution_count": 12,
     "metadata": {},
     "output_type": "execute_result"
    }
   ],
   "source": [
    "# from dict of pd.Series\n",
    "\n",
    "series1 = [1, 2, 3, 4]\n",
    "series2 = [2, 3, 4,['lucasnoob',5,'lool']]\n",
    "\n",
    "df = pd.DataFrame(\n",
    "    {\n",
    "        \"var1\": series1,\n",
    "        \"var2\": series2\n",
    "    }\n",
    ")\n",
    "\n",
    "df"
   ]
  },
  {
   "cell_type": "code",
   "execution_count": 13,
   "id": "89d169dc-21b5-4436-8543-87edcb8cfd12",
   "metadata": {},
   "outputs": [
    {
     "data": {
      "text/plain": [
       "array([[1, 2],\n",
       "       [2, 3],\n",
       "       [3, 4],\n",
       "       [4, list(['lucasnoob', 5, 'lool'])]], dtype=object)"
      ]
     },
     "execution_count": 13,
     "metadata": {},
     "output_type": "execute_result"
    }
   ],
   "source": [
    "df.values"
   ]
  },
  {
   "cell_type": "code",
   "execution_count": 14,
   "id": "f7f9c308-baa8-4fb1-a403-caf26ccfaa57",
   "metadata": {},
   "outputs": [
    {
     "data": {
      "text/plain": [
       "[0, 1, 2, 3]"
      ]
     },
     "execution_count": 14,
     "metadata": {},
     "output_type": "execute_result"
    }
   ],
   "source": [
    "list(df.index)"
   ]
  },
  {
   "cell_type": "code",
   "execution_count": 15,
   "id": "0b4e2e82-418a-4164-bfc7-be3533daa6a5",
   "metadata": {},
   "outputs": [
    {
     "data": {
      "text/plain": [
       "Index(['var1', 'var2'], dtype='object')"
      ]
     },
     "execution_count": 15,
     "metadata": {},
     "output_type": "execute_result"
    }
   ],
   "source": [
    "df.columns\n"
   ]
  },
  {
   "cell_type": "code",
   "execution_count": 16,
   "id": "8c7988c4-bbda-4b08-bef0-7e2f741083df",
   "metadata": {},
   "outputs": [
    {
     "data": {
      "text/html": [
       "<div>\n",
       "<style scoped>\n",
       "    .dataframe tbody tr th:only-of-type {\n",
       "        vertical-align: middle;\n",
       "    }\n",
       "\n",
       "    .dataframe tbody tr th {\n",
       "        vertical-align: top;\n",
       "    }\n",
       "\n",
       "    .dataframe thead th {\n",
       "        text-align: right;\n",
       "    }\n",
       "</style>\n",
       "<table border=\"1\" class=\"dataframe\">\n",
       "  <thead>\n",
       "    <tr style=\"text-align: right;\">\n",
       "      <th></th>\n",
       "      <th>Name</th>\n",
       "      <th>Age</th>\n",
       "      <th>Furry</th>\n",
       "      <th>Height</th>\n",
       "    </tr>\n",
       "  </thead>\n",
       "  <tbody>\n",
       "    <tr>\n",
       "      <th>0</th>\n",
       "      <td>Lucasnoob</td>\n",
       "      <td>21</td>\n",
       "      <td>True</td>\n",
       "      <td>175</td>\n",
       "    </tr>\n",
       "    <tr>\n",
       "      <th>1</th>\n",
       "      <td>Churro</td>\n",
       "      <td>6</td>\n",
       "      <td>True</td>\n",
       "      <td>60</td>\n",
       "    </tr>\n",
       "    <tr>\n",
       "      <th>2</th>\n",
       "      <td>Plant</td>\n",
       "      <td>1</td>\n",
       "      <td>False</td>\n",
       "      <td>40</td>\n",
       "    </tr>\n",
       "  </tbody>\n",
       "</table>\n",
       "</div>"
      ],
      "text/plain": [
       "        Name  Age  Furry  Height\n",
       "0  Lucasnoob   21   True     175\n",
       "1     Churro    6   True      60\n",
       "2      Plant    1  False      40"
      ]
     },
     "execution_count": 16,
     "metadata": {},
     "output_type": "execute_result"
    }
   ],
   "source": [
    "# from list of dicts\n",
    "\n",
    "list_of_dicts = [\n",
    "    {\"Name\": \"Lucasnoob\", \"Age\": 21, \"Furry\": True, \"Height\": 175},\n",
    "    {\"Name\": \"Churro\", \"Age\": 6, \"Furry\": True, \"Height\": 60},\n",
    "    {\"Name\": \"Plant\", \"Age\": 1, \"Furry\": False, \"Height\": 40},\n",
    "]\n",
    "\n",
    "pd.DataFrame(list_of_dicts)"
   ]
  },
  {
   "cell_type": "code",
   "execution_count": 17,
   "id": "f876c0ae-f695-407a-9dd1-fd03af2e030e",
   "metadata": {},
   "outputs": [
    {
     "data": {
      "text/plain": [
       "Name      object\n",
       "Age        int64\n",
       "Furry       bool\n",
       "Height     int64\n",
       "dtype: object"
      ]
     },
     "execution_count": 17,
     "metadata": {},
     "output_type": "execute_result"
    }
   ],
   "source": [
    "# from list of dicts\n",
    "\n",
    "list_of_dicts = [\n",
    "    {\"Name\": \"Lucasnoob\", \"Age\": 21, \"Furry\": True, \"Height\": 175},\n",
    "    {\"Name\": \"Churro\", \"Age\": 6, \"Furry\": True, \"Height\": 60},\n",
    "    {\"Name\": \"Plant\", \"Age\": 1, \"Furry\": False, \"Height\": 40},\n",
    "]\n",
    "\n",
    "pd.DataFrame(list_of_dicts).dtypes"
   ]
  },
  {
   "cell_type": "code",
   "execution_count": 49,
   "id": "1bbd917e-0928-44ab-8b9f-2f0785c5d77a",
   "metadata": {},
   "outputs": [
    {
     "data": {
      "text/html": [
       "<div>\n",
       "<style scoped>\n",
       "    .dataframe tbody tr th:only-of-type {\n",
       "        vertical-align: middle;\n",
       "    }\n",
       "\n",
       "    .dataframe tbody tr th {\n",
       "        vertical-align: top;\n",
       "    }\n",
       "\n",
       "    .dataframe thead th {\n",
       "        text-align: right;\n",
       "    }\n",
       "</style>\n",
       "<table border=\"1\" class=\"dataframe\">\n",
       "  <thead>\n",
       "    <tr style=\"text-align: right;\">\n",
       "      <th></th>\n",
       "      <th>var1</th>\n",
       "      <th>var2</th>\n",
       "      <th>var3</th>\n",
       "      <th>var4</th>\n",
       "    </tr>\n",
       "  </thead>\n",
       "  <tbody>\n",
       "    <tr>\n",
       "      <th>0</th>\n",
       "      <td>Good</td>\n",
       "      <td>32</td>\n",
       "      <td>False</td>\n",
       "      <td>178</td>\n",
       "    </tr>\n",
       "    <tr>\n",
       "      <th>1</th>\n",
       "      <td>Average</td>\n",
       "      <td>6</td>\n",
       "      <td>True</td>\n",
       "      <td>60</td>\n",
       "    </tr>\n",
       "    <tr>\n",
       "      <th>2</th>\n",
       "      <td>Bad</td>\n",
       "      <td>1</td>\n",
       "      <td>None</td>\n",
       "      <td>40</td>\n",
       "    </tr>\n",
       "  </tbody>\n",
       "</table>\n",
       "</div>"
      ],
      "text/plain": [
       "      var1  var2   var3  var4\n",
       "0     Good    32  False   178\n",
       "1  Average     6   True    60\n",
       "2      Bad     1   None    40"
      ]
     },
     "execution_count": 49,
     "metadata": {},
     "output_type": "execute_result"
    }
   ],
   "source": [
    "# from dict of lists\n",
    "dict_lists = {\n",
    "    \"var1\": [\"Good\", \"Average\", \"Bad\"],\n",
    "    \"var2\": [32, 6, 1],\n",
    "    \"var3\": [False, True, None],\n",
    "    \"var4\": [178, 60, 40]\n",
    "}\n",
    "\n",
    "pd.DataFrame(dict_lists)"
   ]
  },
  {
   "cell_type": "markdown",
   "id": "c354e456-e1c3-42d1-99d7-cf98873b87cd",
   "metadata": {},
   "source": [
    "### `pd.DataFrame` basic properties and methods"
   ]
  },
  {
   "cell_type": "code",
   "execution_count": 19,
   "id": "3025953b-77d7-4e44-910a-7bf0c0e0b806",
   "metadata": {},
   "outputs": [
    {
     "data": {
      "text/html": [
       "<div>\n",
       "<style scoped>\n",
       "    .dataframe tbody tr th:only-of-type {\n",
       "        vertical-align: middle;\n",
       "    }\n",
       "\n",
       "    .dataframe tbody tr th {\n",
       "        vertical-align: top;\n",
       "    }\n",
       "\n",
       "    .dataframe thead th {\n",
       "        text-align: right;\n",
       "    }\n",
       "</style>\n",
       "<table border=\"1\" class=\"dataframe\">\n",
       "  <thead>\n",
       "    <tr style=\"text-align: right;\">\n",
       "      <th></th>\n",
       "      <th>col_float</th>\n",
       "      <th>col_int</th>\n",
       "      <th>col_string</th>\n",
       "      <th>col_boolean</th>\n",
       "    </tr>\n",
       "  </thead>\n",
       "  <tbody>\n",
       "    <tr>\n",
       "      <th>0</th>\n",
       "      <td>1.00</td>\n",
       "      <td>1</td>\n",
       "      <td>abc</td>\n",
       "      <td>True</td>\n",
       "    </tr>\n",
       "    <tr>\n",
       "      <th>1</th>\n",
       "      <td>2.30</td>\n",
       "      <td>2</td>\n",
       "      <td>abc</td>\n",
       "      <td>True</td>\n",
       "    </tr>\n",
       "    <tr>\n",
       "      <th>2</th>\n",
       "      <td>5.66</td>\n",
       "      <td>3</td>\n",
       "      <td>ghi</td>\n",
       "      <td>False</td>\n",
       "    </tr>\n",
       "  </tbody>\n",
       "</table>\n",
       "</div>"
      ],
      "text/plain": [
       "   col_float  col_int col_string  col_boolean\n",
       "0       1.00        1        abc         True\n",
       "1       2.30        2        abc         True\n",
       "2       5.66        3        ghi        False"
      ]
     },
     "execution_count": 19,
     "metadata": {},
     "output_type": "execute_result"
    }
   ],
   "source": [
    "df = pd.DataFrame({\n",
    "    \"col_float\": [1.0, 2.3, 5.66],\n",
    "    \"col_int\": [1, 2, 3],\n",
    "    \"col_string\": [\"abc\", \"abc\", \"ghi\"],\n",
    "    \"col_boolean\": [True, True, False]\n",
    "})\n",
    "\n",
    "df"
   ]
  },
  {
   "cell_type": "markdown",
   "id": "b7872986-83c4-4a14-828d-88bd146a975c",
   "metadata": {},
   "source": [
    "#### Values:\n",
    "\n",
    "`df.values` is the actual information contained and labelled in our dataframe.\n",
    "\n",
    "Returns an `np.array`. These are formed as a list of list in which each sublist contains the rows of the matrix"
   ]
  },
  {
   "cell_type": "code",
   "execution_count": 53,
   "id": "41d8ff08-aa8c-4a89-8468-2fa6e396da9d",
   "metadata": {},
   "outputs": [
    {
     "data": {
      "text/plain": [
       "array([[1.0, 1, True],\n",
       "       [2.3, 2, True],\n",
       "       [5.66, 3, False],\n",
       "       [9.99, 4, True]], dtype=object)"
      ]
     },
     "execution_count": 53,
     "metadata": {},
     "output_type": "execute_result"
    }
   ],
   "source": [
    "# values: np.array\n",
    "# np.arrays are formed as a list of list in which each sublist contains the rows of the matrix\n",
    "\n",
    "df.values"
   ]
  },
  {
   "cell_type": "markdown",
   "id": "6937c84f-64ca-4ccd-aef4-20808f350e55",
   "metadata": {},
   "source": [
    "#### Index:\n",
    "\n",
    "We can see the index used in our DF by using the `index` property. We will receive a generator that we can unfold with `list()` for example\n",
    "\n",
    "We can also change this index to any other info we want with `df.set_index()`.\n",
    "\n",
    "If we pass the argument `drop=False` we will not remove the column from the values, and we'll have it as index AND in the values. Otherwise, it will be removed."
   ]
  },
  {
   "cell_type": "code",
   "execution_count": 51,
   "id": "3b40acfd-b69c-4129-802f-4adb9a5224e9",
   "metadata": {},
   "outputs": [
    {
     "data": {
      "text/plain": [
       "['abc', 'def', 'ghi', 'jkl']"
      ]
     },
     "execution_count": 51,
     "metadata": {},
     "output_type": "execute_result"
    }
   ],
   "source": [
    "list(df.index)"
   ]
  },
  {
   "cell_type": "code",
   "execution_count": 52,
   "id": "960b0453-4c74-414b-b25a-70d14a269cb3",
   "metadata": {},
   "outputs": [
    {
     "ename": "KeyError",
     "evalue": "\"None of ['col_string'] are in the columns\"",
     "output_type": "error",
     "traceback": [
      "\u001b[1;31m---------------------------------------------------------------------------\u001b[0m",
      "\u001b[1;31mKeyError\u001b[0m                                  Traceback (most recent call last)",
      "Input \u001b[1;32mIn [52]\u001b[0m, in \u001b[0;36m<cell line: 2>\u001b[1;34m()\u001b[0m\n\u001b[0;32m      1\u001b[0m \u001b[38;5;66;03m# we can use an existing column as new index\u001b[39;00m\n\u001b[1;32m----> 2\u001b[0m df_new_index \u001b[38;5;241m=\u001b[39m \u001b[43mdf\u001b[49m\u001b[38;5;241;43m.\u001b[39;49m\u001b[43mset_index\u001b[49m\u001b[43m(\u001b[49m\u001b[38;5;124;43m\"\u001b[39;49m\u001b[38;5;124;43mcol_string\u001b[39;49m\u001b[38;5;124;43m\"\u001b[39;49m\u001b[43m)\u001b[49m\n\u001b[0;32m      4\u001b[0m \u001b[38;5;28mprint\u001b[39m(df_new_index\u001b[38;5;241m.\u001b[39mindex)\n\u001b[0;32m      6\u001b[0m df_new_index\n",
      "File \u001b[1;32m~\\anaconda3\\lib\\site-packages\\pandas\\util\\_decorators.py:311\u001b[0m, in \u001b[0;36mdeprecate_nonkeyword_arguments.<locals>.decorate.<locals>.wrapper\u001b[1;34m(*args, **kwargs)\u001b[0m\n\u001b[0;32m    305\u001b[0m \u001b[38;5;28;01mif\u001b[39;00m \u001b[38;5;28mlen\u001b[39m(args) \u001b[38;5;241m>\u001b[39m num_allow_args:\n\u001b[0;32m    306\u001b[0m     warnings\u001b[38;5;241m.\u001b[39mwarn(\n\u001b[0;32m    307\u001b[0m         msg\u001b[38;5;241m.\u001b[39mformat(arguments\u001b[38;5;241m=\u001b[39marguments),\n\u001b[0;32m    308\u001b[0m         \u001b[38;5;167;01mFutureWarning\u001b[39;00m,\n\u001b[0;32m    309\u001b[0m         stacklevel\u001b[38;5;241m=\u001b[39mstacklevel,\n\u001b[0;32m    310\u001b[0m     )\n\u001b[1;32m--> 311\u001b[0m \u001b[38;5;28;01mreturn\u001b[39;00m func(\u001b[38;5;241m*\u001b[39margs, \u001b[38;5;241m*\u001b[39m\u001b[38;5;241m*\u001b[39mkwargs)\n",
      "File \u001b[1;32m~\\anaconda3\\lib\\site-packages\\pandas\\core\\frame.py:5494\u001b[0m, in \u001b[0;36mDataFrame.set_index\u001b[1;34m(self, keys, drop, append, inplace, verify_integrity)\u001b[0m\n\u001b[0;32m   5491\u001b[0m                 missing\u001b[38;5;241m.\u001b[39mappend(col)\n\u001b[0;32m   5493\u001b[0m \u001b[38;5;28;01mif\u001b[39;00m missing:\n\u001b[1;32m-> 5494\u001b[0m     \u001b[38;5;28;01mraise\u001b[39;00m \u001b[38;5;167;01mKeyError\u001b[39;00m(\u001b[38;5;124mf\u001b[39m\u001b[38;5;124m\"\u001b[39m\u001b[38;5;124mNone of \u001b[39m\u001b[38;5;132;01m{\u001b[39;00mmissing\u001b[38;5;132;01m}\u001b[39;00m\u001b[38;5;124m are in the columns\u001b[39m\u001b[38;5;124m\"\u001b[39m)\n\u001b[0;32m   5496\u001b[0m \u001b[38;5;28;01mif\u001b[39;00m inplace:\n\u001b[0;32m   5497\u001b[0m     frame \u001b[38;5;241m=\u001b[39m \u001b[38;5;28mself\u001b[39m\n",
      "\u001b[1;31mKeyError\u001b[0m: \"None of ['col_string'] are in the columns\""
     ]
    }
   ],
   "source": [
    "# we can use an existing column as new index\n",
    "df_new_index = df.set_index(\"col_string\")\n",
    "\n",
    "print(df_new_index.index)\n",
    "\n",
    "df_new_index"
   ]
  },
  {
   "cell_type": "markdown",
   "id": "b1e67259-6da2-4ecb-ba6c-c31549ef2a09",
   "metadata": {},
   "source": [
    "We can reset our index to the original (0, 1, ...) with `df.reset_index()`"
   ]
  },
  {
   "cell_type": "code",
   "execution_count": 32,
   "id": "d63ce688-c222-4093-8c8c-df0b68edaa72",
   "metadata": {},
   "outputs": [
    {
     "data": {
      "text/html": [
       "<div>\n",
       "<style scoped>\n",
       "    .dataframe tbody tr th:only-of-type {\n",
       "        vertical-align: middle;\n",
       "    }\n",
       "\n",
       "    .dataframe tbody tr th {\n",
       "        vertical-align: top;\n",
       "    }\n",
       "\n",
       "    .dataframe thead th {\n",
       "        text-align: right;\n",
       "    }\n",
       "</style>\n",
       "<table border=\"1\" class=\"dataframe\">\n",
       "  <thead>\n",
       "    <tr style=\"text-align: right;\">\n",
       "      <th></th>\n",
       "      <th>col_string</th>\n",
       "      <th>col_float</th>\n",
       "      <th>col_int</th>\n",
       "      <th>col_boolean</th>\n",
       "    </tr>\n",
       "  </thead>\n",
       "  <tbody>\n",
       "    <tr>\n",
       "      <th>0</th>\n",
       "      <td>abc</td>\n",
       "      <td>1.00</td>\n",
       "      <td>1</td>\n",
       "      <td>True</td>\n",
       "    </tr>\n",
       "    <tr>\n",
       "      <th>1</th>\n",
       "      <td>abc</td>\n",
       "      <td>2.30</td>\n",
       "      <td>2</td>\n",
       "      <td>True</td>\n",
       "    </tr>\n",
       "    <tr>\n",
       "      <th>2</th>\n",
       "      <td>ghi</td>\n",
       "      <td>5.66</td>\n",
       "      <td>3</td>\n",
       "      <td>False</td>\n",
       "    </tr>\n",
       "  </tbody>\n",
       "</table>\n",
       "</div>"
      ],
      "text/plain": [
       "  col_string  col_float  col_int  col_boolean\n",
       "0        abc       1.00        1         True\n",
       "1        abc       2.30        2         True\n",
       "2        ghi       5.66        3        False"
      ]
     },
     "execution_count": 32,
     "metadata": {},
     "output_type": "execute_result"
    }
   ],
   "source": [
    "df_new_index.reset_index()"
   ]
  },
  {
   "cell_type": "markdown",
   "id": "e23cf02a-e220-4dba-974b-56a996bbde7b",
   "metadata": {
    "tags": []
   },
   "source": [
    "#### Columns and their names:\n",
    "\n",
    "`df.columns` return the labels attached to each column, or their names.\n",
    "\n",
    "We can mutate this by mutating the `df.columns` values, or by using `df.rename()` passing as argument a dict with keys containing the old columns we want to change, and value the new name."
   ]
  },
  {
   "cell_type": "code",
   "execution_count": 33,
   "id": "2e418521-de83-4498-8427-4566a7042c5a",
   "metadata": {},
   "outputs": [
    {
     "data": {
      "text/plain": [
       "Index(['col_float', 'col_int', 'col_string', 'col_boolean'], dtype='object')"
      ]
     },
     "execution_count": 33,
     "metadata": {},
     "output_type": "execute_result"
    }
   ],
   "source": [
    "# get the columns names\n",
    "df.columns"
   ]
  },
  {
   "cell_type": "code",
   "execution_count": 22,
   "id": "d17ccbe3-3f7a-45cd-b5eb-809522dbe6bd",
   "metadata": {},
   "outputs": [
    {
     "name": "stdout",
     "output_type": "stream",
     "text": [
      "Index(['type_float', 'type_int', 'type_string', 'type_boolean'], dtype='object')\n"
     ]
    }
   ],
   "source": [
    "# updating df.columns by mutating the df.columns info directly\n",
    "df.columns = [\"type_\" + colname.split(\"_\")[1] for colname in df.columns]\n",
    "\n",
    "print(df.columns)"
   ]
  },
  {
   "cell_type": "code",
   "execution_count": 23,
   "id": "0773e8df-27e0-4cd4-9929-adbb651fed5e",
   "metadata": {},
   "outputs": [],
   "source": [
    "# using df.rename({old_col:new_col})\n",
    "# we need to use `inplace=True` if we want to update the information stored in memory or assign the result to a new variable\n",
    "\n",
    "df.rename(columns={\n",
    "    \"type_float\": \"type_num_float\",\n",
    "    \"type_int\": \"type_num_int\"\n",
    "}, inplace=True)"
   ]
  },
  {
   "cell_type": "code",
   "execution_count": 24,
   "id": "0c7083c3-6da5-4175-bf3f-df45b52c0858",
   "metadata": {},
   "outputs": [
    {
     "data": {
      "text/html": [
       "<div>\n",
       "<style scoped>\n",
       "    .dataframe tbody tr th:only-of-type {\n",
       "        vertical-align: middle;\n",
       "    }\n",
       "\n",
       "    .dataframe tbody tr th {\n",
       "        vertical-align: top;\n",
       "    }\n",
       "\n",
       "    .dataframe thead th {\n",
       "        text-align: right;\n",
       "    }\n",
       "</style>\n",
       "<table border=\"1\" class=\"dataframe\">\n",
       "  <thead>\n",
       "    <tr style=\"text-align: right;\">\n",
       "      <th></th>\n",
       "      <th>type_num_float</th>\n",
       "      <th>type_num_int</th>\n",
       "      <th>type_string</th>\n",
       "      <th>type_boolean</th>\n",
       "    </tr>\n",
       "  </thead>\n",
       "  <tbody>\n",
       "    <tr>\n",
       "      <th>0</th>\n",
       "      <td>1.00</td>\n",
       "      <td>1</td>\n",
       "      <td>abc</td>\n",
       "      <td>True</td>\n",
       "    </tr>\n",
       "    <tr>\n",
       "      <th>1</th>\n",
       "      <td>2.30</td>\n",
       "      <td>2</td>\n",
       "      <td>abc</td>\n",
       "      <td>True</td>\n",
       "    </tr>\n",
       "    <tr>\n",
       "      <th>2</th>\n",
       "      <td>5.66</td>\n",
       "      <td>3</td>\n",
       "      <td>ghi</td>\n",
       "      <td>False</td>\n",
       "    </tr>\n",
       "  </tbody>\n",
       "</table>\n",
       "</div>"
      ],
      "text/plain": [
       "   type_num_float  type_num_int type_string  type_boolean\n",
       "0            1.00             1         abc          True\n",
       "1            2.30             2         abc          True\n",
       "2            5.66             3         ghi         False"
      ]
     },
     "execution_count": 24,
     "metadata": {},
     "output_type": "execute_result"
    }
   ],
   "source": [
    "df"
   ]
  },
  {
   "cell_type": "markdown",
   "id": "34f5367b-4ccb-4373-8f01-0793c1383966",
   "metadata": {},
   "source": [
    "#### Describe \n",
    "\n",
    "`df.describe()` returns a summary with statistics for the numeric columns, very useful for Exploratory Data Analysis"
   ]
  },
  {
   "cell_type": "code",
   "execution_count": 38,
   "id": "f4257b17-4f5c-46ab-a857-4003bcb27307",
   "metadata": {},
   "outputs": [
    {
     "data": {
      "text/html": [
       "<div>\n",
       "<style scoped>\n",
       "    .dataframe tbody tr th:only-of-type {\n",
       "        vertical-align: middle;\n",
       "    }\n",
       "\n",
       "    .dataframe tbody tr th {\n",
       "        vertical-align: top;\n",
       "    }\n",
       "\n",
       "    .dataframe thead th {\n",
       "        text-align: right;\n",
       "    }\n",
       "</style>\n",
       "<table border=\"1\" class=\"dataframe\">\n",
       "  <thead>\n",
       "    <tr style=\"text-align: right;\">\n",
       "      <th></th>\n",
       "      <th>length_name</th>\n",
       "      <th>len_name</th>\n",
       "    </tr>\n",
       "  </thead>\n",
       "  <tbody>\n",
       "    <tr>\n",
       "      <th>count</th>\n",
       "      <td>4.000000</td>\n",
       "      <td>4.000000</td>\n",
       "    </tr>\n",
       "    <tr>\n",
       "      <th>mean</th>\n",
       "      <td>4.500000</td>\n",
       "      <td>4.500000</td>\n",
       "    </tr>\n",
       "    <tr>\n",
       "      <th>std</th>\n",
       "      <td>1.290994</td>\n",
       "      <td>1.290994</td>\n",
       "    </tr>\n",
       "    <tr>\n",
       "      <th>min</th>\n",
       "      <td>3.000000</td>\n",
       "      <td>3.000000</td>\n",
       "    </tr>\n",
       "    <tr>\n",
       "      <th>25%</th>\n",
       "      <td>3.750000</td>\n",
       "      <td>3.750000</td>\n",
       "    </tr>\n",
       "    <tr>\n",
       "      <th>50%</th>\n",
       "      <td>4.500000</td>\n",
       "      <td>4.500000</td>\n",
       "    </tr>\n",
       "    <tr>\n",
       "      <th>75%</th>\n",
       "      <td>5.250000</td>\n",
       "      <td>5.250000</td>\n",
       "    </tr>\n",
       "    <tr>\n",
       "      <th>max</th>\n",
       "      <td>6.000000</td>\n",
       "      <td>6.000000</td>\n",
       "    </tr>\n",
       "  </tbody>\n",
       "</table>\n",
       "</div>"
      ],
      "text/plain": [
       "       length_name  len_name\n",
       "count     4.000000  4.000000\n",
       "mean      4.500000  4.500000\n",
       "std       1.290994  1.290994\n",
       "min       3.000000  3.000000\n",
       "25%       3.750000  3.750000\n",
       "50%       4.500000  4.500000\n",
       "75%       5.250000  5.250000\n",
       "max       6.000000  6.000000"
      ]
     },
     "execution_count": 38,
     "metadata": {},
     "output_type": "execute_result"
    }
   ],
   "source": [
    "df.describe()"
   ]
  },
  {
   "cell_type": "markdown",
   "id": "60c69e23-f5f9-4498-b642-fdd2a169166f",
   "metadata": {},
   "source": [
    "#### Transpose\n",
    "\n",
    "Since DataFrames are matrices, we can transpose them with `df.T`"
   ]
  },
  {
   "cell_type": "code",
   "execution_count": 39,
   "id": "815bd918-0d1f-41b9-8f85-ea7330e989e2",
   "metadata": {},
   "outputs": [
    {
     "data": {
      "text/html": [
       "<div>\n",
       "<style scoped>\n",
       "    .dataframe tbody tr th:only-of-type {\n",
       "        vertical-align: middle;\n",
       "    }\n",
       "\n",
       "    .dataframe tbody tr th {\n",
       "        vertical-align: top;\n",
       "    }\n",
       "\n",
       "    .dataframe thead th {\n",
       "        text-align: right;\n",
       "    }\n",
       "</style>\n",
       "<table border=\"1\" class=\"dataframe\">\n",
       "  <thead>\n",
       "    <tr style=\"text-align: right;\">\n",
       "      <th>new_index</th>\n",
       "      <th>element_1</th>\n",
       "      <th>element_2</th>\n",
       "      <th>element_3</th>\n",
       "      <th>element_4</th>\n",
       "    </tr>\n",
       "  </thead>\n",
       "  <tbody>\n",
       "    <tr>\n",
       "      <th>name</th>\n",
       "      <td>dani</td>\n",
       "      <td>churro</td>\n",
       "      <td>plant</td>\n",
       "      <td>cup</td>\n",
       "    </tr>\n",
       "    <tr>\n",
       "      <th>age</th>\n",
       "      <td>34</td>\n",
       "      <td>9</td>\n",
       "      <td>-1</td>\n",
       "      <td>1</td>\n",
       "    </tr>\n",
       "    <tr>\n",
       "      <th>is_furry</th>\n",
       "      <td>True</td>\n",
       "      <td>True</td>\n",
       "      <td>False</td>\n",
       "      <td>False</td>\n",
       "    </tr>\n",
       "    <tr>\n",
       "      <th>like_cats</th>\n",
       "      <td>False</td>\n",
       "      <td>True</td>\n",
       "      <td>True</td>\n",
       "      <td>True</td>\n",
       "    </tr>\n",
       "    <tr>\n",
       "      <th>length_name</th>\n",
       "      <td>4</td>\n",
       "      <td>6</td>\n",
       "      <td>5</td>\n",
       "      <td>3</td>\n",
       "    </tr>\n",
       "    <tr>\n",
       "      <th>len_name</th>\n",
       "      <td>4</td>\n",
       "      <td>6</td>\n",
       "      <td>5</td>\n",
       "      <td>3</td>\n",
       "    </tr>\n",
       "    <tr>\n",
       "      <th>logical_op</th>\n",
       "      <td>False</td>\n",
       "      <td>True</td>\n",
       "      <td>False</td>\n",
       "      <td>False</td>\n",
       "    </tr>\n",
       "  </tbody>\n",
       "</table>\n",
       "</div>"
      ],
      "text/plain": [
       "new_index   element_1 element_2 element_3 element_4\n",
       "name             dani    churro     plant       cup\n",
       "age                34         9        -1         1\n",
       "is_furry         True      True     False     False\n",
       "like_cats       False      True      True      True\n",
       "length_name         4         6         5         3\n",
       "len_name            4         6         5         3\n",
       "logical_op      False      True     False     False"
      ]
     },
     "execution_count": 39,
     "metadata": {},
     "output_type": "execute_result"
    }
   ],
   "source": [
    "df.T"
   ]
  },
  {
   "cell_type": "markdown",
   "id": "5035f4e0-2218-4758-9411-084b53c0600e",
   "metadata": {
    "tags": []
   },
   "source": [
    "## Indexing and slicing\n",
    "\n",
    "We can create subsets of our `pandas` objects in different ways:\n",
    "\n",
    "* `df.loc[label_row_start:label_row_end, label_col_start:label_col_end]` to slice by label\n",
    "* `df.iloc[pos_row_start:pos_row_end, pos_col_start:pos_col_end]` to slice by position\n",
    "* Good old []"
   ]
  },
  {
   "cell_type": "code",
   "execution_count": 40,
   "id": "51a845d1-5f14-4034-9023-e47f83a50449",
   "metadata": {},
   "outputs": [
    {
     "data": {
      "text/html": [
       "<div>\n",
       "<style scoped>\n",
       "    .dataframe tbody tr th:only-of-type {\n",
       "        vertical-align: middle;\n",
       "    }\n",
       "\n",
       "    .dataframe tbody tr th {\n",
       "        vertical-align: top;\n",
       "    }\n",
       "\n",
       "    .dataframe thead th {\n",
       "        text-align: right;\n",
       "    }\n",
       "</style>\n",
       "<table border=\"1\" class=\"dataframe\">\n",
       "  <thead>\n",
       "    <tr style=\"text-align: right;\">\n",
       "      <th></th>\n",
       "      <th>col_float</th>\n",
       "      <th>col_int</th>\n",
       "      <th>col_boolean</th>\n",
       "    </tr>\n",
       "    <tr>\n",
       "      <th>col_string</th>\n",
       "      <th></th>\n",
       "      <th></th>\n",
       "      <th></th>\n",
       "    </tr>\n",
       "  </thead>\n",
       "  <tbody>\n",
       "    <tr>\n",
       "      <th>abc</th>\n",
       "      <td>1.00</td>\n",
       "      <td>1</td>\n",
       "      <td>True</td>\n",
       "    </tr>\n",
       "    <tr>\n",
       "      <th>def</th>\n",
       "      <td>2.30</td>\n",
       "      <td>2</td>\n",
       "      <td>True</td>\n",
       "    </tr>\n",
       "    <tr>\n",
       "      <th>ghi</th>\n",
       "      <td>5.66</td>\n",
       "      <td>3</td>\n",
       "      <td>False</td>\n",
       "    </tr>\n",
       "    <tr>\n",
       "      <th>jkl</th>\n",
       "      <td>9.99</td>\n",
       "      <td>4</td>\n",
       "      <td>True</td>\n",
       "    </tr>\n",
       "  </tbody>\n",
       "</table>\n",
       "</div>"
      ],
      "text/plain": [
       "            col_float  col_int  col_boolean\n",
       "col_string                                 \n",
       "abc              1.00        1         True\n",
       "def              2.30        2         True\n",
       "ghi              5.66        3        False\n",
       "jkl              9.99        4         True"
      ]
     },
     "execution_count": 40,
     "metadata": {},
     "output_type": "execute_result"
    }
   ],
   "source": [
    "df = pd.DataFrame({\n",
    "    \"col_float\": [1.0, 2.3, 5.66, 9.99],\n",
    "    \"col_int\": [1, 2, 3, 4],\n",
    "    \"col_string\": [\"abc\", \"def\", \"ghi\", \"jkl\"],\n",
    "    \"col_boolean\": [True, True, False, True]\n",
    "})\n",
    "\n",
    "# set `col_string` as index\n",
    "df = df.set_index(\"col_string\")\n",
    "\n",
    "df"
   ]
  },
  {
   "cell_type": "markdown",
   "id": "a203cab4-8a44-4e06-8a9d-ea086c64c82f",
   "metadata": {},
   "source": [
    "Now we have string labels for rows (`\"abc\", \"def\", \"ghi\"`) and columns (`\"col_float\", \"col_int\", \"col_boolean\"`)"
   ]
  },
  {
   "cell_type": "markdown",
   "id": "38447b85-d0db-4d4b-a9d0-2d084655af4d",
   "metadata": {},
   "source": [
    "### Slicing based on single values as arguments\n",
    "\n",
    "* `loc[row_label, column_label]`\n",
    "* `iloc[row_position, column_position]`"
   ]
  },
  {
   "cell_type": "code",
   "execution_count": 41,
   "id": "20a6ed99-6068-43f6-a50d-03df989acc61",
   "metadata": {},
   "outputs": [
    {
     "data": {
      "text/plain": [
       "2"
      ]
     },
     "execution_count": 41,
     "metadata": {},
     "output_type": "execute_result"
    }
   ],
   "source": [
    "# value at second row and second column: using loc\n",
    "df.loc[\"def\", \"col_int\"]"
   ]
  },
  {
   "cell_type": "code",
   "execution_count": 29,
   "id": "1c217310-23ba-48be-a4c2-92c9a2e26727",
   "metadata": {},
   "outputs": [
    {
     "data": {
      "text/plain": [
       "2"
      ]
     },
     "execution_count": 29,
     "metadata": {},
     "output_type": "execute_result"
    }
   ],
   "source": [
    "# value at second row and second column: using iloc\n",
    "df.iloc[1, 1]"
   ]
  },
  {
   "cell_type": "markdown",
   "id": "1d1ebef9-baa6-4d57-9683-558521165043",
   "metadata": {},
   "source": [
    "We can also get all the row or all the column by using `:`"
   ]
  },
  {
   "cell_type": "code",
   "execution_count": 42,
   "id": "7caf8c1a-8bdd-4b43-8c02-de9a07fa5358",
   "metadata": {},
   "outputs": [
    {
     "data": {
      "text/plain": [
       "col_float       5.66\n",
       "col_int            3\n",
       "col_boolean    False\n",
       "Name: ghi, dtype: object"
      ]
     },
     "execution_count": 42,
     "metadata": {},
     "output_type": "execute_result"
    }
   ],
   "source": [
    "# getting the 3rd row using loc\n",
    "df.loc[\"ghi\", :]"
   ]
  },
  {
   "cell_type": "code",
   "execution_count": 43,
   "id": "bfa3538c-f62c-4140-96d8-1c41db30e806",
   "metadata": {},
   "outputs": [
    {
     "data": {
      "text/plain": [
       "col_float       5.66\n",
       "col_int            3\n",
       "col_boolean    False\n",
       "Name: ghi, dtype: object"
      ]
     },
     "execution_count": 43,
     "metadata": {},
     "output_type": "execute_result"
    }
   ],
   "source": [
    "# getting the 3rd row using iloc\n",
    "df.iloc[2, :]"
   ]
  },
  {
   "cell_type": "code",
   "execution_count": 44,
   "id": "29b73ae5-8d98-4eec-9b99-49dae3b82f17",
   "metadata": {},
   "outputs": [
    {
     "data": {
      "text/plain": [
       "col_string\n",
       "abc    1.00\n",
       "def    2.30\n",
       "ghi    5.66\n",
       "jkl    9.99\n",
       "Name: col_float, dtype: float64"
      ]
     },
     "execution_count": 44,
     "metadata": {},
     "output_type": "execute_result"
    }
   ],
   "source": [
    "# to get the whole column we can use `:` in the rows position\n",
    "\n",
    "# with loc\n",
    "df.loc[:, \"col_float\"]"
   ]
  },
  {
   "cell_type": "code",
   "execution_count": 33,
   "id": "212d2e20-aa4e-4df7-aaec-78f8fdb6df61",
   "metadata": {},
   "outputs": [
    {
     "data": {
      "text/plain": [
       "col_string\n",
       "abc    1.00\n",
       "def    2.30\n",
       "ghi    5.66\n",
       "jkl    9.99\n",
       "Name: col_float, dtype: float64"
      ]
     },
     "execution_count": 33,
     "metadata": {},
     "output_type": "execute_result"
    }
   ],
   "source": [
    "# with iloc\n",
    "df.iloc[:, 0]"
   ]
  },
  {
   "cell_type": "markdown",
   "id": "2275c01e-df91-46e9-b49b-316f882a1d96",
   "metadata": {},
   "source": [
    "We can do all this for columns with just square brackets `[]` and the name of the column:"
   ]
  },
  {
   "cell_type": "code",
   "execution_count": 45,
   "id": "fe73c86c-7009-4769-a8ec-db1f67490790",
   "metadata": {},
   "outputs": [
    {
     "data": {
      "text/plain": [
       "col_string\n",
       "abc    1\n",
       "def    2\n",
       "ghi    3\n",
       "jkl    4\n",
       "Name: col_int, dtype: int64"
      ]
     },
     "execution_count": 45,
     "metadata": {},
     "output_type": "execute_result"
    }
   ],
   "source": [
    "df[\"col_int\"]"
   ]
  },
  {
   "cell_type": "code",
   "execution_count": 46,
   "id": "6ce881fb-8cb4-463d-9fed-d17a3000717f",
   "metadata": {},
   "outputs": [
    {
     "data": {
      "text/html": [
       "<div>\n",
       "<style scoped>\n",
       "    .dataframe tbody tr th:only-of-type {\n",
       "        vertical-align: middle;\n",
       "    }\n",
       "\n",
       "    .dataframe tbody tr th {\n",
       "        vertical-align: top;\n",
       "    }\n",
       "\n",
       "    .dataframe thead th {\n",
       "        text-align: right;\n",
       "    }\n",
       "</style>\n",
       "<table border=\"1\" class=\"dataframe\">\n",
       "  <thead>\n",
       "    <tr style=\"text-align: right;\">\n",
       "      <th></th>\n",
       "      <th>col_float</th>\n",
       "      <th>col_int</th>\n",
       "    </tr>\n",
       "    <tr>\n",
       "      <th>col_string</th>\n",
       "      <th></th>\n",
       "      <th></th>\n",
       "    </tr>\n",
       "  </thead>\n",
       "  <tbody>\n",
       "    <tr>\n",
       "      <th>abc</th>\n",
       "      <td>1.00</td>\n",
       "      <td>1</td>\n",
       "    </tr>\n",
       "    <tr>\n",
       "      <th>def</th>\n",
       "      <td>2.30</td>\n",
       "      <td>2</td>\n",
       "    </tr>\n",
       "    <tr>\n",
       "      <th>ghi</th>\n",
       "      <td>5.66</td>\n",
       "      <td>3</td>\n",
       "    </tr>\n",
       "    <tr>\n",
       "      <th>jkl</th>\n",
       "      <td>9.99</td>\n",
       "      <td>4</td>\n",
       "    </tr>\n",
       "  </tbody>\n",
       "</table>\n",
       "</div>"
      ],
      "text/plain": [
       "            col_float  col_int\n",
       "col_string                    \n",
       "abc              1.00        1\n",
       "def              2.30        2\n",
       "ghi              5.66        3\n",
       "jkl              9.99        4"
      ]
     },
     "execution_count": 46,
     "metadata": {},
     "output_type": "execute_result"
    }
   ],
   "source": [
    "df[[\"col_float\", \"col_int\"]]"
   ]
  },
  {
   "cell_type": "markdown",
   "id": "e7390cd3-8bf3-4f53-a150-7ae2a335912b",
   "metadata": {
    "tags": []
   },
   "source": [
    "### Slicing based on several values: lists or ranges.\n",
    "\n",
    "* Using ranges of values:\n",
    "  * Using `loc`: when using `loc` the final value **WILL BE INCLUDED**\n",
    "    * df.loc[ini_row_label:end_row_label, ini_col_label:end_col_label]\n",
    "  * Using `iloc`\n",
    "    * df.iloc[ini_row_position:end_row_position, ini_col_position:end_col_position]\n",
    "    \n",
    "* Using list of values:\n",
    "  * Using `loc`:\n",
    "    * df.loc[[row_labels_to_include], [col_labels_to_include]]\n",
    "  * Using `iloc`\n",
    "    * df.iloc[[row_positions_to_include], [col_positions_to_include]]"
   ]
  },
  {
   "cell_type": "code",
   "execution_count": 47,
   "id": "1773ee72-4c01-4949-a98a-0aabb9f3759a",
   "metadata": {},
   "outputs": [
    {
     "data": {
      "text/html": [
       "<div>\n",
       "<style scoped>\n",
       "    .dataframe tbody tr th:only-of-type {\n",
       "        vertical-align: middle;\n",
       "    }\n",
       "\n",
       "    .dataframe tbody tr th {\n",
       "        vertical-align: top;\n",
       "    }\n",
       "\n",
       "    .dataframe thead th {\n",
       "        text-align: right;\n",
       "    }\n",
       "</style>\n",
       "<table border=\"1\" class=\"dataframe\">\n",
       "  <thead>\n",
       "    <tr style=\"text-align: right;\">\n",
       "      <th></th>\n",
       "      <th>col_int</th>\n",
       "      <th>col_boolean</th>\n",
       "    </tr>\n",
       "    <tr>\n",
       "      <th>col_string</th>\n",
       "      <th></th>\n",
       "      <th></th>\n",
       "    </tr>\n",
       "  </thead>\n",
       "  <tbody>\n",
       "    <tr>\n",
       "      <th>def</th>\n",
       "      <td>2</td>\n",
       "      <td>True</td>\n",
       "    </tr>\n",
       "    <tr>\n",
       "      <th>ghi</th>\n",
       "      <td>3</td>\n",
       "      <td>False</td>\n",
       "    </tr>\n",
       "    <tr>\n",
       "      <th>jkl</th>\n",
       "      <td>4</td>\n",
       "      <td>True</td>\n",
       "    </tr>\n",
       "  </tbody>\n",
       "</table>\n",
       "</div>"
      ],
      "text/plain": [
       "            col_int  col_boolean\n",
       "col_string                      \n",
       "def               2         True\n",
       "ghi               3        False\n",
       "jkl               4         True"
      ]
     },
     "execution_count": 47,
     "metadata": {},
     "output_type": "execute_result"
    }
   ],
   "source": [
    "# get the last 3 rows for the last 2 columns\n",
    "# using ranges and loc\n",
    "df.loc[\"def\":\"jkl\", \"col_int\": \"col_boolean\"]"
   ]
  },
  {
   "cell_type": "code",
   "execution_count": 48,
   "id": "e57fd905-3981-4e6b-b59f-e17b6a8ae084",
   "metadata": {},
   "outputs": [
    {
     "data": {
      "text/html": [
       "<div>\n",
       "<style scoped>\n",
       "    .dataframe tbody tr th:only-of-type {\n",
       "        vertical-align: middle;\n",
       "    }\n",
       "\n",
       "    .dataframe tbody tr th {\n",
       "        vertical-align: top;\n",
       "    }\n",
       "\n",
       "    .dataframe thead th {\n",
       "        text-align: right;\n",
       "    }\n",
       "</style>\n",
       "<table border=\"1\" class=\"dataframe\">\n",
       "  <thead>\n",
       "    <tr style=\"text-align: right;\">\n",
       "      <th></th>\n",
       "      <th>col_int</th>\n",
       "      <th>col_boolean</th>\n",
       "    </tr>\n",
       "    <tr>\n",
       "      <th>col_string</th>\n",
       "      <th></th>\n",
       "      <th></th>\n",
       "    </tr>\n",
       "  </thead>\n",
       "  <tbody>\n",
       "    <tr>\n",
       "      <th>def</th>\n",
       "      <td>2</td>\n",
       "      <td>True</td>\n",
       "    </tr>\n",
       "    <tr>\n",
       "      <th>ghi</th>\n",
       "      <td>3</td>\n",
       "      <td>False</td>\n",
       "    </tr>\n",
       "    <tr>\n",
       "      <th>jkl</th>\n",
       "      <td>4</td>\n",
       "      <td>True</td>\n",
       "    </tr>\n",
       "  </tbody>\n",
       "</table>\n",
       "</div>"
      ],
      "text/plain": [
       "            col_int  col_boolean\n",
       "col_string                      \n",
       "def               2         True\n",
       "ghi               3        False\n",
       "jkl               4         True"
      ]
     },
     "execution_count": 48,
     "metadata": {},
     "output_type": "execute_result"
    }
   ],
   "source": [
    "# get the last 3 rows for the last 2 columns\n",
    "# using ranges and iloc\n",
    "df.iloc[-3:, -2:]\n"
   ]
  },
  {
   "cell_type": "code",
   "execution_count": 50,
   "id": "7ee168e3-c8c5-4eb8-929e-19adeb4fd047",
   "metadata": {},
   "outputs": [
    {
     "data": {
      "text/plain": [
       "col_string\n",
       "def    2\n",
       "jkl    4\n",
       "Name: col_int, dtype: int64"
      ]
     },
     "execution_count": 50,
     "metadata": {},
     "output_type": "execute_result"
    }
   ],
   "source": [
    "# get the 2nd and 4th row for the 2nd column\n",
    "# using lists and loc\n",
    "df.loc[[\"def\", \"jkl\"], \"col_int\"]"
   ]
  },
  {
   "cell_type": "code",
   "execution_count": 51,
   "id": "9af49ef3-35e9-4990-ac7a-6e62da07f413",
   "metadata": {},
   "outputs": [
    {
     "data": {
      "text/plain": [
       "col_string\n",
       "def    2\n",
       "jkl    4\n",
       "Name: col_int, dtype: int64"
      ]
     },
     "execution_count": 51,
     "metadata": {},
     "output_type": "execute_result"
    }
   ],
   "source": [
    "# get the 2nd and 4th row for the 2nd column\n",
    "# using lists and iloc\n",
    "df.iloc[[1, 3], 1]"
   ]
  },
  {
   "cell_type": "markdown",
   "id": "6d8d26b2-c03e-4756-a5b4-e98fd7dd2b1f",
   "metadata": {},
   "source": [
    "### Slicing based on conditions\n",
    "\n",
    "Before diving into it, let's see what `pandas` return when we perform logical operations on a series"
   ]
  },
  {
   "cell_type": "code",
   "execution_count": 4,
   "id": "0b4993a5-1b01-43e6-bcd4-e84ecb2baaec",
   "metadata": {},
   "outputs": [
    {
     "data": {
      "text/plain": [
       "3    4\n",
       "4    5\n",
       "dtype: int64"
      ]
     },
     "execution_count": 4,
     "metadata": {},
     "output_type": "execute_result"
    }
   ],
   "source": [
    "# create series\n",
    "s = pd.Series([1, 2, 3, 4, 5])\n",
    "\n",
    "# condition\n",
    "s > 3\n",
    "\n",
    "s[s>3]"
   ]
  },
  {
   "cell_type": "code",
   "execution_count": 5,
   "id": "2bd60f44-6adc-428a-ac30-b82995b633bd",
   "metadata": {},
   "outputs": [
    {
     "data": {
      "text/plain": [
       "3    4\n",
       "dtype: int64"
      ]
     },
     "execution_count": 5,
     "metadata": {},
     "output_type": "execute_result"
    }
   ],
   "source": [
    "s[(s > 3) & (s % 2 == 0)]"
   ]
  },
  {
   "cell_type": "markdown",
   "id": "29dda6d5-12f7-49f2-85d0-f0670ec4187f",
   "metadata": {},
   "source": [
    "The result is another `pd.Series` filled with `True/False` according to whether or not the condition was met for each element.\n",
    "\n",
    "We can use this to *filter* series, by including the condition between brackets.\n",
    "\n",
    "```Python\n",
    "series[series[condition]]\n",
    "```"
   ]
  },
  {
   "cell_type": "markdown",
   "id": "78976e0a-f556-4d64-935b-9526cdeed71b",
   "metadata": {},
   "source": [
    "### logical operators in pandas\n",
    "* and: &\n",
    "* or: |"
   ]
  },
  {
   "cell_type": "code",
   "execution_count": 8,
   "id": "df41e8ff-3cbc-42ba-83af-95ba14280be2",
   "metadata": {},
   "outputs": [
    {
     "data": {
      "text/plain": [
       "0      0\n",
       "5      5\n",
       "7      7\n",
       "10    10\n",
       "14    14\n",
       "15    15\n",
       "20    20\n",
       "21    21\n",
       "25    25\n",
       "dtype: int64"
      ]
     },
     "execution_count": 8,
     "metadata": {},
     "output_type": "execute_result"
    }
   ],
   "source": [
    "s = pd.Series(range(26))\n",
    "\n",
    "s[(s % 5 == 0) | (s % 7 == 0) ]"
   ]
  },
  {
   "cell_type": "markdown",
   "id": "56541df0-d350-46f3-b58d-9fe36a8bf57e",
   "metadata": {},
   "source": [
    "We can extend this behaviors to DataFrames: we can filter the rows of our df based on logical conditions on the columns."
   ]
  },
  {
   "cell_type": "code",
   "execution_count": 9,
   "id": "ac68eddb-9965-48f9-9efb-5b61e47c4247",
   "metadata": {},
   "outputs": [
    {
     "data": {
      "text/html": [
       "<div>\n",
       "<style scoped>\n",
       "    .dataframe tbody tr th:only-of-type {\n",
       "        vertical-align: middle;\n",
       "    }\n",
       "\n",
       "    .dataframe tbody tr th {\n",
       "        vertical-align: top;\n",
       "    }\n",
       "\n",
       "    .dataframe thead th {\n",
       "        text-align: right;\n",
       "    }\n",
       "</style>\n",
       "<table border=\"1\" class=\"dataframe\">\n",
       "  <thead>\n",
       "    <tr style=\"text-align: right;\">\n",
       "      <th></th>\n",
       "      <th>col_a</th>\n",
       "      <th>col_b</th>\n",
       "      <th>col_c</th>\n",
       "      <th>col_d</th>\n",
       "    </tr>\n",
       "  </thead>\n",
       "  <tbody>\n",
       "    <tr>\n",
       "      <th>0</th>\n",
       "      <td>1</td>\n",
       "      <td>2</td>\n",
       "      <td>3</td>\n",
       "      <td>4</td>\n",
       "    </tr>\n",
       "    <tr>\n",
       "      <th>1</th>\n",
       "      <td>2</td>\n",
       "      <td>4</td>\n",
       "      <td>6</td>\n",
       "      <td>8</td>\n",
       "    </tr>\n",
       "    <tr>\n",
       "      <th>2</th>\n",
       "      <td>3</td>\n",
       "      <td>6</td>\n",
       "      <td>9</td>\n",
       "      <td>12</td>\n",
       "    </tr>\n",
       "    <tr>\n",
       "      <th>3</th>\n",
       "      <td>4</td>\n",
       "      <td>8</td>\n",
       "      <td>12</td>\n",
       "      <td>16</td>\n",
       "    </tr>\n",
       "  </tbody>\n",
       "</table>\n",
       "</div>"
      ],
      "text/plain": [
       "   col_a  col_b  col_c  col_d\n",
       "0      1      2      3      4\n",
       "1      2      4      6      8\n",
       "2      3      6      9     12\n",
       "3      4      8     12     16"
      ]
     },
     "execution_count": 9,
     "metadata": {},
     "output_type": "execute_result"
    }
   ],
   "source": [
    "# defining the dataset\n",
    "df = pd.DataFrame({\n",
    "    \"col_a\": [1, 2, 3, 4],\n",
    "    \"col_b\": [2, 4, 6, 8],\n",
    "    \"col_c\": [3, 6, 9, 12],\n",
    "    \"col_d\": [4, 8, 12, 16]\n",
    "})\n",
    "\n",
    "df"
   ]
  },
  {
   "cell_type": "code",
   "execution_count": 10,
   "id": "eba02f0f-88b0-48d4-9d74-9a0865698019",
   "metadata": {},
   "outputs": [
    {
     "data": {
      "text/html": [
       "<div>\n",
       "<style scoped>\n",
       "    .dataframe tbody tr th:only-of-type {\n",
       "        vertical-align: middle;\n",
       "    }\n",
       "\n",
       "    .dataframe tbody tr th {\n",
       "        vertical-align: top;\n",
       "    }\n",
       "\n",
       "    .dataframe thead th {\n",
       "        text-align: right;\n",
       "    }\n",
       "</style>\n",
       "<table border=\"1\" class=\"dataframe\">\n",
       "  <thead>\n",
       "    <tr style=\"text-align: right;\">\n",
       "      <th></th>\n",
       "      <th>col_a</th>\n",
       "      <th>col_b</th>\n",
       "      <th>col_c</th>\n",
       "      <th>col_d</th>\n",
       "    </tr>\n",
       "  </thead>\n",
       "  <tbody>\n",
       "    <tr>\n",
       "      <th>2</th>\n",
       "      <td>3</td>\n",
       "      <td>6</td>\n",
       "      <td>9</td>\n",
       "      <td>12</td>\n",
       "    </tr>\n",
       "    <tr>\n",
       "      <th>3</th>\n",
       "      <td>4</td>\n",
       "      <td>8</td>\n",
       "      <td>12</td>\n",
       "      <td>16</td>\n",
       "    </tr>\n",
       "  </tbody>\n",
       "</table>\n",
       "</div>"
      ],
      "text/plain": [
       "   col_a  col_b  col_c  col_d\n",
       "2      3      6      9     12\n",
       "3      4      8     12     16"
      ]
     },
     "execution_count": 10,
     "metadata": {},
     "output_type": "execute_result"
    }
   ],
   "source": [
    "# filter rows that have `col_c` greater or equal than 9\n",
    "\n",
    "df[df[\"col_c\"] >= 9]"
   ]
  },
  {
   "cell_type": "markdown",
   "id": "5285fd60-bd49-439b-b354-d0c288f77acc",
   "metadata": {},
   "source": [
    "We can concatenate conditions in a single instruction:"
   ]
  },
  {
   "cell_type": "code",
   "execution_count": 11,
   "id": "1560966f-75c4-4749-b0e7-f29be3520b4f",
   "metadata": {},
   "outputs": [
    {
     "data": {
      "text/html": [
       "<div>\n",
       "<style scoped>\n",
       "    .dataframe tbody tr th:only-of-type {\n",
       "        vertical-align: middle;\n",
       "    }\n",
       "\n",
       "    .dataframe tbody tr th {\n",
       "        vertical-align: top;\n",
       "    }\n",
       "\n",
       "    .dataframe thead th {\n",
       "        text-align: right;\n",
       "    }\n",
       "</style>\n",
       "<table border=\"1\" class=\"dataframe\">\n",
       "  <thead>\n",
       "    <tr style=\"text-align: right;\">\n",
       "      <th></th>\n",
       "      <th>col_a</th>\n",
       "      <th>col_b</th>\n",
       "      <th>col_c</th>\n",
       "      <th>col_d</th>\n",
       "    </tr>\n",
       "  </thead>\n",
       "  <tbody>\n",
       "    <tr>\n",
       "      <th>3</th>\n",
       "      <td>4</td>\n",
       "      <td>8</td>\n",
       "      <td>12</td>\n",
       "      <td>16</td>\n",
       "    </tr>\n",
       "  </tbody>\n",
       "</table>\n",
       "</div>"
      ],
      "text/plain": [
       "   col_a  col_b  col_c  col_d\n",
       "3      4      8     12     16"
      ]
     },
     "execution_count": 11,
     "metadata": {},
     "output_type": "execute_result"
    }
   ],
   "source": [
    "# rows with even values of `col_a` AND values of `col_d` greater than 8\n",
    "df[\n",
    "    (df[\"col_a\"] % 2 == 0) &\n",
    "    (df[\"col_d\"] > 8)\n",
    "]"
   ]
  },
  {
   "cell_type": "markdown",
   "id": "fb1666d4-4e2d-4c7d-9bc7-941443953220",
   "metadata": {},
   "source": [
    "## Adding data to a `pd.DataFrame`\n",
    "\n",
    "* Adding columns:\n",
    "```Python\n",
    "df[\"new_column\"] = data_to_include\n",
    "```"
   ]
  },
  {
   "cell_type": "code",
   "execution_count": 29,
   "id": "25f36750-00bc-428d-bff1-5f5539e7d354",
   "metadata": {},
   "outputs": [
    {
     "data": {
      "text/html": [
       "<div>\n",
       "<style scoped>\n",
       "    .dataframe tbody tr th:only-of-type {\n",
       "        vertical-align: middle;\n",
       "    }\n",
       "\n",
       "    .dataframe tbody tr th {\n",
       "        vertical-align: top;\n",
       "    }\n",
       "\n",
       "    .dataframe thead th {\n",
       "        text-align: right;\n",
       "    }\n",
       "</style>\n",
       "<table border=\"1\" class=\"dataframe\">\n",
       "  <thead>\n",
       "    <tr style=\"text-align: right;\">\n",
       "      <th></th>\n",
       "      <th>sport</th>\n",
       "      <th>round_ball</th>\n",
       "      <th>is_cool</th>\n",
       "    </tr>\n",
       "  </thead>\n",
       "  <tbody>\n",
       "    <tr>\n",
       "      <th>0</th>\n",
       "      <td>football</td>\n",
       "      <td>True</td>\n",
       "      <td>False</td>\n",
       "    </tr>\n",
       "    <tr>\n",
       "      <th>1</th>\n",
       "      <td>basketball</td>\n",
       "      <td>True</td>\n",
       "      <td>True</td>\n",
       "    </tr>\n",
       "    <tr>\n",
       "      <th>2</th>\n",
       "      <td>rugby</td>\n",
       "      <td>False</td>\n",
       "      <td>True</td>\n",
       "    </tr>\n",
       "  </tbody>\n",
       "</table>\n",
       "</div>"
      ],
      "text/plain": [
       "        sport  round_ball  is_cool\n",
       "0    football        True    False\n",
       "1  basketball        True     True\n",
       "2       rugby       False     True"
      ]
     },
     "execution_count": 29,
     "metadata": {},
     "output_type": "execute_result"
    }
   ],
   "source": [
    "# create df\n",
    "df = pd.DataFrame({\n",
    "    \"sport\": [\"football\", \"basketball\", \"rugby\"],\n",
    "    \"round_ball\": [True, True, False],\n",
    "    \"is_cool\": [False, True, True]\n",
    "})\n",
    "\n",
    "df"
   ]
  },
  {
   "cell_type": "code",
   "execution_count": 32,
   "id": "bf7b1726-7ff8-412e-8075-bc346126e585",
   "metadata": {},
   "outputs": [
    {
     "data": {
      "text/html": [
       "<div>\n",
       "<style scoped>\n",
       "    .dataframe tbody tr th:only-of-type {\n",
       "        vertical-align: middle;\n",
       "    }\n",
       "\n",
       "    .dataframe tbody tr th {\n",
       "        vertical-align: top;\n",
       "    }\n",
       "\n",
       "    .dataframe thead th {\n",
       "        text-align: right;\n",
       "    }\n",
       "</style>\n",
       "<table border=\"1\" class=\"dataframe\">\n",
       "  <thead>\n",
       "    <tr style=\"text-align: right;\">\n",
       "      <th></th>\n",
       "      <th>sport</th>\n",
       "      <th>round_ball</th>\n",
       "      <th>is_cool</th>\n",
       "      <th>players_per_team</th>\n",
       "    </tr>\n",
       "  </thead>\n",
       "  <tbody>\n",
       "    <tr>\n",
       "      <th>0</th>\n",
       "      <td>football</td>\n",
       "      <td>True</td>\n",
       "      <td>False</td>\n",
       "      <td>11</td>\n",
       "    </tr>\n",
       "    <tr>\n",
       "      <th>1</th>\n",
       "      <td>basketball</td>\n",
       "      <td>True</td>\n",
       "      <td>True</td>\n",
       "      <td>5</td>\n",
       "    </tr>\n",
       "    <tr>\n",
       "      <th>2</th>\n",
       "      <td>rugby</td>\n",
       "      <td>False</td>\n",
       "      <td>True</td>\n",
       "      <td>5</td>\n",
       "    </tr>\n",
       "  </tbody>\n",
       "</table>\n",
       "</div>"
      ],
      "text/plain": [
       "        sport  round_ball  is_cool  players_per_team\n",
       "0    football        True    False                11\n",
       "1  basketball        True     True                 5\n",
       "2       rugby       False     True                 5"
      ]
     },
     "execution_count": 32,
     "metadata": {},
     "output_type": "execute_result"
    }
   ],
   "source": [
    "# add a new column called players_per_team\n",
    "df[\"players_per_team\"] = [11, 5, 5]\n",
    "\n",
    "# print df\n",
    "df"
   ]
  },
  {
   "cell_type": "markdown",
   "id": "059877cf-7a77-42ba-9b05-e4c2b77f1f71",
   "metadata": {},
   "source": [
    "* Adding rows:\n",
    "```Python\n",
    "new_row = {col_1: data_1, col_2: data_2, ..., col_n:data_n}\n",
    "df = df.append(new_row, ignore_index=True)\n",
    "```"
   ]
  },
  {
   "cell_type": "code",
   "execution_count": 35,
   "id": "d5be3e76-ea48-498c-a469-a1b36c8cfae8",
   "metadata": {},
   "outputs": [
    {
     "data": {
      "text/html": [
       "<div>\n",
       "<style scoped>\n",
       "    .dataframe tbody tr th:only-of-type {\n",
       "        vertical-align: middle;\n",
       "    }\n",
       "\n",
       "    .dataframe tbody tr th {\n",
       "        vertical-align: top;\n",
       "    }\n",
       "\n",
       "    .dataframe thead th {\n",
       "        text-align: right;\n",
       "    }\n",
       "</style>\n",
       "<table border=\"1\" class=\"dataframe\">\n",
       "  <thead>\n",
       "    <tr style=\"text-align: right;\">\n",
       "      <th></th>\n",
       "      <th>sport</th>\n",
       "      <th>round_ball</th>\n",
       "      <th>is_cool</th>\n",
       "      <th>players_per_team</th>\n",
       "    </tr>\n",
       "  </thead>\n",
       "  <tbody>\n",
       "    <tr>\n",
       "      <th>0</th>\n",
       "      <td>football</td>\n",
       "      <td>True</td>\n",
       "      <td>False</td>\n",
       "      <td>11</td>\n",
       "    </tr>\n",
       "    <tr>\n",
       "      <th>1</th>\n",
       "      <td>basketball</td>\n",
       "      <td>True</td>\n",
       "      <td>True</td>\n",
       "      <td>5</td>\n",
       "    </tr>\n",
       "    <tr>\n",
       "      <th>2</th>\n",
       "      <td>rugby</td>\n",
       "      <td>False</td>\n",
       "      <td>True</td>\n",
       "      <td>5</td>\n",
       "    </tr>\n",
       "    <tr>\n",
       "      <th>3</th>\n",
       "      <td>american football</td>\n",
       "      <td>False</td>\n",
       "      <td>False</td>\n",
       "      <td>11</td>\n",
       "    </tr>\n",
       "    <tr>\n",
       "      <th>4</th>\n",
       "      <td>american football</td>\n",
       "      <td>False</td>\n",
       "      <td>False</td>\n",
       "      <td>11</td>\n",
       "    </tr>\n",
       "  </tbody>\n",
       "</table>\n",
       "</div>"
      ],
      "text/plain": [
       "               sport  round_ball  is_cool  players_per_team\n",
       "0           football        True    False                11\n",
       "1         basketball        True     True                 5\n",
       "2              rugby       False     True                 5\n",
       "3  american football       False    False                11\n",
       "4  american football       False    False                11"
      ]
     },
     "execution_count": 35,
     "metadata": {},
     "output_type": "execute_result"
    }
   ],
   "source": [
    "# define new row\n",
    "am_football = {\n",
    "    \"sport\": \"american football\",\n",
    "    \"round_ball\": False,\n",
    "    \"is_cool\": False,\n",
    "    \"players_per_team\": 11\n",
    "}\n",
    "\n",
    "# add new row for american football\n",
    "df = df.append(am_football, ignore_index=True)\n",
    "\n",
    "# print df\n",
    "df"
   ]
  },
  {
   "cell_type": "markdown",
   "id": "598408b7-09c7-4f64-ac81-706eaab0b486",
   "metadata": {},
   "source": [
    "## Practice"
   ]
  },
  {
   "cell_type": "markdown",
   "id": "0325edf8-10ec-48a9-ae91-140a735f4b3a",
   "metadata": {
    "tags": []
   },
   "source": [
    "### 1. Create the following DataFrame\n",
    "\n",
    "Save it as the variable `dataset`\n",
    "\n",
    "| name   | age | type    | is_furry | likes_cats |\n",
    "|--------|-----|---------|----------|------------|\n",
    "| dani   | 33  | human   | False    | False      |\n",
    "| churro | 8   | dog     | True     | False      |\n",
    "| plant  | 2   | plant   | False    | True       |\n",
    "| cup    | 1   | object  | False    | True       |"
   ]
  },
  {
   "cell_type": "code",
   "execution_count": 14,
   "id": "b63db418-7c33-4827-8fd6-9d300631ab79",
   "metadata": {},
   "outputs": [
    {
     "data": {
      "text/html": [
       "<div>\n",
       "<style scoped>\n",
       "    .dataframe tbody tr th:only-of-type {\n",
       "        vertical-align: middle;\n",
       "    }\n",
       "\n",
       "    .dataframe tbody tr th {\n",
       "        vertical-align: top;\n",
       "    }\n",
       "\n",
       "    .dataframe thead th {\n",
       "        text-align: right;\n",
       "    }\n",
       "</style>\n",
       "<table border=\"1\" class=\"dataframe\">\n",
       "  <thead>\n",
       "    <tr style=\"text-align: right;\">\n",
       "      <th></th>\n",
       "      <th>name</th>\n",
       "      <th>age</th>\n",
       "      <th>is_furry</th>\n",
       "      <th>like_cats</th>\n",
       "      <th>length_name</th>\n",
       "    </tr>\n",
       "  </thead>\n",
       "  <tbody>\n",
       "    <tr>\n",
       "      <th>0</th>\n",
       "      <td>dani</td>\n",
       "      <td>34</td>\n",
       "      <td>True</td>\n",
       "      <td>False</td>\n",
       "      <td>4</td>\n",
       "    </tr>\n",
       "    <tr>\n",
       "      <th>1</th>\n",
       "      <td>churro</td>\n",
       "      <td>9</td>\n",
       "      <td>True</td>\n",
       "      <td>True</td>\n",
       "      <td>6</td>\n",
       "    </tr>\n",
       "    <tr>\n",
       "      <th>2</th>\n",
       "      <td>plant</td>\n",
       "      <td>-1</td>\n",
       "      <td>False</td>\n",
       "      <td>True</td>\n",
       "      <td>5</td>\n",
       "    </tr>\n",
       "    <tr>\n",
       "      <th>3</th>\n",
       "      <td>cup</td>\n",
       "      <td>1</td>\n",
       "      <td>False</td>\n",
       "      <td>True</td>\n",
       "      <td>3</td>\n",
       "    </tr>\n",
       "  </tbody>\n",
       "</table>\n",
       "</div>"
      ],
      "text/plain": [
       "     name age  is_furry  like_cats  length_name\n",
       "0    dani  34      True      False            4\n",
       "1  churro   9      True       True            6\n",
       "2   plant  -1     False       True            5\n",
       "3     cup   1     False       True            3"
      ]
     },
     "execution_count": 14,
     "metadata": {},
     "output_type": "execute_result"
    }
   ],
   "source": [
    "df = pd.DataFrame({\n",
    "    \"name\": [\"dani\", \"churro\", \"plant\", \"cup\"],\n",
    "    \"age\":[\"34\",\"9\",\"-1\",\"1\"],\n",
    "    \"is_furry\": [True, True, False,False],\n",
    "    \"like_cats\": [False, True, True,True],\n",
    "    \"length_name\":[4,6,5,3]\n",
    "})\n",
    "\n",
    "df"
   ]
  },
  {
   "cell_type": "markdown",
   "id": "41b1a1af-f975-4146-8ec1-f088021840a1",
   "metadata": {},
   "source": [
    "### 2. Return the value of `is_furry` for the element with `index = 2`"
   ]
  },
  {
   "cell_type": "code",
   "execution_count": 15,
   "id": "fcf5b58e-4afd-4a3d-a8ce-22d9042cbf35",
   "metadata": {},
   "outputs": [
    {
     "data": {
      "text/plain": [
       "True"
      ]
     },
     "execution_count": 15,
     "metadata": {},
     "output_type": "execute_result"
    }
   ],
   "source": [
    "df.iloc[2,3]"
   ]
  },
  {
   "cell_type": "code",
   "execution_count": 17,
   "id": "8f0a238a",
   "metadata": {},
   "outputs": [
    {
     "data": {
      "text/plain": [
       "True"
      ]
     },
     "execution_count": 17,
     "metadata": {},
     "output_type": "execute_result"
    }
   ],
   "source": [
    "df.loc[2,\"like_cats\"]"
   ]
  },
  {
   "cell_type": "markdown",
   "id": "f805bce2-4c41-41dd-80c1-7746aa275706",
   "metadata": {},
   "source": [
    "### 3. Add a new column containing the length of the name in characters"
   ]
  },
  {
   "cell_type": "code",
   "execution_count": 23,
   "id": "ccaea59e-58ff-4980-bb9c-6cdfeec17005",
   "metadata": {},
   "outputs": [
    {
     "data": {
      "text/html": [
       "<div>\n",
       "<style scoped>\n",
       "    .dataframe tbody tr th:only-of-type {\n",
       "        vertical-align: middle;\n",
       "    }\n",
       "\n",
       "    .dataframe tbody tr th {\n",
       "        vertical-align: top;\n",
       "    }\n",
       "\n",
       "    .dataframe thead th {\n",
       "        text-align: right;\n",
       "    }\n",
       "</style>\n",
       "<table border=\"1\" class=\"dataframe\">\n",
       "  <thead>\n",
       "    <tr style=\"text-align: right;\">\n",
       "      <th></th>\n",
       "      <th>name</th>\n",
       "      <th>age</th>\n",
       "      <th>is_furry</th>\n",
       "      <th>like_cats</th>\n",
       "      <th>length_name</th>\n",
       "      <th>len_name</th>\n",
       "    </tr>\n",
       "  </thead>\n",
       "  <tbody>\n",
       "    <tr>\n",
       "      <th>0</th>\n",
       "      <td>dani</td>\n",
       "      <td>34</td>\n",
       "      <td>True</td>\n",
       "      <td>False</td>\n",
       "      <td>4</td>\n",
       "      <td>4</td>\n",
       "    </tr>\n",
       "    <tr>\n",
       "      <th>1</th>\n",
       "      <td>churro</td>\n",
       "      <td>9</td>\n",
       "      <td>True</td>\n",
       "      <td>True</td>\n",
       "      <td>6</td>\n",
       "      <td>6</td>\n",
       "    </tr>\n",
       "    <tr>\n",
       "      <th>2</th>\n",
       "      <td>plant</td>\n",
       "      <td>-1</td>\n",
       "      <td>False</td>\n",
       "      <td>True</td>\n",
       "      <td>5</td>\n",
       "      <td>5</td>\n",
       "    </tr>\n",
       "    <tr>\n",
       "      <th>3</th>\n",
       "      <td>cup</td>\n",
       "      <td>1</td>\n",
       "      <td>False</td>\n",
       "      <td>True</td>\n",
       "      <td>3</td>\n",
       "      <td>3</td>\n",
       "    </tr>\n",
       "  </tbody>\n",
       "</table>\n",
       "</div>"
      ],
      "text/plain": [
       "     name age  is_furry  like_cats  length_name  len_name\n",
       "0    dani  34      True      False            4         4\n",
       "1  churro   9      True       True            6         6\n",
       "2   plant  -1     False       True            5         5\n",
       "3     cup   1     False       True            3         3"
      ]
     },
     "execution_count": 23,
     "metadata": {},
     "output_type": "execute_result"
    }
   ],
   "source": [
    "df[\"len_name\"]=[len(x) for x in df[\"name\"]]\n",
    "df[\"len_name\"]=\n",
    "df"
   ]
  },
  {
   "cell_type": "markdown",
   "id": "8215cf13-f2b3-40d6-9d94-b908c5ee4431",
   "metadata": {},
   "source": [
    "### 4. Add a new column named `logical_op` containing the following logical operation:\n",
    "\n",
    "```Python\n",
    "`is_furry` and `likes_cats`\n",
    "```\n",
    "\n",
    "Keep in mind that logical operators in pandas are not the ones we know (`not`, `and`, `or`) but rather (`~`, `&`, `|`).\n",
    "\n",
    "Source: https://jakevdp.github.io/PythonDataScienceHandbook/02.06-boolean-arrays-and-masks.html#Boolean-operators"
   ]
  },
  {
   "cell_type": "code",
   "execution_count": 26,
   "id": "16cc5a27",
   "metadata": {},
   "outputs": [
    {
     "data": {
      "text/html": [
       "<div>\n",
       "<style scoped>\n",
       "    .dataframe tbody tr th:only-of-type {\n",
       "        vertical-align: middle;\n",
       "    }\n",
       "\n",
       "    .dataframe tbody tr th {\n",
       "        vertical-align: top;\n",
       "    }\n",
       "\n",
       "    .dataframe thead th {\n",
       "        text-align: right;\n",
       "    }\n",
       "</style>\n",
       "<table border=\"1\" class=\"dataframe\">\n",
       "  <thead>\n",
       "    <tr style=\"text-align: right;\">\n",
       "      <th></th>\n",
       "      <th>name</th>\n",
       "      <th>age</th>\n",
       "      <th>is_furry</th>\n",
       "      <th>like_cats</th>\n",
       "      <th>length_name</th>\n",
       "      <th>len_name</th>\n",
       "      <th>logical_op</th>\n",
       "    </tr>\n",
       "  </thead>\n",
       "  <tbody>\n",
       "    <tr>\n",
       "      <th>0</th>\n",
       "      <td>dani</td>\n",
       "      <td>34</td>\n",
       "      <td>True</td>\n",
       "      <td>False</td>\n",
       "      <td>4</td>\n",
       "      <td>4</td>\n",
       "      <td>False</td>\n",
       "    </tr>\n",
       "    <tr>\n",
       "      <th>1</th>\n",
       "      <td>churro</td>\n",
       "      <td>9</td>\n",
       "      <td>True</td>\n",
       "      <td>True</td>\n",
       "      <td>6</td>\n",
       "      <td>6</td>\n",
       "      <td>True</td>\n",
       "    </tr>\n",
       "    <tr>\n",
       "      <th>2</th>\n",
       "      <td>plant</td>\n",
       "      <td>-1</td>\n",
       "      <td>False</td>\n",
       "      <td>True</td>\n",
       "      <td>5</td>\n",
       "      <td>5</td>\n",
       "      <td>False</td>\n",
       "    </tr>\n",
       "    <tr>\n",
       "      <th>3</th>\n",
       "      <td>cup</td>\n",
       "      <td>1</td>\n",
       "      <td>False</td>\n",
       "      <td>True</td>\n",
       "      <td>3</td>\n",
       "      <td>3</td>\n",
       "      <td>False</td>\n",
       "    </tr>\n",
       "  </tbody>\n",
       "</table>\n",
       "</div>"
      ],
      "text/plain": [
       "     name age  is_furry  like_cats  length_name  len_name  logical_op\n",
       "0    dani  34      True      False            4         4       False\n",
       "1  churro   9      True       True            6         6        True\n",
       "2   plant  -1     False       True            5         5       False\n",
       "3     cup   1     False       True            3         3       False"
      ]
     },
     "execution_count": 26,
     "metadata": {},
     "output_type": "execute_result"
    }
   ],
   "source": [
    "df[\"logical_op\"]= df[\"is_furry\"] & df[\"like_cats\"]\n",
    "df"
   ]
  },
  {
   "cell_type": "markdown",
   "id": "8617052d-4e53-4662-868d-fe61ecbe0501",
   "metadata": {
    "tags": []
   },
   "source": [
    "### 5. Change the `index` from the default to:\n",
    "\n",
    "`element_1, element_2, element_3, element_4, element_5`"
   ]
  },
  {
   "cell_type": "code",
   "execution_count": 31,
   "id": "c55220e1",
   "metadata": {},
   "outputs": [
    {
     "data": {
      "text/html": [
       "<div>\n",
       "<style scoped>\n",
       "    .dataframe tbody tr th:only-of-type {\n",
       "        vertical-align: middle;\n",
       "    }\n",
       "\n",
       "    .dataframe tbody tr th {\n",
       "        vertical-align: top;\n",
       "    }\n",
       "\n",
       "    .dataframe thead th {\n",
       "        text-align: right;\n",
       "    }\n",
       "</style>\n",
       "<table border=\"1\" class=\"dataframe\">\n",
       "  <thead>\n",
       "    <tr style=\"text-align: right;\">\n",
       "      <th></th>\n",
       "      <th>name</th>\n",
       "      <th>age</th>\n",
       "      <th>is_furry</th>\n",
       "      <th>like_cats</th>\n",
       "      <th>length_name</th>\n",
       "      <th>len_name</th>\n",
       "      <th>logical_op</th>\n",
       "    </tr>\n",
       "    <tr>\n",
       "      <th>new_index</th>\n",
       "      <th></th>\n",
       "      <th></th>\n",
       "      <th></th>\n",
       "      <th></th>\n",
       "      <th></th>\n",
       "      <th></th>\n",
       "      <th></th>\n",
       "    </tr>\n",
       "  </thead>\n",
       "  <tbody>\n",
       "    <tr>\n",
       "      <th>element_1</th>\n",
       "      <td>dani</td>\n",
       "      <td>34</td>\n",
       "      <td>True</td>\n",
       "      <td>False</td>\n",
       "      <td>4</td>\n",
       "      <td>4</td>\n",
       "      <td>False</td>\n",
       "    </tr>\n",
       "    <tr>\n",
       "      <th>element_2</th>\n",
       "      <td>churro</td>\n",
       "      <td>9</td>\n",
       "      <td>True</td>\n",
       "      <td>True</td>\n",
       "      <td>6</td>\n",
       "      <td>6</td>\n",
       "      <td>True</td>\n",
       "    </tr>\n",
       "    <tr>\n",
       "      <th>element_3</th>\n",
       "      <td>plant</td>\n",
       "      <td>-1</td>\n",
       "      <td>False</td>\n",
       "      <td>True</td>\n",
       "      <td>5</td>\n",
       "      <td>5</td>\n",
       "      <td>False</td>\n",
       "    </tr>\n",
       "    <tr>\n",
       "      <th>element_4</th>\n",
       "      <td>cup</td>\n",
       "      <td>1</td>\n",
       "      <td>False</td>\n",
       "      <td>True</td>\n",
       "      <td>3</td>\n",
       "      <td>3</td>\n",
       "      <td>False</td>\n",
       "    </tr>\n",
       "  </tbody>\n",
       "</table>\n",
       "</div>"
      ],
      "text/plain": [
       "             name age  is_furry  like_cats  length_name  len_name  logical_op\n",
       "new_index                                                                    \n",
       "element_1    dani  34      True      False            4         4       False\n",
       "element_2  churro   9      True       True            6         6        True\n",
       "element_3   plant  -1     False       True            5         5       False\n",
       "element_4     cup   1     False       True            3         3       False"
      ]
     },
     "execution_count": 31,
     "metadata": {},
     "output_type": "execute_result"
    }
   ],
   "source": [
    "df[\"new_index\"]=[f\"element_{i}\" for i in range(1,5)]\n",
    "\n",
    "df.set_index(\"new_index\", inplace=True)\n",
    "df"
   ]
  },
  {
   "cell_type": "markdown",
   "id": "382ef518-bfc7-4732-83df-15d107153505",
   "metadata": {},
   "source": [
    "### 6. Create a new dataframe called `non_furry` that contains the rows with `is_furry = False`:"
   ]
  },
  {
   "cell_type": "code",
   "execution_count": 32,
   "id": "d4f1f77c",
   "metadata": {},
   "outputs": [
    {
     "data": {
      "text/html": [
       "<div>\n",
       "<style scoped>\n",
       "    .dataframe tbody tr th:only-of-type {\n",
       "        vertical-align: middle;\n",
       "    }\n",
       "\n",
       "    .dataframe tbody tr th {\n",
       "        vertical-align: top;\n",
       "    }\n",
       "\n",
       "    .dataframe thead th {\n",
       "        text-align: right;\n",
       "    }\n",
       "</style>\n",
       "<table border=\"1\" class=\"dataframe\">\n",
       "  <thead>\n",
       "    <tr style=\"text-align: right;\">\n",
       "      <th></th>\n",
       "      <th>name</th>\n",
       "      <th>age</th>\n",
       "      <th>is_furry</th>\n",
       "      <th>like_cats</th>\n",
       "      <th>length_name</th>\n",
       "      <th>len_name</th>\n",
       "      <th>logical_op</th>\n",
       "    </tr>\n",
       "    <tr>\n",
       "      <th>new_index</th>\n",
       "      <th></th>\n",
       "      <th></th>\n",
       "      <th></th>\n",
       "      <th></th>\n",
       "      <th></th>\n",
       "      <th></th>\n",
       "      <th></th>\n",
       "    </tr>\n",
       "  </thead>\n",
       "  <tbody>\n",
       "    <tr>\n",
       "      <th>element_3</th>\n",
       "      <td>plant</td>\n",
       "      <td>-1</td>\n",
       "      <td>False</td>\n",
       "      <td>True</td>\n",
       "      <td>5</td>\n",
       "      <td>5</td>\n",
       "      <td>False</td>\n",
       "    </tr>\n",
       "    <tr>\n",
       "      <th>element_4</th>\n",
       "      <td>cup</td>\n",
       "      <td>1</td>\n",
       "      <td>False</td>\n",
       "      <td>True</td>\n",
       "      <td>3</td>\n",
       "      <td>3</td>\n",
       "      <td>False</td>\n",
       "    </tr>\n",
       "  </tbody>\n",
       "</table>\n",
       "</div>"
      ],
      "text/plain": [
       "            name age  is_furry  like_cats  length_name  len_name  logical_op\n",
       "new_index                                                                   \n",
       "element_3  plant  -1     False       True            5         5       False\n",
       "element_4    cup   1     False       True            3         3       False"
      ]
     },
     "execution_count": 32,
     "metadata": {},
     "output_type": "execute_result"
    }
   ],
   "source": [
    "non_furry=df[df[\"is_furry\"]==False]\n",
    "\n",
    "non_furry"
   ]
  }
 ],
 "metadata": {
  "kernelspec": {
   "display_name": "Python 3 (ipykernel)",
   "language": "python",
   "name": "python3"
  },
  "language_info": {
   "codemirror_mode": {
    "name": "ipython",
    "version": 3
   },
   "file_extension": ".py",
   "mimetype": "text/x-python",
   "name": "python",
   "nbconvert_exporter": "python",
   "pygments_lexer": "ipython3",
   "version": "3.9.12"
  },
  "vscode": {
   "interpreter": {
    "hash": "a9f295c814a5ce7ff0b0a20f2b13117bfaf008fc7980e281f2c2bfa8e9ec0fbf"
   }
  }
 },
 "nbformat": 4,
 "nbformat_minor": 5
}
