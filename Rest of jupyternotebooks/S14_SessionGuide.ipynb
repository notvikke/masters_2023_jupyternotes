{
 "cells": [
  {
   "cell_type": "markdown",
   "metadata": {},
   "source": [
    "<table border=\"0\" style=\"width:100%\">\n",
    " <tr>\n",
    "    <td>\n",
    "        <img src=\"https://static-frm.ie.edu/university/wp-content/uploads/sites/6/2022/06/IE-University-logo.png\" width=150>\n",
    "     </td>\n",
    "    <td><div style=\"font-family:'Courier New'\">\n",
    "            <div style=\"font-size:25px\">\n",
    "                <div style=\"text-align: right\"> \n",
    "                    <b> MASTER IN BIG DATA</b>\n",
    "                    <br>\n",
    "                    Python for Data Analysis II\n",
    "                    <br><br>\n",
    "                    <em> Daniel Sierra Ramos </em>\n",
    "                </div>\n",
    "            </div>\n",
    "        </div>\n",
    "    </td>\n",
    " </tr>\n",
    "</table>"
   ]
  },
  {
   "cell_type": "markdown",
   "metadata": {},
   "source": [
    "# Introduction to **Streamlit**"
   ]
  },
  {
   "cell_type": "markdown",
   "metadata": {},
   "source": [
    "## First Streamlit App\n",
    "\n",
    "Create a new script called `my_first_st_application.py` and add the following code:\n",
    "\n",
    "\n",
    "```python\n",
    "import streamlit as st\n",
    "\n",
    "st.title(\"My first Streamlit App\")\n",
    "st.header(\"This is a new header\")\n",
    "st.text(\"This is the explanation of something\")\n",
    "```\n",
    "\n",
    "Then, run the script from the terminal:\n",
    "\n",
    "```bash\n",
    "streamlit run my_first_st_application.py\n",
    "```"
   ]
  },
  {
   "cell_type": "code",
   "execution_count": 1,
   "metadata": {},
   "outputs": [
    {
     "name": "stdout",
     "output_type": "stream",
     "text": [
      "Collecting Streamlit\n",
      "  Downloading streamlit-1.19.0-py2.py3-none-any.whl (9.6 MB)\n",
      "Collecting pympler>=0.9\n",
      "  Using cached Pympler-1.0.1-py3-none-any.whl (164 kB)\n",
      "Requirement already satisfied: tornado>=6.0.3 in c:\\users\\vignesh nambiar\\anaconda3\\lib\\site-packages (from Streamlit) (6.1)\n",
      "Requirement already satisfied: python-dateutil in c:\\users\\vignesh nambiar\\anaconda3\\lib\\site-packages (from Streamlit) (2.8.2)\n",
      "Requirement already satisfied: requests>=2.4 in c:\\users\\vignesh nambiar\\anaconda3\\lib\\site-packages (from Streamlit) (2.27.1)\n",
      "Requirement already satisfied: click>=7.0 in c:\\users\\vignesh nambiar\\anaconda3\\lib\\site-packages (from Streamlit) (8.0.4)\n",
      "Requirement already satisfied: protobuf<4,>=3.12 in c:\\users\\vignesh nambiar\\anaconda3\\lib\\site-packages (from Streamlit) (3.19.1)\n",
      "Collecting validators>=0.2\n",
      "  Using cached validators-0.20.0.tar.gz (30 kB)\n",
      "Collecting pydeck>=0.1.dev5\n",
      "  Using cached pydeck-0.8.0-py2.py3-none-any.whl (4.7 MB)\n",
      "Collecting blinker>=1.0.0\n",
      "  Using cached blinker-1.5-py2.py3-none-any.whl (12 kB)\n",
      "Requirement already satisfied: cachetools>=4.0 in c:\\users\\vignesh nambiar\\anaconda3\\lib\\site-packages (from Streamlit) (4.2.2)\n",
      "Requirement already satisfied: toml in c:\\users\\vignesh nambiar\\anaconda3\\lib\\site-packages (from Streamlit) (0.10.2)\n",
      "Requirement already satisfied: pillow>=6.2.0 in c:\\users\\vignesh nambiar\\anaconda3\\lib\\site-packages (from Streamlit) (9.0.1)\n",
      "Collecting pyarrow>=4.0\n",
      "  Downloading pyarrow-11.0.0-cp39-cp39-win_amd64.whl (20.6 MB)\n",
      "Requirement already satisfied: packaging>=14.1 in c:\\users\\vignesh nambiar\\anaconda3\\lib\\site-packages (from Streamlit) (21.3)\n",
      "Collecting rich>=10.11.0\n",
      "  Downloading rich-13.3.1-py3-none-any.whl (239 kB)\n",
      "Requirement already satisfied: numpy in c:\\users\\vignesh nambiar\\anaconda3\\lib\\site-packages (from Streamlit) (1.21.5)\n",
      "Collecting semver\n",
      "  Using cached semver-2.13.0-py2.py3-none-any.whl (12 kB)\n",
      "Requirement already satisfied: watchdog in c:\\users\\vignesh nambiar\\anaconda3\\lib\\site-packages (from Streamlit) (2.1.6)\n",
      "Requirement already satisfied: typing-extensions>=3.10.0.0 in c:\\users\\vignesh nambiar\\anaconda3\\lib\\site-packages (from Streamlit) (4.4.0)\n",
      "Requirement already satisfied: importlib-metadata>=1.4 in c:\\users\\vignesh nambiar\\anaconda3\\lib\\site-packages (from Streamlit) (4.11.3)\n",
      "Collecting tzlocal>=1.1\n",
      "  Using cached tzlocal-4.2-py3-none-any.whl (19 kB)\n",
      "Collecting altair>=3.2.0\n",
      "  Downloading altair-4.2.2-py3-none-any.whl (813 kB)\n",
      "Requirement already satisfied: pandas>=0.25 in c:\\users\\vignesh nambiar\\anaconda3\\lib\\site-packages (from Streamlit) (1.4.2)\n",
      "Collecting gitpython!=3.1.19\n",
      "  Downloading GitPython-3.1.31-py3-none-any.whl (184 kB)\n",
      "Requirement already satisfied: entrypoints in c:\\users\\vignesh nambiar\\anaconda3\\lib\\site-packages (from altair>=3.2.0->Streamlit) (0.4)\n",
      "Requirement already satisfied: jsonschema>=3.0 in c:\\users\\vignesh nambiar\\anaconda3\\lib\\site-packages (from altair>=3.2.0->Streamlit) (4.4.0)\n",
      "Requirement already satisfied: jinja2 in c:\\users\\vignesh nambiar\\anaconda3\\lib\\site-packages (from altair>=3.2.0->Streamlit) (2.11.3)\n",
      "Requirement already satisfied: toolz in c:\\users\\vignesh nambiar\\anaconda3\\lib\\site-packages (from altair>=3.2.0->Streamlit) (0.11.2)\n",
      "Requirement already satisfied: colorama in c:\\users\\vignesh nambiar\\anaconda3\\lib\\site-packages (from click>=7.0->Streamlit) (0.4.4)\n",
      "Collecting gitdb<5,>=4.0.1\n",
      "  Using cached gitdb-4.0.10-py3-none-any.whl (62 kB)\n",
      "Collecting smmap<6,>=3.0.1\n",
      "  Using cached smmap-5.0.0-py3-none-any.whl (24 kB)\n",
      "Requirement already satisfied: zipp>=0.5 in c:\\users\\vignesh nambiar\\anaconda3\\lib\\site-packages (from importlib-metadata>=1.4->Streamlit) (3.7.0)\n",
      "Requirement already satisfied: pyrsistent!=0.17.0,!=0.17.1,!=0.17.2,>=0.14.0 in c:\\users\\vignesh nambiar\\anaconda3\\lib\\site-packages (from jsonschema>=3.0->altair>=3.2.0->Streamlit) (0.18.0)\n",
      "Requirement already satisfied: attrs>=17.4.0 in c:\\users\\vignesh nambiar\\anaconda3\\lib\\site-packages (from jsonschema>=3.0->altair>=3.2.0->Streamlit) (21.4.0)\n",
      "Requirement already satisfied: pyparsing!=3.0.5,>=2.0.2 in c:\\users\\vignesh nambiar\\anaconda3\\lib\\site-packages (from packaging>=14.1->Streamlit) (3.0.4)\n",
      "Requirement already satisfied: pytz>=2020.1 in c:\\users\\vignesh nambiar\\anaconda3\\lib\\site-packages (from pandas>=0.25->Streamlit) (2021.3)\n",
      "Requirement already satisfied: MarkupSafe>=0.23 in c:\\users\\vignesh nambiar\\anaconda3\\lib\\site-packages (from jinja2->altair>=3.2.0->Streamlit) (2.0.1)\n",
      "Requirement already satisfied: six>=1.5 in c:\\users\\vignesh nambiar\\anaconda3\\lib\\site-packages (from python-dateutil->Streamlit) (1.16.0)\n",
      "Requirement already satisfied: charset-normalizer~=2.0.0 in c:\\users\\vignesh nambiar\\anaconda3\\lib\\site-packages (from requests>=2.4->Streamlit) (2.0.4)\n",
      "Requirement already satisfied: certifi>=2017.4.17 in c:\\users\\vignesh nambiar\\anaconda3\\lib\\site-packages (from requests>=2.4->Streamlit) (2021.10.8)\n",
      "Requirement already satisfied: urllib3<1.27,>=1.21.1 in c:\\users\\vignesh nambiar\\anaconda3\\lib\\site-packages (from requests>=2.4->Streamlit) (1.26.9)\n",
      "Requirement already satisfied: idna<4,>=2.5 in c:\\users\\vignesh nambiar\\anaconda3\\lib\\site-packages (from requests>=2.4->Streamlit) (3.3)\n",
      "Collecting pygments<3.0.0,>=2.14.0\n",
      "  Downloading Pygments-2.14.0-py3-none-any.whl (1.1 MB)\n",
      "Collecting markdown-it-py<3.0.0,>=2.1.0\n",
      "  Downloading markdown_it_py-2.2.0-py3-none-any.whl (84 kB)\n",
      "Collecting mdurl~=0.1\n",
      "  Downloading mdurl-0.1.2-py3-none-any.whl (10.0 kB)\n",
      "Collecting pytz-deprecation-shim\n",
      "  Using cached pytz_deprecation_shim-0.1.0.post0-py2.py3-none-any.whl (15 kB)\n",
      "Collecting tzdata\n",
      "  Downloading tzdata-2022.7-py2.py3-none-any.whl (340 kB)\n",
      "Requirement already satisfied: decorator>=3.4.0 in c:\\users\\vignesh nambiar\\anaconda3\\lib\\site-packages (from validators>=0.2->Streamlit) (5.1.1)\n",
      "Building wheels for collected packages: validators\n",
      "  Building wheel for validators (setup.py): started\n",
      "  Building wheel for validators (setup.py): finished with status 'done'\n",
      "  Created wheel for validators: filename=validators-0.20.0-py3-none-any.whl size=19582 sha256=1554deb9148e56fed171538f7734ed5c9ba25ac6d01f6285a8950310b390280f\n",
      "  Stored in directory: c:\\users\\vignesh nambiar\\appdata\\local\\pip\\cache\\wheels\\2d\\f0\\a8\\1094fca7a7e5d0d12ff56e0c64675d72aa5cc81a5fc200e849\n",
      "Successfully built validators\n",
      "Installing collected packages: tzdata, smmap, mdurl, pytz-deprecation-shim, pygments, markdown-it-py, gitdb, validators, tzlocal, semver, rich, pympler, pydeck, pyarrow, gitpython, blinker, altair, Streamlit\n",
      "  Attempting uninstall: pygments\n",
      "    Found existing installation: Pygments 2.11.2\n",
      "    Uninstalling Pygments-2.11.2:\n",
      "      Successfully uninstalled Pygments-2.11.2\n",
      "Successfully installed Streamlit-1.19.0 altair-4.2.2 blinker-1.5 gitdb-4.0.10 gitpython-3.1.31 markdown-it-py-2.2.0 mdurl-0.1.2 pyarrow-11.0.0 pydeck-0.8.0 pygments-2.14.0 pympler-1.0.1 pytz-deprecation-shim-0.1.0.post0 rich-13.3.1 semver-2.13.0 smmap-5.0.0 tzdata-2022.7 tzlocal-4.2 validators-0.20.0\n"
     ]
    },
    {
     "name": "stderr",
     "output_type": "stream",
     "text": [
      "ERROR: pip's dependency resolver does not currently take into account all the packages that are installed. This behaviour is the source of the following dependency conflicts.\n",
      "spyder 5.1.5 requires pyqt5<5.13, which is not installed.\n",
      "spyder 5.1.5 requires pyqtwebengine<5.13, which is not installed.\n",
      "jupyter-server 1.13.5 requires pywinpty<2; os_name == \"nt\", but you have pywinpty 2.0.2 which is incompatible.\n"
     ]
    }
   ],
   "source": [
    "!pip install Streamlit\n"
   ]
  },
  {
   "cell_type": "code",
   "execution_count": 2,
   "metadata": {},
   "outputs": [],
   "source": [
    "import streamlit"
   ]
  },
  {
   "cell_type": "markdown",
   "metadata": {},
   "source": [
    "## Streamlit Components\n",
    "\n",
    "1. Go to the Streamlit API reference: https://docs.streamlit.io/library/api-reference\n",
    "2. Check the examples in `StreamlitComponents.py`"
   ]
  },
  {
   "cell_type": "markdown",
   "metadata": {},
   "source": [
    "# Exercise: Create a Streamlit App to show the Uber data\n",
    "\n",
    "Go to `S14_SessionExercise.ipynb` and follow the instructions."
   ]
  }
 ],
 "metadata": {
  "kernelspec": {
   "display_name": "Python 3 (ipykernel)",
   "language": "python",
   "name": "python3"
  },
  "language_info": {
   "codemirror_mode": {
    "name": "ipython",
    "version": 3
   },
   "file_extension": ".py",
   "mimetype": "text/x-python",
   "name": "python",
   "nbconvert_exporter": "python",
   "pygments_lexer": "ipython3",
   "version": "3.9.12"
  },
  "vscode": {
   "interpreter": {
    "hash": "916dbcbb3f70747c44a77c7bcd40155683ae19c65e1c03b4aa3499c5328201f1"
   }
  }
 },
 "nbformat": 4,
 "nbformat_minor": 4
}
