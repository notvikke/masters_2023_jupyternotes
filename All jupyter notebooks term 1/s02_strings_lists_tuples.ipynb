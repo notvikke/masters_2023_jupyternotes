{
 "cells": [
  {
   "cell_type": "markdown",
   "metadata": {},
   "source": [
    "# Session 2. Strings, lists and tuples"
   ]
  },
  {
   "cell_type": "markdown",
   "metadata": {},
   "source": [
    "### Recap from Session 1 on strings\n",
    "* Strings can be defined with single, double and triple quotes, and they represent a sequence of characters."
   ]
  },
  {
   "cell_type": "markdown",
   "metadata": {},
   "source": [
    "Strings have different built-in methods like `upper()`, `lower()`, `capitalize()`"
   ]
  },
  {
   "cell_type": "code",
   "execution_count": 6,
   "metadata": {},
   "outputs": [
    {
     "data": {
      "text/plain": [
       "'The student in front of me is lucas noob'"
      ]
     },
     "execution_count": 6,
     "metadata": {},
     "output_type": "execute_result"
    }
   ],
   "source": [
    "name = \"lucas noob\"\n",
    "\n",
    "# some spoiler for our class on strings: formatting strings with f\"\"\n",
    "student_in_front_of_me = f\"The student in front of me is {name}\"\n",
    "\n",
    "student_in_front_of_me"
   ]
  },
  {
   "cell_type": "code",
   "execution_count": 8,
   "metadata": {},
   "outputs": [
    {
     "name": "stdout",
     "output_type": "stream",
     "text": [
      "upper() yields LUCAS NOOB\n",
      "lower() yields lucas noob\n",
      "capitalize() yields Lucas noob\n",
      "title() yields Lucas Noob\n"
     ]
    }
   ],
   "source": [
    "print(f\"upper() yields {name.upper()}\")\n",
    "\n",
    "print(f\"lower() yields {name.lower()}\")\n",
    "\n",
    "print(f\"capitalize() yields {name.capitalize()}\")\n",
    "\n",
    "print(f\"title() yields {name.title()}\")"
   ]
  },
  {
   "cell_type": "markdown",
   "metadata": {},
   "source": [
    "We can split strings according to a certain separator (default is space) using `split([sep])`.\n",
    "\n",
    "The output of `split()` is a list"
   ]
  },
  {
   "cell_type": "code",
   "execution_count": 10,
   "metadata": {},
   "outputs": [
    {
     "name": "stdout",
     "output_type": "stream",
     "text": [
      "['Hello', 'everyone,']\n"
     ]
    }
   ],
   "source": [
    "alt = \"Hello everyone, how's it going?\".split()\n",
    "print(alt[0:2])"
   ]
  },
  {
   "cell_type": "code",
   "execution_count": null,
   "metadata": {},
   "outputs": [
    {
     "data": {
      "text/plain": [
       "['dgarciah', 'faculty.ie.edu']"
      ]
     },
     "metadata": {},
     "output_type": "display_data"
    }
   ],
   "source": [
    "# we can specify the character with which we want to split our string on\n",
    "introduction = \"dgarciah@faculty.ie.edu\"\n",
    "\n",
    "introduction.split(\"@\")"
   ]
  },
  {
   "cell_type": "markdown",
   "metadata": {},
   "source": [
    "When in need of replacing some character within a string we can use `replace(old, new)`"
   ]
  },
  {
   "cell_type": "code",
   "execution_count": 12,
   "metadata": {},
   "outputs": [
    {
     "data": {
      "text/plain": [
       "'Best noob Lucas'"
      ]
     },
     "execution_count": 12,
     "metadata": {},
     "output_type": "execute_result"
    }
   ],
   "source": [
    "name = \"Epic Lucas\"\n",
    "\n",
    "name.replace(\"Epic\", \"Best noob\")\n",
    "# mic drop"
   ]
  },
  {
   "cell_type": "markdown",
   "metadata": {},
   "source": [
    "If we need to remove characters at the end of a string we can use `strip([chars])` (default removes whitespace)\n",
    "\n",
    "Use `lstrip` for left characters or `rstrip` for right characters"
   ]
  },
  {
   "cell_type": "code",
   "execution_count": null,
   "metadata": {},
   "outputs": [
    {
     "data": {
      "text/plain": [
       "'hello, my name is Daniel.'"
      ]
     },
     "metadata": {},
     "output_type": "display_data"
    }
   ],
   "source": [
    "example = \" hello, my name is Daniel.         \"\n",
    "\n",
    "example.strip()   #Removes all the white spaces at end and beginning"
   ]
  },
  {
   "cell_type": "code",
   "execution_count": null,
   "metadata": {},
   "outputs": [
    {
     "data": {
      "text/plain": [
       "'lstrip to remove characters on left'"
      ]
     },
     "metadata": {},
     "output_type": "display_data"
    }
   ],
   "source": [
    "\"#lstrip to remove characters on left\".lstrip(\"#\")  #strip on left side"
   ]
  },
  {
   "cell_type": "code",
   "execution_count": null,
   "metadata": {},
   "outputs": [
    {
     "data": {
      "text/plain": [
       "'rstrip to remove characters on left'"
      ]
     },
     "metadata": {},
     "output_type": "display_data"
    }
   ],
   "source": [
    "\"rstrip to remove characters on left#\".rstrip(\"#\")  #on right side"
   ]
  },
  {
   "cell_type": "markdown",
   "metadata": {},
   "source": [
    "## More Strings stuff"
   ]
  },
  {
   "cell_type": "markdown",
   "metadata": {
    "tags": []
   },
   "source": [
    "### More methods and functionalities to use on strings"
   ]
  },
  {
   "cell_type": "markdown",
   "metadata": {},
   "source": [
    "We can check the length in characters of a string with `len`"
   ]
  },
  {
   "cell_type": "code",
   "execution_count": 13,
   "metadata": {},
   "outputs": [
    {
     "data": {
      "text/plain": [
       "9"
      ]
     },
     "execution_count": 13,
     "metadata": {},
     "output_type": "execute_result"
    }
   ],
   "source": [
    "# takes into account white space and symbols\n",
    "str1 = \"lucasnoob\"\n",
    "\n",
    "len(str1)"
   ]
  },
  {
   "cell_type": "markdown",
   "metadata": {},
   "source": [
    "If we want to undo a `split()` we can use `join()` like this:\n",
    "\n",
    "`join_character.join(list_of_items_to_join)`\n",
    "\n",
    "`join`is the inverse of `split`"
   ]
  },
  {
   "cell_type": "code",
   "execution_count": 17,
   "metadata": {},
   "outputs": [
    {
     "name": "stdout",
     "output_type": "stream",
     "text": [
      "['Epic', 'noob']\n"
     ]
    }
   ],
   "source": [
    "str1 = \"Epic noob lucas\"\n",
    "\n",
    "str1_split = str1.split()\n",
    "i_1=2;  #can use loops here to check for conditions \n",
    "print(str1_split[0:i_1])"
   ]
  },
  {
   "cell_type": "code",
   "execution_count": 18,
   "metadata": {},
   "outputs": [
    {
     "data": {
      "text/plain": [
       "'EpicXXXnoobXXXlucas'"
      ]
     },
     "execution_count": 18,
     "metadata": {},
     "output_type": "execute_result"
    }
   ],
   "source": [
    "str1_split = str1.split(\" \")\n",
    "\n",
    "joint = \"XXX\"\n",
    "joined_list = joint.join(str1_split)\n",
    "joined_list"
   ]
  },
  {
   "cell_type": "markdown",
   "metadata": {},
   "source": [
    "What if we want to switch every character from lower to uppercase, and viceversa? \n",
    "\n",
    "We can use `swapcase()`!"
   ]
  },
  {
   "cell_type": "code",
   "execution_count": 19,
   "metadata": {},
   "outputs": [
    {
     "data": {
      "text/plain": [
       "'lUCAS noob'"
      ]
     },
     "execution_count": 19,
     "metadata": {},
     "output_type": "execute_result"
    }
   ],
   "source": [
    "def new_swapcase(string):\n",
    "    return string.swapcase()\n",
    "\n",
    "new_swapcase(\"Lucas NOOB\")"
   ]
  },
  {
   "cell_type": "code",
   "execution_count": 20,
   "metadata": {},
   "outputs": [
    {
     "data": {
      "text/plain": [
       "'nooblucas'"
      ]
     },
     "execution_count": 20,
     "metadata": {},
     "output_type": "execute_result"
    }
   ],
   "source": [
    "\n",
    "str1 = \"NOOBLUCAS\"\n",
    "str1.swapcase()"
   ]
  },
  {
   "cell_type": "markdown",
   "metadata": {},
   "source": [
    "Or doing it manually:"
   ]
  },
  {
   "cell_type": "code",
   "execution_count": 11,
   "metadata": {},
   "outputs": [
    {
     "name": "stdout",
     "output_type": "stream",
     "text": [
      " nOOblUCAS\n"
     ]
    }
   ],
   "source": [
    "def swapc(var1):\n",
    "    fstr=\" \"\n",
    "    for elem in var1:\n",
    "        if elem.islower():\n",
    "            elem=elem.upper()\n",
    "        else:\n",
    "            elem=elem.lower()\n",
    "        fstr+=fstr.join(elem)\n",
    "        \n",
    "    print(fstr)\n",
    "    \n",
    "swapc(\"NooBLucas\")\n",
    "        "
   ]
  },
  {
   "cell_type": "markdown",
   "metadata": {},
   "source": [
    "We learned that `strip, rstrip` and `lstrip` remove character on the sides of the string. \n",
    "\n",
    "If we want to add `n` whitespace characters and center our string within them, we can use `str.center()`"
   ]
  },
  {
   "cell_type": "code",
   "execution_count": 33,
   "metadata": {},
   "outputs": [
    {
     "name": "stdout",
     "output_type": "stream",
     "text": [
      "Lucas Noob\n",
      "Lucas Noob\n",
      "Lucas Noob\n",
      "Lucas Noob\n",
      "Lucas Noob\n",
      "Lucas Noob\n",
      "Lucas Noob\n",
      "Lucas Noob\n",
      "Lucas Noob\n",
      "Lucas Noob\n",
      " Lucas Noob\n",
      " Lucas Noob \n",
      "  Lucas Noob \n",
      "  Lucas Noob  \n",
      "   Lucas Noob  \n",
      "   Lucas Noob   \n",
      "    Lucas Noob   \n",
      "    Lucas Noob    \n",
      "     Lucas Noob    \n"
     ]
    }
   ],
   "source": [
    "\n",
    "for j_1 in range (1, 20):\n",
    "    print(\"Lucas Noob\".center(j_1))"
   ]
  },
  {
   "cell_type": "markdown",
   "metadata": {},
   "source": [
    "We can also add `n` whitespace only on one side and justify our string with `ljust` and `rjust`"
   ]
  },
  {
   "cell_type": "code",
   "execution_count": 42,
   "metadata": {},
   "outputs": [
    {
     "data": {
      "text/plain": [
       "'Lucasadsdanoob'"
      ]
     },
     "execution_count": 42,
     "metadata": {},
     "output_type": "execute_result"
    }
   ],
   "source": [
    "\"Lucasadsdanoob\".ljust(6, \"0\")"
   ]
  },
  {
   "cell_type": "code",
   "execution_count": 46,
   "metadata": {},
   "outputs": [
    {
     "data": {
      "text/plain": [
       "'LLLLLLLLLLLLLLLLLX1X'"
      ]
     },
     "execution_count": 46,
     "metadata": {},
     "output_type": "execute_result"
    }
   ],
   "source": [
    "\"X1X\".rjust(20, \"L\")"
   ]
  },
  {
   "cell_type": "markdown",
   "metadata": {},
   "source": [
    "These methods accept a second parameter as character to use instead of whitespace"
   ]
  },
  {
   "cell_type": "code",
   "execution_count": 33,
   "metadata": {},
   "outputs": [
    {
     "data": {
      "text/plain": [
       "'XXXvivobook0000'"
      ]
     },
     "execution_count": 33,
     "metadata": {},
     "output_type": "execute_result"
    }
   ],
   "source": [
    "string = \"vivobook\"\n",
    "\n",
    "string.rjust(len(string)+3, \"X\").ljust(15, \"0\")"
   ]
  },
  {
   "cell_type": "code",
   "execution_count": 34,
   "metadata": {},
   "outputs": [
    {
     "data": {
      "text/plain": [
       "'HELLOhhhhhhhh'"
      ]
     },
     "execution_count": 34,
     "metadata": {},
     "output_type": "execute_result"
    }
   ],
   "source": [
    "# adding a word or phrase\n",
    "\"HELLO\".ljust(13, \"h\")"
   ]
  },
  {
   "cell_type": "markdown",
   "metadata": {},
   "source": [
    "And a similar method but to fill with zeros: `zfill(n)` will fill with zeros on the left until reaching a total length of `n`"
   ]
  },
  {
   "cell_type": "code",
   "execution_count": 47,
   "metadata": {},
   "outputs": [
    {
     "name": "stdout",
     "output_type": "stream",
     "text": [
      "000000435\n"
     ]
    },
    {
     "data": {
      "text/plain": [
       "True"
      ]
     },
     "execution_count": 47,
     "metadata": {},
     "output_type": "execute_result"
    }
   ],
   "source": [
    "str_num = \"435\"\n",
    "print(str_num.zfill(9))\n",
    "str_num.zfill(9) == str_num.rjust(9, \"0\")"
   ]
  },
  {
   "cell_type": "markdown",
   "metadata": {},
   "source": [
    "We can find strings within a string with `find()`. It will return the position in the original string at which the substring we're looking for starts."
   ]
  },
  {
   "cell_type": "code",
   "execution_count": 48,
   "metadata": {},
   "outputs": [
    {
     "data": {
      "text/plain": [
       "7"
      ]
     },
     "execution_count": 48,
     "metadata": {},
     "output_type": "execute_result"
    }
   ],
   "source": [
    "\"daniel noob garcia\".find(\"noob\")"
   ]
  },
  {
   "cell_type": "markdown",
   "metadata": {},
   "source": [
    "In order to slice a string, we can use `[]` taking into account that Python is ZBI (Zero-based index)\n",
    "\n",
    "- str[0] - first character\n",
    "- str[-1] - last character\n",
    "- str[n:] - substring from the n-th character including it, keep in mind the zero-based index\n",
    "- str[:m] - substring to the m-th character without including it, or the first m characters\n",
    "- str[n:m] ..."
   ]
  },
  {
   "cell_type": "code",
   "execution_count": 50,
   "metadata": {},
   "outputs": [
    {
     "data": {
      "text/plain": [
       "'p'"
      ]
     },
     "execution_count": 50,
     "metadata": {},
     "output_type": "execute_result"
    }
   ],
   "source": [
    "\"philippe\"[0]"
   ]
  },
  {
   "cell_type": "code",
   "execution_count": 49,
   "metadata": {},
   "outputs": [
    {
     "data": {
      "text/plain": [
       "'p'"
      ]
     },
     "execution_count": 49,
     "metadata": {},
     "output_type": "execute_result"
    }
   ],
   "source": [
    "\"philippe\"[-3]"
   ]
  },
  {
   "cell_type": "code",
   "execution_count": 51,
   "metadata": {},
   "outputs": [
    {
     "data": {
      "text/plain": [
       "'e'"
      ]
     },
     "execution_count": 51,
     "metadata": {},
     "output_type": "execute_result"
    }
   ],
   "source": [
    "\"philippe\"[-1]"
   ]
  },
  {
   "cell_type": "code",
   "execution_count": 54,
   "metadata": {},
   "outputs": [
    {
     "data": {
      "text/plain": [
       "'dan'"
      ]
     },
     "execution_count": 54,
     "metadata": {},
     "output_type": "execute_result"
    }
   ],
   "source": [
    "# first 3 characters\n",
    "\"daniel\"[:3]"
   ]
  },
  {
   "cell_type": "code",
   "execution_count": 12,
   "metadata": {},
   "outputs": [
    {
     "data": {
      "text/plain": [
       "'lcsob'"
      ]
     },
     "execution_count": 12,
     "metadata": {},
     "output_type": "execute_result"
    }
   ],
   "source": [
    "\"lucasnoob\"[0::2]"
   ]
  },
  {
   "cell_type": "markdown",
   "metadata": {},
   "source": [
    "string[beginning:end:step]"
   ]
  },
  {
   "cell_type": "code",
   "execution_count": 67,
   "metadata": {},
   "outputs": [
    {
     "data": {
      "text/plain": [
       "'ip'"
      ]
     },
     "execution_count": 67,
     "metadata": {},
     "output_type": "execute_result"
    }
   ],
   "source": [
    "\"philippe\"[4:6]"
   ]
  },
  {
   "cell_type": "code",
   "execution_count": 63,
   "metadata": {},
   "outputs": [
    {
     "data": {
      "text/plain": [
       "'lia'"
      ]
     },
     "execution_count": 63,
     "metadata": {},
     "output_type": "execute_result"
    }
   ],
   "source": [
    "\"daniel\"[::-2]"
   ]
  },
  {
   "cell_type": "code",
   "execution_count": 64,
   "metadata": {},
   "outputs": [
    {
     "data": {
      "text/plain": [
       "'leinad'"
      ]
     },
     "execution_count": 64,
     "metadata": {},
     "output_type": "execute_result"
    }
   ],
   "source": [
    "# to print a string in mirror mode you use [::-1]\n",
    "\n",
    "\"daniel\"[::-1]"
   ]
  },
  {
   "cell_type": "markdown",
   "metadata": {},
   "source": [
    "### `+` and `*` in strings\n",
    "\n",
    "We can **add** strings by using `+`. \n",
    "\n",
    "And we can **repeat** a string `n` by multiplying the string by `n`"
   ]
  },
  {
   "cell_type": "code",
   "execution_count": 14,
   "metadata": {},
   "outputs": [
    {
     "data": {
      "text/plain": [
       "'lucas epic noob'"
      ]
     },
     "execution_count": 14,
     "metadata": {},
     "output_type": "execute_result"
    }
   ],
   "source": [
    "name = \"lucas\"\n",
    "last_name = \"noob\"\n",
    "\n",
    "name + \" epic \" + last_name"
   ]
  },
  {
   "cell_type": "code",
   "execution_count": 23,
   "metadata": {},
   "outputs": [
    {
     "data": {
      "text/plain": [
       "'lucasnoob lucasnoob lucasnoob lucasnoob lucasnoob lucasnoob lucasnoob lucasnoob lucasnoob lucasnoob'"
      ]
     },
     "execution_count": 23,
     "metadata": {},
     "output_type": "execute_result"
    }
   ],
   "source": [
    "(\"lucasnoob \" * 10).strip()"
   ]
  },
  {
   "cell_type": "markdown",
   "metadata": {},
   "source": [
    "### Formatting strings\n",
    "\n",
    "When we want to include **string representations** of other types, or when we want to create strings that adapt to the variables that we are creating, we use formatted strings.\n",
    "\n",
    "* We can do it manually, knowing that strings can be summed with \"+\"\n",
    "* We can use `str.format()`\n",
    "* We can use `f\"\"`"
   ]
  },
  {
   "cell_type": "code",
   "execution_count": 24,
   "metadata": {},
   "outputs": [
    {
     "data": {
      "text/plain": [
       "'Lucas is Epic Noob!'"
      ]
     },
     "execution_count": 24,
     "metadata": {},
     "output_type": "execute_result"
    }
   ],
   "source": [
    "name = \"Noob\"\n",
    "\n",
    "f\"Lucas is Epic {name}!\""
   ]
  },
  {
   "cell_type": "code",
   "execution_count": 25,
   "metadata": {},
   "outputs": [
    {
     "ename": "TypeError",
     "evalue": "can only concatenate str (not \"int\") to str",
     "output_type": "error",
     "traceback": [
      "\u001b[1;31m---------------------------------------------------------------------------\u001b[0m",
      "\u001b[1;31mTypeError\u001b[0m                                 Traceback (most recent call last)",
      "Input \u001b[1;32mIn [25]\u001b[0m, in \u001b[0;36m<cell line: 1>\u001b[1;34m()\u001b[0m\n\u001b[1;32m----> 1\u001b[0m \u001b[38;5;124;43m\"\u001b[39;49m\u001b[38;5;124;43mI am \u001b[39;49m\u001b[38;5;124;43m\"\u001b[39;49m\u001b[43m \u001b[49m\u001b[38;5;241;43m+\u001b[39;49m\u001b[43m \u001b[49m\u001b[38;5;241;43m33\u001b[39;49m\n",
      "\u001b[1;31mTypeError\u001b[0m: can only concatenate str (not \"int\") to str"
     ]
    }
   ],
   "source": [
    "\"I am \" + 33"
   ]
  },
  {
   "cell_type": "code",
   "execution_count": 83,
   "metadata": {},
   "outputs": [
    {
     "data": {
      "text/plain": [
       "'Pi with 3 decimal positions is 3.1416'"
      ]
     },
     "execution_count": 83,
     "metadata": {},
     "output_type": "execute_result"
    }
   ],
   "source": [
    "pi = 3.141593\n",
    "\n",
    "f\"Pi with 3 decimal positions is {pi:.4f}\""
   ]
  },
  {
   "cell_type": "code",
   "execution_count": 84,
   "metadata": {},
   "outputs": [
    {
     "data": {
      "text/plain": [
       "0.14159299999999986"
      ]
     },
     "execution_count": 84,
     "metadata": {},
     "output_type": "execute_result"
    }
   ],
   "source": [
    "decimal_part_pi = pi - int(pi)\n",
    "\n",
    "decimal_part_pi"
   ]
  },
  {
   "cell_type": "code",
   "execution_count": 86,
   "metadata": {},
   "outputs": [
    {
     "data": {
      "text/plain": [
       "'I am 1.788 m'"
      ]
     },
     "execution_count": 86,
     "metadata": {},
     "output_type": "execute_result"
    }
   ],
   "source": [
    "height = 1.78777777\n",
    "positions = 3\n",
    "f\"I am {height:.{positions}f} m\""
   ]
  },
  {
   "cell_type": "markdown",
   "metadata": {
    "tags": []
   },
   "source": [
    "### Exercises: strings. Help me solve this!\n",
    "\n",
    "1. Take \"ABCDEFG\" and add 7 `$` on each side\n",
    "2. Take \"Hola\" and add 5 `x` to the left and 11 `y` to the right\n",
    "3. Save your Name and last name(s) as independent strings, and then build your full name using them.\n",
    "4. Create the variables name, age, nationality, store your information on them, and include them in a string that a human can understand."
   ]
  },
  {
   "cell_type": "code",
   "execution_count": 4,
   "metadata": {},
   "outputs": [
    {
     "data": {
      "text/plain": [
       "'$$$$$$$ABCDEFG$$$$$$$'"
      ]
     },
     "execution_count": 4,
     "metadata": {},
     "output_type": "execute_result"
    }
   ],
   "source": [
    "# 1. Take \"ABCDEFG\" and add 7 $ on each side\n",
    "string_to_consider = \"ABCDEFG\"\n",
    "string_to_consider.rjust(len(string_to_consider) + 7, \"$\").ljust(len(string_to_consider) + 14, \"$\")"
   ]
  },
  {
   "cell_type": "code",
   "execution_count": 8,
   "metadata": {},
   "outputs": [
    {
     "data": {
      "text/plain": [
       "'xxxxxHolayyyyyyyyyyy'"
      ]
     },
     "execution_count": 8,
     "metadata": {},
     "output_type": "execute_result"
    }
   ],
   "source": [
    "# 2. Take \"Hola\" and add 5 x to the left and 11 y to the right\n",
    "string_hola = \"Hola\"\n",
    "string_hola.rjust(len(string_hola) + 5, \"x\").ljust(len(string_hola) + 16, \"y\")"
   ]
  },
  {
   "cell_type": "code",
   "execution_count": 10,
   "metadata": {},
   "outputs": [
    {
     "name": "stdout",
     "output_type": "stream",
     "text": [
      "daniel garcia hernandez\n",
      "daniel garcia hernandez\n",
      "daniel garcia hernandez\n"
     ]
    }
   ],
   "source": [
    "# 3. Save your Name and last name(s) as independent strings, and then build your full name using them.\n",
    "name = \"daniel\"\n",
    "last_name_1 = \"garcia\"\n",
    "last_name_2 = \"hernandez\"\n",
    "\n",
    "full_name = \"daniel\" + \" \" + \"garcia\" + \" \" + \"hernandez\"\n",
    "full_name_1 = f\"{name} {last_name_1} {last_name_2}\"\n",
    "# another formatting way for strings\n",
    "full_name_2 = \"{0} {1} {2}\".format(name, last_name_1, last_name_2)\n",
    "\n",
    "# print\n",
    "print(full_name)\n",
    "print(full_name_1)\n",
    "print(full_name_2)"
   ]
  },
  {
   "cell_type": "code",
   "execution_count": 11,
   "metadata": {},
   "outputs": [
    {
     "data": {
      "text/plain": [
       "\"Hi, my name is daniel, I'm 33 and I am spanish!\""
      ]
     },
     "execution_count": 11,
     "metadata": {},
     "output_type": "execute_result"
    }
   ],
   "source": [
    "# 4. Create the variables name, age, nationality, store your information on them, \n",
    "# and include them in a string that a human can understand\n",
    "\n",
    "name = \"daniel\"\n",
    "age = 33\n",
    "nationality = \"spanish\"\n",
    "\n",
    "f\"Hi, my name is {name}, I'm {age} and I am {nationality}!\""
   ]
  },
  {
   "cell_type": "markdown",
   "metadata": {},
   "source": [
    "## Lists and tuples"
   ]
  },
  {
   "cell_type": "markdown",
   "metadata": {},
   "source": [
    "### Lists\n",
    "\n",
    "Lists are the most basic `ordered` and `mutable` container in Python. We define them with comma-separated items within square brackets:\n",
    "\n",
    "`[1, 2, 3]`"
   ]
  },
  {
   "cell_type": "code",
   "execution_count": 88,
   "metadata": {},
   "outputs": [
    {
     "data": {
      "text/plain": [
       "[1, 2, 3]"
      ]
     },
     "execution_count": 88,
     "metadata": {},
     "output_type": "execute_result"
    }
   ],
   "source": [
    "lst = [1, 2, 3]\n",
    "\n",
    "lst"
   ]
  },
  {
   "cell_type": "markdown",
   "metadata": {},
   "source": [
    "Lists not only contain numbers, but rather they can contain ANY object in Python, and a mix of them.\n",
    "\n",
    "Lists can contain lists. Or tuples, or dataframes, or files."
   ]
  },
  {
   "cell_type": "code",
   "execution_count": 97,
   "metadata": {},
   "outputs": [],
   "source": [
    "list_1 = [1, 1.5, \"hola\", True, [1, 2, 3]]"
   ]
  },
  {
   "cell_type": "markdown",
   "metadata": {},
   "source": [
    "We can find the position or `index` of an element in a list using `index(element)`"
   ]
  },
  {
   "cell_type": "code",
   "execution_count": 98,
   "metadata": {},
   "outputs": [],
   "source": [
    "list_1.index([1, 2, 3])\n",
    "\n",
    "list_1[4][2] = 4"
   ]
  },
  {
   "cell_type": "code",
   "execution_count": 100,
   "metadata": {},
   "outputs": [
    {
     "data": {
      "text/plain": [
       "[1, 1.5, 'hola', True, [1, 2, 4]]"
      ]
     },
     "execution_count": 100,
     "metadata": {},
     "output_type": "execute_result"
    }
   ],
   "source": [
    "list_1[4][2] = 4\n",
    "\n",
    "list_1"
   ]
  },
  {
   "cell_type": "code",
   "execution_count": 95,
   "metadata": {},
   "outputs": [
    {
     "data": {
      "text/plain": [
       "[1, 1.5, 'hola', True, [1, 2, 4]]"
      ]
     },
     "execution_count": 95,
     "metadata": {},
     "output_type": "execute_result"
    }
   ],
   "source": [
    "list_1[4] = [1, 2, 4]\n",
    "\n",
    "list_1"
   ]
  },
  {
   "cell_type": "code",
   "execution_count": 102,
   "metadata": {},
   "outputs": [
    {
     "data": {
      "text/plain": [
       "['daniel', 'darcia', 'hernandez']"
      ]
     },
     "execution_count": 102,
     "metadata": {},
     "output_type": "execute_result"
    }
   ],
   "source": [
    "lst = [\"daniel\", \"darcia\"]\n",
    "last_name_2 = \"hernandez\"\n",
    "\n",
    "lst.append(last_name_2)\n",
    "\n",
    "lst"
   ]
  },
  {
   "cell_type": "markdown",
   "metadata": {},
   "source": [
    "Just as we did with strings we can *add* lists and *multiply* them by a scalar."
   ]
  },
  {
   "cell_type": "code",
   "execution_count": 103,
   "metadata": {},
   "outputs": [
    {
     "data": {
      "text/plain": [
       "[1, 2, 3, 'a', 'b', 'c']"
      ]
     },
     "execution_count": 103,
     "metadata": {},
     "output_type": "execute_result"
    }
   ],
   "source": [
    "[1, 2, 3] + [\"a\", \"b\", \"c\"]"
   ]
  },
  {
   "cell_type": "code",
   "execution_count": 104,
   "metadata": {},
   "outputs": [
    {
     "data": {
      "text/plain": [
       "['a', 'b', 'c', 'a', 'b', 'c', 'a', 'b', 'c', 'a', 'b', 'c']"
      ]
     },
     "execution_count": 104,
     "metadata": {},
     "output_type": "execute_result"
    }
   ],
   "source": [
    "[\"a\", \"b\", \"c\"] * 4"
   ]
  },
  {
   "cell_type": "markdown",
   "metadata": {},
   "source": [
    "Slicing lists is super powerful, and not only we can do the same slicing we did with strings, but also we can use a third parameter (`step`): `list[start_inc:end_not_inc:step`"
   ]
  },
  {
   "cell_type": "code",
   "execution_count": 107,
   "metadata": {},
   "outputs": [
    {
     "data": {
      "text/plain": [
       "[3, 4]"
      ]
     },
     "execution_count": 107,
     "metadata": {},
     "output_type": "execute_result"
    }
   ],
   "source": [
    "lst_a = [1, 2, 3, 4, 5]\n",
    "\n",
    "lst_a[2:4]"
   ]
  },
  {
   "cell_type": "markdown",
   "metadata": {},
   "source": [
    "We can find the total length (or items included) in the list by using `len(list)`"
   ]
  },
  {
   "cell_type": "code",
   "execution_count": 108,
   "metadata": {},
   "outputs": [
    {
     "data": {
      "text/plain": [
       "5"
      ]
     },
     "execution_count": 108,
     "metadata": {},
     "output_type": "execute_result"
    }
   ],
   "source": [
    "len(lst_a)"
   ]
  },
  {
   "cell_type": "markdown",
   "metadata": {},
   "source": [
    "We can `mutate` lists by accessing elements by their index, and changing it:"
   ]
  },
  {
   "cell_type": "code",
   "execution_count": 109,
   "metadata": {},
   "outputs": [
    {
     "data": {
      "text/plain": [
       "[1, 2, 'h']"
      ]
     },
     "execution_count": 109,
     "metadata": {},
     "output_type": "execute_result"
    }
   ],
   "source": [
    "a = [1, 2, 6]\n",
    "\n",
    "a[2] = \"h\"\n",
    "\n",
    "a"
   ]
  },
  {
   "cell_type": "markdown",
   "metadata": {},
   "source": [
    "We can add elements to an existing list by using `append(element)`. It will be added at the end of the list."
   ]
  },
  {
   "cell_type": "code",
   "execution_count": 120,
   "metadata": {},
   "outputs": [
    {
     "data": {
      "text/plain": [
       "'d1niel'"
      ]
     },
     "execution_count": 120,
     "metadata": {},
     "output_type": "execute_result"
    }
   ],
   "source": [
    "str1 = \"daniel\"\n",
    "\n",
    "str1.replace(\"a\", \"1\")"
   ]
  },
  {
   "cell_type": "code",
   "execution_count": 116,
   "metadata": {},
   "outputs": [
    {
     "data": {
      "text/plain": [
       "'daniel'"
      ]
     },
     "execution_count": 116,
     "metadata": {},
     "output_type": "execute_result"
    }
   ],
   "source": [
    "str1"
   ]
  },
  {
   "cell_type": "code",
   "execution_count": 117,
   "metadata": {},
   "outputs": [],
   "source": [
    "b = [1, 2, 3]\n",
    "\n",
    "b.append(4)"
   ]
  },
  {
   "cell_type": "code",
   "execution_count": 118,
   "metadata": {},
   "outputs": [
    {
     "data": {
      "text/plain": [
       "[1, 2, 3, 4]"
      ]
     },
     "execution_count": 118,
     "metadata": {},
     "output_type": "execute_result"
    }
   ],
   "source": [
    "b"
   ]
  },
  {
   "cell_type": "markdown",
   "metadata": {},
   "source": [
    "In order to sort a list, we use the `sort()` method. It sorts in place!\n",
    "\n",
    "* This means that `sort()` will change the content in memory at which our list is pointing. it will mutate the variable without saying anything!"
   ]
  },
  {
   "cell_type": "code",
   "execution_count": 136,
   "metadata": {},
   "outputs": [],
   "source": [
    "h = [8, 1, 5]\n",
    "\n",
    "b = [8, 1, 5]\n",
    "\n",
    "h = h.sort()"
   ]
  },
  {
   "cell_type": "code",
   "execution_count": 135,
   "metadata": {},
   "outputs": [
    {
     "data": {
      "text/plain": [
       "'None'"
      ]
     },
     "execution_count": 135,
     "metadata": {},
     "output_type": "execute_result"
    }
   ],
   "source": [
    "str(h_sorted)"
   ]
  },
  {
   "cell_type": "code",
   "execution_count": 133,
   "metadata": {},
   "outputs": [
    {
     "ename": "TypeError",
     "evalue": "'NoneType' object is not iterable",
     "output_type": "error",
     "traceback": [
      "\u001b[0;31m---------------------------------------------------------------------------\u001b[0m",
      "\u001b[0;31mTypeError\u001b[0m                                 Traceback (most recent call last)",
      "\u001b[0;32m<ipython-input-133-d33016549455>\u001b[0m in \u001b[0;36m<module>\u001b[0;34m\u001b[0m\n\u001b[0;32m----> 1\u001b[0;31m \u001b[0mlist\u001b[0m\u001b[0;34m(\u001b[0m\u001b[0mh_sorted\u001b[0m\u001b[0;34m)\u001b[0m\u001b[0;34m\u001b[0m\u001b[0;34m\u001b[0m\u001b[0m\n\u001b[0m",
      "\u001b[0;31mTypeError\u001b[0m: 'NoneType' object is not iterable"
     ]
    }
   ],
   "source": [
    "list(h_sorted)"
   ]
  },
  {
   "cell_type": "code",
   "execution_count": 131,
   "metadata": {},
   "outputs": [
    {
     "data": {
      "text/plain": [
       "[1, 5, 8]"
      ]
     },
     "execution_count": 131,
     "metadata": {},
     "output_type": "execute_result"
    }
   ],
   "source": [
    "b "
   ]
  },
  {
   "cell_type": "markdown",
   "metadata": {},
   "source": [
    "### Tuples\n",
    "\n",
    "Tuples are another form of container in Python. We define them with comma-separated items within parentheses.\n",
    "\n",
    "The main difference between `tuples` and `lists` is that `tuples` **are not mutable**. Once they're created, they stay as they were."
   ]
  },
  {
   "cell_type": "markdown",
   "metadata": {},
   "source": []
  },
  {
   "cell_type": "markdown",
   "metadata": {},
   "source": [
    "Tuples are used natively in Python when a function `return`s several items. Actually what python does is to return a single tuple containing each item:"
   ]
  },
  {
   "cell_type": "code",
   "execution_count": null,
   "metadata": {},
   "outputs": [],
   "source": []
  },
  {
   "cell_type": "markdown",
   "metadata": {},
   "source": [
    "### Exercises: lists and tuples. Help me solve this!\n",
    "\n",
    "1. Build a list containing all the letters in the alphabet: [\"a\", \"b\", \"c\", ..., \"z\"]\n",
    "2. Build a list containing all the letter in the alphabet backwards: [\"z\", \"y\", ..., \"a\"]\n",
    "3. Build a list containing every second letter in the alphabet backwards: [\"z\", \"x\", ..., \"b\"]\n",
    "4. Build a list with all the vowels, another containing all the consonants. Build a list containing alphabet using them, in alphabetic order!\n",
    "5. If a=1, b=2, and so on, how much do the letters in my name add up to? Who has the heaviest name? And the lightest? \n"
   ]
  },
  {
   "cell_type": "code",
   "execution_count": 55,
   "metadata": {},
   "outputs": [
    {
     "name": "stdout",
     "output_type": "stream",
     "text": [
      "['a', 'b', 'c', 'd', 'e', 'f', 'g', 'h', 'i', 'j', 'k', 'l', 'm', 'n', 'o', 'p', 'q', 'r', 's', 't', 'u', 'v', 'w', 'x', 'y', 'z']\n",
      "['z', 'y', 'x', 'w', 'v', 'u', 't', 's', 'r', 'q', 'p', 'o', 'n', 'm', 'l', 'k', 'j', 'i', 'h', 'g', 'f', 'e', 'd', 'c', 'b', 'a']\n",
      "['z', 'x', 'v', 't', 'r', 'p', 'n', 'l', 'j', 'h', 'f', 'd', 'b']\n",
      "['a', 'b', 'c', 'd', 'e', 'f', 'g', 'h', 'i', 'j', 'k', 'l', 'm', 'n', 'o', 'p', 'q', 'r', 's', 't', 'u', 'v', 'w', 'x', 'y', 'z']\n",
      "102\n"
     ]
    }
   ],
   "source": [
    "########### 1\n",
    "import string\n",
    "letters1 = list(string.ascii_lowercase)\n",
    "print(letters1)\n",
    "########### 2\n",
    "letters1.reverse()\n",
    "print(letters1)\n",
    "########### 3\n",
    "print(letters1[::2])\n",
    "########### 4\n",
    "lettersC = ['b', 'c', 'd', 'f', 'g', 'h', 'j', 'k', 'l', 'm', 'n', 'p', 'q', 'r', 's', 't', 'v', 'w', 'x', 'y', 'z']\n",
    "lettersV = ['a', 'e', 'i', 'o', 'u']\n",
    "lettersC.extend(lettersV)\n",
    "lettersC.sort()\n",
    "print(lettersC)\n",
    "########### 5\n",
    "letters1 = list(string.ascii_lowercase)\n",
    "def swapc(var1):\n",
    "    weight=0\n",
    "    for elem in var1:\n",
    "        index = (letters1.index(elem))+1  \n",
    "        weight+=index\n",
    "      \n",
    "    print(weight)    \n",
    "swapc(\"nooblucas\")"
   ]
  },
  {
   "cell_type": "markdown",
   "metadata": {},
   "source": [
    "# "
   ]
  },
  {
   "cell_type": "code",
   "execution_count": null,
   "metadata": {},
   "outputs": [],
   "source": []
  }
 ],
 "metadata": {
  "kernelspec": {
   "display_name": "Python 3 (ipykernel)",
   "language": "python",
   "name": "python3"
  },
  "language_info": {
   "codemirror_mode": {
    "name": "ipython",
    "version": 3
   },
   "file_extension": ".py",
   "mimetype": "text/x-python",
   "name": "python",
   "nbconvert_exporter": "python",
   "pygments_lexer": "ipython3",
   "version": "3.9.12"
  },
  "vscode": {
   "interpreter": {
    "hash": "a9f295c814a5ce7ff0b0a20f2b13117bfaf008fc7980e281f2c2bfa8e9ec0fbf"
   }
  }
 },
 "nbformat": 4,
 "nbformat_minor": 4
}
