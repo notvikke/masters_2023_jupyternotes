{
 "cells": [
  {
   "cell_type": "markdown",
   "id": "6d9304c5",
   "metadata": {},
   "source": [
    "### Session 4. \n",
    "Let's start with a brush up about the tabular data. \n",
    "\n",
    "First of all, the simple things."
   ]
  },
  {
   "cell_type": "markdown",
   "id": "55594415",
   "metadata": {},
   "source": [
    "#### How to import Pandas and NumPy?\n",
    "- The common practice is to import the ```pandas``` module with alias ```pd```.\n",
    "- While NumPy with ```numpy``` module with alias ```np```."
   ]
  },
  {
   "cell_type": "code",
   "execution_count": 1,
   "id": "ed618c9e",
   "metadata": {},
   "outputs": [],
   "source": [
    "import pandas as pd\n",
    "import numpy as np"
   ]
  },
  {
   "cell_type": "markdown",
   "id": "04134f94",
   "metadata": {},
   "source": [
    "#### But wait.. what are these things actually?\n",
    "- We have seen so far lists, dictionaries and even JSON formats. \n",
    "- Pandas benefits by using a familiar tabular data format that divides data between rows and columns. \n",
    "\n",
    "Following makes it easy to understand how Pandas benefits with clarity.\n",
    "I don't expect you to code it. "
   ]
  },
  {
   "cell_type": "markdown",
   "id": "d1ab0a2d",
   "metadata": {},
   "source": [
    "#### Let's say you want to have a organized format for your data. In a list it would look like this: "
   ]
  },
  {
   "cell_type": "code",
   "execution_count": 2,
   "id": "b2d2bc52",
   "metadata": {},
   "outputs": [
    {
     "name": "stdout",
     "output_type": "stream",
     "text": [
      "['Tim Cook', 'Elon Musk', 'Mark Zuckerberg']\n"
     ]
    }
   ],
   "source": [
    "tech_leaders = [\"Tim Cook\", \"Elon Musk\", \"Mark Zuckerberg\"]\n",
    "print(tech_leaders)"
   ]
  },
  {
   "cell_type": "markdown",
   "id": "5b27e1d7",
   "metadata": {},
   "source": [
    "- Let's say we want to calculate their average age.\n",
    "- We can add another list with age for sure. "
   ]
  },
  {
   "cell_type": "code",
   "execution_count": 3,
   "id": "dc6cbdaa",
   "metadata": {},
   "outputs": [],
   "source": [
    "ages = [62, 51, 38]"
   ]
  },
  {
   "cell_type": "markdown",
   "id": "8480838f",
   "metadata": {},
   "source": [
    "But what is the relationships here? These are just separate lists.. \n",
    "We could turn it into a dictionary with zip function and calculate the average by unpacking the values and dividing with the length of the dictionary."
   ]
  },
  {
   "cell_type": "code",
   "execution_count": 4,
   "id": "a37a6e77",
   "metadata": {},
   "outputs": [
    {
     "name": "stdout",
     "output_type": "stream",
     "text": [
      "{'Tim Cook': 62, 'Elon Musk': 51, 'Mark Zuckerberg': 38}\n",
      "50.333333333333336\n"
     ]
    }
   ],
   "source": [
    "tech_leaders_dict = dict(zip(tech_leaders, ages))\n",
    "print(tech_leaders_dict)\n",
    "print(sum([*tech_leaders_dict.values()])/len(tech_leaders_dict))"
   ]
  },
  {
   "cell_type": "markdown",
   "id": "6402ce24",
   "metadata": {},
   "source": [
    "What if we add their networth here now?"
   ]
  },
  {
   "cell_type": "code",
   "execution_count": 5,
   "id": "2be354a4",
   "metadata": {},
   "outputs": [],
   "source": [
    "net_worth = [1.8, 265, 127]"
   ]
  },
  {
   "cell_type": "markdown",
   "id": "86cf08a2",
   "metadata": {},
   "source": [
    " ... as you can see it gets very complicated like this. \n",
    " We would need to have a very complicated data structure like a nested dictionary to work with the file. However, if our goal is analytics - we want tools to make it easier to work with data. \n",
    " \n",
    "Pandas is exactly that. It helps to abstract away some of the programming required to work with large datasets. "
   ]
  },
  {
   "cell_type": "markdown",
   "id": "521c56a5",
   "metadata": {},
   "source": [
    "#### How would we do it with Pandas?\n",
    "- We would need to first define a DataFrame. \n",
    "- We do it by setting up our first column and calling it's column name.\n"
   ]
  },
  {
   "cell_type": "code",
   "execution_count": 6,
   "id": "03a3ff03",
   "metadata": {},
   "outputs": [
    {
     "data": {
      "text/html": [
       "<div>\n",
       "<style scoped>\n",
       "    .dataframe tbody tr th:only-of-type {\n",
       "        vertical-align: middle;\n",
       "    }\n",
       "\n",
       "    .dataframe tbody tr th {\n",
       "        vertical-align: top;\n",
       "    }\n",
       "\n",
       "    .dataframe thead th {\n",
       "        text-align: right;\n",
       "    }\n",
       "</style>\n",
       "<table border=\"1\" class=\"dataframe\">\n",
       "  <thead>\n",
       "    <tr style=\"text-align: right;\">\n",
       "      <th></th>\n",
       "      <th>tech_leaders</th>\n",
       "    </tr>\n",
       "  </thead>\n",
       "  <tbody>\n",
       "    <tr>\n",
       "      <th>0</th>\n",
       "      <td>Tim Cook</td>\n",
       "    </tr>\n",
       "    <tr>\n",
       "      <th>1</th>\n",
       "      <td>Elon Musk</td>\n",
       "    </tr>\n",
       "    <tr>\n",
       "      <th>2</th>\n",
       "      <td>Mark Zuckerberg</td>\n",
       "    </tr>\n",
       "  </tbody>\n",
       "</table>\n",
       "</div>"
      ],
      "text/plain": [
       "      tech_leaders\n",
       "0         Tim Cook\n",
       "1        Elon Musk\n",
       "2  Mark Zuckerberg"
      ]
     },
     "execution_count": 6,
     "metadata": {},
     "output_type": "execute_result"
    }
   ],
   "source": [
    "data = pd.DataFrame(tech_leaders, columns=[\"tech_leaders\"])\n",
    "data"
   ]
  },
  {
   "cell_type": "markdown",
   "id": "7c28d977",
   "metadata": {},
   "source": [
    "#### If we have more than one value?"
   ]
  },
  {
   "cell_type": "code",
   "execution_count": 7,
   "id": "729b565b",
   "metadata": {},
   "outputs": [
    {
     "data": {
      "text/html": [
       "<div>\n",
       "<style scoped>\n",
       "    .dataframe tbody tr th:only-of-type {\n",
       "        vertical-align: middle;\n",
       "    }\n",
       "\n",
       "    .dataframe tbody tr th {\n",
       "        vertical-align: top;\n",
       "    }\n",
       "\n",
       "    .dataframe thead th {\n",
       "        text-align: right;\n",
       "    }\n",
       "</style>\n",
       "<table border=\"1\" class=\"dataframe\">\n",
       "  <thead>\n",
       "    <tr style=\"text-align: right;\">\n",
       "      <th></th>\n",
       "      <th>tech_leaders</th>\n",
       "      <th>ages</th>\n",
       "      <th>net_worth</th>\n",
       "    </tr>\n",
       "  </thead>\n",
       "  <tbody>\n",
       "    <tr>\n",
       "      <th>0</th>\n",
       "      <td>Tim Cook</td>\n",
       "      <td>62</td>\n",
       "      <td>1.8</td>\n",
       "    </tr>\n",
       "    <tr>\n",
       "      <th>1</th>\n",
       "      <td>Elon Musk</td>\n",
       "      <td>51</td>\n",
       "      <td>265.0</td>\n",
       "    </tr>\n",
       "    <tr>\n",
       "      <th>2</th>\n",
       "      <td>Mark Zuckerberg</td>\n",
       "      <td>38</td>\n",
       "      <td>127.0</td>\n",
       "    </tr>\n",
       "  </tbody>\n",
       "</table>\n",
       "</div>"
      ],
      "text/plain": [
       "      tech_leaders  ages  net_worth\n",
       "0         Tim Cook    62        1.8\n",
       "1        Elon Musk    51      265.0\n",
       "2  Mark Zuckerberg    38      127.0"
      ]
     },
     "execution_count": 7,
     "metadata": {},
     "output_type": "execute_result"
    }
   ],
   "source": [
    "# We can achieve this for example with: \n",
    "dict_of_tech_leaders = {\n",
    "    \"tech_leaders\": tech_leaders,\n",
    "    \"ages\": ages,\n",
    "    \"net_worth\": net_worth\n",
    "}\n",
    "\n",
    "df = pd.DataFrame(dict_of_tech_leaders)\n",
    "df"
   ]
  },
  {
   "cell_type": "markdown",
   "id": "9e9c455d",
   "metadata": {},
   "source": [
    "### What if we want to work with flat files such as CSVs?\n",
    "- Pandas provides that a function for that -> pd.read_csv()\n",
    "- This takes as arguments the file itself, with numerous optional parameters that I encourage to look into"
   ]
  },
  {
   "cell_type": "markdown",
   "id": "f9a5d0ad",
   "metadata": {},
   "source": [
    "#### Exercise 1 - Descriptive Analysis\n",
    "- For that, we will use the forbes_billionaires dataset. \n",
    "1. What is the shape of the dataframe?\n",
    "2. What columns do we have? Show it in a list. \n",
    "3. What are the datatypes of the columns?\n",
    "4. Take a look at the top and bottom rows - How would you do it for top 10, bottom 10? \n",
    "5. Look the 99th row. \n",
    "6. Describe the dataframe with standard deviation, max, min, mean of the numerical values.\n",
    "7. Is there any NA values? If yes, drop them. \n",
    "8. What is the shape after dropping the values?"
   ]
  },
  {
   "cell_type": "markdown",
   "id": "bbbdeb11",
   "metadata": {},
   "source": [
    "## Exercise 1 - Solutions"
   ]
  },
  {
   "cell_type": "code",
   "execution_count": 8,
   "id": "72eae832",
   "metadata": {},
   "outputs": [
    {
     "name": "stdout",
     "output_type": "stream",
     "text": [
      "C:\\Users\\ragna\\ie_programming_lab\n"
     ]
    }
   ],
   "source": [
    "import os \n",
    "print(os.getcwd())"
   ]
  },
  {
   "cell_type": "markdown",
   "id": "f64c7642",
   "metadata": {},
   "source": [
    "#### 1.0 Reading the CSV file with pd.read_csv()"
   ]
  },
  {
   "cell_type": "code",
   "execution_count": 9,
   "id": "2d5a5302",
   "metadata": {},
   "outputs": [],
   "source": [
    "df = pd.read_csv(\"forbes_billionaires.csv\")"
   ]
  },
  {
   "cell_type": "markdown",
   "id": "29893e72",
   "metadata": {},
   "source": [
    "####  1.1 .shape method"
   ]
  },
  {
   "cell_type": "code",
   "execution_count": 10,
   "id": "a608c79b",
   "metadata": {},
   "outputs": [
    {
     "data": {
      "text/plain": [
       "(2755, 7)"
      ]
     },
     "execution_count": 10,
     "metadata": {},
     "output_type": "execute_result"
    }
   ],
   "source": [
    "# This dataset has 27\n",
    "df.shape"
   ]
  },
  {
   "cell_type": "markdown",
   "id": "e8138286",
   "metadata": {},
   "source": [
    "####  1.2 .columns method"
   ]
  },
  {
   "cell_type": "code",
   "execution_count": 11,
   "id": "1737ce13",
   "metadata": {},
   "outputs": [
    {
     "name": "stdout",
     "output_type": "stream",
     "text": [
      "0th column is Name\n",
      "1th column is NetWorth\n",
      "2th column is Country\n",
      "3th column is Source\n",
      "4th column is Rank\n",
      "5th column is Age\n",
      "6th column is Industry\n"
     ]
    },
    {
     "data": {
      "text/plain": [
       "['Name', 'NetWorth', 'Country', 'Source', 'Rank', 'Age', 'Industry']"
      ]
     },
     "execution_count": 11,
     "metadata": {},
     "output_type": "execute_result"
    }
   ],
   "source": [
    "df.columns # gets you the columns\n",
    "\n",
    "# You can do all sorts of operations with that\n",
    "for idx, col in enumerate(df.columns):\n",
    "    print(str(idx) + \"th column is \" + col)\n",
    "    \n",
    "# To get it in a list, we simply convert the type.\n",
    "list(df.columns)"
   ]
  },
  {
   "cell_type": "markdown",
   "id": "917f4e5b",
   "metadata": {},
   "source": [
    "####  1.3 .dtypes method"
   ]
  },
  {
   "cell_type": "code",
   "execution_count": 12,
   "id": "c408cbf7",
   "metadata": {},
   "outputs": [
    {
     "data": {
      "text/plain": [
       "Name         object\n",
       "NetWorth     object\n",
       "Country      object\n",
       "Source       object\n",
       "Rank          int64\n",
       "Age         float64\n",
       "Industry     object\n",
       "dtype: object"
      ]
     },
     "execution_count": 12,
     "metadata": {},
     "output_type": "execute_result"
    }
   ],
   "source": [
    "df.dtypes"
   ]
  },
  {
   "cell_type": "markdown",
   "id": "e9813992",
   "metadata": {},
   "source": [
    "####  1.4 .head(), tail() methods"
   ]
  },
  {
   "cell_type": "code",
   "execution_count": 13,
   "id": "19c71dcd",
   "metadata": {},
   "outputs": [
    {
     "data": {
      "text/html": [
       "<div>\n",
       "<style scoped>\n",
       "    .dataframe tbody tr th:only-of-type {\n",
       "        vertical-align: middle;\n",
       "    }\n",
       "\n",
       "    .dataframe tbody tr th {\n",
       "        vertical-align: top;\n",
       "    }\n",
       "\n",
       "    .dataframe thead th {\n",
       "        text-align: right;\n",
       "    }\n",
       "</style>\n",
       "<table border=\"1\" class=\"dataframe\">\n",
       "  <thead>\n",
       "    <tr style=\"text-align: right;\">\n",
       "      <th></th>\n",
       "      <th>Name</th>\n",
       "      <th>NetWorth</th>\n",
       "      <th>Country</th>\n",
       "      <th>Source</th>\n",
       "      <th>Rank</th>\n",
       "      <th>Age</th>\n",
       "      <th>Industry</th>\n",
       "    </tr>\n",
       "  </thead>\n",
       "  <tbody>\n",
       "    <tr>\n",
       "      <th>0</th>\n",
       "      <td>Jeff Bezos</td>\n",
       "      <td>$177 B</td>\n",
       "      <td>United States</td>\n",
       "      <td>Amazon</td>\n",
       "      <td>1</td>\n",
       "      <td>57.0</td>\n",
       "      <td>Technology</td>\n",
       "    </tr>\n",
       "    <tr>\n",
       "      <th>1</th>\n",
       "      <td>Elon Musk</td>\n",
       "      <td>$151 B</td>\n",
       "      <td>United States</td>\n",
       "      <td>Tesla, SpaceX</td>\n",
       "      <td>2</td>\n",
       "      <td>49.0</td>\n",
       "      <td>Automotive</td>\n",
       "    </tr>\n",
       "    <tr>\n",
       "      <th>2</th>\n",
       "      <td>Bernard Arnault &amp; family</td>\n",
       "      <td>$150 B</td>\n",
       "      <td>France</td>\n",
       "      <td>LVMH</td>\n",
       "      <td>3</td>\n",
       "      <td>72.0</td>\n",
       "      <td>Fashion &amp; Retail</td>\n",
       "    </tr>\n",
       "    <tr>\n",
       "      <th>3</th>\n",
       "      <td>Bill Gates</td>\n",
       "      <td>$124 B</td>\n",
       "      <td>United States</td>\n",
       "      <td>Microsoft</td>\n",
       "      <td>4</td>\n",
       "      <td>65.0</td>\n",
       "      <td>Technology</td>\n",
       "    </tr>\n",
       "    <tr>\n",
       "      <th>4</th>\n",
       "      <td>Mark Zuckerberg</td>\n",
       "      <td>$97 B</td>\n",
       "      <td>United States</td>\n",
       "      <td>Facebook</td>\n",
       "      <td>5</td>\n",
       "      <td>36.0</td>\n",
       "      <td>Technology</td>\n",
       "    </tr>\n",
       "    <tr>\n",
       "      <th>5</th>\n",
       "      <td>Warren Buffett</td>\n",
       "      <td>$96 B</td>\n",
       "      <td>United States</td>\n",
       "      <td>Berkshire Hathaway</td>\n",
       "      <td>6</td>\n",
       "      <td>90.0</td>\n",
       "      <td>Finance &amp; Investments</td>\n",
       "    </tr>\n",
       "    <tr>\n",
       "      <th>6</th>\n",
       "      <td>Larry Ellison</td>\n",
       "      <td>$93 B</td>\n",
       "      <td>United States</td>\n",
       "      <td>software</td>\n",
       "      <td>7</td>\n",
       "      <td>76.0</td>\n",
       "      <td>Technology</td>\n",
       "    </tr>\n",
       "    <tr>\n",
       "      <th>7</th>\n",
       "      <td>Larry Page</td>\n",
       "      <td>$91.5 B</td>\n",
       "      <td>United States</td>\n",
       "      <td>Google</td>\n",
       "      <td>8</td>\n",
       "      <td>48.0</td>\n",
       "      <td>Technology</td>\n",
       "    </tr>\n",
       "    <tr>\n",
       "      <th>8</th>\n",
       "      <td>Sergey Brin</td>\n",
       "      <td>$89 B</td>\n",
       "      <td>United States</td>\n",
       "      <td>Google</td>\n",
       "      <td>9</td>\n",
       "      <td>47.0</td>\n",
       "      <td>Technology</td>\n",
       "    </tr>\n",
       "    <tr>\n",
       "      <th>9</th>\n",
       "      <td>Mukesh Ambani</td>\n",
       "      <td>$84.5 B</td>\n",
       "      <td>India</td>\n",
       "      <td>diversified</td>\n",
       "      <td>10</td>\n",
       "      <td>63.0</td>\n",
       "      <td>Diversified</td>\n",
       "    </tr>\n",
       "  </tbody>\n",
       "</table>\n",
       "</div>"
      ],
      "text/plain": [
       "                       Name NetWorth        Country              Source  Rank  \\\n",
       "0                Jeff Bezos   $177 B  United States              Amazon     1   \n",
       "1                 Elon Musk   $151 B  United States       Tesla, SpaceX     2   \n",
       "2  Bernard Arnault & family   $150 B         France                LVMH     3   \n",
       "3                Bill Gates   $124 B  United States           Microsoft     4   \n",
       "4           Mark Zuckerberg    $97 B  United States            Facebook     5   \n",
       "5            Warren Buffett    $96 B  United States  Berkshire Hathaway     6   \n",
       "6             Larry Ellison    $93 B  United States            software     7   \n",
       "7                Larry Page  $91.5 B  United States              Google     8   \n",
       "8               Sergey Brin    $89 B  United States              Google     9   \n",
       "9             Mukesh Ambani  $84.5 B          India         diversified    10   \n",
       "\n",
       "    Age               Industry  \n",
       "0  57.0             Technology  \n",
       "1  49.0             Automotive  \n",
       "2  72.0       Fashion & Retail  \n",
       "3  65.0             Technology  \n",
       "4  36.0             Technology  \n",
       "5  90.0  Finance & Investments  \n",
       "6  76.0             Technology  \n",
       "7  48.0             Technology  \n",
       "8  47.0             Technology  \n",
       "9  63.0            Diversified  "
      ]
     },
     "execution_count": 13,
     "metadata": {},
     "output_type": "execute_result"
    }
   ],
   "source": [
    "# To get the top 5 rows\n",
    "df.head(10)"
   ]
  },
  {
   "cell_type": "code",
   "execution_count": 14,
   "id": "52ed266e",
   "metadata": {
    "scrolled": true
   },
   "outputs": [
    {
     "data": {
      "text/html": [
       "<div>\n",
       "<style scoped>\n",
       "    .dataframe tbody tr th:only-of-type {\n",
       "        vertical-align: middle;\n",
       "    }\n",
       "\n",
       "    .dataframe tbody tr th {\n",
       "        vertical-align: top;\n",
       "    }\n",
       "\n",
       "    .dataframe thead th {\n",
       "        text-align: right;\n",
       "    }\n",
       "</style>\n",
       "<table border=\"1\" class=\"dataframe\">\n",
       "  <thead>\n",
       "    <tr style=\"text-align: right;\">\n",
       "      <th></th>\n",
       "      <th>Name</th>\n",
       "      <th>NetWorth</th>\n",
       "      <th>Country</th>\n",
       "      <th>Source</th>\n",
       "      <th>Rank</th>\n",
       "      <th>Age</th>\n",
       "      <th>Industry</th>\n",
       "    </tr>\n",
       "  </thead>\n",
       "  <tbody>\n",
       "    <tr>\n",
       "      <th>2750</th>\n",
       "      <td>Daniel Yong Zhang</td>\n",
       "      <td>$1 B</td>\n",
       "      <td>China</td>\n",
       "      <td>e-commerce</td>\n",
       "      <td>2674</td>\n",
       "      <td>49.0</td>\n",
       "      <td>Technology</td>\n",
       "    </tr>\n",
       "    <tr>\n",
       "      <th>2751</th>\n",
       "      <td>Zhang Yuqiang</td>\n",
       "      <td>$1 B</td>\n",
       "      <td>China</td>\n",
       "      <td>Fiberglass</td>\n",
       "      <td>2674</td>\n",
       "      <td>65.0</td>\n",
       "      <td>Manufacturing</td>\n",
       "    </tr>\n",
       "    <tr>\n",
       "      <th>2752</th>\n",
       "      <td>Zhao Meiguang</td>\n",
       "      <td>$1 B</td>\n",
       "      <td>China</td>\n",
       "      <td>gold mining</td>\n",
       "      <td>2674</td>\n",
       "      <td>58.0</td>\n",
       "      <td>Metals &amp; Mining</td>\n",
       "    </tr>\n",
       "    <tr>\n",
       "      <th>2753</th>\n",
       "      <td>Zhong Naixiong</td>\n",
       "      <td>$1 B</td>\n",
       "      <td>China</td>\n",
       "      <td>conglomerate</td>\n",
       "      <td>2674</td>\n",
       "      <td>58.0</td>\n",
       "      <td>Diversified</td>\n",
       "    </tr>\n",
       "    <tr>\n",
       "      <th>2754</th>\n",
       "      <td>Zhou Wei family</td>\n",
       "      <td>$1 B</td>\n",
       "      <td>China</td>\n",
       "      <td>Software</td>\n",
       "      <td>2674</td>\n",
       "      <td>54.0</td>\n",
       "      <td>Technology</td>\n",
       "    </tr>\n",
       "  </tbody>\n",
       "</table>\n",
       "</div>"
      ],
      "text/plain": [
       "                   Name NetWorth Country        Source  Rank   Age  \\\n",
       "2750  Daniel Yong Zhang     $1 B   China    e-commerce  2674  49.0   \n",
       "2751      Zhang Yuqiang     $1 B   China    Fiberglass  2674  65.0   \n",
       "2752      Zhao Meiguang     $1 B   China   gold mining  2674  58.0   \n",
       "2753     Zhong Naixiong     $1 B   China  conglomerate  2674  58.0   \n",
       "2754    Zhou Wei family     $1 B   China      Software  2674  54.0   \n",
       "\n",
       "             Industry  \n",
       "2750       Technology  \n",
       "2751    Manufacturing  \n",
       "2752  Metals & Mining  \n",
       "2753      Diversified  \n",
       "2754       Technology  "
      ]
     },
     "execution_count": 14,
     "metadata": {},
     "output_type": "execute_result"
    }
   ],
   "source": [
    "# To get the bottom 5 rows\n",
    "df.tail()"
   ]
  },
  {
   "cell_type": "markdown",
   "id": "c03b6232",
   "metadata": {},
   "source": [
    "####  1.5 .iloc() method"
   ]
  },
  {
   "cell_type": "code",
   "execution_count": 15,
   "id": "f24f4f81",
   "metadata": {},
   "outputs": [
    {
     "data": {
      "text/plain": [
       "Name                    Alisher Usmanov\n",
       "NetWorth                        $18.4 B\n",
       "Country                          Russia\n",
       "Source      steel, telecom, investments\n",
       "Rank                                 99\n",
       "Age                                67.0\n",
       "Industry                Metals & Mining\n",
       "Name: 98, dtype: object"
      ]
     },
     "execution_count": 15,
     "metadata": {},
     "output_type": "execute_result"
    }
   ],
   "source": [
    "# To get the 99th row:\n",
    "df.iloc[98]"
   ]
  },
  {
   "cell_type": "markdown",
   "id": "3583d642",
   "metadata": {},
   "source": [
    "####  1.6 .describe() method"
   ]
  },
  {
   "cell_type": "code",
   "execution_count": 16,
   "id": "8e21e313",
   "metadata": {
    "scrolled": false
   },
   "outputs": [
    {
     "data": {
      "text/html": [
       "<div>\n",
       "<style scoped>\n",
       "    .dataframe tbody tr th:only-of-type {\n",
       "        vertical-align: middle;\n",
       "    }\n",
       "\n",
       "    .dataframe tbody tr th {\n",
       "        vertical-align: top;\n",
       "    }\n",
       "\n",
       "    .dataframe thead th {\n",
       "        text-align: right;\n",
       "    }\n",
       "</style>\n",
       "<table border=\"1\" class=\"dataframe\">\n",
       "  <thead>\n",
       "    <tr style=\"text-align: right;\">\n",
       "      <th></th>\n",
       "      <th>Rank</th>\n",
       "      <th>Age</th>\n",
       "    </tr>\n",
       "  </thead>\n",
       "  <tbody>\n",
       "    <tr>\n",
       "      <th>count</th>\n",
       "      <td>2755.000000</td>\n",
       "      <td>2676.000000</td>\n",
       "    </tr>\n",
       "    <tr>\n",
       "      <th>mean</th>\n",
       "      <td>1345.663521</td>\n",
       "      <td>63.113602</td>\n",
       "    </tr>\n",
       "    <tr>\n",
       "      <th>std</th>\n",
       "      <td>772.669811</td>\n",
       "      <td>13.445153</td>\n",
       "    </tr>\n",
       "    <tr>\n",
       "      <th>min</th>\n",
       "      <td>1.000000</td>\n",
       "      <td>18.000000</td>\n",
       "    </tr>\n",
       "    <tr>\n",
       "      <th>25%</th>\n",
       "      <td>680.000000</td>\n",
       "      <td>54.000000</td>\n",
       "    </tr>\n",
       "    <tr>\n",
       "      <th>50%</th>\n",
       "      <td>1362.000000</td>\n",
       "      <td>63.000000</td>\n",
       "    </tr>\n",
       "    <tr>\n",
       "      <th>75%</th>\n",
       "      <td>2035.000000</td>\n",
       "      <td>73.000000</td>\n",
       "    </tr>\n",
       "    <tr>\n",
       "      <th>max</th>\n",
       "      <td>2674.000000</td>\n",
       "      <td>99.000000</td>\n",
       "    </tr>\n",
       "  </tbody>\n",
       "</table>\n",
       "</div>"
      ],
      "text/plain": [
       "              Rank          Age\n",
       "count  2755.000000  2676.000000\n",
       "mean   1345.663521    63.113602\n",
       "std     772.669811    13.445153\n",
       "min       1.000000    18.000000\n",
       "25%     680.000000    54.000000\n",
       "50%    1362.000000    63.000000\n",
       "75%    2035.000000    73.000000\n",
       "max    2674.000000    99.000000"
      ]
     },
     "execution_count": 16,
     "metadata": {},
     "output_type": "execute_result"
    }
   ],
   "source": [
    "df.describe()"
   ]
  },
  {
   "cell_type": "markdown",
   "id": "11ecee92",
   "metadata": {},
   "source": [
    "####  1.7 .isna() and .dropna() methods"
   ]
  },
  {
   "cell_type": "code",
   "execution_count": 17,
   "id": "b783e31e",
   "metadata": {},
   "outputs": [
    {
     "name": "stdout",
     "output_type": "stream",
     "text": [
      "True True\n"
     ]
    },
    {
     "data": {
      "text/plain": [
       "Name         0\n",
       "NetWorth     0\n",
       "Country      0\n",
       "Source       0\n",
       "Rank         0\n",
       "Age         79\n",
       "Industry     0\n",
       "dtype: int64"
      ]
     },
     "execution_count": 17,
     "metadata": {},
     "output_type": "execute_result"
    }
   ],
   "source": [
    "# For that, we will use isna() Pandas method.\n",
    "df.isna()\n",
    "\n",
    "# However, that returns a boolean value whether a given value is NA. \n",
    "# Keep in mind that False == 0 and True == 1. \n",
    "# This means, that by summarizing all the values in a column we understand where missing values are. \n",
    "\n",
    "print(False == 0, True == 1)\n",
    "\n",
    "df.isna().sum()"
   ]
  },
  {
   "cell_type": "code",
   "execution_count": 18,
   "id": "6c30df99",
   "metadata": {},
   "outputs": [],
   "source": [
    "df = df.dropna()"
   ]
  },
  {
   "cell_type": "code",
   "execution_count": 19,
   "id": "72538c28",
   "metadata": {},
   "outputs": [
    {
     "data": {
      "text/plain": [
       "(2676, 7)"
      ]
     },
     "execution_count": 19,
     "metadata": {},
     "output_type": "execute_result"
    }
   ],
   "source": [
    "df.shape"
   ]
  },
  {
   "cell_type": "markdown",
   "id": "eb9c5f9a",
   "metadata": {},
   "source": [
    "#### Exercise 2 - Simple operations\n",
    "1. How many people in the dataset are from Spain?\n",
    "2. Who is the richest in Spain? Who are the top 3 richest in Spain? \n",
    "3. What is the average age in Spain?\n",
    "4. Who is the youngest? Who is the oldest in the whole dataset?\n",
    "5. How many people are in the dataset who are below 30 years old? Show them. \n",
    "6. Who are the 5 oldest in the list?\n",
    "7. Print on each line the name of the five oldest in the list with their wealth and rank. (e.g. George Joseph is ranked 1580 in the world with $2 B of wealth). Order them by their rank."
   ]
  },
  {
   "cell_type": "markdown",
   "id": "1f4b01b3",
   "metadata": {},
   "source": [
    "## Solutions"
   ]
  },
  {
   "cell_type": "markdown",
   "id": "b0b976b6",
   "metadata": {},
   "source": [
    "####  2.1 Richest people from Spain count. "
   ]
  },
  {
   "cell_type": "code",
   "execution_count": 34,
   "id": "8f506b95",
   "metadata": {},
   "outputs": [],
   "source": [
    "# We can make our lives easier by creating a dataframe from our existing one. \n",
    "spain_df = df[df['Country'] == 'Spain']"
   ]
  },
  {
   "cell_type": "code",
   "execution_count": 21,
   "id": "bf462e36",
   "metadata": {},
   "outputs": [
    {
     "data": {
      "text/plain": [
       "28"
      ]
     },
     "execution_count": 21,
     "metadata": {},
     "output_type": "execute_result"
    }
   ],
   "source": [
    "# Using len()\n",
    "len(df[df['Country'] == 'Spain'])\n",
    "\n",
    "# or \n",
    "len(spain_df)"
   ]
  },
  {
   "cell_type": "code",
   "execution_count": 32,
   "id": "f2424cd7",
   "metadata": {},
   "outputs": [
    {
     "data": {
      "text/plain": [
       "28"
      ]
     },
     "execution_count": 32,
     "metadata": {},
     "output_type": "execute_result"
    }
   ],
   "source": [
    "# Using count, shape will give us also indication\n",
    "df[df['Country'] == 'Spain'].count()\n",
    "df[df['Country'] == 'Spain'].shape[0]"
   ]
  },
  {
   "cell_type": "markdown",
   "id": "350d4622",
   "metadata": {},
   "source": [
    "####  2.2 Top 3 in Spain"
   ]
  },
  {
   "cell_type": "code",
   "execution_count": 23,
   "id": "64504bb9",
   "metadata": {},
   "outputs": [
    {
     "data": {
      "text/html": [
       "<div>\n",
       "<style scoped>\n",
       "    .dataframe tbody tr th:only-of-type {\n",
       "        vertical-align: middle;\n",
       "    }\n",
       "\n",
       "    .dataframe tbody tr th {\n",
       "        vertical-align: top;\n",
       "    }\n",
       "\n",
       "    .dataframe thead th {\n",
       "        text-align: right;\n",
       "    }\n",
       "</style>\n",
       "<table border=\"1\" class=\"dataframe\">\n",
       "  <thead>\n",
       "    <tr style=\"text-align: right;\">\n",
       "      <th></th>\n",
       "      <th>Name</th>\n",
       "      <th>NetWorth</th>\n",
       "      <th>Country</th>\n",
       "      <th>Source</th>\n",
       "      <th>Rank</th>\n",
       "      <th>Age</th>\n",
       "      <th>Industry</th>\n",
       "    </tr>\n",
       "  </thead>\n",
       "  <tbody>\n",
       "    <tr>\n",
       "      <th>10</th>\n",
       "      <td>Amancio Ortega</td>\n",
       "      <td>$77 B</td>\n",
       "      <td>Spain</td>\n",
       "      <td>Zara</td>\n",
       "      <td>11</td>\n",
       "      <td>85.0</td>\n",
       "      <td>Fashion &amp; Retail</td>\n",
       "    </tr>\n",
       "    <tr>\n",
       "      <th>348</th>\n",
       "      <td>Sandra Ortega Mera</td>\n",
       "      <td>$7.3 B</td>\n",
       "      <td>Spain</td>\n",
       "      <td>Zara</td>\n",
       "      <td>344</td>\n",
       "      <td>52.0</td>\n",
       "      <td>Fashion &amp; Retail</td>\n",
       "    </tr>\n",
       "    <tr>\n",
       "      <th>697</th>\n",
       "      <td>Juan Roig</td>\n",
       "      <td>$4.2 B</td>\n",
       "      <td>Spain</td>\n",
       "      <td>supermarkets</td>\n",
       "      <td>680</td>\n",
       "      <td>71.0</td>\n",
       "      <td>Fashion &amp; Retail</td>\n",
       "    </tr>\n",
       "  </tbody>\n",
       "</table>\n",
       "</div>"
      ],
      "text/plain": [
       "                   Name NetWorth Country        Source  Rank   Age  \\\n",
       "10       Amancio Ortega    $77 B   Spain          Zara    11  85.0   \n",
       "348  Sandra Ortega Mera   $7.3 B   Spain          Zara   344  52.0   \n",
       "697           Juan Roig   $4.2 B   Spain  supermarkets   680  71.0   \n",
       "\n",
       "             Industry  \n",
       "10   Fashion & Retail  \n",
       "348  Fashion & Retail  \n",
       "697  Fashion & Retail  "
      ]
     },
     "execution_count": 23,
     "metadata": {},
     "output_type": "execute_result"
    }
   ],
   "source": [
    "# Top 3 - we can use .head() method. \n",
    "df[df['Country'] == 'Spain'].head(3)"
   ]
  },
  {
   "cell_type": "markdown",
   "id": "523c8190",
   "metadata": {},
   "source": [
    "####  2.3 Average age in Spain"
   ]
  },
  {
   "cell_type": "code",
   "execution_count": 24,
   "id": "e9257b58",
   "metadata": {
    "scrolled": true
   },
   "outputs": [
    {
     "data": {
      "text/plain": [
       "68.82142857142857"
      ]
     },
     "execution_count": 24,
     "metadata": {},
     "output_type": "execute_result"
    }
   ],
   "source": [
    "# To get the average age in Spain: \n",
    "spain_df['Age'].mean()\n",
    "\n",
    "df[df['Country'] == 'Spain']['Age'].mean()\n",
    "# or \n",
    "df[df['Country'] == 'Spain'].Age.mean()"
   ]
  },
  {
   "cell_type": "markdown",
   "id": "019f9d99",
   "metadata": {},
   "source": [
    "####  2.4 oldest and youngest."
   ]
  },
  {
   "cell_type": "code",
   "execution_count": 41,
   "id": "f7359675",
   "metadata": {},
   "outputs": [
    {
     "data": {
      "text/html": [
       "<div>\n",
       "<style scoped>\n",
       "    .dataframe tbody tr th:only-of-type {\n",
       "        vertical-align: middle;\n",
       "    }\n",
       "\n",
       "    .dataframe tbody tr th {\n",
       "        vertical-align: top;\n",
       "    }\n",
       "\n",
       "    .dataframe thead th {\n",
       "        text-align: right;\n",
       "    }\n",
       "</style>\n",
       "<table border=\"1\" class=\"dataframe\">\n",
       "  <thead>\n",
       "    <tr style=\"text-align: right;\">\n",
       "      <th></th>\n",
       "      <th>Name</th>\n",
       "      <th>NetWorth</th>\n",
       "      <th>Country</th>\n",
       "      <th>Source</th>\n",
       "      <th>Rank</th>\n",
       "      <th>Age</th>\n",
       "      <th>Industry</th>\n",
       "    </tr>\n",
       "  </thead>\n",
       "  <tbody>\n",
       "    <tr>\n",
       "      <th>940</th>\n",
       "      <td>Kevin David Lehmann</td>\n",
       "      <td>$3.3 B</td>\n",
       "      <td>Germany</td>\n",
       "      <td>drugstores</td>\n",
       "      <td>925</td>\n",
       "      <td>18.0</td>\n",
       "      <td>Fashion &amp; Retail</td>\n",
       "    </tr>\n",
       "  </tbody>\n",
       "</table>\n",
       "</div>"
      ],
      "text/plain": [
       "                    Name NetWorth  Country      Source  Rank   Age  \\\n",
       "940  Kevin David Lehmann   $3.3 B  Germany  drugstores   925  18.0   \n",
       "\n",
       "             Industry  \n",
       "940  Fashion & Retail  "
      ]
     },
     "execution_count": 41,
     "metadata": {},
     "output_type": "execute_result"
    }
   ],
   "source": [
    "# Youngest\n",
    "df[df['Age'] == df['Age'].min()]\n",
    "df[df['Age'] == 18.0]\n",
    "\n",
    "# sort_values\n",
    "df.sort_values(by='Age').head(1)"
   ]
  },
  {
   "cell_type": "code",
   "execution_count": 39,
   "id": "b3ead908",
   "metadata": {},
   "outputs": [
    {
     "data": {
      "text/html": [
       "<div>\n",
       "<style scoped>\n",
       "    .dataframe tbody tr th:only-of-type {\n",
       "        vertical-align: middle;\n",
       "    }\n",
       "\n",
       "    .dataframe tbody tr th {\n",
       "        vertical-align: top;\n",
       "    }\n",
       "\n",
       "    .dataframe thead th {\n",
       "        text-align: right;\n",
       "    }\n",
       "</style>\n",
       "<table border=\"1\" class=\"dataframe\">\n",
       "  <thead>\n",
       "    <tr style=\"text-align: right;\">\n",
       "      <th></th>\n",
       "      <th>Name</th>\n",
       "      <th>NetWorth</th>\n",
       "      <th>Country</th>\n",
       "      <th>Source</th>\n",
       "      <th>Rank</th>\n",
       "      <th>Age</th>\n",
       "      <th>Industry</th>\n",
       "    </tr>\n",
       "  </thead>\n",
       "  <tbody>\n",
       "    <tr>\n",
       "      <th>1611</th>\n",
       "      <td>George Joseph</td>\n",
       "      <td>$2 B</td>\n",
       "      <td>United States</td>\n",
       "      <td>insurance</td>\n",
       "      <td>1580</td>\n",
       "      <td>99.0</td>\n",
       "      <td>Finance &amp; Investments</td>\n",
       "    </tr>\n",
       "  </tbody>\n",
       "</table>\n",
       "</div>"
      ],
      "text/plain": [
       "               Name NetWorth        Country     Source  Rank   Age  \\\n",
       "1611  George Joseph     $2 B  United States  insurance  1580  99.0   \n",
       "\n",
       "                   Industry  \n",
       "1611  Finance & Investments  "
      ]
     },
     "execution_count": 39,
     "metadata": {},
     "output_type": "execute_result"
    }
   ],
   "source": [
    "# Oldest\n",
    "df[df['Age'] == df['Age'].max()]\n",
    "\n",
    "# sort_values\n",
    "df.sort_values(by='Age', ascending = False).head(1)"
   ]
  },
  {
   "cell_type": "markdown",
   "id": "842c4699",
   "metadata": {},
   "source": [
    "####  2.5 under 30 years old. "
   ]
  },
  {
   "cell_type": "code",
   "execution_count": 46,
   "id": "07cdd3c6",
   "metadata": {},
   "outputs": [
    {
     "data": {
      "text/plain": [
       "10"
      ]
     },
     "execution_count": 46,
     "metadata": {},
     "output_type": "execute_result"
    }
   ],
   "source": [
    "# Using len\n",
    "len(df[df['Age'] < 30])"
   ]
  },
  {
   "cell_type": "code",
   "execution_count": 48,
   "id": "089c6def",
   "metadata": {},
   "outputs": [
    {
     "data": {
      "text/html": [
       "<div>\n",
       "<style scoped>\n",
       "    .dataframe tbody tr th:only-of-type {\n",
       "        vertical-align: middle;\n",
       "    }\n",
       "\n",
       "    .dataframe tbody tr th {\n",
       "        vertical-align: top;\n",
       "    }\n",
       "\n",
       "    .dataframe thead th {\n",
       "        text-align: right;\n",
       "    }\n",
       "</style>\n",
       "<table border=\"1\" class=\"dataframe\">\n",
       "  <thead>\n",
       "    <tr style=\"text-align: right;\">\n",
       "      <th></th>\n",
       "      <th>Name</th>\n",
       "      <th>NetWorth</th>\n",
       "      <th>Country</th>\n",
       "      <th>Source</th>\n",
       "      <th>Rank</th>\n",
       "      <th>Age</th>\n",
       "      <th>Industry</th>\n",
       "    </tr>\n",
       "  </thead>\n",
       "  <tbody>\n",
       "    <tr>\n",
       "      <th>274</th>\n",
       "      <td>Sam Bankman-Fried</td>\n",
       "      <td>$8.7 B</td>\n",
       "      <td>United States</td>\n",
       "      <td>cryptocurrency</td>\n",
       "      <td>274</td>\n",
       "      <td>29.0</td>\n",
       "      <td>Finance &amp; Investments</td>\n",
       "    </tr>\n",
       "    <tr>\n",
       "      <th>661</th>\n",
       "      <td>Gustav Magnar Witzoe</td>\n",
       "      <td>$4.4 B</td>\n",
       "      <td>Norway</td>\n",
       "      <td>fish farming</td>\n",
       "      <td>655</td>\n",
       "      <td>27.0</td>\n",
       "      <td>Food &amp; Beverage</td>\n",
       "    </tr>\n",
       "    <tr>\n",
       "      <th>940</th>\n",
       "      <td>Kevin David Lehmann</td>\n",
       "      <td>$3.3 B</td>\n",
       "      <td>Germany</td>\n",
       "      <td>drugstores</td>\n",
       "      <td>925</td>\n",
       "      <td>18.0</td>\n",
       "      <td>Fashion &amp; Retail</td>\n",
       "    </tr>\n",
       "    <tr>\n",
       "      <th>1328</th>\n",
       "      <td>Jonathan Kwok</td>\n",
       "      <td>$2.4 B</td>\n",
       "      <td>Hong Kong</td>\n",
       "      <td>Real Estate</td>\n",
       "      <td>1299</td>\n",
       "      <td>29.0</td>\n",
       "      <td>Real Estate</td>\n",
       "    </tr>\n",
       "    <tr>\n",
       "      <th>1338</th>\n",
       "      <td>Austin Russell</td>\n",
       "      <td>$2.4 B</td>\n",
       "      <td>United States</td>\n",
       "      <td>★</td>\n",
       "      <td>1299</td>\n",
       "      <td>26.0</td>\n",
       "      <td>Automotive</td>\n",
       "    </tr>\n",
       "    <tr>\n",
       "      <th>1596</th>\n",
       "      <td>Andy Fang</td>\n",
       "      <td>$2 B</td>\n",
       "      <td>United States</td>\n",
       "      <td>food delivery app</td>\n",
       "      <td>1580</td>\n",
       "      <td>28.0</td>\n",
       "      <td>Technology</td>\n",
       "    </tr>\n",
       "    <tr>\n",
       "      <th>1645</th>\n",
       "      <td>Stanley Tang</td>\n",
       "      <td>$2 B</td>\n",
       "      <td>United States</td>\n",
       "      <td>food delivery app</td>\n",
       "      <td>1580</td>\n",
       "      <td>28.0</td>\n",
       "      <td>Technology</td>\n",
       "    </tr>\n",
       "    <tr>\n",
       "      <th>2122</th>\n",
       "      <td>Wang Zelong</td>\n",
       "      <td>$1.5 B</td>\n",
       "      <td>China</td>\n",
       "      <td>chemicals</td>\n",
       "      <td>2035</td>\n",
       "      <td>24.0</td>\n",
       "      <td>Metals &amp; Mining</td>\n",
       "    </tr>\n",
       "    <tr>\n",
       "      <th>2143</th>\n",
       "      <td>Alexandra Andresen</td>\n",
       "      <td>$1.4 B</td>\n",
       "      <td>Norway</td>\n",
       "      <td>investments</td>\n",
       "      <td>2141</td>\n",
       "      <td>24.0</td>\n",
       "      <td>Diversified</td>\n",
       "    </tr>\n",
       "    <tr>\n",
       "      <th>2144</th>\n",
       "      <td>Katharina Andresen</td>\n",
       "      <td>$1.4 B</td>\n",
       "      <td>Norway</td>\n",
       "      <td>investments</td>\n",
       "      <td>2141</td>\n",
       "      <td>25.0</td>\n",
       "      <td>Diversified</td>\n",
       "    </tr>\n",
       "  </tbody>\n",
       "</table>\n",
       "</div>"
      ],
      "text/plain": [
       "                      Name NetWorth        Country             Source  Rank  \\\n",
       "274      Sam Bankman-Fried   $8.7 B  United States     cryptocurrency   274   \n",
       "661   Gustav Magnar Witzoe   $4.4 B         Norway       fish farming   655   \n",
       "940    Kevin David Lehmann   $3.3 B        Germany         drugstores   925   \n",
       "1328         Jonathan Kwok   $2.4 B      Hong Kong        Real Estate  1299   \n",
       "1338        Austin Russell   $2.4 B  United States                  ★  1299   \n",
       "1596             Andy Fang     $2 B  United States  food delivery app  1580   \n",
       "1645          Stanley Tang     $2 B  United States  food delivery app  1580   \n",
       "2122           Wang Zelong   $1.5 B          China          chemicals  2035   \n",
       "2143    Alexandra Andresen   $1.4 B         Norway        investments  2141   \n",
       "2144    Katharina Andresen   $1.4 B         Norway        investments  2141   \n",
       "\n",
       "       Age               Industry  \n",
       "274   29.0  Finance & Investments  \n",
       "661   27.0        Food & Beverage  \n",
       "940   18.0       Fashion & Retail  \n",
       "1328  29.0            Real Estate  \n",
       "1338  26.0             Automotive  \n",
       "1596  28.0             Technology  \n",
       "1645  28.0             Technology  \n",
       "2122  24.0        Metals & Mining  \n",
       "2143  24.0            Diversified  \n",
       "2144  25.0            Diversified  "
      ]
     },
     "execution_count": 48,
     "metadata": {},
     "output_type": "execute_result"
    }
   ],
   "source": [
    "df[df['Age'] < 30]\n",
    "\n",
    "#df[df['Age'] < 30].sort_values(by=\"NetWorth\", ascending = False)"
   ]
  },
  {
   "cell_type": "markdown",
   "id": "3ec3d6b2",
   "metadata": {},
   "source": [
    "####  2.6 Five oldest billionaires"
   ]
  },
  {
   "cell_type": "code",
   "execution_count": 52,
   "id": "3b6cc46e",
   "metadata": {},
   "outputs": [
    {
     "data": {
      "text/html": [
       "<div>\n",
       "<style scoped>\n",
       "    .dataframe tbody tr th:only-of-type {\n",
       "        vertical-align: middle;\n",
       "    }\n",
       "\n",
       "    .dataframe tbody tr th {\n",
       "        vertical-align: top;\n",
       "    }\n",
       "\n",
       "    .dataframe thead th {\n",
       "        text-align: right;\n",
       "    }\n",
       "</style>\n",
       "<table border=\"1\" class=\"dataframe\">\n",
       "  <thead>\n",
       "    <tr style=\"text-align: right;\">\n",
       "      <th></th>\n",
       "      <th>Name</th>\n",
       "      <th>NetWorth</th>\n",
       "      <th>Country</th>\n",
       "      <th>Source</th>\n",
       "      <th>Rank</th>\n",
       "      <th>Age</th>\n",
       "      <th>Industry</th>\n",
       "    </tr>\n",
       "  </thead>\n",
       "  <tbody>\n",
       "    <tr>\n",
       "      <th>1611</th>\n",
       "      <td>George Joseph</td>\n",
       "      <td>$2 B</td>\n",
       "      <td>United States</td>\n",
       "      <td>insurance</td>\n",
       "      <td>1580</td>\n",
       "      <td>99.0</td>\n",
       "      <td>Finance &amp; Investments</td>\n",
       "    </tr>\n",
       "    <tr>\n",
       "      <th>1626</th>\n",
       "      <td>Charles Munger</td>\n",
       "      <td>$2 B</td>\n",
       "      <td>United States</td>\n",
       "      <td>Berkshire Hathaway</td>\n",
       "      <td>1580</td>\n",
       "      <td>97.0</td>\n",
       "      <td>Finance &amp; Investments</td>\n",
       "    </tr>\n",
       "    <tr>\n",
       "      <th>170</th>\n",
       "      <td>Robert Kuok</td>\n",
       "      <td>$12.6 B</td>\n",
       "      <td>Malaysia</td>\n",
       "      <td>palm oil, shipping, property</td>\n",
       "      <td>171</td>\n",
       "      <td>97.0</td>\n",
       "      <td>Diversified</td>\n",
       "    </tr>\n",
       "    <tr>\n",
       "      <th>1559</th>\n",
       "      <td>David Murdock</td>\n",
       "      <td>$2.1 B</td>\n",
       "      <td>United States</td>\n",
       "      <td>Dole, real estate</td>\n",
       "      <td>1517</td>\n",
       "      <td>97.0</td>\n",
       "      <td>Food &amp; Beverage</td>\n",
       "    </tr>\n",
       "    <tr>\n",
       "      <th>729</th>\n",
       "      <td>Masatoshi Ito</td>\n",
       "      <td>$4 B</td>\n",
       "      <td>Japan</td>\n",
       "      <td>retail</td>\n",
       "      <td>727</td>\n",
       "      <td>96.0</td>\n",
       "      <td>Fashion &amp; Retail</td>\n",
       "    </tr>\n",
       "  </tbody>\n",
       "</table>\n",
       "</div>"
      ],
      "text/plain": [
       "                Name NetWorth        Country                        Source  \\\n",
       "1611   George Joseph     $2 B  United States                     insurance   \n",
       "1626  Charles Munger     $2 B  United States            Berkshire Hathaway   \n",
       "170      Robert Kuok  $12.6 B       Malaysia  palm oil, shipping, property   \n",
       "1559   David Murdock   $2.1 B  United States             Dole, real estate   \n",
       "729    Masatoshi Ito     $4 B          Japan                        retail   \n",
       "\n",
       "      Rank   Age               Industry  \n",
       "1611  1580  99.0  Finance & Investments  \n",
       "1626  1580  97.0  Finance & Investments  \n",
       "170    171  97.0            Diversified  \n",
       "1559  1517  97.0        Food & Beverage  \n",
       "729    727  96.0       Fashion & Retail  "
      ]
     },
     "execution_count": 52,
     "metadata": {},
     "output_type": "execute_result"
    }
   ],
   "source": [
    "df.sort_values(by='Age', ascending = False).head()"
   ]
  },
  {
   "cell_type": "markdown",
   "id": "bf5b8145",
   "metadata": {},
   "source": [
    "####  2.7 Five oldest str. "
   ]
  },
  {
   "cell_type": "code",
   "execution_count": 30,
   "id": "ffb18ab9",
   "metadata": {},
   "outputs": [
    {
     "name": "stdout",
     "output_type": "stream",
     "text": [
      "Robert Kuok is ranked 171 in the world with $12.6 B of wealth\n",
      "Masatoshi Ito is ranked 727 in the world with $4 B of wealth\n",
      "David Murdock is ranked 1517 in the world with $2.1 B of wealth\n",
      "George Joseph is ranked 1580 in the world with $2 B of wealth\n",
      "Charles Munger is ranked 1580 in the world with $2 B of wealth\n"
     ]
    }
   ],
   "source": [
    "five_oldest = df.sort_values(by='Age', ascending = False).head()\n",
    "five_oldest_ordered = five_oldest.sort_values(by='Rank')\n",
    "for person in five_oldest_ordered.values:\n",
    "    print(person[0] + \" is ranked \" + str(person[4]) + \" in the world with \"+ person[1] + \" of wealth\")"
   ]
  }
 ],
 "metadata": {
  "kernelspec": {
   "display_name": "Python 3 (ipykernel)",
   "language": "python",
   "name": "python3"
  },
  "language_info": {
   "codemirror_mode": {
    "name": "ipython",
    "version": 3
   },
   "file_extension": ".py",
   "mimetype": "text/x-python",
   "name": "python",
   "nbconvert_exporter": "python",
   "pygments_lexer": "ipython3",
   "version": "3.9.12"
  }
 },
 "nbformat": 4,
 "nbformat_minor": 5
}
