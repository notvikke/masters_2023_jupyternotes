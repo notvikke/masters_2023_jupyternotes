{
 "cells": [
  {
   "cell_type": "markdown",
   "id": "864e3c9e",
   "metadata": {},
   "source": [
    "<table border=\"0\" style=\"width:100%\">\n",
    " <tr>\n",
    "    <td>\n",
    "        <img src=\"https://static-frm.ie.edu/university/wp-content/uploads/sites/6/2022/06/IE-University-logo.png\" width=150>\n",
    "     </td>\n",
    "    <td><div style=\"font-family:'Courier New'\">\n",
    "            <div style=\"font-size:25px\">\n",
    "                <div style=\"text-align: right\"> \n",
    "                    <b> MASTER IN BIG DATA</b>\n",
    "                    <br>\n",
    "                    Python for Data Analysis II\n",
    "                    <br><br>\n",
    "                    <em> Daniel Sierra Ramos </em>\n",
    "                </div>\n",
    "            </div>\n",
    "        </div>\n",
    "    </td>\n",
    " </tr>\n",
    "</table>"
   ]
  },
  {
   "cell_type": "markdown",
   "id": "cfa2643d",
   "metadata": {},
   "source": [
    "# **S06: EXERCISES**"
   ]
  },
  {
   "cell_type": "markdown",
   "id": "368e9e9f-ceba-496d-9bb8-e3022c88435a",
   "metadata": {
    "tags": []
   },
   "source": [
    "## Exercise 01\n",
    "\n",
    "Build a Linear Regression model for the `california_housing` dataset. You can load this dataset calling `datasets.fetch_california_housing()`. \n",
    "\n",
    " - **PART 1**\n",
    "    - **Question 1** - What are the $R^2$ metrics for train and test sets?\n",
    "    - **Question 2** - Imagine that me and my wife, we want to sell our house in *528-426 W Scott Ave\n",
    "Clovis, CA 93612* but we have no idea about the price. Our house is 30 years old, with 6 rooms and 3 bedrooms. In our geographic block group we are 300 people. Our income is 60K. *Hint: Build a single record with this information and get the prediction using your trained model*\n",
    "\n",
    "    - *NOTE: Don't use Latitude and Longitude for this part*\n",
    "\n",
    " - **(Optional) PART 2** - Repeat the process, but now include new three variables called `distance2SF`, `distance2SJ` and `distance2SD` containing the distance from each area to San Francisco, San Jose and San Diego, respectively, in Km.\n",
    "\n",
    "    - **Question 3** - What is the recomended for sale price of my house now? \n",
    "    - *NOTE: You can use the `geopy` library to calculate distances between locations. https://geopy.readthedocs.io/en/stable/#module-geopy.distance*\n",
    "\n",
    "**Don't forget...**\n",
    " - Split data into train and test in order to evaluate the model with unseen data\n",
    " - If you want, you can standardize (`StandardScaler`) data before fitting the model\n",
    " - Train your model and apply it to the test data.\n",
    " - Evaluate the model with the `score` function, for both train and test datasets."
   ]
  },
  {
   "cell_type": "code",
   "execution_count": 3,
   "id": "faa332df-21de-4822-bfbd-f62c10a55795",
   "metadata": {},
   "outputs": [],
   "source": [
    "import pandas as pd\n",
    "\n",
    "from sklearn.datasets import fetch_california_housing\n",
    "from sklearn.model_selection import train_test_split\n",
    "from sklearn.preprocessing import StandardScaler\n",
    "from sklearn.linear_model import LinearRegression\n",
    "\n"
   ]
  },
  {
   "cell_type": "code",
   "execution_count": 5,
   "id": "942431e4-bdf9-4e07-aa90-846f1ca90de7",
   "metadata": {},
   "outputs": [],
   "source": [
    "data= fetch_california_housing()\n",
    "X = pd.DataFrame(data[\"data\"], columns=data[\"feature_names\"])\n",
    "y = pd.Series(data[\"target\"], name=data[\"target_names\"][0])"
   ]
  },
  {
   "cell_type": "code",
   "execution_count": 7,
   "id": "f0a13dcd-43f5-4a00-8718-9db5f821fcb4",
   "metadata": {},
   "outputs": [
    {
     "data": {
      "text/plain": [
       "sklearn.utils.Bunch"
      ]
     },
     "execution_count": 7,
     "metadata": {},
     "output_type": "execute_result"
    }
   ],
   "source": [
    "type(data)"
   ]
  },
  {
   "cell_type": "code",
   "execution_count": 8,
   "id": "686491a5-6c81-4e9f-90de-a72f92f9fe06",
   "metadata": {},
   "outputs": [
    {
     "name": "stdout",
     "output_type": "stream",
     "text": [
      ".. _california_housing_dataset:\n",
      "\n",
      "California Housing dataset\n",
      "--------------------------\n",
      "\n",
      "**Data Set Characteristics:**\n",
      "\n",
      "    :Number of Instances: 20640\n",
      "\n",
      "    :Number of Attributes: 8 numeric, predictive attributes and the target\n",
      "\n",
      "    :Attribute Information:\n",
      "        - MedInc        median income in block group\n",
      "        - HouseAge      median house age in block group\n",
      "        - AveRooms      average number of rooms per household\n",
      "        - AveBedrms     average number of bedrooms per household\n",
      "        - Population    block group population\n",
      "        - AveOccup      average number of household members\n",
      "        - Latitude      block group latitude\n",
      "        - Longitude     block group longitude\n",
      "\n",
      "    :Missing Attribute Values: None\n",
      "\n",
      "This dataset was obtained from the StatLib repository.\n",
      "https://www.dcc.fc.up.pt/~ltorgo/Regression/cal_housing.html\n",
      "\n",
      "The target variable is the median house value for California districts,\n",
      "expressed in hundreds of thousands of dollars ($100,000).\n",
      "\n",
      "This dataset was derived from the 1990 U.S. census, using one row per census\n",
      "block group. A block group is the smallest geographical unit for which the U.S.\n",
      "Census Bureau publishes sample data (a block group typically has a population\n",
      "of 600 to 3,000 people).\n",
      "\n",
      "An household is a group of people residing within a home. Since the average\n",
      "number of rooms and bedrooms in this dataset are provided per household, these\n",
      "columns may take surpinsingly large values for block groups with few households\n",
      "and many empty houses, such as vacation resorts.\n",
      "\n",
      "It can be downloaded/loaded using the\n",
      ":func:`sklearn.datasets.fetch_california_housing` function.\n",
      "\n",
      ".. topic:: References\n",
      "\n",
      "    - Pace, R. Kelley and Ronald Barry, Sparse Spatial Autoregressions,\n",
      "      Statistics and Probability Letters, 33 (1997) 291-297\n",
      "\n"
     ]
    }
   ],
   "source": [
    "print(data[\"DESCR\"])"
   ]
  },
  {
   "cell_type": "code",
   "execution_count": 9,
   "id": "184ae752-2621-484c-a25e-dff30d8af1f1",
   "metadata": {},
   "outputs": [],
   "source": [
    "X = X.drop(columns= [\"Latitude\", \"Longitude\"])"
   ]
  },
  {
   "cell_type": "code",
   "execution_count": 10,
   "id": "5be08d85-73eb-4ae1-8ce8-b8f3f2ea083a",
   "metadata": {},
   "outputs": [],
   "source": [
    "X_train, X_test, y_train,y_test  = train_test_split(\n",
    "    X, y,\n",
    "    test_size=0.3,\n",
    "    random_state =123,\n",
    "    shuffle=True,\n",
    ")"
   ]
  },
  {
   "cell_type": "code",
   "execution_count": null,
   "id": "b508b13d-a41c-42fc-b782-01c412916bc2",
   "metadata": {},
   "outputs": [],
   "source": []
  },
  {
   "cell_type": "code",
   "execution_count": null,
   "id": "f80732e5-c39f-4701-ad1a-0d860cd3a7bf",
   "metadata": {},
   "outputs": [],
   "source": []
  },
  {
   "cell_type": "code",
   "execution_count": 13,
   "id": "5cab6c04-234a-417c-8339-8073bc6d98b4",
   "metadata": {},
   "outputs": [
    {
     "data": {
      "text/html": [
       "<div>\n",
       "<style scoped>\n",
       "    .dataframe tbody tr th:only-of-type {\n",
       "        vertical-align: middle;\n",
       "    }\n",
       "\n",
       "    .dataframe tbody tr th {\n",
       "        vertical-align: top;\n",
       "    }\n",
       "\n",
       "    .dataframe thead th {\n",
       "        text-align: right;\n",
       "    }\n",
       "</style>\n",
       "<table border=\"1\" class=\"dataframe\">\n",
       "  <thead>\n",
       "    <tr style=\"text-align: right;\">\n",
       "      <th></th>\n",
       "      <th>MedInc</th>\n",
       "      <th>HouseAge</th>\n",
       "      <th>AveRooms</th>\n",
       "      <th>AveBedrms</th>\n",
       "      <th>Population</th>\n",
       "      <th>AveOccup</th>\n",
       "    </tr>\n",
       "  </thead>\n",
       "  <tbody>\n",
       "    <tr>\n",
       "      <th>0</th>\n",
       "      <td>0.039083</td>\n",
       "      <td>-1.797052</td>\n",
       "      <td>0.171817</td>\n",
       "      <td>0.027150</td>\n",
       "      <td>1.409880</td>\n",
       "      <td>0.048340</td>\n",
       "    </tr>\n",
       "    <tr>\n",
       "      <th>1</th>\n",
       "      <td>-0.184588</td>\n",
       "      <td>-0.602237</td>\n",
       "      <td>0.102620</td>\n",
       "      <td>-0.094729</td>\n",
       "      <td>0.661293</td>\n",
       "      <td>-0.036030</td>\n",
       "    </tr>\n",
       "    <tr>\n",
       "      <th>2</th>\n",
       "      <td>-1.001170</td>\n",
       "      <td>0.273961</td>\n",
       "      <td>0.014918</td>\n",
       "      <td>0.092962</td>\n",
       "      <td>-0.726637</td>\n",
       "      <td>0.045845</td>\n",
       "    </tr>\n",
       "    <tr>\n",
       "      <th>3</th>\n",
       "      <td>1.597095</td>\n",
       "      <td>-1.637743</td>\n",
       "      <td>0.211831</td>\n",
       "      <td>-0.139639</td>\n",
       "      <td>-0.513523</td>\n",
       "      <td>-0.048541</td>\n",
       "    </tr>\n",
       "    <tr>\n",
       "      <th>4</th>\n",
       "      <td>-0.630929</td>\n",
       "      <td>1.867047</td>\n",
       "      <td>-0.424086</td>\n",
       "      <td>0.004223</td>\n",
       "      <td>-0.642466</td>\n",
       "      <td>-0.106293</td>\n",
       "    </tr>\n",
       "    <tr>\n",
       "      <th>...</th>\n",
       "      <td>...</td>\n",
       "      <td>...</td>\n",
       "      <td>...</td>\n",
       "      <td>...</td>\n",
       "      <td>...</td>\n",
       "      <td>...</td>\n",
       "    </tr>\n",
       "    <tr>\n",
       "      <th>14443</th>\n",
       "      <td>-0.124949</td>\n",
       "      <td>0.592578</td>\n",
       "      <td>0.060017</td>\n",
       "      <td>0.035571</td>\n",
       "      <td>-0.846626</td>\n",
       "      <td>0.060139</td>\n",
       "    </tr>\n",
       "    <tr>\n",
       "      <th>14444</th>\n",
       "      <td>0.348476</td>\n",
       "      <td>-1.159817</td>\n",
       "      <td>0.227413</td>\n",
       "      <td>-0.156386</td>\n",
       "      <td>0.895898</td>\n",
       "      <td>0.003582</td>\n",
       "    </tr>\n",
       "    <tr>\n",
       "      <th>14445</th>\n",
       "      <td>0.922509</td>\n",
       "      <td>-1.876706</td>\n",
       "      <td>0.204828</td>\n",
       "      <td>-0.129602</td>\n",
       "      <td>0.895003</td>\n",
       "      <td>0.035858</td>\n",
       "    </tr>\n",
       "    <tr>\n",
       "      <th>14446</th>\n",
       "      <td>-0.000782</td>\n",
       "      <td>1.229812</td>\n",
       "      <td>-0.267494</td>\n",
       "      <td>-0.143444</td>\n",
       "      <td>-0.783050</td>\n",
       "      <td>-0.120272</td>\n",
       "    </tr>\n",
       "    <tr>\n",
       "      <th>14447</th>\n",
       "      <td>-0.715705</td>\n",
       "      <td>-0.681891</td>\n",
       "      <td>0.023895</td>\n",
       "      <td>0.040363</td>\n",
       "      <td>-0.174151</td>\n",
       "      <td>0.042247</td>\n",
       "    </tr>\n",
       "  </tbody>\n",
       "</table>\n",
       "<p>14448 rows × 6 columns</p>\n",
       "</div>"
      ],
      "text/plain": [
       "         MedInc  HouseAge  AveRooms  AveBedrms  Population  AveOccup\n",
       "0      0.039083 -1.797052  0.171817   0.027150    1.409880  0.048340\n",
       "1     -0.184588 -0.602237  0.102620  -0.094729    0.661293 -0.036030\n",
       "2     -1.001170  0.273961  0.014918   0.092962   -0.726637  0.045845\n",
       "3      1.597095 -1.637743  0.211831  -0.139639   -0.513523 -0.048541\n",
       "4     -0.630929  1.867047 -0.424086   0.004223   -0.642466 -0.106293\n",
       "...         ...       ...       ...        ...         ...       ...\n",
       "14443 -0.124949  0.592578  0.060017   0.035571   -0.846626  0.060139\n",
       "14444  0.348476 -1.159817  0.227413  -0.156386    0.895898  0.003582\n",
       "14445  0.922509 -1.876706  0.204828  -0.129602    0.895003  0.035858\n",
       "14446 -0.000782  1.229812 -0.267494  -0.143444   -0.783050 -0.120272\n",
       "14447 -0.715705 -0.681891  0.023895   0.040363   -0.174151  0.042247\n",
       "\n",
       "[14448 rows x 6 columns]"
      ]
     },
     "execution_count": 13,
     "metadata": {},
     "output_type": "execute_result"
    }
   ],
   "source": [
    "sc = StandardScaler()\n",
    "X_train_sc = sc.fit_transform(X_train)\n",
    "X_train_sc = pd.DataFrame(X_train_sc, columns=X_train.columns)\n",
    "X_train_sc"
   ]
  },
  {
   "cell_type": "code",
   "execution_count": 14,
   "id": "20bfefa2-f2bd-4a36-809f-78b50eb6a586",
   "metadata": {},
   "outputs": [],
   "source": [
    "from sklearn.linear_model import LinearRegression"
   ]
  },
  {
   "cell_type": "code",
   "execution_count": 15,
   "id": "0400cecc-cfc3-4da1-9c36-5f5948cfc2d5",
   "metadata": {},
   "outputs": [],
   "source": [
    "reg = LinearRegression()"
   ]
  },
  {
   "cell_type": "code",
   "execution_count": 16,
   "id": "cb4a4d7d-c8cd-4513-9411-aa1212b14dfa",
   "metadata": {},
   "outputs": [
    {
     "data": {
      "text/plain": [
       "LinearRegression()"
      ]
     },
     "execution_count": 16,
     "metadata": {},
     "output_type": "execute_result"
    }
   ],
   "source": [
    "reg.fit(X_train_sc, y_train)"
   ]
  },
  {
   "cell_type": "code",
   "execution_count": 19,
   "id": "b27d8a47-026a-4594-a219-624957322906",
   "metadata": {},
   "outputs": [],
   "source": [
    "r2_train = reg.score(X_train_sc, y_train)"
   ]
  },
  {
   "cell_type": "code",
   "execution_count": null,
   "id": "b15e35d1-8f41-4e81-8fb6-330888215804",
   "metadata": {},
   "outputs": [],
   "source": []
  },
  {
   "cell_type": "raw",
   "id": "2371f85e-a8c8-47e0-8e80-b680e7b2f10e",
   "metadata": {},
   "source": [
    "r2_train"
   ]
  },
  {
   "cell_type": "code",
   "execution_count": null,
   "id": "ac232589-7d57-458b-b85e-f4c3bd8870d3",
   "metadata": {},
   "outputs": [],
   "source": [
    "X_test_sc = sc.transform(X_test)\n",
    "X_test_sc = pd.DataFrame(X_test_sc, columns=X_s)"
   ]
  }
 ],
 "metadata": {
  "kernelspec": {
   "display_name": "Python 3 (ipykernel)",
   "language": "python",
   "name": "python3"
  },
  "language_info": {
   "codemirror_mode": {
    "name": "ipython",
    "version": 3
   },
   "file_extension": ".py",
   "mimetype": "text/x-python",
   "name": "python",
   "nbconvert_exporter": "python",
   "pygments_lexer": "ipython3",
   "version": "3.9.12"
  }
 },
 "nbformat": 4,
 "nbformat_minor": 5
}
