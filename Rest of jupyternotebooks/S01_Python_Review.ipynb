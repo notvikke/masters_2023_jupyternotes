{
 "cells": [
  {
   "cell_type": "markdown",
   "metadata": {},
   "source": [
    "<table border=\"0\" style=\"width:100%\">\n",
    " <tr>\n",
    "    <td>\n",
    "        <img src=\"https://static-frm.ie.edu/university/wp-content/uploads/sites/6/2022/06/IE-University-logo.png\" width=150>\n",
    "     </td>\n",
    "    <td><div style=\"font-family:'Courier New'\">\n",
    "            <div style=\"font-size:25px\">\n",
    "                <div style=\"text-align: right\"> \n",
    "                    <b> MASTER IN BIG DATA</b>\n",
    "                    <br>\n",
    "                    Python for Data Analysis II\n",
    "                    <br><br>\n",
    "                    <em> Daniel Sierra Ramos </em>\n",
    "                </div>\n",
    "            </div>\n",
    "        </div>\n",
    "    </td>\n",
    " </tr>\n",
    "</table>"
   ]
  },
  {
   "cell_type": "markdown",
   "metadata": {},
   "source": [
    "# **S01: PYTHON REVIEW**"
   ]
  },
  {
   "cell_type": "markdown",
   "metadata": {},
   "source": [
    "## Python programming language basics"
   ]
  },
  {
   "cell_type": "markdown",
   "metadata": {},
   "source": [
    " **Remember the most relevant names around the Python for Data ecosystem**\n",
    " \n",
    " - **Python**\n",
    "    - Python is a high-level, general-purpose programming language that is widely used for web development, data analysis, scientific computing, and creating software applications.\n",
    "    - Is an interpreted programming language. This means that it's not compiled to *machine code*, nut interpreted by an interpreter\n",
    "    - The most common Python interpreter is CPython, written in C. Almost all Python distributions use this interpreter.\n",
    " - **Jupyter** \n",
    "    - Interactive web environment to write and execute Python code.\n",
    "    - It's compatible with many other programming languages, like R.\n",
    " - **Anaconda**\n",
    "    - Anaconda is a distribution of the Python and R programming languages for scientific computing, data analysis, and machine learning, featuring package management and easy deployment.\n",
    "    - Contains lots of libraries for Data Science, and also an environment to manage environments in Python called `conda`.\n",
    " - **Markdown**\n",
    "    - Markdown is a lightweight markup language with plain-text-formatting syntax, designed to be easy-to-read and easy-to-write.\n",
    "    - It's fully compatible with Jupyter and allow us to write rich text and powerful documented code.\n",
    " - **Pandas**\n",
    "    - `pandas` is a Python library for data manipulation and analysis, designed to work with numerical tables and time series data.\n",
    "    - It's the most used data manipulation library in Python\n",
    " - **matplotlib, seaborn and plotly**\n",
    "    - Plotting libraries to elaborate graphics in Python. All these graphics can be rendered directly in Jupyter.\n",
    " - **scikit-learn**\n",
    "    - The most important library for machine learning written in Python"
   ]
  },
  {
   "cell_type": "markdown",
   "metadata": {},
   "source": [
    "**Python code is executed sequentially, in order, line by line**"
   ]
  },
  {
   "cell_type": "code",
   "execution_count": 1,
   "metadata": {},
   "outputs": [
    {
     "name": "stdout",
     "output_type": "stream",
     "text": [
      "First\n",
      "Second\n",
      "Third\n"
     ]
    }
   ],
   "source": [
    "# This is a sequence of operations in Python. All executed sequentially in order.\n",
    "print(\"First\")\n",
    "print(\"Second\")\n",
    "print(\"Third\")"
   ]
  },
  {
   "cell_type": "markdown",
   "metadata": {},
   "source": [
    "**Comments in Python are defined with \"#\"**"
   ]
  },
  {
   "cell_type": "code",
   "execution_count": 2,
   "metadata": {},
   "outputs": [
    {
     "name": "stdout",
     "output_type": "stream",
     "text": [
      "# This is not a comment, but a string\n"
     ]
    }
   ],
   "source": [
    "# This is a comment\n",
    "## This is another comment\n",
    "##### ANOTHER COMMENT, THIS TIME SHOUTING #####\n",
    "print(\"# This is not a comment, but a string\")"
   ]
  },
  {
   "cell_type": "markdown",
   "metadata": {},
   "source": [
    "**Python variables are defined with \"=\" operator**"
   ]
  },
  {
   "cell_type": "code",
   "execution_count": 3,
   "metadata": {},
   "outputs": [
    {
     "name": "stdout",
     "output_type": "stream",
     "text": [
      "5 5 another variable 1 7\n"
     ]
    }
   ],
   "source": [
    "var1 = 5\n",
    "var2 = \"5\"\n",
    "var3 = \"another variable\"\n",
    "var4 = 1; var5 = 7\n",
    "\n",
    "print(var1, var2, var3, var4, var5)"
   ]
  },
  {
   "cell_type": "markdown",
   "metadata": {},
   "source": [
    "**Import Python libraries**"
   ]
  },
  {
   "cell_type": "code",
   "execution_count": 1,
   "metadata": {},
   "outputs": [],
   "source": [
    "# import a library\n",
    "import pandas\n",
    "\n",
    "# import a library with an alias\n",
    "import pandas as pd\n",
    "\n",
    "# import a module from a package\n",
    "from matplotlib import pyplot as plt"
   ]
  },
  {
   "cell_type": "markdown",
   "metadata": {},
   "source": [
    "**Python blocks are defined with 4 spaces (or tab)**\n",
    "\n",
    "```python\n",
    "if var < 5:\n",
    "    # This is inside the \"if\" block, and executes only if the condition is met\n",
    "    print(\"Inside\")\n",
    "\n",
    "# This is outside the \"if\" block, and executes no matter the condition is met\n",
    "print(\"Outside\")\n",
    "```"
   ]
  },
  {
   "cell_type": "markdown",
   "metadata": {},
   "source": [
    "## Control flow statements"
   ]
  },
  {
   "cell_type": "markdown",
   "metadata": {},
   "source": [
    "**The `if-elif-else` statement**"
   ]
  },
  {
   "cell_type": "code",
   "execution_count": 5,
   "metadata": {},
   "outputs": [
    {
     "name": "stdout",
     "output_type": "stream",
     "text": [
      "Exactly 5\n"
     ]
    }
   ],
   "source": [
    "var1 = 5\n",
    "\n",
    "if var1 > 5:\n",
    "    print(\"Greater that 5\")\n",
    "elif var1 < 5:\n",
    "    print(\"Less than 5\")\n",
    "else:\n",
    "    print(\"Exactly 5\")"
   ]
  },
  {
   "cell_type": "markdown",
   "metadata": {},
   "source": [
    "**The `for` loop and the _comprehension_ structures**\n",
    "\n",
    "The `for` loop in Python is used to iterate over a sequence (such as a list, tuple, or string) or other iterable object and execute a block of code for each item in the sequence."
   ]
  },
  {
   "cell_type": "code",
   "execution_count": 6,
   "metadata": {},
   "outputs": [
    {
     "name": "stdout",
     "output_type": "stream",
     "text": [
      "0 1 2 3 4 5 6 7 8 9 10 11 12 13 14 15 16 17 18 19 "
     ]
    }
   ],
   "source": [
    "seq = range(20)\n",
    "\n",
    "# The for loop directly iterates over an iterable structure (list, tuple, dict, ...)\n",
    "for i in seq:\n",
    "    print(i, end=\" \")"
   ]
  },
  {
   "cell_type": "code",
   "execution_count": 7,
   "metadata": {},
   "outputs": [
    {
     "name": "stdout",
     "output_type": "stream",
     "text": [
      "[0, 1, 4, 9, 16, 25, 36, 49, 64, 81, 100, 121, 144, 169, 196, 225, 256, 289, 324, 361]\n"
     ]
    }
   ],
   "source": [
    "# The list (dict, set) comprehension structure is a \"pythonic\" way of creating a structure from other\n",
    "seq2 = [i**2 for i in seq]\n",
    "print(seq2)"
   ]
  },
  {
   "cell_type": "markdown",
   "metadata": {},
   "source": [
    "**The `while` loop**\n",
    "\n",
    "The `while` loop is used to repeatedly execute a block of code as long as a certain condition is `True`."
   ]
  },
  {
   "cell_type": "code",
   "execution_count": 8,
   "metadata": {},
   "outputs": [
    {
     "name": "stdout",
     "output_type": "stream",
     "text": [
      "A B C D "
     ]
    }
   ],
   "source": [
    "seq = [\"A\", \"B\", \"C\", \"D\"]\n",
    "\n",
    "i=0\n",
    "while i<len(seq):\n",
    "    print(seq[i], end=\" \")\n",
    "    i += 1"
   ]
  },
  {
   "cell_type": "markdown",
   "metadata": {},
   "source": [
    "**Finer control of `while` loops with `break` and `continue`**\n",
    " - `break` - Stops the `while` loop, and continues the execution.\n",
    " - `continue` - Stops the current iteration of the `while` loop and continues with the next one."
   ]
  },
  {
   "cell_type": "markdown",
   "metadata": {},
   "source": [
    "## Data structures"
   ]
  },
  {
   "cell_type": "markdown",
   "metadata": {},
   "source": [
    "**Lists, Tuples, Sets and Dictionaries**"
   ]
  },
  {
   "cell_type": "code",
   "execution_count": 9,
   "metadata": {},
   "outputs": [],
   "source": [
    "l = [1,2,3,4,5,6]         # this is a list\n",
    "l = list([1,2,3,4,5,6])   # this is the same list\n",
    "\n",
    "t = (1,2,3,4,5,6)         # this is a tuple\n",
    "t = tuple([1,2,3,4,5,6])  # this is the same tuple\n",
    "\n",
    "s = {1,2,3,4,5,6}         # this is a set\n",
    "s = set([1,2,3,4,5,6])    # this is the same set\n",
    "\n",
    "# this is a dictionary\n",
    "d = {\n",
    "    \"a\": \"one\",\n",
    "    \"b\": \"two\",\n",
    "    \"c\": \"three\",\n",
    "    \"d\": \"four\",\n",
    "    \"e\": \"five\",\n",
    "    \"f\": \"six\"\n",
    "}\n",
    "\n",
    "# this is the same dictionary\n",
    "d = dict(\n",
    "    a=\"one\",\n",
    "    b=\"two\",\n",
    "    c=\"three\",\n",
    "    d=\"four\",\n",
    "    e=\"five\",\n",
    "    f=\"six\"\n",
    ")"
   ]
  },
  {
   "cell_type": "markdown",
   "metadata": {},
   "source": [
    " - `list` - Mutable sequence of elements that keep the order\n",
    " - `tuple` - Immutable sequence of elements that keep the order\n",
    " - `set` - Mutable sequence of elements that doesn`t keep the order\n",
    " - `dict` - Mutable collection of key-value pairs (doesn't keep the order)"
   ]
  },
  {
   "cell_type": "markdown",
   "metadata": {},
   "source": [
    "## Functions"
   ]
  },
  {
   "cell_type": "code",
   "execution_count": 10,
   "metadata": {},
   "outputs": [],
   "source": [
    "def coolprint(param1):\n",
    "    \"\"\" Function that prints a given string with alternating upper and lower characters.\"\"\"\n",
    "\n",
    "    for i,e in enumerate(param1):\n",
    "        if i%2 == 0:\n",
    "            print(e.lower(), end=\"\")\n",
    "        else:\n",
    "            print(e.upper(), end=\"\")"
   ]
  },
  {
   "cell_type": "code",
   "execution_count": 11,
   "metadata": {},
   "outputs": [
    {
     "name": "stdout",
     "output_type": "stream",
     "text": [
      "hElLo wOrLd"
     ]
    }
   ],
   "source": [
    "coolprint(\"hello world\")"
   ]
  },
  {
   "cell_type": "markdown",
   "metadata": {},
   "source": [
    "## Data manipulation"
   ]
  },
  {
   "cell_type": "markdown",
   "metadata": {},
   "source": [
    "### Unstructured data manipulation with JSON library"
   ]
  },
  {
   "cell_type": "code",
   "execution_count": 12,
   "metadata": {},
   "outputs": [
    {
     "name": "stdout",
     "output_type": "stream",
     "text": [
      "{'created_at': 'Wed Apr 22 06:04:57 +0000 2020', 'id': 1252840795737997317, 'id_str': '1252840795737997317', 'text': 'Tennis a la Balboa.\\n\\n#balboaisland #newportbeach #tennis #covid_19 #coronavirus #orangecounty #california… https://t.co/px1GCH1bgZ', 'truncated': True, 'entities': {'hashtags': [{'text': 'balboaisland', 'indices': [21, 34]}, {'text': 'newportbeach', 'indices': [35, 48]}, {'text': 'tennis', 'indices': [49, 56]}, {'text': 'covid_19', 'indices': [57, 66]}, {'text': 'coronavirus', 'indices': [67, 79]}, {'text': 'orangecounty', 'indices': [80, 93]}, {'text': 'california', 'indices': [94, 105]}], 'symbols': [], 'user_mentions': [], 'urls': [{'url': 'https://t.co/px1GCH1bgZ', 'expanded_url': 'https://twitter.com/i/web/status/1252840795737997317', 'display_url': 'twitter.com/i/web/status/1…', 'indices': [107, 130]}]}, 'source': '<a href=\"http://instagram.com\" rel=\"nofollow\">Instagram</a>', 'in_reply_to_status_id': None, 'in_reply_to_status_id_str': None, 'in_reply_to_user_id': None, 'in_reply_to_user_id_str': None, 'in_reply_to_screen_name': None, 'user': {'id': 49263812, 'id_str': '49263812', 'name': 'Joe', 'screen_name': 'JoesNews_', 'location': 'Istanbul Turkey', 'description': 'XCNN cameraman. Traveling around the world, capturing images of interesting people and places along the way.', 'url': None, 'entities': {'description': {'urls': []}}, 'protected': False, 'followers_count': 46, 'friends_count': 172, 'listed_count': 0, 'created_at': 'Sun Jun 21 07:42:43 +0000 2009', 'favourites_count': 16, 'utc_offset': None, 'time_zone': None, 'geo_enabled': True, 'verified': False, 'statuses_count': 139, 'lang': None, 'contributors_enabled': False, 'is_translator': False, 'is_translation_enabled': False, 'profile_background_color': 'C0DEED', 'profile_background_image_url': 'http://abs.twimg.com/images/themes/theme1/bg.png', 'profile_background_image_url_https': 'https://abs.twimg.com/images/themes/theme1/bg.png', 'profile_background_tile': False, 'profile_image_url': 'http://pbs.twimg.com/profile_images/1261474596244480000/aFAGor7C_normal.jpg', 'profile_image_url_https': 'https://pbs.twimg.com/profile_images/1261474596244480000/aFAGor7C_normal.jpg', 'profile_banner_url': 'https://pbs.twimg.com/profile_banners/49263812/1589594278', 'profile_link_color': '1DA1F2', 'profile_sidebar_border_color': 'C0DEED', 'profile_sidebar_fill_color': 'DDEEF6', 'profile_text_color': '333333', 'profile_use_background_image': True, 'has_extended_profile': True, 'default_profile': True, 'default_profile_image': False, 'following': False, 'follow_request_sent': False, 'notifications': False, 'translator_type': 'none', 'withheld_in_countries': []}, 'geo': {'type': 'Point', 'coordinates': [33.606389, -117.894444]}, 'coordinates': {'type': 'Point', 'coordinates': [-117.894444, 33.606389]}, 'place': {'id': '0ce4c27ce26030aa', 'url': 'https://api.twitter.com/1.1/geo/id/0ce4c27ce26030aa.json', 'place_type': 'city', 'name': 'Newport Beach', 'full_name': 'Newport Beach, CA', 'country_code': 'US', 'country': 'United States', 'contained_within': [], 'bounding_box': {'type': 'Polygon', 'coordinates': [[[-117.9582193, 33.563618], [-117.789845, 33.563618], [-117.789845, 33.671658], [-117.9582193, 33.671658]]]}, 'attributes': {}}, 'contributors': None, 'is_quote_status': False, 'retweet_count': 0, 'favorite_count': 0, 'favorited': False, 'retweeted': False, 'possibly_sensitive': False, 'lang': 'en'}\n"
     ]
    }
   ],
   "source": [
    "import json\n",
    "\n",
    "# REMEMBER: Reading files from disk with \"open\"\n",
    "with open(\"data/twitter_data.json\") as data:\n",
    "    data = json.load(data)\n",
    "\n",
    "print(data[0])"
   ]
  },
  {
   "cell_type": "markdown",
   "metadata": {},
   "source": [
    "### Structured data manipulation with `pandas`\n",
    "\n",
    " - `pd.Series` - A one dimension array\n",
    " - `pd.DataFrame` - A two dimension array\n",
    "\n",
    " **Typical methods in pandas**\n",
    "  - `info` - Show briaf summary about Series or DataFrame\n",
    "  - `describe` - Basic statistical indicators\n",
    "  - `loc`/`iloc`/`at`/`iat` - Indexing and slicing data\n",
    "  - `groupby` - DataFrame aggregations (sql GROUP BY)\n",
    "  - `merge` - DataFrames combinations (sql JOIN)\n",
    "  - `dropna` - Remove missing values\n",
    "  - `drop_duplicates` - Remove duplicated entries\n",
    "  - `set_index`/`reset_index` - Manipulate the Index of a DataFrame or Series\n",
    "  - `sort_values`/`sort_index` - Sort DataFrame by value or by index\n",
    "  - `read_*` - Read data from disk\n",
    "  - `to_*` - Write data to disk"
   ]
  },
  {
   "cell_type": "code",
   "execution_count": 13,
   "metadata": {},
   "outputs": [
    {
     "data": {
      "text/html": [
       "<div>\n",
       "<style scoped>\n",
       "    .dataframe tbody tr th:only-of-type {\n",
       "        vertical-align: middle;\n",
       "    }\n",
       "\n",
       "    .dataframe tbody tr th {\n",
       "        vertical-align: top;\n",
       "    }\n",
       "\n",
       "    .dataframe thead th {\n",
       "        text-align: right;\n",
       "    }\n",
       "</style>\n",
       "<table border=\"1\" class=\"dataframe\">\n",
       "  <thead>\n",
       "    <tr style=\"text-align: right;\">\n",
       "      <th></th>\n",
       "      <th>sepal_length</th>\n",
       "      <th>sepal_width</th>\n",
       "      <th>petal_length</th>\n",
       "      <th>petal_width</th>\n",
       "      <th>class</th>\n",
       "    </tr>\n",
       "  </thead>\n",
       "  <tbody>\n",
       "    <tr>\n",
       "      <th>0</th>\n",
       "      <td>5.1</td>\n",
       "      <td>3.5</td>\n",
       "      <td>1.4</td>\n",
       "      <td>0.2</td>\n",
       "      <td>Iris-setosa</td>\n",
       "    </tr>\n",
       "    <tr>\n",
       "      <th>1</th>\n",
       "      <td>4.9</td>\n",
       "      <td>3.0</td>\n",
       "      <td>1.4</td>\n",
       "      <td>0.2</td>\n",
       "      <td>Iris-setosa</td>\n",
       "    </tr>\n",
       "    <tr>\n",
       "      <th>2</th>\n",
       "      <td>4.7</td>\n",
       "      <td>3.2</td>\n",
       "      <td>1.3</td>\n",
       "      <td>0.2</td>\n",
       "      <td>Iris-setosa</td>\n",
       "    </tr>\n",
       "    <tr>\n",
       "      <th>3</th>\n",
       "      <td>4.6</td>\n",
       "      <td>3.1</td>\n",
       "      <td>1.5</td>\n",
       "      <td>0.2</td>\n",
       "      <td>Iris-setosa</td>\n",
       "    </tr>\n",
       "    <tr>\n",
       "      <th>4</th>\n",
       "      <td>5.0</td>\n",
       "      <td>3.6</td>\n",
       "      <td>1.4</td>\n",
       "      <td>0.2</td>\n",
       "      <td>Iris-setosa</td>\n",
       "    </tr>\n",
       "  </tbody>\n",
       "</table>\n",
       "</div>"
      ],
      "text/plain": [
       "   sepal_length  sepal_width  petal_length  petal_width        class\n",
       "0           5.1          3.5           1.4          0.2  Iris-setosa\n",
       "1           4.9          3.0           1.4          0.2  Iris-setosa\n",
       "2           4.7          3.2           1.3          0.2  Iris-setosa\n",
       "3           4.6          3.1           1.5          0.2  Iris-setosa\n",
       "4           5.0          3.6           1.4          0.2  Iris-setosa"
      ]
     },
     "execution_count": 13,
     "metadata": {},
     "output_type": "execute_result"
    }
   ],
   "source": [
    "import pandas as pd\n",
    "\n",
    "# Read CSV data\n",
    "data = pd.read_csv(\"data/iris.csv\")\n",
    "\n",
    "data.head()"
   ]
  },
  {
   "cell_type": "markdown",
   "metadata": {},
   "source": [
    "Official Pandas cheatsheet: https://pandas.pydata.org/Pandas_Cheat_Sheet.pdf"
   ]
  },
  {
   "cell_type": "markdown",
   "metadata": {},
   "source": [
    "## Basic plotting\n",
    "\n",
    " - `matplotlib` - Main library for static plotting. Some cheatsheets: https://matplotlib.org/cheatsheets/\n",
    " - `seaborn` - Static plotting llibrary with complex graph for data analytics\n",
    " - `plotly` - Dynamic and interactive plotting library"
   ]
  }
 ],
 "metadata": {
  "kernelspec": {
   "display_name": "Python 3 (ipykernel)",
   "language": "python",
   "name": "python3"
  },
  "language_info": {
   "codemirror_mode": {
    "name": "ipython",
    "version": 3
   },
   "file_extension": ".py",
   "mimetype": "text/x-python",
   "name": "python",
   "nbconvert_exporter": "python",
   "pygments_lexer": "ipython3",
   "version": "3.9.12"
  }
 },
 "nbformat": 4,
 "nbformat_minor": 4
}
