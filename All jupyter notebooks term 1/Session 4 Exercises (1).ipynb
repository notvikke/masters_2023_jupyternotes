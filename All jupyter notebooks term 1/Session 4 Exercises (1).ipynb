{
 "cells": [
  {
   "cell_type": "markdown",
   "id": "6d9304c5",
   "metadata": {},
   "source": [
    "### Session 4. \n",
    "Let's start with a brush up about the tabular data. \n",
    "\n",
    "First of all, the simple things."
   ]
  },
  {
   "cell_type": "markdown",
   "id": "55594415",
   "metadata": {},
   "source": [
    "#### How to import Pandas and NumPy?\n",
    "- The common practice is to import the ```pandas``` module with alias ```pd```.\n",
    "- While NumPy with ```numpy``` module with alias ```np```."
   ]
  },
  {
   "cell_type": "code",
   "execution_count": 1,
   "id": "ed618c9e",
   "metadata": {},
   "outputs": [],
   "source": [
    "import pandas as pd\n",
    "import numpy as np"
   ]
  },
  {
   "cell_type": "markdown",
   "id": "04134f94",
   "metadata": {},
   "source": [
    "#### But wait.. what are these things actually?\n",
    "- We have seen so far lists, dictionaries and even JSON formats. \n",
    "- Pandas benefits by using a familiar tabular data format that divides data between rows and columns. \n",
    "\n",
    "Following makes it easy to understand how Pandas benefits with clarity.\n",
    "I don't expect you to code it. "
   ]
  },
  {
   "cell_type": "markdown",
   "id": "6c2305bb",
   "metadata": {},
   "source": [
    "#### Let's say you want to have a organized format for your data. In a list it would look like this: "
   ]
  },
  {
   "cell_type": "code",
   "execution_count": 2,
   "id": "b2d2bc52",
   "metadata": {},
   "outputs": [
    {
     "name": "stdout",
     "output_type": "stream",
     "text": [
      "['Tim Cook', 'Elon Musk', 'Mark Zuckerberg']\n"
     ]
    }
   ],
   "source": [
    "tech_leaders = [\"Tim Cook\", \"Elon Musk\", \"Mark Zuckerberg\"]\n",
    "print(tech_leaders)"
   ]
  },
  {
   "cell_type": "markdown",
   "id": "508aaca1",
   "metadata": {},
   "source": [
    "- Let's say we want to calculate their average age.\n",
    "- We can add another list with age for sure. "
   ]
  },
  {
   "cell_type": "code",
   "execution_count": 3,
   "id": "dc6cbdaa",
   "metadata": {},
   "outputs": [],
   "source": [
    "ages = [62, 51, 38]"
   ]
  },
  {
   "cell_type": "markdown",
   "id": "e2eddbe0",
   "metadata": {},
   "source": [
    "But what is the relationships here? These are just separate lists.. \n",
    "We could turn it into a dictionary with zip function and calculate the average by unpacking the values and dividing with the length of the dictionary."
   ]
  },
  {
   "cell_type": "code",
   "execution_count": 4,
   "id": "4f863a02",
   "metadata": {},
   "outputs": [
    {
     "name": "stdout",
     "output_type": "stream",
     "text": [
      "{'Tim Cook': 62, 'Elon Musk': 51, 'Mark Zuckerberg': 38}\n",
      "50.333333333333336\n"
     ]
    }
   ],
   "source": [
    "tech_leaders_dict = dict(zip(tech_leaders, ages))\n",
    "print(tech_leaders_dict)\n",
    "print(sum([*tech_leaders_dict.values()])/len(tech_leaders_dict))"
   ]
  },
  {
   "cell_type": "markdown",
   "id": "c5505ed7",
   "metadata": {},
   "source": [
    "What if we add their networth here now?"
   ]
  },
  {
   "cell_type": "code",
   "execution_count": 5,
   "id": "2be354a4",
   "metadata": {},
   "outputs": [],
   "source": [
    "net_worth = [1.8, 265, 127]"
   ]
  },
  {
   "cell_type": "markdown",
   "id": "3c8c572a",
   "metadata": {},
   "source": [
    " ... as you can see it gets very complicated like this. \n",
    " We would need to have a very complicated data structure like a nested dictionary to work with the file. However, if our goal is analytics - we want tools to make it easier to work with data. \n",
    " \n",
    "Pandas is exactly that. It helps to abstract away some of the programming required to work with large datasets. "
   ]
  },
  {
   "cell_type": "markdown",
   "id": "521c56a5",
   "metadata": {},
   "source": [
    "#### How would we do it with Pandas?\n",
    "- We would need to first define a DataFrame. \n",
    "- We do it by setting up our first column and calling it's column name.\n"
   ]
  },
  {
   "cell_type": "code",
   "execution_count": 6,
   "id": "03a3ff03",
   "metadata": {},
   "outputs": [
    {
     "data": {
      "text/html": [
       "<div>\n",
       "<style scoped>\n",
       "    .dataframe tbody tr th:only-of-type {\n",
       "        vertical-align: middle;\n",
       "    }\n",
       "\n",
       "    .dataframe tbody tr th {\n",
       "        vertical-align: top;\n",
       "    }\n",
       "\n",
       "    .dataframe thead th {\n",
       "        text-align: right;\n",
       "    }\n",
       "</style>\n",
       "<table border=\"1\" class=\"dataframe\">\n",
       "  <thead>\n",
       "    <tr style=\"text-align: right;\">\n",
       "      <th></th>\n",
       "      <th>tech_leaders</th>\n",
       "    </tr>\n",
       "  </thead>\n",
       "  <tbody>\n",
       "    <tr>\n",
       "      <th>0</th>\n",
       "      <td>Tim Cook</td>\n",
       "    </tr>\n",
       "    <tr>\n",
       "      <th>1</th>\n",
       "      <td>Elon Musk</td>\n",
       "    </tr>\n",
       "    <tr>\n",
       "      <th>2</th>\n",
       "      <td>Mark Zuckerberg</td>\n",
       "    </tr>\n",
       "  </tbody>\n",
       "</table>\n",
       "</div>"
      ],
      "text/plain": [
       "      tech_leaders\n",
       "0         Tim Cook\n",
       "1        Elon Musk\n",
       "2  Mark Zuckerberg"
      ]
     },
     "execution_count": 6,
     "metadata": {},
     "output_type": "execute_result"
    }
   ],
   "source": [
    "data = pd.DataFrame(tech_leaders, columns=[\"tech_leaders\"])\n",
    "data"
   ]
  },
  {
   "cell_type": "markdown",
   "id": "7c28d977",
   "metadata": {},
   "source": [
    "#### If we have more than one value?"
   ]
  },
  {
   "cell_type": "code",
   "execution_count": 7,
   "id": "729b565b",
   "metadata": {},
   "outputs": [
    {
     "data": {
      "text/html": [
       "<div>\n",
       "<style scoped>\n",
       "    .dataframe tbody tr th:only-of-type {\n",
       "        vertical-align: middle;\n",
       "    }\n",
       "\n",
       "    .dataframe tbody tr th {\n",
       "        vertical-align: top;\n",
       "    }\n",
       "\n",
       "    .dataframe thead th {\n",
       "        text-align: right;\n",
       "    }\n",
       "</style>\n",
       "<table border=\"1\" class=\"dataframe\">\n",
       "  <thead>\n",
       "    <tr style=\"text-align: right;\">\n",
       "      <th></th>\n",
       "      <th>tech_leaders</th>\n",
       "      <th>ages</th>\n",
       "      <th>net_worth</th>\n",
       "    </tr>\n",
       "  </thead>\n",
       "  <tbody>\n",
       "    <tr>\n",
       "      <th>0</th>\n",
       "      <td>Tim Cook</td>\n",
       "      <td>62</td>\n",
       "      <td>1.8</td>\n",
       "    </tr>\n",
       "    <tr>\n",
       "      <th>1</th>\n",
       "      <td>Elon Musk</td>\n",
       "      <td>51</td>\n",
       "      <td>265.0</td>\n",
       "    </tr>\n",
       "    <tr>\n",
       "      <th>2</th>\n",
       "      <td>Mark Zuckerberg</td>\n",
       "      <td>38</td>\n",
       "      <td>127.0</td>\n",
       "    </tr>\n",
       "  </tbody>\n",
       "</table>\n",
       "</div>"
      ],
      "text/plain": [
       "      tech_leaders  ages  net_worth\n",
       "0         Tim Cook    62        1.8\n",
       "1        Elon Musk    51      265.0\n",
       "2  Mark Zuckerberg    38      127.0"
      ]
     },
     "execution_count": 7,
     "metadata": {},
     "output_type": "execute_result"
    }
   ],
   "source": [
    "# We can achieve this for example with: \n",
    "dict_of_tech_leaders = {\n",
    "    \"tech_leaders\": tech_leaders,\n",
    "    \"ages\": ages,\n",
    "    \"net_worth\": net_worth\n",
    "}\n",
    "\n",
    "df = pd.DataFrame(dict_of_tech_leaders)\n",
    "df"
   ]
  },
  {
   "cell_type": "markdown",
   "id": "9e9c455d",
   "metadata": {},
   "source": [
    "### What if we want to work with flat files such as CSVs?\n",
    "- Pandas provides that a function for that -> pd.read_csv()\n",
    "- This takes as arguments the file itself, with numerous optional parameters that I encourage to look into"
   ]
  },
  {
   "cell_type": "markdown",
   "id": "f9a5d0ad",
   "metadata": {},
   "source": [
    "#### Exercise 1 - Descriptive Analysis\n",
    "- For that, we will use the forbes_billionaires dataset. \n",
    "1. What is the shape of the dataframe?\n",
    "2. What columns do we have? Show it in a list. \n",
    "3. What are the datatypes of the columns?\n",
    "4. Take a look at the top and bottom rows - How would you do it for top 10, bottom 10? \n",
    "5. Look the 99th row. \n",
    "6. Describe the dataframe with standard deviation, max, min, mean of the numerical values.\n",
    "7. Is there any NA values? If yes, drop them. \n",
    "8. What is the shape after dropping the values?"
   ]
  },
  {
   "cell_type": "markdown",
   "id": "38d3bfcc",
   "metadata": {},
   "source": [
    "#### Exercise 2 - Simple operations\n",
    "1. How many people in the dataset are from Spain?\n",
    "2. Who is the richest in Spain? Who are the top 3 richest in Spain? \n",
    "3. What is the average age in Spain?\n",
    "4. Who is the youngest? Who is the oldest in the whole dataset?\n",
    "5. How many people are in the dataset who are below 30 years old? Show them. \n",
    "6. Who are the 5 oldest in the list?\n",
    "7. Print on each line the name of the five oldest in the list with their wealth and rank. (e.g. George Joseph is ranked 1580 in the world with $2 B of wealth). Order them by their rank."
   ]
  }
 ],
 "metadata": {
  "kernelspec": {
   "display_name": "Python 3 (ipykernel)",
   "language": "python",
   "name": "python3"
  },
  "language_info": {
   "codemirror_mode": {
    "name": "ipython",
    "version": 3
   },
   "file_extension": ".py",
   "mimetype": "text/x-python",
   "name": "python",
   "nbconvert_exporter": "python",
   "pygments_lexer": "ipython3",
   "version": "3.9.12"
  }
 },
 "nbformat": 4,
 "nbformat_minor": 5
}
