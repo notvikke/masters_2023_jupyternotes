{
 "cells": [
  {
   "cell_type": "markdown",
   "id": "0cffb974-0225-4015-986d-3d19602f8a68",
   "metadata": {
    "tags": []
   },
   "source": [
    "# Programming Lab Session 6"
   ]
  },
  {
   "cell_type": "markdown",
   "id": "b0720883-9472-4609-ad28-70b226c60442",
   "metadata": {
    "jp-MarkdownHeadingCollapsed": true,
    "tags": []
   },
   "source": [
    "#### A little overview of what will happen this time around:\n",
    "- 5 sessions planned\n",
    "- We will continue going over core concepts introduced in the lectures\n",
    "- Programming Lab sessions will be here to help you practice your learnings"
   ]
  },
  {
   "cell_type": "markdown",
   "id": "b689c343-3c26-4188-b549-bb3e7f9e958e",
   "metadata": {
    "jp-MarkdownHeadingCollapsed": true,
    "tags": []
   },
   "source": [
    "#### Dates of the Sessions are as following:\n",
    "- Session 6:  27th of January  15:00\n",
    "- Session 7:  10th of February 15:00\n",
    "- Session 8:  17th of February 12:00\n",
    "- Session 9:  3rd of March     12:00\n",
    "- Session 10: 13th of March    15:00"
   ]
  },
  {
   "cell_type": "markdown",
   "id": "23f1fa16-b3a1-4051-b757-c60f02bb7230",
   "metadata": {
    "tags": []
   },
   "source": [
    "#### How will the sessions look like?\n",
    "- Two exercise blocks: Easier ones for warming up and a bit trickier ones where we mix different methods. \n",
    "- Content will be prepared and you will rececive Exercises notebook with the data used to BlackBoard.\n",
    "- After the class, you will get the solutions with more elaborate walkthroughs to the exercises. "
   ]
  },
  {
   "cell_type": "markdown",
   "id": "d33aab5c-9cc7-4623-aae6-e90aed1e8d68",
   "metadata": {
    "tags": []
   },
   "source": [
    "#### Goal of these sessions\n",
    "- Get you more comfortable with programmatic ways to solve analytical problems in Python. \n",
    "- Small steps rather than big leaps. Once we get the fundamentals down, you'll fly on your own.\n",
    "- Give you support on course content where you feel there are shortcomings."
   ]
  },
  {
   "cell_type": "markdown",
   "id": "938b8959-db2a-4433-b6cb-caae40a536a9",
   "metadata": {},
   "source": [
    "#### My expectations:\n",
    "- Be curious and have fun"
   ]
  },
  {
   "cell_type": "markdown",
   "id": "e9ccfd15-43e3-40fb-ad37-9ce4d670ec25",
   "metadata": {
    "tags": []
   },
   "source": [
    "# Quick reminder of what are Regular Expressions\n"
   ]
  },
  {
   "cell_type": "markdown",
   "id": "11d0db2c-0651-457f-9fbe-9e00f4d543c8",
   "metadata": {},
   "source": [
    "What is a regular expression (regex)?\n",
    "- Well, it really just is a combination of characters to find patterns to manipulate text. \n",
    "- We can use both normal characters and metacharacters to describe these patterns. \n",
    "\n",
    "Here is a [Cheatpage](https://www.w3schools.com/python/python_regex.asp)"
   ]
  },
  {
   "cell_type": "code",
   "execution_count": 1,
   "id": "06c03011-ea6a-4b1c-87ee-9a0ff0018bc0",
   "metadata": {},
   "outputs": [],
   "source": [
    "# We first need to always import the regex module\n",
    "import re"
   ]
  },
  {
   "cell_type": "code",
   "execution_count": 2,
   "id": "ce4fecb6-e938-4f07-baf3-b3e4895cbb6f",
   "metadata": {},
   "outputs": [
    {
     "name": "stdout",
     "output_type": "stream",
     "text": [
      "['MBD']\n",
      "['22']\n"
     ]
    }
   ],
   "source": [
    "# Let's take a look.\n",
    "text = \"MBD22\"\n",
    "\n",
    "# Match find the three words\n",
    "three_words = re.findall(r\"\\w\\w\\w\", text)\n",
    "print(three_words)\n",
    "    \n",
    "# Let's find the two numbers\n",
    "two_numbers = re.findall(r\"\\d\\d\", text)\n",
    "print(two_numbers)"
   ]
  },
  {
   "cell_type": "markdown",
   "id": "9d2fb6e1-c38e-4a9f-8fcc-04bf83df1062",
   "metadata": {},
   "source": [
    "We can do this also instead by using quantifiers "
   ]
  },
  {
   "cell_type": "code",
   "execution_count": 3,
   "id": "cb24f929-abcb-48ff-ba95-5a176235034d",
   "metadata": {},
   "outputs": [
    {
     "name": "stdout",
     "output_type": "stream",
     "text": [
      "['MBD']\n",
      "['22']\n"
     ]
    }
   ],
   "source": [
    "three_words_v2 = re.findall(r\"\\w{3}\", text)\n",
    "print(three_words_v2)\n",
    "\n",
    "two_numbers_v2 = re.findall(r\"\\d{2}\", text)\n",
    "print(two_numbers_v2)"
   ]
  },
  {
   "cell_type": "code",
   "execution_count": 4,
   "id": "26229396-26ef-45c3-a891-5e3557e1d4d0",
   "metadata": {},
   "outputs": [
    {
     "name": "stdout",
     "output_type": "stream",
     "text": [
      "['MBD22', 'MCSBT', '2023']\n",
      "['22', '2023']\n"
     ]
    }
   ],
   "source": [
    "# We can also find more than one.. \n",
    "IE_tech = \"MBD22, MCSBT2023\"\n",
    "\n",
    "IE_tech_progs = re.findall(r\"\\w{3,5}\", IE_tech)\n",
    "print(IE_tech_progs)\n",
    "\n",
    "IE_tech_intakes = re.findall(\"\\d{2,4}\", IE_tech)\n",
    "print(IE_tech_intakes) "
   ]
  },
  {
   "cell_type": "markdown",
   "id": "f9d3983f-1c8b-4a1a-9b94-006be32a0cbf",
   "metadata": {},
   "source": [
    "You might now be thinking. Wait.. what? Digits are also word characters?\n",
    "Yes, it contains characters from a-Z, digits from 0-9, and the even the \"_\" (Underscore) character. \n",
    "\n",
    "Instead we'd could use the sets."
   ]
  },
  {
   "cell_type": "code",
   "execution_count": 5,
   "id": "f67d9db0-c8cb-4850-9089-f67cce2d22f3",
   "metadata": {},
   "outputs": [
    {
     "name": "stdout",
     "output_type": "stream",
     "text": [
      "With quantifier: ['MBD', 'MCSBT']\n"
     ]
    }
   ],
   "source": [
    "IE_tech_progs2 = re.findall(r\"[A-Z]{3,5}\", IE_tech)\n",
    "print(\"With quantifier:\", IE_tech_progs2)"
   ]
  },
  {
   "cell_type": "markdown",
   "id": "c083c78f-a0b3-4bb7-b62f-fa51c51e80be",
   "metadata": {},
   "source": [
    "Or metacharacters "
   ]
  },
  {
   "cell_type": "code",
   "execution_count": 6,
   "id": "63f6a712-0b3d-4d6b-8f12-025744061dd9",
   "metadata": {},
   "outputs": [
    {
     "name": "stdout",
     "output_type": "stream",
     "text": [
      "With metacharacter: ['MBD', 'MCSBT']\n"
     ]
    }
   ],
   "source": [
    "IE_tech_progs3 = re.findall(r\"[A-Z]+\", IE_tech)\n",
    "print(\"With metacharacter:\", IE_tech_progs3)"
   ]
  },
  {
   "cell_type": "markdown",
   "id": "ea79e734-02db-4387-a7b9-e5d0f39c4b86",
   "metadata": {},
   "source": [
    "We can also extract groups by using parantheses ( ) "
   ]
  },
  {
   "cell_type": "code",
   "execution_count": 7,
   "id": "7ad0572b-5b6f-45ae-85f8-6d3d8ba081d8",
   "metadata": {},
   "outputs": [
    {
     "name": "stdout",
     "output_type": "stream",
     "text": [
      "With groups: [('MBD', '22'), ('MCSBT', '2023')]\n"
     ]
    }
   ],
   "source": [
    "IE_tech_progs4 = re.findall(r\"([A-Z]+)(\\d+)\", IE_tech)\n",
    "print(\"With groups:\", IE_tech_progs4)"
   ]
  },
  {
   "cell_type": "markdown",
   "id": "f6ca92e9-dd74-42c1-9d8a-5b02f6e240c7",
   "metadata": {},
   "source": [
    "Few more metacharacaters that you will need today:\n",
    "- \\W - Non-word character (basically symbols, commas etc)\n",
    "- \\s - Whitespace\n",
    "- ^ - Starts with\n",
    "- $ - Ends with\n",
    "- . - Any character (except for a newline - you will 100% need this distinction later)"
   ]
  },
  {
   "cell_type": "markdown",
   "id": "d119294c-4ac3-49aa-8566-3d99b051ae59",
   "metadata": {},
   "source": [
    "Few methods that might come handy:\n",
    "- re.findall()\n",
    "- re.split()\n",
    "- re.sub()\n",
    "- re.search() / re.match()"
   ]
  },
  {
   "cell_type": "markdown",
   "id": "c0cb35ca-e150-4133-9145-607158e38b0b",
   "metadata": {},
   "source": [
    "Keep in mind\n",
    "* special sequences in lowercase mostly refer to matching specfic characters ie. digit (\\d).\n",
    "* uppercase to NOT matching i.e. not a digit (\\D)"
   ]
  },
  {
   "cell_type": "markdown",
   "id": "93fcc36f-84df-452a-99b5-33d79eba3861",
   "metadata": {},
   "source": [
    "# Let's get started with exercises now and slowly cover all of these."
   ]
  },
  {
   "cell_type": "markdown",
   "id": "b21e3e35-0b95-4505-94c3-a63182ce24b0",
   "metadata": {},
   "source": [
    "## Exercises 1: Basic Regex\n",
    "1. Find all the prices (incl €) in: `\"Espresso for 1.20€, americano for 1.50€, latte for 2.50€ and cappucino for 3.00€.\"`"
   ]
  },
  {
   "cell_type": "markdown",
   "id": "92d8eeba-f881-4396-a778-9a1a8001a881",
   "metadata": {
    "tags": []
   },
   "source": [
    "### Exercise 1.1\n",
    "- Find all the prices in the following text (incl. €)"
   ]
  },
  {
   "cell_type": "code",
   "execution_count": 6,
   "id": "275c0a8e-a8cd-49c0-9112-adfc206c06ed",
   "metadata": {},
   "outputs": [
    {
     "name": "stdout",
     "output_type": "stream",
     "text": [
      "['1.20€', '1.50€', '2.50€', '3.00€']\n"
     ]
    }
   ],
   "source": [
    "t1 = \"Espresso for 1.20€, americano for 1.50€, latte for 2.50€ and cappucino for 3.00€.\"\n",
    "# Solution goes here.\n",
    "r1 = re.findall(r\"\\d\\D\\d\\d\\€\", t1)\n",
    "print(r1)\n",
    "\n",
    "# Solution goes here."
   ]
  },
  {
   "cell_type": "markdown",
   "id": "3e206103-8de5-4383-9b5b-9d13094885ef",
   "metadata": {
    "tags": []
   },
   "source": [
    "### Exercise 1.2\n",
    "- Find all the phone numbers, seperate them in the groups by (1) country code and (2) the rest. "
   ]
  },
  {
   "cell_type": "code",
   "execution_count": 8,
   "id": "dadf83e0-3e3c-445d-88d6-c1bba31dc087",
   "metadata": {},
   "outputs": [
    {
     "name": "stdout",
     "output_type": "stream",
     "text": [
      "['+351 56 78 90 12', '+34 91 23 45 67', '+1 202 345 67 89']\n"
     ]
    }
   ],
   "source": [
    "t2 = \"Portugal Office: +351 56 78 90 12, Spain Office: +34 91 23 45 67, US Office: +1 202 345 67 89\"\n",
    "\n",
    "r2 = re.findall(r\"\\+\\d{1,3}\\s\\d{2,3}\\s\\d{2,3}\\s\\d{2,3}\\s\\d{2,3}\", t2)\n",
    "print(r2)"
   ]
  },
  {
   "cell_type": "markdown",
   "id": "d1f70598-6440-4d95-818b-212750715976",
   "metadata": {},
   "source": [
    "### Exercise 1.3\n",
    "- Extract the websites including the www.domain.extension "
   ]
  },
  {
   "cell_type": "code",
   "execution_count": 19,
   "id": "a29269b1-17b8-44e3-84b5-970a245f7bd7",
   "metadata": {},
   "outputs": [
    {
     "name": "stdout",
     "output_type": "stream",
     "text": [
      "['www.datacamp.com', 'www.dataquest.io', 'www.w3schools.com', 'learn.microsoft.com', 'www.guru99.com']\n"
     ]
    }
   ],
   "source": [
    "t3 = \"Some places to learn Python are: www.datacamp.com, www.dataquest.io, www.w3schools.com, learn.microsoft.com and www.guru99.com\"\n",
    "\n",
    "r3 = re.findall(r\"\\w+\\.\\w+\\.\\w+\", t3)\n",
    "print(r3)"
   ]
  },
  {
   "cell_type": "markdown",
   "id": "933f5196-f089-4b7d-82b5-67e2d0838787",
   "metadata": {},
   "source": [
    "### Exercise 1.4\n",
    "- Split the following string with using the code between sentences"
   ]
  },
  {
   "cell_type": "code",
   "execution_count": 29,
   "id": "abb4f653-bfb5-4bc3-b952-e79a67bb5380",
   "metadata": {},
   "outputs": [
    {
     "name": "stdout",
     "output_type": "stream",
     "text": [
      "['I love programming', 'Python is fun', 'Regex is even more fun']\n"
     ]
    }
   ],
   "source": [
    "t4 = \"I love programming€$asd12Python is fun%!qw345Regex is even more fun\"\n",
    "\n",
    "r4 = re.split(r\"\\W{2}\\w+\\d+\", t4)\n",
    "print(r4)\n",
    "# Solution goes here."
   ]
  },
  {
   "cell_type": "markdown",
   "id": "84832a62-8a5a-46b6-b690-9e8ec42d507c",
   "metadata": {},
   "source": [
    "### Exercise 1.5\n",
    "- Write a program that validates whether password is valid or not. \n",
    "- This password validator is a little odd..\n",
    "- It only accepts in the following sequence 2 or 3 uppercase letters, 3 or 4 lowercase letters, 2 digits between 1 and 5, and one character of either ?!%\n",
    "- Print out wheter it is a match or not..\n"
   ]
  },
  {
   "cell_type": "code",
   "execution_count": 36,
   "id": "6cc863ae-32af-4aad-9140-1e3b31f95a9c",
   "metadata": {},
   "outputs": [
    {
     "name": "stdout",
     "output_type": "stream",
     "text": [
      "ASDasdf12! not match\n",
      "YOloo0= match\n",
      "QWErty34? not match\n",
      "HEllo5% match\n",
      "SUPerb999¤ match\n"
     ]
    }
   ],
   "source": [
    "t5 = [\"ASDasdf12!\", \"YOloo0=\", \"QWErty34?\", \"HEllo5%\", \"SUPerb999¤\"]\n",
    "\n",
    "r5 = r\"[A-Z]{2,3}[a-z]{3,4}[1-5]{2}[?!%]\"\n",
    "              \n",
    "for password in t5:\n",
    "    result=re.search(r5,password)\n",
    "    if result == None:\n",
    "        print(password, \"match\")\n",
    "    else:\n",
    "        print(password, \"not match\")\n",
    "\n",
    "    # Solution goes here."
   ]
  },
  {
   "cell_type": "markdown",
   "id": "e3d0f1cc-443e-440e-852f-d28328e61f27",
   "metadata": {},
   "source": [
    "### Exercise 1.6\n",
    "- Find all the words that contains \"air\" in all cases."
   ]
  },
  {
   "cell_type": "code",
   "execution_count": 37,
   "id": "02c0c42d-dcd6-434f-a7d0-09afcc28f3f6",
   "metadata": {},
   "outputs": [
    {
     "name": "stdout",
     "output_type": "stream",
     "text": [
      "['Air', 'air', 'air', 'air']\n"
     ]
    }
   ],
   "source": [
    "t6 = \"Airplane was airborne before landing to airport to deliver airmail.\"\n",
    "\n",
    "r6 = re.findall(r\"(?i)\\b(Air|air)\\w+\", t6)\n",
    "\n",
    "print(r6)\n",
    "# Solution goes here."
   ]
  },
  {
   "cell_type": "markdown",
   "id": "24ed3078-95d4-4430-b06b-74404b75544c",
   "metadata": {
    "tags": []
   },
   "source": [
    "## Exercises 2: ETL with Regex & Pandas\n",
    "\n",
    "In this exercise I have simply extracted you ready a text file with contents from [Tripadvisor](https://www.tripadvisor.com/Restaurants-g187514-zfn15620710-Madrid.html) regarding the top restaurants in Madrid, Salamanca. \n",
    "\n",
    "- Bear in mind that this is a suuper simplified approach to creating an ETL, where we will Extract some data from an external source. Transform it into something more meaningful for us and Load it into a preferred file format. \n",
    "- In this case I have already given you a text file that is extracted from Tripadvisor by copying all the text. In reality, extracting and loading flat files such as text formats or CSV are more common that you can imagine. "
   ]
  },
  {
   "cell_type": "markdown",
   "id": "8a6737e6-0bc1-47aa-ac83-9f700cabd4e6",
   "metadata": {},
   "source": [
    "#### 1. Import `tripadvisor.txt`. Use `encoding=\"utf-8\"` parameter and store it as a string in a variable `tripadvisor`. Take a closer look of the created `tripadvisor` variable between 3000th and 4000th positions."
   ]
  },
  {
   "cell_type": "code",
   "execution_count": 41,
   "id": "dff3395f-29d0-49e8-b504-45bb398ca9d8",
   "metadata": {},
   "outputs": [
    {
     "data": {
      "text/plain": [
       "\"meal of bruschetta, pasta and pizza...”\\n“I got the carbonara, it was very creamy.”\\n2022\\n8. Mano De Santa\\n124 reviewsOpen Now\\nInternational, Spanish$$$$Menu\\n“Wowser ! Elegant t and stylish restaurant...”\\n“The food is outstanding”\\n7:30 PM\\n8:00 PM\\n8:30 PM\\n2022\\n9. El Cocodrilo\\n225 reviewsOpen Now\\nBar, Spanish$$ - $$$\\nTaking safety measures\\nMenu\\n“Will come back for sure”\\n“super”\\nOrder online\\n2022\\n10. La Gaditana Castellana\\n1,477 reviewsOpen Now\\nMediterranean, European$$ - $$$\\nTaking safety measures\\nMenu\\n“I had the ample portion of perfectly seasoned and cooked hake with zucchini n...”\\n“You can't miss octopus..zamburiña and anything else in the menu”\\nReserveOrder online\\nSponsored\\nCafe de la Cruz\\n70 reviewsOpen Now\\nMediterranean, Spanish$$ - $$$Menu\\n“Quirky”\\n“Quality food, kind staff, good for drinks...”\\nReserve\\n2022\\n11. Txirimiri Pardinas\\n326 reviewsOpen Now\\nSpanish$$ - $$$\\nTaking safety measures\\nMenu\\n“Late quick dinner was very good and just...”\\n“Excelente!!”\\n2022\\n12. Taberna 4 Tapas\\n105 re\""
      ]
     },
     "execution_count": 41,
     "metadata": {},
     "output_type": "execute_result"
    }
   ],
   "source": [
    "# Open file in read mode with encoding=\"utf-8\"\n",
    "# Store read file in a variable: tripadvisor\n",
    "import pandas as pd\n",
    "file= open(\"36844886.txt\", encoding = \"utf-8\")\n",
    "tp = file.read()\n",
    "\n",
    "tp[3000:4000]"
   ]
  },
  {
   "cell_type": "code",
   "execution_count": null,
   "id": "2a423ec2-5623-489b-a574-d820e2193195",
   "metadata": {},
   "outputs": [],
   "source": [
    "# Use a slice of the variable to better understand the text\n",
    "regex1= r\"\""
   ]
  },
  {
   "cell_type": "markdown",
   "id": "bd77335c-2985-4b98-82e0-9e1b3306cc01",
   "metadata": {},
   "source": [
    "#### 2. Extract the ranking and restaurant name.\n",
    "- Find the top 10 restaurant ranks and names in the whole data. \n",
    "- We want to extract the following: \"1. Los Montes de Galicia\", ... \n",
    "- Then edit it and seperate them into two groups."
   ]
  },
  {
   "cell_type": "code",
   "execution_count": null,
   "id": "74cdaf8f-90f4-4fda-976f-febd7ab093af",
   "metadata": {},
   "outputs": [],
   "source": [
    "# Based on the example:\n",
    "    # - \"1. Los Montes de Galicia\"\n",
    "    # - \"5. La Bistroteca\"\n",
    "    # - \"13. Malafemmena\"\n",
    "    \n",
    "regex1 = # Solution goes here. \n",
    "\n",
    "# Use below to check if you are on the right track. \n",
    "#print(re.findall(regex1, tripadvisor))\n",
    "#len(re.findall(regex1, tripadvisor))"
   ]
  },
  {
   "cell_type": "markdown",
   "id": "54ab8705-36bb-443a-8e17-96f994e611be",
   "metadata": {},
   "source": [
    "#### 3. Now extract the count of reviews, the type of food and the price tier. \n",
    "We want to extract the following: \n",
    "- below in comments"
   ]
  },
  {
   "cell_type": "code",
   "execution_count": null,
   "id": "3003e346-6f16-4ffd-b75e-ccc29c154b1e",
   "metadata": {},
   "outputs": [],
   "source": [
    "# We want to extract the following: \n",
    "#    - \"10,516 reviewsOpen Now\\nSpanish, International$$ - $$$\" or \n",
    "#    - \"639 reviewsOpen Now\\nItalian, Pizza$$ - $$$\" or \n",
    "#    - \"6 reviewsOpens in 18 min\\nItalian, Neapolitan$$ - $$$\"\n",
    "#    - \"105 reviews\\nSpanish, Mediterranean$$ - $$$\""
   ]
  },
  {
   "cell_type": "markdown",
   "id": "3682fced-873f-4fd9-acd1-fdc566038027",
   "metadata": {},
   "source": [
    "Often with regex, you might want to give more context than the data you actually want to extract. \n",
    "- Lets divide it into three seperate pieces. "
   ]
  },
  {
   "cell_type": "code",
   "execution_count": null,
   "id": "864ecb97-a9a3-4cca-941c-44020ae79579",
   "metadata": {},
   "outputs": [],
   "source": [
    "# Firstly, let's find the reviews\n",
    "\n",
    "# What is common for all these, when we want to extract them? What is the differentiator?\n",
    "    #    - \"10,516 reviewsOpen Now\\nSpanish, International$$ - $$$\" or \n",
    "    #    - \"639 reviewsOpen Now\\nItalian, Pizza$$ - $$$\" or \n",
    "    #    - \"6 reviewsOpens in 18 min\\nItalian, Neapolitan$$ - $$$\"\n",
    "    #    - \"105 reviews\\nSpanish, Mediterranean$$ - $$$\"\n",
    "\n",
    "# The deductive steps would be:\n",
    "    # Clearly, the word \"reviews\" is similar for all of them. \n",
    "    # Before that, all of the \"reviews\" are preceeded by a whitespace. \n",
    "    # This is preceeded by numbers and importantly a comma character. \n",
    "    # Now, if we are only interested in the reivew numbers, we capture the group. \n",
    "        \n",
    "regex_reviews = # Solution goes here\n",
    "\n",
    "#print(re.findall(regex_reviews, tripadvisor))\n",
    "#len(re.findall(regex_reviews, tripadvisor))"
   ]
  },
  {
   "cell_type": "code",
   "execution_count": null,
   "id": "bbc4a9fc-ae1c-4f07-9db3-fde67ed46ce5",
   "metadata": {},
   "outputs": [],
   "source": [
    "# Secondly, let's get the cuisine options that they have and expand on our current. \n",
    "\n",
    "    # What is the common pattern for all these?\n",
    "    #    - \"10,516 reviewsOpen Now\\nSpanish, International$$ - $$$\" or \n",
    "    #    - \"639 reviewsOpen Now\\nItalian, Pizza$$ - $$$\" or \n",
    "    #    - \"6 reviewsOpens in 18 min\\nItalian, Neapolitan$$ - $$$\"\n",
    "    #    - \"105 reviews\\nSpanish, Mediterranean$$ - $$$\"\n",
    "    \n",
    "# First we will keep building it to our existing regex:\n",
    "    # What we can establish next is that there can be characters after reviews until a newline.\n",
    "    # Next we know that there is a newline character, after the current opening time.\n",
    "    # Now, to get the cuisine options. We can see that they consist characters from A-Z, a-z, a comma and a whitespace\n",
    "    # Now extract both groups of reviews and cuisine. \n",
    "        \n",
    "        \n",
    "regex_cuisine = # Solution goes here\n",
    "\n",
    "#print(re.findall(regex_cuisine, tripadvisor))\n",
    "#len(re.findall(regex_cuisine, tripadvisor))"
   ]
  },
  {
   "cell_type": "code",
   "execution_count": null,
   "id": "fcaeb1d6-6593-4796-acfd-3805746342d4",
   "metadata": {},
   "outputs": [],
   "source": [
    "# Take a look at the price options now.. \n",
    "    # Now, I have changed the variables to better capture the different ones we have. \n",
    "    #    - \"1,058 reviewsClosed Now\\nMediterranean, European$$$$\" or\n",
    "    #    - \"639 reviewsOpen Now\\nItalian, Pizza$$ - $$$\" or \n",
    "    #    - \"285 reviewsOpens in 18 min\\nMexican$\"\n",
    "# Here it is easy to spot the differences between the price. \n",
    "\n",
    "regex_price = # Solution goes here.\n",
    "\n",
    "#print(re.findall(regex_price, tripadvisor))\n",
    "#len(re.findall(regex_price, tripadvisor))"
   ]
  },
  {
   "cell_type": "markdown",
   "id": "58aedf0c-d7ff-42ec-9fc6-be5e3648ce60",
   "metadata": {},
   "source": [
    "#### 4. Combine all the rank, resturant name, review count, cuisine and price tier into a single regex."
   ]
  },
  {
   "cell_type": "code",
   "execution_count": null,
   "id": "576cc611-c8f4-4c0f-8e83-056f2aa68eae",
   "metadata": {},
   "outputs": [],
   "source": [
    "regex_combined = # Solution goes here.\n",
    "\n",
    "#tripadvisor_data = re.findall(regex_combined, tripadvisor)\n",
    "#print(tripadvisor_data)\n",
    "#len(re.findall(regex_combined, tripadvisor))"
   ]
  },
  {
   "cell_type": "code",
   "execution_count": null,
   "id": "b745d115-a395-40d7-82b8-c5b5269668ea",
   "metadata": {},
   "outputs": [],
   "source": [
    "file.close()"
   ]
  },
  {
   "cell_type": "markdown",
   "id": "fb3c2672-6b9c-4f70-834d-8196cd8a9780",
   "metadata": {},
   "source": [
    "#### 5. Transform the list into a Pandas dataframe"
   ]
  },
  {
   "cell_type": "code",
   "execution_count": null,
   "id": "6565b308-4c18-4e1d-8986-f4ae525d9bd3",
   "metadata": {},
   "outputs": [],
   "source": [
    "import pandas as pd"
   ]
  },
  {
   "cell_type": "code",
   "execution_count": null,
   "id": "97e87e0c-f16e-4473-b853-6701da72b6eb",
   "metadata": {},
   "outputs": [],
   "source": [
    "df_tripadvisor = # Solution goes here"
   ]
  },
  {
   "cell_type": "markdown",
   "id": "075942a3-9c95-420c-b034-193ea6cec82c",
   "metadata": {},
   "source": [
    "#### 6. Transform `price_tier` to numerical scale (e.g from 1 to 4) and the type of `review count` to `int`. \n",
    "- Use regex, methods etc. "
   ]
  },
  {
   "cell_type": "code",
   "execution_count": null,
   "id": "5414d0d8-6cf6-43b2-8a34-f45c5fa7666c",
   "metadata": {},
   "outputs": [],
   "source": [
    "# Solution goes here."
   ]
  },
  {
   "cell_type": "code",
   "execution_count": null,
   "id": "3d84c347-3a3b-4690-9b0d-0cdeee89a2cd",
   "metadata": {},
   "outputs": [],
   "source": [
    "# Solution goes here.  "
   ]
  },
  {
   "cell_type": "markdown",
   "id": "4ea90d7e-4250-4925-9593-0471efcde5a5",
   "metadata": {},
   "source": [
    "#### 7. Now Load your clean file into a CSV without the index. \n",
    "- Save `tripadvisor.csv` to a folder called `\"data/clean\"`. \n",
    "- Create a new folder if it doesn't exist and handle error if it does exist. \n",
    "- Create a .txt file called `tripadvisor_log` in append mode that includes how many rows and at what time was inserted. The text file should append each time you make a change."
   ]
  },
  {
   "cell_type": "code",
   "execution_count": null,
   "id": "492f17d8-b4a0-4ca6-8484-1313e347a0ec",
   "metadata": {},
   "outputs": [],
   "source": [
    "import os\n",
    "\n",
    "path = # enter path\n",
    "\n",
    "if # Conditional whether directory exists:\n",
    "    print(\"Directory exists:\", path)\n",
    "else:\n",
    "    # Make directory if does not exist."
   ]
  },
  {
   "cell_type": "code",
   "execution_count": null,
   "id": "60364b1b-3c9f-4369-b61a-58d4cb9af1cf",
   "metadata": {},
   "outputs": [],
   "source": [
    "from datetime import datetime\n",
    "\n",
    "# Save as a CSV\n",
    "\n",
    "with # Open in append mode as log_file:\n",
    "    sep = 50 * \"-\"\n",
    "    current_time = # Enter your \n",
    "    log_text = # Enter your log text here\n",
    "    print(sep)\n",
    "    print(log_text)\n",
    "    # Write the log file"
   ]
  }
 ],
 "metadata": {
  "kernelspec": {
   "display_name": "Python 3 (ipykernel)",
   "language": "python",
   "name": "python3"
  },
  "language_info": {
   "codemirror_mode": {
    "name": "ipython",
    "version": 3
   },
   "file_extension": ".py",
   "mimetype": "text/x-python",
   "name": "python",
   "nbconvert_exporter": "python",
   "pygments_lexer": "ipython3",
   "version": "3.9.12"
  }
 },
 "nbformat": 4,
 "nbformat_minor": 5
}
