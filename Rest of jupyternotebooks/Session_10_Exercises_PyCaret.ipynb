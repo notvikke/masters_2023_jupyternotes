{
 "cells": [
  {
   "cell_type": "markdown",
   "id": "f6b3b402-772f-46e3-961e-7a19d1d9aa61",
   "metadata": {},
   "source": [
    "# Session 10 - PyCaret & Streamlit"
   ]
  },
  {
   "cell_type": "markdown",
   "id": "a6a11be3-c811-49e5-9d70-933da244caa1",
   "metadata": {},
   "source": [
    "Today is our last session, but I hope this is just the starting point for your learning journey. "
   ]
  },
  {
   "cell_type": "markdown",
   "id": "7ad7c807-756e-442c-8996-7d336721e4c4",
   "metadata": {},
   "source": [
    "* You can go on from here and continue your learning of Python. Besides drilling your programming skills and understanding of data strucutres at HackerRank, Codewars or Exercism. You can look into the following popular Python libraries:\n",
    "\n",
    "    * Airflow - Most common workflow orhcestrator and scheduler. Create directional tasks for data processing. \n",
    "    * PySpark - Batch/streaming processing at scale with distributed computing. Combined familiar dataframe concepts with SQL and advanced ML library. \n",
    "    * FastAPI - Rather fresh and widely acclaimed library to build APIs to service your data to apps or external sources.\n",
    "* Side project idea to increase your learning curve. You can find an interesting use case and\n",
    "    * Combine several Public APIs [(you can find a list here)](https://github.com/public-apis/public-apis). Pull data using requests library/Python SDK's (API providers own library) OR use requests/BeautifulSoup to scrape the websites instead.\n",
    "    * Create scripts to ingest the data into your database or store flat files. \n",
    "    * Enrich the data by combining, cleaning multiple sources and create your API to service the new enriched data and/or apply data science tools to make predictions and create an analytical webapp with Streamlit for example. \n",
    "\n",
    "PS. This is my personal recommendation."
   ]
  },
  {
   "cell_type": "markdown",
   "id": "10179288-f316-47d2-8860-ea5b713e398f",
   "metadata": {
    "tags": []
   },
   "source": [
    "#### To solve dependency errors, create virtual environment and connect it with your Kernel here."
   ]
  },
  {
   "cell_type": "markdown",
   "id": "63c32781-1e48-4d81-9d47-8ecd1cd69e50",
   "metadata": {
    "tags": []
   },
   "source": [
    "If you need to create a virtual environment to make it work, you can do it like this in conda terminal (CMD.exe Prompt). \n",
    "\n",
    "1. Create the conda environment \n",
    "\n",
    "`conda create --name yourenvname python=3.8`\n",
    "\n",
    "2. Activate the conda environment\n",
    "\n",
    "`conda activate yourenvname`\n",
    "\n",
    "3. Install ipykernel\n",
    "\n",
    "`pip install ipykernel pycaret streamlit`\n",
    "\n",
    "4. Create notebook kernel connected with the conda environment\n",
    "\n",
    "`python -m ipykernel install --user --name yourenvname --display-name \"display-name\"`\n",
    "\n",
    "5. Go choose from Kernel -> Change Kernel the one with the display name. If not there, refresh your workbook (make sure you saved before if made changes).\n",
    "\n",
    "6. To exit the venv use the following command\n",
    "\n",
    "`conda deactivate`"
   ]
  },
  {
   "cell_type": "markdown",
   "id": "4638a953-9ac2-4ebe-9399-4d72d91fac95",
   "metadata": {},
   "source": [
    "# PyCaret - Automated Machine Learning\n",
    "\n",
    "As the official documentation of PyCaret puts it, it is \n",
    "<br>\n",
    "`... an open-source, low-code machine learning library in Python that automates machine learning workflows.`\n",
    "<br>\n",
    "Meaning that it shortens the experimentation, development, testing and deployment cycle rapidly. \n",
    "<br>\n",
    "Essentially, PyCaret combines numerous machine learning libraries incl. sklearn that we have used before. \n"
   ]
  },
  {
   "cell_type": "markdown",
   "id": "68f4add6-db98-452f-9e81-6da3b6740a5b",
   "metadata": {},
   "source": [
    "PyCaret includes several modules for:\n",
    "* Supervised classification, regression and time-series. \n",
    "<br>\n",
    "* Unsupervised modules include Clustering, Anomaly Detection, Associated Rule Mining (ARM) and NLP.\n",
    "\n",
    "\n",
    "Today, we will focus on classification as the main goal is to understand how to work with PyCaret rather than conduct and interpret in-depth analysis."
   ]
  },
  {
   "cell_type": "markdown",
   "id": "b6e2eb80-4834-41ac-8e55-aa984bc12df6",
   "metadata": {},
   "source": [
    "#### Exercise 1.0 - Import PyCaret (Install if needed), pycaret's classification module and pandas. "
   ]
  },
  {
   "cell_type": "code",
   "execution_count": 1,
   "id": "ff698a05-fcc4-4855-8bc1-935982d03827",
   "metadata": {},
   "outputs": [],
   "source": [
    "import pycaret\n",
    "import pandas as pd"
   ]
  },
  {
   "cell_type": "code",
   "execution_count": 2,
   "id": "53f33214-7065-4b2d-851f-e38adcc371ad",
   "metadata": {},
   "outputs": [],
   "source": [
    "from pycaret.classification import *"
   ]
  },
  {
   "cell_type": "markdown",
   "id": "c591cd30-bd90-46de-8625-8adc9deaff3d",
   "metadata": {},
   "source": [
    "#### Exercise 1.1 - Load our already familiar Churn dataset using Pandas.\n",
    "- How many rows and columns of the data do we have?"
   ]
  },
  {
   "cell_type": "code",
   "execution_count": 3,
   "id": "24104226-42a9-4d83-abe2-bbb74d4bd943",
   "metadata": {},
   "outputs": [
    {
     "data": {
      "text/html": [
       "<div>\n",
       "<style scoped>\n",
       "    .dataframe tbody tr th:only-of-type {\n",
       "        vertical-align: middle;\n",
       "    }\n",
       "\n",
       "    .dataframe tbody tr th {\n",
       "        vertical-align: top;\n",
       "    }\n",
       "\n",
       "    .dataframe thead th {\n",
       "        text-align: right;\n",
       "    }\n",
       "</style>\n",
       "<table border=\"1\" class=\"dataframe\">\n",
       "  <thead>\n",
       "    <tr style=\"text-align: right;\">\n",
       "      <th></th>\n",
       "      <th>Call  Failure</th>\n",
       "      <th>Complains</th>\n",
       "      <th>Subscription  Length</th>\n",
       "      <th>Charge  Amount</th>\n",
       "      <th>Seconds of Use</th>\n",
       "      <th>Frequency of use</th>\n",
       "      <th>Frequency of SMS</th>\n",
       "      <th>Distinct Called Numbers</th>\n",
       "      <th>Age Group</th>\n",
       "      <th>Tariff Plan</th>\n",
       "      <th>Status</th>\n",
       "      <th>Age</th>\n",
       "      <th>Customer Value</th>\n",
       "      <th>FN</th>\n",
       "      <th>FP</th>\n",
       "      <th>Churn</th>\n",
       "    </tr>\n",
       "  </thead>\n",
       "  <tbody>\n",
       "    <tr>\n",
       "      <th>0</th>\n",
       "      <td>8</td>\n",
       "      <td>0</td>\n",
       "      <td>38</td>\n",
       "      <td>0</td>\n",
       "      <td>4370</td>\n",
       "      <td>71</td>\n",
       "      <td>5</td>\n",
       "      <td>17</td>\n",
       "      <td>3</td>\n",
       "      <td>1</td>\n",
       "      <td>1</td>\n",
       "      <td>30</td>\n",
       "      <td>197.640</td>\n",
       "      <td>177.8760</td>\n",
       "      <td>69.7640</td>\n",
       "      <td>0</td>\n",
       "    </tr>\n",
       "    <tr>\n",
       "      <th>1</th>\n",
       "      <td>0</td>\n",
       "      <td>0</td>\n",
       "      <td>39</td>\n",
       "      <td>0</td>\n",
       "      <td>318</td>\n",
       "      <td>5</td>\n",
       "      <td>7</td>\n",
       "      <td>4</td>\n",
       "      <td>2</td>\n",
       "      <td>1</td>\n",
       "      <td>2</td>\n",
       "      <td>25</td>\n",
       "      <td>46.035</td>\n",
       "      <td>41.4315</td>\n",
       "      <td>60.0000</td>\n",
       "      <td>0</td>\n",
       "    </tr>\n",
       "    <tr>\n",
       "      <th>2</th>\n",
       "      <td>10</td>\n",
       "      <td>0</td>\n",
       "      <td>37</td>\n",
       "      <td>0</td>\n",
       "      <td>2453</td>\n",
       "      <td>60</td>\n",
       "      <td>359</td>\n",
       "      <td>24</td>\n",
       "      <td>3</td>\n",
       "      <td>1</td>\n",
       "      <td>1</td>\n",
       "      <td>30</td>\n",
       "      <td>1536.520</td>\n",
       "      <td>1382.8680</td>\n",
       "      <td>203.6520</td>\n",
       "      <td>0</td>\n",
       "    </tr>\n",
       "    <tr>\n",
       "      <th>3</th>\n",
       "      <td>10</td>\n",
       "      <td>0</td>\n",
       "      <td>38</td>\n",
       "      <td>0</td>\n",
       "      <td>4198</td>\n",
       "      <td>66</td>\n",
       "      <td>1</td>\n",
       "      <td>35</td>\n",
       "      <td>1</td>\n",
       "      <td>1</td>\n",
       "      <td>1</td>\n",
       "      <td>15</td>\n",
       "      <td>240.020</td>\n",
       "      <td>216.0180</td>\n",
       "      <td>74.0020</td>\n",
       "      <td>0</td>\n",
       "    </tr>\n",
       "    <tr>\n",
       "      <th>4</th>\n",
       "      <td>3</td>\n",
       "      <td>0</td>\n",
       "      <td>38</td>\n",
       "      <td>0</td>\n",
       "      <td>2393</td>\n",
       "      <td>58</td>\n",
       "      <td>2</td>\n",
       "      <td>33</td>\n",
       "      <td>1</td>\n",
       "      <td>1</td>\n",
       "      <td>1</td>\n",
       "      <td>15</td>\n",
       "      <td>145.805</td>\n",
       "      <td>131.2245</td>\n",
       "      <td>64.5805</td>\n",
       "      <td>0</td>\n",
       "    </tr>\n",
       "  </tbody>\n",
       "</table>\n",
       "</div>"
      ],
      "text/plain": [
       "   Call  Failure  Complains  Subscription  Length  Charge  Amount  \\\n",
       "0              8          0                    38               0   \n",
       "1              0          0                    39               0   \n",
       "2             10          0                    37               0   \n",
       "3             10          0                    38               0   \n",
       "4              3          0                    38               0   \n",
       "\n",
       "   Seconds of Use  Frequency of use  Frequency of SMS  \\\n",
       "0            4370                71                 5   \n",
       "1             318                 5                 7   \n",
       "2            2453                60               359   \n",
       "3            4198                66                 1   \n",
       "4            2393                58                 2   \n",
       "\n",
       "   Distinct Called Numbers  Age Group  Tariff Plan  Status  Age  \\\n",
       "0                       17          3            1       1   30   \n",
       "1                        4          2            1       2   25   \n",
       "2                       24          3            1       1   30   \n",
       "3                       35          1            1       1   15   \n",
       "4                       33          1            1       1   15   \n",
       "\n",
       "   Customer Value         FN        FP  Churn  \n",
       "0         197.640   177.8760   69.7640      0  \n",
       "1          46.035    41.4315   60.0000      0  \n",
       "2        1536.520  1382.8680  203.6520      0  \n",
       "3         240.020   216.0180   74.0020      0  \n",
       "4         145.805   131.2245   64.5805      0  "
      ]
     },
     "execution_count": 3,
     "metadata": {},
     "output_type": "execute_result"
    }
   ],
   "source": [
    "data = pd.read_csv(\"customer_churn.csv\")\n",
    "data.head()"
   ]
  },
  {
   "cell_type": "markdown",
   "id": "1384e955-49af-421b-8e6e-dc71b6b675bb",
   "metadata": {},
   "source": [
    "#### Exercise 1.2 - Split the dataframe into two parts, modeling and unseen data. \n",
    "1. Dataset that contains 90% of randomly sampled data with random state of 55. Call it `data`.\n",
    "2. Dataset that contains the rest of the data. Call it `unseen_data`.\n",
    "\n",
    "Make sure to reset the indexes in ascending order. \n",
    "\n",
    "How much data does now each of the set consist of?\n",
    "\n",
    "PS! You will need to use pandas methods. "
   ]
  },
  {
   "attachments": {
    "97af9cec-f8f3-4d62-9b77-8af9fd6013d4.png": {
     "image/png": "[encoded data removed]"
    }
   },
   "cell_type": "markdown",
   "id": "8bfc32a4-5073-40d7-bef6-2262806f28c3",
   "metadata": {},
   "source": [
    "#### Exercise 1.3 - Analyse the data and it's documentation - which variables are categorical or are currently numerical, and should be treated as categorical features? [Data Documentation](https://archive.ics.uci.edu/ml/datasets/Iranian+Churn+Dataset)\n",
    "* Add the categorical features into a list of column names called `categorical_features`\n",
    "* Treat all the rest of the features as numeric in a list called `numeric_features`\n",
    "\n",
    "We do this because PyCaret is running an inference algorithm with the goal to automatically infer the different datatypes based on the characteristics of the data. This also means, that sometimes it can infer it incorrectly - like this potentially can happen in our case with ordinal features.\n",
    "\n",
    "![image.png](attachment:97af9cec-f8f3-4d62-9b77-8af9fd6013d4.png)"
   ]
  },
  {
   "cell_type": "markdown",
   "id": "f518fb23-d2fb-48cd-a934-639bbb4e73c4",
   "metadata": {},
   "source": [
    "#### 1.3 - Let's initialize our model using the setup function. If you need any help then here is pycaret [Docs](https://pycaret.readthedocs.io/en/stable/api/classification.html) and [Setup Guide](https://pycaret.gitbook.io/docs/get-started/functions/initialize#setting-up-environment)\n",
    "- Use our dataframe, target, categorical features and numerical features. \n",
    "- Add that 80/20 train-test split, make sure that we stratifiy the split and our stratified kfolds are 5.\n",
    "- Make sure that features get normalized and that features with the inter-correlations higher than threshold of 0.8 are removed."
   ]
  },
  {
   "cell_type": "markdown",
   "id": "a070e6f8-552f-41c8-a741-32708e365069",
   "metadata": {},
   "source": [
    "#### Exercise 1.4 - Compare Models. Use the compare models function to train and evaluate the performance of all the estimators using cross-valdation.\n",
    "- Here the output of the function should be a scoring grid with average cross-validated scores. \n",
    "- Return the three best performing models.\n",
    "- Print out the three best performing models as a list."
   ]
  },
  {
   "cell_type": "markdown",
   "id": "eadc7e0b",
   "metadata": {},
   "source": [
    "#### Exercise 1.5 - Tune the model. \n",
    "- Let's create a cross-validated scoring grid of the hyperparameters by using our best performing estimator - Extra Trees Classifier ('et'). Optimize the model for accuracy and use 15 iterations. Make sure it always chooses better than the input model or returns the input model. [Docs](https://pycaret.gitbook.io/docs/get-started/functions/optimize#tune_model)\n",
    "- Secondly, tune our Random Forest Classifier model with custom params "
   ]
  },
  {
   "cell_type": "markdown",
   "id": "035c45f0",
   "metadata": {},
   "source": [
    "#### Exercise 1.6 - Analyze the model.\n",
    "- Plot the confusion matrix for `tuned_rf` with 50% scale. (You can get help from help(plot_model) to see all available plots). \n",
    "\n",
    "You can use customize the plot_kwargs method and [Yellowbricks Docs](https://www.scikit-yb.org/en/latest/api/classifier/confusion_matrix.html) to customize the visualisations. \n",
    "- Utilize evaluate_model to get an interactive model evaluator. (Only works in Jupyter Notebook)"
   ]
  },
  {
   "cell_type": "markdown",
   "id": "cedd4c65",
   "metadata": {},
   "source": [
    "So, evaluate_model actually just displays a user interface fanalyzing the performance of a trained model.\n",
    "Under the hood, it calls the plot_model function internally. "
   ]
  },
  {
   "cell_type": "markdown",
   "id": "40c6b59c",
   "metadata": {},
   "source": [
    "#### Exercise 1.6 - Save the model.\n",
    "- Refit the model on the entire \"seen\" dataset. \n",
    "- Use the save_model function to save the entire pipeline on your computer. "
   ]
  },
  {
   "cell_type": "markdown",
   "id": "c1d4a0fe",
   "metadata": {},
   "source": [
    "#### Exercise 1.7 - Load the saved model and create predictions on the unseen data."
   ]
  },
  {
   "cell_type": "markdown",
   "id": "ab888108",
   "metadata": {},
   "source": [
    "# Streamlit - Create web-apps for Data Science and Machine learning"
   ]
  },
  {
   "cell_type": "markdown",
   "id": "45177b83",
   "metadata": {},
   "source": [
    "For streamlit, use the `streamlit-exercises.py`"
   ]
  }
 ],
 "metadata": {
  "kernelspec": {
   "display_name": "Python 3 (ipykernel)",
   "language": "python",
   "name": "python3"
  },
  "language_info": {
   "codemirror_mode": {
    "name": "ipython",
    "version": 3
   },
   "file_extension": ".py",
   "mimetype": "text/x-python",
   "name": "python",
   "nbconvert_exporter": "python",
   "pygments_lexer": "ipython3",
   "version": "3.9.12"
  }
 },
 "nbformat": 4,
 "nbformat_minor": 5
}
