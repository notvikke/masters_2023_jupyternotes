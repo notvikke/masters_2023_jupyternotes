{
 "cells": [
  {
   "cell_type": "markdown",
   "metadata": {},
   "source": [
    "## Practice:\n",
    "### OS methods, file handling, and try-except"
   ]
  },
  {
   "cell_type": "markdown",
   "metadata": {},
   "source": [
    "### Exercise 1\n",
    "\n",
    "Write a function that takes a list as input, and saves the following lines in a .txt file:\n",
    "* For each number in the list:\n",
    "    * If the number is odd, print `num -> odd`\n",
    "    * If the number is even, print `num -> even`"
   ]
  },
  {
   "cell_type": "code",
   "execution_count": 18,
   "metadata": {},
   "outputs": [],
   "source": [
    "def odd_even_printer(num_list):\n",
    "    final_string=\"\"\n",
    "    with open(\"odd_even.txt\", \"w\") as f:\n",
    "        \n",
    "        for num in num_list:\n",
    "            new_line = f\"{num} is even\" if num % 2 == 0 else f\"{num} is odd\"\n",
    "            f.write(new_line + \"\\n\")\n",
    "            final_string+=new_line+ \"\\n\"\n",
    "        return final_string"
   ]
  },
  {
   "cell_type": "code",
   "execution_count": 19,
   "metadata": {},
   "outputs": [
    {
     "data": {
      "text/plain": [
       "'1 is odd\\n2 is even\\n3 is odd\\n4 is even\\n5 is odd\\n6 is even\\n7 is odd\\n8 is even\\n9 is odd\\n10 is even\\n'"
      ]
     },
     "execution_count": 19,
     "metadata": {},
     "output_type": "execute_result"
    }
   ],
   "source": [
    "odd_even_printer([1, 2, 3, 4, 5, 6, 7, 8, 9, 10])"
   ]
  },
  {
   "cell_type": "markdown",
   "metadata": {},
   "source": [
    "### Exercise 2\n",
    "\n",
    "Read the file created in the previous exercise, and print the lines that contain the word `odd`."
   ]
  },
  {
   "cell_type": "code",
   "execution_count": 22,
   "metadata": {},
   "outputs": [
    {
     "name": "stdout",
     "output_type": "stream",
     "text": [
      "1 is odd\n",
      "3 is odd\n",
      "5 is odd\n",
      "7 is odd\n",
      "9 is odd\n"
     ]
    }
   ],
   "source": [
    "with open(\"odd_even.txt\", \"r\") as f:\n",
    "    odd_even_content = f.read()\n",
    "\n",
    "odd_even_lines = odd_even_content.split(\"\\n\")\n",
    "\n",
    "for line in odd_even_lines:\n",
    "    if \"odd\" in line:\n",
    "        print(line)"
   ]
  },
  {
   "cell_type": "markdown",
   "metadata": {},
   "source": [
    "### Exercise 3\n",
    "\n",
    "Create a CSV file containing 4 columns: `num1`, `num2`, `num3`, `num4`. The file should contain 10 rows, with random integer values between 0 and 100 for each column."
   ]
  },
  {
   "cell_type": "code",
   "execution_count": 24,
   "metadata": {},
   "outputs": [
    {
     "data": {
      "text/plain": [
       "[{'num1': 18, 'num2': 84, 'num3': 75, 'num4': 48},\n",
       " {'num1': 77, 'num2': 40, 'num3': 69, 'num4': 37},\n",
       " {'num1': 30, 'num2': 50, 'num3': 75, 'num4': 7},\n",
       " {'num1': 76, 'num2': 25, 'num3': 81, 'num4': 40},\n",
       " {'num1': 92, 'num2': 46, 'num3': 97, 'num4': 61},\n",
       " {'num1': 82, 'num2': 70, 'num3': 47, 'num4': 94},\n",
       " {'num1': 3, 'num2': 59, 'num3': 91, 'num4': 61},\n",
       " {'num1': 96, 'num2': 67, 'num3': 26, 'num4': 72},\n",
       " {'num1': 38, 'num2': 20, 'num3': 30, 'num4': 30},\n",
       " {'num1': 43, 'num2': 30, 'num3': 9, 'num4': 92}]"
      ]
     },
     "execution_count": 24,
     "metadata": {},
     "output_type": "execute_result"
    }
   ],
   "source": [
    "# creating the data\n",
    "\n",
    "import random\n",
    "\n",
    "def create_data(n_rows, n_cols):\n",
    "\n",
    "    # empty list to store the data\n",
    "    list_of_rows = []\n",
    "\n",
    "    # looping through the rows\n",
    "    for row in range(n_rows):\n",
    "\n",
    "        # create empty dictionary to store the data for each row\n",
    "        dict_cols = {}\n",
    "\n",
    "        # looping through the columns\n",
    "        for col in range(1, n_cols + 1):\n",
    "\n",
    "            # create a random number for each (row, column) pair\n",
    "            dict_cols[f\"num{col}\"] = random.randint(0, 100)\n",
    "        \n",
    "        # append the dictionary to the list\n",
    "        list_of_rows.append(dict_cols)\n",
    "\n",
    "    return list_of_rows\n",
    "\n",
    "create_data(10, 4)"
   ]
  },
  {
   "cell_type": "code",
   "execution_count": 29,
   "metadata": {},
   "outputs": [
    {
     "name": "stdout",
     "output_type": "stream",
     "text": [
      "num1,num2,num3,num4\n",
      "95,63,7,64\n",
      "13,99,18,30\n",
      "46,33,92,30\n",
      "26,95,25,47\n",
      "40,88,60,98\n",
      "95,69,52,48\n",
      "37,99,12,76\n",
      "40,77,16,27\n",
      "89,57,1,29\n",
      "25,14,69,86\n",
      "\n"
     ]
    }
   ],
   "source": [
    "def save_data_as_csv(data, file_name):\n",
    "\n",
    "    # open the file in write mode\n",
    "    with open(file_name, \"w\") as f:\n",
    "\n",
    "        # write the header\n",
    "        header = \",\".join(data[0].keys()) + \"\\n\"\n",
    "        f.write(header)\n",
    "\n",
    "        # write the rest of the data\n",
    "        for row in data:\n",
    "            row_values = [str(v) for v in row.values()]\n",
    "            row_values = \",\".join(row_values)\n",
    "            f.write(row_values + \"\\n\")\n",
    "\n",
    "save_data_as_csv(create_data(10, 4), \"data.csv\")\n",
    "\n",
    "#printing csv files\n",
    "\n",
    "with open(\"data.csv\", \"r\") as f:\n",
    "    csv_data = f.read()\n",
    "csv_lines = csv_data.split(\"\\n\")\n",
    "for line in csv_lines:\n",
    "    print(line)"
   ]
  },
  {
   "cell_type": "markdown",
   "metadata": {},
   "source": [
    "### Exercise 4\n",
    "\n",
    "Read the CSV file created in the previous exercise, and create a dictionary containing the mean of each column.\n",
    "\n",
    "```python\n",
    "dict_mean_columns = {\n",
    "    \"num1\": mean_num1, \n",
    "    \"num2\": mean_num2, \n",
    "    \"num3\": mean_num3, \n",
    "    \"num4\": mean_num4\n",
    "}\n",
    "```"
   ]
  },
  {
   "cell_type": "code",
   "execution_count": 30,
   "metadata": {},
   "outputs": [
    {
     "data": {
      "text/plain": [
       "{'num1': 50.6, 'num2': 69.4, 'num3': 35.2, 'num4': 53.5}"
      ]
     },
     "execution_count": 30,
     "metadata": {},
     "output_type": "execute_result"
    }
   ],
   "source": [
    "with open(\"data.csv\", \"r\") as f:\n",
    "    csv_data = f.read()\n",
    "\n",
    "def dict_columns(csv_data):\n",
    "\n",
    "    # get the header and the names of the columns\n",
    "    col_names = csv_data.split(\"\\n\")[0].split(\",\")\n",
    "\n",
    "    # create a dictionary to store the data\n",
    "    dict_columns = {} \n",
    "\n",
    "    # keep the rows that contain data, excluding the header\n",
    "    data_rows = csv_data.split(\"\\n\")[1:]\n",
    "\n",
    "    # loop through the column names\n",
    "    for i, col in enumerate(col_names):\n",
    "\n",
    "        # create an empty list to store the data for each column\n",
    "        list_col_i = []\n",
    "\n",
    "        # loop through the data rows\n",
    "        for row in data_rows:\n",
    "\n",
    "            # error catching\n",
    "            try:\n",
    "                list_col_i.append(int(row.split(\",\")[i]))\n",
    "            except:\n",
    "                continue\n",
    "\n",
    "        # add the list of values to the column name key\n",
    "        dict_columns[col] = list_col_i\n",
    "\n",
    "    # return a dictionary containing the mean of each column\n",
    "    dict_means = {k: sum(v)/len(v) for k, v in dict_columns.items()}\n",
    "\n",
    "    return dict_means\n",
    "\n",
    "dict_columns(csv_data)"
   ]
  },
  {
   "cell_type": "markdown",
   "metadata": {},
   "source": [
    "### Exercise 5\n",
    "\n",
    "1. Print your current working directory\n",
    "2. Create a new directory called `new_dir`\n",
    "3. Change your current working directory to `new_dir`\n",
    "4. Create the CSV file from EX3 in the `new_dir` directory"
   ]
  },
  {
   "cell_type": "code",
   "execution_count": 43,
   "metadata": {},
   "outputs": [
    {
     "data": {
      "text/plain": [
       "'/Users/dgarhdez/Desktop/IE/python-for-data-analysis-1/notebooks_classes'"
      ]
     },
     "execution_count": 43,
     "metadata": {},
     "output_type": "execute_result"
    }
   ],
   "source": [
    "# 1\n",
    "import os\n",
    "os.getcwd()"
   ]
  },
  {
   "cell_type": "code",
   "execution_count": 46,
   "metadata": {},
   "outputs": [
    {
     "name": "stdout",
     "output_type": "stream",
     "text": [
      "Directory already exists\n"
     ]
    }
   ],
   "source": [
    "# 2\n",
    "try:\n",
    "    os.mkdir(\"new_dir\")\n",
    "except FileExistsError:\n",
    "    print(\"Directory already exists\")"
   ]
  },
  {
   "cell_type": "code",
   "execution_count": 47,
   "metadata": {},
   "outputs": [
    {
     "data": {
      "text/plain": [
       "'/Users/dgarhdez/Desktop/IE/python-for-data-analysis-1/notebooks_classes/new_dir'"
      ]
     },
     "execution_count": 47,
     "metadata": {},
     "output_type": "execute_result"
    }
   ],
   "source": [
    "# 3 \n",
    "os.chdir(\"new_dir\")\n",
    "os.getcwd()"
   ]
  },
  {
   "cell_type": "code",
   "execution_count": 48,
   "metadata": {},
   "outputs": [],
   "source": [
    "# 4\n",
    "save_data_as_csv(create_data(10, 4), \"data.csv\")"
   ]
  }
 ],
 "metadata": {
  "kernelspec": {
   "display_name": "Python 3 (ipykernel)",
   "language": "python",
   "name": "python3"
  },
  "language_info": {
   "codemirror_mode": {
    "name": "ipython",
    "version": 3
   },
   "file_extension": ".py",
   "mimetype": "text/x-python",
   "name": "python",
   "nbconvert_exporter": "python",
   "pygments_lexer": "ipython3",
   "version": "3.9.12"
  },
  "vscode": {
   "interpreter": {
    "hash": "a9f295c814a5ce7ff0b0a20f2b13117bfaf008fc7980e281f2c2bfa8e9ec0fbf"
   }
  }
 },
 "nbformat": 4,
 "nbformat_minor": 2
}
