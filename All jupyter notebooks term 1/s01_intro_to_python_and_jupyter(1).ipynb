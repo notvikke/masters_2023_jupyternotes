{
 "cells": [
  {
   "cell_type": "markdown",
   "metadata": {},
   "source": [
    "# Session 1. Intro to Python and Jupyter "
   ]
  },
  {
   "cell_type": "markdown",
   "metadata": {},
   "source": [
    "## Jupyter "
   ]
  },
  {
   "cell_type": "markdown",
   "metadata": {},
   "source": [
    "The Jupyter Notebook is an open-source web application that allows you to create and share documents that contain live code, equations, visualizations and narrative text. Uses include: data cleaning and transformation, numerical simulation, statistical modeling, data visualization, machine learning, and much more.\n",
    "\n",
    "[jupyter.org](https://jupyter.org)"
   ]
  },
  {
   "cell_type": "markdown",
   "metadata": {},
   "source": [
    "### Jupyter notebook: some shortcuts\n",
    "\n",
    "[Source](https://towardsdatascience.com/jypyter-notebook-shortcuts-bf0101a98330)"
   ]
  },
  {
   "cell_type": "markdown",
   "metadata": {},
   "source": [
    "Basic shortcuts\n",
    "* Enter edit mode\n",
    "* Esc command mode\n",
    "* Shift + Enter run the current cell, select below\n",
    "* Ctrl/Command + Enter run selected cells\n",
    "* Alt + Enter run the current cell, insert below\n",
    "* Ctrl/Command + S save and checkpoint\n",
    "\n",
    "Command mode shortcuts\n",
    "* Enter take you into edit mode\n",
    "* Up select cell above\n",
    "* Down select cell below\n",
    "* Shift + Up extend selected cells above\n",
    "* Shift + Down extend selected cells below\n",
    "* A insert cell above\n",
    "* B insert cell below\n",
    "* X cut selected cells\n",
    "* C copy selected cells\n",
    "* V paste cells below\n",
    "* Shift + V paste cells above\n",
    "* D, D (press the key twice) delete selected cells\n",
    "* Z undo cell deletion\n",
    "* S Save and Checkpoint\n",
    "* Y change the cell type to Code\n",
    "* M change the cell type to Markdown"
   ]
  },
  {
   "cell_type": "markdown",
   "metadata": {},
   "source": [
    "## Markdown basics\n",
    "\n",
    "[Basic syntax](https://www.markdownguide.org/basic-syntax/)"
   ]
  },
  {
   "cell_type": "markdown",
   "metadata": {},
   "source": [
    "# Heading 1\n",
    "## Heading 2\n",
    "### Heading 3\n",
    "#### Heading 4\n",
    "##### Heading 5\n",
    "\n",
    "normal text\n",
    "\n",
    "**bold**\n",
    "\n",
    "*italics*\n",
    "\n",
    "~strikethrough~"
   ]
  },
  {
   "cell_type": "markdown",
   "metadata": {},
   "source": [
    "# Python\n",
    "\n",
    "Python is a high-level, general purpose, interpreted, dynamic programming language. It is very popular in data science and machine learning.\n",
    "\n",
    "We will be using Python in this course, and in other courses in your Masters. Knowing how to use Python for data analytics and machine learning will give you a head start and will make learning the analytics technicalities way easier."
   ]
  },
  {
   "cell_type": "markdown",
   "metadata": {},
   "source": [
    "## Why Python?\n",
    "\n",
    "[StackOverflow Survey 2022](https://survey.stackoverflow.co/2022/#technology-most-popular-technologies)"
   ]
  },
  {
   "cell_type": "markdown",
   "metadata": {},
   "source": [
    "## What can you do with Python?"
   ]
  },
  {
   "cell_type": "markdown",
   "metadata": {},
   "source": [
    "### You can print stuff in the screen"
   ]
  },
  {
   "cell_type": "code",
   "execution_count": 4,
   "metadata": {},
   "outputs": [
    {
     "name": "stdout",
     "output_type": "stream",
     "text": [
      "Hello sdadasWorld!\n"
     ]
    }
   ],
   "source": [
    "print(\"Hello sdadasWorld!\")"
   ]
  },
  {
   "cell_type": "code",
   "execution_count": null,
   "metadata": {},
   "outputs": [],
   "source": []
  },
  {
   "cell_type": "code",
   "execution_count": 2,
   "metadata": {},
   "outputs": [
    {
     "name": "stdout",
     "output_type": "stream",
     "text": [
      "Hi Class!\n"
     ]
    }
   ],
   "source": [
    "print(\"Hi Class!\")"
   ]
  },
  {
   "cell_type": "markdown",
   "metadata": {},
   "source": [
    "### You can input data"
   ]
  },
  {
   "cell_type": "code",
   "execution_count": 5,
   "metadata": {},
   "outputs": [
    {
     "name": "stdout",
     "output_type": "stream",
     "text": [
      "What's your name?lucas is noob\n"
     ]
    },
    {
     "data": {
      "text/plain": [
       "'lucas is noob'"
      ]
     },
     "execution_count": 5,
     "metadata": {},
     "output_type": "execute_result"
    }
   ],
   "source": [
    "input(\"What's your name?\")"
   ]
  },
  {
   "cell_type": "markdown",
   "metadata": {},
   "source": [
    "### You can save your inputs as variables in the memory of your computer"
   ]
  },
  {
   "cell_type": "code",
   "execution_count": 6,
   "metadata": {},
   "outputs": [],
   "source": [
    "name = input(\"What's your name?\")"
   ]
  },
  {
   "cell_type": "markdown",
   "metadata": {},
   "source": [
    "### Comments can be added by a preceding #:\n",
    "\n",
    "Comments will be invisible to the python interpreter but will be very useful for your future self and your colleagues. Code should be coded in a way that's easy to understand for humans, because the computer will always understand it."
   ]
  },
  {
   "cell_type": "code",
   "execution_count": 6,
   "metadata": {},
   "outputs": [
    {
     "name": "stdout",
     "output_type": "stream",
     "text": [
      "a\n",
      "c\n",
      "l\n",
      "s\n",
      "u\n"
     ]
    }
   ],
   "source": [
    "# let's print all the vowels in English\n",
    "\n",
    "for letter in \"abcdefghijklmnopqrstuvwxyz\":  # loop through all the letters in the abc\n",
    "    \n",
    "    if letter in \"lucas\":  # only print noob\n",
    "        \n",
    "        print(letter)  # nice :D"
   ]
  },
  {
   "cell_type": "markdown",
   "metadata": {},
   "source": [
    "### You can encapsulate several commands in a single instruction -- Functions!"
   ]
  },
  {
   "cell_type": "code",
   "execution_count": 2,
   "metadata": {},
   "outputs": [],
   "source": [
    "def questions():\n",
    "    name = input(\"What's your name?\")\n",
    "    age = input(\"What's your age?\")\n",
    "    return name, age"
   ]
  },
  {
   "cell_type": "markdown",
   "metadata": {},
   "source": [
    "### You can run your own functions"
   ]
  },
  {
   "cell_type": "code",
   "execution_count": 3,
   "metadata": {},
   "outputs": [
    {
     "name": "stdout",
     "output_type": "stream",
     "text": [
      "What's your name?test\n",
      "What's your age?24\n"
     ]
    },
    {
     "data": {
      "text/plain": [
       "('test', '24')"
      ]
     },
     "execution_count": 3,
     "metadata": {},
     "output_type": "execute_result"
    }
   ],
   "source": [
    "questions()"
   ]
  },
  {
   "cell_type": "code",
   "execution_count": 13,
   "metadata": {},
   "outputs": [],
   "source": [
    "def best_professor():\n",
    "    name, age = questions()\n",
    "    best_prof = f\"The best professor is {name}, he looks way younger than {age}!\"\n",
    "    return best_prof"
   ]
  },
  {
   "cell_type": "code",
   "execution_count": 14,
   "metadata": {},
   "outputs": [
    {
     "name": "stdout",
     "output_type": "stream",
     "text": [
      "What's your name?fin de semana\n",
      "What's your age?0\n"
     ]
    },
    {
     "data": {
      "text/plain": [
       "'The best professor is fin de semana, he looks way younger than 0!'"
      ]
     },
     "execution_count": 14,
     "metadata": {},
     "output_type": "execute_result"
    }
   ],
   "source": [
    "best_professor()"
   ]
  },
  {
   "cell_type": "markdown",
   "metadata": {},
   "source": [
    "### You can count numbers"
   ]
  },
  {
   "cell_type": "code",
   "execution_count": 12,
   "metadata": {},
   "outputs": [
    {
     "data": {
      "text/plain": [
       "[1, 2, 3, 4, 5, 6, 7, 8, 9, 10, 11, 12, 13, 14, 15, 16, 17]"
      ]
     },
     "execution_count": 12,
     "metadata": {},
     "output_type": "execute_result"
    }
   ],
   "source": [
    "number = 17\n",
    "\n",
    "list(range(1, number+1))"
   ]
  },
  {
   "cell_type": "markdown",
   "metadata": {},
   "source": [
    "### You can calculate stuff"
   ]
  },
  {
   "cell_type": "code",
   "execution_count": 13,
   "metadata": {},
   "outputs": [
    {
     "data": {
      "text/plain": [
       "7"
      ]
     },
     "execution_count": 13,
     "metadata": {},
     "output_type": "execute_result"
    }
   ],
   "source": [
    "4 + 3"
   ]
  },
  {
   "cell_type": "markdown",
   "metadata": {},
   "source": [
    "### You can create functions to solve problems\n",
    "\n",
    "This function receives a number and returns True if the number is prime, and false otherwise."
   ]
  },
  {
   "cell_type": "code",
   "execution_count": null,
   "metadata": {},
   "outputs": [],
   "source": [
    "def is_prime(number):\n",
    "    \n",
    "    # set a list to store all the pure dividers\n",
    "    dividers = []\n",
    "    \n",
    "    # loop through all the numbers between our input and 1\n",
    "    for n in range(1, number+1):\n",
    "        \n",
    "        # check if division is exact by using the modulo/remainder\n",
    "        if number % n == 0: # if remainder is zero it's an exact division\n",
    "            dividers.append(n)  # we save the number as a divider if exact division\n",
    "            \n",
    "    # definition of prime: only exact division by 1 and itself\n",
    "    if dividers == [1, number]:\n",
    "        prime = True\n",
    "    else:\n",
    "        prime = False\n",
    "        \n",
    "    # return True/False and the dividers\n",
    "    return prime, dividers\n",
    "\n"
   ]
  },
  {
   "cell_type": "code",
   "execution_count": null,
   "metadata": {},
   "outputs": [],
   "source": [
    "is_prime(147436363463)"
   ]
  },
  {
   "cell_type": "markdown",
   "metadata": {},
   "source": [
    "### You can build your own calculators (yay!)"
   ]
  },
  {
   "cell_type": "markdown",
   "metadata": {},
   "source": [
    "$$ \\frac{2 + 0.14}{(4 \\cdot 3)^3} $$"
   ]
  },
  {
   "cell_type": "code",
   "execution_count": 16,
   "metadata": {},
   "outputs": [
    {
     "data": {
      "text/plain": [
       "0.001238425925925926"
      ]
     },
     "execution_count": 16,
     "metadata": {},
     "output_type": "execute_result"
    }
   ],
   "source": [
    "(2 + 0.14) / (4 * 3) ** 3"
   ]
  },
  {
   "cell_type": "markdown",
   "metadata": {},
   "source": [
    "### You can visualize data and build nice charts"
   ]
  },
  {
   "cell_type": "code",
   "execution_count": 19,
   "metadata": {},
   "outputs": [
    {
     "data": {
      "text/plain": [
       "<matplotlib.lines.Line2D at 0x1ca423cf6d0>"
      ]
     },
     "execution_count": 19,
     "metadata": {},
     "output_type": "execute_result"
    },
    {
     "data": {
      "image/png": "[encoded data removed]",
      "text/plain": [
       "<Figure size 432x288 with 1 Axes>"
      ]
     },
     "metadata": {
      "needs_background": "light"
     },
     "output_type": "display_data"
    }
   ],
   "source": [
    "import numpy as np\n",
    "import matplotlib.pyplot as plt\n",
    "\n",
    "x = np.arange(0, 6.28, 0.01) # create data between 0 and 2Pi\n",
    "y = np.sin(x) # get the sine of each value \n",
    "y2 = np.sin(x + 2) # get the sine of each value + 0.5\n",
    "\n",
    "plt.plot(x, y, color=\"green\")\n",
    "plt.plot(x, y2, color=\"blue\")\n",
    "plt.axhline(0, linestyle=\":\", color=\"black\")"
   ]
  },
  {
   "cell_type": "markdown",
   "metadata": {},
   "source": [
    "### You can access cool APIs and get data from the outside world: ISS!"
   ]
  },
  {
   "cell_type": "code",
   "execution_count": 18,
   "metadata": {},
   "outputs": [
    {
     "data": {
      "text/plain": [
       "{'message': 'success',\n",
       " 'timestamp': 1664385805,\n",
       " 'iss_position': {'latitude': '2.7499', 'longitude': '-82.5259'}}"
      ]
     },
     "execution_count": 18,
     "metadata": {},
     "output_type": "execute_result"
    }
   ],
   "source": [
    "import requests\n",
    "import json\n",
    "\n",
    "req = requests.get(\"http://api.open-notify.org/iss-now.json\")\n",
    "\n",
    "req_json = req.json()\n",
    "\n",
    "req_json"
   ]
  },
  {
   "cell_type": "markdown",
   "metadata": {},
   "source": [
    "#### Let's take two measurements, calculate the time in between, and find the speed of the ISS"
   ]
  },
  {
   "cell_type": "code",
   "execution_count": 19,
   "metadata": {},
   "outputs": [],
   "source": [
    "import time\n",
    "\n",
    "req1 = requests.get(\"http://api.open-notify.org/iss-now.json\")\n",
    "req1_json = req1.json()\n",
    "\n",
    "time.sleep(5)  # this makes the python interpreter wait for 5 seconds before running the next line\n",
    "\n",
    "req2 = requests.get(\"http://api.open-notify.org/iss-now.json\")\n",
    "req2_json = req2.json()"
   ]
  },
  {
   "cell_type": "markdown",
   "metadata": {},
   "source": [
    "Now we get the individual values for longitude and latitude for each request"
   ]
  },
  {
   "cell_type": "code",
   "execution_count": 20,
   "metadata": {},
   "outputs": [],
   "source": [
    "lat1 = req1_json[\"iss_position\"][\"latitude\"]\n",
    "lon1 = req1_json[\"iss_position\"][\"longitude\"]\n",
    "lat2 = req2_json[\"iss_position\"][\"latitude\"]\n",
    "lon2 = req2_json[\"iss_position\"][\"longitude\"]"
   ]
  },
  {
   "cell_type": "markdown",
   "metadata": {},
   "source": [
    "When calculating distances in a sphere (Like the Earth) we can't use the Euclidean distance:"
   ]
  },
  {
   "cell_type": "markdown",
   "metadata": {},
   "source": [
    "$$ d_{Euclidean} = \\sqrt{(x_2 - x_1)^2 + (y_2 - y_1)^2} $$"
   ]
  },
  {
   "cell_type": "markdown",
   "metadata": {},
   "source": [
    "We need to take into account the Earth's curvature and the radius: Haversine distance"
   ]
  },
  {
   "cell_type": "code",
   "execution_count": 21,
   "metadata": {},
   "outputs": [],
   "source": [
    "# https://stackoverflow.com/questions/4913349/haversine-formula-in-python-bearing-and-distance-between-two-gps-points\n",
    "# https://en.wikipedia.org/wiki/Haversine_formula\n",
    "\n",
    "from math import radians, cos, sin, asin, sqrt\n",
    "\n",
    "def haversine_distance(lon1, lat1, lon2, lat2):\n",
    "\n",
    "    R = 6372.8  # Radius of earth: for miles use 3959.87433 mi, for kilometers use 6372.8 km\n",
    "\n",
    "    dLat = radians(lat2 - lat1)\n",
    "    dLon = radians(lon2 - lon1)\n",
    "    lat1 = radians(lat1)\n",
    "    lat2 = radians(lat2)\n",
    "\n",
    "    a = sin(dLat/2)**2 + cos(lat1)*cos(lat2)*sin(dLon/2)**2\n",
    "    c = 2*asin(sqrt(a))\n",
    "\n",
    "    return R * c"
   ]
  },
  {
   "cell_type": "markdown",
   "metadata": {},
   "source": [
    "Errors found in this formula will account for participation.\n",
    "\n",
    "Now we can use this function to calculate distance in km."
   ]
  },
  {
   "cell_type": "code",
   "execution_count": 22,
   "metadata": {},
   "outputs": [
    {
     "ename": "TypeError",
     "evalue": "unsupported operand type(s) for -: 'str' and 'str'",
     "output_type": "error",
     "traceback": [
      "\u001b[0;31m---------------------------------------------------------------------------\u001b[0m",
      "\u001b[0;31mTypeError\u001b[0m                                 Traceback (most recent call last)",
      "\u001b[0;32m/var/folders/kn/gt9ggj051wdfjnfqv8xjl8qh0000gn/T/ipykernel_9870/96325305.py\u001b[0m in \u001b[0;36m<module>\u001b[0;34m\u001b[0m\n\u001b[0;32m----> 1\u001b[0;31m \u001b[0mhaversine_distance\u001b[0m\u001b[0;34m(\u001b[0m\u001b[0mlon1\u001b[0m\u001b[0;34m,\u001b[0m \u001b[0mlat1\u001b[0m\u001b[0;34m,\u001b[0m \u001b[0mlon2\u001b[0m\u001b[0;34m,\u001b[0m \u001b[0mlat2\u001b[0m\u001b[0;34m)\u001b[0m\u001b[0;34m\u001b[0m\u001b[0;34m\u001b[0m\u001b[0m\n\u001b[0m",
      "\u001b[0;32m/var/folders/kn/gt9ggj051wdfjnfqv8xjl8qh0000gn/T/ipykernel_9870/1769869606.py\u001b[0m in \u001b[0;36mhaversine_distance\u001b[0;34m(lon1, lat1, lon2, lat2)\u001b[0m\n\u001b[1;32m      8\u001b[0m     \u001b[0mR\u001b[0m \u001b[0;34m=\u001b[0m \u001b[0;36m6372.8\u001b[0m  \u001b[0;31m# for miles use 3959.87433 mi, for kilometers use 6372.8 km\u001b[0m\u001b[0;34m\u001b[0m\u001b[0;34m\u001b[0m\u001b[0m\n\u001b[1;32m      9\u001b[0m \u001b[0;34m\u001b[0m\u001b[0m\n\u001b[0;32m---> 10\u001b[0;31m     \u001b[0mdLat\u001b[0m \u001b[0;34m=\u001b[0m \u001b[0mradians\u001b[0m\u001b[0;34m(\u001b[0m\u001b[0mlat2\u001b[0m \u001b[0;34m-\u001b[0m \u001b[0mlat1\u001b[0m\u001b[0;34m)\u001b[0m\u001b[0;34m\u001b[0m\u001b[0;34m\u001b[0m\u001b[0m\n\u001b[0m\u001b[1;32m     11\u001b[0m     \u001b[0mdLon\u001b[0m \u001b[0;34m=\u001b[0m \u001b[0mradians\u001b[0m\u001b[0;34m(\u001b[0m\u001b[0mlon2\u001b[0m \u001b[0;34m-\u001b[0m \u001b[0mlon1\u001b[0m\u001b[0;34m)\u001b[0m\u001b[0;34m\u001b[0m\u001b[0;34m\u001b[0m\u001b[0m\n\u001b[1;32m     12\u001b[0m     \u001b[0mlat1\u001b[0m \u001b[0;34m=\u001b[0m \u001b[0mradians\u001b[0m\u001b[0;34m(\u001b[0m\u001b[0mlat1\u001b[0m\u001b[0;34m)\u001b[0m\u001b[0;34m\u001b[0m\u001b[0;34m\u001b[0m\u001b[0m\n",
      "\u001b[0;31mTypeError\u001b[0m: unsupported operand type(s) for -: 'str' and 'str'"
     ]
    }
   ],
   "source": [
    "haversine_distance(lon1, lat1, lon2, lat2)"
   ]
  },
  {
   "cell_type": "markdown",
   "metadata": {},
   "source": [
    "What happened?"
   ]
  },
  {
   "cell_type": "code",
   "execution_count": null,
   "metadata": {},
   "outputs": [],
   "source": [
    "lat1 = float(req1_json[\"iss_position\"][\"latitude\"])\n",
    "lon1 = float(req1_json[\"iss_position\"][\"longitude\"])\n",
    "lat2 = float(req2_json[\"iss_position\"][\"latitude\"])\n",
    "lon2 = float(req2_json[\"iss_position\"][\"longitude\"])"
   ]
  },
  {
   "cell_type": "code",
   "execution_count": null,
   "metadata": {},
   "outputs": [],
   "source": [
    "distance = haversine_distance(lon1, lat1, lon2, lat2)\n",
    "\n",
    "distance"
   ]
  },
  {
   "cell_type": "code",
   "execution_count": null,
   "metadata": {},
   "outputs": [],
   "source": [
    "speed_kps = distance / 5  # km/s\n",
    "speed_kph = speed_kps * 3600 # km/s * 3600s/h\n",
    "\n",
    "print(f\"The ISS is flying at a speed of {speed_kps} km/s, or {speed_kph}\")"
   ]
  },
  {
   "cell_type": "code",
   "execution_count": 1,
   "metadata": {},
   "outputs": [
    {
     "name": "stdout",
     "output_type": "stream",
     "text": [
      "0\n",
      "1\n",
      "2\n",
      "3\n",
      "4\n",
      "5\n",
      "6\n",
      "7\n"
     ]
    }
   ],
   "source": [
    "for i in range(8):\n",
    "    print(i)\n",
    "    "
   ]
  },
  {
   "cell_type": "code",
   "execution_count": 4,
   "metadata": {},
   "outputs": [
    {
     "name": "stdout",
     "output_type": "stream",
     "text": [
      "2\n",
      "3\n",
      "4\n",
      "5\n",
      "6\n",
      "7\n"
     ]
    }
   ],
   "source": [
    "for i in range(2,8):\n",
    "    print(i)"
   ]
  },
  {
   "cell_type": "code",
   "execution_count": 8,
   "metadata": {},
   "outputs": [
    {
     "name": "stdout",
     "output_type": "stream",
     "text": [
      "0\n",
      "1\n",
      "2\n",
      "3\n",
      "4\n",
      "5\n",
      "6\n",
      "7\n"
     ]
    }
   ],
   "source": [
    "i=0\n",
    "while i<=7:\n",
    "    print(i)\n",
    "    i=i+1"
   ]
  },
  {
   "cell_type": "code",
   "execution_count": 11,
   "metadata": {},
   "outputs": [
    {
     "name": "stdout",
     "output_type": "stream",
     "text": [
      "7\n",
      "6\n",
      "5\n",
      "4\n",
      "3\n",
      "2\n",
      "1\n",
      "0\n"
     ]
    }
   ],
   "source": [
    "for i in range(7,-1,-1):\n",
    "    print(i)"
   ]
  },
  {
   "cell_type": "code",
   "execution_count": 15,
   "metadata": {},
   "outputs": [
    {
     "name": "stdout",
     "output_type": "stream",
     "text": [
      "😋\n",
      "the value is  7\n",
      "the value is  6\n",
      "the value is  5\n",
      "the value is  4\n"
     ]
    }
   ],
   "source": [
    "\n",
    "print(\"😋\")\n",
    "for i in range(7,3,-1):\n",
    "    print(\"the value is \",i)"
   ]
  },
  {
   "cell_type": "code",
   "execution_count": 27,
   "metadata": {},
   "outputs": [
    {
     "name": "stdout",
     "output_type": "stream",
     "text": [
      "['sadadada@asdadad.com,', 'lkjhkjhjk@kjhjh.com,', 'oiuiouoi,@kjhkhk.com']\n"
     ]
    },
    {
     "ename": "AttributeError",
     "evalue": "'list' object has no attribute 'split'",
     "output_type": "error",
     "traceback": [
      "\u001b[1;31m---------------------------------------------------------------------------\u001b[0m",
      "\u001b[1;31mAttributeError\u001b[0m                            Traceback (most recent call last)",
      "Input \u001b[1;32mIn [27]\u001b[0m, in \u001b[0;36m<cell line: 11>\u001b[1;34m()\u001b[0m\n\u001b[0;32m      9\u001b[0m lentre    \n\u001b[0;32m     11\u001b[0m \u001b[38;5;28;01mfor\u001b[39;00m n \u001b[38;5;129;01min\u001b[39;00m lentre:\n\u001b[1;32m---> 12\u001b[0m     nentre \u001b[38;5;241m=\u001b[39m \u001b[43mn\u001b[49m\u001b[38;5;241;43m.\u001b[39;49m\u001b[43msplit\u001b[49m(\u001b[38;5;124m\"\u001b[39m\u001b[38;5;124m.\u001b[39m\u001b[38;5;124m\"\u001b[39m)\n\u001b[0;32m     13\u001b[0m     gentre\u001b[38;5;241m.\u001b[39mappend(nentre)\n",
      "\u001b[1;31mAttributeError\u001b[0m: 'list' object has no attribute 'split'"
     ]
    }
   ],
   "source": [
    "csv= \" sadadada@asdadad.com, lkjhkjhjk@kjhjh.com, oiuiouoi,@kjhkhk.com\"\n",
    "x = csv.split()\n",
    "print(x)\n",
    "lentre=[]\n",
    "gentre=[]\n",
    "for i in x:\n",
    "    entre = i.split(\"@\")\n",
    "    lentre.append(entre)\n",
    "lentre    \n"
   ]
  },
  {
   "cell_type": "code",
   "execution_count": null,
   "metadata": {},
   "outputs": [],
   "source": []
  }
 ],
 "metadata": {
  "kernelspec": {
   "display_name": "Python 3 (ipykernel)",
   "language": "python",
   "name": "python3"
  },
  "language_info": {
   "codemirror_mode": {
    "name": "ipython",
    "version": 3
   },
   "file_extension": ".py",
   "mimetype": "text/x-python",
   "name": "python",
   "nbconvert_exporter": "python",
   "pygments_lexer": "ipython3",
   "version": "3.9.12"
  },
  "vscode": {
   "interpreter": {
    "hash": "a9f295c814a5ce7ff0b0a20f2b13117bfaf008fc7980e281f2c2bfa8e9ec0fbf"
   }
  }
 },
 "nbformat": 4,
 "nbformat_minor": 4
}
