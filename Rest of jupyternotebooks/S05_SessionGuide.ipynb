{
 "cells": [
  {
   "cell_type": "markdown",
   "id": "864e3c9e",
   "metadata": {},
   "source": [
    "<table border=\"0\" style=\"width:100%\">\n",
    " <tr>\n",
    "    <td>\n",
    "        <img src=\"https://static-frm.ie.edu/university/wp-content/uploads/sites/6/2022/06/IE-University-logo.png\" width=150>\n",
    "     </td>\n",
    "    <td><div style=\"font-family:'Courier New'\">\n",
    "            <div style=\"font-size:25px\">\n",
    "                <div style=\"text-align: right\"> \n",
    "                    <b> MASTER IN BIG DATA</b>\n",
    "                    <br>\n",
    "                    Python for Data Analysis II\n",
    "                    <br><br>\n",
    "                    <em> Daniel Sierra Ramos </em>\n",
    "                </div>\n",
    "            </div>\n",
    "        </div>\n",
    "    </td>\n",
    " </tr>\n",
    "</table>"
   ]
  },
  {
   "cell_type": "markdown",
   "id": "6e84049f-d519-499c-866b-da64007d3626",
   "metadata": {},
   "source": [
    "# **S05: NUMPY**"
   ]
  },
  {
   "cell_type": "markdown",
   "id": "97f47f14-3127-4fac-99f8-60cd08032b65",
   "metadata": {},
   "source": [
    "## What is Numpy"
   ]
  },
  {
   "cell_type": "markdown",
   "id": "c697c959-72b9-459d-93e7-6e1f8372e71c",
   "metadata": {},
   "source": [
    "![](https://github.com/numpy/numpy/raw/main/branding/logo/primary/numpylogo.svg)"
   ]
  },
  {
   "cell_type": "markdown",
   "id": "c15ae25c-048f-41bd-b681-11d365227043",
   "metadata": {},
   "source": [
    "Numpy is a numerical computing library for Python.\n",
    "- Most of numpy functionality is written in C\n",
    "- Around 50x faster than traditional Python lists\n",
    "- The main data structure in numpy is the multidimensional array\n",
    "    - Vectors (1 dimension)\n",
    "    - Matrix (2 dimensions)\n",
    "    - Tensors (>2 dimensions)\n",
    "- Is memory efficient because, on the contrary as Python lists, numpy arrays are stored consecutively in memory, which improves memory access eficiency.\n",
    "- It's open source. Here is the code: https://github.com/numpy/numpy"
   ]
  },
  {
   "cell_type": "markdown",
   "id": "edb42809-4e4b-4a8b-b3a2-52625390b6b3",
   "metadata": {},
   "source": [
    "To use munpy library, first we have to import it with\n",
    "\n",
    "```python\n",
    "import numpy as np\n",
    "```"
   ]
  },
  {
   "cell_type": "code",
   "execution_count": 2,
   "id": "3044f2fe-3070-4d3e-83a4-eb76479bc91d",
   "metadata": {},
   "outputs": [],
   "source": [
    "import numpy as np"
   ]
  },
  {
   "cell_type": "markdown",
   "id": "5495dbc3-b8b1-41e0-98bb-edd0f50f3b25",
   "metadata": {},
   "source": [
    "## Lists -vs- Numpy Arrays\n",
    "\n",
    "The main difference between lists and numpy arrays is the way in which the inner elements are stored.\n",
    " - A Python `list` is a collection on pointers to each of the elements that belongs to the list.\n",
    " - A `ndarray` is a sequence of contiguous elements stored in memory\n",
    " \n",
    "![](https://jakevdp.github.io/PythonDataScienceHandbook/figures/array_vs_list.png)\n",
    "\n",
    "A Python list is much **more flexible** because it can store any kind fo data while the numpy array don't. On the contrary, the numpy array is **more efficient** for storing and manipulating data"
   ]
  },
  {
   "cell_type": "markdown",
   "id": "291a4918-b9d3-45b9-b9cb-0518e1c86c70",
   "metadata": {},
   "source": [
    "## Arrays in Numpy"
   ]
  },
  {
   "cell_type": "code",
   "execution_count": 3,
   "id": "4366d7c7-5b95-45b4-b9d7-8b8c05c88098",
   "metadata": {},
   "outputs": [],
   "source": [
    "# Create arrays from lists\n",
    "\n",
    "L = [1,2,3,4,5,6]\n",
    "aL = np.array(L)"
   ]
  },
  {
   "cell_type": "code",
   "execution_count": 4,
   "id": "0a608dc1-3c9c-48c7-b042-b32e3d93bfb5",
   "metadata": {},
   "outputs": [
    {
     "data": {
      "text/plain": [
       "list"
      ]
     },
     "execution_count": 4,
     "metadata": {},
     "output_type": "execute_result"
    }
   ],
   "source": [
    "type(L)"
   ]
  },
  {
   "cell_type": "code",
   "execution_count": 5,
   "id": "19bf5fab-b950-4301-8c7f-2eaef9cab798",
   "metadata": {},
   "outputs": [
    {
     "data": {
      "text/plain": [
       "numpy.ndarray"
      ]
     },
     "execution_count": 5,
     "metadata": {},
     "output_type": "execute_result"
    }
   ],
   "source": [
    "type(aL)"
   ]
  },
  {
   "cell_type": "code",
   "execution_count": 6,
   "id": "594ece4a-dec9-4fca-ba11-530814d3d20e",
   "metadata": {},
   "outputs": [
    {
     "name": "stdout",
     "output_type": "stream",
     "text": [
      "[1 2 3 4 5 6]\n"
     ]
    }
   ],
   "source": [
    "print(aL)"
   ]
  },
  {
   "cell_type": "code",
   "execution_count": 7,
   "id": "05976b20-6ff3-4322-8161-77bebcef0bee",
   "metadata": {},
   "outputs": [
    {
     "data": {
      "text/plain": [
       "dtype('int32')"
      ]
     },
     "execution_count": 7,
     "metadata": {},
     "output_type": "execute_result"
    }
   ],
   "source": [
    "aL.dtype"
   ]
  },
  {
   "cell_type": "markdown",
   "id": "7dc639b5-54e1-43a5-8499-43c9c552b20e",
   "metadata": {},
   "source": [
    "> ***EXAMPLE 1***\n",
    ">\n",
    "> Create an array from list `L=[1,2,3,\"A\",\"B\"]`\n",
    "> - What happened with data types in the resulting array?"
   ]
  },
  {
   "cell_type": "code",
   "execution_count": 8,
   "id": "a2add84d-f211-45f6-b8dd-650f6c796f47",
   "metadata": {},
   "outputs": [],
   "source": [
    "L=[1,2,3,\"A\",\"B\"]"
   ]
  },
  {
   "cell_type": "code",
   "execution_count": 9,
   "id": "0f1dd1f9-ec39-400e-b87f-a026db57fc8a",
   "metadata": {},
   "outputs": [],
   "source": [
    "aL = np.array(L)"
   ]
  },
  {
   "cell_type": "code",
   "execution_count": 10,
   "id": "c5cabd29-f2db-441e-b1aa-2cb5c6c34ac3",
   "metadata": {},
   "outputs": [
    {
     "data": {
      "text/plain": [
       "array(['1', '2', '3', 'A', 'B'], dtype='<U11')"
      ]
     },
     "execution_count": 10,
     "metadata": {},
     "output_type": "execute_result"
    }
   ],
   "source": [
    "aL"
   ]
  },
  {
   "cell_type": "markdown",
   "id": "b26405a4-4e81-44f6-8377-6b7a82a5df9f",
   "metadata": {},
   "source": [
    "## Numpy API reference\n",
    "https://numpy.org/doc/stable/reference/"
   ]
  },
  {
   "cell_type": "markdown",
   "id": "15e100e0-f7bf-48cf-b3a6-555b41bf5d8a",
   "metadata": {},
   "source": [
    "## Create arrays from scratch\n",
    "https://numpy.org/doc/stable/reference/routines.array-creation.html\n",
    "\n",
    "The most common methods are\n",
    "|Function|Description|\n",
    "|-|-|\n",
    "|`np.zeros`|Creates an array of zeros|\n",
    "|`np.ones`|Creates an array of ones|\n",
    "|`np.full`|Creates an array filled with the given value| \n",
    "|`np.arange`|Analogous to the `range` built-in function|"
   ]
  },
  {
   "cell_type": "code",
   "execution_count": 11,
   "id": "f6b919c3-37d4-47a4-b8c8-8247157e6181",
   "metadata": {},
   "outputs": [
    {
     "data": {
      "text/plain": [
       "array([0., 0., 0., 0., 0.])"
      ]
     },
     "execution_count": 11,
     "metadata": {},
     "output_type": "execute_result"
    }
   ],
   "source": [
    "np.zeros(5)"
   ]
  },
  {
   "cell_type": "code",
   "execution_count": 14,
   "id": "462eb7ab-299c-4cba-a05e-cdec9dc017cf",
   "metadata": {},
   "outputs": [
    {
     "data": {
      "text/plain": [
       "array([1., 1., 1., 1.])"
      ]
     },
     "execution_count": 14,
     "metadata": {},
     "output_type": "execute_result"
    }
   ],
   "source": [
    "np.ones(4)"
   ]
  },
  {
   "cell_type": "code",
   "execution_count": 15,
   "id": "48b998e8-7f05-42eb-97ce-481d4fb80176",
   "metadata": {},
   "outputs": [
    {
     "data": {
      "text/plain": [
       "array([23, 23, 23, 23, 23])"
      ]
     },
     "execution_count": 15,
     "metadata": {},
     "output_type": "execute_result"
    }
   ],
   "source": [
    "np.full(5, fill_value=23)"
   ]
  },
  {
   "cell_type": "code",
   "execution_count": 16,
   "id": "b5986802-6219-4616-8189-053c64577f8e",
   "metadata": {},
   "outputs": [
    {
     "data": {
      "text/plain": [
       "array([1, 2, 3, 4, 5, 6, 7, 8, 9])"
      ]
     },
     "execution_count": 16,
     "metadata": {},
     "output_type": "execute_result"
    }
   ],
   "source": [
    "np.arange(1, 10)"
   ]
  },
  {
   "cell_type": "code",
   "execution_count": 12,
   "id": "1bb18b89-935c-4a14-9563-f74edd83f94f",
   "metadata": {},
   "outputs": [
    {
     "data": {
      "text/plain": [
       "array([0.25725336, 0.93213681, 0.68094552, 0.62961932, 0.32661102,\n",
       "       0.65632093, 0.48236255, 0.30286024, 0.69704257, 0.46623954])"
      ]
     },
     "execution_count": 12,
     "metadata": {},
     "output_type": "execute_result"
    }
   ],
   "source": [
    "np.random.random(10)"
   ]
  },
  {
   "cell_type": "markdown",
   "id": "592d7acc-8b35-4fcf-8cda-1d6f5f8f856d",
   "metadata": {},
   "source": [
    "## N-dimensional arrays\n",
    "\n",
    "In Numpy, the manipulation of multidimensional data structures is very efficient and straightforward"
   ]
  },
  {
   "cell_type": "code",
   "execution_count": 18,
   "id": "5e2dc333-59e2-4f6d-82bd-16a54519e98d",
   "metadata": {},
   "outputs": [
    {
     "name": "stdout",
     "output_type": "stream",
     "text": [
      "[1 2 3 4 5 6 7 8 9]\n",
      "Shape: (9,)\n"
     ]
    }
   ],
   "source": [
    "vector = np.array([1,2,3,4,5,6,7,8,9])\n",
    "print(vector)\n",
    "print(f\"Shape: {vector.shape}\")"
   ]
  },
  {
   "cell_type": "code",
   "execution_count": 13,
   "id": "8687280a-005e-494b-9e60-d1026852d54d",
   "metadata": {},
   "outputs": [
    {
     "name": "stdout",
     "output_type": "stream",
     "text": [
      "[[1 2 3 4 5 6 7 8 9]\n",
      " [1 2 3 4 5 6 7 8 9]]\n",
      "Shape: (2, 9)\n"
     ]
    }
   ],
   "source": [
    "matrix = np.array([[1,2,3,4,5,6,7,8,9], [1,2,3,4,5,6,7,8,9]])\n",
    "print(matrix)\n",
    "print(f\"Shape: {matrix.shape}\")"
   ]
  },
  {
   "cell_type": "code",
   "execution_count": 14,
   "id": "27e9d6a9-af23-4668-bb7a-5098718ae24b",
   "metadata": {},
   "outputs": [
    {
     "name": "stdout",
     "output_type": "stream",
     "text": [
      "[[[1 2 3 4 5 6 7 8 9]\n",
      "  [1 2 3 4 5 6 7 8 9]]\n",
      "\n",
      " [[1 2 3 4 5 6 7 8 9]\n",
      "  [1 2 3 4 5 6 7 8 9]]]\n",
      "Shape: (2, 2, 9)\n"
     ]
    }
   ],
   "source": [
    "tensor = np.array([[[1,2,3,4,5,6,7,8,9], [1,2,3,4,5,6,7,8,9]], [[1,2,3,4,5,6,7,8,9], [1,2,3,4,5,6,7,8,9]]])\n",
    "print(tensor)\n",
    "print(f\"Shape: {tensor.shape}\")"
   ]
  },
  {
   "cell_type": "code",
   "execution_count": 15,
   "id": "d99b9146-d33e-4eda-bc68-a48538b37a73",
   "metadata": {},
   "outputs": [
    {
     "data": {
      "text/plain": [
       "array([[1., 0., 0., 0., 0.],\n",
       "       [0., 1., 0., 0., 0.],\n",
       "       [0., 0., 1., 0., 0.],\n",
       "       [0., 0., 0., 1., 0.],\n",
       "       [0., 0., 0., 0., 1.]])"
      ]
     },
     "execution_count": 15,
     "metadata": {},
     "output_type": "execute_result"
    }
   ],
   "source": [
    "# identity matrix\n",
    "np.eye(5)"
   ]
  },
  {
   "cell_type": "markdown",
   "id": "520c0766-3f52-433b-a1e7-a12b4fe39c2c",
   "metadata": {},
   "source": [
    "## The `np.random` module\n",
    "Random variables: https://numpy.org/doc/stable/reference/random/generator.html#distributions"
   ]
  },
  {
   "cell_type": "markdown",
   "id": "aed1f2de-4515-452e-ac5f-27de40407660",
   "metadata": {},
   "source": [
    "> ***EXAMPLE 2***\n",
    ">\n",
    "> Sample 10K samples form the following univariate Gaussian distributionn\n",
    "> $$d\\sim N(0,1)$$"
   ]
  },
  {
   "cell_type": "code",
   "execution_count": 16,
   "id": "a2df32be-ff8c-4b26-9cb8-36b0adff890b",
   "metadata": {},
   "outputs": [],
   "source": [
    "d = np.random.normal(0, 1, size=10000)"
   ]
  },
  {
   "cell_type": "code",
   "execution_count": 17,
   "id": "b56b8dd3-64f5-44ce-a4c0-a5913fbd4f9c",
   "metadata": {},
   "outputs": [
    {
     "data": {
      "text/plain": [
       "(10000,)"
      ]
     },
     "execution_count": 17,
     "metadata": {},
     "output_type": "execute_result"
    }
   ],
   "source": [
    "d.shape"
   ]
  },
  {
   "cell_type": "markdown",
   "id": "697f4ab5-63b7-4d13-8ba5-21f9e362da6d",
   "metadata": {},
   "source": [
    "> ***EXAMPLE 3***\n",
    ">\n",
    "> Sample 10K samples form the following bivariate Gaussian distributionn\n",
    "> $$d\\sim N(\\textbf{0},\\mathbb{\\textbf{1}})$$"
   ]
  },
  {
   "cell_type": "code",
   "execution_count": 18,
   "id": "b3eb1c3d-6a48-47cf-8f6c-77159006cd27",
   "metadata": {},
   "outputs": [],
   "source": [
    "d = np.random.multivariate_normal([0,0], np.eye(2), size=10000)"
   ]
  },
  {
   "cell_type": "code",
   "execution_count": 19,
   "id": "f3bdd0e0-376d-4605-a8d6-b6714b73adc1",
   "metadata": {},
   "outputs": [
    {
     "data": {
      "text/plain": [
       "array([[ 0.39306392, -0.74254578],\n",
       "       [-0.74110313,  0.36648224],\n",
       "       [-1.24433849, -1.39381916],\n",
       "       ...,\n",
       "       [-1.50267327,  0.2229117 ],\n",
       "       [-0.30380493, -1.04866362],\n",
       "       [-0.80986956, -2.19197741]])"
      ]
     },
     "execution_count": 19,
     "metadata": {},
     "output_type": "execute_result"
    }
   ],
   "source": [
    "d"
   ]
  },
  {
   "cell_type": "markdown",
   "id": "cae57487-53fd-464e-b6cf-5fe5d8cc9bf7",
   "metadata": {},
   "source": [
    "## Indexing and slicing"
   ]
  },
  {
   "cell_type": "markdown",
   "id": "148e027c-06fc-4feb-8a03-569476383f15",
   "metadata": {},
   "source": [
    "### Accessing single elements"
   ]
  },
  {
   "cell_type": "code",
   "execution_count": 20,
   "id": "518cdf38-c460-499d-b551-e37f35743946",
   "metadata": {},
   "outputs": [],
   "source": [
    "x = np.array([1,2,3,4,5,6,7,8,9])"
   ]
  },
  {
   "cell_type": "code",
   "execution_count": 21,
   "id": "a8d2fcf0-e446-49a3-908a-0123861d0d50",
   "metadata": {},
   "outputs": [
    {
     "data": {
      "text/plain": [
       "4"
      ]
     },
     "execution_count": 21,
     "metadata": {},
     "output_type": "execute_result"
    }
   ],
   "source": [
    "x[3]"
   ]
  },
  {
   "cell_type": "code",
   "execution_count": 22,
   "id": "52541fb6-bba7-4b1b-89ed-18007210ca49",
   "metadata": {},
   "outputs": [],
   "source": [
    "X = np.array([[1,2,3], [4,5,6]])"
   ]
  },
  {
   "cell_type": "code",
   "execution_count": 23,
   "id": "00165469-13a4-4e5d-b9df-b2a920a80aa5",
   "metadata": {},
   "outputs": [
    {
     "data": {
      "text/plain": [
       "array([[1, 2, 3],\n",
       "       [4, 5, 6]])"
      ]
     },
     "execution_count": 23,
     "metadata": {},
     "output_type": "execute_result"
    }
   ],
   "source": [
    "X"
   ]
  },
  {
   "cell_type": "code",
   "execution_count": 24,
   "id": "934f3341-d2c6-4220-9ff3-11960a0cd30b",
   "metadata": {},
   "outputs": [
    {
     "data": {
      "text/plain": [
       "3"
      ]
     },
     "execution_count": 24,
     "metadata": {},
     "output_type": "execute_result"
    }
   ],
   "source": [
    "# access by rows-columns\n",
    "X[0,2]"
   ]
  },
  {
   "cell_type": "markdown",
   "id": "f1f59b20-4ef7-450b-99a6-647ef80179f7",
   "metadata": {},
   "source": [
    "> ***EXAMPLE 4***\n",
    ">\n",
    "> Create a 10-by-10 random matrix and select the element in the 6th row / 7th column"
   ]
  },
  {
   "cell_type": "code",
   "execution_count": 25,
   "id": "9ec47326-bffd-4c6b-af42-0aae9819ce46",
   "metadata": {},
   "outputs": [],
   "source": [
    "d = np.random.multivariate_normal(np.zeros(10), np.eye(10), size=10)"
   ]
  },
  {
   "cell_type": "code",
   "execution_count": 26,
   "id": "b7243f9f-10fe-4c54-b01c-12ffeb7b1e3f",
   "metadata": {},
   "outputs": [
    {
     "data": {
      "text/plain": [
       "-0.3816946486424704"
      ]
     },
     "execution_count": 26,
     "metadata": {},
     "output_type": "execute_result"
    }
   ],
   "source": [
    "d[5,6]"
   ]
  },
  {
   "cell_type": "markdown",
   "id": "aedde7b7-074f-4379-bef2-4b21f6dbddec",
   "metadata": {},
   "source": [
    "### Accessing subarrays"
   ]
  },
  {
   "cell_type": "code",
   "execution_count": 27,
   "id": "482305f7-55ca-46b5-b1b7-8db44321e0eb",
   "metadata": {},
   "outputs": [],
   "source": [
    "d = np.random.multivariate_normal([0,0], np.eye(2), size=10000)"
   ]
  },
  {
   "cell_type": "code",
   "execution_count": 28,
   "id": "d41ec3c0-6527-46ed-85f3-9b9c6c4e2598",
   "metadata": {},
   "outputs": [
    {
     "data": {
      "text/plain": [
       "array([[ 0.94661764,  1.4659761 ],\n",
       "       [-1.00121841, -2.12763245],\n",
       "       [ 0.36264015, -1.58072496],\n",
       "       ...,\n",
       "       [ 0.07390019,  0.78427233],\n",
       "       [-0.69968362,  2.0578795 ],\n",
       "       [ 0.21860964, -0.24750858]])"
      ]
     },
     "execution_count": 28,
     "metadata": {},
     "output_type": "execute_result"
    }
   ],
   "source": [
    "d"
   ]
  },
  {
   "cell_type": "code",
   "execution_count": 29,
   "id": "faa09543-a4ba-4856-baed-4a97a3f04143",
   "metadata": {},
   "outputs": [
    {
     "data": {
      "text/plain": [
       "array([ 0.94661764, -1.00121841,  0.36264015, ...,  0.07390019,\n",
       "       -0.69968362,  0.21860964])"
      ]
     },
     "execution_count": 29,
     "metadata": {},
     "output_type": "execute_result"
    }
   ],
   "source": [
    "# select the first column\n",
    "d[:,0]"
   ]
  },
  {
   "cell_type": "code",
   "execution_count": 30,
   "id": "1c1523f7-cc6d-4650-97dc-c53a05abb36d",
   "metadata": {},
   "outputs": [
    {
     "data": {
      "text/plain": [
       "array([ 1.4659761 , -2.12763245, -1.58072496, ...,  0.78427233,\n",
       "        2.0578795 , -0.24750858])"
      ]
     },
     "execution_count": 30,
     "metadata": {},
     "output_type": "execute_result"
    }
   ],
   "source": [
    "# select the second column\n",
    "d[:,1]"
   ]
  },
  {
   "cell_type": "code",
   "execution_count": 31,
   "id": "230b6bae-569a-49f1-b753-18fbf196ec01",
   "metadata": {},
   "outputs": [
    {
     "data": {
      "text/plain": [
       "array([ 0.36264015, -1.58072496])"
      ]
     },
     "execution_count": 31,
     "metadata": {},
     "output_type": "execute_result"
    }
   ],
   "source": [
    "# select the third row\n",
    "d[2,:]"
   ]
  },
  {
   "cell_type": "code",
   "execution_count": 32,
   "id": "483f9387-43f1-48a2-9bde-f4b08ba75194",
   "metadata": {},
   "outputs": [
    {
     "data": {
      "text/plain": [
       "array([-0.08516494,  0.6339979 , -0.2940304 , ...,  0.78427233,\n",
       "        2.0578795 , -0.24750858])"
      ]
     },
     "execution_count": 32,
     "metadata": {},
     "output_type": "execute_result"
    }
   ],
   "source": [
    "# select second column starting by 20th row\n",
    "d[19:,1]"
   ]
  },
  {
   "cell_type": "code",
   "execution_count": 33,
   "id": "ec0e823b-3fd9-46f5-a688-65b6829ddb25",
   "metadata": {},
   "outputs": [
    {
     "data": {
      "text/plain": [
       "array([-0.08516494, -0.2940304 , -1.27031711, ..., -0.90180941,\n",
       "        0.78427233, -0.24750858])"
      ]
     },
     "execution_count": 33,
     "metadata": {},
     "output_type": "execute_result"
    }
   ],
   "source": [
    "# select second column starting by 20th row, but by twos\n",
    "d[19::2,1]"
   ]
  },
  {
   "cell_type": "markdown",
   "id": "dc98a657-f844-4d24-bfb9-13cb5a356a29",
   "metadata": {},
   "source": [
    "> ***EXAMPLE 5***\n",
    ">\n",
    "> Give the matrix generated with `d = np.random.multivariate_normal([0,0,0,0], np.eye(4), size=10000)`\n",
    ">\n",
    "> Select the following submatrix\n",
    "> - Second and third column and all rows from 30th by threes"
   ]
  },
  {
   "cell_type": "code",
   "execution_count": 34,
   "id": "1e943b07-d65c-473c-b9fc-efdaebb6192e",
   "metadata": {},
   "outputs": [],
   "source": [
    "d = np.random.multivariate_normal([0,0,0,0], np.eye(4), size=10000)"
   ]
  },
  {
   "cell_type": "code",
   "execution_count": 49,
   "id": "812a1694-80ab-4e30-bb9e-a7b0370d4468",
   "metadata": {},
   "outputs": [
    {
     "data": {
      "text/plain": [
       "array([[-1.59756835, -0.15430683],\n",
       "       [-0.68490674, -0.17072197],\n",
       "       [ 0.52346258,  0.53902201],\n",
       "       ...,\n",
       "       [ 0.6569955 ,  0.62993447],\n",
       "       [-0.05122118, -0.52798257],\n",
       "       [-1.95052798,  0.30303867]])"
      ]
     },
     "execution_count": 49,
     "metadata": {},
     "output_type": "execute_result"
    }
   ],
   "source": [
    "d[29::3,1:3]"
   ]
  },
  {
   "cell_type": "code",
   "execution_count": 48,
   "id": "29f5ee70-bad8-43e3-94a7-4b2120758cbe",
   "metadata": {},
   "outputs": [
    {
     "data": {
      "text/plain": [
       "array([[-1.59756835, -0.15430683],\n",
       "       [-0.68490674, -0.17072197],\n",
       "       [ 0.52346258,  0.53902201],\n",
       "       ...,\n",
       "       [ 0.6569955 ,  0.62993447],\n",
       "       [-0.05122118, -0.52798257],\n",
       "       [-1.95052798,  0.30303867]])"
      ]
     },
     "execution_count": 48,
     "metadata": {},
     "output_type": "execute_result"
    }
   ],
   "source": [
    "d[29::3,[1,2]]"
   ]
  },
  {
   "cell_type": "markdown",
   "id": "bf60e5bb-ed9b-47aa-bcc4-c42cadd3b410",
   "metadata": {},
   "source": [
    "## Operations"
   ]
  },
  {
   "cell_type": "code",
   "execution_count": 50,
   "id": "ce3c8ac0-1b19-43de-8863-a6f977fe560e",
   "metadata": {},
   "outputs": [],
   "source": [
    "A = np.array([1,2,3])\n",
    "B = np.array([\n",
    "    [1,2,1],\n",
    "    [3,4,2],\n",
    "    [8,1,6]\n",
    "])"
   ]
  },
  {
   "cell_type": "code",
   "execution_count": 51,
   "id": "552e261c-20f9-4161-afd6-51de0c1507db",
   "metadata": {},
   "outputs": [
    {
     "data": {
      "text/plain": [
       "array([1, 2, 3])"
      ]
     },
     "execution_count": 51,
     "metadata": {},
     "output_type": "execute_result"
    }
   ],
   "source": [
    "A"
   ]
  },
  {
   "cell_type": "code",
   "execution_count": 54,
   "id": "e0c48c54-d83c-47e6-980d-b4c054164436",
   "metadata": {},
   "outputs": [
    {
     "data": {
      "text/plain": [
       "array([[1, 2, 1],\n",
       "       [3, 4, 2],\n",
       "       [8, 1, 6]])"
      ]
     },
     "execution_count": 54,
     "metadata": {},
     "output_type": "execute_result"
    }
   ],
   "source": [
    "B"
   ]
  },
  {
   "cell_type": "markdown",
   "id": "cd927c2c-bee9-4946-8da3-46632f5b5afa",
   "metadata": {},
   "source": [
    "### Scalar operations"
   ]
  },
  {
   "cell_type": "code",
   "execution_count": 52,
   "id": "a0643485-b19c-43b4-8f65-da98c2d84210",
   "metadata": {},
   "outputs": [
    {
     "data": {
      "text/plain": [
       "array([6, 7, 8])"
      ]
     },
     "execution_count": 52,
     "metadata": {},
     "output_type": "execute_result"
    }
   ],
   "source": [
    "A + 5"
   ]
  },
  {
   "cell_type": "code",
   "execution_count": 53,
   "id": "fcfa7086-1096-44ae-9aaf-f512a321bfad",
   "metadata": {},
   "outputs": [
    {
     "data": {
      "text/plain": [
       "array([[ 6,  7,  6],\n",
       "       [ 8,  9,  7],\n",
       "       [13,  6, 11]])"
      ]
     },
     "execution_count": 53,
     "metadata": {},
     "output_type": "execute_result"
    }
   ],
   "source": [
    "B + 5"
   ]
  },
  {
   "cell_type": "code",
   "execution_count": 55,
   "id": "42ec4357-477a-4d43-98ad-9ba0d4221bd6",
   "metadata": {},
   "outputs": [
    {
     "data": {
      "text/plain": [
       "array([[0.16666667, 0.33333333, 0.16666667],\n",
       "       [0.5       , 0.66666667, 0.33333333],\n",
       "       [1.33333333, 0.16666667, 1.        ]])"
      ]
     },
     "execution_count": 55,
     "metadata": {},
     "output_type": "execute_result"
    }
   ],
   "source": [
    "B / 6"
   ]
  },
  {
   "cell_type": "code",
   "execution_count": 56,
   "id": "d24431af-3465-4324-b2e8-8bbc8c5ef051",
   "metadata": {},
   "outputs": [
    {
     "data": {
      "text/plain": [
       "array([1.        , 1.41421356, 1.73205081])"
      ]
     },
     "execution_count": 56,
     "metadata": {},
     "output_type": "execute_result"
    }
   ],
   "source": [
    "np.sqrt(A)"
   ]
  },
  {
   "cell_type": "markdown",
   "id": "58910847-2610-46b4-ade2-53ae5efb3125",
   "metadata": {},
   "source": [
    "### Matrix operations"
   ]
  },
  {
   "cell_type": "code",
   "execution_count": 57,
   "id": "27f29404-f246-47d1-94a8-1bed2a14b259",
   "metadata": {},
   "outputs": [
    {
     "data": {
      "text/plain": [
       "array([[2, 4, 4],\n",
       "       [4, 6, 5],\n",
       "       [9, 3, 9]])"
      ]
     },
     "execution_count": 57,
     "metadata": {},
     "output_type": "execute_result"
    }
   ],
   "source": [
    "A + B"
   ]
  },
  {
   "cell_type": "code",
   "execution_count": 58,
   "id": "13da6775-ad80-4253-89d9-4f3be56b6dfa",
   "metadata": {},
   "outputs": [
    {
     "data": {
      "text/plain": [
       "array([[ 1,  4,  3],\n",
       "       [ 3,  8,  6],\n",
       "       [ 8,  2, 18]])"
      ]
     },
     "execution_count": 58,
     "metadata": {},
     "output_type": "execute_result"
    }
   ],
   "source": [
    "# element-wise multiplication\n",
    "A * B"
   ]
  },
  {
   "cell_type": "code",
   "execution_count": 59,
   "id": "aa92ef2d-ce89-446f-9d8c-2a5c6c37905b",
   "metadata": {},
   "outputs": [
    {
     "data": {
      "text/plain": [
       "array([ 8, 17, 28])"
      ]
     },
     "execution_count": 59,
     "metadata": {},
     "output_type": "execute_result"
    }
   ],
   "source": [
    "# dot product\n",
    "B.dot(A)"
   ]
  },
  {
   "cell_type": "code",
   "execution_count": 60,
   "id": "52e4092e-76b4-4e74-951b-072316c3f181",
   "metadata": {},
   "outputs": [
    {
     "data": {
      "text/plain": [
       "array([[1, 3, 8],\n",
       "       [2, 4, 1],\n",
       "       [1, 2, 6]])"
      ]
     },
     "execution_count": 60,
     "metadata": {},
     "output_type": "execute_result"
    }
   ],
   "source": [
    "# trasposing a mtrix\n",
    "B.T"
   ]
  },
  {
   "cell_type": "code",
   "execution_count": 61,
   "id": "808c76c6-f048-4e27-9a9d-da394a7d1e7d",
   "metadata": {},
   "outputs": [
    {
     "data": {
      "text/plain": [
       "array([[1, 2, 1],\n",
       "       [3, 4, 2],\n",
       "       [8, 1, 6]])"
      ]
     },
     "execution_count": 61,
     "metadata": {},
     "output_type": "execute_result"
    }
   ],
   "source": [
    "B"
   ]
  },
  {
   "cell_type": "code",
   "execution_count": 62,
   "id": "1d02585a-835b-4e59-9109-03a0e793463e",
   "metadata": {},
   "outputs": [
    {
     "data": {
      "text/plain": [
       "array([[-2.00000000e+00,  1.00000000e+00, -4.68375339e-17],\n",
       "       [ 1.81818182e-01,  1.81818182e-01, -9.09090909e-02],\n",
       "       [ 2.63636364e+00, -1.36363636e+00,  1.81818182e-01]])"
      ]
     },
     "execution_count": 62,
     "metadata": {},
     "output_type": "execute_result"
    }
   ],
   "source": [
    "# inverse of a matrix\n",
    "np.linalg.inv(B)"
   ]
  },
  {
   "cell_type": "code",
   "execution_count": 63,
   "id": "91c51405-1050-49b8-a615-0941a3038add",
   "metadata": {},
   "outputs": [],
   "source": [
    "# matrix qr decomposition\n",
    "Q,R = np.linalg.qr(B)"
   ]
  },
  {
   "cell_type": "code",
   "execution_count": null,
   "id": "6bf63c9b-26e5-4a04-8129-3ac098a44c65",
   "metadata": {},
   "outputs": [],
   "source": []
  }
 ],
 "metadata": {
  "kernelspec": {
   "display_name": "Python 3 (ipykernel)",
   "language": "python",
   "name": "python3"
  },
  "language_info": {
   "codemirror_mode": {
    "name": "ipython",
    "version": 3
   },
   "file_extension": ".py",
   "mimetype": "text/x-python",
   "name": "python",
   "nbconvert_exporter": "python",
   "pygments_lexer": "ipython3",
   "version": "3.9.12"
  },
  "vscode": {
   "interpreter": {
    "hash": "916dbcbb3f70747c44a77c7bcd40155683ae19c65e1c03b4aa3499c5328201f1"
   }
  }
 },
 "nbformat": 4,
 "nbformat_minor": 5
}
